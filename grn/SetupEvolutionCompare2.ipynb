{
 "cells": [
  {
   "cell_type": "code",
   "execution_count": 1,
   "metadata": {},
   "outputs": [],
   "source": [
    "import os\n",
    "os.environ[\"XLA_PYTHON_CLIENT_MEM_FRACTION\"] = \".10\""
   ]
  },
  {
   "cell_type": "code",
   "execution_count": 2,
   "metadata": {},
   "outputs": [],
   "source": [
    "import pandas as pd\n",
    "from model import Brain\n",
    "from submodels import factories\n",
    "import matplotlib.pyplot as plt\n",
    "import pandas as pd\n",
    "from itertools import accumulate\n",
    "import numpy as np\n",
    "from collections import defaultdict\n",
    "import re\n",
    "\n",
    "from lib.sde.grn2 import GRNMain2\n",
    "from lib.sde.mutate import mutate_grn2\n",
    "from lib.ga.utils import weighted_selection\n",
    "from lib.ga.objective import Objective\n",
    "from jf.profiler import Profiler\n",
    "from jf.utils.export import Exporter\n",
    "from jf.autocompute.jf import O\n",
    "from jf.models.stringmodel import read_model\n",
    "\n",
    "from lib.sde.gene3 import ParamGene3\n",
    "from collections import Counter"
   ]
  },
  {
   "cell_type": "code",
   "execution_count": 3,
   "metadata": {},
   "outputs": [],
   "source": [
    "sm = read_model(\"generation\")"
   ]
  },
  {
   "cell_type": "code",
   "execution_count": 4,
   "metadata": {},
   "outputs": [],
   "source": [
    "class Solution:\n",
    "    def __init__(self, grn):\n",
    "        self.grn = grn\n",
    "        \n",
    "    def copy(self):\n",
    "        return Solution(self.grn.copy())\n",
    "        \n",
    "    def mutate(self):\n",
    "        mutate_grn2(self.grn)"
   ]
  },
  {
   "cell_type": "code",
   "execution_count": 5,
   "metadata": {},
   "outputs": [],
   "source": [
    "def get_bb(grn):\n",
    "    ccls = factories[\"grn3\"](grn=grn)\n",
    "    bb = Brain(time_step=0.5, verbose=False, start_population=5, max_pop_size=1e3,\n",
    "            cell_cls=ccls, end_time=70, start_time=50, silent=True, record_population=True)\n",
    "    return bb"
   ]
  },
  {
   "cell_type": "code",
   "execution_count": 6,
   "metadata": {},
   "outputs": [],
   "source": [
    "def run_grn(prun, grn):\n",
    "    get_bb(prun, grn)\n",
    "    bb.run()\n",
    "    return bb"
   ]
  },
  {
   "cell_type": "code",
   "execution_count": 7,
   "metadata": {},
   "outputs": [
    {
     "name": "stdout",
     "output_type": "stream",
     "text": [
      "Exporting at output/objective_0.25_g7_v5\n"
     ]
    }
   ],
   "source": [
    "exporter = Exporter(name=\"objective_0.25_g7_v5\")"
   ]
  },
  {
   "cell_type": "code",
   "execution_count": 8,
   "metadata": {},
   "outputs": [],
   "source": [
    "all_generations = {int(sm.extract(x)[\"generation\"]): exporter.load(x) for x in list(filter(sm.match, exporter.list()))}"
   ]
  },
  {
   "cell_type": "code",
   "execution_count": 16,
   "metadata": {},
   "outputs": [],
   "source": [
    "def get_diff_grn(grn_a, grn_b):\n",
    "    return list(zip(*np.where(~np.isclose(grn_a._params, grn_b._params))))"
   ]
  },
  {
   "cell_type": "code",
   "execution_count": 17,
   "metadata": {},
   "outputs": [
    {
     "data": {
      "text/plain": [
       "[3, 6]"
      ]
     },
     "execution_count": 17,
     "metadata": {},
     "output_type": "execute_result"
    }
   ],
   "source": [
    "grn_a = all_generations[5][\"solution\"][0].grn\n",
    "grn_b = all_generations[5][\"solution\"][4].grn\n",
    "\n",
    "def get_diff_grn_trees(grn_a, grn_b):\n",
    "    return [i for i, (t_a, t_b) in enumerate(zip(grn_a.genes, grn_b.genes)) if repr(t_a.tree) != repr(t_b.tree)]\n",
    "\n",
    "get_diff_grn_trees(grn_a, grn_b)"
   ]
  },
  {
   "cell_type": "code",
   "execution_count": 91,
   "metadata": {},
   "outputs": [],
   "source": [
    "# fitness match\n",
    "def one_delta_fitness(all_generations, generation, min_diff=1., only_pos=False, only_neg=False):\n",
    "    grns_begin = all_generations[generation][\"solution\"]\n",
    "    fitness_begin = all_generations[generation + 1][\"fitness\"]\n",
    "    transition = all_generations[generation + 1][\"transition\"]\n",
    "    grns_end = all_generations[generation + 1][\"solution\"]\n",
    "    fitness_end = all_generations[generation + 2][\"fitness\"]\n",
    "\n",
    "    # matching\n",
    "    ls_matches = []\n",
    "    for i, prev_id in enumerate(transition):\n",
    "        if prev_id == -1:\n",
    "            continue\n",
    "        grn_a = grns_begin[prev_id].grn\n",
    "        grn_b = grns_end[i].grn\n",
    "        delta_fitness = fitness_end[i] - fitness_begin[prev_id]\n",
    "        diff = get_diff_grn(grn_a, grn_b)\n",
    "        tree_diff = get_diff_grn_trees(grn_a, grn_b) \n",
    "        for x in diff:\n",
    "            if abs(delta_fitness) < min_diff:\n",
    "                continue\n",
    "            if only_pos and delta_fitness < 0:\n",
    "                continue\n",
    "            if only_neg and delta_fitness > 0:\n",
    "                continue\n",
    "            ls_matches.append((\n",
    "                grn_a._params[x], grn_b._params[x], ParamGene3[x[0]], x[1], delta_fitness\n",
    "            ))\n",
    "            \n",
    "        for x in tree_diff:\n",
    "            if abs(delta_fitness) < min_diff:\n",
    "                continue\n",
    "            if only_pos and delta_fitness < 0:\n",
    "                continue\n",
    "            if only_neg and delta_fitness > 0:\n",
    "                continue\n",
    "            ls_matches.append((\n",
    "                grn_a.genes[x].tree, grn_b.genes[x].tree, \"tree\", x, delta_fitness\n",
    "            ))\n",
    "    \n",
    "    return ls_matches"
   ]
  },
  {
   "cell_type": "code",
   "execution_count": 21,
   "metadata": {},
   "outputs": [],
   "source": [
    "def print_matches(matches):\n",
    "    for match in matches:\n",
    "        if match[2] == \"tree\":\n",
    "            print(\"{} -> {} for {}_{} : {:.3f}\".format(*match))\n",
    "        else:\n",
    "            print(\"{:.3f} -> {:.3f} for {}_{} : {:.3f}\".format(*match))"
   ]
  },
  {
   "cell_type": "code",
   "execution_count": null,
   "metadata": {},
   "outputs": [],
   "source": [
    "grns_begin = all_generations[generation][\"solution\"]\n",
    "fitness_begin = all_generations[generation + 1][\"fitness\"]\n",
    "transition = all_generations[generation + 1][\"transition\"]\n",
    "grns_end = all_generations[generation + 1][\"solution\"]\n",
    "fitness_end = all_generations[generation + 2][\"fitness\"]"
   ]
  },
  {
   "cell_type": "code",
   "execution_count": 32,
   "metadata": {},
   "outputs": [],
   "source": [
    "def get_fitness_at(all_generations, generation, index):\n",
    "    \"\"\"Generation of the solution, therefore corrected\"\"\"\n",
    "    return all_generations[generation + 1][\"fitness\"][index]\n",
    "\n",
    "def get_transition(all_generations, from_, to_, index):\n",
    "    assert from_ - 1 == to_\n",
    "    return all_generations[from_][\"transition\"][index]\n",
    "\n",
    "def get_grn_at(all_generations, generation, index):\n",
    "    return all_generations[generation][\"solution\"][index].grn"
   ]
  },
  {
   "cell_type": "code",
   "execution_count": 37,
   "metadata": {},
   "outputs": [],
   "source": [
    "max_gen = 10\n",
    "fit = all_generations[max_gen][\"fitness\"]\n",
    "idx = fit.index(max(fit))\n",
    "sols = [(all_generations[max_gen - 1][\"solution\"][idx], 0)]\n",
    "for i in range(1, max_gen - 1):\n",
    "    trans = all_generations[max_gen - i][\"transition\"]\n",
    "    idx = trans[idx]\n",
    "    new_fit = all_generations[max_gen - i][\"fitness\"][idx]\n",
    "    delta_fit = fit - new_fit\n",
    "    fit = new_fit\n",
    "    if idx == -1:\n",
    "        print(\"-1 found\")\n",
    "        break\n",
    "    sols.append((all_generations[max_gen - i - 1][\"solution\"][idx].grn, delta_fit))\n",
    "sols = sols[::-1]"
   ]
  },
  {
   "cell_type": "code",
   "execution_count": 47,
   "metadata": {},
   "outputs": [],
   "source": [
    "max_gen = 70\n",
    "fit = all_generations[max_gen + 1][\"fitness\"]\n",
    "idx = fit.index(max(fit))\n",
    "sols = []\n",
    "\n",
    "for i in range(max_gen, 1, -1):\n",
    "    grn = get_grn_at(all_generations, i, idx)\n",
    "    trans = get_transition(all_generations, i, i - 1, idx)\n",
    "    if trans == -1:\n",
    "        print(\"-1 found\")\n",
    "        break\n",
    "    new_fit = get_fitness_at(all_generations, i - 1, trans)\n",
    "    sols.append((grn, fit - new_fit, fit))\n",
    "    fit = new_fit\n",
    "    idx = trans\n",
    "sols = sols[::-1]"
   ]
  },
  {
   "cell_type": "code",
   "execution_count": 48,
   "metadata": {},
   "outputs": [],
   "source": [
    "def get_summary_transition(grn_a, grn_b, delta_fit=0):\n",
    "    ls_matches = []\n",
    "    diff = get_diff_grn(grn_a, grn_b)\n",
    "    tree_diff = get_diff_grn_trees(grn_a, grn_b) \n",
    "    for x in diff:\n",
    "        ls_matches.append((\n",
    "            grn_a._params[x], grn_b._params[x], ParamGene3[x[0]], x[1], delta_fit\n",
    "        ))\n",
    "\n",
    "    for x in tree_diff:\n",
    "        ls_matches.append((\n",
    "            grn_a.genes[x].tree, grn_b.genes[x].tree, \"tree\", x, delta_fit\n",
    "        ))\n",
    "    return ls_matches"
   ]
  },
  {
   "cell_type": "code",
   "execution_count": 49,
   "metadata": {},
   "outputs": [
    {
     "name": "stdout",
     "output_type": "stream",
     "text": [
      "\tT0 -> 1 : 1.5520041719722122\n",
      "6.242 -> 7.416 for deg_1 : -0.439\n",
      "\tT1 -> 2 : 1.112908681982816\n",
      "(((5 AND 6) OR 4) AND 1) -> ((6 OR 4) AND 1) for tree_0 : 0.776\n",
      "\tT2 -> 3 : 1.8885931230636694\n",
      "7.833 -> 8.113 for noise_4 : -0.262\n",
      "\tT3 -> 4 : 1.6264379421915813\n",
      "0.162 -> 0.764 for init_6 : -0.323\n",
      "8.925 -> 5.702 for expr_1 : -0.323\n",
      "4.760 -> 7.515 for expr_5 : -0.323\n",
      "\tT4 -> 5 : 1.3034632220822766\n",
      "((1 AND 0) AND 3) -> ((1 AND 5) AND 3) for tree_6 : 0.379\n",
      "\tT5 -> 6 : 1.6820288169020392\n",
      "4.355 -> 4.264 for noise_6 : 0.455\n",
      "(NOT (0 OR 1) OR 5) -> NOT (0 OR 1) for tree_2 : 0.455\n",
      "NOT (NOT 2 OR (5 AND 0)) -> NOT (NOT 2 OR (5 AND (0 OR 4))) for tree_5 : 0.455\n",
      "\tT6 -> 7 : 2.1374808348171914\n",
      "5 -> (5 OR 2) for tree_4 : -0.368\n",
      "\tT7 -> 8 : 1.7694827623049372\n",
      "5.702 -> 7.482 for expr_1 : -0.301\n",
      "\tT8 -> 9 : 1.4683052762540127\n",
      "7.260 -> 3.359 for noise_0 : 1.394\n",
      "9.708 -> 5.776 for b_3 : 1.394\n",
      "7.416 -> 1.108 for deg_1 : 1.394\n",
      "NOT (0 OR 1) -> NOT 1 for tree_2 : 1.394\n",
      "(NOT NOT 1 AND (2 AND NOT 6)) -> (NOT NOT 4 AND (2 AND NOT 6)) for tree_3 : 1.394\n",
      "((1 AND 5) AND 3) -> ((1 AND 2) AND 3) for tree_6 : 1.394\n",
      "\tT9 -> 10 : 2.8626951501161715\n",
      "0.764 -> 2.598 for init_6 : 1.556\n",
      "3.758 -> 4.964 for b_4 : 1.556\n",
      "\tT10 -> 11 : 4.418316910854735\n",
      "8.177 -> 2.675 for noise_3 : -0.008\n",
      "4.957 -> 7.602 for theta_5 : -0.008\n",
      "((6 OR 4) AND 1) -> (((6 OR 3) OR 4) AND 1) for tree_0 : -0.008\n",
      "NOT (NOT 2 OR (5 AND (0 OR 4))) -> NOT (NOT 2 OR (6 AND (0 OR 4))) for tree_5 : -0.008\n",
      "\tT11 -> 12 : 4.410175204393669\n",
      "(((6 OR 3) OR 4) AND 1) -> (((5 OR 3) OR 4) AND 1) for tree_0 : -1.239\n",
      "(5 OR 2) -> ((5 OR 6) OR 2) for tree_4 : -1.239\n",
      "\tT12 -> 13 : 3.1716242030314055\n",
      "7.633 -> 6.258 for noise_2 : 1.425\n",
      "\tT13 -> 14 : 4.596813578880731\n",
      "((1 AND 2) AND 3) -> (1 AND 2) for tree_6 : -2.053\n",
      "\tT14 -> 15 : 2.543878704443886\n",
      "9.002 -> 9.089 for b_0 : 2.201\n",
      "\tT15 -> 16 : 4.74470738512817\n",
      "7.829 -> 8.136 for deg_6 : 1.138\n",
      "(1 AND 2) -> 2 for tree_6 : 1.138\n",
      "\tT16 -> 17 : 5.882470300500575\n",
      "4.964 -> 7.065 for b_4 : -1.904\n",
      "2 -> 4 for tree_6 : -1.904\n",
      "\tT17 -> 18 : 3.9784995752064027\n",
      "2.192 -> 2.945 for init_2 : 3.177\n",
      "4.623 -> 3.843 for b_2 : 3.177\n",
      "\tT18 -> 19 : 7.155886383079308\n",
      "6.406 -> 3.160 for m_5 : -2.468\n",
      "\tT19 -> 20 : 4.688181005147983\n",
      "\tT20 -> 21 : 3.8578592575266275\n",
      "\tT21 -> 22 : 4.382356206659036\n",
      "\tT22 -> 23 : 3.7550939350208257\n",
      "NOT (NOT 2 OR (6 AND (0 OR 4))) -> NOT (NOT 3 OR (6 AND (0 OR 4))) for tree_5 : 0.449\n",
      "\tT23 -> 24 : 4.203785951370431\n",
      "NOT 1 -> NOT 2 for tree_2 : 0.720\n",
      "(NOT NOT 4 AND (2 AND NOT 6)) -> (NOT NOT 3 AND (2 AND NOT 6)) for tree_3 : 0.720\n",
      "\tT24 -> 25 : 4.923915381086719\n",
      "((5 OR 6) OR 2) -> (5 OR 2) for tree_4 : -0.266\n",
      "\tT25 -> 26 : 4.657601851287407\n",
      "NOT (NOT 3 OR (6 AND (0 OR 4))) -> NOT (NOT 3 OR (6 AND 4)) for tree_5 : -1.313\n",
      "\tT26 -> 27 : 3.3444891195754862\n",
      "6.258 -> 7.402 for noise_2 : 0.675\n",
      "3.312 -> 3.820 for expr_6 : 0.675\n",
      "(NOT NOT 3 AND (2 AND NOT 6)) -> (NOT NOT 3 AND (5 AND NOT 6)) for tree_3 : 0.675\n",
      "\tT27 -> 28 : 4.0199754627501445\n",
      "7.602 -> 4.731 for theta_5 : 1.258\n",
      "\tT28 -> 29 : 5.2777209636834215\n",
      "5.708 -> 8.405 for b_6 : -0.607\n",
      "7.515 -> 3.465 for expr_5 : -0.607\n",
      "4 -> 1 for tree_6 : -0.607\n",
      "\tT29 -> 30 : 4.670666519441363\n",
      "8.113 -> 4.225 for noise_4 : -0.472\n",
      "\tT30 -> 31 : 4.198233089971573\n",
      "\tT31 -> 32 : 4.413312912128281\n",
      "1 -> 0 for tree_6 : -1.288\n",
      "\tT32 -> 33 : 3.12500995212496\n",
      "7.759 -> 1.886 for m_2 : 1.871\n",
      "(((5 OR 3) OR 4) AND 1) -> (((5 OR (3 OR 0)) OR 4) AND 1) for tree_0 : 1.871\n",
      "\tT33 -> 34 : 4.996106951826427\n",
      "7.482 -> 8.309 for expr_1 : 0.531\n",
      "\tT34 -> 35 : 5.527385980793594\n",
      "9.089 -> 2.278 for b_0 : -0.661\n",
      "\tT35 -> 36 : 4.866110108785059\n",
      "NOT (NOT 3 OR (6 AND 4)) -> NOT (NOT 3 OR (5 AND 4)) for tree_5 : 3.809\n",
      "\tT36 -> 37 : 8.674777103527532\n",
      "6.886 -> 9.953 for m_6 : -5.357\n",
      "\tT37 -> 38 : 3.3180591818990264\n",
      "4.225 -> 6.234 for noise_4 : 3.292\n",
      "\tT38 -> 39 : 6.609820005845207\n",
      "8.405 -> 1.479 for b_6 : 2.131\n",
      "\tT39 -> 40 : 8.740533431441884\n",
      "1 -> (1 AND 6) for tree_1 : -0.367\n",
      "\tT40 -> 41 : 8.373890453127299\n",
      "(5 OR 2) -> 5 for tree_4 : -1.699\n",
      "\tT41 -> 42 : 6.6751087180949105\n",
      "0.629 -> 6.177 for expr_2 : -1.347\n",
      "NOT (NOT 3 OR (5 AND 4)) -> NOT (NOT 3 OR (5 AND 1)) for tree_5 : -1.347\n",
      "\tT42 -> 43 : 5.327926283772168\n",
      "3.640 -> 7.864 for m_4 : -1.161\n",
      "2.381 -> 5.973 for theta_3 : -1.161\n",
      "\tT43 -> 44 : 4.166631069338075\n",
      "3.714 -> 8.573 for deg_4 : -0.171\n",
      "8.136 -> 2.055 for deg_6 : -0.171\n",
      "\tT44 -> 45 : 3.9953327340620115\n",
      "0.995 -> 4.455 for theta_0 : 1.470\n",
      "\tT45 -> 46 : 5.465347628113381\n",
      "2.055 -> 9.494 for deg_6 : 1.290\n",
      "\tT46 -> 47 : 6.755046564622767\n",
      "5 -> NOT 5 for tree_4 : -1.689\n",
      "\tT47 -> 48 : 5.066499848268046\n",
      "\tT48 -> 49 : 2.717758184029932\n",
      "3.359 -> 1.154 for noise_0 : 2.265\n",
      "\tT49 -> 50 : 4.983086407484641\n",
      "0 -> NOT 0 for tree_6 : 2.539\n",
      "\tT50 -> 51 : 7.521801582147274\n",
      "8.306 -> 3.556 for deg_5 : -2.704\n",
      "NOT 5 -> NOT 0 for tree_4 : -2.704\n",
      "NOT 0 -> NOT (0 OR 6) for tree_6 : -2.704\n",
      "\tT51 -> 52 : 4.817757049938843\n",
      "NOT (NOT 3 OR (5 AND 1)) -> NOT (NOT 3 OR 5) for tree_5 : -2.090\n",
      "NOT (0 OR 6) -> NOT (0 OR 4) for tree_6 : -2.090\n",
      "\tT52 -> 53 : 2.728214076049835\n",
      "4.264 -> 1.202 for noise_6 : 2.894\n",
      "8.573 -> 0.648 for deg_4 : 2.894\n",
      "\tT53 -> 54 : 5.6219135332267145\n",
      "9.494 -> 3.617 for deg_6 : -3.728\n",
      "\tT54 -> 55 : 1.8938137062379883\n",
      "3.160 -> 3.672 for m_5 : 2.991\n",
      "1.720 -> 9.609 for expr_4 : 2.991\n",
      "3.852 -> 5.704 for deg_2 : 2.991\n",
      "\tT55 -> 56 : 4.884679546516946\n",
      "(((5 OR (3 OR 0)) OR 4) AND 1) -> (((5 OR (6 OR 0)) OR 4) AND 1) for tree_0 : 3.592\n",
      "NOT 0 -> NOT (0 AND 2) for tree_4 : 3.592\n",
      "\tT56 -> 57 : 8.47618592742877\n",
      "NOT (NOT 3 OR 5) -> NOT NOT 3 for tree_5 : -3.173\n",
      "\tT57 -> 58 : 5.302948524947942\n",
      "3.617 -> 0.474 for deg_6 : 3.322\n",
      "(((5 OR (6 OR 0)) OR 4) AND 1) -> (((5 OR (3 OR 0)) OR 4) AND 1) for tree_0 : 3.322\n",
      "\tT58 -> 59 : 8.62445978828544\n",
      "3.556 -> 0.797 for deg_5 : -3.767\n",
      "(1 AND 6) -> 1 for tree_1 : -3.767\n",
      "\tT59 -> 60 : 4.856989978363094\n",
      "3.672 -> 1.208 for m_5 : -3.553\n",
      "\tT60 -> 61 : 1.303939007129197\n",
      "4.735 -> 5.453 for theta_4 : 7.115\n",
      "(((5 OR (3 OR 0)) OR 4) AND 1) -> (((5 OR ((3 OR 0) OR 6)) OR 4) AND 1) for tree_0 : 7.115\n",
      "(NOT NOT 3 AND (5 AND NOT 6)) -> (NOT NOT 3 AND (5 AND NOT 1)) for tree_3 : 7.115\n",
      "\tT61 -> 62 : 8.418925356208081\n",
      "NOT (0 OR 4) -> (NOT (0 OR 4) AND 2) for tree_6 : -0.632\n",
      "\tT62 -> 63 : 7.786833090927816\n",
      "0.440 -> 2.124 for init_4 : -3.216\n",
      "7.954 -> 0.106 for theta_2 : -3.216\n",
      "(NOT NOT 3 AND (5 AND NOT 1)) -> (NOT NOT 3 AND (NOT 5 AND NOT 1)) for tree_3 : -3.216\n",
      "\tT63 -> 64 : 4.571054368717675\n",
      "(NOT NOT 3 AND (NOT 5 AND NOT 1)) -> (NOT NOT 3 AND (NOT 6 AND NOT 1)) for tree_3 : -2.406\n",
      "\tT64 -> 65 : 2.1652256588981325\n",
      "(((5 OR ((3 OR 0) OR 6)) OR 4) AND 1) -> (((5 OR (((3 OR 0) OR 6) OR 2)) OR 4) AND 1) for tree_0 : 3.793\n",
      "\tT65 -> 66 : 5.957912178517755\n",
      "3.843 -> 6.872 for b_2 : 2.560\n",
      "\tT66 -> 67 : 8.51836191976431\n",
      "7.864 -> 4.640 for m_4 : -2.423\n",
      "NOT NOT 3 -> NOT NOT 6 for tree_5 : -2.423\n"
     ]
    }
   ],
   "source": [
    "for i in range(len(sols) - 2):\n",
    "    print(f\"\\tT{i} -> {i+1} : {sols[i][2]}\")\n",
    "    print_matches(get_summary_transition(sols[i][0], sols[i+1][0], sols[i+1][1]))"
   ]
  },
  {
   "cell_type": "code",
   "execution_count": 45,
   "metadata": {},
   "outputs": [
    {
     "data": {
      "text/plain": [
       "(>> G_0: init: 0.52; noise: 7.26; b: 3.62; m: 1.17; expr: 9.09; deg: 0.16; theta: 1.00; tree : ((((5 AND 6) AND 3) OR 4) AND 1)\n",
       " >> G_1: init: 0.50; noise: 4.34; b: 2.45; m: 5.39; expr: 8.92; deg: 3.29; theta: 4.61; tree : 1\n",
       " >> G_2: init: 2.19; noise: 7.63; b: 4.62; m: 7.76; expr: 0.63; deg: 3.85; theta: 7.95; tree : ((NOT 1 AND 0) OR 5)\n",
       " >> G_3: init: 0.02; noise: 8.18; b: 9.71; m: 4.60; expr: 9.20; deg: 7.70; theta: 2.38; tree : (NOT NOT 1 AND NOT 4)\n",
       " >> G_4: init: 0.44; noise: 2.42; b: 3.76; m: 2.77; expr: 1.72; deg: 3.71; theta: 5.17; tree : 5\n",
       " >> G_5: init: 0.67; noise: 3.06; b: 5.08; m: 6.41; expr: 4.76; deg: 8.31; theta: 4.96; tree : ((NOT 2 OR 6) OR ((5 AND (1 OR 4)) OR 3))\n",
       " >> G_6: init: 0.16; noise: 4.35; b: 8.11; m: 6.89; expr: 3.31; deg: 7.83; theta: 0.71; tree : ((1 AND 2) AND 6),\n",
       " array([-1.65117237, -0.13904795, -0.30589578, -0.35227673, -1.63407464,\n",
       "        -0.05234554, -1.65083686, -1.18115761, -0.69047206, -0.05769425,\n",
       "        -1.22273442, -0.07353205, -0.2640596 , -0.07970093, -0.42972613,\n",
       "        -0.50869689,  0.39015707, -1.29332253,  0.57571561, -0.4719864 ,\n",
       "        -0.64295061, -1.14782601,  0.17877505, -0.10706262, -0.92941409,\n",
       "        -1.08689041,  0.18162716, -0.31705461, -0.38810417,  0.3092532 ,\n",
       "        -0.95584155, -0.41517453, -0.29597407, -0.29734827, -0.22711731,\n",
       "        -1.64987467, -1.29592142, -1.30063632,  0.2529261 , -0.09480755,\n",
       "        -1.05899911,  0.12380201,  0.18903382, -0.25291474, -0.45530554,\n",
       "        -1.644046  , -1.06931543, -0.18053989, -0.71560584, -0.10748044]),\n",
       " (0.04425021570405089,\n",
       "  1.5563746372365568,\n",
       "  1.3895268071800517,\n",
       "  1.3431458544518708,\n",
       "  0.06134794687087874,\n",
       "  1.6430770535498167,\n",
       "  0.04458572796313411,\n",
       "  0.5142649752231648,\n",
       "  1.004950524407718,\n",
       "  1.6377283421769182,\n",
       "  0.47268816616223375,\n",
       "  1.6218905435356035,\n",
       "  1.431362987864621,\n",
       "  1.615721660153573,\n",
       "  1.265696456397845,\n",
       "  1.186725702270481,\n",
       "  2.085579658157711,\n",
       "  0.40210005538149934,\n",
       "  2.2711381978622196,\n",
       "  1.2234361911365896,\n",
       "  1.0524719756653418,\n",
       "  0.5475965807521183,\n",
       "  1.8741976342861033,\n",
       "  1.5883599679087812,\n",
       "  0.7660085000366876,\n",
       "  0.6085321736918643,\n",
       "  1.8770497532013972,\n",
       "  1.3783679791933685,\n",
       "  1.3073184221924623,\n",
       "  2.004675788669559,\n",
       "  0.7395810408744836,\n",
       "  1.280248058514751,\n",
       "  1.399448517676722,\n",
       "  1.3980743176345738,\n",
       "  1.4683052762540127,\n",
       "  0.0455479170056146,\n",
       "  0.39950117329692814,\n",
       "  0.3947862677663998,\n",
       "  1.9483486902860097,\n",
       "  1.6006150410295443,\n",
       "  0.6364234797719864,\n",
       "  1.8192246035418993,\n",
       "  1.884456412053875,\n",
       "  1.442507849009406,\n",
       "  1.2401170512638333,\n",
       "  0.0513765857413847,\n",
       "  0.6261071565485041,\n",
       "  1.514882697519669,\n",
       "  0.9798167512871376,\n",
       "  1.5879421528881073))"
      ]
     },
     "execution_count": 45,
     "metadata": {},
     "output_type": "execute_result"
    }
   ],
   "source": [
    "sols[8]"
   ]
  },
  {
   "cell_type": "code",
   "execution_count": 18,
   "metadata": {},
   "outputs": [
    {
     "data": {
      "text/plain": [
       "[(2, 6)]"
      ]
     },
     "execution_count": 18,
     "metadata": {},
     "output_type": "execute_result"
    }
   ],
   "source": [
    "get_diff_grn(sols[0], sols[1])"
   ]
  },
  {
   "cell_type": "code",
   "execution_count": 15,
   "metadata": {},
   "outputs": [
    {
     "data": {
      "text/plain": [
       ">> G_0: init: 0.52; noise: 7.26; b: 9.00; m: 1.17; expr: 9.09; deg: 0.16; theta: 1.00; tree : (((5 AND 6) OR 4) AND 1)\n",
       ">> G_1: init: 0.50; noise: 4.34; b: 2.45; m: 5.39; expr: 8.92; deg: 6.24; theta: 4.61; tree : 1\n",
       ">> G_2: init: 2.19; noise: 7.63; b: 4.62; m: 7.76; expr: 0.63; deg: 3.85; theta: 7.95; tree : (NOT (0 OR 1) OR 5)\n",
       ">> G_3: init: 0.82; noise: 8.18; b: 9.71; m: 4.60; expr: 9.20; deg: 7.70; theta: 2.38; tree : (NOT NOT 1 AND (2 AND NOT 6))\n",
       ">> G_4: init: 0.44; noise: 7.83; b: 3.76; m: 3.64; expr: 1.72; deg: 3.71; theta: 4.74; tree : 5\n",
       ">> G_5: init: 0.67; noise: 3.06; b: 5.08; m: 6.41; expr: 4.76; deg: 8.31; theta: 4.96; tree : NOT (NOT 2 OR (5 AND 0))\n",
       ">> G_6: init: 0.16; noise: 4.35; b: 5.71; m: 6.89; expr: 3.31; deg: 7.83; theta: 0.71; tree : ((1 AND 0) AND 3)"
      ]
     },
     "execution_count": 15,
     "metadata": {},
     "output_type": "execute_result"
    }
   ],
   "source": [
    "sols[1]"
   ]
  },
  {
   "cell_type": "code",
   "execution_count": 19,
   "metadata": {},
   "outputs": [
    {
     "data": {
      "text/plain": [
       ">> G_0: init: 0.52; noise: 7.26; b: 9.00; m: 1.17; expr: 9.09; deg: 0.16; theta: 1.00; tree : (((5 AND 6) OR 4) AND 1)\n",
       ">> G_1: init: 0.50; noise: 4.34; b: 2.45; m: 5.39; expr: 8.92; deg: 6.24; theta: 4.61; tree : 1\n",
       ">> G_2: init: 2.19; noise: 7.63; b: 4.62; m: 7.76; expr: 0.63; deg: 3.85; theta: 7.95; tree : (NOT (0 OR 1) OR 5)\n",
       ">> G_3: init: 0.82; noise: 8.18; b: 9.71; m: 4.60; expr: 9.20; deg: 7.70; theta: 2.38; tree : (NOT NOT 1 AND (2 AND NOT 6))\n",
       ">> G_4: init: 0.44; noise: 7.83; b: 3.76; m: 3.64; expr: 1.72; deg: 3.71; theta: 4.74; tree : 5\n",
       ">> G_5: init: 0.67; noise: 3.06; b: 5.08; m: 6.41; expr: 4.76; deg: 8.31; theta: 4.96; tree : NOT (NOT 2 OR (5 AND 0))\n",
       ">> G_6: init: 0.16; noise: 4.35; b: 8.11; m: 6.89; expr: 3.31; deg: 7.83; theta: 0.71; tree : ((1 AND 2) AND 3)"
      ]
     },
     "execution_count": 19,
     "metadata": {},
     "output_type": "execute_result"
    }
   ],
   "source": [
    "sols[0]"
   ]
  },
  {
   "cell_type": "code",
   "execution_count": null,
   "metadata": {},
   "outputs": [],
   "source": []
  }
 ],
 "metadata": {
  "kernelspec": {
   "display_name": "Python 3",
   "language": "python",
   "name": "python3"
  },
  "language_info": {
   "codemirror_mode": {
    "name": "ipython",
    "version": 3
   },
   "file_extension": ".py",
   "mimetype": "text/x-python",
   "name": "python",
   "nbconvert_exporter": "python",
   "pygments_lexer": "ipython3",
   "version": "3.8.10"
  }
 },
 "nbformat": 4,
 "nbformat_minor": 4
}
