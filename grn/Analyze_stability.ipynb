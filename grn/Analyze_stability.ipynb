{
 "cells": [
  {
   "cell_type": "code",
   "execution_count": 3,
   "metadata": {},
   "outputs": [],
   "source": [
    "import matplotlib.pyplot as plt\n",
    "from lib.preprocess import preprocess_progenitor_size, preprocess_whole_size\n",
    "from lib.utils import shrink_and_align_stats\n",
    "from lib.score import REF\n",
    "from lib.analyser import show_curve, show_curve_progenitor\n",
    "from jf.utils.export import Exporter\n",
    "from jf.autocompute.jf import L\n",
    "from jf.models.stringmodel import read_model\n",
    "import os\n",
    "import numpy as np"
   ]
  },
  {
   "cell_type": "markdown",
   "metadata": {},
   "source": [
    "## Protocol\n",
    "\n",
    "..."
   ]
  },
  {
   "cell_type": "code",
   "execution_count": 4,
   "metadata": {},
   "outputs": [],
   "source": [
    "sm = read_model(\"generation\")"
   ]
  },
  {
   "cell_type": "code",
   "execution_count": 5,
   "metadata": {},
   "outputs": [],
   "source": [
    "from lib.sde.grn.grn2 import GRNMain2\n",
    "from lib.sde.mutate import mutate_grn2\n",
    "\n",
    "class Solution:\n",
    "    def __init__(self, grn):\n",
    "        self.grn = grn\n",
    "        \n",
    "    def copy(self):\n",
    "        return Solution(self.grn.copy())\n",
    "        \n",
    "    def mutate(self):\n",
    "        mutate_grn2(self.grn)"
   ]
  },
  {
   "cell_type": "code",
   "execution_count": 6,
   "metadata": {},
   "outputs": [],
   "source": [
    "def plot_max_fitness(exporter, sm):\n",
    "    ls = list(filter(sm.match, sorted(exporter.list())))\n",
    "    vals = [(int(sm.extract(x)[\"generation\"]), max(L(exporter.load(x)).fit)) for x in ls]\n",
    "    vals.sort()\n",
    "    plt.title(\"Max fitness\")\n",
    "    plt.plot(*zip(*vals))\n",
    "    plt.ylim(bottom=0)\n",
    "    \n",
    "def plot_sum_fitness(exporter, sm):\n",
    "    ls = list(filter(sm.match, sorted(exporter.list())))\n",
    "    vals = [(int(sm.extract(x)[\"generation\"]), sum(L(exporter.load(x)).fit)) for x in ls]\n",
    "    vals.sort()\n",
    "    plt.title(\"Sum fitness\")\n",
    "    plt.plot(*zip(*vals))\n",
    "    plt.ylim(bottom=0)"
   ]
  },
  {
   "cell_type": "code",
   "execution_count": 7,
   "metadata": {},
   "outputs": [],
   "source": [
    "# sm.pick_last(sorted(exporter.list()), slot=\"generation\")"
   ]
  },
  {
   "cell_type": "code",
   "execution_count": 9,
   "metadata": {},
   "outputs": [
    {
     "data": {
      "text/plain": [
       "['.ipynb_checkpoints',\n",
       " '2022-01-26',\n",
       " '2022-01-27',\n",
       " '2022-01-28',\n",
       " '2022-01-29',\n",
       " 'default',\n",
       " 'exp_stability',\n",
       " 'exp_stability_v2',\n",
       " 'logs',\n",
       " 'mutationv3_t0.5_n5_o2.0_i0',\n",
       " 'mutationv3_t0.5_n5_o2.0_i1',\n",
       " 'mutationv3_t0.5_n5_o2.0_i2',\n",
       " 'mutationv3_t0.5_n7_o2.0_i0',\n",
       " 'mutationv3_t0.5_n7_o2.0_i1',\n",
       " 'mutationv3_t0.5_n7_o2.0_i2',\n",
       " 'mutationv3_t0.5_n9_o2.0_i0',\n",
       " 'mutationv3_t0.5_n9_o2.0_i1',\n",
       " 'objective_0.25_g11_v5',\n",
       " 'objective_0.25_g7_v5',\n",
       " 'objective_0.25_g9_v5',\n",
       " 'objective_0.5_g11_v5',\n",
       " 'objective_0.5_g7_v5',\n",
       " 'objective_0.5_g9_v5',\n",
       " 'objective_1.0_g11_v5',\n",
       " 'objective_1.0_g7_v5',\n",
       " 'objective_1.0_g9_v5',\n",
       " 'result_m1_t0.5_n7_o1.5_i0',\n",
       " 'result_m1_t0.5_n7_o1.5_i1',\n",
       " 'result_m1_t0.5_n7_o1.5_i2',\n",
       " 'result_m1_t0.5_n7_o1.5_i3',\n",
       " 'result_m1_t0.5_n7_o1.5_i4',\n",
       " 'result_m3_t0.25_n7_o1.5_i0',\n",
       " 'result_m3_t0.25_n7_o1.5_i1',\n",
       " 'result_m3_t0.25_n7_o1.5_i2',\n",
       " 'result_m3_t0.25_n7_o1.5_i3',\n",
       " 'result_m3_t0.25_n7_o1.5_i4',\n",
       " 'result_m3_t0.5_n5_o1.5_i0',\n",
       " 'result_m3_t0.5_n5_o1.5_i1',\n",
       " 'result_m3_t0.5_n5_o1.5_i2',\n",
       " 'result_m3_t0.5_n5_o1.5_i3',\n",
       " 'result_m3_t0.5_n5_o1.5_i4',\n",
       " 'result_m3_t0.5_n7_o1.0_i0',\n",
       " 'result_m3_t0.5_n7_o1.0_i1',\n",
       " 'result_m3_t0.5_n7_o1.0_i2',\n",
       " 'result_m3_t0.5_n7_o1.0_i3',\n",
       " 'result_m3_t0.5_n7_o1.0_i4',\n",
       " 'result_m3_t0.5_n7_o1.5_i0',\n",
       " 'result_m3_t0.5_n7_o1.5_i1',\n",
       " 'result_m3_t0.5_n7_o1.5_i2',\n",
       " 'result_m3_t0.5_n7_o1.5_i3',\n",
       " 'result_m3_t0.5_n7_o1.5_i4',\n",
       " 'result_m3_t0.5_n7_o2.0_i0',\n",
       " 'result_m3_t0.5_n7_o2.0_i1',\n",
       " 'result_m3_t0.5_n7_o2.0_i2',\n",
       " 'result_m3_t0.5_n7_o2.0_i3',\n",
       " 'result_m3_t0.5_n7_o2.0_i4',\n",
       " 'result_m3_t0.5_n9_o1.5_i0',\n",
       " 'result_m3_t0.5_n9_o1.5_i1',\n",
       " 'result_m3_t0.5_n9_o1.5_i2',\n",
       " 'result_m3_t0.5_n9_o1.5_i3',\n",
       " 'result_m3_t0.5_n9_o1.5_i4',\n",
       " 'result_m3_t1.0_n7_o1.5_i0',\n",
       " 'result_m3_t1.0_n7_o1.5_i1',\n",
       " 'result_m3_t1.0_n7_o1.5_i2',\n",
       " 'result_m3_t1.0_n7_o1.5_i3',\n",
       " 'result_m3_t1.0_n7_o1.5_i4',\n",
       " 'result_m5_t0.5_n7_o1.5_i0',\n",
       " 'result_m5_t0.5_n7_o1.5_i1',\n",
       " 'result_m5_t0.5_n7_o1.5_i2',\n",
       " 'result_m5_t0.5_n7_o1.5_i3',\n",
       " 'result_m5_t0.5_n7_o1.5_i4',\n",
       " 'results',\n",
       " 'step1_240122',\n",
       " 'unary_evolver_t0.5_n5_o2.0_i0',\n",
       " 'unary_evolver_t0.5_n5_o2.0_i1',\n",
       " 'unary_evolver_t0.5_n5_o2.0_i2',\n",
       " 'unary_evolver_t0.5_n5_o2.0_i3',\n",
       " 'unary_evolver_t0.5_n5_o2.0_i4',\n",
       " 'unary_evolver_t0.5_n7_o2.0_i0',\n",
       " 'unary_evolver_t0.5_n7_o2.0_i1',\n",
       " 'unary_evolver_t0.5_n7_o2.0_i2',\n",
       " 'unary_evolver_t0.5_n7_o2.0_i3',\n",
       " 'unary_evolver_t0.5_n7_o2.0_i4',\n",
       " 'unary_evolver_t0.5_n9_o2.0_i0',\n",
       " 'unary_evolver_t0.5_n9_o2.0_i1',\n",
       " 'unary_evolver_t0.5_n9_o2.0_i2',\n",
       " 'unary_evolver_t0.5_n9_o2.0_i3',\n",
       " 'unary_evolver_t0.5_n9_o2.0_i4']"
      ]
     },
     "execution_count": 9,
     "metadata": {},
     "output_type": "execute_result"
    }
   ],
   "source": [
    "sorted(os.listdir(\"output/\"))"
   ]
  },
  {
   "cell_type": "code",
   "execution_count": 11,
   "metadata": {},
   "outputs": [],
   "source": [
    "def score_one(name):\n",
    "    exporter = Exporter(name=name, silent=True)\n",
    "    last_gen = sm.pick_last(exporter.list(), slot=\"generation\")\n",
    "    if last_gen is None:\n",
    "        return None\n",
    "    res = exporter.load(last_gen)\n",
    "    return max(res, key=lambda x: x.fit).fit\n",
    "\n",
    "def score_prefix(prefix, ls):\n",
    "    scores = []\n",
    "    for x in ls:\n",
    "        if not x.startswith(prefix):\n",
    "            continue\n",
    "        s = score_one(x)\n",
    "        if s is not None:\n",
    "            scores.append(s)\n",
    "    return scores"
   ]
  },
  {
   "cell_type": "code",
   "execution_count": 12,
   "metadata": {},
   "outputs": [
    {
     "name": "stderr",
     "output_type": "stream",
     "text": [
      "WARNING:absl:No GPU/TPU found, falling back to CPU. (Set TF_CPP_MIN_LOG_LEVEL=0 and rerun for more info.)\n"
     ]
    },
    {
     "name": "stdout",
     "output_type": "stream",
     "text": [
      "5 31.922032063539586 0.5295069505550147 [31.183129955105596, 32.186201725084565, 32.396764510428596]\n",
      "7 20.98450767080666 4.265037743853401 [15.057567727500961, 24.917182273111234, 22.978773011807785]\n",
      "9 11.478237344702308 3.201931119229937 [11.291381365487462, 7.653456818838231, 15.489873849781228]\n"
     ]
    }
   ],
   "source": [
    "s5 = score_prefix(\"unary_evolver_t0.5_n5_o2.0\", os.listdir(\"output/\"))\n",
    "print(\"5\", np.mean(s5), np.std(s5), s5)\n",
    "s7 = score_prefix(\"unary_evolver_t0.5_n7_o2.0\", os.listdir(\"output/\"))\n",
    "print(\"7\", np.mean(s7), np.std(s7), s7)\n",
    "s9 = score_prefix(\"unary_evolver_t0.5_n9_o2.0\", os.listdir(\"output/\"))\n",
    "print(\"9\", np.mean(s9), np.std(s9), s9)"
   ]
  },
  {
   "cell_type": "code",
   "execution_count": 23,
   "metadata": {},
   "outputs": [
    {
     "name": "stdout",
     "output_type": "stream",
     "text": [
      "5 7.041875387037014 0.5751393634332364 [7.308136639307845, 6.243157320958536, 7.57433220084466]\n",
      "7 7.253057077229532 0.37417969177267796 [7.771318623771012, 6.901355306151864, 7.086497301765723]\n",
      "9 6.768565658190284 0.8536448647301613 [7.6222105229204455, 5.914920793460123]\n"
     ]
    }
   ],
   "source": [
    "s5 = score_prefix(\"mutationv3_t0.5_n5_o2.0\", os.listdir(\"output/\"))\n",
    "print(\"5\", np.mean(s5), np.std(s5), s5)\n",
    "s7 = score_prefix(\"mutationv3_t0.5_n7_o2.0\", os.listdir(\"output/\"))\n",
    "print(\"7\", np.mean(s7), np.std(s7), s7)\n",
    "s9 = score_prefix(\"mutationv3_t0.5_n9_o2.0\", os.listdir(\"output/\"))\n",
    "print(\"9\", np.mean(s9), np.std(s9), s9)"
   ]
  },
  {
   "cell_type": "code",
   "execution_count": 30,
   "metadata": {},
   "outputs": [
    {
     "name": "stdout",
     "output_type": "stream",
     "text": [
      "Exporting at output/unary_evolver_t0.5_n5_o2.0_i0\n"
     ]
    },
    {
     "data": {
      "text/plain": [
       "['generation_g6',\n",
       " 'generation_g19',\n",
       " 'generation_g10',\n",
       " 'generation_g15',\n",
       " 'generation_g17',\n",
       " 'out',\n",
       " 'generation_g21',\n",
       " 'generation_g16',\n",
       " 'generation_g11',\n",
       " 'generation_g9',\n",
       " 'generation_g20',\n",
       " 'generation_g7',\n",
       " 'definition',\n",
       " 'generation_g4',\n",
       " 'generation_g14',\n",
       " 'generation_g13',\n",
       " 'reload',\n",
       " 'generation_g1',\n",
       " 'generation_g22',\n",
       " 'generation_g2',\n",
       " 'generation_g12',\n",
       " 'generation_g8',\n",
       " 'generation_g18',\n",
       " 'generation_g5',\n",
       " 'generation_g3']"
      ]
     },
     "execution_count": 30,
     "metadata": {},
     "output_type": "execute_result"
    }
   ],
   "source": [
    "exporter = Exporter(name=\"unary_evolver_t0.5_n5_o2.0_i0\")\n",
    "exporter.list()"
   ]
  },
  {
   "cell_type": "code",
   "execution_count": 31,
   "metadata": {},
   "outputs": [],
   "source": [
    "res = exporter.load(\"generation_g22\")"
   ]
  },
  {
   "cell_type": "code",
   "execution_count": 32,
   "metadata": {},
   "outputs": [
    {
     "data": {
      "text/plain": [
       "[18.27199044797073,\n",
       " 8.826417573404859,\n",
       " 26.772702496970748,\n",
       " 4.476938827624042,\n",
       " 23.52912056519923,\n",
       " 12.507310916433449,\n",
       " 19.466196064190854,\n",
       " 28.54433243123027,\n",
       " 0.25418601158439597,\n",
       " 5.064160219430979,\n",
       " 29.89457547707107,\n",
       " 24.621320730885387,\n",
       " 0.1429434403053939,\n",
       " 5.146481582804749,\n",
       " 31.995965830845126,\n",
       " 8.571122652636799,\n",
       " 27.6289507868256,\n",
       " 9.716105037688443,\n",
       " 10.075730022995344,\n",
       " 2.3611476334294057,\n",
       " 23.507490651658763,\n",
       " 5.306462842385447,\n",
       " 18.57277069183786,\n",
       " 4.1836627116411815,\n",
       " 4.297386615625281,\n",
       " 5.044883864071501,\n",
       " 4.972258199660255,\n",
       " 28.592868960198444,\n",
       " 0.0927915560642601,\n",
       " 16.73588774645972,\n",
       " 0.09586893678644887,\n",
       " 8.5189227917953,\n",
       " 30.057090715603252,\n",
       " 23.97878385803239,\n",
       " 32.15870724646125,\n",
       " 32.396764510428596,\n",
       " 18.591437286825865,\n",
       " 11.435640140280103,\n",
       " 4.092079346101878,\n",
       " 27.094272623782494,\n",
       " 12.098234550542614,\n",
       " 7.3689910962521505,\n",
       " 17.792466972171848,\n",
       " 13.578739168643347,\n",
       " 0.8294218547032819,\n",
       " 11.196653964492926,\n",
       " 17.86403914697383,\n",
       " 10.832872333408115,\n",
       " 4.333590783705262,\n",
       " -1]"
      ]
     },
     "execution_count": 32,
     "metadata": {},
     "output_type": "execute_result"
    }
   ],
   "source": [
    "L(res).fit"
   ]
  },
  {
   "cell_type": "code",
   "execution_count": 33,
   "metadata": {},
   "outputs": [],
   "source": [
    "def pick_best(res):\n",
    "    return res[res.index(max(res, key=lambda x: x.fit))]"
   ]
  },
  {
   "cell_type": "code",
   "execution_count": 34,
   "metadata": {},
   "outputs": [],
   "source": [
    "best_sol = pick_best(res)"
   ]
  },
  {
   "cell_type": "code",
   "execution_count": 29,
   "metadata": {},
   "outputs": [
    {
     "data": {
      "image/png": "[encoded data removed]",
      "text/plain": [
       "<Figure size 432x288 with 1 Axes>"
      ]
     },
     "metadata": {
      "needs_background": "light"
     },
     "output_type": "display_data"
    },
    {
     "data": {
      "image/png": "[encoded data removed]",
      "text/plain": [
       "<Figure size 432x288 with 1 Axes>"
      ]
     },
     "metadata": {
      "needs_background": "light"
     },
     "output_type": "display_data"
    }
   ],
   "source": [
    "plot_max_fitness(exporter, sm)\n",
    "plt.show()\n",
    "plot_sum_fitness(exporter, sm)"
   ]
  },
  {
   "cell_type": "code",
   "execution_count": 36,
   "metadata": {},
   "outputs": [
    {
     "data": {
      "text/plain": [
       "'generation_g22'"
      ]
     },
     "execution_count": 36,
     "metadata": {},
     "output_type": "execute_result"
    }
   ],
   "source": [
    "last_gen = sm.pick_last(sorted(exporter.list()), slot=\"generation\")\n",
    "last_gen"
   ]
  },
  {
   "cell_type": "code",
   "execution_count": 37,
   "metadata": {},
   "outputs": [
    {
     "data": {
      "image/png": "[encoded data removed]",
      "text/plain": [
       "<Figure size 432x288 with 1 Axes>"
      ]
     },
     "metadata": {
      "needs_background": "light"
     },
     "output_type": "display_data"
    }
   ],
   "source": [
    "res = exporter.load(last_gen)\n",
    "sol = pick_best(res)\n",
    "show_curve(sol.stats, REF)"
   ]
  },
  {
   "cell_type": "code",
   "execution_count": 38,
   "metadata": {},
   "outputs": [
    {
     "data": {
      "image/png": "[encoded data removed]",
      "text/plain": [
       "<Figure size 432x288 with 1 Axes>"
      ]
     },
     "metadata": {
      "needs_background": "light"
     },
     "output_type": "display_data"
    }
   ],
   "source": [
    "show_curve_progenitor(sol.stats, REF)"
   ]
  },
  {
   "cell_type": "code",
   "execution_count": 57,
   "metadata": {},
   "outputs": [
    {
     "name": "stdout",
     "output_type": "stream",
     "text": [
      "fit is  2.1746606933406607\n"
     ]
    },
    {
     "data": {
      "image/png": "[encoded data removed]",
      "text/plain": [
       "<Figure size 432x288 with 1 Axes>"
      ]
     },
     "metadata": {
      "needs_background": "light"
     },
     "output_type": "display_data"
    },
    {
     "data": {
      "text/plain": [
       ">> G_0: init: 0.06; noise: 3.79; b: 2.86; m: 4.03; expr: 2.54; deg: 4.32; theta: 5.52; tree : 7\n",
       ">> G_1: init: 2.86; noise: 7.07; b: 2.92; m: 5.74; expr: 2.27; deg: 6.08; theta: 4.74; tree : NOT NOT 0\n",
       ">> G_2: init: 1.13; noise: 6.18; b: 9.64; m: 5.20; expr: 3.36; deg: 5.47; theta: 6.91; tree : (0 OR 5)\n",
       ">> G_3: init: 0.48; noise: 3.01; b: 2.34; m: 4.10; expr: 8.11; deg: 2.51; theta: 1.83; tree : 8\n",
       ">> G_4: init: 1.51; noise: 1.04; b: 9.51; m: 3.22; expr: 5.22; deg: 6.85; theta: 7.17; tree : NOT (((((2 OR 10) AND 8) OR NOT 7) AND 1) OR 5)\n",
       ">> G_5: init: 2.39; noise: 5.04; b: 9.15; m: 7.59; expr: 3.52; deg: 3.62; theta: 5.87; tree : NOT 0\n",
       ">> G_6: init: 1.51; noise: 3.09; b: 9.33; m: 6.17; expr: 0.94; deg: 2.34; theta: 0.38; tree : (NOT (5 AND 0) OR 10)\n",
       ">> G_7: init: 0.76; noise: 7.25; b: 5.20; m: 5.94; expr: 4.05; deg: 6.64; theta: 4.89; tree : NOT (NOT 8 OR (9 AND 7))\n",
       ">> G_8: init: 1.10; noise: 3.60; b: 4.94; m: 8.33; expr: 2.74; deg: 2.73; theta: 3.00; tree : (3 AND (0 AND 6))\n",
       ">> G_9: init: 2.71; noise: 2.70; b: 7.02; m: 5.43; expr: 2.74; deg: 6.38; theta: 9.99; tree : 9\n",
       ">> G_10: init: 2.89; noise: 9.08; b: 5.00; m: 4.01; expr: 2.26; deg: 0.88; theta: 2.41; tree : ((3 OR 7) OR 1)"
      ]
     },
     "execution_count": 57,
     "metadata": {},
     "output_type": "execute_result"
    }
   ],
   "source": [
    "res = exporter.load(last_gen)\n",
    "sol, stats = pick_best_sol_stats(res)\n",
    "show_curve_progenitor(stats, REF)\n",
    "sol.grn"
   ]
  },
  {
   "cell_type": "markdown",
   "metadata": {},
   "source": [
    "G_1: init: 2.89; noise: 5.98; b: 5.55; m: 5.53; expr: 7.05; deg: 0.04; thr: 5.68; theta: 3.47; tree : ((NOT (NOT NOT 4 AND 5) AND 6) OR 1)\n",
    "G_1: init: 2.89; noise: 5.98; b: 5.55; m: 5.53; expr: 7.05; deg: 0.04; thr: 5.68; theta: 3.47; tree : ((NOT (NOT NOT 4 AND 3) AND 6) OR 1)\n",
    "G_1: init: 2.89; noise: 5.98; b: 5.55; m: 5.53; expr: 7.05; deg: 0.04; thr: 5.68; theta: 3.47; tree : ((NOT (NOT NOT 4 AND 5) AND 6) OR 1)\n",
    "G_1: init: 2.89; noise: 5.98; b: 5.55; m: 5.53; expr: 7.05; deg: 0.04; thr: 5.68; theta: 7.90; tree : ((NOT (NOT NOT 4 AND 5) AND 6) OR 1)\n",
    "\n",
    "G_1: init: 2.89; noise: 5.98; b: 5.55; m: 5.87; expr: 7.05; deg: 0.04; thr: 5.68; theta: 3.47; tree : (NOT (NOT NOT 4 AND 5) OR 1)"
   ]
  }
 ],
 "metadata": {
  "kernelspec": {
   "display_name": "Python 3",
   "language": "python",
   "name": "python3"
  },
  "language_info": {
   "codemirror_mode": {
    "name": "ipython",
    "version": 3
   },
   "file_extension": ".py",
   "mimetype": "text/x-python",
   "name": "python",
   "nbconvert_exporter": "python",
   "pygments_lexer": "ipython3",
   "version": "3.8.10"
  }
 },
 "nbformat": 4,
 "nbformat_minor": 4
}
