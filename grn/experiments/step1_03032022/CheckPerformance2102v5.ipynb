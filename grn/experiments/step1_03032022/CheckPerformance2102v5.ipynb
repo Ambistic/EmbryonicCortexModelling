{
 "cells": [
  {
   "cell_type": "code",
   "execution_count": null,
   "metadata": {},
   "outputs": [],
   "source": [
    "import os\n",
    "os.environ[\"XLA_PYTHON_CLIENT_MEM_FRACTION\"] = \".13\""
   ]
  },
  {
   "cell_type": "code",
   "execution_count": 2,
   "metadata": {},
   "outputs": [],
   "source": [
    "import pandas as pd\n",
    "from brain import BrainModel\n",
    "from submodels import factories\n",
    "import matplotlib.pyplot as plt\n",
    "import numpy as np\n",
    "from collections import defaultdict\n",
    "from random import shuffle\n",
    "\n",
    "from lib.score import (\n",
    "    fate_corr, score_both_size_norm, shrink_and_align_stats, score_stats_norm\n",
    ")\n",
    "from lib.preprocess import *\n",
    "from lib.callback import (\n",
    "    cell_number_callback, progenitor_number_callback, neuron_number_callback,\n",
    "    TargetPopulation, TagNumberCallback,\n",
    ")\n",
    "from lib.sde.grn.grn4 import GRNMain4 as GRNMain\n",
    "from lib.sde.mutate import mutate_grn4 as mutate_grn\n",
    "\n",
    "from lib.ga.utils import weighted_selection_one, normalize_fitness_values\n",
    "from lib.utils import pick_best, pick_last\n",
    "from jf.utils.export import Exporter\n",
    "from jf.autocompute.jf import O, L\n",
    "from itertools import product\n",
    "import jf.models.stringmodel as sm\n",
    "from lib.analyser import show_curve, show_curve_progenitor\n",
    "from jf.models.stringmodel import read_model"
   ]
  },
  {
   "cell_type": "code",
   "execution_count": 3,
   "metadata": {},
   "outputs": [],
   "source": [
    "_count = -1\n",
    "def provide_id():\n",
    "    global _count\n",
    "    _count += 1\n",
    "    return _count"
   ]
  },
  {
   "cell_type": "code",
   "execution_count": 4,
   "metadata": {},
   "outputs": [],
   "source": [
    "REF = O(\n",
    "    stats=pd.read_csv(\"reference/ref_tristate2.csv\"),  # ref is a mean\n",
    ")\n",
    "SM_GEN = read_model(\"generation\")"
   ]
  },
  {
   "cell_type": "code",
   "execution_count": 5,
   "metadata": {},
   "outputs": [],
   "source": [
    "def individual_generator(id_=-1, cb_init=None):\n",
    "    return Solution(GRNMain(5, 0, 1, generate_funcs=cb_init), id_=id_)"
   ]
  },
  {
   "cell_type": "code",
   "execution_count": 6,
   "metadata": {},
   "outputs": [],
   "source": [
    "class Solution:\n",
    "    def __init__(self, grn, id_=0, parent=-1):\n",
    "        self.id = id_\n",
    "        self.grn = grn\n",
    "        self.parent = parent\n",
    "        self.fit = -1\n",
    "        self.stats = None\n",
    "        \n",
    "    def copy(self, id_=0):\n",
    "        return Solution(self.grn.copy(), id_=id_, parent=self.id)\n",
    "        \n",
    "    def mutate(self):\n",
    "        mutate_grn(self.grn)"
   ]
  },
  {
   "cell_type": "code",
   "execution_count": 7,
   "metadata": {},
   "outputs": [],
   "source": [
    "def score_bb_size(bb, ref, *args, **kwargs):\n",
    "    s_prog = score_stats_norm(bb.stats, ref.stats, col_stats=f\"progenitor_pop_size\",\n",
    "                     col_ref=\"progenitor_pop_size\", norm=2.0, *args, **kwargs)\n",
    "    s_all = score_stats_norm(bb.stats, ref.stats, col_stats=f\"whole_pop_size\",\n",
    "                     col_ref=\"whole_pop_size\", norm=2.0, *args, **kwargs)\n",
    "    s_neuron = score_stats_norm(bb.stats, ref.stats, col_stats=f\"neuron_pop_size\",\n",
    "                     col_ref=\"neuron_pop_size\", col_norm_data=\"progenitor_pop_size\",\n",
    "                       col_norm_ref=\"progenitor_pop_size\", norm=2.0, *args, **kwargs)\n",
    "\n",
    "    return np.mean(s_prog + s_all + s_neuron)"
   ]
  },
  {
   "cell_type": "code",
   "execution_count": 8,
   "metadata": {},
   "outputs": [],
   "source": [
    "def setup_tag(cp):\n",
    "    indexes = list(cp.base_population.keys())\n",
    "    shuffle(indexes)\n",
    "    splits = np.array_split(indexes, 3)\n",
    "    for i, ls in enumerate(splits):\n",
    "        for idx in ls:\n",
    "            cp.base_population[idx].tag[\"subbrain\"] = i"
   ]
  },
  {
   "cell_type": "code",
   "execution_count": 9,
   "metadata": {},
   "outputs": [],
   "source": [
    "def get_bb(prun, grn):\n",
    "    ccls = factories[\"grn4\"](grn=grn)\n",
    "    callbacks = dict(\n",
    "        progenitor_pop_size=progenitor_number_callback,\n",
    "        whole_pop_size=cell_number_callback,\n",
    "        neuron_pop_size=neuron_number_callback,\n",
    "    )\n",
    "    bb = BrainModel(time_step=0.5, verbose=False, start_population=prun.size, max_pop_size=5e2,\n",
    "            cell_cls=ccls, end_time=prun.end_time, start_time=56, silent=True, opti=True,\n",
    "              run_tissue=True, monitor_callbacks=callbacks, tag_func=setup_tag)\n",
    "    return bb"
   ]
  },
  {
   "cell_type": "code",
   "execution_count": 10,
   "metadata": {},
   "outputs": [],
   "source": [
    "def run_grn(prun, grn):\n",
    "    get_bb(prun, grn)\n",
    "    bb.run()\n",
    "    return bb"
   ]
  },
  {
   "cell_type": "code",
   "execution_count": 11,
   "metadata": {},
   "outputs": [],
   "source": [
    "def fitness_multistep(prun, grn, steps):\n",
    "    total_fitness = 0\n",
    "    stop = False\n",
    "    previous_time = None\n",
    "    bb = get_bb(prun, grn)\n",
    "    # first step\n",
    "    for step in steps:\n",
    "        if not bb.run_until(step.end_time):\n",
    "            stop = True\n",
    "        \n",
    "        score_step = step.score_func(bb, prun.ref, max_step=step.end_time, min_step=step.start_time)\n",
    "        fitness_step = 1.0 / score_step\n",
    "        fitness_step = min(fitness_step, step.max_fitness)\n",
    "        total_fitness += fitness_step\n",
    "        if fitness_step < step.min_fitness or stop:\n",
    "            return total_fitness, bb.stats\n",
    "        else:\n",
    "            previous_time = step.end_time\n",
    "            step.passed()\n",
    "        \n",
    "    return total_fitness, bb.stats"
   ]
  },
  {
   "cell_type": "code",
   "execution_count": 12,
   "metadata": {},
   "outputs": [],
   "source": [
    "def do_init(prun):\n",
    "    return individual_generator(provide_id(), prun.cb_init)\n",
    "\n",
    "def do_fitness(prun, sol):\n",
    "    fitness, stats = fitness_multistep(prun, sol.grn, prun.steps)\n",
    "    return fitness, stats\n",
    "\n",
    "def do_selection(prun, pop_fit, pop):\n",
    "    if len(pop) < prun.min_pop:\n",
    "        return individual_generator(provide_id(), prun.cb_init)\n",
    "    \n",
    "    pop_fit = [p**prun.exponent for p in pop_fit]\n",
    "    \n",
    "    return weighted_selection_one(pop, pop_fit, lambda x: individual_generator(x, prun.cb_init), new_fitness=0.05, id_=provide_id())[0]\n",
    "\n",
    "def do_mutation(prun, sol):\n",
    "    sol.mutate()\n",
    "    return sol"
   ]
  },
  {
   "cell_type": "code",
   "execution_count": 13,
   "metadata": {},
   "outputs": [],
   "source": [
    "class ObjectiveStep(O):\n",
    "    start_time = 0\n",
    "    end_time = 0\n",
    "    max_fitness = 3\n",
    "    min_fitness = 1\n",
    "    name = \"\"\n",
    "    _passed = False\n",
    "    \n",
    "    def reset(self):\n",
    "        self._passed = False\n",
    "    \n",
    "    def passed(self):\n",
    "        if self._passed:\n",
    "            return\n",
    "        print(f\"Step {self.name} passed !\")\n",
    "        self._passed = True\n",
    "    \n",
    "example_steps = [\n",
    "    # ObjectiveStep(name=\"1\", start_time=50, end_time=53, score_func=score_bb_size, min_fitness=0.2),\n",
    "    # ObjectiveStep(name=\"2\", start_time=53, end_time=56, score_func=score_bb_size, min_fitness=0.2),\n",
    "    ObjectiveStep(name=\"3\", start_time=56, end_time=86, score_func=score_bb_size, min_fitness=0.2),\n",
    "]\n",
    "\n",
    "class ParamRun(O):\n",
    "    pop_size = 50\n",
    "    batch_size = 50\n",
    "    n_gen = 50\n",
    "    current_gen = 0\n",
    "    end_time = 86\n",
    "    ref = REF\n",
    "    min_pop = 50\n",
    "    max_pop = 50\n",
    "\n",
    "def get_prun(size=7, exponent=1):\n",
    "    prun = ParamRun()\n",
    "    prun.cb_init = dict()\n",
    "    prun.size = size\n",
    "    prun.exponent = exponent\n",
    "    prun.steps = example_steps\n",
    "    return prun"
   ]
  },
  {
   "cell_type": "code",
   "execution_count": 14,
   "metadata": {},
   "outputs": [],
   "source": [
    "def pick_last_exported(exporter):\n",
    "    generations = list(filter(SM_GEN.match, exporter.list()))\n",
    "    if len(generations) == 0:\n",
    "        return None, 0\n",
    "    \n",
    "    last = max(generations, key=lambda x: int(SM_GEN.extract(x).get(\"generation\")))\n",
    "    b_gen = int(SM_GEN.extract(last).get(\"generation\")) + 1\n",
    "    exporter.print(f\"Found generation {b_gen - 1}\", \"reload\")\n",
    "    pop = exporter.load(last)\n",
    "    return pop, b_gen"
   ]
  },
  {
   "cell_type": "code",
   "execution_count": 15,
   "metadata": {},
   "outputs": [],
   "source": [
    "def main(prun):\n",
    "    prun.history = dict()\n",
    "    exporter = Exporter(name=prun.name, copy_stdout=True)\n",
    "    definition = \"\"\"\n",
    "    \n",
    "    \"\"\"\n",
    "    exporter.print(definition, slot=\"definition\")\n",
    "    best = 0\n",
    "    \n",
    "    # setup\n",
    "    pop, batch_gen = pick_last_exported(exporter)\n",
    "    \n",
    "    if pop is None:\n",
    "        sol = do_init(prun)\n",
    "        pop = [sol]\n",
    "        batch_gen = 0\n",
    "    else:\n",
    "        sol = pop[-1]\n",
    "        \n",
    "    for i in range(batch_gen * prun.batch_size,\n",
    "                   prun.n_gen * prun.batch_size):\n",
    "        fit, stats = do_fitness(prun, sol)\n",
    "        sol.fit, sol.stats = fit, stats\n",
    "        \n",
    "        if i % 100 == 0:\n",
    "            exporter.print(f\"Step {i}\")\n",
    "        if fit > best:\n",
    "            exporter.print(f\"++ Best {fit} for generation {i}\")\n",
    "            best = fit\n",
    "            \n",
    "        monitor = sol\n",
    "        prun.history[i] = monitor\n",
    "        # exporter(monitor, f\"generation_g{generation}\")\n",
    "        \n",
    "        sub_pop = pop[-prun.max_pop:]\n",
    "        sol = do_selection(prun, [s.fit for s in sub_pop], sub_pop)\n",
    "            \n",
    "        sol = do_mutation(prun, sol)\n",
    "        pop.append(sol)\n",
    "        \n",
    "        if (i + 1) % prun.batch_size == 0:\n",
    "            print(\"Saving ...\")\n",
    "            batch_gen = (i + 1) // 100\n",
    "            exporter(pop[-prun.max_pop:], SM_GEN.fill(generation=batch_gen))\n",
    "        \n",
    "    return best"
   ]
  },
  {
   "cell_type": "code",
   "execution_count": 16,
   "metadata": {},
   "outputs": [],
   "source": [
    "callback_init = dict(\n",
    "    init=lambda: np.random.beta(1.5, 3) * 3,\n",
    "    b=lambda: np.random.beta(1.5, 3) * 5,\n",
    "    expr=lambda: 1,\n",
    "    deg=lambda: 0.1,\n",
    "    noise=lambda: np.random.beta(1.5, 3) * 1,\n",
    "    asym=lambda: 5,\n",
    ")"
   ]
  },
  {
   "cell_type": "code",
   "execution_count": 17,
   "metadata": {},
   "outputs": [
    {
     "name": "stdout",
     "output_type": "stream",
     "text": [
      "Exporting at output/checkperf_2102_v5\n",
      "[definition] \n",
      "    \n",
      "    \n",
      "[out] Step 0\n",
      "[out] ++ Best 0.0072275623441701185 for generation 0\n",
      "[out] ++ Best 0.0082496664288608 for generation 7\n",
      "[out] ++ Best 0.00858445545789412 for generation 16\n",
      "[out] ++ Best 0.009241456405948202 for generation 26\n",
      "[out] ++ Best 0.009703471514140537 for generation 32\n",
      "[out] ++ Best 0.010300848490208413 for generation 40\n",
      "Saving ...\n",
      "Saving ...\n",
      "[out] Step 100\n",
      "[out] ++ Best 0.010702697831389246 for generation 124\n",
      "[out] ++ Best 0.01350367414844571 for generation 130\n",
      "[out] ++ Best 0.027407550513833222 for generation 145\n",
      "Saving ...\n",
      "[out] ++ Best 0.03162696592649343 for generation 155\n",
      "[out] ++ Best 0.057343173104664684 for generation 174\n",
      "Saving ...\n",
      "[out] Step 200\n",
      "[out] ++ Best 0.06272588761620994 for generation 210\n",
      "[out] ++ Best 0.06614609821304696 for generation 230\n",
      "[out] ++ Best 0.06700394498154424 for generation 231\n",
      "Saving ...\n",
      "Saving ...\n",
      "[out] Step 300\n",
      "Saving ...\n",
      "[out] ++ Best 0.06772567363932437 for generation 363\n",
      "[out] ++ Best 0.06840526184358263 for generation 385\n",
      "Saving ...\n",
      "[out] Step 400\n",
      "Saving ...\n",
      "[out] ++ Best 0.06977710587361505 for generation 499\n",
      "Saving ...\n",
      "[out] Step 500\n",
      "Saving ...\n",
      "[out] ++ Best 0.0726468943749477 for generation 587\n",
      "Saving ...\n",
      "[out] Step 600\n",
      "Saving ...\n",
      "Saving ...\n",
      "[out] Step 700\n",
      "Saving ...\n",
      "Saving ...\n",
      "[out] Step 800\n",
      "Saving ...\n",
      "Saving ...\n",
      "[out] Step 900\n",
      "Saving ...\n",
      "Saving ...\n",
      "[out] Step 1000\n",
      "Saving ...\n",
      "Saving ...\n",
      "[out] Step 1100\n",
      "Saving ...\n",
      "Saving ...\n",
      "[out] Step 1200\n",
      "Saving ...\n",
      "[out] ++ Best 0.07432655520398053 for generation 1290\n",
      "Saving ...\n",
      "[out] Step 1300\n",
      "Saving ...\n"
     ]
    },
    {
     "ename": "IndexError",
     "evalue": "vector::_M_range_check: __n (which is 862444928) >= this->size() (which is 1)",
     "output_type": "error",
     "traceback": [
      "\u001b[0;31m---------------------------------------------------------------------------\u001b[0m",
      "\u001b[0;31mIndexError\u001b[0m                                Traceback (most recent call last)",
      "\u001b[0;32m<ipython-input-17-bf4900e0ea31>\u001b[0m in \u001b[0;36m<module>\u001b[0;34m\u001b[0m\n\u001b[1;32m      2\u001b[0m \u001b[0mprun\u001b[0m\u001b[0;34m.\u001b[0m\u001b[0mcb_init\u001b[0m \u001b[0;34m=\u001b[0m \u001b[0mcallback_init\u001b[0m\u001b[0;34m\u001b[0m\u001b[0;34m\u001b[0m\u001b[0m\n\u001b[1;32m      3\u001b[0m \u001b[0mprun\u001b[0m\u001b[0;34m.\u001b[0m\u001b[0mname\u001b[0m \u001b[0;34m=\u001b[0m \u001b[0;34m\"checkperf_2102_v5\"\u001b[0m\u001b[0;34m\u001b[0m\u001b[0;34m\u001b[0m\u001b[0m\n\u001b[0;32m----> 4\u001b[0;31m \u001b[0mres\u001b[0m \u001b[0;34m=\u001b[0m \u001b[0mmain\u001b[0m\u001b[0;34m(\u001b[0m\u001b[0mprun\u001b[0m\u001b[0;34m)\u001b[0m\u001b[0;34m\u001b[0m\u001b[0;34m\u001b[0m\u001b[0m\n\u001b[0m",
      "\u001b[0;32m<ipython-input-15-b9e59561fcb1>\u001b[0m in \u001b[0;36mmain\u001b[0;34m(prun)\u001b[0m\n\u001b[1;32m     20\u001b[0m     for i in range(batch_gen * prun.batch_size,\n\u001b[1;32m     21\u001b[0m                    prun.n_gen * prun.batch_size):\n\u001b[0;32m---> 22\u001b[0;31m         \u001b[0mfit\u001b[0m\u001b[0;34m,\u001b[0m \u001b[0mstats\u001b[0m \u001b[0;34m=\u001b[0m \u001b[0mdo_fitness\u001b[0m\u001b[0;34m(\u001b[0m\u001b[0mprun\u001b[0m\u001b[0;34m,\u001b[0m \u001b[0msol\u001b[0m\u001b[0;34m)\u001b[0m\u001b[0;34m\u001b[0m\u001b[0;34m\u001b[0m\u001b[0m\n\u001b[0m\u001b[1;32m     23\u001b[0m         \u001b[0msol\u001b[0m\u001b[0;34m.\u001b[0m\u001b[0mfit\u001b[0m\u001b[0;34m,\u001b[0m \u001b[0msol\u001b[0m\u001b[0;34m.\u001b[0m\u001b[0mstats\u001b[0m \u001b[0;34m=\u001b[0m \u001b[0mfit\u001b[0m\u001b[0;34m,\u001b[0m \u001b[0mstats\u001b[0m\u001b[0;34m\u001b[0m\u001b[0;34m\u001b[0m\u001b[0m\n\u001b[1;32m     24\u001b[0m \u001b[0;34m\u001b[0m\u001b[0m\n",
      "\u001b[0;32m<ipython-input-12-ded2575d3bcd>\u001b[0m in \u001b[0;36mdo_fitness\u001b[0;34m(prun, sol)\u001b[0m\n\u001b[1;32m      3\u001b[0m \u001b[0;34m\u001b[0m\u001b[0m\n\u001b[1;32m      4\u001b[0m \u001b[0;32mdef\u001b[0m \u001b[0mdo_fitness\u001b[0m\u001b[0;34m(\u001b[0m\u001b[0mprun\u001b[0m\u001b[0;34m,\u001b[0m \u001b[0msol\u001b[0m\u001b[0;34m)\u001b[0m\u001b[0;34m:\u001b[0m\u001b[0;34m\u001b[0m\u001b[0;34m\u001b[0m\u001b[0m\n\u001b[0;32m----> 5\u001b[0;31m     \u001b[0mfitness\u001b[0m\u001b[0;34m,\u001b[0m \u001b[0mstats\u001b[0m \u001b[0;34m=\u001b[0m \u001b[0mfitness_multistep\u001b[0m\u001b[0;34m(\u001b[0m\u001b[0mprun\u001b[0m\u001b[0;34m,\u001b[0m \u001b[0msol\u001b[0m\u001b[0;34m.\u001b[0m\u001b[0mgrn\u001b[0m\u001b[0;34m,\u001b[0m \u001b[0mprun\u001b[0m\u001b[0;34m.\u001b[0m\u001b[0msteps\u001b[0m\u001b[0;34m)\u001b[0m\u001b[0;34m\u001b[0m\u001b[0;34m\u001b[0m\u001b[0m\n\u001b[0m\u001b[1;32m      6\u001b[0m     \u001b[0;32mreturn\u001b[0m \u001b[0mfitness\u001b[0m\u001b[0;34m,\u001b[0m \u001b[0mstats\u001b[0m\u001b[0;34m\u001b[0m\u001b[0;34m\u001b[0m\u001b[0m\n\u001b[1;32m      7\u001b[0m \u001b[0;34m\u001b[0m\u001b[0m\n",
      "\u001b[0;32m<ipython-input-11-424afec1b8a4>\u001b[0m in \u001b[0;36mfitness_multistep\u001b[0;34m(prun, grn, steps)\u001b[0m\n\u001b[1;32m      6\u001b[0m     \u001b[0;31m# first step\u001b[0m\u001b[0;34m\u001b[0m\u001b[0;34m\u001b[0m\u001b[0;34m\u001b[0m\u001b[0m\n\u001b[1;32m      7\u001b[0m     \u001b[0;32mfor\u001b[0m \u001b[0mstep\u001b[0m \u001b[0;32min\u001b[0m \u001b[0msteps\u001b[0m\u001b[0;34m:\u001b[0m\u001b[0;34m\u001b[0m\u001b[0;34m\u001b[0m\u001b[0m\n\u001b[0;32m----> 8\u001b[0;31m         \u001b[0;32mif\u001b[0m \u001b[0;32mnot\u001b[0m \u001b[0mbb\u001b[0m\u001b[0;34m.\u001b[0m\u001b[0mrun_until\u001b[0m\u001b[0;34m(\u001b[0m\u001b[0mstep\u001b[0m\u001b[0;34m.\u001b[0m\u001b[0mend_time\u001b[0m\u001b[0;34m)\u001b[0m\u001b[0;34m:\u001b[0m\u001b[0;34m\u001b[0m\u001b[0;34m\u001b[0m\u001b[0m\n\u001b[0m\u001b[1;32m      9\u001b[0m             \u001b[0mstop\u001b[0m \u001b[0;34m=\u001b[0m \u001b[0;32mTrue\u001b[0m\u001b[0;34m\u001b[0m\u001b[0;34m\u001b[0m\u001b[0m\n\u001b[1;32m     10\u001b[0m \u001b[0;34m\u001b[0m\u001b[0m\n",
      "\u001b[0;32m~/other/EmbryonicCortexModelling/grn/brain.py\u001b[0m in \u001b[0;36mrun_until\u001b[0;34m(self, time_point)\u001b[0m\n\u001b[1;32m    145\u001b[0m                 \u001b[0;32mand\u001b[0m \u001b[0;34m(\u001b[0m\u001b[0mself\u001b[0m\u001b[0;34m.\u001b[0m\u001b[0mrange\u001b[0m\u001b[0;34m[\u001b[0m\u001b[0mself\u001b[0m\u001b[0;34m.\u001b[0m\u001b[0mcurrent_step\u001b[0m\u001b[0;34m]\u001b[0m \u001b[0;34m<\u001b[0m \u001b[0mtime_point\u001b[0m\u001b[0;34m)\u001b[0m\u001b[0;34m:\u001b[0m\u001b[0;34m\u001b[0m\u001b[0;34m\u001b[0m\u001b[0m\n\u001b[1;32m    146\u001b[0m             \u001b[0mT\u001b[0m \u001b[0;34m=\u001b[0m \u001b[0mself\u001b[0m\u001b[0;34m.\u001b[0m\u001b[0mrange\u001b[0m\u001b[0;34m[\u001b[0m\u001b[0mself\u001b[0m\u001b[0;34m.\u001b[0m\u001b[0mcurrent_step\u001b[0m\u001b[0;34m]\u001b[0m\u001b[0;34m\u001b[0m\u001b[0;34m\u001b[0m\u001b[0m\n\u001b[0;32m--> 147\u001b[0;31m             \u001b[0;32mif\u001b[0m \u001b[0;32mnot\u001b[0m \u001b[0mself\u001b[0m\u001b[0;34m.\u001b[0m\u001b[0m_tick\u001b[0m\u001b[0;34m(\u001b[0m\u001b[0mT\u001b[0m\u001b[0;34m,\u001b[0m \u001b[0mself\u001b[0m\u001b[0;34m.\u001b[0m\u001b[0mtime_step\u001b[0m\u001b[0;34m)\u001b[0m\u001b[0;34m:\u001b[0m\u001b[0;34m\u001b[0m\u001b[0;34m\u001b[0m\u001b[0m\n\u001b[0m\u001b[1;32m    148\u001b[0m                 \u001b[0mself\u001b[0m\u001b[0;34m.\u001b[0m\u001b[0minfo\u001b[0m\u001b[0;34m(\u001b[0m\u001b[0;34m\"Population exploded or extinguished\"\u001b[0m\u001b[0;34m)\u001b[0m\u001b[0;34m\u001b[0m\u001b[0;34m\u001b[0m\u001b[0m\n\u001b[1;32m    149\u001b[0m                 \u001b[0;32mreturn\u001b[0m \u001b[0;32mFalse\u001b[0m\u001b[0;34m\u001b[0m\u001b[0;34m\u001b[0m\u001b[0m\n",
      "\u001b[0;32m~/other/EmbryonicCortexModelling/grn/brain.py\u001b[0m in \u001b[0;36m_tick\u001b[0;34m(self, absolute_time, relative_time)\u001b[0m\n\u001b[1;32m    170\u001b[0m         \u001b[0;31m# take care of cells\u001b[0m\u001b[0;34m\u001b[0m\u001b[0;34m\u001b[0m\u001b[0;34m\u001b[0m\u001b[0m\n\u001b[1;32m    171\u001b[0m         \u001b[0;32mif\u001b[0m \u001b[0mself\u001b[0m\u001b[0;34m.\u001b[0m\u001b[0mopti\u001b[0m\u001b[0;34m:\u001b[0m\u001b[0;34m\u001b[0m\u001b[0;34m\u001b[0m\u001b[0m\n\u001b[0;32m--> 172\u001b[0;31m             \u001b[0mself\u001b[0m\u001b[0;34m.\u001b[0m\u001b[0mpopulation\u001b[0m\u001b[0;34m.\u001b[0m\u001b[0mtick_cell_programs_batch\u001b[0m\u001b[0;34m(\u001b[0m\u001b[0mabsolute_time\u001b[0m\u001b[0;34m,\u001b[0m \u001b[0mrelative_time\u001b[0m\u001b[0;34m)\u001b[0m\u001b[0;34m\u001b[0m\u001b[0;34m\u001b[0m\u001b[0m\n\u001b[0m\u001b[1;32m    173\u001b[0m         \u001b[0;32melse\u001b[0m\u001b[0;34m:\u001b[0m\u001b[0;34m\u001b[0m\u001b[0;34m\u001b[0m\u001b[0m\n\u001b[1;32m    174\u001b[0m             \u001b[0mself\u001b[0m\u001b[0;34m.\u001b[0m\u001b[0mpopulation\u001b[0m\u001b[0;34m.\u001b[0m\u001b[0mtick_cell_programs\u001b[0m\u001b[0;34m(\u001b[0m\u001b[0mabsolute_time\u001b[0m\u001b[0;34m,\u001b[0m \u001b[0mrelative_time\u001b[0m\u001b[0;34m)\u001b[0m\u001b[0;34m\u001b[0m\u001b[0;34m\u001b[0m\u001b[0m\n",
      "\u001b[0;32m~/other/EmbryonicCortexModelling/grn/lib/population.py\u001b[0m in \u001b[0;36mtick_cell_programs_batch\u001b[0;34m(self, absolute_time, relative_time)\u001b[0m\n\u001b[1;32m     73\u001b[0m \u001b[0;34m\u001b[0m\u001b[0m\n\u001b[1;32m     74\u001b[0m         \u001b[0;32mfor\u001b[0m \u001b[0mC\u001b[0m \u001b[0;32min\u001b[0m \u001b[0mcells\u001b[0m\u001b[0;34m:\u001b[0m\u001b[0;34m\u001b[0m\u001b[0;34m\u001b[0m\u001b[0m\n\u001b[0;32m---> 75\u001b[0;31m             \u001b[0maction\u001b[0m \u001b[0;34m=\u001b[0m \u001b[0mC\u001b[0m\u001b[0;34m.\u001b[0m\u001b[0mget_action\u001b[0m\u001b[0;34m(\u001b[0m\u001b[0;34m)\u001b[0m\u001b[0;34m\u001b[0m\u001b[0;34m\u001b[0m\u001b[0m\n\u001b[0m\u001b[1;32m     76\u001b[0m             \u001b[0mself\u001b[0m\u001b[0;34m.\u001b[0m\u001b[0mrun_action\u001b[0m\u001b[0;34m(\u001b[0m\u001b[0maction\u001b[0m\u001b[0;34m,\u001b[0m \u001b[0mC\u001b[0m\u001b[0;34m,\u001b[0m \u001b[0mabsolute_time\u001b[0m\u001b[0;34m)\u001b[0m\u001b[0;34m\u001b[0m\u001b[0;34m\u001b[0m\u001b[0m\n\u001b[1;32m     77\u001b[0m \u001b[0;34m\u001b[0m\u001b[0m\n",
      "\u001b[0;32m~/other/EmbryonicCortexModelling/grn/submodels/grn_v4.py\u001b[0m in \u001b[0;36mget_action\u001b[0;34m(self)\u001b[0m\n\u001b[1;32m     52\u001b[0m \u001b[0;34m\u001b[0m\u001b[0m\n\u001b[1;32m     53\u001b[0m     \u001b[0;32mdef\u001b[0m \u001b[0mget_action\u001b[0m\u001b[0;34m(\u001b[0m\u001b[0mself\u001b[0m\u001b[0;34m)\u001b[0m\u001b[0;34m:\u001b[0m\u001b[0;34m\u001b[0m\u001b[0;34m\u001b[0m\u001b[0m\n\u001b[0;32m---> 54\u001b[0;31m         \u001b[0;32mreturn\u001b[0m \u001b[0mself\u001b[0m\u001b[0;34m.\u001b[0m\u001b[0m_read_cell_program\u001b[0m\u001b[0;34m(\u001b[0m\u001b[0;34m)\u001b[0m\u001b[0;34m\u001b[0m\u001b[0;34m\u001b[0m\u001b[0m\n\u001b[0m\u001b[1;32m     55\u001b[0m \u001b[0;34m\u001b[0m\u001b[0m\n\u001b[1;32m     56\u001b[0m     \u001b[0;31m# HERE we read the output of the cell !\u001b[0m\u001b[0;34m\u001b[0m\u001b[0;34m\u001b[0m\u001b[0;34m\u001b[0m\u001b[0m\n",
      "\u001b[0;32m~/other/EmbryonicCortexModelling/grn/submodels/grn_v4.py\u001b[0m in \u001b[0;36m_read_cell_program\u001b[0;34m(self)\u001b[0m\n\u001b[1;32m     67\u001b[0m         \u001b[0mid_differentiation\u001b[0m \u001b[0;34m=\u001b[0m \u001b[0;36m1\u001b[0m\u001b[0;34m\u001b[0m\u001b[0;34m\u001b[0m\u001b[0m\n\u001b[1;32m     68\u001b[0m \u001b[0;34m\u001b[0m\u001b[0m\n\u001b[0;32m---> 69\u001b[0;31m         \u001b[0;32mif\u001b[0m \u001b[0mself\u001b[0m\u001b[0;34m.\u001b[0m\u001b[0mcell_program\u001b[0m\u001b[0;34m.\u001b[0m\u001b[0mcheck_action\u001b[0m\u001b[0;34m(\u001b[0m\u001b[0mid_differentiation\u001b[0m\u001b[0;34m,\u001b[0m \u001b[0mthr_differentiation\u001b[0m\u001b[0;34m)\u001b[0m\u001b[0;34m:\u001b[0m\u001b[0;34m\u001b[0m\u001b[0;34m\u001b[0m\u001b[0m\n\u001b[0m\u001b[1;32m     70\u001b[0m             \u001b[0mself\u001b[0m\u001b[0;34m.\u001b[0m\u001b[0m_type\u001b[0m \u001b[0;34m=\u001b[0m \u001b[0mGRNCell\u001b[0m\u001b[0;34m.\u001b[0m\u001b[0mPostMitotic\u001b[0m\u001b[0;34m\u001b[0m\u001b[0;34m\u001b[0m\u001b[0m\n\u001b[1;32m     71\u001b[0m             \u001b[0;32mreturn\u001b[0m \u001b[0mAction\u001b[0m\u001b[0;34m.\u001b[0m\u001b[0mDiffNeuron\u001b[0m\u001b[0;34m\u001b[0m\u001b[0;34m\u001b[0m\u001b[0m\n",
      "\u001b[0;32m~/other/EmbryonicCortexModelling/grn/lib/sde/cell/cell4.py\u001b[0m in \u001b[0;36mcheck_action\u001b[0;34m(self, id_gene, thr_gene)\u001b[0m\n\u001b[1;32m    103\u001b[0m         \u001b[0mare\u001b[0m \u001b[0;32mnot\u001b[0m \u001b[0myet\u001b[0m \u001b[0mimplemented\u001b[0m\u001b[0;34m.\u001b[0m\u001b[0;34m\u001b[0m\u001b[0;34m\u001b[0m\u001b[0m\n\u001b[1;32m    104\u001b[0m         \"\"\"\n\u001b[0;32m--> 105\u001b[0;31m         \u001b[0;32mreturn\u001b[0m \u001b[0mnp\u001b[0m\u001b[0;34m.\u001b[0m\u001b[0marray\u001b[0m\u001b[0;34m(\u001b[0m\u001b[0mself\u001b[0m\u001b[0;34m.\u001b[0m\u001b[0mquantities\u001b[0m\u001b[0;34m)\u001b[0m\u001b[0;34m[\u001b[0m\u001b[0mid_gene\u001b[0m\u001b[0;34m]\u001b[0m \u001b[0;34m>\u001b[0m \u001b[0mthr_gene\u001b[0m\u001b[0;34m\u001b[0m\u001b[0;34m\u001b[0m\u001b[0m\n\u001b[0m\u001b[1;32m    106\u001b[0m \u001b[0;34m\u001b[0m\u001b[0m\n\u001b[1;32m    107\u001b[0m     \u001b[0;32mdef\u001b[0m \u001b[0mreset\u001b[0m\u001b[0;34m(\u001b[0m\u001b[0mself\u001b[0m\u001b[0;34m,\u001b[0m \u001b[0mid_gene\u001b[0m\u001b[0;34m)\u001b[0m\u001b[0;34m:\u001b[0m\u001b[0;34m\u001b[0m\u001b[0;34m\u001b[0m\u001b[0m\n",
      "\u001b[0;32m/opt/jupyterhub/lib/python3.8/site-packages/jax/_src/device_array.py\u001b[0m in \u001b[0;36m__array__\u001b[0;34m(self, dtype, context)\u001b[0m\n\u001b[1;32m    264\u001b[0m \u001b[0;34m\u001b[0m\u001b[0m\n\u001b[1;32m    265\u001b[0m   \u001b[0;32mdef\u001b[0m \u001b[0m__array__\u001b[0m\u001b[0;34m(\u001b[0m\u001b[0mself\u001b[0m\u001b[0;34m,\u001b[0m \u001b[0mdtype\u001b[0m\u001b[0;34m=\u001b[0m\u001b[0;32mNone\u001b[0m\u001b[0;34m,\u001b[0m \u001b[0mcontext\u001b[0m\u001b[0;34m=\u001b[0m\u001b[0;32mNone\u001b[0m\u001b[0;34m)\u001b[0m\u001b[0;34m:\u001b[0m\u001b[0;34m\u001b[0m\u001b[0;34m\u001b[0m\u001b[0m\n\u001b[0;32m--> 266\u001b[0;31m     \u001b[0;32mreturn\u001b[0m \u001b[0mnp\u001b[0m\u001b[0;34m.\u001b[0m\u001b[0masarray\u001b[0m\u001b[0;34m(\u001b[0m\u001b[0mself\u001b[0m\u001b[0;34m.\u001b[0m\u001b[0m_value\u001b[0m\u001b[0;34m,\u001b[0m \u001b[0mdtype\u001b[0m\u001b[0;34m=\u001b[0m\u001b[0mdtype\u001b[0m\u001b[0;34m)\u001b[0m\u001b[0;34m\u001b[0m\u001b[0;34m\u001b[0m\u001b[0m\n\u001b[0m\u001b[1;32m    267\u001b[0m \u001b[0;34m\u001b[0m\u001b[0m\n\u001b[1;32m    268\u001b[0m   \u001b[0msetattr\u001b[0m\u001b[0;34m(\u001b[0m\u001b[0mdevice_array\u001b[0m\u001b[0;34m,\u001b[0m \u001b[0;34m\"__array__\"\u001b[0m\u001b[0;34m,\u001b[0m \u001b[0m__array__\u001b[0m\u001b[0;34m)\u001b[0m\u001b[0;34m\u001b[0m\u001b[0;34m\u001b[0m\u001b[0m\n",
      "\u001b[0;31mIndexError\u001b[0m: vector::_M_range_check: __n (which is 862444928) >= this->size() (which is 1)"
     ]
    }
   ],
   "source": [
    "prun = get_prun()\n",
    "prun.cb_init = callback_init\n",
    "prun.name = \"checkperf_2102_v5\"\n",
    "res = main(prun)"
   ]
  },
  {
   "cell_type": "code",
   "execution_count": null,
   "metadata": {},
   "outputs": [],
   "source": [
    "print(1)"
   ]
  },
  {
   "cell_type": "code",
   "execution_count": 18,
   "metadata": {},
   "outputs": [
    {
     "name": "stdout",
     "output_type": "stream",
     "text": [
      "Exporting at output/checkperf_2102_v5\n"
     ]
    }
   ],
   "source": [
    "exp = Exporter(name=prun.name)"
   ]
  },
  {
   "cell_type": "code",
   "execution_count": 19,
   "metadata": {},
   "outputs": [],
   "source": [
    "sm = read_model(\"generation\")"
   ]
  },
  {
   "cell_type": "code",
   "execution_count": 20,
   "metadata": {},
   "outputs": [],
   "source": [
    "res = pick_best(exp.load(pick_last(exp)))"
   ]
  },
  {
   "cell_type": "code",
   "execution_count": 21,
   "metadata": {},
   "outputs": [
    {
     "data": {
      "image/png": "[encoded data removed]",
      "text/plain": [
       "<Figure size 576x396 with 1 Axes>"
      ]
     },
     "metadata": {},
     "output_type": "display_data"
    }
   ],
   "source": [
    "show_curve(res.stats, REF.stats)"
   ]
  },
  {
   "cell_type": "code",
   "execution_count": 22,
   "metadata": {},
   "outputs": [
    {
     "name": "stdout",
     "output_type": "stream",
     "text": [
      "\n",
      "======= GENERATION generation_g0 =======\n",
      ">> G_0: init: 1.99; noise: 0.29; b: 0.71; m: 6.33; expr: 1.00; deg: 0.10; theta: 9.31; asym: 5.00; tree : 0\n",
      ">> G_1: init: 0.39; noise: 0.35; b: 1.33; m: 4.59; expr: 1.00; deg: 0.10; theta: 2.46; asym: 5.00; tree : (NOT 1 AND 0)\n",
      ">> G_2: init: 0.55; noise: 0.37; b: 0.29; m: 7.96; expr: 1.00; deg: 0.10; theta: 6.84; asym: 5.00; tree : NOT 3\n",
      ">> G_3: init: 0.39; noise: 0.52; b: 0.67; m: 8.92; expr: 1.00; deg: 0.10; theta: 7.69; asym: 5.00; tree : NOT 0\n",
      ">> G_4: init: 1.47; noise: 0.11; b: 1.71; m: 9.26; expr: 1.00; deg: 0.10; theta: 5.58; asym: 5.00; tree : 2\n",
      "\n",
      "======= GENERATION generation_g1 =======\n",
      ">> G_0: init: 0.22; noise: 0.03; b: 0.77; m: 6.89; expr: 1.00; deg: 0.10; theta: 9.67; asym: 5.00; tree : ((1 AND 3) OR 5)\n",
      ">> G_1: init: 0.20; noise: 0.18; b: 1.25; m: 7.09; expr: 1.00; deg: 0.10; theta: 1.34; asym: 5.00; tree : 3\n",
      ">> G_2: init: 2.42; noise: 0.19; b: 3.35; m: 8.79; expr: 1.00; deg: 0.10; theta: 7.07; asym: 5.00; tree : NOT 0\n",
      ">> G_3: init: 1.38; noise: 0.13; b: 1.76; m: 6.44; expr: 1.00; deg: 0.10; theta: 9.53; asym: 5.00; tree : 2\n",
      ">> G_4: init: 2.33; noise: 0.22; b: 1.53; m: 2.06; expr: 1.00; deg: 0.10; theta: 4.46; asym: 5.00; tree : (1 AND 3)\n",
      "\n",
      "======= GENERATION generation_g2 =======\n",
      ">> G_0: init: 0.21; noise: 0.18; b: 3.57; m: 4.45; expr: 1.00; deg: 0.10; theta: 4.12; asym: 4.16; tree : 2\n",
      ">> G_1: init: 0.90; noise: 0.26; b: 1.41; m: 9.94; expr: 1.00; deg: 0.10; theta: 2.54; asym: 5.00; tree : (NOT 3 OR (2 AND 4))\n",
      ">> G_2: init: 1.10; noise: 0.38; b: 3.32; m: 7.02; expr: 1.00; deg: 0.10; theta: 4.87; asym: 5.00; tree : NOT (2 OR 4)\n",
      ">> G_3: init: 0.62; noise: 0.73; b: 3.96; m: 2.13; expr: 1.00; deg: 0.10; theta: 2.41; asym: 5.00; tree : 0\n",
      ">> G_4: init: 0.42; noise: 0.18; b: 0.29; m: 9.23; expr: 1.00; deg: 0.10; theta: 5.63; asym: 5.00; tree : (3 OR 1)\n",
      "\n",
      "======= GENERATION generation_g3 =======\n",
      ">> G_0: init: 0.21; noise: 0.18; b: 3.57; m: 4.45; expr: 1.00; deg: 0.10; theta: 4.34; asym: 4.16; tree : 2\n",
      ">> G_1: init: 0.90; noise: 0.26; b: 1.41; m: 9.94; expr: 1.00; deg: 0.10; theta: 2.24; asym: 4.28; tree : (NOT 3 OR (2 AND 4))\n",
      ">> G_2: init: 1.10; noise: 0.38; b: 3.32; m: 7.02; expr: 1.00; deg: 0.10; theta: 4.90; asym: 5.00; tree : NOT 2\n",
      ">> G_3: init: 0.62; noise: 0.73; b: 3.96; m: 2.13; expr: 1.00; deg: 0.10; theta: 2.41; asym: 5.00; tree : 0\n",
      ">> G_4: init: 0.42; noise: 0.18; b: 0.29; m: 9.23; expr: 1.00; deg: 0.10; theta: 5.63; asym: 5.00; tree : 3\n",
      "\n",
      "======= GENERATION generation_g4 =======\n",
      ">> G_0: init: 0.21; noise: 0.18; b: 3.57; m: 4.45; expr: 1.00; deg: 0.10; theta: 4.34; asym: 4.16; tree : 2\n",
      ">> G_1: init: 0.90; noise: 0.26; b: 1.41; m: 9.94; expr: 1.00; deg: 0.10; theta: 3.23; asym: 4.24; tree : (NOT 3 OR 4)\n",
      ">> G_2: init: 1.10; noise: 0.38; b: 3.32; m: 7.02; expr: 1.00; deg: 0.10; theta: 4.87; asym: 5.00; tree : NOT (2 OR 4)\n",
      ">> G_3: init: 0.62; noise: 0.73; b: 3.96; m: 2.13; expr: 1.00; deg: 0.10; theta: 2.41; asym: 5.00; tree : (0 OR 5)\n",
      ">> G_4: init: 0.42; noise: 0.18; b: 0.29; m: 9.23; expr: 1.00; deg: 0.10; theta: 5.63; asym: 5.00; tree : 3\n",
      "\n",
      "======= GENERATION generation_g5 =======\n",
      ">> G_0: init: 0.21; noise: 0.18; b: 3.57; m: 4.45; expr: 1.00; deg: 0.10; theta: 3.91; asym: 4.16; tree : 2\n",
      ">> G_1: init: 0.90; noise: 0.26; b: 1.41; m: 9.94; expr: 1.00; deg: 0.10; theta: 2.62; asym: 4.28; tree : (NOT 3 OR (2 AND 4))\n",
      ">> G_2: init: 1.10; noise: 0.38; b: 3.32; m: 7.02; expr: 1.00; deg: 0.10; theta: 5.08; asym: 5.00; tree : NOT (2 OR 4)\n",
      ">> G_3: init: 0.62; noise: 0.73; b: 3.96; m: 2.13; expr: 1.00; deg: 0.10; theta: 2.42; asym: 3.42; tree : 0\n",
      ">> G_4: init: 0.42; noise: 0.18; b: 0.29; m: 9.23; expr: 1.00; deg: 0.10; theta: 5.63; asym: 5.00; tree : 3\n",
      "\n",
      "======= GENERATION generation_g6 =======\n",
      ">> G_0: init: 0.21; noise: 0.18; b: 3.57; m: 7.06; expr: 1.00; deg: 0.10; theta: 4.34; asym: 4.16; tree : 2\n",
      ">> G_1: init: 0.90; noise: 0.26; b: 1.41; m: 9.94; expr: 1.00; deg: 0.10; theta: 2.37; asym: 4.28; tree : (NOT 3 OR (2 AND 4))\n",
      ">> G_2: init: 1.10; noise: 0.38; b: 3.32; m: 7.02; expr: 1.00; deg: 0.10; theta: 4.86; asym: 5.00; tree : NOT (2 OR 4)\n",
      ">> G_3: init: 0.62; noise: 0.73; b: 3.96; m: 2.13; expr: 1.00; deg: 0.10; theta: 2.30; asym: 4.19; tree : 0\n",
      ">> G_4: init: 0.42; noise: 0.18; b: 0.29; m: 9.23; expr: 1.00; deg: 0.10; theta: 5.51; asym: 5.00; tree : 3\n",
      "\n",
      "======= GENERATION generation_g7 =======\n",
      ">> G_0: init: 0.21; noise: 0.18; b: 3.57; m: 4.45; expr: 1.00; deg: 0.10; theta: 4.61; asym: 4.16; tree : 2\n",
      ">> G_1: init: 0.90; noise: 0.26; b: 1.41; m: 9.94; expr: 1.00; deg: 0.10; theta: 3.56; asym: 3.59; tree : (NOT 3 OR (2 AND 4))\n",
      ">> G_2: init: 1.10; noise: 0.38; b: 3.32; m: 7.02; expr: 1.00; deg: 0.10; theta: 5.08; asym: 4.09; tree : NOT NOT NOT 2\n",
      ">> G_3: init: 0.62; noise: 0.73; b: 3.96; m: 2.13; expr: 1.00; deg: 0.10; theta: 2.42; asym: 3.35; tree : 0\n",
      ">> G_4: init: 0.42; noise: 0.18; b: 0.29; m: 9.23; expr: 1.00; deg: 0.10; theta: 5.63; asym: 4.16; tree : 3\n",
      "\n",
      "======= GENERATION generation_g8 =======\n",
      ">> G_0: init: 0.21; noise: 0.18; b: 3.57; m: 4.45; expr: 1.00; deg: 0.10; theta: 4.61; asym: 4.16; tree : 2\n",
      ">> G_1: init: 0.90; noise: 0.26; b: 7.82; m: 9.94; expr: 1.00; deg: 0.10; theta: 3.77; asym: 4.28; tree : (NOT 3 OR (2 AND 4))\n",
      ">> G_2: init: 1.10; noise: 0.38; b: 3.32; m: 7.02; expr: 1.00; deg: 0.10; theta: 4.55; asym: 4.09; tree : NOT NOT NOT 2\n",
      ">> G_3: init: 0.62; noise: 0.73; b: 3.96; m: 2.13; expr: 1.00; deg: 0.10; theta: 2.52; asym: 2.69; tree : 0\n",
      ">> G_4: init: 0.42; noise: 0.18; b: 0.29; m: 9.23; expr: 1.00; deg: 0.10; theta: 6.13; asym: 5.00; tree : 3\n",
      "\n",
      "======= GENERATION generation_g9 =======\n",
      ">> G_0: init: 2.97; noise: 0.18; b: 3.57; m: 4.45; expr: 1.00; deg: 0.10; theta: 4.61; asym: 4.16; tree : 2\n",
      ">> G_1: init: 0.90; noise: 0.26; b: 1.41; m: 9.94; expr: 1.00; deg: 0.10; theta: 3.56; asym: 3.71; tree : (NOT 3 OR (2 AND 4))\n",
      ">> G_2: init: 1.10; noise: 0.38; b: 3.32; m: 7.02; expr: 1.00; deg: 0.10; theta: 5.32; asym: 4.09; tree : NOT NOT NOT 2\n",
      ">> G_3: init: 0.62; noise: 0.73; b: 3.96; m: 2.13; expr: 1.00; deg: 0.10; theta: 2.43; asym: 2.91; tree : (0 OR 5)\n",
      ">> G_4: init: 0.42; noise: 0.18; b: 0.29; m: 9.23; expr: 1.00; deg: 0.10; theta: 5.63; asym: 5.00; tree : 3\n",
      "\n",
      "======= GENERATION generation_g10 =======\n",
      ">> G_0: init: 2.97; noise: 0.18; b: 3.57; m: 4.45; expr: 1.00; deg: 0.10; theta: 4.13; asym: 4.16; tree : 2\n",
      ">> G_1: init: 0.90; noise: 0.26; b: 1.41; m: 9.94; expr: 1.00; deg: 0.10; theta: 3.56; asym: 3.71; tree : (NOT 3 OR (2 AND 4))\n",
      ">> G_2: init: 1.10; noise: 0.38; b: 3.32; m: 7.02; expr: 1.00; deg: 0.10; theta: 6.30; asym: 4.09; tree : NOT NOT NOT 2\n",
      ">> G_3: init: 0.62; noise: 0.73; b: 3.96; m: 2.13; expr: 1.00; deg: 0.10; theta: 2.43; asym: 2.91; tree : (0 OR 5)\n",
      ">> G_4: init: 0.42; noise: 0.18; b: 0.29; m: 9.23; expr: 1.00; deg: 0.10; theta: 5.63; asym: 5.00; tree : 3\n",
      "\n",
      "======= GENERATION generation_g11 =======\n",
      ">> G_0: init: 2.97; noise: 0.18; b: 3.57; m: 4.45; expr: 1.00; deg: 0.10; theta: 4.39; asym: 3.49; tree : 2\n",
      ">> G_1: init: 0.90; noise: 0.26; b: 1.41; m: 9.94; expr: 1.00; deg: 0.10; theta: 4.22; asym: 3.71; tree : (NOT 3 OR (2 AND 4))\n",
      ">> G_2: init: 1.10; noise: 0.38; b: 3.32; m: 7.02; expr: 1.00; deg: 0.10; theta: 6.99; asym: 4.09; tree : NOT NOT NOT 2\n",
      ">> G_3: init: 0.62; noise: 3.94; b: 3.96; m: 2.13; expr: 1.00; deg: 0.10; theta: 1.91; asym: 3.35; tree : (0 OR 5)\n",
      ">> G_4: init: 0.42; noise: 0.18; b: 0.29; m: 9.23; expr: 1.00; deg: 0.10; theta: 5.87; asym: 5.00; tree : 3\n",
      "\n",
      "======= GENERATION generation_g12 =======\n",
      ">> G_0: init: 2.97; noise: 0.18; b: 3.57; m: 4.45; expr: 1.00; deg: 0.10; theta: 4.55; asym: 4.16; tree : 2\n",
      ">> G_1: init: 0.90; noise: 0.26; b: 1.41; m: 9.94; expr: 1.00; deg: 0.10; theta: 4.22; asym: 3.24; tree : (NOT 3 OR (2 AND 4))\n",
      ">> G_2: init: 1.10; noise: 0.38; b: 3.32; m: 7.02; expr: 1.00; deg: 0.10; theta: 5.86; asym: 4.09; tree : NOT NOT NOT 2\n",
      ">> G_3: init: 0.62; noise: 0.73; b: 3.96; m: 2.13; expr: 1.00; deg: 0.10; theta: 2.03; asym: 3.35; tree : (0 OR 5)\n",
      ">> G_4: init: 0.42; noise: 0.18; b: 0.29; m: 9.23; expr: 1.00; deg: 0.10; theta: 5.23; asym: 4.12; tree : 3\n",
      "\n",
      "======= GENERATION generation_g13 =======\n",
      ">> G_0: init: 2.97; noise: 0.18; b: 3.57; m: 4.45; expr: 1.00; deg: 0.10; theta: 4.84; asym: 3.61; tree : (2 OR 1)\n",
      ">> G_1: init: 0.90; noise: 0.26; b: 1.41; m: 9.94; expr: 1.00; deg: 0.10; theta: 3.62; asym: 3.24; tree : (NOT 3 OR (2 AND 4))\n",
      ">> G_2: init: 1.10; noise: 0.38; b: 3.32; m: 7.02; expr: 1.00; deg: 0.10; theta: 5.86; asym: 3.34; tree : NOT NOT NOT 2\n",
      ">> G_3: init: 0.62; noise: 0.73; b: 3.96; m: 2.13; expr: 1.00; deg: 0.10; theta: 1.88; asym: 2.88; tree : (0 OR 5)\n",
      ">> G_4: init: 0.42; noise: 0.18; b: 0.29; m: 9.23; expr: 1.00; deg: 0.10; theta: 4.96; asym: 3.46; tree : 3\n"
     ]
    }
   ],
   "source": [
    "for g in sorted(filter(sm.match, exp.list()), key=lambda x: int(sm.extract(x)[\"generation\"])):\n",
    "    gen = exp.load(g)\n",
    "    res = pick_best(gen)\n",
    "    print()\n",
    "    print(f\"======= GENERATION {g} =======\")\n",
    "    print(res.grn)"
   ]
  },
  {
   "cell_type": "code",
   "execution_count": null,
   "metadata": {},
   "outputs": [],
   "source": []
  }
 ],
 "metadata": {
  "kernelspec": {
   "display_name": "Python 3",
   "language": "python",
   "name": "python3"
  },
  "language_info": {
   "codemirror_mode": {
    "name": "ipython",
    "version": 3
   },
   "file_extension": ".py",
   "mimetype": "text/x-python",
   "name": "python",
   "nbconvert_exporter": "python",
   "pygments_lexer": "ipython3",
   "version": "3.8.10"
  }
 },
 "nbformat": 4,
 "nbformat_minor": 4
}
