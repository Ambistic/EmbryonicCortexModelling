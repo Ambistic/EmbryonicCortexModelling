{
 "cells": [
  {
   "cell_type": "code",
   "execution_count": 1,
   "metadata": {},
   "outputs": [],
   "source": [
    "import os\n",
    "os.environ[\"XLA_PYTHON_CLIENT_MEM_FRACTION\"] = \".13\""
   ]
  },
  {
   "cell_type": "code",
   "execution_count": 2,
   "metadata": {},
   "outputs": [],
   "source": [
    "import pandas as pd\n",
    "# from model import Brain\n",
    "from brain import BrainModel\n",
    "from submodels import factories\n",
    "import matplotlib.pyplot as plt\n",
    "import pandas as pd\n",
    "from itertools import accumulate\n",
    "import numpy as np\n",
    "from collections import defaultdict\n",
    "from random import shuffle\n",
    "\n",
    "from lib.score import (\n",
    "    fate_corr, score_both_size_norm, shrink_and_align_stats, score_stats_norm\n",
    ")\n",
    "from lib.preprocess import *\n",
    "from lib.callback import (\n",
    "    cell_number_callback, progenitor_number_callback, neuron_number_callback,\n",
    "    TargetPopulation, TagNumberCallback,\n",
    ")\n",
    "from lib.sde.grn3 import GRNMain3\n",
    "from lib.sde.mutate import mutate_grn3\n",
    "from lib.ga.utils import weighted_selection_one, normalize_fitness_values\n",
    "from jf.utils.export import Exporter\n",
    "from jf.autocompute.jf import O, L"
   ]
  },
  {
   "cell_type": "code",
   "execution_count": 3,
   "metadata": {},
   "outputs": [],
   "source": [
    "HISTORY = defaultdict(dict)\n",
    "HALL_OF_FAME = []"
   ]
  },
  {
   "cell_type": "code",
   "execution_count": 4,
   "metadata": {},
   "outputs": [],
   "source": [
    "_count = -1\n",
    "def provide_id():\n",
    "    global _count\n",
    "    _count += 1\n",
    "    return _count"
   ]
  },
  {
   "cell_type": "code",
   "execution_count": 5,
   "metadata": {},
   "outputs": [],
   "source": [
    "REF = O(\n",
    "    stats=pd.read_csv(\"output/results/setup_basic/export/ref_basic2.csv\"),  # ref is a mean\n",
    "    # fmetric=setup_ref_fmetric(\"output/results/setup_basic/export/ref_fmetric_tristate.csv\"),\n",
    ")"
   ]
  },
  {
   "cell_type": "code",
   "execution_count": 6,
   "metadata": {},
   "outputs": [],
   "source": [
    "def individual_generator(id_=-1):\n",
    "    return Solution(GRNMain3(5, 0, 0), id_=id_)"
   ]
  },
  {
   "cell_type": "code",
   "execution_count": 7,
   "metadata": {},
   "outputs": [],
   "source": [
    "class Solution:\n",
    "    def __init__(self, grn, id_=0, parent=-1):\n",
    "        self.id = id_\n",
    "        self.grn = grn\n",
    "        self.parent = parent\n",
    "        self.fit = -1\n",
    "        self.stats = None\n",
    "        \n",
    "    def copy(self, id_=0):\n",
    "        return Solution(self.grn.copy(), id_=id_, parent=self.id)\n",
    "        \n",
    "    def mutate(self):\n",
    "        for i in range(1):\n",
    "            mutate_grn3(self.grn)"
   ]
  },
  {
   "cell_type": "code",
   "execution_count": 8,
   "metadata": {},
   "outputs": [],
   "source": [
    "# def score_bb_size(bb, ref, *args, **kwargs):\n",
    "#     return score_both_size_norm(bb.stats, ref.stats, *args, **kwargs, norm=2.0)"
   ]
  },
  {
   "cell_type": "code",
   "execution_count": 9,
   "metadata": {},
   "outputs": [],
   "source": [
    "def score_bb_size(bb, ref, *args, **kwargs):\n",
    "    \"\"\"Returns the max score of the subbrains\n",
    "    It will later be translated to fitness (1 / score)\"\"\"\n",
    "    score = 1e-9\n",
    "    for i in range(3):\n",
    "        new_score = (\n",
    "            score_stats_norm(bb.stats, ref.stats, col_stats=f\"tag_prog{i}\",\n",
    "                             col_ref=\"progenitor_pop_size\", norm=2.0, *args, **kwargs)\n",
    "            + score_stats_norm(bb.stats, ref.stats, col_stats=f\"tag_whole{i}\",\n",
    "                             col_ref=\"whole_pop_size\", norm=2.0, *args, **kwargs)\n",
    "        )\n",
    "        score = max(score, new_score)\n",
    "    return score\n",
    "\n",
    "def score_bb_size_old(bb, ref, *args, **kwargs):\n",
    "    return (\n",
    "        score_stats_norm(bb.stats, ref.stats, col_stats=f\"progenitor_pop_size\",\n",
    "                         col_ref=\"progenitor_pop_size\", norm=2.0, *args, **kwargs)\n",
    "        + score_stats_norm(bb.stats, ref.stats, col_stats=f\"whole_pop_size\",\n",
    "                         col_ref=\"whole_pop_size\", norm=2.0, *args, **kwargs)\n",
    "    )"
   ]
  },
  {
   "cell_type": "code",
   "execution_count": 10,
   "metadata": {},
   "outputs": [],
   "source": [
    "def setup_tag(cp):\n",
    "    indexes = list(cp.base_population.keys())\n",
    "    shuffle(indexes)\n",
    "    splits = np.array_split(indexes, 3)\n",
    "    for i, ls in enumerate(splits):\n",
    "        for idx in ls:\n",
    "            cp.base_population[idx].tag[\"subbrain\"] = i"
   ]
  },
  {
   "cell_type": "code",
   "execution_count": 11,
   "metadata": {},
   "outputs": [],
   "source": [
    "def get_bb(prun, grn):\n",
    "    ccls = factories[\"grn3\"](grn=grn)\n",
    "    callbacks = dict(\n",
    "        progenitor_pop_size=progenitor_number_callback,\n",
    "        whole_pop_size=cell_number_callback,\n",
    "        neuron_pop_size=neuron_number_callback,\n",
    "        tag_prog0=TagNumberCallback(TargetPopulation.progenitor, \"subbrain\", 0, neg=True),\n",
    "        tag_prog1=TagNumberCallback(TargetPopulation.progenitor, \"subbrain\", 1, neg=True),\n",
    "        tag_prog2=TagNumberCallback(TargetPopulation.progenitor, \"subbrain\", 2, neg=True),\n",
    "        tag_whole0=TagNumberCallback(TargetPopulation.whole, \"subbrain\", 0, neg=True),\n",
    "        tag_whole1=TagNumberCallback(TargetPopulation.whole, \"subbrain\", 1, neg=True),\n",
    "        tag_whole2=TagNumberCallback(TargetPopulation.whole, \"subbrain\", 2, neg=True),\n",
    "    )\n",
    "    bb = BrainModel(time_step=0.5, verbose=False, start_population=prun.size, max_pop_size=2e3,\n",
    "            cell_cls=ccls, end_time=prun.end_time, start_time=50, silent=True, opti=True,\n",
    "              run_tissue=False, monitor_callbacks=callbacks, tag_func=setup_tag)\n",
    "    return bb"
   ]
  },
  {
   "cell_type": "code",
   "execution_count": 12,
   "metadata": {},
   "outputs": [],
   "source": [
    "def run_grn(prun, grn):\n",
    "    get_bb(prun, grn)\n",
    "    bb.run()\n",
    "    return bb"
   ]
  },
  {
   "cell_type": "code",
   "execution_count": 13,
   "metadata": {},
   "outputs": [],
   "source": [
    "def fitness_multistep(prun, grn, steps):\n",
    "    total_fitness = 0\n",
    "    stop = False\n",
    "    previous_time = None\n",
    "    bb = get_bb(prun, grn)\n",
    "    # first step\n",
    "    for step in steps:\n",
    "        if not bb.run_until(step.end_time):\n",
    "            stop = True\n",
    "        # score_step = score_both_size(bb.stats, prun.ref, max_step=step.end_time, min_step=previous_time)\n",
    "        score_step = step.score_func(bb, prun.ref, max_step=step.end_time, min_step=step.start_time)\n",
    "        fitness_step = 1.0 / score_step\n",
    "        fitness_step = min(fitness_step, step.max_fitness)\n",
    "        total_fitness += fitness_step\n",
    "        if fitness_step < step.min_fitness or stop:\n",
    "            return total_fitness, bb.stats\n",
    "        else:\n",
    "            previous_time = step.end_time\n",
    "            step.passed()\n",
    "        \n",
    "    return total_fitness, bb.stats\n",
    "\n",
    "def score_multistep(prun, stats, steps):\n",
    "    total_fitness = 0\n",
    "    stop = False\n",
    "    previous_time = None\n",
    "    # first step\n",
    "    for i, step in enumerate(steps):\n",
    "        # score_step = score_both_size(bb.stats, prun.ref, max_step=step.end_time, min_step=previous_time)\n",
    "        score_step = step.score_func(bb, prun.ref, max_step=step.end_time, min_step=step.start_time)\n",
    "        print(f\"Score for step {i} is {score_step}\")\n",
    "        fitness_step = 1.0 / score_step\n",
    "        fitness_step = min(fitness_step, step.max_fitness)\n",
    "        total_fitness += fitness_step\n",
    "        if fitness_step < step.min_fitness or stop:\n",
    "            return total_fitness\n",
    "        previous_time = step.end_time\n",
    "        \n",
    "    return total_fitness"
   ]
  },
  {
   "cell_type": "code",
   "execution_count": 14,
   "metadata": {},
   "outputs": [],
   "source": [
    "def mean_sd_fitness(prun, grn, run=3):\n",
    "    fitnesses = [fitness_multistep(prun, grn) for i in range(run)]\n",
    "    return np.mean(fitnesses), np.std(fitnesses)"
   ]
  },
  {
   "cell_type": "code",
   "execution_count": 15,
   "metadata": {},
   "outputs": [],
   "source": [
    "def multi_fitness(*args):\n",
    "    fitnesses = [fitness_multistep(*args) for i in range(3)]\n",
    "    scores = [x[0] for x in fitnesses]\n",
    "    return fitnesses[scores.index(min(scores))]"
   ]
  },
  {
   "cell_type": "code",
   "execution_count": 16,
   "metadata": {},
   "outputs": [],
   "source": [
    "def do_init(prun):\n",
    "    return individual_generator(provide_id())\n",
    "\n",
    "def do_fitness(prun, sol):\n",
    "    fitness, stats = fitness_multistep(prun, sol.grn, prun.steps)\n",
    "    return fitness, stats\n",
    "\n",
    "def do_selection(prun, pop_fit, pop):\n",
    "    if len(pop) < prun.min_pop:\n",
    "        return individual_generator(provide_id())\n",
    "    \n",
    "    if prun.normalize:\n",
    "        pop_fit = normalize_fitness_values(pop_fit)\n",
    "    return weighted_selection_one(pop, pop_fit, individual_generator, new_fitness=0.5, id_=provide_id())[0]\n",
    "\n",
    "def do_mutation(prun, sol):\n",
    "    sol.mutate()\n",
    "    return sol"
   ]
  },
  {
   "cell_type": "code",
   "execution_count": 17,
   "metadata": {},
   "outputs": [],
   "source": [
    "class ObjectiveStep(O):\n",
    "    start_time = 0\n",
    "    end_time = 0\n",
    "    max_fitness = 4\n",
    "    min_fitness = 1\n",
    "    name = \"\"\n",
    "    _passed = False\n",
    "    \n",
    "    def reset(self):\n",
    "        self._passed = False\n",
    "    \n",
    "    def passed(self):\n",
    "        if self._passed:\n",
    "            return\n",
    "        print(f\"Step {self.name} passed !\")\n",
    "        self._passed = True\n",
    "    \n",
    "example_steps_stabilize = [\n",
    "    ObjectiveStep(name=\"1\", start_time=50, end_time=53, score_func=score_bb_size, min_fitness=0.5),\n",
    "    ObjectiveStep(name=\"2\", start_time=53, end_time=56, score_func=score_bb_size, min_fitness=0.5),\n",
    "    ObjectiveStep(name=\"3\", start_time=56, end_time=59, score_func=score_bb_size, min_fitness=0.5),\n",
    "    ObjectiveStep(name=\"4\", start_time=59, end_time=62, score_func=score_bb_size, min_fitness=0.5),\n",
    "    ObjectiveStep(name=\"5\", start_time=62, end_time=65, score_func=score_bb_size, min_fitness=0.5),\n",
    "    ObjectiveStep(name=\"6\", start_time=65, end_time=68, score_func=score_bb_size, min_fitness=0.5),\n",
    "    ObjectiveStep(name=\"7\", start_time=68, end_time=71, score_func=score_bb_size, min_fitness=0.5),\n",
    "    ObjectiveStep(name=\"8\", start_time=71, end_time=74, score_func=score_bb_size, min_fitness=0.5),\n",
    "    ObjectiveStep(name=\"9\", start_time=74, end_time=77, score_func=score_bb_size, min_fitness=0.5),\n",
    "]\n",
    "\n",
    "example_steps = [\n",
    "    ObjectiveStep(name=\"1\", start_time=50, end_time=53, score_func=score_bb_size_old),\n",
    "    ObjectiveStep(name=\"2\", start_time=53, end_time=56, score_func=score_bb_size_old),\n",
    "    ObjectiveStep(name=\"3\", start_time=56, end_time=59, score_func=score_bb_size_old),\n",
    "    ObjectiveStep(name=\"4\", start_time=59, end_time=62, score_func=score_bb_size_old),\n",
    "    ObjectiveStep(name=\"5\", start_time=62, end_time=65, score_func=score_bb_size_old),\n",
    "    ObjectiveStep(name=\"6\", start_time=65, end_time=68, score_func=score_bb_size_old),\n",
    "    ObjectiveStep(name=\"7\", start_time=68, end_time=71, score_func=score_bb_size_old),\n",
    "    ObjectiveStep(name=\"8\", start_time=71, end_time=74, score_func=score_bb_size_old),\n",
    "    ObjectiveStep(name=\"9\", start_time=74, end_time=77, score_func=score_bb_size_old),\n",
    "]\n",
    "\n",
    "class ParamRun(O):\n",
    "    pop_size = 10\n",
    "    n_gen = 10\n",
    "    current_gen = 0\n",
    "    end_time = 83\n",
    "    ref = REF\n",
    "    min_pop = 20\n",
    "    max_pop = 50\n",
    "\n",
    "def get_prun(size=5, normalize=False, stabilize=False):\n",
    "    prun = ParamRun()\n",
    "    prun.size = size\n",
    "    prun.normalize = normalize\n",
    "    prun.steps = example_steps_stabilize if stabilize else example_steps\n",
    "    return prun"
   ]
  },
  {
   "cell_type": "code",
   "execution_count": 18,
   "metadata": {},
   "outputs": [],
   "source": [
    "def main(prun):\n",
    "    prun.history = defaultdict(dict)\n",
    "    # exporter = Exporter()\n",
    "    best = 0\n",
    "    sol = do_init(prun)\n",
    "    pop = [sol]\n",
    "    for generation in range(prun.n_gen * prun.pop_size):\n",
    "        # args.generation = generation\n",
    "        # objective.new_trial()\n",
    "        fit, stats = do_fitness(prun, sol)\n",
    "        sol.fit = fit\n",
    "        sol.stats = stats\n",
    "        \n",
    "        # history\n",
    "        # print(f\"Fitness = {fit}\", end=\"\\t\\t\")\n",
    "        if generation % 100 == 0:\n",
    "            print(f\"Step {generation}\")\n",
    "        if fit > best:\n",
    "            print(f\"++ Best {fit} for generation {generation}\")\n",
    "            best = fit\n",
    "            \n",
    "        monitor = sol\n",
    "        prun.history[generation] = monitor\n",
    "        # exporter(monitor, f\"generation_g{generation}\")\n",
    "        \n",
    "        # TODO get the stats associated with the best scores\n",
    "        sub_pop = pop[-prun.max_pop:]\n",
    "        sol = do_selection(prun, [s.fit for s in sub_pop], sub_pop)\n",
    "            \n",
    "        sol = do_mutation(prun, sol)\n",
    "        pop.append(sol)\n",
    "        \n",
    "    print(\"OVER\")\n",
    "    return best"
   ]
  },
  {
   "cell_type": "code",
   "execution_count": 19,
   "metadata": {},
   "outputs": [],
   "source": [
    "def get_score_parametrized(size=5, normalize=False, stabilize=False, name=None):\n",
    "    args = get_prun(size, normalize, stabilize)\n",
    "    args.name = name\n",
    "    main(args)\n",
    "    p1 = L(args.history.values()).fit\n",
    "    idx = p1.index(max(p1))\n",
    "    sol = args.history[idx]\n",
    "    scores = [fitness_multistep(args, sol.grn, args.steps)[0] for i in range(10)]\n",
    "    return np.mean(scores), np.std(scores), max(p1)"
   ]
  },
  {
   "cell_type": "code",
   "execution_count": 20,
   "metadata": {},
   "outputs": [],
   "source": [
    "from itertools import product\n",
    "import jf.models.stringmodel as sm"
   ]
  },
  {
   "cell_type": "code",
   "execution_count": 21,
   "metadata": {},
   "outputs": [],
   "source": [
    "model = sm.StringModel(\"expstabv2_s{size}_n{norm}_stab{stab}_i{i}\")\n",
    "keys = (\"size\", \"norm\", \"stab\", \"i\")\n",
    "gen = product([3, 5, 7], [True, False], [True, False], range(5))"
   ]
  },
  {
   "cell_type": "code",
   "execution_count": null,
   "metadata": {},
   "outputs": [
    {
     "name": "stdout",
     "output_type": "stream",
     "text": [
      "Exporting at output/exp_stability_v2\n",
      "expstabv2_s3_nTrue_stabTrue_i0 (3, True, True, 0)\n",
      "Step 0\n",
      "++ Best 0.0907228057412207 for generation 0\n",
      "++ Best 0.10803605952668555 for generation 2\n",
      "++ Best 0.32087775640495947 for generation 13\n",
      "OVER\n",
      "expstabv2_s3_nTrue_stabTrue_i1 (3, True, True, 1)\n",
      "Step 0\n",
      "++ Best 0.0907228057412207 for generation 0\n",
      "++ Best 0.09535150544375785 for generation 1\n",
      "++ Best 0.10310121250647983 for generation 2\n",
      "++ Best 0.10982840622540709 for generation 3\n",
      "++ Best 0.11133224025275464 for generation 14\n",
      "++ Best 0.13528155228667504 for generation 17\n",
      "++ Best 0.14102785620492192 for generation 33\n",
      "++ Best 0.22059789544484654 for generation 34\n",
      "++ Best 0.264573176328145 for generation 71\n",
      "++ Best 0.2690690682240413 for generation 90\n",
      "++ Best 0.2736783858389054 for generation 96\n",
      "++ Best 0.2848430502710588 for generation 98\n",
      "OVER\n",
      "Step 1 passed !\n",
      "expstabv2_s3_nTrue_stabTrue_i2 (3, True, True, 2)\n",
      "Step 0\n",
      "++ Best 0.16750889466666538 for generation 0\n",
      "++ Best 0.31425963600902934 for generation 24\n",
      "OVER\n",
      "expstabv2_s3_nTrue_stabTrue_i3 (3, True, True, 3)\n",
      "Step 0\n",
      "++ Best 0.0907228057412207 for generation 0\n",
      "++ Best 0.10683483209986666 for generation 1\n",
      "++ Best 0.13133588708264243 for generation 28\n",
      "++ Best 0.1386511889366154 for generation 43\n",
      "++ Best 0.22916193242752045 for generation 48\n",
      "++ Best 0.3191905499082845 for generation 52\n",
      "++ Best 0.4634197306770221 for generation 62\n",
      "OVER\n",
      "expstabv2_s3_nTrue_stabTrue_i4 (3, True, True, 4)\n",
      "Step 0\n",
      "++ Best 0.0907228057412207 for generation 0\n",
      "++ Best 0.0931726019490177 for generation 2\n",
      "++ Best 0.11268384427069789 for generation 12\n",
      "++ Best 0.11596370759578292 for generation 32\n",
      "++ Best 0.16274640254563186 for generation 36\n",
      "++ Best 0.46416628503150126 for generation 37\n",
      "++ Best 0.6264895714217201 for generation 38\n",
      "++ Best 0.6286302675625705 for generation 49\n",
      "++ Best 0.8462031326898876 for generation 57\n",
      "++ Best 1.2151436947051129 for generation 68\n",
      "++ Best 1.78322081363524 for generation 77\n",
      "OVER\n",
      "expstabv2_s3_nTrue_stabFalse_i0 (3, True, False, 0)\n",
      "Step 0\n",
      "++ Best 0.0923883294405442 for generation 0\n",
      "++ Best 0.11312731760457095 for generation 1\n",
      "++ Best 0.1145793753689336 for generation 17\n",
      "++ Best 0.6854292955136022 for generation 26\n",
      "++ Best 0.68765677943575 for generation 40\n",
      "++ Best 0.8809086708149655 for generation 44\n",
      "Step 1 passed !\n",
      "Step 2 passed !\n",
      "++ Best 5.158463856643215 for generation 51\n",
      "++ Best 5.48699133838729 for generation 72\n",
      "OVER\n",
      "expstabv2_s3_nTrue_stabFalse_i1 (3, True, False, 1)\n",
      "Step 0\n",
      "++ Best 0.0003500610499095759 for generation 0\n",
      "++ Best 0.0907228057412207 for generation 1\n",
      "++ Best 0.11026669063353142 for generation 2\n",
      "++ Best 0.1126544056988407 for generation 4\n",
      "++ Best 0.11575399021851988 for generation 14\n",
      "++ Best 0.7713730889633686 for generation 15\n",
      "++ Best 0.9081896178238376 for generation 23\n",
      "++ Best 3.223295042181549 for generation 25\n",
      "++ Best 3.416056489365396 for generation 41\n",
      "++ Best 3.6806706178179303 for generation 44\n",
      "Step 3 passed !\n",
      "++ Best 5.496356354848148 for generation 88\n",
      "OVER\n",
      "expstabv2_s3_nTrue_stabFalse_i2 (3, True, False, 2)\n",
      "Step 0\n",
      "++ Best 0.0037453328000627297 for generation 0\n",
      "++ Best 0.0907228057412207 for generation 1\n",
      "++ Best 0.0923883294405442 for generation 3\n",
      "++ Best 0.09548400350562214 for generation 6\n",
      "++ Best 0.15071883705720776 for generation 8\n",
      "++ Best 0.19398447273123445 for generation 24\n",
      "++ Best 1.2478034258767765 for generation 50\n",
      "++ Best 1.40155427919789 for generation 52\n",
      "++ Best 2.05289624840918 for generation 55\n",
      "++ Best 2.1817037757663607 for generation 80\n",
      "OVER\n",
      "expstabv2_s3_nTrue_stabFalse_i3 (3, True, False, 3)\n",
      "Step 0\n",
      "++ Best 0.0907228057412207 for generation 0\n",
      "++ Best 0.0923883294405442 for generation 2\n",
      "++ Best 0.6508575073340138 for generation 6\n",
      "++ Best 0.7662944342448644 for generation 15\n",
      "++ Best 2.140010804722708 for generation 28\n",
      "++ Best 3.42140978088082 for generation 31\n",
      "++ Best 3.4231404170262367 for generation 42\n",
      "++ Best 3.4357308455982785 for generation 44\n",
      "++ Best 3.9400044356663604 for generation 49\n",
      "++ Best 4.23280221582093 for generation 66\n",
      "OVER\n",
      "expstabv2_s3_nTrue_stabFalse_i4 (3, True, False, 4)\n",
      "Step 0\n",
      "++ Best 0.0923883294405442 for generation 0\n",
      "++ Best 0.09530687030480513 for generation 1\n",
      "++ Best 0.09672512728631028 for generation 3\n",
      "++ Best 0.11029772798977781 for generation 6\n",
      "++ Best 0.11365221634330984 for generation 24\n",
      "++ Best 0.1146469576885497 for generation 35\n",
      "++ Best 0.4437521272906228 for generation 42\n",
      "++ Best 0.4491051829055756 for generation 47\n",
      "++ Best 0.46872092073799687 for generation 68\n",
      "++ Best 0.5769328866772625 for generation 85\n",
      "++ Best 0.6070755445338368 for generation 86\n",
      "++ Best 0.6076166329432631 for generation 94\n",
      "OVER\n",
      "Step 4 passed !\n",
      "Step 5 passed !\n",
      "expstabv2_s3_nFalse_stabTrue_i0 (3, False, True, 0)\n",
      "Step 0\n",
      "++ Best 0.10854404392220948 for generation 0\n",
      "++ Best 0.11932702884558673 for generation 20\n",
      "++ Best 0.12403540814308184 for generation 23\n",
      "++ Best 0.16845041339062 for generation 76\n",
      "++ Best 0.18514713381842046 for generation 97\n",
      "OVER\n",
      "expstabv2_s3_nFalse_stabTrue_i1 (3, False, True, 1)\n",
      "Step 0\n",
      "++ Best 0.0907228057412207 for generation 0\n",
      "++ Best 0.10661116991640276 for generation 4\n",
      "++ Best 0.10895290417667819 for generation 9\n",
      "++ Best 0.20891665660164271 for generation 14\n",
      "++ Best 0.26049370676247613 for generation 57\n",
      "OVER\n",
      "expstabv2_s3_nFalse_stabTrue_i2 (3, False, True, 2)\n",
      "Step 0\n",
      "++ Best 0.07824369259178535 for generation 0\n",
      "++ Best 0.0907228057412207 for generation 1\n",
      "++ Best 0.10661116991640276 for generation 6\n",
      "OVER\n",
      "expstabv2_s3_nFalse_stabTrue_i3 (3, False, True, 3)\n",
      "Step 0\n",
      "++ Best 0.0907228057412207 for generation 0\n",
      "++ Best 0.09535150544375785 for generation 6\n",
      "Step 2 passed !\n",
      "Step 3 passed !\n",
      "Step 4 passed !\n",
      "++ Best 4.250676612311393 for generation 9\n",
      "Step 5 passed !\n",
      "Step 6 passed !\n",
      "Step 7 passed !\n",
      "Step 8 passed !\n",
      "++ Best 13.24357060738836 for generation 25\n",
      "++ Best 14.701662971646513 for generation 37\n",
      "++ Best 15.106355294194353 for generation 65\n",
      "OVER\n",
      "expstabv2_s3_nFalse_stabTrue_i4 (3, False, True, 4)\n",
      "Step 0\n",
      "++ Best 0.0907228057412207 for generation 0\n",
      "++ Best 0.09530687030480513 for generation 2\n",
      "++ Best 0.10537057844139293 for generation 9\n",
      "++ Best 0.10982840622540709 for generation 16\n",
      "++ Best 0.18095056380952423 for generation 74\n",
      "OVER\n",
      "expstabv2_s3_nFalse_stabFalse_i0 (3, False, False, 0)\n",
      "Step 0\n",
      "++ Best 0.0907228057412207 for generation 0\n",
      "++ Best 0.1146469576885497 for generation 1\n",
      "++ Best 0.16906300147128384 for generation 3\n",
      "++ Best 0.7813963796621077 for generation 15\n",
      "++ Best 0.7847569419800294 for generation 21\n",
      "++ Best 2.810352793625996 for generation 33\n",
      "++ Best 4.620751614476652 for generation 58\n",
      "OVER\n",
      "expstabv2_s3_nFalse_stabFalse_i1 (3, False, False, 1)\n",
      "Step 0\n",
      "++ Best 0.11525576038846139 for generation 0\n",
      "++ Best 0.18399429062823713 for generation 11\n",
      "++ Best 0.7330176846338549 for generation 22\n",
      "++ Best 0.7764060077980782 for generation 57\n",
      "++ Best 1.6751160551235937 for generation 62\n",
      "++ Best 2.686526787333447 for generation 65\n",
      "++ Best 3.163595962946048 for generation 71\n",
      "OVER\n",
      "expstabv2_s3_nFalse_stabFalse_i2 (3, False, False, 2)\n",
      "Step 0\n",
      "++ Best 0.0907228057412207 for generation 0\n",
      "++ Best 0.09672512728631028 for generation 1\n",
      "++ Best 0.1095245020233384 for generation 2\n",
      "++ Best 0.9678210735846298 for generation 9\n",
      "++ Best 0.9682966810030911 for generation 40\n",
      "++ Best 0.9878869559154976 for generation 41\n",
      "++ Best 1.4070527240857829 for generation 54\n",
      "++ Best 1.4337644048883773 for generation 69\n",
      "OVER\n",
      "expstabv2_s3_nFalse_stabFalse_i3 (3, False, False, 3)\n",
      "Step 0\n",
      "++ Best 0.09672512728631028 for generation 0\n",
      "++ Best 3.4056708568640577 for generation 1\n",
      "++ Best 11.341696091448084 for generation 68\n",
      "OVER\n",
      "expstabv2_s3_nFalse_stabFalse_i4 (3, False, False, 4)\n",
      "Step 0\n",
      "++ Best 0.0923883294405442 for generation 0\n",
      "++ Best 0.14499317833193684 for generation 1\n",
      "++ Best 0.14657303450581075 for generation 10\n",
      "++ Best 0.47850034876512443 for generation 13\n",
      "OVER\n",
      "expstabv2_s5_nTrue_stabTrue_i0 (5, True, True, 0)\n",
      "Step 0\n",
      "++ Best 0.13049685347197434 for generation 0\n",
      "++ Best 0.1414695616235862 for generation 3\n",
      "++ Best 0.1440165696995226 for generation 14\n",
      "++ Best 0.14567184497645475 for generation 20\n",
      "++ Best 0.1739856958476163 for generation 22\n",
      "++ Best 0.17724196338839285 for generation 30\n",
      "++ Best 0.47117743365953707 for generation 32\n",
      "++ Best 0.6330566609853867 for generation 34\n",
      "++ Best 0.6887664242997114 for generation 46\n",
      "++ Best 0.8444213833876502 for generation 64\n",
      "++ Best 0.9028614992855579 for generation 70\n",
      "++ Best 0.9210527915164264 for generation 83\n",
      "++ Best 1.1193337343785215 for generation 95\n",
      "OVER\n",
      "expstabv2_s5_nTrue_stabTrue_i1 (5, True, True, 1)\n",
      "Step 0\n",
      "++ Best 0.09571809734433562 for generation 0\n",
      "++ Best 0.29987895495302763 for generation 2\n",
      "++ Best 0.3939900287220061 for generation 7\n",
      "++ Best 1.3567265384600513 for generation 18\n",
      "++ Best 2.376039482278733 for generation 38\n",
      "++ Best 2.546270199207641 for generation 59\n",
      "++ Best 3.950606407715042 for generation 61\n",
      "++ Best 5.211274788620079 for generation 69\n",
      "OVER\n",
      "expstabv2_s5_nTrue_stabTrue_i2 (5, True, True, 2)\n",
      "Step 0\n",
      "++ Best 0.09618679497678587 for generation 0\n",
      "++ Best 0.2272286951976767 for generation 3\n",
      "++ Best 2.8069431431117344 for generation 15\n",
      "++ Best 4.327733566179361 for generation 20\n",
      "++ Best 5.932267972254969 for generation 21\n",
      "++ Best 6.701902253888963 for generation 22\n",
      "++ Best 7.579733217976108 for generation 42\n",
      "++ Best 17.3493399540066 for generation 52\n",
      "++ Best 18.12094322392752 for generation 54\n",
      "++ Best 19.827387336471475 for generation 61\n",
      "++ Best 20.83736413524939 for generation 96\n",
      "OVER\n",
      "expstabv2_s5_nTrue_stabTrue_i3 (5, True, True, 3)\n",
      "Step 0\n",
      "++ Best 0.13158285924979085 for generation 0\n",
      "++ Best 0.803994016117558 for generation 3\n",
      "++ Best 0.9071758149452035 for generation 17\n",
      "++ Best 1.0092830235640182 for generation 24\n",
      "++ Best 1.028798695370229 for generation 27\n",
      "++ Best 1.1700872306370615 for generation 38\n",
      "++ Best 1.5753427214384097 for generation 53\n",
      "++ Best 1.5870965474388237 for generation 80\n",
      "++ Best 1.9984255502122503 for generation 92\n",
      "OVER\n",
      "expstabv2_s5_nTrue_stabTrue_i4 (5, True, True, 4)\n",
      "Step 0\n",
      "++ Best 0.09483595283681925 for generation 0\n",
      "++ Best 0.10734588740554392 for generation 1\n",
      "++ Best 0.3116443342213351 for generation 3\n",
      "++ Best 0.7211854335794528 for generation 13\n",
      "++ Best 0.9456892464488328 for generation 57\n",
      "++ Best 1.0721842113758244 for generation 67\n",
      "++ Best 1.0939732970411011 for generation 68\n",
      "++ Best 1.101222325380729 for generation 91\n",
      "++ Best 1.3320510260622933 for generation 92\n",
      "OVER\n",
      "expstabv2_s5_nTrue_stabFalse_i0 (5, True, False, 0)\n",
      "Step 0\n",
      "++ Best 0.09648258597856986 for generation 0\n",
      "++ Best 0.563179196031494 for generation 3\n",
      "++ Best 0.8816901053088227 for generation 5\n",
      "++ Best 4.500748116053776 for generation 15\n",
      "++ Best 6.508275602697823 for generation 27\n",
      "++ Best 6.685780346248724 for generation 34\n",
      "++ Best 6.849588851374121 for generation 46\n",
      "++ Best 6.9604750140157865 for generation 58\n",
      "++ Best 6.995880173331857 for generation 74\n",
      "++ Best 7.911134049248731 for generation 80\n",
      "OVER\n",
      "expstabv2_s5_nTrue_stabFalse_i1 (5, True, False, 1)\n",
      "Step 0\n",
      "++ Best 0.0009570883531815909 for generation 0\n",
      "++ Best 0.09709075820426351 for generation 1\n",
      "++ Best 0.11616142262692584 for generation 6\n",
      "++ Best 6.7472054855723655 for generation 10\n",
      "++ Best 7.019905817239366 for generation 26\n",
      "++ Best 7.07207655493559 for generation 64\n",
      "++ Best 7.705335229515945 for generation 68\n",
      "++ Best 8.328512160537567 for generation 83\n",
      "OVER\n",
      "expstabv2_s5_nTrue_stabFalse_i2 (5, True, False, 2)\n",
      "Step 0\n",
      "++ Best 0.09648258597856986 for generation 0\n",
      "++ Best 0.14483544671812654 for generation 1\n",
      "++ Best 0.22378821570938523 for generation 6\n",
      "++ Best 0.8221796655094596 for generation 8\n",
      "++ Best 2.4723246562081034 for generation 20\n",
      "++ Best 3.5419494648173107 for generation 24\n",
      "++ Best 6.22252255371064 for generation 42\n",
      "++ Best 8.772586658601782 for generation 44\n",
      "++ Best 9.859030976813276 for generation 50\n",
      "OVER\n",
      "expstabv2_s5_nTrue_stabFalse_i3 (5, True, False, 3)\n",
      "Step 0\n",
      "++ Best 0.09561546947086098 for generation 0\n",
      "++ Best 0.09696705427930626 for generation 1\n",
      "++ Best 3.28345239857227 for generation 3\n",
      "++ Best 3.31672169700193 for generation 12\n",
      "++ Best 4.24468923192736 for generation 21\n",
      "++ Best 5.4336528379122875 for generation 24\n",
      "++ Best 5.497628124597265 for generation 29\n",
      "++ Best 5.748788954040267 for generation 31\n",
      "++ Best 6.647474612108741 for generation 50\n",
      "++ Best 7.5920712868175 for generation 60\n",
      "++ Best 8.706710858532546 for generation 64\n",
      "OVER\n",
      "expstabv2_s5_nTrue_stabFalse_i4 (5, True, False, 4)\n",
      "Step 0\n",
      "++ Best 0.09667147504062197 for generation 0\n",
      "++ Best 0.09688193235881788 for generation 2\n",
      "++ Best 0.5602698728660729 for generation 5\n",
      "++ Best 0.6084381831076869 for generation 25\n",
      "++ Best 1.9517724577128626 for generation 33\n",
      "++ Best 4.012504576703037 for generation 44\n",
      "++ Best 8.258347295450807 for generation 56\n",
      "++ Best 9.072212126261151 for generation 59\n",
      "++ Best 11.709177703320943 for generation 66\n",
      "OVER\n",
      "expstabv2_s5_nFalse_stabTrue_i0 (5, False, True, 0)\n",
      "Step 0\n",
      "++ Best 0.1437812052299888 for generation 0\n",
      "++ Best 0.2788782274175778 for generation 8\n",
      "++ Best 0.6747190009191133 for generation 27\n",
      "OVER\n",
      "expstabv2_s5_nFalse_stabTrue_i1 (5, False, True, 1)\n",
      "Step 0\n",
      "++ Best 0.02673800372071092 for generation 0\n",
      "++ Best 0.09161998670348147 for generation 1\n",
      "++ Best 0.4298324122501801 for generation 2\n",
      "++ Best 1.5670295547453033 for generation 37\n",
      "++ Best 1.6019387503373663 for generation 49\n",
      "++ Best 3.23169027247515 for generation 68\n",
      "++ Best 3.3512456634394177 for generation 88\n",
      "OVER\n",
      "expstabv2_s5_nFalse_stabTrue_i2 (5, False, True, 2)\n",
      "Step 0\n",
      "++ Best 0.09553471203205799 for generation 0\n",
      "++ Best 0.09578482976041836 for generation 1\n",
      "++ Best 0.10641844890491833 for generation 2\n",
      "++ Best 0.3726033106010246 for generation 5\n",
      "++ Best 1.1242363883686786 for generation 14\n",
      "++ Best 1.3064618773875274 for generation 24\n",
      "++ Best 1.3407830414941802 for generation 30\n",
      "++ Best 4.644557100616392 for generation 31\n",
      "OVER\n",
      "expstabv2_s5_nFalse_stabTrue_i3 (5, False, True, 3)\n",
      "Step 0\n",
      "++ Best 0.09501666279190336 for generation 0\n",
      "++ Best 0.09505919615260927 for generation 2\n",
      "++ Best 0.1328681008530713 for generation 4\n",
      "++ Best 0.8812546286048896 for generation 5\n",
      "++ Best 0.8899773669756472 for generation 20\n",
      "++ Best 0.9810971303139144 for generation 33\n",
      "++ Best 1.1305715305147346 for generation 34\n",
      "OVER\n",
      "expstabv2_s5_nFalse_stabTrue_i4 (5, False, True, 4)\n",
      "Step 0\n",
      "++ Best 0.21056169540921368 for generation 0\n",
      "++ Best 1.3683163390467228 for generation 1\n",
      "++ Best 1.397703088132125 for generation 24\n",
      "++ Best 1.4214792202016142 for generation 42\n",
      "OVER\n",
      "expstabv2_s5_nFalse_stabFalse_i0 (5, False, False, 0)\n",
      "Step 0\n",
      "++ Best 0.0907228057412207 for generation 0\n",
      "++ Best 0.43164123598969606 for generation 2\n",
      "++ Best 0.49627589215388285 for generation 20\n",
      "++ Best 0.532701415578717 for generation 27\n",
      "++ Best 0.6132643990748914 for generation 31\n",
      "++ Best 0.9572211361671662 for generation 33\n",
      "OVER\n",
      "expstabv2_s5_nFalse_stabFalse_i1 (5, False, False, 1)\n",
      "Step 0\n",
      "++ Best 0.09193457884697746 for generation 0\n",
      "++ Best 0.10573854856179352 for generation 1\n",
      "++ Best 0.11632844756785939 for generation 2\n",
      "++ Best 0.6264034476410433 for generation 3\n",
      "++ Best 3.211805771036384 for generation 4\n",
      "++ Best 3.7761906126195104 for generation 20\n",
      "++ Best 3.880006042800669 for generation 21\n",
      "++ Best 4.11348821798122 for generation 32\n",
      "++ Best 4.186644015036115 for generation 39\n",
      "++ Best 4.288315560541269 for generation 40\n",
      "++ Best 4.625103038567208 for generation 43\n",
      "++ Best 4.880572842635206 for generation 75\n",
      "++ Best 4.936384429115691 for generation 95\n",
      "OVER\n",
      "expstabv2_s5_nFalse_stabFalse_i2 (5, False, False, 2)\n",
      "Step 0\n",
      "++ Best 0.1403273627870365 for generation 0\n",
      "++ Best 0.8620569261916762 for generation 1\n",
      "++ Best 0.9825083796755053 for generation 3\n",
      "++ Best 2.558851480981628 for generation 11\n",
      "++ Best 9.31751515334157 for generation 23\n",
      "++ Best 11.742018680829277 for generation 26\n",
      "++ Best 16.04243762617511 for generation 27\n",
      "++ Best 16.855360259864828 for generation 50\n",
      "Step 6 passed !\n",
      "++ Best 17.834625138838625 for generation 74\n",
      "OVER\n",
      "expstabv2_s5_nFalse_stabFalse_i3 (5, False, False, 3)\n",
      "Step 0\n",
      "++ Best 0.09696705427930626 for generation 0\n",
      "++ Best 0.11874291891619995 for generation 1\n",
      "++ Best 0.13751471091806317 for generation 8\n",
      "++ Best 0.16477003212539715 for generation 16\n",
      "++ Best 0.44364032166614775 for generation 18\n",
      "++ Best 0.7197769639664064 for generation 37\n",
      "++ Best 11.314777602303069 for generation 68\n",
      "++ Best 12.720929271968798 for generation 71\n",
      "OVER\n",
      "expstabv2_s5_nFalse_stabFalse_i4 (5, False, False, 4)\n",
      "Step 0\n",
      "++ Best 0.11260332543468769 for generation 0\n",
      "++ Best 0.22404537815843925 for generation 2\n",
      "++ Best 5.144010852207483 for generation 8\n",
      "++ Best 5.386122284274957 for generation 16\n",
      "++ Best 5.5147254132187715 for generation 23\n",
      "++ Best 9.104125902711296 for generation 26\n",
      "++ Best 9.277359310787402 for generation 81\n",
      "OVER\n",
      "expstabv2_s7_nTrue_stabTrue_i0 (7, True, True, 0)\n",
      "Step 0\n",
      "++ Best 0.14642692737326435 for generation 0\n",
      "++ Best 0.7328838830170257 for generation 9\n",
      "++ Best 21.494317859945546 for generation 12\n",
      "++ Best 21.755819402662457 for generation 22\n",
      "++ Best 22.3555308032641 for generation 31\n",
      "++ Best 22.635854596381883 for generation 46\n",
      "++ Best 22.65400259866428 for generation 55\n",
      "OVER\n",
      "expstabv2_s7_nTrue_stabTrue_i1 (7, True, True, 1)\n",
      "Step 0\n",
      "++ Best 0.0941851249107485 for generation 0\n",
      "++ Best 0.43521581806966186 for generation 1\n",
      "++ Best 0.45400349335364976 for generation 8\n",
      "++ Best 0.912951680853491 for generation 27\n",
      "++ Best 0.9530295957903472 for generation 62\n",
      "++ Best 1.0277639980140585 for generation 89\n",
      "OVER\n",
      "expstabv2_s7_nTrue_stabTrue_i2 (7, True, True, 2)\n",
      "Step 0\n",
      "++ Best 0.13765621518530455 for generation 0\n",
      "++ Best 0.8053046088155129 for generation 3\n",
      "++ Best 1.146384256604777 for generation 24\n",
      "++ Best 1.5979789436707366 for generation 30\n",
      "++ Best 2.173582325225797 for generation 36\n",
      "++ Best 2.624470342589513 for generation 51\n",
      "++ Best 3.0043295135325687 for generation 67\n",
      "++ Best 4.871759119658947 for generation 79\n",
      "++ Best 10.236987406140514 for generation 82\n",
      "++ Best 16.880356017952526 for generation 86\n",
      "++ Best 20.127167009813554 for generation 92\n",
      "Step 9 passed !\n",
      "++ Best 21.507624931150318 for generation 97\n",
      "OVER\n",
      "expstabv2_s7_nTrue_stabTrue_i3 (7, True, True, 3)\n",
      "Step 0\n",
      "++ Best 0.04773757698982526 for generation 0\n",
      "++ Best 0.10883860331949388 for generation 1\n",
      "++ Best 0.4454867269121509 for generation 2\n",
      "++ Best 1.0292113295229346 for generation 3\n",
      "++ Best 16.477173190939336 for generation 18\n",
      "++ Best 17.20595422088026 for generation 25\n",
      "++ Best 18.550592646742317 for generation 26\n",
      "++ Best 19.122529581361277 for generation 53\n",
      "OVER\n",
      "expstabv2_s7_nTrue_stabTrue_i4 (7, True, True, 4)\n",
      "Step 0\n",
      "++ Best 0.09586376748628277 for generation 0\n",
      "++ Best 0.11341746873320221 for generation 1\n",
      "++ Best 6.007317910585769 for generation 4\n",
      "++ Best 6.668181880284068 for generation 25\n",
      "++ Best 6.9291403975946615 for generation 40\n",
      "++ Best 7.063842201889416 for generation 65\n",
      "++ Best 7.129710018132942 for generation 75\n",
      "OVER\n",
      "expstabv2_s7_nTrue_stabFalse_i0 (7, True, False, 0)\n",
      "Step 0\n",
      "++ Best 0.1415941717246376 for generation 0\n",
      "++ Best 0.4103048366555786 for generation 5\n",
      "++ Best 0.7262525837130231 for generation 8\n",
      "++ Best 11.560138388820716 for generation 10\n",
      "++ Best 12.663033352245142 for generation 22\n",
      "++ Best 16.670946055501368 for generation 23\n",
      "++ Best 16.757797703318413 for generation 27\n",
      "++ Best 18.231931464302594 for generation 29\n",
      "++ Best 18.364961079289298 for generation 48\n",
      "++ Best 19.628179859174054 for generation 63\n",
      "OVER\n",
      "expstabv2_s7_nTrue_stabFalse_i1 (7, True, False, 1)\n",
      "Step 0\n",
      "++ Best 2.188277072660938 for generation 0\n",
      "++ Best 2.343866779477417 for generation 31\n",
      "++ Best 12.875043869899265 for generation 35\n",
      "++ Best 12.931357183127286 for generation 44\n",
      "++ Best 13.632717814587934 for generation 45\n",
      "++ Best 14.343204325921926 for generation 46\n",
      "++ Best 14.955221079959076 for generation 55\n",
      "++ Best 19.501980287255726 for generation 60\n",
      "++ Best 19.98476316031406 for generation 68\n",
      "Step 7 passed !\n",
      "Step 8 passed !\n",
      "++ Best 26.887771533333556 for generation 80\n"
     ]
    }
   ],
   "source": [
    "# main loop\n",
    "exporter = Exporter(name=\"exp_stability_v2\")\n",
    "for i, sample in enumerate(gen):\n",
    "    name = model.fill(**dict(zip(keys, sample)))\n",
    "    print(name, sample)\n",
    "    if name in exporter.list():\n",
    "        continue\n",
    "    res = get_score_parametrized(*sample)\n",
    "    exporter(res, name)"
   ]
  },
  {
   "cell_type": "code",
   "execution_count": 24,
   "metadata": {},
   "outputs": [
    {
     "data": {
      "image/png": "[encoded data removed]",
      "text/plain": [
       "<Figure size 864x576 with 3 Axes>"
      ]
     },
     "metadata": {},
     "output_type": "display_data"
    }
   ],
   "source": [
    "plt.figure(figsize=(12, 8))\n",
    "plt.suptitle(\"Score and stability of the best solution\")\n",
    "for i, size in enumerate([3, 5, 7]):\n",
    "    plt.subplot(2, 2, i + 1)\n",
    "    plt.title(f\"Size of initial population : {size}\")\n",
    "    plt.xticks([0, 1, 2, 3], [\"N+S+\", \"N+S-\", \"N-S+\", \"N-S-\"])\n",
    "    plt.ylim((-2, 30))\n",
    "    for j, (norm, stab) in enumerate(product([True, False], [True, False])):\n",
    "        for x in exporter.list():\n",
    "            if not model.match_param(x, dict(size=size, norm=norm, stab=stab)):\n",
    "                continue\n",
    "            res = exporter.load(x)\n",
    "            d = j + np.random.normal(0, 0.1)\n",
    "            plt.scatter(d, [res[0]])\n",
    "            plt.errorbar(d, [res[0]], yerr=[res[1]], fmt=\"o\")"
   ]
  },
  {
   "cell_type": "code",
   "execution_count": 25,
   "metadata": {},
   "outputs": [],
   "source": [
    "df = pd.DataFrame([{**model.extract(x), **{k: v for k, v in zip([\"mean\", \"sd\", \"best\"], exporter.load(x))}} for x in exporter.list()])"
   ]
  },
  {
   "cell_type": "code",
   "execution_count": 26,
   "metadata": {},
   "outputs": [
    {
     "data": {
      "text/plain": [
       "(5.2221719101482735, 5.659643282223358)"
      ]
     },
     "execution_count": 26,
     "metadata": {},
     "output_type": "execute_result"
    }
   ],
   "source": [
    "filt1 = (df[\"size\"] == \"5\") & (df[\"norm\"] == \"True\") & (df[\"stab\"] == \"False\")\n",
    "filt2 = (df[\"size\"] == \"5\") & (df[\"norm\"] == \"False\") & (df[\"stab\"] == \"False\")\n",
    "df[filt1][\"mean\"].mean(), df[filt2][\"mean\"].mean()"
   ]
  },
  {
   "cell_type": "code",
   "execution_count": 27,
   "metadata": {},
   "outputs": [
    {
     "data": {
      "text/plain": [
       "(2.344749086907534, 1.072343933022951)"
      ]
     },
     "execution_count": 27,
     "metadata": {},
     "output_type": "execute_result"
    }
   ],
   "source": [
    "filt1 = (df[\"size\"] == \"3\") & (df[\"norm\"] == \"True\") & (df[\"stab\"] == \"False\")\n",
    "filt2 = (df[\"size\"] == \"3\") & (df[\"norm\"] == \"False\") & (df[\"stab\"] == \"False\")\n",
    "df[filt1][\"mean\"].mean(), df[filt2][\"mean\"].mean()"
   ]
  },
  {
   "cell_type": "code",
   "execution_count": 28,
   "metadata": {},
   "outputs": [
    {
     "data": {
      "text/plain": [
       "(11.850692533919386, 9.198466219165061)"
      ]
     },
     "execution_count": 28,
     "metadata": {},
     "output_type": "execute_result"
    }
   ],
   "source": [
    "filt1 = (df[\"size\"] == \"7\") & (df[\"norm\"] == \"True\") & (df[\"stab\"] == \"False\")\n",
    "filt2 = (df[\"size\"] == \"7\") & (df[\"norm\"] == \"False\") & (df[\"stab\"] == \"False\")\n",
    "df[filt1][\"mean\"].mean(), df[filt2][\"mean\"].mean()"
   ]
  },
  {
   "cell_type": "code",
   "execution_count": 29,
   "metadata": {},
   "outputs": [
    {
     "data": {
      "text/plain": [
       "(10.524579376542224, 5.440907596185816)"
      ]
     },
     "execution_count": 29,
     "metadata": {},
     "output_type": "execute_result"
    }
   ],
   "source": [
    "filt1 = (df[\"size\"] == \"7\") & (df[\"stab\"] == \"False\")\n",
    "filt2 = (df[\"size\"] == \"5\") & (df[\"stab\"] == \"False\")\n",
    "df[filt1][\"mean\"].mean(), df[filt2][\"mean\"].mean()"
   ]
  },
  {
   "cell_type": "code",
   "execution_count": 30,
   "metadata": {},
   "outputs": [
    {
     "data": {
      "text/plain": [
       "<matplotlib.collections.PathCollection at 0x7f9bb75733d0>"
      ]
     },
     "execution_count": 30,
     "metadata": {},
     "output_type": "execute_result"
    },
    {
     "data": {
      "image/png": "[encoded data removed]",
      "text/plain": [
       "<Figure size 576x396 with 1 Axes>"
      ]
     },
     "metadata": {},
     "output_type": "display_data"
    }
   ],
   "source": [
    "# paired statistic\n",
    "df1 = df[(df[\"size\"] == \"7\") & (df[\"stab\"] == \"False\")].set_index([\"norm\", \"i\"]).copy()\n",
    "df2 = df[(df[\"size\"] == \"5\") & (df[\"stab\"] == \"False\")].set_index([\"norm\", \"i\"]).copy()\n",
    "\n",
    "ls_val = []\n",
    "for i, row in df1.iterrows():\n",
    "    ls_val.append(df1.loc[i][\"mean\"] - df2.loc[i][\"mean\"])\n",
    "\n",
    "plt.scatter(np.random.normal(0, 0.1, len(ls_val)), ls_val)"
   ]
  },
  {
   "cell_type": "code",
   "execution_count": 31,
   "metadata": {},
   "outputs": [
    {
     "data": {
      "text/plain": [
       "(5.083671780356406, 3.446021823958149)"
      ]
     },
     "execution_count": 31,
     "metadata": {},
     "output_type": "execute_result"
    }
   ],
   "source": [
    "np.mean(ls_val), np.mean(ls_val) - np.std(ls_val) / np.sqrt(len(ls_val))"
   ]
  },
  {
   "cell_type": "code",
   "execution_count": 32,
   "metadata": {},
   "outputs": [
    {
     "data": {
      "text/plain": [
       "<matplotlib.collections.PathCollection at 0x7f9bb7fb6190>"
      ]
     },
     "execution_count": 32,
     "metadata": {},
     "output_type": "execute_result"
    },
    {
     "data": {
      "image/png": "[encoded data removed]",
      "text/plain": [
       "<Figure size 576x396 with 1 Axes>"
      ]
     },
     "metadata": {},
     "output_type": "display_data"
    }
   ],
   "source": [
    "# paired statistic\n",
    "df1 = df[(df[\"norm\"] == \"True\") & (df[\"stab\"] == \"False\")].set_index([\"size\", \"i\"]).copy()\n",
    "df2 = df[(df[\"norm\"] == \"False\") & (df[\"stab\"] == \"False\")].set_index([\"size\", \"i\"]).copy()\n",
    "\n",
    "ls_val = []\n",
    "for i, row in df1.iterrows():\n",
    "    ls_val.append(df1.loc[i][\"mean\"] - df2.loc[i][\"mean\"])\n",
    "\n",
    "plt.scatter(np.random.normal(0, 0.1, len(ls_val)), ls_val)"
   ]
  },
  {
   "cell_type": "code",
   "execution_count": 35,
   "metadata": {},
   "outputs": [
    {
     "data": {
      "text/plain": [
       "(1.1623866988546079, -0.4784925931003525)"
      ]
     },
     "execution_count": 35,
     "metadata": {},
     "output_type": "execute_result"
    }
   ],
   "source": [
    "np.mean(ls_val), np.mean(ls_val) - np.std(ls_val) / np.sqrt(len(ls_val))"
   ]
  },
  {
   "cell_type": "code",
   "execution_count": 34,
   "metadata": {},
   "outputs": [
    {
     "ename": "RuntimeError",
     "evalue": "No active exception to reraise",
     "output_type": "error",
     "traceback": [
      "\u001b[0;31m---------------------------------------------------------------------------\u001b[0m",
      "\u001b[0;31mRuntimeError\u001b[0m                              Traceback (most recent call last)",
      "\u001b[0;32m<ipython-input-34-9c9a2cba73bf>\u001b[0m in \u001b[0;36m<module>\u001b[0;34m\u001b[0m\n\u001b[0;32m----> 1\u001b[0;31m \u001b[0;32mraise\u001b[0m\u001b[0;34m\u001b[0m\u001b[0;34m\u001b[0m\u001b[0m\n\u001b[0m",
      "\u001b[0;31mRuntimeError\u001b[0m: No active exception to reraise"
     ]
    }
   ],
   "source": [
    "raise"
   ]
  },
  {
   "cell_type": "code",
   "execution_count": null,
   "metadata": {},
   "outputs": [],
   "source": [
    "sol = main(args)"
   ]
  },
  {
   "cell_type": "code",
   "execution_count": null,
   "metadata": {},
   "outputs": [],
   "source": [
    "sol = main(args2)"
   ]
  },
  {
   "cell_type": "code",
   "execution_count": null,
   "metadata": {},
   "outputs": [],
   "source": [
    "p2 = L(args2.history.values()).fit\n",
    "p1 = L(args.history.values()).fit"
   ]
  },
  {
   "cell_type": "code",
   "execution_count": null,
   "metadata": {},
   "outputs": [],
   "source": [
    "max(p1), max(p2)"
   ]
  },
  {
   "cell_type": "code",
   "execution_count": null,
   "metadata": {},
   "outputs": [],
   "source": [
    "p2.index(max(p2)), p1.index(max(p1))"
   ]
  },
  {
   "cell_type": "code",
   "execution_count": null,
   "metadata": {},
   "outputs": [],
   "source": [
    "args.history[150].stats"
   ]
  },
  {
   "cell_type": "code",
   "execution_count": null,
   "metadata": {},
   "outputs": [],
   "source": [
    "args2.history[101].stats"
   ]
  },
  {
   "cell_type": "code",
   "execution_count": null,
   "metadata": {},
   "outputs": [],
   "source": [
    "ls1 = [fitness_multistep(args2, args.history[150].grn, args2.steps)[0] for i in range(10)]"
   ]
  },
  {
   "cell_type": "code",
   "execution_count": null,
   "metadata": {},
   "outputs": [],
   "source": [
    "ls2 = [fitness_multistep(args2, args2.history[101].grn, args2.steps)[0] for i in range(10)]"
   ]
  },
  {
   "cell_type": "code",
   "execution_count": null,
   "metadata": {},
   "outputs": [],
   "source": [
    "np.mean(ls1), np.std(ls1), np.mean(ls2), np.std(ls2)"
   ]
  },
  {
   "cell_type": "code",
   "execution_count": null,
   "metadata": {},
   "outputs": [],
   "source": [
    "ls1"
   ]
  },
  {
   "cell_type": "code",
   "execution_count": null,
   "metadata": {},
   "outputs": [],
   "source": [
    "ls2"
   ]
  },
  {
   "cell_type": "code",
   "execution_count": null,
   "metadata": {},
   "outputs": [],
   "source": [
    "raise"
   ]
  },
  {
   "cell_type": "code",
   "execution_count": null,
   "metadata": {},
   "outputs": [],
   "source": [
    "sols = list(HISTORY.values())\n",
    "fits = [sol.fit for sol in sols]\n",
    "idx = fits.index(max(fits))\n",
    "sol = sols[idx]"
   ]
  },
  {
   "cell_type": "code",
   "execution_count": null,
   "metadata": {},
   "outputs": [],
   "source": [
    "sol.fit"
   ]
  },
  {
   "cell_type": "code",
   "execution_count": null,
   "metadata": {},
   "outputs": [],
   "source": [
    "def show_curve(stats, ref, max_step=None, show=True):\n",
    "    \"\"\"\n",
    "    The evaluation function for progenitor population size.\n",
    "    The lower is the better\n",
    "    :param stats: the stats of the bb after running\n",
    "    \"\"\"\n",
    "    stats, ref = shrink_and_align_stats(stats, ref, max_step=max_step)\n",
    "    \n",
    "    x, y = preprocess_progenitor_size(stats, ref)\n",
    "    \n",
    "    plt.plot(ref.index, x, label=\"Reference Prog\")\n",
    "    plt.plot(ref.index, y, label=\"Simulation Prog\")\n",
    "    \n",
    "    x, y = preprocess_whole_size(stats, ref)\n",
    "    \n",
    "    plt.plot(ref.index, x, label=\"Reference Whole\")\n",
    "    plt.plot(ref.index, y, label=\"Simulation Whole\")\n",
    "    \n",
    "    plt.legend()\n",
    "    \n",
    "    if show:\n",
    "        plt.show()"
   ]
  },
  {
   "cell_type": "code",
   "execution_count": null,
   "metadata": {},
   "outputs": [],
   "source": [
    "def print_fmetrics(population, ref):\n",
    "    pairs = get_fmetric_pairs(population, min_time=50, max_time=60)\n",
    "    fmetric = fate_corr(pairs)\n",
    "    print(f\"Population : {fmetric}, ref : {ref[50][60]}\")"
   ]
  },
  {
   "cell_type": "code",
   "execution_count": null,
   "metadata": {},
   "outputs": [],
   "source": [
    "show_curve(args2.history[101].stats, REF.stats, max_step=args.end_time)"
   ]
  },
  {
   "cell_type": "code",
   "execution_count": null,
   "metadata": {},
   "outputs": [],
   "source": [
    "score_multistep(args, stats, args.steps)"
   ]
  },
  {
   "cell_type": "code",
   "execution_count": null,
   "metadata": {},
   "outputs": [],
   "source": [
    "REF.head(10)"
   ]
  },
  {
   "cell_type": "code",
   "execution_count": null,
   "metadata": {},
   "outputs": [],
   "source": [
    "def fill_df(stats, ls_val):\n",
    "    for time, prog_pop, whole_pop in ls_val:\n",
    "        stats.loc[time] = {\"progenitor_pop_size\": prog_pop, \"time\": time, \"whole_pop_size\": whole_pop}"
   ]
  },
  {
   "cell_type": "code",
   "execution_count": null,
   "metadata": {},
   "outputs": [],
   "source": [
    "vals = [\n",
    "    (50.5, 25, 27),\n",
    "    (51., 26, 30),\n",
    "    (51.5, 27, 40),\n",
    "    (52., 30, 50),\n",
    "    (52.5, 35, 60),\n",
    "    (53., 40, 27),\n",
    "    (53.5, 45, 27),\n",
    "    (54., 50, 27),\n",
    "    (54.5, 55, 27),\n",
    "    (55., 60, 27),\n",
    "]"
   ]
  },
  {
   "cell_type": "code",
   "execution_count": null,
   "metadata": {},
   "outputs": [],
   "source": [
    "fill_df(stats, ls_val=vals)\n",
    "stats"
   ]
  },
  {
   "cell_type": "code",
   "execution_count": null,
   "metadata": {},
   "outputs": [],
   "source": [
    "show_curve(stats, REF.stats, max_step=55)\n",
    "print_fmetrics(population, REF.fmetric)\n",
    "score_multistep(args, stats, args.steps)"
   ]
  },
  {
   "cell_type": "code",
   "execution_count": null,
   "metadata": {},
   "outputs": [],
   "source": [
    "# peut être mettre sqrt plutôt que abs en dénominateur\n",
    "# ensuite équilibrer les fit value en normalisant avec la médiane ou la moyenne ou autre (3e quartile ?)"
   ]
  },
  {
   "cell_type": "code",
   "execution_count": null,
   "metadata": {},
   "outputs": [],
   "source": []
  }
 ],
 "metadata": {
  "kernelspec": {
   "display_name": "Python 3",
   "language": "python",
   "name": "python3"
  },
  "language_info": {
   "codemirror_mode": {
    "name": "ipython",
    "version": 3
   },
   "file_extension": ".py",
   "mimetype": "text/x-python",
   "name": "python",
   "nbconvert_exporter": "python",
   "pygments_lexer": "ipython3",
   "version": "3.8.10"
  }
 },
 "nbformat": 4,
 "nbformat_minor": 4
}
