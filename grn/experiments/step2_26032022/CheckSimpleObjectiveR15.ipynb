{
 "cells": [
  {
   "cell_type": "code",
   "execution_count": 1,
   "metadata": {},
   "outputs": [],
   "source": [
    "import os\n",
    "os.environ[\"XLA_PYTHON_CLIENT_MEM_FRACTION\"] = \".13\""
   ]
  },
  {
   "cell_type": "code",
   "execution_count": 2,
   "metadata": {},
   "outputs": [],
   "source": [
    "import pandas as pd\n",
    "from brain import BrainModel\n",
    "from submodels import factories\n",
    "import matplotlib.pyplot as plt\n",
    "import numpy as np\n",
    "from collections import defaultdict\n",
    "from random import shuffle\n",
    "\n",
    "from lib.score import (\n",
    "    fate_corr, score_both_size_norm, shrink_and_align_stats, score_stats_norm\n",
    ")\n",
    "from lib.preprocess import *\n",
    "from lib.callback import (\n",
    "    cell_number_callback, progenitor_number_callback, neuron_number_callback,\n",
    "    TargetPopulation, TagNumberCallback,\n",
    ")\n",
    "from lib.sde.grn.grn4 import GRNMain4 as GRNMain\n",
    "from lib.sde.mutate import mutate_grn4 as mutate_grn\n",
    "\n",
    "from lib.ga.utils import weighted_selection_one, normalize_fitness_values\n",
    "from lib.utils import pick_best, pick_last\n",
    "from jf.utils.export import Exporter\n",
    "from jf.autocompute.jf import O, L\n",
    "from itertools import product\n",
    "import jf.models.stringmodel as sm\n",
    "from lib.analyser import show_curve, show_curve_progenitor\n",
    "from jf.models.stringmodel import read_model\n",
    "from lib.utils import normalize_time, align_time"
   ]
  },
  {
   "cell_type": "code",
   "execution_count": 3,
   "metadata": {},
   "outputs": [],
   "source": [
    "_count = -1\n",
    "def provide_id():\n",
    "    global _count\n",
    "    _count += 1\n",
    "    return _count"
   ]
  },
  {
   "cell_type": "code",
   "execution_count": 4,
   "metadata": {},
   "outputs": [],
   "source": [
    "REF = O(\n",
    "    stats=pd.read_csv(\"reference/ref_tristate2.csv\"),  # ref is a mean\n",
    ")\n",
    "SM_GEN = read_model(\"generation\")"
   ]
  },
  {
   "cell_type": "code",
   "execution_count": 5,
   "metadata": {},
   "outputs": [],
   "source": [
    "def individual_generator(id_=-1, cb_init=None):\n",
    "    return Solution(GRNMain(5, 0, 1, generate_funcs=cb_init), id_=id_)"
   ]
  },
  {
   "cell_type": "code",
   "execution_count": 6,
   "metadata": {},
   "outputs": [],
   "source": [
    "class Solution:\n",
    "    def __init__(self, grn, id_=0, parent=-1):\n",
    "        self.id = id_\n",
    "        self.grn = grn\n",
    "        self.parent = parent\n",
    "        self.fit = -1\n",
    "        self.stats = None\n",
    "        \n",
    "    def copy(self, id_=0):\n",
    "        return Solution(self.grn.copy(), id_=id_, parent=self.id)\n",
    "        \n",
    "    def mutate(self):\n",
    "        mutate_grn(self.grn)"
   ]
  },
  {
   "cell_type": "code",
   "execution_count": 7,
   "metadata": {},
   "outputs": [],
   "source": [
    "def score_bb_size(bb, ref, *args, **kwargs):\n",
    "    stats = bb.stats.copy()\n",
    "    stats, ref_stats = align_time(stats, ref.stats)\n",
    "    stats_p, ref_p = normalize_time(stats, ref_stats, \"progenitor_pop_size\", \"progenitor_pop_size\")\n",
    "    stats_n, ref_n = normalize_time(stats, ref_stats, \"neuron_pop_size\", \"neuron_pop_size\",\n",
    "                                    \"progenitor_pop_size\", \"progenitor_pop_size\")\n",
    "    last_time_stats, last_time_ref = max(stats.time), max(ref_stats.time)\n",
    "    \n",
    "    ref_p = ref_p.set_index(\"time\")\n",
    "    ref_n = ref_n.set_index(\"time\")\n",
    "    stats_p = stats_p.set_index(\"time\")\n",
    "    stats_n = stats_n.set_index(\"time\")\n",
    "    \n",
    "    prog = stats_p.loc[last_time_stats][\"progenitor_pop_size\"]\n",
    "    neuron = stats_n.loc[last_time_stats][\"neuron_pop_size\"]\n",
    "    \n",
    "    ref_prog = ref_p.loc[last_time_ref][\"progenitor_pop_size\"]\n",
    "    ref_neuron = ref_n.loc[last_time_ref][\"neuron_pop_size\"]\n",
    "\n",
    "    return (prog - ref_prog)**2 + (neuron - ref_neuron)**2"
   ]
  },
  {
   "cell_type": "code",
   "execution_count": 8,
   "metadata": {},
   "outputs": [],
   "source": [
    "def setup_tag(cp):\n",
    "    indexes = list(cp.base_population.keys())\n",
    "    shuffle(indexes)\n",
    "    splits = np.array_split(indexes, 3)\n",
    "    for i, ls in enumerate(splits):\n",
    "        for idx in ls:\n",
    "            cp.base_population[idx].tag[\"subbrain\"] = i"
   ]
  },
  {
   "cell_type": "code",
   "execution_count": 9,
   "metadata": {},
   "outputs": [],
   "source": [
    "def get_bb(prun, grn):\n",
    "    ccls = factories[\"grn5\"](grn=grn)\n",
    "    callbacks = dict(\n",
    "        progenitor_pop_size=progenitor_number_callback,\n",
    "        whole_pop_size=cell_number_callback,\n",
    "        neuron_pop_size=neuron_number_callback,\n",
    "    )\n",
    "    bb = BrainModel(time_step=0.5, verbose=False, start_population=prun.size, max_pop_size=1e3,\n",
    "            cell_cls=ccls, end_time=prun.end_time, start_time=50, silent=True, opti=True,\n",
    "              run_tissue=True, monitor_callbacks=callbacks, tag_func=setup_tag)\n",
    "    return bb"
   ]
  },
  {
   "cell_type": "code",
   "execution_count": 10,
   "metadata": {},
   "outputs": [],
   "source": [
    "def run_grn(prun, grn):\n",
    "    get_bb(prun, grn)\n",
    "    bb.run()\n",
    "    return bb"
   ]
  },
  {
   "cell_type": "code",
   "execution_count": 11,
   "metadata": {},
   "outputs": [],
   "source": [
    "def fitness_multistep(prun, grn, steps):\n",
    "    total_fitness = 0\n",
    "    stop = False\n",
    "    previous_time = None\n",
    "    bb = get_bb(prun, grn)\n",
    "    # first step\n",
    "    for step in steps:\n",
    "        if not bb.run_until(step.end_time):\n",
    "            stop = True\n",
    "        \n",
    "        score_step = step.score_func(bb, prun.ref, max_step=step.end_time, min_step=step.start_time)\n",
    "        fitness_step = 1.0 / score_step\n",
    "        fitness_step = min(fitness_step, step.max_fitness)\n",
    "        total_fitness += fitness_step\n",
    "        if fitness_step < step.min_fitness or stop:\n",
    "            return total_fitness, bb.stats\n",
    "        else:\n",
    "            previous_time = step.end_time\n",
    "            step.passed()\n",
    "        \n",
    "    return total_fitness, bb.stats"
   ]
  },
  {
   "cell_type": "code",
   "execution_count": 12,
   "metadata": {},
   "outputs": [],
   "source": [
    "def do_init(prun):\n",
    "    return individual_generator(provide_id(), prun.cb_init)\n",
    "\n",
    "def do_fitness(prun, sol):\n",
    "    fitness, stats = fitness_multistep(prun, sol.grn, prun.steps)\n",
    "    return fitness, stats\n",
    "\n",
    "def do_selection(prun, pop_fit, pop):\n",
    "    if len(pop) < prun.min_pop:\n",
    "        return individual_generator(provide_id(), prun.cb_init)\n",
    "    \n",
    "    pop_fit = normalize_fitness_values(pop_fit)\n",
    "    \n",
    "    return weighted_selection_one(pop, pop_fit, lambda x: individual_generator(x, prun.cb_init), new_fitness=1e-4, id_=provide_id())[0]\n",
    "\n",
    "def do_mutation(prun, sol):\n",
    "    sol.mutate()\n",
    "    return sol"
   ]
  },
  {
   "cell_type": "code",
   "execution_count": 13,
   "metadata": {},
   "outputs": [],
   "source": [
    "class ObjectiveStep(O):\n",
    "    start_time = 0\n",
    "    end_time = 0\n",
    "    max_fitness = 1e9\n",
    "    min_fitness = 1\n",
    "    name = \"\"\n",
    "    _passed = False\n",
    "    \n",
    "    def reset(self):\n",
    "        self._passed = False\n",
    "    \n",
    "    def passed(self):\n",
    "        if self._passed:\n",
    "            return\n",
    "        print(f\"Step {self.name} passed !\")\n",
    "        self._passed = True\n",
    "    \n",
    "example_steps = [\n",
    "    # ObjectiveStep(name=\"1\", start_time=50, end_time=53, score_func=score_bb_size, min_fitness=0.2),\n",
    "    # ObjectiveStep(name=\"2\", start_time=53, end_time=56, score_func=score_bb_size, min_fitness=0.2),\n",
    "    ObjectiveStep(name=\"3\", start_time=56, end_time=86, score_func=score_bb_size, min_fitness=0.2),\n",
    "]\n",
    "\n",
    "class ParamRun(O):\n",
    "    pop_size = 50\n",
    "    batch_size = 50\n",
    "    n_gen = 50\n",
    "    current_gen = 0\n",
    "    end_time = 86\n",
    "    ref = REF\n",
    "    min_pop = 50\n",
    "    max_pop = 50\n",
    "\n",
    "def get_prun(size=7, exponent=1):\n",
    "    prun = ParamRun()\n",
    "    prun.cb_init = dict()\n",
    "    prun.size = size\n",
    "    prun.exponent = exponent\n",
    "    prun.steps = example_steps\n",
    "    return prun"
   ]
  },
  {
   "cell_type": "code",
   "execution_count": 14,
   "metadata": {},
   "outputs": [],
   "source": [
    "def pick_last_exported(exporter):\n",
    "    generations = list(filter(SM_GEN.match, exporter.list()))\n",
    "    if len(generations) == 0:\n",
    "        return None, 0\n",
    "    \n",
    "    last = max(generations, key=lambda x: int(SM_GEN.extract(x).get(\"generation\")))\n",
    "    b_gen = int(SM_GEN.extract(last).get(\"generation\")) + 1\n",
    "    exporter.print(f\"Found generation {b_gen - 1}\", \"reload\")\n",
    "    pop = exporter.load(last)\n",
    "    return pop, b_gen"
   ]
  },
  {
   "cell_type": "code",
   "execution_count": 15,
   "metadata": {},
   "outputs": [],
   "source": [
    "def main(prun):\n",
    "    prun.history = dict()\n",
    "    exporter = Exporter(name=prun.name, copy_stdout=True)\n",
    "    definition = \"\"\"\n",
    "    \n",
    "    \"\"\"\n",
    "    exporter.print(definition, slot=\"definition\")\n",
    "    best = 0\n",
    "    \n",
    "    # setup\n",
    "    pop, batch_gen = pick_last_exported(exporter)\n",
    "    \n",
    "    if pop is None:\n",
    "        sol = do_init(prun)\n",
    "        pop = [sol]\n",
    "        batch_gen = 0\n",
    "    else:\n",
    "        sol = pop[-1]\n",
    "        \n",
    "    for i in range(batch_gen * prun.batch_size,\n",
    "                   prun.n_gen * prun.batch_size):\n",
    "        fit, stats = do_fitness(prun, sol)\n",
    "        sol.fit, sol.stats = fit, stats\n",
    "        \n",
    "        if i % 100 == 0:\n",
    "            exporter.print(f\"Step {i}\")\n",
    "        if fit > best:\n",
    "            exporter.print(f\"++ Best {fit} for generation {i}\")\n",
    "            best = fit\n",
    "            \n",
    "        monitor = sol\n",
    "        prun.history[i] = monitor\n",
    "        # exporter(monitor, f\"generation_g{generation}\")\n",
    "        \n",
    "        sub_pop = pop[-prun.max_pop:]\n",
    "        sol = do_selection(prun, [s.fit for s in sub_pop], sub_pop)\n",
    "            \n",
    "        sol = do_mutation(prun, sol)\n",
    "        pop.append(sol)\n",
    "        \n",
    "        if (i + 1) % prun.batch_size == 0:\n",
    "            print(\"Saving ...\")\n",
    "            batch_gen = (i + 1) // 100\n",
    "            exporter(pop[-prun.max_pop:], SM_GEN.fill(generation=batch_gen))\n",
    "        \n",
    "    return best"
   ]
  },
  {
   "cell_type": "code",
   "execution_count": 16,
   "metadata": {},
   "outputs": [],
   "source": [
    "callback_init = dict(\n",
    "    init=lambda: np.random.beta(1.5, 3) * 3,\n",
    "    b=lambda: np.random.beta(1.5, 3) * 5,\n",
    "    expr=lambda: 1,\n",
    "    deg=lambda: 0.1,\n",
    "    noise=lambda: np.random.beta(1.5, 3) * 1,\n",
    "    asym=lambda: 5,\n",
    ")"
   ]
  },
  {
   "cell_type": "code",
   "execution_count": null,
   "metadata": {},
   "outputs": [],
   "source": [
    "prun = get_prun()\n",
    "prun.cb_init = callback_init\n",
    "prun.name = \"check_simple_obj_r15\"\n",
    "res = main(prun)"
   ]
  },
  {
   "cell_type": "code",
   "execution_count": 19,
   "metadata": {},
   "outputs": [
    {
     "name": "stdout",
     "output_type": "stream",
     "text": [
      "Exporting at output/check_simple_obj_r15\n"
     ]
    }
   ],
   "source": [
    "exp = Exporter(name=prun.name)"
   ]
  },
  {
   "cell_type": "code",
   "execution_count": 20,
   "metadata": {},
   "outputs": [],
   "source": [
    "sm = read_model(\"generation\")"
   ]
  },
  {
   "cell_type": "code",
   "execution_count": 21,
   "metadata": {},
   "outputs": [],
   "source": [
    "res = pick_best(exp.load(pick_last(exp)))"
   ]
  },
  {
   "cell_type": "code",
   "execution_count": null,
   "metadata": {},
   "outputs": [],
   "source": [
    "for i in range(5):\n",
    "    print(fitness_multistep(prun, res.grn, prun.steps)[0])"
   ]
  },
  {
   "cell_type": "code",
   "execution_count": 22,
   "metadata": {},
   "outputs": [
    {
     "data": {
      "image/png": "[encoded data removed]",
      "text/plain": [
       "<Figure size 576x396 with 1 Axes>"
      ]
     },
     "metadata": {},
     "output_type": "display_data"
    }
   ],
   "source": [
    "show_curve(res.stats, REF.stats)"
   ]
  },
  {
   "cell_type": "code",
   "execution_count": 23,
   "metadata": {},
   "outputs": [
    {
     "name": "stdout",
     "output_type": "stream",
     "text": [
      "\n",
      "======= GENERATION generation_g0 =======\n",
      ">> G_0: init: 0.74; noise: 0.48; b: 1.69; m: 6.50; expr: 1.00; deg: 0.10; theta: 1.55; asym: 5.00; tree : NOT 2\n",
      ">> G_1: init: 1.90; noise: 0.11; b: 1.21; m: 3.95; expr: 1.00; deg: 0.10; theta: 3.81; asym: 5.00; tree : 5\n",
      ">> G_2: init: 1.47; noise: 0.11; b: 0.48; m: 5.32; expr: 1.00; deg: 0.10; theta: 3.09; asym: 5.00; tree : NOT NOT 5\n",
      ">> G_3: init: 0.24; noise: 0.14; b: 0.77; m: 9.28; expr: 1.00; deg: 0.10; theta: 0.77; asym: 5.00; tree : NOT 2\n",
      ">> G_4: init: 0.41; noise: 0.23; b: 0.30; m: 6.27; expr: 1.00; deg: 0.10; theta: 7.33; asym: 5.00; tree : (2 OR (1 OR 0))\n",
      "\n",
      "======= GENERATION generation_g1 =======\n",
      ">> G_0: init: 0.74; noise: 0.45; b: 1.69; m: 6.50; expr: 1.00; deg: 0.10; theta: 1.55; asym: 5.00; tree : NOT 2\n",
      ">> G_1: init: 1.90; noise: 0.11; b: 1.21; m: 4.57; expr: 1.00; deg: 0.10; theta: 3.81; asym: 5.00; tree : 4\n",
      ">> G_2: init: 1.40; noise: 0.11; b: 0.48; m: 5.32; expr: 1.00; deg: 0.10; theta: 3.09; asym: 5.00; tree : NOT NOT 5\n",
      ">> G_3: init: 0.24; noise: 0.14; b: 0.77; m: 9.28; expr: 1.00; deg: 0.10; theta: 0.77; asym: 5.00; tree : NOT 2\n",
      ">> G_4: init: 0.41; noise: 0.22; b: 0.30; m: 6.27; expr: 1.00; deg: 0.10; theta: 7.33; asym: 5.00; tree : (2 OR (1 OR 0))\n",
      "\n",
      "======= GENERATION generation_g2 =======\n",
      ">> G_0: init: 0.74; noise: 9.83; b: 1.69; m: 6.50; expr: 1.00; deg: 0.10; theta: 1.35; asym: 4.08; tree : NOT 2\n",
      ">> G_1: init: 1.90; noise: 0.11; b: 1.21; m: 4.57; expr: 1.00; deg: 0.10; theta: 3.81; asym: 5.00; tree : 4\n",
      ">> G_2: init: 1.40; noise: 0.11; b: 0.48; m: 5.32; expr: 1.00; deg: 0.10; theta: 3.09; asym: 5.00; tree : NOT NOT 5\n",
      ">> G_3: init: 0.19; noise: 0.14; b: 0.91; m: 9.28; expr: 1.00; deg: 0.10; theta: 0.77; asym: 5.00; tree : NOT 2\n",
      ">> G_4: init: 0.41; noise: 0.22; b: 0.30; m: 6.27; expr: 1.00; deg: 0.10; theta: 7.33; asym: 5.00; tree : (2 OR (1 OR 0))\n",
      "\n",
      "======= GENERATION generation_g3 =======\n",
      ">> G_0: init: 0.74; noise: 9.83; b: 1.69; m: 6.50; expr: 1.00; deg: 0.10; theta: 1.35; asym: 5.00; tree : NOT 2\n",
      ">> G_1: init: 1.90; noise: 0.11; b: 1.36; m: 4.97; expr: 1.00; deg: 0.10; theta: 3.81; asym: 5.00; tree : 4\n",
      ">> G_2: init: 1.14; noise: 0.11; b: 0.48; m: 5.32; expr: 1.00; deg: 0.10; theta: 3.09; asym: 4.27; tree : NOT NOT 5\n",
      ">> G_3: init: 0.19; noise: 0.14; b: 0.77; m: 9.28; expr: 1.00; deg: 0.10; theta: 0.77; asym: 5.00; tree : NOT 2\n",
      ">> G_4: init: 0.41; noise: 0.22; b: 0.30; m: 6.52; expr: 1.00; deg: 0.10; theta: 7.33; asym: 5.00; tree : (2 OR (1 OR 0))\n",
      "\n",
      "======= GENERATION generation_g4 =======\n",
      ">> G_0: init: 0.74; noise: 9.83; b: 1.69; m: 6.50; expr: 1.00; deg: 0.10; theta: 1.35; asym: 4.08; tree : NOT 2\n",
      ">> G_1: init: 1.90; noise: 0.11; b: 1.21; m: 4.57; expr: 1.00; deg: 0.10; theta: 3.81; asym: 5.00; tree : 4\n",
      ">> G_2: init: 1.40; noise: 0.11; b: 0.48; m: 6.38; expr: 1.00; deg: 0.10; theta: 3.09; asym: 5.00; tree : NOT NOT 5\n",
      ">> G_3: init: 0.19; noise: 0.14; b: 0.91; m: 7.63; expr: 0.92; deg: 0.10; theta: 0.77; asym: 4.03; tree : NOT 2\n",
      ">> G_4: init: 0.38; noise: 0.22; b: 0.30; m: 6.27; expr: 1.00; deg: 0.10; theta: 7.33; asym: 5.00; tree : (5 OR (1 OR 0))\n",
      "\n",
      "======= GENERATION generation_g5 =======\n",
      ">> G_0: init: 0.74; noise: 9.83; b: 1.69; m: 6.50; expr: 1.00; deg: 0.10; theta: 1.35; asym: 5.05; tree : NOT 2\n",
      ">> G_1: init: 1.90; noise: 0.11; b: 1.36; m: 5.09; expr: 0.84; deg: 0.09; theta: 3.81; asym: 5.00; tree : 4\n",
      ">> G_2: init: 1.14; noise: 0.11; b: 0.48; m: 5.32; expr: 0.94; deg: 0.10; theta: 3.09; asym: 4.27; tree : NOT NOT 5\n",
      ">> G_3: init: 0.19; noise: 0.13; b: 0.77; m: 9.28; expr: 1.00; deg: 0.10; theta: 7.44; asym: 5.16; tree : NOT 2\n",
      ">> G_4: init: 0.41; noise: 0.22; b: 0.30; m: 6.52; expr: 1.00; deg: 0.10; theta: 7.33; asym: 5.00; tree : (5 OR (1 OR 0))\n",
      "\n",
      "======= GENERATION generation_g6 =======\n",
      ">> G_0: init: 0.74; noise: 9.83; b: 1.69; m: 6.50; expr: 1.00; deg: 0.10; theta: 1.35; asym: 4.44; tree : NOT 2\n",
      ">> G_1: init: 1.90; noise: 0.10; b: 1.21; m: 4.57; expr: 1.00; deg: 0.10; theta: 3.81; asym: 5.00; tree : 4\n",
      ">> G_2: init: 1.40; noise: 0.11; b: 0.48; m: 6.38; expr: 1.00; deg: 0.10; theta: 3.09; asym: 5.00; tree : NOT NOT 5\n",
      ">> G_3: init: 0.19; noise: 0.15; b: 1.05; m: 7.63; expr: 1.00; deg: 0.10; theta: 0.84; asym: 4.03; tree : NOT 2\n",
      ">> G_4: init: 0.38; noise: 0.22; b: 0.29; m: 6.27; expr: 1.00; deg: 0.10; theta: 7.33; asym: 5.00; tree : (2 OR (1 OR 0))\n",
      "\n",
      "======= GENERATION generation_g7 =======\n",
      ">> G_0: init: 0.74; noise: 9.83; b: 1.69; m: 6.50; expr: 1.00; deg: 0.10; theta: 1.35; asym: 6.35; tree : NOT 2\n",
      ">> G_1: init: 1.90; noise: 0.11; b: 1.36; m: 5.09; expr: 0.84; deg: 0.09; theta: 5.28; asym: 5.00; tree : 4\n",
      ">> G_2: init: 1.14; noise: 0.11; b: 0.47; m: 5.32; expr: 0.94; deg: 0.10; theta: 3.09; asym: 4.27; tree : NOT NOT 5\n",
      ">> G_3: init: 0.19; noise: 0.14; b: 0.77; m: 9.28; expr: 1.00; deg: 0.10; theta: 0.77; asym: 5.16; tree : NOT (2 AND 5)\n",
      ">> G_4: init: 0.41; noise: 0.22; b: 0.30; m: 6.20; expr: 1.00; deg: 0.10; theta: 7.33; asym: 5.00; tree : (2 OR (1 OR 0))\n",
      "\n",
      "======= GENERATION generation_g8 =======\n",
      ">> G_0: init: 0.74; noise: 9.83; b: 1.69; m: 6.50; expr: 1.01; deg: 0.10; theta: 1.35; asym: 6.35; tree : NOT 2\n",
      ">> G_1: init: 2.02; noise: 0.11; b: 1.36; m: 5.09; expr: 0.84; deg: 0.09; theta: 5.28; asym: 5.00; tree : 4\n",
      ">> G_2: init: 1.14; noise: 0.11; b: 0.47; m: 5.32; expr: 0.94; deg: 0.10; theta: 3.09; asym: 4.27; tree : NOT NOT 5\n",
      ">> G_3: init: 0.19; noise: 0.14; b: 0.77; m: 9.28; expr: 1.00; deg: 0.10; theta: 0.77; asym: 5.16; tree : NOT 5\n",
      ">> G_4: init: 0.41; noise: 0.22; b: 0.30; m: 6.20; expr: 1.00; deg: 0.10; theta: 7.33; asym: 5.00; tree : (2 OR (1 OR 0))\n",
      "\n",
      "======= GENERATION generation_g9 =======\n",
      ">> G_0: init: 0.74; noise: 9.83; b: 1.69; m: 6.50; expr: 1.00; deg: 0.10; theta: 1.35; asym: 7.07; tree : NOT 2\n",
      ">> G_1: init: 1.90; noise: 0.11; b: 1.36; m: 5.09; expr: 0.84; deg: 0.09; theta: 5.28; asym: 5.00; tree : 4\n",
      ">> G_2: init: 1.14; noise: 0.11; b: 0.38; m: 6.36; expr: 0.98; deg: 0.09; theta: 3.09; asym: 4.27; tree : NOT NOT 5\n",
      ">> G_3: init: 0.19; noise: 0.14; b: 0.77; m: 9.28; expr: 1.00; deg: 0.10; theta: 0.77; asym: 5.16; tree : NOT 5\n",
      ">> G_4: init: 0.41; noise: 0.22; b: 0.30; m: 6.53; expr: 1.00; deg: 0.10; theta: 7.33; asym: 5.00; tree : (2 OR (1 OR 0))\n",
      "\n",
      "======= GENERATION generation_g10 =======\n",
      ">> G_0: init: 0.74; noise: 7.65; b: 1.78; m: 5.31; expr: 1.00; deg: 0.10; theta: 1.35; asym: 4.08; tree : NOT 2\n",
      ">> G_1: init: 1.90; noise: 0.11; b: 0.98; m: 4.57; expr: 1.12; deg: 0.10; theta: 3.81; asym: 5.27; tree : 4\n",
      ">> G_2: init: 1.40; noise: 0.13; b: 0.44; m: 6.38; expr: 0.94; deg: 0.10; theta: 3.09; asym: 5.00; tree : NOT NOT 5\n",
      ">> G_3: init: 0.19; noise: 0.12; b: 0.91; m: 7.63; expr: 1.00; deg: 0.10; theta: 0.77; asym: 3.56; tree : NOT (1 AND 0)\n",
      ">> G_4: init: 0.38; noise: 0.22; b: 0.29; m: 6.27; expr: 1.00; deg: 0.10; theta: 7.33; asym: 5.47; tree : (2 OR (1 OR 0))\n",
      "\n",
      "======= GENERATION generation_g11 =======\n",
      ">> G_0: init: 0.79; noise: 7.65; b: 1.78; m: 5.31; expr: 1.00; deg: 0.10; theta: 1.35; asym: 4.08; tree : NOT 2\n",
      ">> G_1: init: 1.70; noise: 0.11; b: 0.98; m: 4.57; expr: 1.12; deg: 0.12; theta: 3.81; asym: 5.27; tree : 4\n",
      ">> G_2: init: 1.40; noise: 0.13; b: 0.44; m: 6.38; expr: 0.94; deg: 0.10; theta: 3.09; asym: 5.00; tree : NOT NOT 5\n",
      ">> G_3: init: 0.19; noise: 0.10; b: 0.91; m: 7.63; expr: 0.92; deg: 0.10; theta: 0.77; asym: 3.56; tree : NOT (1 AND 0)\n",
      ">> G_4: init: 0.38; noise: 0.22; b: 0.29; m: 6.27; expr: 1.00; deg: 0.10; theta: 7.33; asym: 5.47; tree : (2 OR (1 OR 0))\n",
      "\n",
      "======= GENERATION generation_g12 =======\n",
      ">> G_0: init: 0.74; noise: 7.65; b: 1.78; m: 5.31; expr: 1.00; deg: 0.10; theta: 1.35; asym: 4.08; tree : NOT 2\n",
      ">> G_1: init: 1.70; noise: 0.11; b: 0.98; m: 4.57; expr: 1.12; deg: 0.12; theta: 3.81; asym: 4.71; tree : 4\n",
      ">> G_2: init: 1.50; noise: 0.13; b: 0.44; m: 6.38; expr: 0.94; deg: 0.10; theta: 3.09; asym: 5.00; tree : NOT NOT 5\n",
      ">> G_3: init: 0.19; noise: 0.10; b: 0.91; m: 7.63; expr: 0.92; deg: 0.10; theta: 0.77; asym: 3.56; tree : NOT (1 AND 0)\n",
      ">> G_4: init: 0.38; noise: 0.22; b: 0.29; m: 6.27; expr: 1.00; deg: 0.10; theta: 7.33; asym: 5.47; tree : (2 OR (1 OR 0))\n"
     ]
    }
   ],
   "source": [
    "for g in sorted(filter(sm.match, exp.list()), key=lambda x: int(sm.extract(x)[\"generation\"])):\n",
    "    gen = exp.load(g)\n",
    "    res = pick_best(gen)\n",
    "    print()\n",
    "    print(f\"======= GENERATION {g} =======\")\n",
    "    print(res.grn)"
   ]
  },
  {
   "cell_type": "code",
   "execution_count": null,
   "metadata": {},
   "outputs": [],
   "source": []
  }
 ],
 "metadata": {
  "kernelspec": {
   "display_name": "Python 3",
   "language": "python",
   "name": "python3"
  },
  "language_info": {
   "codemirror_mode": {
    "name": "ipython",
    "version": 3
   },
   "file_extension": ".py",
   "mimetype": "text/x-python",
   "name": "python",
   "nbconvert_exporter": "python",
   "pygments_lexer": "ipython3",
   "version": "3.8.10"
  }
 },
 "nbformat": 4,
 "nbformat_minor": 4
}
