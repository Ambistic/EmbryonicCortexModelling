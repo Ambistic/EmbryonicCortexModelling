{
 "cells": [
  {
   "cell_type": "code",
   "execution_count": 1,
   "metadata": {},
   "outputs": [],
   "source": [
    "import os\n",
    "os.environ[\"XLA_PYTHON_CLIENT_MEM_FRACTION\"] = \".13\""
   ]
  },
  {
   "cell_type": "code",
   "execution_count": 2,
   "metadata": {},
   "outputs": [],
   "source": [
    "import pandas as pd\n",
    "from brain import BrainModel\n",
    "from submodels import factories\n",
    "import matplotlib.pyplot as plt\n",
    "import numpy as np\n",
    "from collections import defaultdict\n",
    "from random import shuffle\n",
    "\n",
    "from lib.score import (\n",
    "    fate_corr, score_both_size_norm, shrink_and_align_stats, score_stats_norm\n",
    ")\n",
    "from lib.preprocess import *\n",
    "from lib.callback import (\n",
    "    cell_number_callback, progenitor_number_callback, neuron_number_callback,\n",
    "    TargetPopulation, TagNumberCallback,\n",
    ")\n",
    "from lib.sde.grn.grn4 import GRNMain4 as GRNMain\n",
    "from lib.sde.mutate import mutate_grn4 as mutate_grn\n",
    "\n",
    "from lib.ga.utils import weighted_selection_one, normalize_fitness_values\n",
    "from jf.utils.export import Exporter\n",
    "from jf.autocompute.jf import O, L\n",
    "from itertools import product\n",
    "import jf.models.stringmodel as sm\n",
    "from lib.analyser import show_curve, show_curve_progenitor\n",
    "import random\n",
    "from lib.sde.mutate import mutate_gene4, mutate_tree"
   ]
  },
  {
   "cell_type": "code",
   "execution_count": 3,
   "metadata": {},
   "outputs": [],
   "source": [
    "HISTORY = defaultdict(dict)\n",
    "HALL_OF_FAME = []"
   ]
  },
  {
   "cell_type": "code",
   "execution_count": 4,
   "metadata": {},
   "outputs": [],
   "source": [
    "_count = -1\n",
    "def provide_id():\n",
    "    global _count\n",
    "    _count += 1\n",
    "    return _count"
   ]
  },
  {
   "cell_type": "code",
   "execution_count": 5,
   "metadata": {},
   "outputs": [],
   "source": [
    "REF = O(\n",
    "    stats=pd.read_csv(\"reference/ref_tristate2.csv\"),  # ref is a mean\n",
    ")"
   ]
  },
  {
   "cell_type": "code",
   "execution_count": 6,
   "metadata": {},
   "outputs": [],
   "source": [
    "def individual_generator(id_=-1, cb_init=None, nb_genes=4):\n",
    "    return Solution(GRNMain(nb_genes, 0, 1, generate_funcs=cb_init), id_=id_)"
   ]
  },
  {
   "cell_type": "code",
   "execution_count": 7,
   "metadata": {},
   "outputs": [],
   "source": [
    "_MUTATE_FUNC = mutate_grn"
   ]
  },
  {
   "cell_type": "code",
   "execution_count": 8,
   "metadata": {},
   "outputs": [],
   "source": [
    "class Solution:\n",
    "    def __init__(self, grn, id_=0, parent=-1):\n",
    "        self.id = id_\n",
    "        self.grn = grn\n",
    "        self.parent = parent\n",
    "        self.fit = -1\n",
    "        self.stats = None\n",
    "        \n",
    "    def copy(self, id_=0):\n",
    "        return Solution(self.grn.copy(), id_=id_, parent=self.id)\n",
    "        \n",
    "    def mutate(self):\n",
    "        global _MUTATE_FUNC\n",
    "        _MUTATE_FUNC(self.grn)"
   ]
  },
  {
   "cell_type": "code",
   "execution_count": 9,
   "metadata": {},
   "outputs": [],
   "source": [
    "def score_bb_size(bb, ref, *args, **kwargs):\n",
    "    s_prog = score_stats_norm(bb.stats, ref.stats, col_stats=f\"progenitor_pop_size\",\n",
    "                     col_ref=\"progenitor_pop_size\", norm=2.0, *args, **kwargs)\n",
    "    s_all = score_stats_norm(bb.stats, ref.stats, col_stats=f\"whole_pop_size\",\n",
    "                     col_ref=\"whole_pop_size\", norm=2.0, *args, **kwargs)\n",
    "    s_neuron = score_stats_norm(bb.stats, ref.stats, col_stats=f\"neuron_pop_size\",\n",
    "                     col_ref=\"neuron_pop_size\", col_norm_data=\"progenitor_pop_size\",\n",
    "                       col_norm_ref=\"progenitor_pop_size\", norm=2.0, *args, **kwargs)\n",
    "\n",
    "    return np.mean(s_prog + s_all + s_neuron)"
   ]
  },
  {
   "cell_type": "code",
   "execution_count": 10,
   "metadata": {},
   "outputs": [],
   "source": [
    "def setup_tag(cp):\n",
    "    indexes = list(cp.base_population.keys())\n",
    "    shuffle(indexes)\n",
    "    splits = np.array_split(indexes, 3)\n",
    "    for i, ls in enumerate(splits):\n",
    "        for idx in ls:\n",
    "            cp.base_population[idx].tag[\"subbrain\"] = i"
   ]
  },
  {
   "cell_type": "code",
   "execution_count": 11,
   "metadata": {},
   "outputs": [],
   "source": [
    "def get_bb(prun, grn):\n",
    "    ccls = factories[\"grn4\"](grn=grn)\n",
    "    callbacks = dict(\n",
    "        progenitor_pop_size=progenitor_number_callback,\n",
    "        whole_pop_size=cell_number_callback,\n",
    "        neuron_pop_size=neuron_number_callback,\n",
    "    )\n",
    "    bb = BrainModel(time_step=0.5, verbose=False, start_population=prun.size, max_pop_size=3e2,\n",
    "            cell_cls=ccls, end_time=prun.end_time, start_time=56, silent=True, opti=True,\n",
    "              run_tissue=True, monitor_callbacks=callbacks, tag_func=setup_tag)\n",
    "    return bb"
   ]
  },
  {
   "cell_type": "code",
   "execution_count": 12,
   "metadata": {},
   "outputs": [],
   "source": [
    "def run_grn(prun, grn):\n",
    "    get_bb(prun, grn)\n",
    "    bb.run()\n",
    "    return bb"
   ]
  },
  {
   "cell_type": "code",
   "execution_count": 13,
   "metadata": {},
   "outputs": [],
   "source": [
    "def fitness_multistep(prun, grn, steps):\n",
    "    total_fitness = 0\n",
    "    stop = False\n",
    "    previous_time = None\n",
    "    bb = get_bb(prun, grn)\n",
    "    # first step\n",
    "    for step in steps:\n",
    "        if not bb.run_until(step.end_time):\n",
    "            stop = True\n",
    "        # score_step = score_both_size(bb.stats, prun.ref, max_step=step.end_time, min_step=previous_time)\n",
    "        score_step = step.score_func(bb, prun.ref, max_step=step.end_time, min_step=step.start_time)\n",
    "        fitness_step = 1.0 / score_step\n",
    "        fitness_step = min(fitness_step, step.max_fitness)\n",
    "        total_fitness += fitness_step\n",
    "        if fitness_step < step.min_fitness or stop:\n",
    "            return total_fitness, bb.stats\n",
    "        else:\n",
    "            previous_time = step.end_time\n",
    "            step.passed()\n",
    "        \n",
    "    return total_fitness, bb.stats"
   ]
  },
  {
   "cell_type": "code",
   "execution_count": 14,
   "metadata": {},
   "outputs": [],
   "source": [
    "def mean_sd_fitness(prun, grn, run=3):\n",
    "    fitnesses = [fitness_multistep(prun, grn) for i in range(run)]\n",
    "    return np.mean(fitnesses), np.std(fitnesses)"
   ]
  },
  {
   "cell_type": "code",
   "execution_count": 15,
   "metadata": {},
   "outputs": [],
   "source": [
    "def multi_fitness(*args):\n",
    "    fitnesses = [fitness_multistep(*args) for i in range(3)]\n",
    "    scores = [x[0] for x in fitnesses]\n",
    "    return fitnesses[scores.index(min(scores))]"
   ]
  },
  {
   "cell_type": "code",
   "execution_count": 16,
   "metadata": {},
   "outputs": [],
   "source": [
    "def do_init(prun):\n",
    "    return individual_generator(provide_id(), prun.cb_init)\n",
    "\n",
    "def do_fitness(prun, sol):\n",
    "    fitness, stats = fitness_multistep(prun, sol.grn, prun.steps)\n",
    "    return fitness, stats\n",
    "\n",
    "def do_selection(prun, pop_fit, pop):\n",
    "    if len(pop) < prun.min_pop:\n",
    "        return individual_generator(provide_id(), prun.cb_init)\n",
    "    \n",
    "    pop_fit = normalize_fitness_values(pop_fit)\n",
    "    \n",
    "    return weighted_selection_one(pop, pop_fit, lambda x: individual_generator(x, prun.cb_init),\n",
    "                                  new_fitness=0.5, id_=provide_id())[0]\n",
    "\n",
    "def do_mutation(prun, sol):\n",
    "    sol.mutate()\n",
    "    return sol"
   ]
  },
  {
   "cell_type": "code",
   "execution_count": 17,
   "metadata": {},
   "outputs": [],
   "source": [
    "class ObjectiveStep(O):\n",
    "    start_time = 0\n",
    "    end_time = 0\n",
    "    max_fitness = 3\n",
    "    min_fitness = 1\n",
    "    name = \"\"\n",
    "    _passed = False\n",
    "    \n",
    "    def reset(self):\n",
    "        self._passed = False\n",
    "    \n",
    "    def passed(self):\n",
    "        if self._passed:\n",
    "            return\n",
    "        print(f\"Step {self.name} passed !\")\n",
    "        self._passed = True\n",
    "    \n",
    "example_steps = [\n",
    "    ObjectiveStep(name=\"The ONE\", start_time=56, end_time=86, score_func=score_bb_size, min_fitness=0.2),\n",
    "]\n",
    "\n",
    "class ParamRun(O):\n",
    "    pop_size = 10\n",
    "    n_gen = 30\n",
    "    current_gen = 0\n",
    "    end_time = 86\n",
    "    ref = REF\n",
    "    min_pop = 25\n",
    "    max_pop = 50\n",
    "\n",
    "def get_prun(size=5, exponent=1):\n",
    "    prun = ParamRun()\n",
    "    prun.cb_init = dict()\n",
    "    prun.size = size\n",
    "    prun.exponent = exponent\n",
    "    prun.steps = example_steps\n",
    "    return prun"
   ]
  },
  {
   "cell_type": "code",
   "execution_count": 18,
   "metadata": {},
   "outputs": [],
   "source": [
    "def main(prun):\n",
    "    prun.history = defaultdict(dict)\n",
    "    # exporter = Exporter()\n",
    "    best = 0\n",
    "    sol = do_init(prun)\n",
    "    pop = [sol]\n",
    "    for generation in range(prun.n_gen * prun.pop_size):\n",
    "        # args.generation = generation\n",
    "        # objective.new_trial()\n",
    "        fit, stats = do_fitness(prun, sol)\n",
    "        sol.fit = fit\n",
    "        sol.stats = stats\n",
    "        \n",
    "        # history\n",
    "        # print(f\"Fitness = {fit}\", end=\"\\t\\t\")\n",
    "        if generation % 100 == 0:\n",
    "            print(f\"Step {generation}\")\n",
    "        if fit > best:\n",
    "            print(f\"++ Best {fit} for generation {generation}\")\n",
    "            best = fit\n",
    "            \n",
    "        monitor = sol\n",
    "        prun.history[generation] = monitor\n",
    "        # exporter(monitor, f\"generation_g{generation}\")\n",
    "        \n",
    "        # TODO get the stats associated with the best scores\n",
    "        sub_pop = pop[-prun.max_pop:]\n",
    "        sol = do_selection(prun, [s.fit for s in sub_pop], sub_pop)\n",
    "            \n",
    "        sol = do_mutation(prun, sol)\n",
    "        pop.append(sol)\n",
    "        \n",
    "    print(\"OVER\")\n",
    "    return best"
   ]
  },
  {
   "cell_type": "code",
   "execution_count": 19,
   "metadata": {},
   "outputs": [],
   "source": [
    "prun = get_prun()\n",
    "# res = main(prun)"
   ]
  },
  {
   "cell_type": "code",
   "execution_count": 20,
   "metadata": {},
   "outputs": [],
   "source": [
    "def get_score_parametrized(cb_init, name=None):\n",
    "    args = get_prun()\n",
    "    args.cb_init = cb_init\n",
    "    args.name = name\n",
    "    main(args)\n",
    "    p1 = L(args.history.values()).fit\n",
    "    idx = p1.index(max(p1))\n",
    "    sol = args.history[idx]\n",
    "    scores = [fitness_multistep(args, sol.grn, args.steps)[0] for i in range(10)]\n",
    "    print(\"Final score\", np.mean(scores), \"+-\", np.std(scores))\n",
    "    return np.mean(scores), np.std(scores), max(p1)"
   ]
  },
  {
   "cell_type": "code",
   "execution_count": 21,
   "metadata": {},
   "outputs": [],
   "source": [
    "def mutate_grn_ctrl(grn):\n",
    "    grn.set_mutable()\n",
    "    one_gene = random.choice(grn.genes)\n",
    "    mutate_gene4(one_gene)\n",
    "    grn.compile()\n",
    "    \n",
    "def mutate_grn_sparse(grn, temperature=0.1):\n",
    "    grn.set_mutable()\n",
    "    shape = grn._params.shape\n",
    "    r = random.random()\n",
    "    param_prob = 0.8\n",
    "    if r < param_prob:\n",
    "        mask = (np.random.uniform(0, 1, shape) > 0.8)\n",
    "        coeff = np.random.normal(0, temperature, shape)\n",
    "        true_coeff = mask * coeff + 1\n",
    "        grn._params *= true_coeff\n",
    "    else:\n",
    "        one_gene = random.choice(grn.genes)\n",
    "        one_gene.tree = mutate_tree(one_gene.tree, one_gene.get_labels_not_in_tree())\n",
    "    grn.compile()\n",
    "    \n",
    "def mutate_grn_verysparse(grn, temperature=0.1):\n",
    "    grn.set_mutable()\n",
    "    shape = grn._params.shape\n",
    "    r = random.random()\n",
    "    param_prob = 0.8\n",
    "    if r < param_prob:\n",
    "        mask = (np.random.uniform(0, 1, shape) > 0.9)\n",
    "        coeff = np.random.normal(0, temperature, shape)\n",
    "        true_coeff = mask * coeff + 1\n",
    "        grn._params *= true_coeff\n",
    "    else:\n",
    "        one_gene = random.choice(grn.genes)\n",
    "        one_gene.tree = mutate_tree(one_gene.tree, one_gene.get_labels_not_in_tree())\n",
    "    grn.compile()\n",
    "    \n",
    "def mutate_grn_full(grn, temperature=0.1):\n",
    "    grn.set_mutable()\n",
    "    shape = grn._params.shape\n",
    "    r = random.random()\n",
    "    param_prob = 0.8\n",
    "    if r < param_prob:\n",
    "        grn._params *= np.random.normal(1, temperature, shape)\n",
    "    else:\n",
    "        one_gene = random.choice(grn.genes)\n",
    "        one_gene.tree = mutate_tree(one_gene.tree, one_gene.get_labels_not_in_tree())\n",
    "    grn.compile()"
   ]
  },
  {
   "cell_type": "code",
   "execution_count": 22,
   "metadata": {},
   "outputs": [],
   "source": [
    "model = sm.StringModel(\"expfit_func{mutfunc}_i{i}\")\n",
    "mut_func = dict(\n",
    "    ctrl=mutate_grn_ctrl,\n",
    "    sparse=mutate_grn_sparse,\n",
    "    verysparse=mutate_grn_verysparse,\n",
    "    full=mutate_grn_full,\n",
    ")"
   ]
  },
  {
   "cell_type": "code",
   "execution_count": 23,
   "metadata": {},
   "outputs": [],
   "source": [
    "callback_init = dict(\n",
    "    init=lambda: np.random.beta(1.5, 3) * 3,\n",
    "    b=lambda: np.random.beta(1.5, 3) * 5,\n",
    "    expr=lambda: 1,\n",
    "    deg=lambda: 0.1,\n",
    ")"
   ]
  },
  {
   "cell_type": "code",
   "execution_count": 24,
   "metadata": {},
   "outputs": [
    {
     "name": "stdout",
     "output_type": "stream",
     "text": [
      "Exporting at output/exp_mutfunc4_230222\n",
      "expfit_funcctrl_i0\n",
      "expfit_funcctrl_i1\n",
      "expfit_funcctrl_i2\n",
      "expfit_funcctrl_i3\n",
      "expfit_funcctrl_i4\n",
      "expfit_funcctrl_i5\n",
      "expfit_funcctrl_i6\n",
      "expfit_funcctrl_i7\n",
      "expfit_funcctrl_i8\n",
      "expfit_funcctrl_i9\n",
      "expfit_funcsparse_i0\n",
      "expfit_funcsparse_i1\n",
      "expfit_funcsparse_i2\n",
      "expfit_funcsparse_i3\n",
      "expfit_funcsparse_i4\n",
      "expfit_funcsparse_i5\n",
      "expfit_funcsparse_i6\n",
      "expfit_funcsparse_i7\n",
      "expfit_funcsparse_i8\n",
      "expfit_funcsparse_i9\n",
      "expfit_funcverysparse_i0\n",
      "expfit_funcverysparse_i1\n",
      "expfit_funcverysparse_i2\n",
      "expfit_funcverysparse_i3\n",
      "expfit_funcverysparse_i4\n",
      "expfit_funcverysparse_i5\n",
      "expfit_funcverysparse_i6\n",
      "expfit_funcverysparse_i7\n",
      "expfit_funcverysparse_i8\n",
      "expfit_funcverysparse_i9\n",
      "expfit_funcfull_i0\n",
      "expfit_funcfull_i1\n",
      "expfit_funcfull_i2\n",
      "expfit_funcfull_i3\n",
      "expfit_funcfull_i4\n",
      "expfit_funcfull_i5\n",
      "expfit_funcfull_i6\n",
      "Step 0\n",
      "++ Best 0.005700229783625332 for generation 0\n",
      "++ Best 0.010222566327396274 for generation 1\n",
      "++ Best 0.012683904517547643 for generation 52\n",
      "Step 100\n",
      "++ Best 0.015177086058181561 for generation 163\n",
      "Step 200\n",
      "OVER\n",
      "Final score 0.014061456125971728 +- 0.003911249464112098\n",
      "expfit_funcfull_i7\n",
      "Step 0\n",
      "++ Best 0.005716776745112218 for generation 0\n",
      "++ Best 0.007702575148041355 for generation 2\n",
      "++ Best 0.012071498706856316 for generation 8\n",
      "++ Best 0.02104230274767779 for generation 11\n",
      "Step 100\n",
      "Step 200\n",
      "OVER\n",
      "Final score 0.019789929361600476 +- 0.004109678713690648\n",
      "expfit_funcfull_i8\n",
      "Step 0\n",
      "++ Best 0.0057148321081233605 for generation 0\n",
      "++ Best 0.005790051045724525 for generation 1\n",
      "++ Best 0.005996960794988766 for generation 8\n",
      "++ Best 0.006200174839975155 for generation 19\n",
      "++ Best 0.008563409595289829 for generation 27\n",
      "++ Best 0.008785296172361932 for generation 28\n",
      "++ Best 0.009064789746314661 for generation 32\n",
      "++ Best 0.009935396235463283 for generation 48\n",
      "++ Best 0.010117801482767553 for generation 65\n",
      "++ Best 0.010225362713803273 for generation 82\n",
      "++ Best 0.04464409358600257 for generation 89\n",
      "Step 100\n",
      "Step 200\n",
      "OVER\n",
      "Final score 0.027259234366760244 +- 0.019695691734209826\n",
      "expfit_funcfull_i9\n",
      "Step 0\n",
      "++ Best 0.00656719242622195 for generation 0\n",
      "++ Best 0.009431437262034367 for generation 2\n",
      "++ Best 0.01001314290673176 for generation 21\n",
      "++ Best 0.015290985180932802 for generation 24\n",
      "Step 100\n",
      "Step 200\n",
      "++ Best 0.0299140928132976 for generation 230\n",
      "++ Best 0.04840879623167825 for generation 271\n",
      "OVER\n",
      "Final score 0.007548132272660229 +- 0.004149396781622501\n"
     ]
    }
   ],
   "source": [
    "# main loop\n",
    "exporter = Exporter(name=\"exp_mutfunc4_230222\")\n",
    "for (funcname, func), i in product(mut_func.items(), range(10)):\n",
    "    name = model.fill(mutfunc=funcname, i=i)\n",
    "    print(name)\n",
    "    if name in exporter.list():\n",
    "        continue\n",
    "    _MUTATE_FUNC = func\n",
    "    res = get_score_parametrized(callback_init)\n",
    "    exporter(res, name)"
   ]
  },
  {
   "cell_type": "code",
   "execution_count": 25,
   "metadata": {},
   "outputs": [
    {
     "ename": "NameError",
     "evalue": "name 'sol' is not defined",
     "output_type": "error",
     "traceback": [
      "\u001b[0;31m---------------------------------------------------------------------------\u001b[0m",
      "\u001b[0;31mNameError\u001b[0m                                 Traceback (most recent call last)",
      "\u001b[0;32m<ipython-input-25-30abeee9d69e>\u001b[0m in \u001b[0;36m<module>\u001b[0;34m\u001b[0m\n\u001b[0;32m----> 1\u001b[0;31m \u001b[0mshow_curve\u001b[0m\u001b[0;34m(\u001b[0m\u001b[0msol\u001b[0m\u001b[0;34m.\u001b[0m\u001b[0mstats\u001b[0m\u001b[0;34m,\u001b[0m \u001b[0mREF\u001b[0m\u001b[0;34m.\u001b[0m\u001b[0mstats\u001b[0m\u001b[0;34m)\u001b[0m\u001b[0;34m\u001b[0m\u001b[0;34m\u001b[0m\u001b[0m\n\u001b[0m",
      "\u001b[0;31mNameError\u001b[0m: name 'sol' is not defined"
     ]
    }
   ],
   "source": [
    "show_curve(sol.stats, REF.stats)"
   ]
  },
  {
   "cell_type": "code",
   "execution_count": 26,
   "metadata": {},
   "outputs": [],
   "source": [
    "dicts = [dict(**model.extract(x), **dict(zip((\"mean\", \"sd\", \"max\"), exporter.load(x)))) for x in exporter.list() if model.match(x)]"
   ]
  },
  {
   "cell_type": "code",
   "execution_count": 27,
   "metadata": {},
   "outputs": [],
   "source": [
    "df = pd.DataFrame(dicts)"
   ]
  },
  {
   "cell_type": "code",
   "execution_count": 28,
   "metadata": {},
   "outputs": [
    {
     "data": {
      "text/html": [
       "<div>\n",
       "<style scoped>\n",
       "    .dataframe tbody tr th:only-of-type {\n",
       "        vertical-align: middle;\n",
       "    }\n",
       "\n",
       "    .dataframe tbody tr th {\n",
       "        vertical-align: top;\n",
       "    }\n",
       "\n",
       "    .dataframe thead th {\n",
       "        text-align: right;\n",
       "    }\n",
       "</style>\n",
       "<table border=\"1\" class=\"dataframe\">\n",
       "  <thead>\n",
       "    <tr style=\"text-align: right;\">\n",
       "      <th></th>\n",
       "      <th>mutfunc</th>\n",
       "      <th>i</th>\n",
       "      <th>mean</th>\n",
       "      <th>sd</th>\n",
       "      <th>max</th>\n",
       "    </tr>\n",
       "  </thead>\n",
       "  <tbody>\n",
       "    <tr>\n",
       "      <th>0</th>\n",
       "      <td>verysparse</td>\n",
       "      <td>3</td>\n",
       "      <td>0.010320</td>\n",
       "      <td>0.000836</td>\n",
       "      <td>0.011604</td>\n",
       "    </tr>\n",
       "    <tr>\n",
       "      <th>1</th>\n",
       "      <td>ctrl</td>\n",
       "      <td>5</td>\n",
       "      <td>0.029004</td>\n",
       "      <td>0.018015</td>\n",
       "      <td>0.079249</td>\n",
       "    </tr>\n",
       "    <tr>\n",
       "      <th>2</th>\n",
       "      <td>ctrl</td>\n",
       "      <td>4</td>\n",
       "      <td>0.035350</td>\n",
       "      <td>0.023815</td>\n",
       "      <td>0.055724</td>\n",
       "    </tr>\n",
       "    <tr>\n",
       "      <th>3</th>\n",
       "      <td>sparse</td>\n",
       "      <td>4</td>\n",
       "      <td>0.007565</td>\n",
       "      <td>0.003570</td>\n",
       "      <td>0.018477</td>\n",
       "    </tr>\n",
       "    <tr>\n",
       "      <th>4</th>\n",
       "      <td>sparse</td>\n",
       "      <td>2</td>\n",
       "      <td>0.030606</td>\n",
       "      <td>0.008550</td>\n",
       "      <td>0.025946</td>\n",
       "    </tr>\n",
       "  </tbody>\n",
       "</table>\n",
       "</div>"
      ],
      "text/plain": [
       "      mutfunc  i      mean        sd       max\n",
       "0  verysparse  3  0.010320  0.000836  0.011604\n",
       "1        ctrl  5  0.029004  0.018015  0.079249\n",
       "2        ctrl  4  0.035350  0.023815  0.055724\n",
       "3      sparse  4  0.007565  0.003570  0.018477\n",
       "4      sparse  2  0.030606  0.008550  0.025946"
      ]
     },
     "execution_count": 28,
     "metadata": {},
     "output_type": "execute_result"
    }
   ],
   "source": [
    "df.head()"
   ]
  },
  {
   "cell_type": "code",
   "execution_count": 29,
   "metadata": {},
   "outputs": [
    {
     "data": {
      "text/html": [
       "<div>\n",
       "<style scoped>\n",
       "    .dataframe tbody tr th:only-of-type {\n",
       "        vertical-align: middle;\n",
       "    }\n",
       "\n",
       "    .dataframe tbody tr th {\n",
       "        vertical-align: top;\n",
       "    }\n",
       "\n",
       "    .dataframe thead th {\n",
       "        text-align: right;\n",
       "    }\n",
       "</style>\n",
       "<table border=\"1\" class=\"dataframe\">\n",
       "  <thead>\n",
       "    <tr style=\"text-align: right;\">\n",
       "      <th></th>\n",
       "      <th>mean</th>\n",
       "      <th>sd</th>\n",
       "      <th>max</th>\n",
       "    </tr>\n",
       "    <tr>\n",
       "      <th>mutfunc</th>\n",
       "      <th></th>\n",
       "      <th></th>\n",
       "      <th></th>\n",
       "    </tr>\n",
       "  </thead>\n",
       "  <tbody>\n",
       "    <tr>\n",
       "      <th>ctrl</th>\n",
       "      <td>0.020019</td>\n",
       "      <td>0.010299</td>\n",
       "      <td>0.040134</td>\n",
       "    </tr>\n",
       "    <tr>\n",
       "      <th>full</th>\n",
       "      <td>0.016380</td>\n",
       "      <td>0.005474</td>\n",
       "      <td>0.025236</td>\n",
       "    </tr>\n",
       "    <tr>\n",
       "      <th>sparse</th>\n",
       "      <td>0.015001</td>\n",
       "      <td>0.007552</td>\n",
       "      <td>0.029295</td>\n",
       "    </tr>\n",
       "    <tr>\n",
       "      <th>verysparse</th>\n",
       "      <td>0.021006</td>\n",
       "      <td>0.008715</td>\n",
       "      <td>0.036409</td>\n",
       "    </tr>\n",
       "  </tbody>\n",
       "</table>\n",
       "</div>"
      ],
      "text/plain": [
       "                mean        sd       max\n",
       "mutfunc                                 \n",
       "ctrl        0.020019  0.010299  0.040134\n",
       "full        0.016380  0.005474  0.025236\n",
       "sparse      0.015001  0.007552  0.029295\n",
       "verysparse  0.021006  0.008715  0.036409"
      ]
     },
     "execution_count": 29,
     "metadata": {},
     "output_type": "execute_result"
    }
   ],
   "source": [
    "new_df = df.groupby([\"mutfunc\"]).mean()\n",
    "new_df"
   ]
  },
  {
   "cell_type": "code",
   "execution_count": 33,
   "metadata": {},
   "outputs": [],
   "source": [
    "new_df[\"min_b\"] = new_df[\"mean\"] - new_df.sd / np.sqrt(10)\n",
    "new_df[\"max_b\"] = new_df[\"mean\"] + new_df.sd / np.sqrt(10)"
   ]
  },
  {
   "cell_type": "code",
   "execution_count": 34,
   "metadata": {},
   "outputs": [
    {
     "data": {
      "text/html": [
       "<div>\n",
       "<style scoped>\n",
       "    .dataframe tbody tr th:only-of-type {\n",
       "        vertical-align: middle;\n",
       "    }\n",
       "\n",
       "    .dataframe tbody tr th {\n",
       "        vertical-align: top;\n",
       "    }\n",
       "\n",
       "    .dataframe thead th {\n",
       "        text-align: right;\n",
       "    }\n",
       "</style>\n",
       "<table border=\"1\" class=\"dataframe\">\n",
       "  <thead>\n",
       "    <tr style=\"text-align: right;\">\n",
       "      <th></th>\n",
       "      <th>mean</th>\n",
       "      <th>sd</th>\n",
       "      <th>max</th>\n",
       "      <th>min_b</th>\n",
       "      <th>max_b</th>\n",
       "    </tr>\n",
       "    <tr>\n",
       "      <th>mutfunc</th>\n",
       "      <th></th>\n",
       "      <th></th>\n",
       "      <th></th>\n",
       "      <th></th>\n",
       "      <th></th>\n",
       "    </tr>\n",
       "  </thead>\n",
       "  <tbody>\n",
       "    <tr>\n",
       "      <th>ctrl</th>\n",
       "      <td>0.020019</td>\n",
       "      <td>0.010299</td>\n",
       "      <td>0.040134</td>\n",
       "      <td>0.016762</td>\n",
       "      <td>0.023276</td>\n",
       "    </tr>\n",
       "    <tr>\n",
       "      <th>full</th>\n",
       "      <td>0.016380</td>\n",
       "      <td>0.005474</td>\n",
       "      <td>0.025236</td>\n",
       "      <td>0.014649</td>\n",
       "      <td>0.018111</td>\n",
       "    </tr>\n",
       "    <tr>\n",
       "      <th>sparse</th>\n",
       "      <td>0.015001</td>\n",
       "      <td>0.007552</td>\n",
       "      <td>0.029295</td>\n",
       "      <td>0.012613</td>\n",
       "      <td>0.017389</td>\n",
       "    </tr>\n",
       "    <tr>\n",
       "      <th>verysparse</th>\n",
       "      <td>0.021006</td>\n",
       "      <td>0.008715</td>\n",
       "      <td>0.036409</td>\n",
       "      <td>0.018250</td>\n",
       "      <td>0.023762</td>\n",
       "    </tr>\n",
       "  </tbody>\n",
       "</table>\n",
       "</div>"
      ],
      "text/plain": [
       "                mean        sd       max     min_b     max_b\n",
       "mutfunc                                                     \n",
       "ctrl        0.020019  0.010299  0.040134  0.016762  0.023276\n",
       "full        0.016380  0.005474  0.025236  0.014649  0.018111\n",
       "sparse      0.015001  0.007552  0.029295  0.012613  0.017389\n",
       "verysparse  0.021006  0.008715  0.036409  0.018250  0.023762"
      ]
     },
     "execution_count": 34,
     "metadata": {},
     "output_type": "execute_result"
    }
   ],
   "source": [
    "new_df"
   ]
  },
  {
   "cell_type": "code",
   "execution_count": 30,
   "metadata": {},
   "outputs": [
    {
     "name": "stdout",
     "output_type": "stream",
     "text": [
      "ctrl 0.0200190417567745 0.016762332534174626 0.02327575097937437\n",
      "full 0.01638029520244837 0.014649358028289662 0.01811123237660708\n",
      "sparse 0.01500115803583385 0.012613081363649907 0.017389234708017794\n",
      "verysparse 0.021005735370942916 0.018249940130105537 0.023761530611780296\n"
     ]
    }
   ],
   "source": [
    "for i, row in new_df.iterrows():\n",
    "    print(row.name, row[\"mean\"], row[\"mean\"] - row.sd / np.sqrt(10), row[\"mean\"] + row.sd / np.sqrt(10))"
   ]
  },
  {
   "cell_type": "code",
   "execution_count": 48,
   "metadata": {},
   "outputs": [
    {
     "data": {
      "text/plain": [
       "1.646646675643709"
      ]
     },
     "execution_count": 48,
     "metadata": {},
     "output_type": "execute_result"
    }
   ],
   "source": [
    "n = 10\n",
    "row1, row2 = \"verysparse\", \"sparse\"\n",
    "x1 = new_df.loc[row1, \"mean\"]\n",
    "x2 = new_df.loc[row2, \"mean\"]\n",
    "sd1 = new_df.loc[row1, \"sd\"]\n",
    "sd2 = new_df.loc[row2, \"sd\"]\n",
    "sp = np.sqrt((sd1**2 + sd2**2) / 2)\n",
    "ts = (x1 - x2) / (sp * np.sqrt(2 / n))\n",
    "ts"
   ]
  },
  {
   "cell_type": "code",
   "execution_count": 49,
   "metadata": {},
   "outputs": [],
   "source": [
    "from scipy.stats import t"
   ]
  },
  {
   "cell_type": "code",
   "execution_count": 50,
   "metadata": {},
   "outputs": [
    {
     "data": {
      "text/plain": [
       "0.05803555220344847"
      ]
     },
     "execution_count": 50,
     "metadata": {},
     "output_type": "execute_result"
    }
   ],
   "source": [
    "1 - t.cdf(ts, 19)"
   ]
  },
  {
   "cell_type": "code",
   "execution_count": null,
   "metadata": {},
   "outputs": [],
   "source": [
    "row.name"
   ]
  },
  {
   "cell_type": "code",
   "execution_count": null,
   "metadata": {},
   "outputs": [],
   "source": []
  }
 ],
 "metadata": {
  "kernelspec": {
   "display_name": "Python 3",
   "language": "python",
   "name": "python3"
  },
  "language_info": {
   "codemirror_mode": {
    "name": "ipython",
    "version": 3
   },
   "file_extension": ".py",
   "mimetype": "text/x-python",
   "name": "python",
   "nbconvert_exporter": "python",
   "pygments_lexer": "ipython3",
   "version": "3.8.10"
  }
 },
 "nbformat": 4,
 "nbformat_minor": 4
}
