{
 "cells": [
  {
   "cell_type": "code",
   "execution_count": 16,
   "metadata": {},
   "outputs": [],
   "source": [
    "import matplotlib.pyplot as plt\n",
    "from lib.preprocess import preprocess_progenitor_size, preprocess_whole_size\n",
    "from lib.utils import shrink_and_align_stats\n",
    "from lib.score import REF\n",
    "from jf.utils.export import Exporter\n",
    "import os"
   ]
  },
  {
   "cell_type": "code",
   "execution_count": 2,
   "metadata": {},
   "outputs": [],
   "source": [
    "from lib.sde.grn2 import GRNMain2\n",
    "from lib.sde.mutate import mutate_grn2\n",
    "\n",
    "class Solution:\n",
    "    def __init__(self, grn):\n",
    "        self.grn = grn\n",
    "        \n",
    "    def copy(self):\n",
    "        return Solution(self.grn.copy())\n",
    "        \n",
    "    def mutate(self):\n",
    "        mutate_grn2(self.grn)"
   ]
  },
  {
   "cell_type": "code",
   "execution_count": 31,
   "metadata": {},
   "outputs": [],
   "source": [
    "def show_curve_progenitor(stats, ref, max_step=None, show=True):\n",
    "    \"\"\"\n",
    "    The evaluation function for progenitor population size.\n",
    "    The lower is the better\n",
    "    :param stats: the stats of the bb after running\n",
    "    \"\"\"\n",
    "    stats, ref = shrink_and_align_stats(stats, ref, max_step=max_step)\n",
    "    \n",
    "    x, y = preprocess_progenitor_size(stats, ref)\n",
    "    \n",
    "    plt.plot(ref.index, x, label=\"Reference Prog\")\n",
    "    plt.plot(ref.index, y, label=\"Simulation Prog\")\n",
    "    \n",
    "    plt.legend()\n",
    "    \n",
    "    if show:\n",
    "        plt.show()"
   ]
  },
  {
   "cell_type": "code",
   "execution_count": 3,
   "metadata": {},
   "outputs": [],
   "source": [
    "def show_curve(stats, ref, max_step=None, show=True):\n",
    "    \"\"\"\n",
    "    The evaluation function for progenitor population size.\n",
    "    The lower is the better\n",
    "    :param stats: the stats of the bb after running\n",
    "    \"\"\"\n",
    "    stats, ref = shrink_and_align_stats(stats, ref, max_step=max_step)\n",
    "    \n",
    "    x, y = preprocess_progenitor_size(stats, ref)\n",
    "    \n",
    "    plt.plot(ref.index, x, label=\"Reference Prog\")\n",
    "    plt.plot(ref.index, y, label=\"Simulation Prog\")\n",
    "    \n",
    "    x, y = preprocess_whole_size(stats, ref)\n",
    "    \n",
    "    plt.plot(ref.index, x, label=\"Reference Whole\")\n",
    "    plt.plot(ref.index, y, label=\"Simulation Whole\")\n",
    "    \n",
    "    plt.legend()\n",
    "    \n",
    "    if show:\n",
    "        plt.show()"
   ]
  },
  {
   "cell_type": "code",
   "execution_count": 168,
   "metadata": {},
   "outputs": [
    {
     "data": {
      "text/plain": [
       "['results',\n",
       " 'multi_mutate_p3',\n",
       " 'logs',\n",
       " '2022-01-13',\n",
       " '2022-01-10',\n",
       " 'abs_score',\n",
       " 'norm_fitval_median',\n",
       " 'default',\n",
       " '2022-01-12',\n",
       " 'test_ts_0.125_true',\n",
       " 'test_ts_0.125',\n",
       " 'test',\n",
       " '2022-01-05',\n",
       " '2022-01-04']"
      ]
     },
     "execution_count": 168,
     "metadata": {},
     "output_type": "execute_result"
    }
   ],
   "source": [
    "os.listdir(\"output/\")"
   ]
  },
  {
   "cell_type": "code",
   "execution_count": 182,
   "metadata": {},
   "outputs": [
    {
     "name": "stdout",
     "output_type": "stream",
     "text": [
      "Exporting at output/abs_score\n"
     ]
    }
   ],
   "source": [
    "exporter = Exporter(name=\"abs_score\")"
   ]
  },
  {
   "cell_type": "code",
   "execution_count": 183,
   "metadata": {},
   "outputs": [
    {
     "data": {
      "text/plain": [
       "['definition',\n",
       " 'generation_g0',\n",
       " 'generation_g1',\n",
       " 'generation_g10',\n",
       " 'generation_g11',\n",
       " 'generation_g12',\n",
       " 'generation_g13',\n",
       " 'generation_g14',\n",
       " 'generation_g15',\n",
       " 'generation_g16',\n",
       " 'generation_g17',\n",
       " 'generation_g18',\n",
       " 'generation_g19',\n",
       " 'generation_g2',\n",
       " 'generation_g20',\n",
       " 'generation_g21',\n",
       " 'generation_g22',\n",
       " 'generation_g23',\n",
       " 'generation_g24',\n",
       " 'generation_g25',\n",
       " 'generation_g26',\n",
       " 'generation_g3',\n",
       " 'generation_g4',\n",
       " 'generation_g5',\n",
       " 'generation_g6',\n",
       " 'generation_g7',\n",
       " 'generation_g8',\n",
       " 'generation_g9',\n",
       " 'out']"
      ]
     },
     "execution_count": 183,
     "metadata": {},
     "output_type": "execute_result"
    }
   ],
   "source": [
    "sorted(exporter.list())"
   ]
  },
  {
   "cell_type": "code",
   "execution_count": 184,
   "metadata": {},
   "outputs": [],
   "source": [
    "def pick_best_sol_stats(res):\n",
    "    fit = res['fitness']\n",
    "    index = fit.index(max(fit))\n",
    "    sol = res[\"solution\"][index]\n",
    "    stats = res[\"stats\"][index]\n",
    "    print(\"fit is \", max(fit))\n",
    "    return sol, stats"
   ]
  },
  {
   "cell_type": "code",
   "execution_count": 185,
   "metadata": {},
   "outputs": [
    {
     "name": "stdout",
     "output_type": "stream",
     "text": [
      "fit is  69.38594056291903\n"
     ]
    },
    {
     "data": {
      "image/png": "[encoded data removed]",
      "text/plain": [
       "<Figure size 432x288 with 1 Axes>"
      ]
     },
     "metadata": {
      "needs_background": "light"
     },
     "output_type": "display_data"
    }
   ],
   "source": [
    "res = exporter.load(\"generation_g24\")\n",
    "sol, stats = pick_best_sol_stats(res)\n",
    "show_curve(stats, REF)"
   ]
  },
  {
   "cell_type": "code",
   "execution_count": 191,
   "metadata": {},
   "outputs": [
    {
     "data": {
      "text/plain": [
       "(progenitor_pop_size    181.0\n",
       " size_type_Cell         181.0\n",
       " time                    80.0\n",
       " whole_pop_size         321.0\n",
       " Name: 80.0, dtype: float64,\n",
       " Unnamed: 0                 60.0\n",
       " time                       79.0\n",
       " progenitor_pop_size       336.0\n",
       " size_type_Cycling         270.0\n",
       " whole_pop_size           2572.8\n",
       " size_type_PostMitotic      66.0\n",
       " Name: 60, dtype: float64)"
      ]
     },
     "execution_count": 191,
     "metadata": {},
     "output_type": "execute_result"
    }
   ],
   "source": [
    "stats.iloc[30 * 8], REF.iloc[30 * 2]"
   ]
  },
  {
   "cell_type": "markdown",
   "metadata": {},
   "source": [
    "## DEBUG"
   ]
  },
  {
   "cell_type": "code",
   "execution_count": 202,
   "metadata": {},
   "outputs": [],
   "source": [
    "from lib.score import score_both_size, score_whole_size, score_progenitor_size\n",
    "from lib.preprocess import preprocess_whole_size, preprocess_progenitor_size\n",
    "from lib.utils import shrink_and_align_stats"
   ]
  },
  {
   "cell_type": "code",
   "execution_count": 195,
   "metadata": {},
   "outputs": [],
   "source": [
    "S, R = shrink_and_align_stats(stats, REF, 83, 80)"
   ]
  },
  {
   "cell_type": "code",
   "execution_count": 209,
   "metadata": {},
   "outputs": [],
   "source": [
    "def score_coefficient_variation_old(x, y):\n",
    "    print(x)\n",
    "    return sum([(x_ - y_)**2 / x_ for x_, y_ in zip(x, y)])\n",
    "\n",
    "\n",
    "def score_coefficient_variation(x, y):\n",
    "    return sum([(x_ - y_)**2 / np.sqrt(np.abs(x_)) for x_, y_ in zip(x, y)])\n",
    "\n",
    "\n",
    "def score_progenitor_size_old(stats, ref=REF, max_step=None, min_step=None):\n",
    "    stats, ref = shrink_and_align_stats(stats, ref, max_step, min_step)\n",
    "    x, y = preprocess_progenitor_size(stats, ref)\n",
    "    return score_coefficient_variation_old(x, y)\n",
    "\n",
    "\n",
    "def score_whole_size_old(stats, ref=REF, max_step=None, min_step=None):\n",
    "    stats, ref = shrink_and_align_stats(stats, ref, max_step, min_step)\n",
    "    x, y = preprocess_whole_size(stats, ref)\n",
    "    return score_coefficient_variation_old(x, y)\n",
    "\n",
    "def score_both_size_old(stats, ref=REF, max_step=None, min_step=None):\n",
    "    return score_progenitor_size_old(stats, ref, max_step, min_step) + score_whole_size_old(stats, ref, max_step, min_step)"
   ]
  },
  {
   "cell_type": "code",
   "execution_count": 210,
   "metadata": {},
   "outputs": [
    {
     "name": "stdout",
     "output_type": "stream",
     "text": [
      "[1.0, 0.9517326732673268, 0.9313118811881188, 0.9176980198019803, 0.9115099009900991, 0.8867574257425743, 0.8793316831683168]\n",
      "[1.0, 1.0209987385916748, 1.0417748757141796, 1.0626994138161312, 1.084365956815315, 1.1040290865919715, 1.1239148178377978]\n",
      "0.07503857404410254\n",
      "[1.0, 1.0209987385916748, 1.0417748757141796, 1.0626994138161312, 1.084365956815315, 1.1040290865919715, 1.1239148178377978]\n",
      "0.02331146591656227\n",
      "[1.0, 0.9517326732673268, 0.9313118811881188, 0.9176980198019803, 0.9115099009900991, 0.8867574257425743, 0.8793316831683168]\n",
      "0.051727108127540264\n"
     ]
    }
   ],
   "source": [
    "print(score_both_size_old(stats, REF, 83, 80))\n",
    "print(score_whole_size_old(stats, REF, 83, 80))\n",
    "print(score_progenitor_size_old(stats, REF, 83, 80))"
   ]
  },
  {
   "cell_type": "code",
   "execution_count": 208,
   "metadata": {},
   "outputs": [
    {
     "name": "stdout",
     "output_type": "stream",
     "text": [
      "0.07503857404410254\n",
      "0.02331146591656227\n",
      "0.051727108127540264\n"
     ]
    }
   ],
   "source": [
    "print(score_both_size(stats, REF, 83, 80))\n",
    "print(score_whole_size(stats, REF, 83, 80))\n",
    "print(score_progenitor_size(stats, REF, 83, 80))"
   ]
  },
  {
   "cell_type": "code",
   "execution_count": 211,
   "metadata": {},
   "outputs": [],
   "source": [
    "def align_time(df_data, df_ref):\n",
    "    min_step = max(min(df_data.time), min(df_ref.time))\n",
    "    max_step = max(df_ref.time)\n",
    "\n",
    "    new_df_data = df_data[(df_data.time >= min_step) & (df_data.time <= max_step)]\n",
    "    new_df_ref = df_ref[(df_ref.time >= min_step) & (df_ref.time <= max_step)]\n",
    "\n",
    "    return new_df_data, new_df_ref\n",
    "\n",
    "\n",
    "def normalize_time(df_data, df_ref, col_data, col_ref):\n",
    "    df_data = df_data.copy()\n",
    "    df_ref = df_ref.copy()\n",
    "    df_data[col_data] /= df_data[col_data].get(min(df_data.time))\n",
    "    df_ref[col_ref] /= df_ref[col_ref].get(min(df_ref.time))\n",
    "    \n",
    "    return df_data, df_ref\n",
    "\n",
    "\n",
    "def shrink_time(df_data, df_ref, min_time=None, max_time=None):\n",
    "    min_step = min_time if min_time is not None else min(df_ref.time)\n",
    "    max_step = max_time if max_time is not None else max(df_ref.time)\n",
    "    new_df_data = df_data[(df_data.time >= min_step) & (df_data.time <= max_step)]\n",
    "    new_df_ref = df_ref[(df_ref.time >= min_step) & (df_ref.time <= max_step)]\n",
    "\n",
    "    return new_df_data, new_df_ref\n",
    "\n",
    "\n",
    "def as_time_lists(df_data, df_ref, col_data, col_ref):\n",
    "    x = [df_ref[col_ref].get(t, 0) for t in df_ref.index]\n",
    "    y = [df_data[col_data].get(t, 0) for t in df_ref.index]\n",
    "    return x, y\n",
    "\n",
    "def score_whole_size_new(stats, ref=REF, max_step=None, min_step=None):\n",
    "    colname = \"whole_pop_size\"\n",
    "    stats, ref = align_time(stats, ref)\n",
    "    stats, ref = normalize_time(stats, ref, col_data=colname, col_ref=colname)\n",
    "    stats, ref = shrink_time(stats, ref, min_step, max_step)\n",
    "    x, y = as_time_lists(stats, ref, col_data=colname, col_ref=colname)\n",
    "    \n",
    "    return score_coefficient_variation_old(x, y)"
   ]
  },
  {
   "cell_type": "code",
   "execution_count": 212,
   "metadata": {},
   "outputs": [
    {
     "name": "stdout",
     "output_type": "stream",
     "text": [
      "[1.3735222176926212, 1.402364451691806, 1.430900937627395, 1.459641255605381, 1.4894007337953528, 1.5164084794129638, 1.5437219730941705]\n"
     ]
    },
    {
     "data": {
      "text/plain": [
       "10.215960048919689"
      ]
     },
     "execution_count": 212,
     "metadata": {},
     "output_type": "execute_result"
    }
   ],
   "source": [
    "score_whole_size_new(stats, REF, 83, 80)"
   ]
  },
  {
   "cell_type": "code",
   "execution_count": null,
   "metadata": {},
   "outputs": [],
   "source": [
    "# score_both_size(bb.stats, prun.ref, max_step=step.end_time, min_step=previous_time)"
   ]
  },
  {
   "cell_type": "code",
   "execution_count": 186,
   "metadata": {},
   "outputs": [
    {
     "data": {
      "image/png": "[encoded data removed]",
      "text/plain": [
       "<Figure size 432x288 with 1 Axes>"
      ]
     },
     "metadata": {
      "needs_background": "light"
     },
     "output_type": "display_data"
    }
   ],
   "source": [
    "show_curve_progenitor(stats, REF)"
   ]
  },
  {
   "cell_type": "code",
   "execution_count": 47,
   "metadata": {},
   "outputs": [
    {
     "name": "stdout",
     "output_type": "stream",
     "text": [
      "fit is  63.537242326569014\n"
     ]
    },
    {
     "data": {
      "image/png": "[encoded data removed]",
      "text/plain": [
       "<Figure size 432x288 with 1 Axes>"
      ]
     },
     "metadata": {
      "needs_background": "light"
     },
     "output_type": "display_data"
    },
    {
     "data": {
      "text/plain": [
       ">> G_0: init: 0.32; noise: 1.02; b: 2.34; m: 8.54; expr: 5.06; deg: 2.76; thr: 0.66; theta: 9.50; tree : 6\n",
       ">> G_1: init: 2.89; noise: 5.98; b: 5.55; m: 5.87; expr: 7.05; deg: 0.04; thr: 5.68; theta: 3.47; tree : (NOT (NOT NOT 4 AND 5) OR 1)\n",
       ">> G_2: init: 1.39; noise: 9.04; b: 1.55; m: 3.12; expr: 4.94; deg: 9.05; thr: 3.22; theta: 3.86; tree : (2 OR NOT 6)\n",
       ">> G_3: init: 1.03; noise: 2.01; b: 5.22; m: 7.24; expr: 3.81; deg: 0.75; thr: 4.08; theta: 3.23; tree : NOT 2\n",
       ">> G_4: init: 2.03; noise: 8.15; b: 4.34; m: 5.41; expr: 9.35; deg: 2.15; thr: 9.60; theta: 4.10; tree : 3\n",
       ">> G_5: init: 1.56; noise: 3.34; b: 5.35; m: 5.10; expr: 3.05; deg: 0.12; thr: 6.67; theta: 6.82; tree : (((3 OR 4) OR 1) OR (5 AND 6))\n",
       ">> G_6: init: 0.08; noise: 2.56; b: 1.86; m: 9.61; expr: 5.66; deg: 5.25; thr: 4.11; theta: 0.38; tree : 5"
      ]
     },
     "execution_count": 47,
     "metadata": {},
     "output_type": "execute_result"
    }
   ],
   "source": [
    "res = exporter.load(\"generation_g47\")\n",
    "sol, stats = pick_best_sol_stats(res)\n",
    "show_curve_progenitor(stats, REF)\n",
    "sol.grn"
   ]
  },
  {
   "cell_type": "markdown",
   "metadata": {},
   "source": [
    "G_1: init: 2.89; noise: 5.98; b: 5.55; m: 5.53; expr: 7.05; deg: 0.04; thr: 5.68; theta: 3.47; tree : ((NOT (NOT NOT 4 AND 5) AND 6) OR 1)\n",
    "G_1: init: 2.89; noise: 5.98; b: 5.55; m: 5.53; expr: 7.05; deg: 0.04; thr: 5.68; theta: 3.47; tree : ((NOT (NOT NOT 4 AND 3) AND 6) OR 1)\n",
    "G_1: init: 2.89; noise: 5.98; b: 5.55; m: 5.53; expr: 7.05; deg: 0.04; thr: 5.68; theta: 3.47; tree : ((NOT (NOT NOT 4 AND 5) AND 6) OR 1)\n",
    "G_1: init: 2.89; noise: 5.98; b: 5.55; m: 5.53; expr: 7.05; deg: 0.04; thr: 5.68; theta: 7.90; tree : ((NOT (NOT NOT 4 AND 5) AND 6) OR 1)\n",
    "\n",
    "G_1: init: 2.89; noise: 5.98; b: 5.55; m: 5.87; expr: 7.05; deg: 0.04; thr: 5.68; theta: 3.47; tree : (NOT (NOT NOT 4 AND 5) OR 1)"
   ]
  }
 ],
 "metadata": {
  "kernelspec": {
   "display_name": "Python 3",
   "language": "python",
   "name": "python3"
  },
  "language_info": {
   "codemirror_mode": {
    "name": "ipython",
    "version": 3
   },
   "file_extension": ".py",
   "mimetype": "text/x-python",
   "name": "python",
   "nbconvert_exporter": "python",
   "pygments_lexer": "ipython3",
   "version": "3.8.10"
  }
 },
 "nbformat": 4,
 "nbformat_minor": 4
}
