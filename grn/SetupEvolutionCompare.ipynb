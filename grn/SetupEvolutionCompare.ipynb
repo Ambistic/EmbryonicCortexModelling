{
 "cells": [
  {
   "cell_type": "code",
   "execution_count": null,
   "metadata": {},
   "outputs": [],
   "source": [
    "import os\n",
    "os.environ[\"XLA_PYTHON_CLIENT_MEM_FRACTION\"] = \".10\""
   ]
  },
  {
   "cell_type": "code",
   "execution_count": 18,
   "metadata": {},
   "outputs": [],
   "source": [
    "import pandas as pd\n",
    "from model import Brain\n",
    "from submodels import factories\n",
    "import matplotlib.pyplot as plt\n",
    "import pandas as pd\n",
    "from itertools import accumulate\n",
    "import numpy as np\n",
    "from collections import defaultdict\n",
    "import re\n",
    "\n",
    "from lib.sde.grn2 import GRNMain2\n",
    "from lib.sde.mutate import mutate_grn2\n",
    "from lib.ga.utils import weighted_selection\n",
    "from lib.ga.objective import Objective\n",
    "from jf.profiler import Profiler\n",
    "from jf.utils.export import Exporter\n",
    "from jf.autocompute.jf import O\n",
    "from jf.models.stringmodel import read_model\n",
    "\n",
    "from lib.sde.gene3 import ParamGene3\n",
    "from collections import Counter"
   ]
  },
  {
   "cell_type": "code",
   "execution_count": 3,
   "metadata": {},
   "outputs": [],
   "source": [
    "sm = read_model(\"generation\")"
   ]
  },
  {
   "cell_type": "code",
   "execution_count": 4,
   "metadata": {},
   "outputs": [],
   "source": [
    "class Solution:\n",
    "    def __init__(self, grn):\n",
    "        self.grn = grn\n",
    "        \n",
    "    def copy(self):\n",
    "        return Solution(self.grn.copy())\n",
    "        \n",
    "    def mutate(self):\n",
    "        mutate_grn2(self.grn)"
   ]
  },
  {
   "cell_type": "code",
   "execution_count": 5,
   "metadata": {},
   "outputs": [],
   "source": [
    "def get_bb(grn):\n",
    "    ccls = factories[\"grn3\"](grn=grn)\n",
    "    bb = Brain(time_step=0.5, verbose=False, start_population=5, max_pop_size=1e3,\n",
    "            cell_cls=ccls, end_time=70, start_time=50, silent=True, record_population=True)\n",
    "    return bb"
   ]
  },
  {
   "cell_type": "code",
   "execution_count": 6,
   "metadata": {},
   "outputs": [],
   "source": [
    "def run_grn(prun, grn):\n",
    "    get_bb(prun, grn)\n",
    "    bb.run()\n",
    "    return bb"
   ]
  },
  {
   "cell_type": "code",
   "execution_count": 7,
   "metadata": {},
   "outputs": [
    {
     "name": "stdout",
     "output_type": "stream",
     "text": [
      "Exporting at output/objective_0.25_g7_v5\n"
     ]
    }
   ],
   "source": [
    "exporter = Exporter(name=\"objective_0.25_g7_v5\")"
   ]
  },
  {
   "cell_type": "code",
   "execution_count": 8,
   "metadata": {},
   "outputs": [],
   "source": [
    "all_generations = {int(sm.extract(x)[\"generation\"]): exporter.load(x) for x in list(filter(sm.match, exporter.list()))}"
   ]
  },
  {
   "cell_type": "code",
   "execution_count": 9,
   "metadata": {},
   "outputs": [],
   "source": [
    "def get_diff_grn(grn_a, grn_b):\n",
    "    return list(zip(*np.where(~np.isclose(grn_a._params, grn_b._params))))"
   ]
  },
  {
   "cell_type": "code",
   "execution_count": 89,
   "metadata": {},
   "outputs": [
    {
     "data": {
      "text/plain": [
       "[3, 6]"
      ]
     },
     "execution_count": 89,
     "metadata": {},
     "output_type": "execute_result"
    }
   ],
   "source": [
    "grn_a = all_generations[5][\"solution\"][0].grn\n",
    "grn_b = all_generations[5][\"solution\"][4].grn\n",
    "\n",
    "def get_diff_grn_trees(grn_a, grn_b):\n",
    "    return [i for i, (t_a, t_b) in enumerate(zip(grn_a.genes, grn_b.genes)) if repr(t_a.tree) != repr(t_b.tree)]\n",
    "\n",
    "get_diff_grn_trees(grn_a, grn_b)"
   ]
  },
  {
   "cell_type": "code",
   "execution_count": 91,
   "metadata": {},
   "outputs": [],
   "source": [
    "# fitness match\n",
    "def one_delta_fitness(all_generations, generation, min_diff=1., only_pos=False, only_neg=False):\n",
    "    grns_begin = all_generations[generation][\"solution\"]\n",
    "    fitness_begin = all_generations[generation + 1][\"fitness\"]\n",
    "    transition = all_generations[generation + 1][\"transition\"]\n",
    "    grns_end = all_generations[generation + 1][\"solution\"]\n",
    "    fitness_end = all_generations[generation + 2][\"fitness\"]\n",
    "\n",
    "    # matching\n",
    "    ls_matches = []\n",
    "    for i, prev_id in enumerate(transition):\n",
    "        if prev_id == -1:\n",
    "            continue\n",
    "        grn_a = grns_begin[prev_id].grn\n",
    "        grn_b = grns_end[i].grn\n",
    "        delta_fitness = fitness_end[i] - fitness_begin[prev_id]\n",
    "        diff = get_diff_grn(grn_a, grn_b)\n",
    "        tree_diff = get_diff_grn_trees(grn_a, grn_b) \n",
    "        for x in diff:\n",
    "            if abs(delta_fitness) < min_diff:\n",
    "                continue\n",
    "            if only_pos and delta_fitness < 0:\n",
    "                continue\n",
    "            if only_neg and delta_fitness > 0:\n",
    "                continue\n",
    "            ls_matches.append((\n",
    "                grn_a._params[x], grn_b._params[x], ParamGene3[x[0]], x[1], delta_fitness\n",
    "            ))\n",
    "            \n",
    "        for x in tree_diff:\n",
    "            if abs(delta_fitness) < min_diff:\n",
    "                continue\n",
    "            if only_pos and delta_fitness < 0:\n",
    "                continue\n",
    "            if only_neg and delta_fitness > 0:\n",
    "                continue\n",
    "            ls_matches.append((\n",
    "                grn_a.genes[x].tree, grn_b.genes[x].tree, \"tree\", x, delta_fitness\n",
    "            ))\n",
    "    \n",
    "    return ls_matches"
   ]
  },
  {
   "cell_type": "code",
   "execution_count": 96,
   "metadata": {},
   "outputs": [],
   "source": [
    "def print_matches(matches):\n",
    "    for match in matches:\n",
    "        if match[2] == \"tree\":\n",
    "            print(\"{} -> {} for {}_{} : {:.3f}\".format(*match))\n",
    "        else:\n",
    "            print(\"{:.3f} -> {:.3f} for {}_{} : {:.3f}\".format(*match))"
   ]
  },
  {
   "cell_type": "code",
   "execution_count": 109,
   "metadata": {},
   "outputs": [],
   "source": [
    "all_matches_pos = []\n",
    "for generation in range(0, 50):\n",
    "    # print(f\"=== Generation {generation} ===\")\n",
    "    matches = one_delta_fitness(all_generations, generation, min_diff=1.0, only_pos=True)\n",
    "    # print_matches(matches)\n",
    "    all_matches_pos += matches"
   ]
  },
  {
   "cell_type": "code",
   "execution_count": 99,
   "metadata": {},
   "outputs": [
    {
     "data": {
      "text/plain": [
       "Counter({'noise': 26,\n",
       "         'deg': 22,\n",
       "         'tree': 175,\n",
       "         'b': 26,\n",
       "         'init': 23,\n",
       "         'expr': 24,\n",
       "         'm': 24,\n",
       "         'theta': 14})"
      ]
     },
     "execution_count": 99,
     "metadata": {},
     "output_type": "execute_result"
    }
   ],
   "source": [
    "Counter([x[2] for x in all_matches_pos])"
   ]
  },
  {
   "cell_type": "code",
   "execution_count": 100,
   "metadata": {},
   "outputs": [
    {
     "data": {
      "text/plain": [
       "Counter({5: 57, 1: 11, 2: 54, 0: 34, 3: 49, 6: 70, 4: 59})"
      ]
     },
     "execution_count": 100,
     "metadata": {},
     "output_type": "execute_result"
    }
   ],
   "source": [
    "Counter([x[3] for x in all_matches_pos])"
   ]
  },
  {
   "cell_type": "code",
   "execution_count": 105,
   "metadata": {},
   "outputs": [
    {
     "data": {
      "text/plain": [
       "Counter({2: 31, 3: 33, 6: 35, 5: 30, 4: 28, 0: 13, 1: 5})"
      ]
     },
     "execution_count": 105,
     "metadata": {},
     "output_type": "execute_result"
    }
   ],
   "source": [
    "Counter([x[3] for x in all_matches_pos if x[2] == \"tree\"])"
   ]
  },
  {
   "cell_type": "code",
   "execution_count": 101,
   "metadata": {},
   "outputs": [
    {
     "data": {
      "text/plain": [
       "0"
      ]
     },
     "execution_count": 101,
     "metadata": {},
     "output_type": "execute_result"
    }
   ],
   "source": [
    "Counter([(x[2], x[3]) for x in all_matches_pos])[(\"theta\", 1)]"
   ]
  },
  {
   "cell_type": "code",
   "execution_count": 102,
   "metadata": {},
   "outputs": [],
   "source": [
    "all_matches = []\n",
    "for generation in range(0, 50):\n",
    "    # print(f\"=== Generation {generation} ===\")\n",
    "    matches = one_delta_fitness(all_generations, generation, min_diff=1.0, only_neg=True)\n",
    "    # print_matches(matches)\n",
    "    all_matches += matches"
   ]
  },
  {
   "cell_type": "code",
   "execution_count": 103,
   "metadata": {},
   "outputs": [
    {
     "data": {
      "text/plain": [
       "Counter({'tree': 1000,\n",
       "         'init': 142,\n",
       "         'theta': 176,\n",
       "         'noise': 134,\n",
       "         'm': 144,\n",
       "         'b': 125,\n",
       "         'expr': 147,\n",
       "         'deg': 146})"
      ]
     },
     "execution_count": 103,
     "metadata": {},
     "output_type": "execute_result"
    }
   ],
   "source": [
    "Counter([x[2] for x in all_matches])"
   ]
  },
  {
   "cell_type": "code",
   "execution_count": 104,
   "metadata": {},
   "outputs": [
    {
     "data": {
      "text/plain": [
       "Counter({1: 415, 0: 356, 2: 252, 6: 243, 4: 242, 5: 258, 3: 248})"
      ]
     },
     "execution_count": 104,
     "metadata": {},
     "output_type": "execute_result"
    }
   ],
   "source": [
    "Counter([x[3] for x in all_matches])"
   ]
  },
  {
   "cell_type": "code",
   "execution_count": 110,
   "metadata": {},
   "outputs": [
    {
     "data": {
      "text/plain": [
       "Counter({1: 197, 0: 193, 2: 115, 6: 118, 4: 119, 5: 131, 3: 127})"
      ]
     },
     "execution_count": 110,
     "metadata": {},
     "output_type": "execute_result"
    }
   ],
   "source": [
    "Counter([x[3] for x in all_matches if x[2] == \"tree\"])"
   ]
  },
  {
   "cell_type": "code",
   "execution_count": 54,
   "metadata": {},
   "outputs": [
    {
     "data": {
      "text/plain": [
       "45"
      ]
     },
     "execution_count": 54,
     "metadata": {},
     "output_type": "execute_result"
    }
   ],
   "source": [
    "Counter([(x[2], x[3]) for x in all_matches])[(\"theta\", 1)]"
   ]
  },
  {
   "cell_type": "markdown",
   "metadata": {},
   "source": [
    "#### Order\n",
    "Now ask if increase or decrease "
   ]
  },
  {
   "cell_type": "code",
   "execution_count": 64,
   "metadata": {},
   "outputs": [],
   "source": [
    "def compare_values(name):\n",
    "    p1 = [float(x[1] - x[0]) for x in all_matches if x[2] == name]\n",
    "    p2 = [float(x[1] - x[0]) for x in all_matches_pos if x[2] == name]\n",
    "    print(np.mean(p1), np.std(p1) / np.sqrt(len(p1)), np.mean(p2), np.std(p2) / np.sqrt(len(p2)))\n",
    "    plt.hist(p1)\n",
    "    plt.hist(p2)"
   ]
  },
  {
   "cell_type": "code",
   "execution_count": 65,
   "metadata": {},
   "outputs": [
    {
     "name": "stdout",
     "output_type": "stream",
     "text": [
      "1.1001645636885133 0.3418065549118219 -2.0400046543641523 0.8079270579108913\n"
     ]
    },
    {
     "data": {
      "image/png": "[encoded data removed]",
      "text/plain": [
       "<Figure size 576x396 with 1 Axes>"
      ]
     },
     "metadata": {},
     "output_type": "display_data"
    }
   ],
   "source": [
    "compare_values(\"deg\")"
   ]
  },
  {
   "cell_type": "code",
   "execution_count": 66,
   "metadata": {},
   "outputs": [
    {
     "name": "stdout",
     "output_type": "stream",
     "text": [
      "0.3465620937632091 0.2701769537784785 -0.07183531155953041 0.6685463955831075\n"
     ]
    },
    {
     "data": {
      "image/png": "[encoded data removed]",
      "text/plain": [
       "<Figure size 576x396 with 1 Axes>"
      ]
     },
     "metadata": {},
     "output_type": "display_data"
    }
   ],
   "source": [
    "compare_values(\"noise\")"
   ]
  },
  {
   "cell_type": "code",
   "execution_count": 67,
   "metadata": {},
   "outputs": [
    {
     "name": "stdout",
     "output_type": "stream",
     "text": [
      "0.3833658742904663 0.3371099263242378 -0.26044471447284406 0.6217481615240005\n"
     ]
    },
    {
     "data": {
      "image/png": "[encoded data removed]",
      "text/plain": [
       "<Figure size 576x396 with 1 Axes>"
      ]
     },
     "metadata": {},
     "output_type": "display_data"
    }
   ],
   "source": [
    "compare_values(\"b\")"
   ]
  },
  {
   "cell_type": "code",
   "execution_count": 68,
   "metadata": {},
   "outputs": [
    {
     "name": "stdout",
     "output_type": "stream",
     "text": [
      "0.3975931463970078 0.2604603801606793 0.5878752022981644 0.6719896276181846\n"
     ]
    },
    {
     "data": {
      "image/png": "[encoded data removed]",
      "text/plain": [
       "<Figure size 576x396 with 1 Axes>"
      ]
     },
     "metadata": {},
     "output_type": "display_data"
    }
   ],
   "source": [
    "compare_values(\"m\")"
   ]
  },
  {
   "cell_type": "code",
   "execution_count": 69,
   "metadata": {},
   "outputs": [
    {
     "name": "stdout",
     "output_type": "stream",
     "text": [
      "0.9915409250692888 0.30680996488666584 1.2491559513977595 1.1054555626589737\n"
     ]
    },
    {
     "data": {
      "image/png": "[encoded data removed]",
      "text/plain": [
       "<Figure size 576x396 with 1 Axes>"
      ]
     },
     "metadata": {},
     "output_type": "display_data"
    }
   ],
   "source": [
    "compare_values(\"theta\")"
   ]
  },
  {
   "cell_type": "code",
   "execution_count": 70,
   "metadata": {},
   "outputs": [
    {
     "name": "stdout",
     "output_type": "stream",
     "text": [
      "-0.9532782173886591 0.4004386062451739 2.2132526437441506 0.7497274840192807\n"
     ]
    },
    {
     "data": {
      "image/png": "[encoded data removed]",
      "text/plain": [
       "<Figure size 576x396 with 1 Axes>"
      ]
     },
     "metadata": {},
     "output_type": "display_data"
    }
   ],
   "source": [
    "compare_values(\"expr\")"
   ]
  },
  {
   "cell_type": "code",
   "execution_count": 72,
   "metadata": {},
   "outputs": [
    {
     "data": {
      "text/plain": [
       ">> G_0: init: 0.52; noise: 1.15; b: 2.28; m: 1.17; expr: 9.09; deg: 0.16; theta: 4.45; tree : (((5 OR ((3 OR 0) OR 6)) OR 4) AND 1)\n",
       ">> G_1: init: 0.50; noise: 4.34; b: 2.45; m: 5.39; expr: 8.31; deg: 1.11; theta: 4.61; tree : 1\n",
       ">> G_2: init: 2.94; noise: 0.09; b: 3.84; m: 1.89; expr: 6.18; deg: 5.70; theta: 0.11; tree : NOT 2\n",
       ">> G_3: init: 0.82; noise: 2.67; b: 5.78; m: 4.60; expr: 9.20; deg: 7.70; theta: 5.97; tree : (NOT NOT 3 AND (NOT 6 AND NOT 2))\n",
       ">> G_4: init: 2.12; noise: 6.23; b: 8.73; m: 7.86; expr: 9.61; deg: 0.65; theta: 5.45; tree : NOT (0 AND 2)\n",
       ">> G_5: init: 0.67; noise: 3.06; b: 5.08; m: 1.21; expr: 3.47; deg: 0.80; theta: 4.73; tree : NOT NOT 4\n",
       ">> G_6: init: 2.60; noise: 1.20; b: 1.48; m: 9.95; expr: 3.82; deg: 0.47; theta: 0.71; tree : (NOT (0 OR 4) AND 2)"
      ]
     },
     "execution_count": 72,
     "metadata": {},
     "output_type": "execute_result"
    }
   ],
   "source": [
    "all_generations[70][\"solution\"][0].grn"
   ]
  },
  {
   "cell_type": "code",
   "execution_count": 73,
   "metadata": {},
   "outputs": [
    {
     "data": {
      "text/plain": [
       ">> G_0: init: 0.52; noise: 5.58; b: 6.81; m: 1.17; expr: 9.09; deg: 0.16; theta: 7.95; tree : 1\n",
       ">> G_1: init: 0.50; noise: 5.34; b: 2.45; m: 5.39; expr: 7.48; deg: 1.11; theta: 4.61; tree : 4\n",
       ">> G_2: init: 2.94; noise: 6.26; b: 3.42; m: 4.65; expr: 8.75; deg: 6.63; theta: 7.95; tree : NOT NOT NOT NOT 0\n",
       ">> G_3: init: 0.03; noise: 7.72; b: 9.87; m: 9.28; expr: 7.98; deg: 1.33; theta: 2.38; tree : NOT (NOT 4 AND (0 AND 3))\n",
       ">> G_4: init: 1.40; noise: 8.11; b: 2.84; m: 6.43; expr: 4.79; deg: 8.26; theta: 0.24; tree : (NOT (6 AND 2) OR 4)\n",
       ">> G_5: init: 1.60; noise: 3.06; b: 6.90; m: 6.41; expr: 7.52; deg: 4.41; theta: 7.60; tree : NOT (NOT 2 OR ((6 AND 5) AND 4))\n",
       ">> G_6: init: 2.60; noise: 4.26; b: 5.71; m: 3.93; expr: 3.31; deg: 1.63; theta: 0.71; tree : (NOT 6 OR 0)"
      ]
     },
     "execution_count": 73,
     "metadata": {},
     "output_type": "execute_result"
    }
   ],
   "source": [
    "all_generations[70][\"solution\"][1].grn"
   ]
  },
  {
   "cell_type": "code",
   "execution_count": 74,
   "metadata": {},
   "outputs": [
    {
     "data": {
      "text/plain": [
       ">> G_0: init: 0.45; noise: 8.86; b: 6.39; m: 1.17; expr: 5.61; deg: 0.16; theta: 4.31; tree : 2\n",
       ">> G_1: init: 0.50; noise: 5.34; b: 2.45; m: 5.39; expr: 7.48; deg: 1.11; theta: 4.14; tree : 1\n",
       ">> G_2: init: 0.50; noise: 6.26; b: 3.42; m: 6.10; expr: 8.75; deg: 4.72; theta: 7.95; tree : NOT NOT (6 AND (1 AND 2))\n",
       ">> G_3: init: 0.82; noise: 7.72; b: 9.87; m: 4.60; expr: 9.20; deg: 7.70; theta: 2.38; tree : (NOT (NOT 3 AND (0 AND 2)) AND 6)\n",
       ">> G_4: init: 2.14; noise: 2.84; b: 7.32; m: 6.43; expr: 1.72; deg: 4.24; theta: 0.86; tree : ((NOT 6 AND 1) OR 4)\n",
       ">> G_5: init: 1.60; noise: 3.06; b: 5.08; m: 6.41; expr: 9.45; deg: 8.31; theta: 7.60; tree : NOT NOT (NOT 2 OR (6 AND 0))\n",
       ">> G_6: init: 2.60; noise: 4.26; b: 5.71; m: 3.93; expr: 6.95; deg: 1.63; theta: 0.37; tree : NOT 0"
      ]
     },
     "execution_count": 74,
     "metadata": {},
     "output_type": "execute_result"
    }
   ],
   "source": [
    "all_generations[70][\"solution\"][2].grn"
   ]
  },
  {
   "cell_type": "code",
   "execution_count": 75,
   "metadata": {},
   "outputs": [
    {
     "data": {
      "text/plain": [
       ">> G_0: init: 0.52; noise: 5.58; b: 6.81; m: 4.88; expr: 9.09; deg: 0.16; theta: 7.95; tree : 1\n",
       ">> G_1: init: 0.50; noise: 5.34; b: 2.45; m: 5.39; expr: 7.48; deg: 1.11; theta: 4.61; tree : 1\n",
       ">> G_2: init: 2.94; noise: 6.26; b: 3.42; m: 4.65; expr: 8.75; deg: 6.63; theta: 7.95; tree : NOT NOT NOT NOT NOT 0\n",
       ">> G_3: init: 0.03; noise: 7.72; b: 9.87; m: 9.28; expr: 7.98; deg: 1.33; theta: 2.38; tree : NOT (NOT 4 AND (0 AND 3))\n",
       ">> G_4: init: 0.80; noise: 8.11; b: 2.84; m: 6.43; expr: 4.79; deg: 8.26; theta: 0.24; tree : (NOT (6 AND 2) OR 4)\n",
       ">> G_5: init: 1.60; noise: 3.06; b: 6.90; m: 6.41; expr: 7.52; deg: 4.41; theta: 7.60; tree : NOT (NOT 2 OR ((6 AND 5) AND 4))\n",
       ">> G_6: init: 2.60; noise: 4.26; b: 5.71; m: 3.93; expr: 3.31; deg: 1.63; theta: 0.71; tree : (NOT 6 OR 0)"
      ]
     },
     "execution_count": 75,
     "metadata": {},
     "output_type": "execute_result"
    }
   ],
   "source": [
    "all_generations[70][\"solution\"][3].grn"
   ]
  }
 ],
 "metadata": {
  "kernelspec": {
   "display_name": "Python 3",
   "language": "python",
   "name": "python3"
  },
  "language_info": {
   "codemirror_mode": {
    "name": "ipython",
    "version": 3
   },
   "file_extension": ".py",
   "mimetype": "text/x-python",
   "name": "python",
   "nbconvert_exporter": "python",
   "pygments_lexer": "ipython3",
   "version": "3.8.10"
  }
 },
 "nbformat": 4,
 "nbformat_minor": 4
}
