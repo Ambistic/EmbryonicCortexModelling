{
 "cells": [
  {
   "cell_type": "markdown",
   "metadata": {},
   "source": [
    "# Goal : implementing multiprocessing"
   ]
  },
  {
   "cell_type": "code",
   "execution_count": 1,
   "metadata": {},
   "outputs": [],
   "source": [
    "import os\n",
    "os.environ[\"XLA_PYTHON_CLIENT_MEM_FRACTION\"] = \".20\""
   ]
  },
  {
   "cell_type": "code",
   "execution_count": 2,
   "metadata": {},
   "outputs": [],
   "source": [
    "import pandas as pd\n",
    "from model import Brain\n",
    "from submodels import factories\n",
    "import matplotlib.pyplot as plt\n",
    "import pandas as pd\n",
    "from itertools import accumulate\n",
    "import numpy as np\n",
    "from collections import defaultdict\n",
    "import re\n",
    "\n",
    "from jf.db import DB\n",
    "from lib.score import fate_corr\n",
    "from lib.preprocess import get_fmetric_pairs\n",
    "from lib.sde.grn2 import GRNMain2\n",
    "from lib.sde.mutate import mutate_grn2\n",
    "from lib.ga.utils import weighted_selection\n",
    "from lib.ga.objective import Objective\n",
    "from jf.profiler import Profiler\n",
    "from jf.utils.export import Exporter\n",
    "from jf.autocompute.jf import O"
   ]
  },
  {
   "cell_type": "code",
   "execution_count": 3,
   "metadata": {},
   "outputs": [],
   "source": [
    "HISTORY = defaultdict(dict)\n",
    "HALL_OF_FAME = []"
   ]
  },
  {
   "cell_type": "code",
   "execution_count": 39,
   "metadata": {},
   "outputs": [],
   "source": [
    "def setup_ref_fmetric(fname):\n",
    "    dict_ref_fmetric = defaultdict(dict)\n",
    "    df = pd.read_csv(fname, index_col=0)\n",
    "    for i, row in df.iterrows():\n",
    "        begin, end = re.findall(\"fate_corr_(\\d+)_(\\d+)\", row.name)[0]\n",
    "        dict_ref_fmetric[float(begin)][float(end)] = row[\"0\"]\n",
    "    return dict_ref_fmetric"
   ]
  },
  {
   "cell_type": "code",
   "execution_count": 40,
   "metadata": {},
   "outputs": [
    {
     "data": {
      "text/plain": [
       "defaultdict(dict,\n",
       "            {50.0: {60.0: 0.6570465461862538,\n",
       "              70.0: 0.6064722012505317,\n",
       "              80.0: 0.5574550980380129,\n",
       "              90.0: 0.5531611479569236},\n",
       "             60.0: {70.0: 0.5757604703955359},\n",
       "             70.0: {80.0: 0.4450630556749089},\n",
       "             80.0: {80.0: 0.4715540706129272}})"
      ]
     },
     "execution_count": 40,
     "metadata": {},
     "output_type": "execute_result"
    }
   ],
   "source": [
    "setup_ref_fmetric(\"output/results/setup_basic/export/ref_fmetric_tristate.csv\")"
   ]
  },
  {
   "cell_type": "code",
   "execution_count": 41,
   "metadata": {},
   "outputs": [],
   "source": [
    "REF = O(\n",
    "    stats=pd.read_csv(\"output/results/setup_basic/export/ref_basic2.csv\"),  # ref is a mean\n",
    "    fmetric=setup_ref_fmetric(\"output/results/setup_basic/export/ref_fmetric_tristate.csv\"),\n",
    ")"
   ]
  },
  {
   "cell_type": "code",
   "execution_count": 7,
   "metadata": {},
   "outputs": [],
   "source": [
    "def individual_generator():\n",
    "    return Solution(GRNMain2(5, 0, 0))"
   ]
  },
  {
   "cell_type": "code",
   "execution_count": 8,
   "metadata": {},
   "outputs": [],
   "source": [
    "def r():\n",
    "    return np.random.uniform(0, 1)\n",
    "\n",
    "class Solution:\n",
    "    def __init__(self, grn):\n",
    "        self.grn = grn\n",
    "        \n",
    "    def copy(self):\n",
    "        return Solution(self.grn.copy())\n",
    "        \n",
    "    def mutate(self):\n",
    "        for i in range(5):\n",
    "            mutate_grn2(self.grn)"
   ]
  },
  {
   "cell_type": "code",
   "execution_count": 9,
   "metadata": {},
   "outputs": [
    {
     "data": {
      "text/plain": [
       ">> G_0: init: 1.28; noise: 2.78; b: 6.66; m: 7.05; expr: 5.86; deg: 10.00; thr: 8.12; theta: 3.32; tree : 1\n",
       ">> G_1: init: 2.34; noise: 5.90; b: 8.57; m: 6.33; expr: 3.09; deg: 4.68; thr: 4.18; theta: 5.51; tree : 3\n",
       ">> G_2: init: 1.13; noise: 4.18; b: 8.22; m: 9.15; expr: 3.37; deg: 6.91; thr: 8.00; theta: 6.90; tree : ((0 AND 3) AND (2 OR (4 AND 1)))\n",
       ">> G_3: init: 1.33; noise: 1.37; b: 9.86; m: 9.21; expr: 3.84; deg: 1.90; thr: 3.23; theta: 3.72; tree : 2\n",
       ">> G_4: init: 2.51; noise: 2.18; b: 4.84; m: 4.77; expr: 7.07; deg: 5.18; thr: 7.17; theta: 6.87; tree : 1"
      ]
     },
     "execution_count": 9,
     "metadata": {},
     "output_type": "execute_result"
    }
   ],
   "source": [
    "individual_generator().grn"
   ]
  },
  {
   "cell_type": "code",
   "execution_count": 10,
   "metadata": {},
   "outputs": [],
   "source": [
    "def shrink_and_align_stats(stats, ref, max_step=None, min_step=None):\n",
    "    min_data_step = max(min(stats.time), min(ref.time))\n",
    "    if min_step is None:\n",
    "        min_step = min_data_step\n",
    "    else:\n",
    "        min_step = max(min_step, min_data_step)\n",
    "\n",
    "    if max_step is None:\n",
    "        max_step = max(ref.time)\n",
    "    else:\n",
    "        max_step = min(max_step, max(ref.time))\n",
    "    \n",
    "    new_stats = stats[(stats.time >= min_step) & (stats.time <= max_step)].set_index(\"time\")\n",
    "    new_ref = ref[(ref.time >= min_step) & (ref.time <= max_step)].set_index(\"time\")\n",
    "    \n",
    "    return new_stats, new_ref"
   ]
  },
  {
   "cell_type": "code",
   "execution_count": 11,
   "metadata": {},
   "outputs": [],
   "source": [
    "def preprocess_progenitor_size(stats, ref):\n",
    "    colname_ref = \"progenitor_pop_size\"\n",
    "    colname_stats = \"progenitor_pop_size\"\n",
    "    \n",
    "    min_step = min(ref.index)  # ref.index is the time\n",
    "    stats[colname_stats] = stats[colname_stats] / stats[colname_stats].get(min_step)\n",
    "    ref[colname_ref] = ref[colname_ref] / ref[colname_ref].get(min_step)\n",
    "    x = [ref[colname_ref].get(t, 0) for t in ref.index]\n",
    "    y = [stats[colname_stats].get(t, 0) for t in ref.index]\n",
    "    return x, y\n",
    "\n",
    "def preprocess_whole_size(stats, ref):\n",
    "    colname_ref = \"whole_pop_size\"\n",
    "    colname_stats = \"whole_pop_size\"\n",
    "    \n",
    "    min_step = min(ref.index)  # ref.index is the time\n",
    "    stats[colname_stats] = stats[colname_stats] / stats[colname_stats].get(min_step)\n",
    "    ref[colname_ref] = ref[colname_ref] / ref[colname_ref].get(min_step)\n",
    "    x = [ref[colname_ref].get(t, 0) for t in ref.index]\n",
    "    y = [stats[colname_stats].get(t, 0) for t in ref.index]\n",
    "    return x, y"
   ]
  },
  {
   "cell_type": "code",
   "execution_count": 12,
   "metadata": {},
   "outputs": [],
   "source": [
    "def score_coefficient_variation(x, y):\n",
    "    return sum([(x_ - y_)**2 / x_ for x_, y_ in zip(x, y)])"
   ]
  },
  {
   "cell_type": "code",
   "execution_count": 13,
   "metadata": {},
   "outputs": [],
   "source": [
    "def score_progenitor_size(stats, ref, max_step=None, min_step=None):\n",
    "    stats, ref = shrink_and_align_stats(stats, ref, max_step, min_step)\n",
    "    x, y = preprocess_progenitor_size(stats, ref)\n",
    "    return score_coefficient_variation(x, y)\n",
    "\n",
    "def score_whole_size(stats, ref, max_step=None, min_step=None):\n",
    "    stats, ref = shrink_and_align_stats(stats, ref, max_step, min_step)\n",
    "    x, y = preprocess_whole_size(stats, ref)\n",
    "    return score_coefficient_variation(x, y)\n",
    "\n",
    "def score_both_size(stats, ref, max_step=None, min_step=None):\n",
    "    return score_progenitor_size(stats, ref, max_step, min_step) \\\n",
    "            + score_whole_size(stats, ref, max_step, min_step)\n",
    "\n",
    "def score_bb_size(bb, ref, *args, **kwargs):\n",
    "    return score_both_size(bb.stats, ref.stats, *args, **kwargs)"
   ]
  },
  {
   "cell_type": "code",
   "execution_count": 14,
   "metadata": {},
   "outputs": [
    {
     "data": {
      "text/plain": [
       "0.25"
      ]
     },
     "execution_count": 14,
     "metadata": {},
     "output_type": "execute_result"
    }
   ],
   "source": [
    "1 / (0.16*25)"
   ]
  },
  {
   "cell_type": "code",
   "execution_count": 42,
   "metadata": {},
   "outputs": [],
   "source": [
    "def score_fmetric(population, ref, min_step=50, max_step=60):\n",
    "    pairs = get_fmetric_pairs(population, min_time=min_step, max_time=max_step)\n",
    "    fmetric = fate_corr(pairs)\n",
    "    ref_value = ref[float(min_step)][float(max_step)]\n",
    "    # 0.3 vs 0.4 -> 4\n",
    "    # 0.0 vs 0.4 -> 0.25\n",
    "    return 25 * (fmetric - ref_value)**2\n",
    "\n",
    "def score_bb_fmetric(bb, ref, *args, **kwargs):\n",
    "    return score_fmetric(bb.population, ref.fmetric, *args, **kwargs)"
   ]
  },
  {
   "cell_type": "code",
   "execution_count": 16,
   "metadata": {},
   "outputs": [],
   "source": [
    "def run_grn(prun, grn):\n",
    "    get_bb(prun, grn)\n",
    "    bb.run()\n",
    "    return bb"
   ]
  },
  {
   "cell_type": "code",
   "execution_count": 17,
   "metadata": {},
   "outputs": [],
   "source": [
    "def get_bb(prun, grn):\n",
    "    ccls = factories[\"grn2_opti\"](grn=grn)\n",
    "    bb = Brain(time_step=0.125, verbose=False, start_population=5, max_pop_size=1e3,\n",
    "            cell_cls=ccls, end_time=prun.end_time, start_time=50, silent=True)\n",
    "    return bb"
   ]
  },
  {
   "cell_type": "code",
   "execution_count": 18,
   "metadata": {},
   "outputs": [],
   "source": [
    "def fitness_func(prun, grn, score_func):\n",
    "    bb = run_grn(prun, grn)\n",
    "    output = score_func(bb.stats, REF, max_step=prun.end_time)\n",
    "    fitness = 1.0 / output\n",
    "    return fitness"
   ]
  },
  {
   "cell_type": "code",
   "execution_count": 19,
   "metadata": {},
   "outputs": [],
   "source": [
    "def fitness_multistep(prun, grn, steps):\n",
    "    total_fitness = 0\n",
    "    stop = False\n",
    "    previous_time = None\n",
    "    bb = get_bb(prun, grn)\n",
    "    # first step\n",
    "    for step in steps:\n",
    "        if not bb.run_until(step.end_time):\n",
    "            stop = True\n",
    "        # score_step = score_both_size(bb.stats, prun.ref, max_step=step.end_time, min_step=previous_time)\n",
    "        score_step = step.score_func(bb, prun.ref, max_step=step.end_time, min_step=step.start_time)\n",
    "        fitness_step = 1.0 / score_step\n",
    "        fitness_step = min(fitness_step, step.max_fitness)\n",
    "        total_fitness += fitness_step\n",
    "        if fitness_step < step.min_fitness or stop:\n",
    "            return total_fitness, bb.stats\n",
    "        else:\n",
    "            previous_time = step.end_time\n",
    "            step.passed()\n",
    "        \n",
    "    return total_fitness, bb.stats\n",
    "\n",
    "def score_multistep(prun, stats, steps):\n",
    "    total_fitness = 0\n",
    "    stop = False\n",
    "    previous_time = None\n",
    "    # first step\n",
    "    for step in steps:\n",
    "        # score_step = score_both_size(bb.stats, prun.ref, max_step=step.end_time, min_step=previous_time)\n",
    "        score_step = step.score_func(bb, prun.ref, max_step=step.end_time, min_step=step.start_time)\n",
    "        fitness_step = 1.0 / score_step\n",
    "        fitness_step = min(fitness_step, step.max_fitness)\n",
    "        total_fitness += fitness_step\n",
    "        if fitness_step < step.min_fitness or stop:\n",
    "            return total_fitness\n",
    "        previous_time = step.end_time\n",
    "        \n",
    "    return total_fitness"
   ]
  },
  {
   "cell_type": "code",
   "execution_count": 20,
   "metadata": {},
   "outputs": [],
   "source": [
    "def mean_sd_fitness(prun, grn, run=3):\n",
    "    fitnesses = [fitness_multistep(prun, grn) for i in range(run)]\n",
    "    return np.mean(fitnesses), np.std(fitnesses)"
   ]
  },
  {
   "cell_type": "code",
   "execution_count": 21,
   "metadata": {},
   "outputs": [],
   "source": [
    "def do_init_pop(prun):\n",
    "    return [individual_generator() for i in range(prun.pop_size)]\n",
    "\n",
    "def do_fitness(prun, pop):\n",
    "    # fitness = [fitness_func(prun, sol.grn, score_func) for sol in pop]\n",
    "    # fitness = [fitness_strategy(prun, sol.grn) for sol in pop]\n",
    "    fitness, stats = zip(*[fitness_multistep(prun, sol.grn, prun.steps) for sol in pop])\n",
    "    return fitness, stats\n",
    "\n",
    "def do_selection(prun, pop_fit, pop):\n",
    "    # print(\"Fit score : \", pop_fit)\n",
    "    acc = list(accumulate(pop_fit))\n",
    "    best = max(pop_fit)\n",
    "    best_id = pop_fit.index(best)\n",
    "    \n",
    "    print(\"Total fitness :\", acc[-1])\n",
    "    \n",
    "    pop_sel, history_sel = weighted_selection(pop, pop_fit, individual_generator, new_fitness=0.3)\n",
    "        \n",
    "    return pop_sel, history_sel, best_id\n",
    "\n",
    "def do_mutation(prun, pop_sel):\n",
    "    [p.mutate() for p in pop_sel]\n",
    "    return pop_sel"
   ]
  },
  {
   "cell_type": "code",
   "execution_count": 43,
   "metadata": {},
   "outputs": [],
   "source": [
    "class ObjectiveStep(O):\n",
    "    start_time = 0\n",
    "    end_time = 0\n",
    "    max_fitness = 6\n",
    "    min_fitness = 1\n",
    "    name = \"\"\n",
    "    _passed = False\n",
    "    \n",
    "    def reset(self):\n",
    "        self._passed = False\n",
    "    \n",
    "    def passed(self):\n",
    "        if self._passed:\n",
    "            return\n",
    "        print(f\"Step {self.name} passed !\")\n",
    "        self._passed = True\n",
    "    \n",
    "example_steps = [\n",
    "    ObjectiveStep(name=\"1\", start_time=50, end_time=53, score_func=score_bb_size),\n",
    "    ObjectiveStep(name=\"2\", start_time=53, end_time=56, score_func=score_bb_size),\n",
    "    ObjectiveStep(name=\"3\", start_time=56, end_time=59, score_func=score_bb_size),\n",
    "    ObjectiveStep(name=\"4\", start_time=59, end_time=62, score_func=score_bb_size),\n",
    "    ObjectiveStep(name=\"5 - pre fmetric\", start_time=62, end_time=65, score_func=score_bb_size),\n",
    "    \n",
    "    ObjectiveStep(name=\"FMetric\", start_time=50, end_time=60, score_func=score_bb_fmetric),\n",
    "    \n",
    "    ObjectiveStep(name=\"6\", start_time=65, end_time=68, score_func=score_bb_size),\n",
    "]\n",
    "\n",
    "class ParamRun(O):\n",
    "    pop_size = 10\n",
    "    n_gen = 30\n",
    "    current_gen = 0\n",
    "    end_time = 83\n",
    "    ref = REF\n",
    "\n",
    "args = ParamRun()\n",
    "args.steps = example_steps\n",
    "for step in args.steps:\n",
    "    step.reset()"
   ]
  },
  {
   "cell_type": "code",
   "execution_count": 33,
   "metadata": {},
   "outputs": [],
   "source": [
    "def main(prun):\n",
    "    exporter = Exporter()\n",
    "    best = 0\n",
    "    pop = do_init_pop(prun)\n",
    "    pop = GOOD_POP\n",
    "    for generation in range(prun.n_gen):\n",
    "        # args.generation = generation\n",
    "        # objective.new_trial()\n",
    "        fit, stats = do_fitness(prun, pop)\n",
    "        # objective.best_current(max(fit))\n",
    "        \n",
    "        # TODO get the stats associated with the best scores\n",
    "        sel, history_sel, best_id = do_selection(prun, fit, pop)\n",
    "        if fit[best_id] > best:\n",
    "            print(f\"++ Best {fit[best_id]}\")\n",
    "            best = fit[best_id]\n",
    "            HALL_OF_FAME.append(pop[best_id].copy())\n",
    "        else:\n",
    "            print(f\"-- Best {best}\")\n",
    "        pop = do_mutation(prun, sel)\n",
    "        \n",
    "        # history\n",
    "        monitor = dict(\n",
    "            transition=history_sel,\n",
    "            solution=pop,\n",
    "            fitness=fit,\n",
    "            stats=stats,\n",
    "        )\n",
    "        HISTORY[generation] = monitor\n",
    "        exporter(monitor, f\"generation_{generation}\")\n",
    "        \n",
    "    return best"
   ]
  },
  {
   "cell_type": "code",
   "execution_count": null,
   "metadata": {},
   "outputs": [
    {
     "name": "stdout",
     "output_type": "stream",
     "text": [
      "Exporting at output/2022-01-13/16:51:44.359567_483932\n",
      "Step 1 passed !\n",
      "Step 2 passed !\n",
      "Step 3 passed !\n",
      "Step 4 passed !\n",
      "Step 5 - pre fmetric passed !\n",
      "Total fitness : 15.664581799675537\n",
      "++ Best 12.214489259659103\n",
      "Total fitness : 13.359414851986369\n",
      "-- Best 12.214489259659103\n",
      "Total fitness : 7.112087084499377\n",
      "-- Best 12.214489259659103\n",
      "Total fitness : 8.649096240372783\n",
      "-- Best 12.214489259659103\n",
      "Total fitness : 13.948441900744362\n",
      "-- Best 12.214489259659103\n",
      "Total fitness : 7.050071705284252\n",
      "-- Best 12.214489259659103\n",
      "Total fitness : 6.005520944128158\n",
      "-- Best 12.214489259659103\n",
      "Total fitness : 4.1573640345549485\n",
      "-- Best 12.214489259659103\n",
      "Total fitness : 14.901585912946347\n",
      "-- Best 12.214489259659103\n",
      "Total fitness : 12.79289746785239\n",
      "-- Best 12.214489259659103\n",
      "Total fitness : 8.670452536414826\n",
      "-- Best 12.214489259659103\n",
      "Total fitness : 32.11636467541853\n",
      "++ Best 17.10565264945934\n",
      "Total fitness : 51.350410963347876\n",
      "++ Best 24.403810747841234\n",
      "Total fitness : 82.2139972522453\n",
      "-- Best 24.403810747841234\n",
      "Total fitness : 58.22970417049403\n",
      "-- Best 24.403810747841234\n"
     ]
    }
   ],
   "source": [
    "sol = main(args)"
   ]
  },
  {
   "cell_type": "code",
   "execution_count": 25,
   "metadata": {},
   "outputs": [
    {
     "ename": "RuntimeError",
     "evalue": "No active exception to reraise",
     "output_type": "error",
     "traceback": [
      "\u001b[0;31m---------------------------------------------------------------------------\u001b[0m",
      "\u001b[0;31mRuntimeError\u001b[0m                              Traceback (most recent call last)",
      "\u001b[0;32m<ipython-input-25-9c9a2cba73bf>\u001b[0m in \u001b[0;36m<module>\u001b[0;34m\u001b[0m\n\u001b[0;32m----> 1\u001b[0;31m \u001b[0;32mraise\u001b[0m\u001b[0;34m\u001b[0m\u001b[0;34m\u001b[0m\u001b[0m\n\u001b[0m",
      "\u001b[0;31mRuntimeError\u001b[0m: No active exception to reraise"
     ]
    }
   ],
   "source": [
    "raise"
   ]
  },
  {
   "cell_type": "code",
   "execution_count": 32,
   "metadata": {},
   "outputs": [],
   "source": [
    "# GOOD_POP = HISTORY[2][\"solution\"]"
   ]
  },
  {
   "cell_type": "code",
   "execution_count": 28,
   "metadata": {},
   "outputs": [],
   "source": [
    "# GOOD_POP = HISTORY[2]"
   ]
  },
  {
   "cell_type": "code",
   "execution_count": 26,
   "metadata": {},
   "outputs": [],
   "source": [
    "# best = HISTORY[25]"
   ]
  },
  {
   "cell_type": "code",
   "execution_count": null,
   "metadata": {},
   "outputs": [],
   "source": [
    "HISTORY.keys()"
   ]
  },
  {
   "cell_type": "code",
   "execution_count": null,
   "metadata": {},
   "outputs": [],
   "source": [
    "last = HISTORY[0]\n",
    "last.keys()"
   ]
  },
  {
   "cell_type": "code",
   "execution_count": null,
   "metadata": {},
   "outputs": [],
   "source": [
    "fit = last['fitness']\n",
    "index = fit.index(max(fit))\n",
    "sol = last[\"solution\"][index]\n",
    "index, max(fit)"
   ]
  },
  {
   "cell_type": "code",
   "execution_count": null,
   "metadata": {},
   "outputs": [],
   "source": [
    "stats = last[\"stats\"][index]"
   ]
  },
  {
   "cell_type": "code",
   "execution_count": null,
   "metadata": {},
   "outputs": [],
   "source": [
    "def show_curve(stats, ref, max_step=None, show=True):\n",
    "    \"\"\"\n",
    "    The evaluation function for progenitor population size.\n",
    "    The lower is the better\n",
    "    :param stats: the stats of the bb after running\n",
    "    \"\"\"\n",
    "    stats, ref = shrink_and_align_stats(stats, ref, max_step=max_step)\n",
    "    \n",
    "    x, y = preprocess_progenitor_size(stats, ref)\n",
    "    \n",
    "    plt.plot(ref.index, x, label=\"Reference Prog\")\n",
    "    plt.plot(ref.index, y, label=\"Simulation Prog\")\n",
    "    \n",
    "    x, y = preprocess_whole_size(stats, ref)\n",
    "    \n",
    "    plt.plot(ref.index, x, label=\"Reference Whole\")\n",
    "    plt.plot(ref.index, y, label=\"Simulation Whole\")\n",
    "    \n",
    "    plt.legend()\n",
    "    \n",
    "    if show:\n",
    "        plt.show()"
   ]
  },
  {
   "cell_type": "code",
   "execution_count": null,
   "metadata": {},
   "outputs": [],
   "source": [
    "def print_fmetrics(population, ref):\n",
    "    pairs = get_fmetric_pairs(population, min_time=50, max_time=60)\n",
    "    fmetric = fate_corr(pairs)\n",
    "    print(f\"Population : {fmetric}, ref : {ref[50][60]}\")"
   ]
  },
  {
   "cell_type": "code",
   "execution_count": null,
   "metadata": {},
   "outputs": [],
   "source": [
    "show_curve(stats, REF, max_step=args.end_time)"
   ]
  },
  {
   "cell_type": "code",
   "execution_count": null,
   "metadata": {},
   "outputs": [],
   "source": [
    "score_multistep(args, stats, args.steps)"
   ]
  },
  {
   "cell_type": "code",
   "execution_count": null,
   "metadata": {},
   "outputs": [],
   "source": [
    "REF.head(10)"
   ]
  },
  {
   "cell_type": "code",
   "execution_count": null,
   "metadata": {},
   "outputs": [],
   "source": [
    "def fill_df(stats, ls_val):\n",
    "    for time, prog_pop, whole_pop in ls_val:\n",
    "        stats.loc[time] = {\"progenitor_pop_size\": prog_pop, \"time\": time, \"whole_pop_size\": whole_pop}"
   ]
  },
  {
   "cell_type": "code",
   "execution_count": null,
   "metadata": {},
   "outputs": [],
   "source": [
    "vals = [\n",
    "    (50.5, 25, 27),\n",
    "    (51., 26, 30),\n",
    "    (51.5, 27, 40),\n",
    "    (52., 30, 50),\n",
    "    (52.5, 35, 60),\n",
    "    (53., 40, 27),\n",
    "    (53.5, 45, 27),\n",
    "    (54., 50, 27),\n",
    "    (54.5, 55, 27),\n",
    "    (55., 60, 27),\n",
    "]"
   ]
  },
  {
   "cell_type": "code",
   "execution_count": null,
   "metadata": {},
   "outputs": [],
   "source": [
    "fill_df(stats, ls_val=vals)\n",
    "stats"
   ]
  },
  {
   "cell_type": "code",
   "execution_count": null,
   "metadata": {},
   "outputs": [],
   "source": [
    "show_curve(stats, REF.stats, max_step=55)\n",
    "print_fmetrics(population, REF.fmetric)\n",
    "score_multistep(args, stats, args.steps)"
   ]
  },
  {
   "cell_type": "code",
   "execution_count": null,
   "metadata": {},
   "outputs": [],
   "source": [
    "# peut être mettre sqrt plutôt que abs en dénominateur\n",
    "# ensuite équilibrer les fit value en normalisant avec la médiane ou la moyenne ou autre (3e quartile ?)"
   ]
  },
  {
   "cell_type": "code",
   "execution_count": null,
   "metadata": {},
   "outputs": [],
   "source": []
  }
 ],
 "metadata": {
  "kernelspec": {
   "display_name": "Python 3",
   "language": "python",
   "name": "python3"
  },
  "language_info": {
   "codemirror_mode": {
    "name": "ipython",
    "version": 3
   },
   "file_extension": ".py",
   "mimetype": "text/x-python",
   "name": "python",
   "nbconvert_exporter": "python",
   "pygments_lexer": "ipython3",
   "version": "3.8.10"
  }
 },
 "nbformat": 4,
 "nbformat_minor": 4
}
