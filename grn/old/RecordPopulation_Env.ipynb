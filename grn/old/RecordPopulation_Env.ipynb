{
 "cells": [
  {
   "cell_type": "code",
   "execution_count": 1,
   "metadata": {},
   "outputs": [],
   "source": [
    "import os\n",
    "os.environ[\"XLA_PYTHON_CLIENT_MEM_FRACTION\"] = \".13\""
   ]
  },
  {
   "cell_type": "code",
   "execution_count": 12,
   "metadata": {},
   "outputs": [],
   "source": [
    "import pandas as pd\n",
    "from brain import BrainModel\n",
    "from submodels import factories\n",
    "import matplotlib.pyplot as plt\n",
    "import pandas as pd\n",
    "from itertools import accumulate\n",
    "import numpy as np\n",
    "from collections import defaultdict\n",
    "import re\n",
    "\n",
    "from lib.sde.grn.grn4 import GRNMain4\n",
    "from lib.sde.mutate import mutate_grn3\n",
    "from lib.ga.utils import weighted_selection\n",
    "from lib.ga.objective import Objective\n",
    "from jf.profiler import Profiler\n",
    "from jf.utils.export import Exporter\n",
    "from jf.autocompute.jf import O, L"
   ]
  },
  {
   "cell_type": "code",
   "execution_count": 3,
   "metadata": {},
   "outputs": [],
   "source": [
    "class Solution:\n",
    "    def __init__(self, grn):\n",
    "        self.grn = grn\n",
    "        \n",
    "    def copy(self):\n",
    "        return Solution(self.grn.copy())\n",
    "        \n",
    "    def mutate(self):\n",
    "        mutate_grn2(self.grn)"
   ]
  },
  {
   "cell_type": "code",
   "execution_count": 4,
   "metadata": {},
   "outputs": [],
   "source": [
    "def get_bb(grn):\n",
    "    ccls = factories[\"grn4\"](grn=grn)\n",
    "    bb = BrainModel(time_step=0.5, verbose=False, start_population=5, max_pop_size=1e3, opti=True, \n",
    "            cell_cls=ccls, end_time=55, start_time=50, silent=True, record_population=True)\n",
    "    return bb"
   ]
  },
  {
   "cell_type": "code",
   "execution_count": 5,
   "metadata": {},
   "outputs": [],
   "source": [
    "def run_grn(prun, grn):\n",
    "    get_bb(prun, grn)\n",
    "    bb.run()\n",
    "    return bb"
   ]
  },
  {
   "cell_type": "code",
   "execution_count": 6,
   "metadata": {},
   "outputs": [
    {
     "name": "stdout",
     "output_type": "stream",
     "text": [
      "xx"
     ]
    }
   ],
   "source": [
    "while True:\n",
    "    print(\"x\", end=\"\")\n",
    "    grn = GRNMain4(nb_genes=5, nb_membrane_gene=1, nb_off_trees=0)\n",
    "    grn\n",
    "\n",
    "    bb = get_bb(grn)\n",
    "\n",
    "    bb.run()\n",
    "\n",
    "    if len(bb.snapshots) > 4:\n",
    "        break"
   ]
  },
  {
   "cell_type": "code",
   "execution_count": 7,
   "metadata": {},
   "outputs": [
    {
     "data": {
      "text/plain": [
       "[22, 16, 17, 13, 14, 12]"
      ]
     },
     "execution_count": 7,
     "metadata": {},
     "output_type": "execute_result"
    }
   ],
   "source": [
    "[len(x[\"population\"]) for x in bb.snapshots.values()][:10]"
   ]
  },
  {
   "cell_type": "code",
   "execution_count": 8,
   "metadata": {},
   "outputs": [
    {
     "data": {
      "text/plain": [
       "array([[0.        , 0.        , 0.        , 0.        , 0.        ],\n",
       "       [0.3111496 , 0.22796056, 0.        , 0.        , 0.06982006],\n",
       "       [0.        , 0.        , 0.        , 0.        , 0.        ],\n",
       "       [0.06288064, 0.        , 0.        , 0.        , 0.        ],\n",
       "       [0.        , 0.        , 0.        , 0.0958944 , 0.        ]],\n",
       "      dtype=float32)"
      ]
     },
     "execution_count": 8,
     "metadata": {},
     "output_type": "execute_result"
    }
   ],
   "source": [
    "np.array(list(bb.snapshots[50.5][\"population\"].values()))[:5]"
   ]
  },
  {
   "cell_type": "code",
   "execution_count": 9,
   "metadata": {},
   "outputs": [
    {
     "data": {
      "text/plain": [
       "array([[0.45884708, 0.47314435, 0.01437277, 0.17205116, 0.03953689],\n",
       "       [0.2531733 , 0.03064433, 0.01437277, 0.1737388 , 0.02602543],\n",
       "       [0.45884708, 0.47314435, 0.01437277, 0.17205116, 0.03953689],\n",
       "       [0.22244033, 0.47403574, 0.01437277, 0.17240657, 0.03953689],\n",
       "       [0.45884708, 0.47373804, 0.01645037, 0.23651865, 0.04525197]],\n",
       "      dtype=float32)"
      ]
     },
     "execution_count": 9,
     "metadata": {},
     "output_type": "execute_result"
    }
   ],
   "source": [
    "np.array(list(bb.snapshots[51.0][\"population\"].values()))[:5]"
   ]
  },
  {
   "cell_type": "code",
   "execution_count": 13,
   "metadata": {},
   "outputs": [
    {
     "data": {
      "text/plain": [
       "[DeviceArray([0.9994332], dtype=float32),\n",
       " DeviceArray([1.9988567], dtype=float32),\n",
       " DeviceArray([1.9988655], dtype=float32),\n",
       " DeviceArray([1.9988637], dtype=float32),\n",
       " DeviceArray([0.], dtype=float32),\n",
       " DeviceArray([0.], dtype=float32),\n",
       " DeviceArray([0.], dtype=float32),\n",
       " DeviceArray([0.], dtype=float32),\n",
       " DeviceArray([0.], dtype=float32),\n",
       " DeviceArray([0.], dtype=float32),\n",
       " DeviceArray([0.], dtype=float32),\n",
       " DeviceArray([0.], dtype=float32),\n",
       " DeviceArray([0.], dtype=float32),\n",
       " DeviceArray([5.996623], dtype=float32),\n",
       " DeviceArray([0.], dtype=float32),\n",
       " DeviceArray([0.], dtype=float32),\n",
       " DeviceArray([0.], dtype=float32),\n",
       " DeviceArray([0.], dtype=float32),\n",
       " DeviceArray([0.], dtype=float32),\n",
       " DeviceArray([3.9977176], dtype=float32),\n",
       " DeviceArray([0.9994277], dtype=float32),\n",
       " DeviceArray([0.], dtype=float32),\n",
       " DeviceArray([0.], dtype=float32),\n",
       " DeviceArray([0.], dtype=float32),\n",
       " DeviceArray([2.998326], dtype=float32),\n",
       " DeviceArray([1.999761], dtype=float32),\n",
       " DeviceArray([2.9996262], dtype=float32),\n",
       " DeviceArray([4.9971285], dtype=float32),\n",
       " DeviceArray([2.998258], dtype=float32),\n",
       " DeviceArray([3.9976776], dtype=float32),\n",
       " DeviceArray([3.9976776], dtype=float32),\n",
       " DeviceArray([5.998779], dtype=float32),\n",
       " DeviceArray([4.999129], dtype=float32),\n",
       " DeviceArray([1.9988818], dtype=float32),\n",
       " DeviceArray([2.9983246], dtype=float32),\n",
       " DeviceArray([5.9986567], dtype=float32),\n",
       " DeviceArray([2.9982805], dtype=float32),\n",
       " DeviceArray([2.998276], dtype=float32),\n",
       " DeviceArray([2.999193], dtype=float32),\n",
       " DeviceArray([5.9966497], dtype=float32),\n",
       " DeviceArray([3.997748], dtype=float32),\n",
       " DeviceArray([4.9971895], dtype=float32),\n",
       " DeviceArray([2.9983234], dtype=float32),\n",
       " DeviceArray([2.99836], dtype=float32),\n",
       " DeviceArray([3.9977653], dtype=float32),\n",
       " DeviceArray([3.9977586], dtype=float32),\n",
       " DeviceArray([2.998309], dtype=float32),\n",
       " DeviceArray([2.998364], dtype=float32),\n",
       " DeviceArray([3.9977732], dtype=float32),\n",
       " DeviceArray([0.99943763], dtype=float32),\n",
       " DeviceArray([2.9983175], dtype=float32),\n",
       " DeviceArray([2.9983106], dtype=float32),\n",
       " DeviceArray([2.9983294], dtype=float32),\n",
       " DeviceArray([2.9983382], dtype=float32),\n",
       " DeviceArray([2.9983294], dtype=float32),\n",
       " DeviceArray([0.], dtype=float32),\n",
       " DeviceArray([0.], dtype=float32),\n",
       " DeviceArray([0.], dtype=float32),\n",
       " DeviceArray([0.], dtype=float32)]"
      ]
     },
     "execution_count": 13,
     "metadata": {},
     "output_type": "execute_result"
    }
   ],
   "source": [
    "L(bb.population.base_population.values()).cell_program.environment"
   ]
  },
  {
   "cell_type": "code",
   "execution_count": null,
   "metadata": {},
   "outputs": [],
   "source": []
  }
 ],
 "metadata": {
  "kernelspec": {
   "display_name": "Python 3",
   "language": "python",
   "name": "python3"
  },
  "language_info": {
   "codemirror_mode": {
    "name": "ipython",
    "version": 3
   },
   "file_extension": ".py",
   "mimetype": "text/x-python",
   "name": "python",
   "nbconvert_exporter": "python",
   "pygments_lexer": "ipython3",
   "version": "3.8.10"
  }
 },
 "nbformat": 4,
 "nbformat_minor": 4
}
