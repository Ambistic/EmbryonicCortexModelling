{
 "cells": [
  {
   "cell_type": "markdown",
   "metadata": {},
   "source": [
    "# Goal : implementing multiprocessing"
   ]
  },
  {
   "cell_type": "code",
   "execution_count": 1,
   "metadata": {},
   "outputs": [],
   "source": [
    "import os\n",
    "os.environ[\"XLA_PYTHON_CLIENT_MEM_FRACTION\"] = \".20\""
   ]
  },
  {
   "cell_type": "code",
   "execution_count": 2,
   "metadata": {},
   "outputs": [],
   "source": [
    "import pandas as pd\n",
    "from model import Brain\n",
    "from submodels import factories\n",
    "import matplotlib.pyplot as plt\n",
    "import pandas as pd\n",
    "from jf.db import DB\n",
    "from lib.plot import plot_2d_positions_colors\n",
    "from lib.sde.grn2 import GRNMain2\n",
    "from lib.sde.mutate import mutate_grn2\n",
    "from lib.ga.utils import weighted_selection\n",
    "from lib.ga.objective import Objective\n",
    "from jf.profiler import Profiler\n",
    "from jf.autocompute.jf import O"
   ]
  },
  {
   "cell_type": "code",
   "execution_count": 3,
   "metadata": {},
   "outputs": [],
   "source": [
    "from itertools import accumulate\n",
    "import numpy as np\n",
    "from collections import defaultdict"
   ]
  },
  {
   "cell_type": "code",
   "execution_count": 4,
   "metadata": {},
   "outputs": [
    {
     "data": {
      "text/plain": [
       "'\\nFormat \\ngeneration : dict(\\n    transition\\n    solution\\n    fitness\\n    stats\\n)\\n'"
      ]
     },
     "execution_count": 4,
     "metadata": {},
     "output_type": "execute_result"
    }
   ],
   "source": [
    "HISTORY = defaultdict(dict)\n",
    "\"\"\"\n",
    "Format \n",
    "generation : dict(\n",
    "    transition\n",
    "    solution\n",
    "    fitness\n",
    "    stats\n",
    ")\n",
    "\"\"\""
   ]
  },
  {
   "cell_type": "code",
   "execution_count": 5,
   "metadata": {},
   "outputs": [],
   "source": [
    "HALL_OF_FAME = []"
   ]
  },
  {
   "cell_type": "code",
   "execution_count": 6,
   "metadata": {},
   "outputs": [],
   "source": [
    "REF = pd.read_csv(\"output/results/setup_basic/export/ref_basic2.csv\")  # ref is a mean"
   ]
  },
  {
   "cell_type": "code",
   "execution_count": 7,
   "metadata": {},
   "outputs": [],
   "source": [
    "def individual_generator():\n",
    "    return Solution(GRNMain2(7, 0, 0))"
   ]
  },
  {
   "cell_type": "code",
   "execution_count": 8,
   "metadata": {},
   "outputs": [],
   "source": [
    "if False:\n",
    "    grn = GRNMain2(5, 0, 5)\n",
    "    ccls = factories[\"grn2\"](grn=grn)\n",
    "\n",
    "    bb = Brain(time_step=0.5, verbose=False, start_population=4, max_pop_size=1e3,\n",
    "            cell_cls=ccls.generate, end_time=60, start_time=50, silent=False)\n",
    "    bb.run()\n",
    "\n",
    "# cell = bb.population[0]\n",
    "# cell.cell_program.print_gene_info(2)\n",
    "\n",
    "# cell.cell_program.grn.print_trees()"
   ]
  },
  {
   "cell_type": "code",
   "execution_count": 9,
   "metadata": {},
   "outputs": [],
   "source": [
    "def r():\n",
    "    return np.random.uniform(0, 1)\n",
    "\n",
    "class Solution:\n",
    "    def __init__(self, grn):\n",
    "        self.grn = grn\n",
    "        \n",
    "    def copy(self):\n",
    "        return Solution(self.grn.copy())\n",
    "        \n",
    "    def mutate(self):\n",
    "        mutate_grn2(self.grn)"
   ]
  },
  {
   "cell_type": "code",
   "execution_count": 10,
   "metadata": {},
   "outputs": [
    {
     "data": {
      "text/plain": [
       ">> G_0: init: 0.66; noise: 6.36; b: 4.19; m: 3.20; expr: 9.61; deg: 9.31; thr: 3.56; theta: 5.21; tree : 0\n",
       ">> G_1: init: 0.30; noise: 1.56; b: 1.19; m: 4.06; expr: 6.00; deg: 7.20; thr: 1.93; theta: 0.31; tree : ((4 AND 1) OR ((0 AND 6) AND (2 AND 5)))\n",
       ">> G_2: init: 0.31; noise: 6.54; b: 2.36; m: 1.02; expr: 5.14; deg: 0.93; thr: 8.72; theta: 0.11; tree : 1\n",
       ">> G_3: init: 1.82; noise: 3.27; b: 9.91; m: 2.75; expr: 8.58; deg: 4.95; thr: 0.29; theta: 9.09; tree : 0\n",
       ">> G_4: init: 2.86; noise: 7.50; b: 1.02; m: 8.14; expr: 5.09; deg: 0.16; thr: 3.44; theta: 0.99; tree : NOT 3\n",
       ">> G_5: init: 2.43; noise: 1.14; b: 3.35; m: 9.63; expr: 1.01; deg: 9.23; thr: 4.47; theta: 2.86; tree : 3\n",
       ">> G_6: init: 1.48; noise: 2.47; b: 8.59; m: 5.32; expr: 7.95; deg: 6.92; thr: 7.40; theta: 3.75; tree : 4"
      ]
     },
     "execution_count": 10,
     "metadata": {},
     "output_type": "execute_result"
    }
   ],
   "source": [
    "individual_generator().grn"
   ]
  },
  {
   "cell_type": "code",
   "execution_count": 11,
   "metadata": {},
   "outputs": [],
   "source": [
    "def shrink_and_align_stats(stats, ref, max_step=None, min_step=None):\n",
    "    min_data_step = max(min(stats.time), min(ref.time))\n",
    "    if min_step is None:\n",
    "        min_step = min_data_step\n",
    "    else:\n",
    "        min_step = max(min_step, min_data_step)\n",
    "\n",
    "    if max_step is None:\n",
    "        max_step = max(ref.time)\n",
    "    else:\n",
    "        max_step = min(max_step, max(ref.time))\n",
    "    \n",
    "    new_stats = stats[(stats.time >= min_step) & (stats.time <= max_step)].set_index(\"time\")\n",
    "    new_ref = ref[(ref.time >= min_step) & (ref.time <= max_step)].set_index(\"time\")\n",
    "    \n",
    "    return new_stats, new_ref"
   ]
  },
  {
   "cell_type": "code",
   "execution_count": 12,
   "metadata": {},
   "outputs": [],
   "source": [
    "def preprocess_progenitor_size(stats, ref):\n",
    "    colname_ref = \"progenitor_pop_size\"\n",
    "    colname_stats = \"progenitor_pop_size\"\n",
    "    \n",
    "    min_step = min(ref.index)  # ref.index is the time\n",
    "    stats[colname_stats] = stats[colname_stats] / stats[colname_stats].get(min_step)\n",
    "    ref[colname_ref] = ref[colname_ref] / ref[colname_ref].get(min_step)\n",
    "    x = [ref[colname_ref].get(t, 0) for t in ref.index]\n",
    "    y = [stats[colname_stats].get(t, 0) for t in ref.index]\n",
    "    return x, y\n",
    "\n",
    "def preprocess_whole_size(stats, ref):\n",
    "    colname_ref = \"whole_pop_size\"\n",
    "    colname_stats = \"whole_pop_size\"\n",
    "    \n",
    "    min_step = min(ref.index)  # ref.index is the time\n",
    "    stats[colname_stats] = stats[colname_stats] / stats[colname_stats].get(min_step)\n",
    "    ref[colname_ref] = ref[colname_ref] / ref[colname_ref].get(min_step)\n",
    "    x = [ref[colname_ref].get(t, 0) for t in ref.index]\n",
    "    y = [stats[colname_stats].get(t, 0) for t in ref.index]\n",
    "    return x, y"
   ]
  },
  {
   "cell_type": "code",
   "execution_count": 13,
   "metadata": {},
   "outputs": [],
   "source": [
    "def score_coefficient_variation(x, y):\n",
    "    return sum([(x_ - y_)**2 / x_ for x_, y_ in zip(x, y)])"
   ]
  },
  {
   "cell_type": "code",
   "execution_count": 14,
   "metadata": {},
   "outputs": [],
   "source": [
    "def score_progenitor_size(stats, ref, max_step=None, min_step=None):\n",
    "    stats, ref = shrink_and_align_stats(stats, ref, max_step, min_step)\n",
    "    x, y = preprocess_progenitor_size(stats, ref)\n",
    "    return score_coefficient_variation(x, y)\n",
    "\n",
    "def score_whole_size(stats, ref, max_step=None, min_step=None):\n",
    "    stats, ref = shrink_and_align_stats(stats, ref, max_step, min_step)\n",
    "    x, y = preprocess_progenitor_size(stats, ref)\n",
    "    return score_coefficient_variation(x, y)\n",
    "\n",
    "def score_both_size(stats, ref, max_step=None, min_step=None):\n",
    "    return score_progenitor_size(stats, ref, max_step, min_step) \\\n",
    "            + score_whole_size(stats, ref, max_step, min_step)"
   ]
  },
  {
   "cell_type": "code",
   "execution_count": 15,
   "metadata": {},
   "outputs": [],
   "source": [
    "def run_grn(prun, grn):\n",
    "    bb = get_bb(prun, grn)\n",
    "    bb.run()\n",
    "    return bb"
   ]
  },
  {
   "cell_type": "code",
   "execution_count": 16,
   "metadata": {},
   "outputs": [],
   "source": [
    "def get_bb(prun, grn):\n",
    "    ccls = factories[\"grn2_opti\"](grn=grn)\n",
    "    bb = Brain(time_step=0.5, verbose=False, start_population=5, max_pop_size=1e3,\n",
    "            cell_cls=ccls, end_time=prun.end_time, start_time=50, silent=True)\n",
    "    return bb"
   ]
  },
  {
   "cell_type": "code",
   "execution_count": 17,
   "metadata": {},
   "outputs": [],
   "source": [
    "def fitness_func(prun, grn, score_func):\n",
    "    bb = run_grn(prun, grn)\n",
    "    output = score_func(bb.stats, REF, max_step=prun.end_time)\n",
    "    fitness = 1.0 / output\n",
    "    return fitness"
   ]
  },
  {
   "cell_type": "code",
   "execution_count": 18,
   "metadata": {},
   "outputs": [],
   "source": [
    "class ObjectiveStep(O):\n",
    "    end_time = 0\n",
    "    max_fitness = 4\n",
    "    min_fitness = 1\n",
    "    \n",
    "example_steps = [\n",
    "    ObjectiveStep(end_time=53),\n",
    "    ObjectiveStep(end_time=56),\n",
    "    ObjectiveStep(end_time=59),\n",
    "    ObjectiveStep(end_time=62),\n",
    "    ObjectiveStep(end_time=65),\n",
    "    ObjectiveStep(end_time=68),\n",
    "    ObjectiveStep(end_time=71),\n",
    "    ObjectiveStep(end_time=74),\n",
    "    ObjectiveStep(end_time=77),\n",
    "    ObjectiveStep(end_time=80),\n",
    "    ObjectiveStep(end_time=83),\n",
    "    ObjectiveStep(end_time=86)\n",
    "]"
   ]
  },
  {
   "cell_type": "code",
   "execution_count": 19,
   "metadata": {},
   "outputs": [],
   "source": [
    "def fitness_multistep(prun, grn, steps):\n",
    "    total_fitness = 0\n",
    "    stop = False\n",
    "    previous_time = None\n",
    "    bb = get_bb(prun, grn)\n",
    "    # first step\n",
    "    for step in steps:\n",
    "        if not bb.run_until(step.end_time):\n",
    "            stop = True\n",
    "        score_step = score_both_size(bb.stats, prun.ref, max_step=step.end_time, min_step=previous_time)\n",
    "        fitness_step = 1.0 / score_step\n",
    "        fitness_step = min(fitness_step, step.max_fitness)\n",
    "        total_fitness += fitness_step\n",
    "        if fitness_step < step.min_fitness or stop:\n",
    "            return total_fitness\n",
    "        previous_time = step.end_time\n",
    "        \n",
    "    return total_fitness\n",
    "# TODO make a no run version (i.e. just score)"
   ]
  },
  {
   "cell_type": "code",
   "execution_count": 20,
   "metadata": {},
   "outputs": [],
   "source": [
    "def fitness_strategy(prun, grn):\n",
    "    total_fitness = 0\n",
    "    stop = False\n",
    "    bb = get_bb(prun, grn)\n",
    "    # first step\n",
    "    step1_end_time = 53\n",
    "    step1_max_fitness = 4.\n",
    "    step1_min_fitness = 1.\n",
    "    if not bb.run_until(step1_end_time):\n",
    "        stop = True\n",
    "    score1 = score_both_size(bb.stats, prun.ref, max_step=step1_end_time)\n",
    "    fitness1 = 1.0 / score1\n",
    "    fitness1 = min(fitness1, step1_max_fitness)\n",
    "    total_fitness += fitness1\n",
    "    if fitness1 < step1_min_fitness or stop:\n",
    "        return total_fitness\n",
    "    \n",
    "    # second step\n",
    "    step2_end_time = 56\n",
    "    step2_max_fitness = 4.\n",
    "    step2_min_fitness = 1.\n",
    "    if not bb.run_until(step2_end_time):\n",
    "        stop = True\n",
    "    score2 = score_both_size(bb.stats, prun.ref, max_step=step2_end_time, min_step=step1_end_time)\n",
    "    fitness2 = 1.0 / score2\n",
    "    fitness2 = min(fitness2, step2_max_fitness)\n",
    "    total_fitness += fitness2\n",
    "    if fitness2 < step2_min_fitness or stop:\n",
    "        return total_fitness\n",
    "    \n",
    "    # second step\n",
    "    step3_end_time = 65\n",
    "    step3_max_fitness = 4.\n",
    "    step3_min_fitness = 1.\n",
    "    if not bb.run_until(step3_end_time):\n",
    "        stop = True\n",
    "    score3 = score_both_size(bb.stats, prun.ref, max_step=step3_end_time, min_step=step2_end_time)\n",
    "    fitness3 = 1.0 / score3\n",
    "    fitness3 = min(fitness3, step3_max_fitness)\n",
    "    total_fitness += fitness3\n",
    "    \n",
    "    return total_fitness"
   ]
  },
  {
   "cell_type": "code",
   "execution_count": 21,
   "metadata": {},
   "outputs": [],
   "source": [
    "def mean_sd_fitness(prun, grn, run=3):\n",
    "    fitnesses = [fitness_strategy(prun, grn) for i in range(run)]\n",
    "    return np.mean(fitnesses), np.std(fitnesses)"
   ]
  },
  {
   "cell_type": "code",
   "execution_count": 22,
   "metadata": {},
   "outputs": [],
   "source": [
    "def do_init_pop(prun):\n",
    "    return [individual_generator() for i in range(prun.pop_size)]\n",
    "\n",
    "def do_fitness(prun, pop):\n",
    "    # fitness = [fitness_func(prun, sol.grn, score_func) for sol in pop]\n",
    "    # fitness = [fitness_strategy(prun, sol.grn) for sol in pop]\n",
    "    fitness = [fitness_multistep(prun, sol.grn, prun.steps) for sol in pop]\n",
    "    return fitness\n",
    "\n",
    "def do_selection(prun, pop_fit, pop):\n",
    "    # print(\"Fit score : \", pop_fit)\n",
    "    acc = list(accumulate(pop_fit))\n",
    "    best = max(pop_fit)\n",
    "    best_sol = pop[pop_fit.index(best)]\n",
    "    \n",
    "    print(\"Total fitness :\", acc[-1])\n",
    "    \n",
    "    pop_sel, _ = weighted_selection(pop, pop_fit, individual_generator, new_fitness=0.3)\n",
    "        \n",
    "    return pop_sel, best, best_sol\n",
    "\n",
    "def do_mutation(prun, pop_sel):\n",
    "    [p.mutate() for p in pop_sel]\n",
    "    return pop_sel"
   ]
  },
  {
   "cell_type": "code",
   "execution_count": 24,
   "metadata": {},
   "outputs": [],
   "source": [
    "class ParamRun(O):\n",
    "    pop_size = 30\n",
    "    n_gen = 30\n",
    "    current_gen = 0\n",
    "    end_time = 83\n",
    "    ref = REF\n",
    "\n",
    "args = ParamRun()\n",
    "args.steps = example_steps\n",
    "\n",
    "def main(prun):\n",
    "    # exporter = Exporter()\n",
    "    bbest = 0\n",
    "    ttbest = None\n",
    "    pop = do_init_pop(prun)\n",
    "    for generation in range(prun.n_gen):\n",
    "        # args.generation = generation\n",
    "        # objective.new_trial()\n",
    "        fit = do_fitness(prun, pop)\n",
    "        # objective.best_current(max(fit))\n",
    "        \n",
    "        # TODO get the stats associated with the best scores\n",
    "        sel, best, best_sol = do_selection(prun, fit, pop)\n",
    "        if best > bbest:\n",
    "            print(f\"++ Best {best}\")\n",
    "            bbest = best\n",
    "            ttbest = best_sol.copy()\n",
    "            HALL_OF_FAME.append(best_sol.copy())\n",
    "        else:\n",
    "            print(f\"-- Best {best}\")\n",
    "        pop = do_mutation(prun, sel)\n",
    "        \n",
    "        # history\n",
    "        # HISTORY[generation] = monitor\n",
    "        # exporter(generation, monitor)\n",
    "        \n",
    "    return ttbest"
   ]
  },
  {
   "cell_type": "code",
   "execution_count": 25,
   "metadata": {},
   "outputs": [
    {
     "name": "stdout",
     "output_type": "stream",
     "text": [
      "Total fitness : 11.34085731792801\n",
      "++ Best 8.215670540606661\n",
      "Total fitness : 74.03877164378252\n",
      "++ Best 37.05907620722895\n",
      "Total fitness : 422.4361525207411\n",
      "++ Best 39.36040817920534\n",
      "Total fitness : 723.03285698141\n",
      "++ Best 40.59808486361589\n",
      "Total fitness : 846.8848529993448\n",
      "-- Best 40.09249630050966\n",
      "Total fitness : 886.8467716870547\n",
      "-- Best 40.4937215870664\n",
      "Total fitness : 805.1651860823453\n",
      "++ Best 41.03882244914262\n",
      "Total fitness : 724.361935563165\n",
      "++ Best 43.06856012569358\n",
      "Total fitness : 876.9196502438484\n",
      "++ Best 43.53282616108668\n",
      "Total fitness : 828.3318557600642\n",
      "-- Best 42.37427309485732\n",
      "Total fitness : 885.5258843212434\n",
      "-- Best 42.27409845009297\n",
      "Total fitness : 774.0500464794778\n",
      "++ Best 43.77630569139284\n",
      "Total fitness : 986.0812364154691\n",
      "-- Best 42.49967620311882\n",
      "Total fitness : 1024.0737119599908\n",
      "++ Best 44.09079872204473\n",
      "Total fitness : 730.4186853339942\n",
      "-- Best 42.36037575114314\n",
      "Total fitness : 970.1473632531755\n",
      "-- Best 42.426221241455345\n",
      "Total fitness : 951.4380849954742\n",
      "-- Best 42.286300355703\n",
      "Total fitness : 938.5210958736506\n",
      "-- Best 42.53716299627305\n",
      "Total fitness : 941.0558634023722\n",
      "-- Best 42.57147910683926\n",
      "Total fitness : 834.2867941267266\n",
      "-- Best 42.3126683527417\n",
      "Total fitness : 717.726885917395\n",
      "-- Best 42.667126273404726\n",
      "Total fitness : 726.029838366078\n",
      "-- Best 44.009726853350294\n",
      "Total fitness : 919.6887897802695\n",
      "-- Best 43.85047147628769\n",
      "Total fitness : 852.1592905557748\n",
      "-- Best 44.09079872204473\n",
      "Total fitness : 663.1877272595106\n",
      "-- Best 44.09079872204473\n",
      "Total fitness : 921.9032084888898\n",
      "-- Best 42.96819115690659\n",
      "Total fitness : 892.6540226880442\n",
      "-- Best 42.59817836577424\n",
      "Total fitness : 624.3388323960414\n",
      "-- Best 43.050297944639745\n",
      "Total fitness : 739.301419555971\n",
      "-- Best 42.58227101142751\n",
      "Total fitness : 774.0527634197358\n",
      "-- Best 44.09079872204473\n"
     ]
    }
   ],
   "source": [
    "\"\"\"\n",
    "objective = Objective([\n",
    "    (score_progenitor_size, 10, 2),\n",
    "    (score_both_size, 10, 4)\n",
    "])\n",
    "\"\"\"\n",
    "sol = main(args)"
   ]
  },
  {
   "cell_type": "code",
   "execution_count": null,
   "metadata": {},
   "outputs": [],
   "source": [
    "sol.grn.genes[4].tree"
   ]
  },
  {
   "cell_type": "code",
   "execution_count": null,
   "metadata": {},
   "outputs": [],
   "source": [
    "for one in HALL_OF_FAME:\n",
    "    print(np.mean([fitness_strategy(args, one.grn) for i in range(5)]))"
   ]
  },
  {
   "cell_type": "code",
   "execution_count": null,
   "metadata": {},
   "outputs": [],
   "source": [
    "HALL_OF_FAME[-1].grn"
   ]
  },
  {
   "cell_type": "code",
   "execution_count": null,
   "metadata": {},
   "outputs": [],
   "source": [
    "bb = run_grn(args, HALL_OF_FAME[-1].grn)"
   ]
  },
  {
   "cell_type": "code",
   "execution_count": null,
   "metadata": {},
   "outputs": [],
   "source": [
    "def show_curve(stats, ref, max_step=None, show=True):\n",
    "    \"\"\"\n",
    "    The evaluation function for progenitor population size.\n",
    "    The lower is the better\n",
    "    :param stats: the stats of the bb after running\n",
    "    \"\"\"\n",
    "    stats, ref = shrink_and_align_stats(stats, ref, max_step=max_step)\n",
    "    \n",
    "    x, y = preprocess_progenitor_size(stats, ref)\n",
    "    \n",
    "    plt.plot(ref.index, x, label=\"Reference Prog\")\n",
    "    plt.plot(ref.index, y, label=\"Simulation Prog\")\n",
    "    \n",
    "    x, y = preprocess_whole_size(stats, ref)\n",
    "    \n",
    "    plt.plot(ref.index, x, label=\"Reference Whole\")\n",
    "    plt.plot(ref.index, y, label=\"Simulation Whole\")\n",
    "    \n",
    "    plt.legend()\n",
    "    \n",
    "    if show:\n",
    "        plt.show()"
   ]
  },
  {
   "cell_type": "code",
   "execution_count": null,
   "metadata": {},
   "outputs": [],
   "source": [
    "show_curve(bb.stats, REF, max_step=args.end_time)"
   ]
  },
  {
   "cell_type": "code",
   "execution_count": null,
   "metadata": {},
   "outputs": [],
   "source": [
    "output = objective.get_objective_func()(bb.stats, REF, max_step=args.end_time)\n",
    "fitness = 1.0 / output\n",
    "fitness"
   ]
  },
  {
   "cell_type": "code",
   "execution_count": null,
   "metadata": {},
   "outputs": [],
   "source": []
  }
 ],
 "metadata": {
  "kernelspec": {
   "display_name": "Python 3",
   "language": "python",
   "name": "python3"
  },
  "language_info": {
   "codemirror_mode": {
    "name": "ipython",
    "version": 3
   },
   "file_extension": ".py",
   "mimetype": "text/x-python",
   "name": "python",
   "nbconvert_exporter": "python",
   "pygments_lexer": "ipython3",
   "version": "3.8.10"
  }
 },
 "nbformat": 4,
 "nbformat_minor": 4
}
