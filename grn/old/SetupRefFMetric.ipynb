{
 "cells": [
  {
   "cell_type": "code",
   "execution_count": 27,
   "metadata": {},
   "outputs": [],
   "source": [
    "import pandas as pd\n",
    "from jf.autocompute.jf import O\n",
    "from collections import Counter"
   ]
  },
  {
   "cell_type": "code",
   "execution_count": 3,
   "metadata": {},
   "outputs": [],
   "source": [
    "path = \"output/results/setup_basic/refgrn_mtristate1_e90_s8_p_n1_t49.history.csv\"\n",
    "df = pd.read_csv(path)"
   ]
  },
  {
   "cell_type": "code",
   "execution_count": 4,
   "metadata": {},
   "outputs": [
    {
     "data": {
      "text/html": [
       "<div>\n",
       "<style scoped>\n",
       "    .dataframe tbody tr th:only-of-type {\n",
       "        vertical-align: middle;\n",
       "    }\n",
       "\n",
       "    .dataframe tbody tr th {\n",
       "        vertical-align: top;\n",
       "    }\n",
       "\n",
       "    .dataframe thead th {\n",
       "        text-align: right;\n",
       "    }\n",
       "</style>\n",
       "<table border=\"1\" class=\"dataframe\">\n",
       "  <thead>\n",
       "    <tr style=\"text-align: right;\">\n",
       "      <th></th>\n",
       "      <th>Unnamed: 0</th>\n",
       "      <th>Tc_h</th>\n",
       "      <th>appear_time</th>\n",
       "      <th>child1</th>\n",
       "      <th>child2</th>\n",
       "      <th>division_time</th>\n",
       "      <th>index</th>\n",
       "      <th>type</th>\n",
       "    </tr>\n",
       "  </thead>\n",
       "  <tbody>\n",
       "    <tr>\n",
       "      <th>0</th>\n",
       "      <td>0</td>\n",
       "      <td>33.204867</td>\n",
       "      <td>49.0</td>\n",
       "      <td>144.0</td>\n",
       "      <td>145.0</td>\n",
       "      <td>50.314751</td>\n",
       "      <td>0.0</td>\n",
       "      <td>RG</td>\n",
       "    </tr>\n",
       "    <tr>\n",
       "      <th>1</th>\n",
       "      <td>1</td>\n",
       "      <td>47.272241</td>\n",
       "      <td>49.0</td>\n",
       "      <td>102.0</td>\n",
       "      <td>103.0</td>\n",
       "      <td>49.949761</td>\n",
       "      <td>1.0</td>\n",
       "      <td>RG</td>\n",
       "    </tr>\n",
       "    <tr>\n",
       "      <th>2</th>\n",
       "      <td>2</td>\n",
       "      <td>39.500638</td>\n",
       "      <td>49.0</td>\n",
       "      <td>64.0</td>\n",
       "      <td>65.0</td>\n",
       "      <td>49.067002</td>\n",
       "      <td>2.0</td>\n",
       "      <td>RG</td>\n",
       "    </tr>\n",
       "    <tr>\n",
       "      <th>3</th>\n",
       "      <td>3</td>\n",
       "      <td>48.129028</td>\n",
       "      <td>49.0</td>\n",
       "      <td>104.0</td>\n",
       "      <td>105.0</td>\n",
       "      <td>49.796524</td>\n",
       "      <td>3.0</td>\n",
       "      <td>RG</td>\n",
       "    </tr>\n",
       "    <tr>\n",
       "      <th>4</th>\n",
       "      <td>4</td>\n",
       "      <td>50.698540</td>\n",
       "      <td>49.0</td>\n",
       "      <td>66.0</td>\n",
       "      <td>67.0</td>\n",
       "      <td>49.437449</td>\n",
       "      <td>4.0</td>\n",
       "      <td>RG</td>\n",
       "    </tr>\n",
       "  </tbody>\n",
       "</table>\n",
       "</div>"
      ],
      "text/plain": [
       "   Unnamed: 0       Tc_h  appear_time  child1  child2  division_time  index  \\\n",
       "0           0  33.204867         49.0   144.0   145.0      50.314751    0.0   \n",
       "1           1  47.272241         49.0   102.0   103.0      49.949761    1.0   \n",
       "2           2  39.500638         49.0    64.0    65.0      49.067002    2.0   \n",
       "3           3  48.129028         49.0   104.0   105.0      49.796524    3.0   \n",
       "4           4  50.698540         49.0    66.0    67.0      49.437449    4.0   \n",
       "\n",
       "  type  \n",
       "0   RG  \n",
       "1   RG  \n",
       "2   RG  \n",
       "3   RG  \n",
       "4   RG  "
      ]
     },
     "execution_count": 4,
     "metadata": {},
     "output_type": "execute_result"
    }
   ],
   "source": [
    "df.head()"
   ]
  },
  {
   "cell_type": "code",
   "execution_count": 12,
   "metadata": {},
   "outputs": [
    {
     "data": {
      "text/html": [
       "<div>\n",
       "<style scoped>\n",
       "    .dataframe tbody tr th:only-of-type {\n",
       "        vertical-align: middle;\n",
       "    }\n",
       "\n",
       "    .dataframe tbody tr th {\n",
       "        vertical-align: top;\n",
       "    }\n",
       "\n",
       "    .dataframe thead th {\n",
       "        text-align: right;\n",
       "    }\n",
       "</style>\n",
       "<table border=\"1\" class=\"dataframe\">\n",
       "  <thead>\n",
       "    <tr style=\"text-align: right;\">\n",
       "      <th></th>\n",
       "      <th>Unnamed: 0</th>\n",
       "      <th>Tc_h</th>\n",
       "      <th>appear_time</th>\n",
       "      <th>child1</th>\n",
       "      <th>child2</th>\n",
       "      <th>division_time</th>\n",
       "      <th>index</th>\n",
       "      <th>type</th>\n",
       "    </tr>\n",
       "  </thead>\n",
       "  <tbody>\n",
       "    <tr>\n",
       "      <th>18713</th>\n",
       "      <td>18713</td>\n",
       "      <td>72.603147</td>\n",
       "      <td>89.419458</td>\n",
       "      <td>NaN</td>\n",
       "      <td>NaN</td>\n",
       "      <td>92.444589</td>\n",
       "      <td>18713.0</td>\n",
       "      <td>IP</td>\n",
       "    </tr>\n",
       "    <tr>\n",
       "      <th>18714</th>\n",
       "      <td>18714</td>\n",
       "      <td>0.000000</td>\n",
       "      <td>89.263217</td>\n",
       "      <td>NaN</td>\n",
       "      <td>NaN</td>\n",
       "      <td>inf</td>\n",
       "      <td>18714.0</td>\n",
       "      <td>PostMitotic</td>\n",
       "    </tr>\n",
       "    <tr>\n",
       "      <th>18715</th>\n",
       "      <td>18715</td>\n",
       "      <td>0.000000</td>\n",
       "      <td>89.263217</td>\n",
       "      <td>NaN</td>\n",
       "      <td>NaN</td>\n",
       "      <td>inf</td>\n",
       "      <td>18715.0</td>\n",
       "      <td>PostMitotic</td>\n",
       "    </tr>\n",
       "    <tr>\n",
       "      <th>18716</th>\n",
       "      <td>18716</td>\n",
       "      <td>60855.675407</td>\n",
       "      <td>89.450273</td>\n",
       "      <td>NaN</td>\n",
       "      <td>NaN</td>\n",
       "      <td>2625.103415</td>\n",
       "      <td>18716.0</td>\n",
       "      <td>GP</td>\n",
       "    </tr>\n",
       "    <tr>\n",
       "      <th>18717</th>\n",
       "      <td>18717</td>\n",
       "      <td>69783.408792</td>\n",
       "      <td>89.450273</td>\n",
       "      <td>NaN</td>\n",
       "      <td>NaN</td>\n",
       "      <td>2997.092306</td>\n",
       "      <td>18717.0</td>\n",
       "      <td>GP</td>\n",
       "    </tr>\n",
       "  </tbody>\n",
       "</table>\n",
       "</div>"
      ],
      "text/plain": [
       "       Unnamed: 0          Tc_h  appear_time  child1  child2  division_time  \\\n",
       "18713       18713     72.603147    89.419458     NaN     NaN      92.444589   \n",
       "18714       18714      0.000000    89.263217     NaN     NaN            inf   \n",
       "18715       18715      0.000000    89.263217     NaN     NaN            inf   \n",
       "18716       18716  60855.675407    89.450273     NaN     NaN    2625.103415   \n",
       "18717       18717  69783.408792    89.450273     NaN     NaN    2997.092306   \n",
       "\n",
       "         index         type  \n",
       "18713  18713.0           IP  \n",
       "18714  18714.0  PostMitotic  \n",
       "18715  18715.0  PostMitotic  \n",
       "18716  18716.0           GP  \n",
       "18717  18717.0           GP  "
      ]
     },
     "execution_count": 12,
     "metadata": {},
     "output_type": "execute_result"
    }
   ],
   "source": [
    "df.tail()"
   ]
  },
  {
   "cell_type": "code",
   "execution_count": 18,
   "metadata": {},
   "outputs": [
    {
     "data": {
      "text/plain": [
       "True"
      ]
     },
     "execution_count": 18,
     "metadata": {},
     "output_type": "execute_result"
    }
   ],
   "source": [
    "pd.isna(df.iloc[-1][\"child1\"])"
   ]
  },
  {
   "cell_type": "code",
   "execution_count": 39,
   "metadata": {},
   "outputs": [],
   "source": [
    "class TmpCell:\n",
    "    def __init__(self, appear_time, cell_type: str, children: list = []):\n",
    "        if len(children) == 2:\n",
    "            self._type = O(name=\"Progenitor\")\n",
    "        elif cell_type == \"PostMitotic\":\n",
    "            self._type = O(name=\"PostMitotic\")\n",
    "        else:\n",
    "            self._type = O(name=\"Cell\")\n",
    "        \n",
    "        self.children = children\n",
    "        self.appear_time = appear_time\n",
    "        \n",
    "    def type(self):\n",
    "        return self._type"
   ]
  },
  {
   "cell_type": "code",
   "execution_count": 36,
   "metadata": {},
   "outputs": [],
   "source": [
    "def build_population(df):\n",
    "    population = dict()\n",
    "    for i, row in df.iterrows():\n",
    "        children = list(map(int, filter(lambda x: not pd.isna(x), [row[\"child1\"], row[\"child2\"]])))\n",
    "        population[int(row[\"index\"])] = TmpCell(row[\"appear_time\"], row[\"type\"], children)\n",
    "        \n",
    "    return population"
   ]
  },
  {
   "cell_type": "code",
   "execution_count": 5,
   "metadata": {},
   "outputs": [],
   "source": [
    "def fate_corr(cell_pairs, kC=\"Progenitor\", kN=\"PostMitotic\"):\n",
    "    counts = Counter(cell_pairs)\n",
    "    \n",
    "    CC, CN, NN = counts[(kC, kC)], counts[(kN, kC)] + counts[(kC, kN)], counts[(kN, kN)]\n",
    "    T = CC + CN + NN\n",
    "    pCC, pCN, pNN = CC / T, CN / T, NN / T\n",
    "    all_C, all_N = 2 * CC + CN, 2 * NN + CN\n",
    "    pC, pN = all_C / (T * 2), all_N / (T * 2)\n",
    "    eCC, eCN, eNN = pC**2, 2*pC*pN, pN**2\n",
    "    f_metric = 1 - pCN / eCN\n",
    "    return f_metric"
   ]
  },
  {
   "cell_type": "code",
   "execution_count": 24,
   "metadata": {},
   "outputs": [],
   "source": [
    "def get_fmetric_pairs(population, min_time=50, max_time=60):\n",
    "    \"\"\" This function is only valid for GRNCells\"\"\"\n",
    "    cells_in_window = [c for c in population.values() \n",
    "                       if c.appear_time >= min_time and c.appear_time < max_time]\n",
    "    cells_divided = [c for c in cells_in_window if c.type().name == \"Progenitor\"]\n",
    "    final_cells = list(filter(lambda x: all_daughter_defined(x, population), cells_divided))\n",
    "    \n",
    "    return pairs(final_cells, population)"
   ]
  },
  {
   "cell_type": "code",
   "execution_count": 7,
   "metadata": {},
   "outputs": [],
   "source": [
    "def pairs(cells, population):\n",
    "    return [tuple(population[x].type().name for x in cell.children) for cell in cells]"
   ]
  },
  {
   "cell_type": "code",
   "execution_count": 43,
   "metadata": {},
   "outputs": [],
   "source": [
    "def all_daughter_defined(cell, population):\n",
    "    \"\"\" Warning : the word Cell must correspond to an unknown type\"\"\"\n",
    "    if not len(cell.children) == 2:\n",
    "        return False\n",
    "    \n",
    "    for daughter_id in cell.children:\n",
    "        if population[daughter_id].type().name == \"Cell\":\n",
    "            return False\n",
    "    return True"
   ]
  },
  {
   "cell_type": "code",
   "execution_count": 40,
   "metadata": {},
   "outputs": [],
   "source": [
    "population = build_population(df)"
   ]
  },
  {
   "cell_type": "code",
   "execution_count": 41,
   "metadata": {},
   "outputs": [],
   "source": [
    "cell_pairs = get_fmetric_pairs(population)"
   ]
  },
  {
   "cell_type": "code",
   "execution_count": 42,
   "metadata": {},
   "outputs": [
    {
     "data": {
      "text/plain": [
       "0.6756766016234643"
      ]
     },
     "execution_count": 42,
     "metadata": {},
     "output_type": "execute_result"
    }
   ],
   "source": [
    "fate_corr(cell_pairs)"
   ]
  },
  {
   "cell_type": "code",
   "execution_count": 45,
   "metadata": {},
   "outputs": [],
   "source": [
    "a = dict(x=9, y=12)\n",
    "b = dict(x=2, y=1)"
   ]
  },
  {
   "cell_type": "code",
   "execution_count": 49,
   "metadata": {},
   "outputs": [],
   "source": [
    "res = dict(pd.DataFrame([a, b]).mean())"
   ]
  },
  {
   "cell_type": "code",
   "execution_count": 51,
   "metadata": {},
   "outputs": [
    {
     "data": {
      "text/html": [
       "<div>\n",
       "<style scoped>\n",
       "    .dataframe tbody tr th:only-of-type {\n",
       "        vertical-align: middle;\n",
       "    }\n",
       "\n",
       "    .dataframe tbody tr th {\n",
       "        vertical-align: top;\n",
       "    }\n",
       "\n",
       "    .dataframe thead th {\n",
       "        text-align: right;\n",
       "    }\n",
       "</style>\n",
       "<table border=\"1\" class=\"dataframe\">\n",
       "  <thead>\n",
       "    <tr style=\"text-align: right;\">\n",
       "      <th></th>\n",
       "      <th>x</th>\n",
       "      <th>y</th>\n",
       "    </tr>\n",
       "  </thead>\n",
       "  <tbody>\n",
       "    <tr>\n",
       "      <th>0</th>\n",
       "      <td>5.5</td>\n",
       "      <td>6.5</td>\n",
       "    </tr>\n",
       "  </tbody>\n",
       "</table>\n",
       "</div>"
      ],
      "text/plain": [
       "     x    y\n",
       "0  5.5  6.5"
      ]
     },
     "execution_count": 51,
     "metadata": {},
     "output_type": "execute_result"
    }
   ],
   "source": [
    "pd.DataFrame([res])"
   ]
  },
  {
   "cell_type": "code",
   "execution_count": 56,
   "metadata": {},
   "outputs": [],
   "source": [
    "pd.Series(res).to_csv(\"tmp.csv\")"
   ]
  },
  {
   "cell_type": "code",
   "execution_count": 59,
   "metadata": {},
   "outputs": [],
   "source": [
    "ad = pd.read_csv(\"tmp.csv\", index_col=0)"
   ]
  },
  {
   "cell_type": "code",
   "execution_count": 60,
   "metadata": {},
   "outputs": [
    {
     "data": {
      "text/html": [
       "<div>\n",
       "<style scoped>\n",
       "    .dataframe tbody tr th:only-of-type {\n",
       "        vertical-align: middle;\n",
       "    }\n",
       "\n",
       "    .dataframe tbody tr th {\n",
       "        vertical-align: top;\n",
       "    }\n",
       "\n",
       "    .dataframe thead th {\n",
       "        text-align: right;\n",
       "    }\n",
       "</style>\n",
       "<table border=\"1\" class=\"dataframe\">\n",
       "  <thead>\n",
       "    <tr style=\"text-align: right;\">\n",
       "      <th></th>\n",
       "      <th>0</th>\n",
       "    </tr>\n",
       "  </thead>\n",
       "  <tbody>\n",
       "    <tr>\n",
       "      <th>x</th>\n",
       "      <td>5.5</td>\n",
       "    </tr>\n",
       "    <tr>\n",
       "      <th>y</th>\n",
       "      <td>6.5</td>\n",
       "    </tr>\n",
       "  </tbody>\n",
       "</table>\n",
       "</div>"
      ],
      "text/plain": [
       "     0\n",
       "x  5.5\n",
       "y  6.5"
      ]
     },
     "execution_count": 60,
     "metadata": {},
     "output_type": "execute_result"
    }
   ],
   "source": [
    "ad"
   ]
  },
  {
   "cell_type": "code",
   "execution_count": 64,
   "metadata": {},
   "outputs": [
    {
     "data": {
      "text/plain": [
       "{'x': 5.5, 'y': 6.5}"
      ]
     },
     "execution_count": 64,
     "metadata": {},
     "output_type": "execute_result"
    }
   ],
   "source": [
    "dict(ad[\"0\"])"
   ]
  }
 ],
 "metadata": {
  "kernelspec": {
   "display_name": "Python 3",
   "language": "python",
   "name": "python3"
  },
  "language_info": {
   "codemirror_mode": {
    "name": "ipython",
    "version": 3
   },
   "file_extension": ".py",
   "mimetype": "text/x-python",
   "name": "python",
   "nbconvert_exporter": "python",
   "pygments_lexer": "ipython3",
   "version": "3.8.10"
  }
 },
 "nbformat": 4,
 "nbformat_minor": 4
}
