{
 "cells": [
  {
   "cell_type": "markdown",
   "metadata": {},
   "source": [
    "# Goal : implementing multiprocessing"
   ]
  },
  {
   "cell_type": "code",
   "execution_count": 1,
   "metadata": {},
   "outputs": [],
   "source": [
    "import os\n",
    "os.environ[\"XLA_PYTHON_CLIENT_MEM_FRACTION\"] = \".20\""
   ]
  },
  {
   "cell_type": "code",
   "execution_count": 2,
   "metadata": {},
   "outputs": [],
   "source": [
    "import pandas as pd\n",
    "from model import Brain\n",
    "from submodels import factories\n",
    "import matplotlib.pyplot as plt\n",
    "import pandas as pd\n",
    "from itertools import accumulate\n",
    "import numpy as np\n",
    "from collections import defaultdict\n",
    "\n",
    "from jf.db import DB\n",
    "from lib.plot import plot_2d_positions_colors\n",
    "from lib.sde.grn2 import GRNMain2\n",
    "from lib.sde.mutate import mutate_grn2\n",
    "from lib.ga.utils import weighted_selection\n",
    "from lib.ga.objective import Objective\n",
    "from jf.profiler import Profiler\n",
    "from jf.utils.export import Exporter\n",
    "from jf.autocompute.jf import O"
   ]
  },
  {
   "cell_type": "code",
   "execution_count": 3,
   "metadata": {},
   "outputs": [],
   "source": [
    "HISTORY = defaultdict(dict)\n",
    "HALL_OF_FAME = []"
   ]
  },
  {
   "cell_type": "code",
   "execution_count": 4,
   "metadata": {},
   "outputs": [],
   "source": [
    "REF = pd.read_csv(\"output/results/setup_basic/export/ref_basic2.csv\")  # ref is a mean"
   ]
  },
  {
   "cell_type": "code",
   "execution_count": 5,
   "metadata": {},
   "outputs": [],
   "source": [
    "def indiv_gen_provider(n=1):\n",
    "    mutate_func = mutation_func_provider(n)\n",
    "    def individual_generator():\n",
    "        return Solution(GRNMain2(5, 0, 5), mutate_func)\n",
    "    return individual_generator"
   ]
  },
  {
   "cell_type": "code",
   "execution_count": 6,
   "metadata": {},
   "outputs": [],
   "source": [
    "def mutation_func_provider(n=1):\n",
    "    def mutate_grn(grn):\n",
    "        for i in range(n):\n",
    "            mutate_grn2(grn)\n",
    "    return mutate_grn"
   ]
  },
  {
   "cell_type": "code",
   "execution_count": 7,
   "metadata": {},
   "outputs": [],
   "source": [
    "def r():\n",
    "    return np.random.uniform(0, 1)\n",
    "\n",
    "class Solution:\n",
    "    def __init__(self, grn, mutation_func):\n",
    "        self.grn = grn\n",
    "        self.mutation_func = mutation_func\n",
    "        \n",
    "    def copy(self):\n",
    "        return Solution(self.grn.copy(), self.mutation_func)\n",
    "        \n",
    "    def mutate(self):\n",
    "        self.mutation_func(self.grn)"
   ]
  },
  {
   "cell_type": "code",
   "execution_count": 8,
   "metadata": {},
   "outputs": [],
   "source": [
    "def shrink_and_align_stats(stats, ref, max_step=None, min_step=None):\n",
    "    min_data_step = max(min(stats.time), min(ref.time))\n",
    "    if min_step is None:\n",
    "        min_step = min_data_step\n",
    "    else:\n",
    "        min_step = max(min_step, min_data_step)\n",
    "\n",
    "    if max_step is None:\n",
    "        max_step = max(ref.time)\n",
    "    else:\n",
    "        max_step = min(max_step, max(ref.time))\n",
    "    \n",
    "    new_stats = stats[(stats.time >= min_step) & (stats.time <= max_step)].set_index(\"time\")\n",
    "    new_ref = ref[(ref.time >= min_step) & (ref.time <= max_step)].set_index(\"time\")\n",
    "    \n",
    "    return new_stats, new_ref"
   ]
  },
  {
   "cell_type": "code",
   "execution_count": 9,
   "metadata": {},
   "outputs": [],
   "source": [
    "def preprocess_progenitor_size(stats, ref):\n",
    "    colname_ref = \"progenitor_pop_size\"\n",
    "    colname_stats = \"progenitor_pop_size\"\n",
    "    \n",
    "    min_step = min(ref.index)  # ref.index is the time\n",
    "    stats[colname_stats] = stats[colname_stats] / stats[colname_stats].get(min_step)\n",
    "    ref[colname_ref] = ref[colname_ref] / ref[colname_ref].get(min_step)\n",
    "    x = [ref[colname_ref].get(t, 0) for t in ref.index]\n",
    "    y = [stats[colname_stats].get(t, 0) for t in ref.index]\n",
    "    return x, y\n",
    "\n",
    "def preprocess_whole_size(stats, ref):\n",
    "    colname_ref = \"whole_pop_size\"\n",
    "    colname_stats = \"whole_pop_size\"\n",
    "    \n",
    "    min_step = min(ref.index)  # ref.index is the time\n",
    "    stats[colname_stats] = stats[colname_stats] / stats[colname_stats].get(min_step)\n",
    "    ref[colname_ref] = ref[colname_ref] / ref[colname_ref].get(min_step)\n",
    "    x = [ref[colname_ref].get(t, 0) for t in ref.index]\n",
    "    y = [stats[colname_stats].get(t, 0) for t in ref.index]\n",
    "    return x, y"
   ]
  },
  {
   "cell_type": "code",
   "execution_count": 10,
   "metadata": {},
   "outputs": [],
   "source": [
    "def score_coefficient_variation(x, y):\n",
    "    return sum([(x_ - y_)**2 / x_ for x_, y_ in zip(x, y)])"
   ]
  },
  {
   "cell_type": "code",
   "execution_count": 11,
   "metadata": {},
   "outputs": [],
   "source": [
    "def score_progenitor_size(stats, ref, max_step=None, min_step=None):\n",
    "    stats, ref = shrink_and_align_stats(stats, ref, max_step, min_step)\n",
    "    x, y = preprocess_progenitor_size(stats, ref)\n",
    "    return score_coefficient_variation(x, y)\n",
    "\n",
    "def score_whole_size(stats, ref, max_step=None, min_step=None):\n",
    "    stats, ref = shrink_and_align_stats(stats, ref, max_step, min_step)\n",
    "    x, y = preprocess_whole_size(stats, ref)\n",
    "    return score_coefficient_variation(x, y)\n",
    "\n",
    "def score_both_size(stats, ref, max_step=None, min_step=None):\n",
    "    return score_progenitor_size(stats, ref, max_step, min_step) \\\n",
    "            + score_whole_size(stats, ref, max_step, min_step)"
   ]
  },
  {
   "cell_type": "code",
   "execution_count": 12,
   "metadata": {},
   "outputs": [],
   "source": [
    "def run_grn(prun, grn):\n",
    "    get_bb(prun, grn)\n",
    "    bb.run()\n",
    "    return bb"
   ]
  },
  {
   "cell_type": "code",
   "execution_count": 13,
   "metadata": {},
   "outputs": [],
   "source": [
    "def get_bb(prun, grn):\n",
    "    ccls = factories[\"grn2_opti\"](grn=grn)\n",
    "    bb = Brain(time_step=0.125, verbose=False, start_population=5, max_pop_size=1e3,\n",
    "            cell_cls=ccls, end_time=prun.end_time, start_time=50, silent=True)\n",
    "    return bb"
   ]
  },
  {
   "cell_type": "code",
   "execution_count": 14,
   "metadata": {},
   "outputs": [],
   "source": [
    "def fitness_func(prun, grn, score_func):\n",
    "    bb = run_grn(prun, grn)\n",
    "    output = score_func(bb.stats, REF, max_step=prun.end_time)\n",
    "    fitness = 1.0 / output\n",
    "    return fitness"
   ]
  },
  {
   "cell_type": "code",
   "execution_count": 15,
   "metadata": {},
   "outputs": [],
   "source": [
    "def fitness_multistep(prun, grn, steps):\n",
    "    total_fitness = 0\n",
    "    stop = False\n",
    "    previous_time = None\n",
    "    bb = get_bb(prun, grn)\n",
    "    # first step\n",
    "    for step in steps:\n",
    "        if not bb.run_until(step.end_time):\n",
    "            stop = True\n",
    "        score_step = score_both_size(bb.stats, prun.ref, max_step=step.end_time, min_step=previous_time)\n",
    "        fitness_step = 1.0 / score_step\n",
    "        fitness_step = min(fitness_step, step.max_fitness)\n",
    "        total_fitness += fitness_step\n",
    "        if fitness_step < step.min_fitness or stop:\n",
    "            return total_fitness, bb.stats\n",
    "        previous_time = step.end_time\n",
    "        \n",
    "    return total_fitness, bb.stats\n",
    "\n",
    "def score_multistep(prun, stats, steps):\n",
    "    total_fitness = 0\n",
    "    stop = False\n",
    "    previous_time = None\n",
    "    # first step\n",
    "    for step in steps:\n",
    "        score_step = score_both_size(stats, prun.ref, max_step=step.end_time, min_step=previous_time)\n",
    "        fitness_step = 1.0 / score_step\n",
    "        fitness_step = min(fitness_step, step.max_fitness)\n",
    "        total_fitness += fitness_step\n",
    "        if fitness_step < step.min_fitness or stop:\n",
    "            return total_fitness\n",
    "        previous_time = step.end_time\n",
    "        \n",
    "    return total_fitness"
   ]
  },
  {
   "cell_type": "code",
   "execution_count": 16,
   "metadata": {},
   "outputs": [],
   "source": [
    "def mean_sd_fitness(prun, grn, run=3):\n",
    "    fitnesses = [fitness_multistep(prun, grn) for i in range(run)]\n",
    "    return np.mean(fitnesses), np.std(fitnesses)"
   ]
  },
  {
   "cell_type": "code",
   "execution_count": 17,
   "metadata": {},
   "outputs": [],
   "source": [
    "def do_init_pop(prun):\n",
    "    return [prun.individual_generator() for i in range(prun.pop_size)]\n",
    "\n",
    "def do_fitness(prun, pop):\n",
    "    # fitness = [fitness_func(prun, sol.grn, score_func) for sol in pop]\n",
    "    # fitness = [fitness_strategy(prun, sol.grn) for sol in pop]\n",
    "    fitness, stats = zip(*[fitness_multistep(prun, sol.grn, prun.steps) for sol in pop])\n",
    "    return fitness, stats\n",
    "\n",
    "def do_selection(prun, pop_fit, pop):\n",
    "    # print(\"Fit score : \", pop_fit)\n",
    "    acc = list(accumulate(pop_fit))\n",
    "    best = max(pop_fit)\n",
    "    best_id = pop_fit.index(best)\n",
    "    \n",
    "    # print(\"Total fitness :\", acc[-1])\n",
    "    \n",
    "    pop_sel, history_sel = weighted_selection(pop, pop_fit, prun.individual_generator, new_fitness=0.3)\n",
    "        \n",
    "    return pop_sel, history_sel, best_id\n",
    "\n",
    "def do_mutation(prun, pop_sel):\n",
    "    [p.mutate() for p in pop_sel]\n",
    "    return pop_sel"
   ]
  },
  {
   "cell_type": "code",
   "execution_count": 18,
   "metadata": {},
   "outputs": [],
   "source": [
    "class ObjectiveStep(O):\n",
    "    end_time = 0\n",
    "    max_fitness = 4\n",
    "    min_fitness = 1\n",
    "    \n",
    "example_steps = [\n",
    "    ObjectiveStep(end_time=53),\n",
    "    ObjectiveStep(end_time=56),\n",
    "    ObjectiveStep(end_time=59),\n",
    "    ObjectiveStep(end_time=62),\n",
    "    ObjectiveStep(end_time=65),\n",
    "    ObjectiveStep(end_time=68),\n",
    "    ObjectiveStep(end_time=71),\n",
    "    ObjectiveStep(end_time=74),\n",
    "    ObjectiveStep(end_time=77),\n",
    "    ObjectiveStep(end_time=80),\n",
    "    ObjectiveStep(end_time=83),\n",
    "    ObjectiveStep(end_time=86)\n",
    "]\n",
    "\n",
    "class ParamRun(O):\n",
    "    pop_size = 10\n",
    "    n_gen = 30\n",
    "    current_gen = 0\n",
    "    end_time = 83\n",
    "    ref = REF\n",
    "\n",
    "args = ParamRun()\n",
    "args.steps = example_steps"
   ]
  },
  {
   "cell_type": "code",
   "execution_count": 19,
   "metadata": {},
   "outputs": [],
   "source": [
    "def main(prun):\n",
    "    # exporter = Exporter()\n",
    "    best = 0\n",
    "    pop = do_init_pop(prun)\n",
    "    for generation in range(prun.n_gen):\n",
    "        # args.generation = generation\n",
    "        # objective.new_trial()\n",
    "        fit, stats = do_fitness(prun, pop)\n",
    "        # objective.best_current(max(fit))\n",
    "        \n",
    "        # TODO get the stats associated with the best scores\n",
    "        sel, history_sel, best_id = do_selection(prun, fit, pop)\n",
    "        if fit[best_id] > best:\n",
    "            # print(f\"++ Best {fit[best_id]}\")\n",
    "            best = fit[best_id]\n",
    "            \n",
    "        pop = do_mutation(prun, sel)\n",
    "        \n",
    "        if best > 10:\n",
    "            break\n",
    "            \n",
    "    print(generation)\n",
    "    return generation"
   ]
  },
  {
   "cell_type": "code",
   "execution_count": 20,
   "metadata": {},
   "outputs": [
    {
     "name": "stdout",
     "output_type": "stream",
     "text": [
      "23\n",
      "4\n",
      "9\n",
      "17\n",
      "10\n",
      "22\n",
      "29\n",
      "2\n",
      "10\n",
      "29\n"
     ]
    }
   ],
   "source": [
    "args.individual_generator = indiv_gen_provider(1)\n",
    "res_1 = [main(args) for i in range(10)]"
   ]
  },
  {
   "cell_type": "code",
   "execution_count": 21,
   "metadata": {},
   "outputs": [
    {
     "name": "stdout",
     "output_type": "stream",
     "text": [
      "10\n",
      "9\n",
      "6\n",
      "1\n",
      "5\n",
      "27\n",
      "6\n",
      "19\n",
      "2\n",
      "29\n"
     ]
    }
   ],
   "source": [
    "args.individual_generator = indiv_gen_provider(2)\n",
    "res_2 = [main(args) for i in range(10)]"
   ]
  },
  {
   "cell_type": "code",
   "execution_count": 22,
   "metadata": {},
   "outputs": [
    {
     "name": "stdout",
     "output_type": "stream",
     "text": [
      "12\n",
      "14\n",
      "11\n",
      "21\n",
      "22\n",
      "27\n",
      "5\n",
      "15\n",
      "13\n",
      "1\n"
     ]
    }
   ],
   "source": [
    "args.individual_generator = indiv_gen_provider(3)\n",
    "res_3 = [main(args) for i in range(10)]"
   ]
  },
  {
   "cell_type": "code",
   "execution_count": 23,
   "metadata": {},
   "outputs": [
    {
     "name": "stdout",
     "output_type": "stream",
     "text": [
      "19\n",
      "4\n",
      "5\n",
      "1\n",
      "9\n",
      "7\n",
      "4\n",
      "7\n",
      "1\n",
      "9\n"
     ]
    }
   ],
   "source": [
    "args.individual_generator = indiv_gen_provider(5)\n",
    "res_5 = [main(args) for i in range(10)]"
   ]
  },
  {
   "cell_type": "code",
   "execution_count": 26,
   "metadata": {},
   "outputs": [
    {
     "data": {
      "text/plain": [
       "[[23, 4, 9, 17, 10, 22, 29, 2, 10, 29],\n",
       " [10, 9, 6, 1, 5, 27, 6, 19, 2, 29],\n",
       " [12, 14, 11, 21, 22, 27, 5, 15, 13, 1],\n",
       " [19, 4, 5, 1, 9, 7, 4, 7, 1, 9]]"
      ]
     },
     "execution_count": 26,
     "metadata": {},
     "output_type": "execute_result"
    }
   ],
   "source": [
    "all_res = [res_1, res_2, res_3, res_5]\n",
    "all_res"
   ]
  },
  {
   "cell_type": "code",
   "execution_count": 27,
   "metadata": {},
   "outputs": [
    {
     "name": "stdout",
     "output_type": "stream",
     "text": [
      "15.5 \t 9.394147114027968\n",
      "11.4 \t 9.562426470305537\n",
      "14.1 \t 7.395268757793729\n",
      "6.6 \t 4.94368283772331\n"
     ]
    }
   ],
   "source": [
    "for res in all_res:\n",
    "    print(np.mean(res), \"\\t\", np.std(res))"
   ]
  },
  {
   "cell_type": "markdown",
   "metadata": {},
   "source": [
    "Conclusion : 1 appears to be the less efficient, while 5 appears the most. However, the value of 2 and 3 seems inconsistent with the fact that the more (below 5) there are mutations, the quicker it converges.\n",
    "But we have to keep in mind that the population was small here and that the number of genes also.\n",
    "That's why I suggest putting a variable mutation rate as a poisson function for a value that scales with the number of genes"
   ]
  },
  {
   "cell_type": "code",
   "execution_count": 31,
   "metadata": {},
   "outputs": [],
   "source": [
    "import sys\n",
    "from pathlib import Path as P"
   ]
  },
  {
   "cell_type": "code",
   "execution_count": 36,
   "metadata": {},
   "outputs": [],
   "source": [
    "def is_local_module(module):\n",
    "    try:\n",
    "        root = str(P(os.path.realpath(__file__)).parent)\n",
    "    except NameError:\n",
    "        root = str(os.getcwd())\n",
    "    try:\n",
    "        res = str(module.__file__).startswith(root)\n",
    "    except AttributeError:\n",
    "        res = False\n",
    "        \n",
    "    return res\n"
   ]
  },
  {
   "cell_type": "code",
   "execution_count": 37,
   "metadata": {},
   "outputs": [],
   "source": [
    "local_modules = list(filter(lambda x: is_local_module(x), sys.modules.values()))"
   ]
  },
  {
   "cell_type": "code",
   "execution_count": 39,
   "metadata": {},
   "outputs": [
    {
     "data": {
      "text/plain": [
       "<module 'lib' from '/home/nathan/other/thesis_nathan/EmbryonicCortexModelling/grn/lib/__init__.py'>"
      ]
     },
     "execution_count": 39,
     "metadata": {},
     "output_type": "execute_result"
    }
   ],
   "source": [
    "local_modules[0]"
   ]
  },
  {
   "cell_type": "code",
   "execution_count": 40,
   "metadata": {},
   "outputs": [],
   "source": [
    "mod = local_modules[0]"
   ]
  },
  {
   "cell_type": "code",
   "execution_count": 44,
   "metadata": {},
   "outputs": [
    {
     "data": {
      "text/plain": [
       "'/home/nathan/other/thesis_nathan/EmbryonicCortexModelling/grn/lib/__init__.py'"
      ]
     },
     "execution_count": 44,
     "metadata": {},
     "output_type": "execute_result"
    }
   ],
   "source": [
    "import inspect\n",
    "inspect.getsourcefile(mod)"
   ]
  }
 ],
 "metadata": {
  "kernelspec": {
   "display_name": "Python 3",
   "language": "python",
   "name": "python3"
  },
  "language_info": {
   "codemirror_mode": {
    "name": "ipython",
    "version": 3
   },
   "file_extension": ".py",
   "mimetype": "text/x-python",
   "name": "python",
   "nbconvert_exporter": "python",
   "pygments_lexer": "ipython3",
   "version": "3.8.10"
  }
 },
 "nbformat": 4,
 "nbformat_minor": 4
}
