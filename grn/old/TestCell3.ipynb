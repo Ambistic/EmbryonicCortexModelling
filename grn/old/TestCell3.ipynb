{
 "cells": [
  {
   "cell_type": "code",
   "execution_count": 1,
   "metadata": {},
   "outputs": [],
   "source": [
    "from lib.sde.cell3 import Cell3, CellBatch3\n",
    "from lib.sde.grn3 import GRNMain3, ParamGene3\n",
    "import numpy as np\n",
    "import jax.numpy as jnp"
   ]
  },
  {
   "cell_type": "code",
   "execution_count": 2,
   "metadata": {},
   "outputs": [],
   "source": [
    "grn = GRNMain3(2, 0, 0)\n",
    "grn._params = np.array(\n",
    "    [[0.34922326, 0.438748  ],\n",
    "     [7.5721583 , 2.001825  ],\n",
    "     [7.615428  , 8.380326  ],\n",
    "     [3.8867943 , 7.3130646 ],\n",
    "     [3.710491  , 8.649075  ],\n",
    "     [7.5654016 , 0.93269396],\n",
    "     [6.519226  , 8.221411  ]]\n",
    ")\n",
    "# tree must be also set ?\n",
    "grn.compile()"
   ]
  },
  {
   "cell_type": "code",
   "execution_count": 3,
   "metadata": {},
   "outputs": [],
   "source": [
    "c = Cell3(grn=grn)"
   ]
  },
  {
   "cell_type": "code",
   "execution_count": 4,
   "metadata": {},
   "outputs": [
    {
     "data": {
      "text/plain": [
       "{'grn': >> G_0: init: 0.35; noise: 7.57; b: 7.62; m: 3.89; expr: 3.71; deg: 7.57; theta: 6.52; tree : 0\n",
       " >> G_1: init: 0.44; noise: 2.00; b: 8.38; m: 7.31; expr: 8.65; deg: 0.93; theta: 8.22; tree : (NOT 1 AND 0),\n",
       " 'quantities': DeviceArray([0.5092498 , 0.07729276], dtype=float32),\n",
       " 'activation': DeviceArray([0., 0.], dtype=float32),\n",
       " 'expression': DeviceArray([0., 0.], dtype=float32),\n",
       " 'derivative': DeviceArray([0., 0.], dtype=float32)}"
      ]
     },
     "execution_count": 4,
     "metadata": {},
     "output_type": "execute_result"
    }
   ],
   "source": [
    "c.__dict__"
   ]
  },
  {
   "cell_type": "code",
   "execution_count": 5,
   "metadata": {},
   "outputs": [],
   "source": [
    "c.run_step()"
   ]
  },
  {
   "cell_type": "code",
   "execution_count": 6,
   "metadata": {},
   "outputs": [
    {
     "data": {
      "text/plain": [
       "{'grn': >> G_0: init: 0.35; noise: 7.57; b: 7.62; m: 3.89; expr: 3.71; deg: 7.57; theta: 6.52; tree : 0\n",
       " >> G_1: init: 0.44; noise: 2.00; b: 8.38; m: 7.31; expr: 8.65; deg: 0.93; theta: 8.22; tree : (NOT 1 AND 0),\n",
       " 'quantities': DeviceArray([0.43287706, 0.35237017], dtype=float32),\n",
       " 'activation': DeviceArray([0.7017571, 0.5516028], dtype=float32),\n",
       " 'expression': DeviceArray([0.7017571, 0.3146659], dtype=float32),\n",
       " 'derivative': DeviceArray([-1.248816 ,  2.6494787], dtype=float32)}"
      ]
     },
     "execution_count": 6,
     "metadata": {},
     "output_type": "execute_result"
    }
   ],
   "source": [
    "c.__dict__"
   ]
  },
  {
   "cell_type": "code",
   "execution_count": 7,
   "metadata": {},
   "outputs": [],
   "source": [
    "# run step does something\n",
    "# noise does something\n",
    "# expr and deg does something\n",
    "# init works"
   ]
  },
  {
   "cell_type": "code",
   "execution_count": 8,
   "metadata": {},
   "outputs": [],
   "source": [
    "def test_cell_step(cell):\n",
    "    x = cell.quantities.copy()\n",
    "    cell.run_step()\n",
    "    assert (x != cell.quantities).any()\n",
    "\n",
    "test_cell_step(c)"
   ]
  },
  {
   "cell_type": "code",
   "execution_count": 9,
   "metadata": {},
   "outputs": [],
   "source": [
    "def run_test_cell_param(grn, id_to_check):\n",
    "    # 1 is noise\n",
    "    def_quant = jnp.array([0.5, 0.5])\n",
    "    grn1 = grn.copy()\n",
    "    grn1._params = np.array(grn1._params)\n",
    "    grn1._params[1, :] = np.array([0, 0])\n",
    "    grn1._params[id_to_check, :] = np.array([0, 0])\n",
    "    \n",
    "    grn2 = grn.copy()\n",
    "    grn2._params = np.array(grn2._params)\n",
    "    grn2._params[1, :] = np.array([0, 0])\n",
    "    grn2._params[id_to_check, :] = np.array([1, 1])\n",
    "    \n",
    "    cell1 = Cell3(grn1)\n",
    "    cell1.quantities = def_quant\n",
    "    \n",
    "    cell2 = Cell3(grn1)\n",
    "    cell2.quantities = def_quant\n",
    "\n",
    "    cell3 = Cell3(grn2)\n",
    "    cell3.quantities = def_quant\n",
    "\n",
    "    cell1.run_step(), cell2.run_step(), cell3.run_step()\n",
    "    assert (cell1.quantities == cell2.quantities).all()\n",
    "    assert not (cell1.quantities == cell3.quantities).all()\n",
    "    \n",
    "def test_cell_params(grn):\n",
    "    for i in range(1, 7):\n",
    "        run_test_cell_param(grn, 1)\n",
    "    \n",
    "test_cell_params(grn)"
   ]
  },
  {
   "cell_type": "code",
   "execution_count": 10,
   "metadata": {},
   "outputs": [],
   "source": [
    "batch = CellBatch3([c])"
   ]
  },
  {
   "cell_type": "code",
   "execution_count": 11,
   "metadata": {},
   "outputs": [
    {
     "data": {
      "text/plain": [
       "DeviceArray([0.31717312, 0.55876344], dtype=float32)"
      ]
     },
     "execution_count": 11,
     "metadata": {},
     "output_type": "execute_result"
    }
   ],
   "source": [
    "c.quantities"
   ]
  },
  {
   "cell_type": "code",
   "execution_count": 12,
   "metadata": {},
   "outputs": [],
   "source": [
    "batch.run_step()"
   ]
  },
  {
   "cell_type": "code",
   "execution_count": 13,
   "metadata": {},
   "outputs": [
    {
     "data": {
      "text/plain": [
       "DeviceArray([0.06982404, 0.62264025], dtype=float32)"
      ]
     },
     "execution_count": 13,
     "metadata": {},
     "output_type": "execute_result"
    }
   ],
   "source": [
    "c.quantities"
   ]
  },
  {
   "cell_type": "code",
   "execution_count": 14,
   "metadata": {},
   "outputs": [],
   "source": [
    "def test_cell_step_batch(cell):\n",
    "    x = cell.quantities.copy()\n",
    "    batch = CellBatch3([c])\n",
    "    batch.run_step()\n",
    "    assert (x != cell.quantities).any()\n",
    "\n",
    "test_cell_step_batch(c)"
   ]
  },
  {
   "cell_type": "code",
   "execution_count": 16,
   "metadata": {},
   "outputs": [],
   "source": [
    "def run_test_cell_param_batch(grn, id_to_check):\n",
    "    # 1 is noise\n",
    "    def_quant = jnp.array([0.5, 0.5])\n",
    "    grn1 = grn.copy()\n",
    "    grn1._params = np.array(grn1._params)\n",
    "    grn1._params[1, :] = np.array([0, 0])\n",
    "    grn1._params[id_to_check, :] = np.array([0, 0])\n",
    "    \n",
    "    grn2 = grn.copy()\n",
    "    grn2._params = np.array(grn2._params)\n",
    "    grn2._params[1, :] = np.array([0, 0])\n",
    "    grn2._params[id_to_check, :] = np.array([1, 1])\n",
    "    \n",
    "    cell1 = Cell3(grn1)\n",
    "    cell1.quantities = def_quant\n",
    "    batch1 = CellBatch3([cell1])\n",
    "    \n",
    "    cell2 = Cell3(grn1)\n",
    "    cell2.quantities = def_quant\n",
    "    batch2 = CellBatch3([cell2])\n",
    "\n",
    "    cell3 = Cell3(grn2)\n",
    "    cell3.quantities = def_quant\n",
    "    batch3 = CellBatch3([cell3])\n",
    "\n",
    "    batch1.run_step(), batch2.run_step(), batch3.run_step()\n",
    "    assert (cell1.quantities == cell2.quantities).all()\n",
    "    assert not (cell1.quantities == cell3.quantities).all()\n",
    "    \n",
    "def test_cell_params_batch(grn):\n",
    "    for i in range(1, 7):\n",
    "        run_test_cell_param_batch(grn, 1)\n",
    "    \n",
    "test_cell_params(grn)"
   ]
  },
  {
   "cell_type": "code",
   "execution_count": null,
   "metadata": {},
   "outputs": [],
   "source": []
  }
 ],
 "metadata": {
  "kernelspec": {
   "display_name": "Python 3",
   "language": "python",
   "name": "python3"
  },
  "language_info": {
   "codemirror_mode": {
    "name": "ipython",
    "version": 3
   },
   "file_extension": ".py",
   "mimetype": "text/x-python",
   "name": "python",
   "nbconvert_exporter": "python",
   "pygments_lexer": "ipython3",
   "version": "3.8.10"
  }
 },
 "nbformat": 4,
 "nbformat_minor": 4
}
