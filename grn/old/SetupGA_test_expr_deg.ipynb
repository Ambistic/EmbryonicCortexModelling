{
 "cells": [
  {
   "cell_type": "code",
   "execution_count": 1,
   "metadata": {},
   "outputs": [],
   "source": [
    "import os\n",
    "os.environ[\"XLA_PYTHON_CLIENT_MEM_FRACTION\"] = \".13\""
   ]
  },
  {
   "cell_type": "code",
   "execution_count": 2,
   "metadata": {},
   "outputs": [],
   "source": [
    "import pandas as pd\n",
    "from model import Brain\n",
    "from submodels import factories\n",
    "import matplotlib.pyplot as plt\n",
    "import pandas as pd\n",
    "from itertools import accumulate\n",
    "import numpy as np\n",
    "from collections import defaultdict\n",
    "import re\n",
    "\n",
    "from jf.db import DB\n",
    "from lib.score import fate_corr\n",
    "from lib.preprocess import get_fmetric_pairs\n",
    "from lib.sde.grn3 import GRNMain3\n",
    "from lib.sde.mutate import mutate_grn2\n",
    "from lib.ga.utils import weighted_selection\n",
    "from lib.ga.objective import Objective\n",
    "from jf.profiler import Profiler\n",
    "from jf.utils.export import Exporter\n",
    "from jf.autocompute.jf import O"
   ]
  },
  {
   "cell_type": "code",
   "execution_count": 3,
   "metadata": {},
   "outputs": [],
   "source": [
    "HISTORY = defaultdict(dict)\n",
    "HALL_OF_FAME = []"
   ]
  },
  {
   "cell_type": "code",
   "execution_count": 4,
   "metadata": {},
   "outputs": [],
   "source": [
    "REF = O(\n",
    "    stats=pd.read_csv(\"output/results/setup_basic/export/ref_basic2.csv\"),  # ref is a mean\n",
    "    # fmetric=setup_ref_fmetric(\"output/results/setup_basic/export/ref_fmetric_tristate.csv\"),\n",
    ")"
   ]
  },
  {
   "cell_type": "code",
   "execution_count": 5,
   "metadata": {},
   "outputs": [],
   "source": [
    "def individual_generator():\n",
    "    return Solution(GRNMain3(5, 0, 0))"
   ]
  },
  {
   "cell_type": "code",
   "execution_count": 6,
   "metadata": {},
   "outputs": [],
   "source": [
    "class Solution:\n",
    "    def __init__(self, grn):\n",
    "        self.grn = grn\n",
    "        \n",
    "    def copy(self):\n",
    "        return Solution(self.grn.copy())\n",
    "        \n",
    "    def mutate(self):\n",
    "        for i in range(1):\n",
    "            mutate_grn2(self.grn)\n",
    "        # here force values\n",
    "        self.grn.set_mutable()\n",
    "        self.grn._params[4, :] = 1\n",
    "        self.grn._params[5, :] = 0\n",
    "        self.grn.compile()"
   ]
  },
  {
   "cell_type": "code",
   "execution_count": 7,
   "metadata": {},
   "outputs": [
    {
     "data": {
      "text/plain": [
       ">> G_0: init: 0.21; noise: 7.92; b: 8.23; m: 9.50; expr: 1.00; deg: 0.00; theta: 1.90; tree : 0\n",
       ">> G_1: init: 0.21; noise: 2.04; b: 7.13; m: 2.86; expr: 1.00; deg: 0.00; theta: 3.64; tree : ((0 OR 4) OR 1)\n",
       ">> G_2: init: 1.71; noise: 0.28; b: 4.13; m: 7.65; expr: 1.00; deg: 0.00; theta: 7.29; tree : (1 OR 3)\n",
       ">> G_3: init: 0.03; noise: 3.76; b: 5.89; m: 7.23; expr: 1.00; deg: 0.00; theta: 4.68; tree : NOT 1\n",
       ">> G_4: init: 2.09; noise: 5.38; b: 4.29; m: 5.87; expr: 1.00; deg: 0.00; theta: 2.63; tree : 3"
      ]
     },
     "execution_count": 7,
     "metadata": {},
     "output_type": "execute_result"
    }
   ],
   "source": [
    "sol = individual_generator()\n",
    "sol.mutate()\n",
    "sol.grn"
   ]
  },
  {
   "cell_type": "code",
   "execution_count": 8,
   "metadata": {},
   "outputs": [],
   "source": [
    "def shrink_and_align_stats(stats, ref, max_step=None, min_step=None):\n",
    "    min_data_step = max(min(stats.time), min(ref.time))\n",
    "    if min_step is None:\n",
    "        min_step = min_data_step\n",
    "    else:\n",
    "        min_step = max(min_step, min_data_step)\n",
    "\n",
    "    if max_step is None:\n",
    "        max_step = max(ref.time)\n",
    "    else:\n",
    "        max_step = min(max_step, max(ref.time))\n",
    "    \n",
    "    new_stats = stats[(stats.time >= min_step) & (stats.time <= max_step)].set_index(\"time\")\n",
    "    new_ref = ref[(ref.time >= min_step) & (ref.time <= max_step)].set_index(\"time\")\n",
    "    \n",
    "    return new_stats, new_ref"
   ]
  },
  {
   "cell_type": "code",
   "execution_count": 9,
   "metadata": {},
   "outputs": [],
   "source": [
    "def preprocess_progenitor_size(stats, ref):\n",
    "    colname_ref = \"progenitor_pop_size\"\n",
    "    colname_stats = \"progenitor_pop_size\"\n",
    "    \n",
    "    min_step = min(ref.index)  # ref.index is the time\n",
    "    stats[colname_stats] = stats[colname_stats] / stats[colname_stats].get(min_step)\n",
    "    ref[colname_ref] = ref[colname_ref] / ref[colname_ref].get(min_step)\n",
    "    x = [ref[colname_ref].get(t, 0) for t in ref.index]\n",
    "    y = [stats[colname_stats].get(t, 0) for t in ref.index]\n",
    "    return x, y\n",
    "\n",
    "def preprocess_whole_size(stats, ref):\n",
    "    colname_ref = \"whole_pop_size\"\n",
    "    colname_stats = \"whole_pop_size\"\n",
    "    \n",
    "    min_step = min(ref.index)  # ref.index is the time\n",
    "    stats[colname_stats] = stats[colname_stats] / stats[colname_stats].get(min_step)\n",
    "    ref[colname_ref] = ref[colname_ref] / ref[colname_ref].get(min_step)\n",
    "    x = [ref[colname_ref].get(t, 0) for t in ref.index]\n",
    "    y = [stats[colname_stats].get(t, 0) for t in ref.index]\n",
    "    return x, y"
   ]
  },
  {
   "cell_type": "code",
   "execution_count": 10,
   "metadata": {},
   "outputs": [],
   "source": [
    "def score_coefficient_variation(x, y):\n",
    "    return sum([(x_ - y_)**2 / x_ for x_, y_ in zip(x, y)])"
   ]
  },
  {
   "cell_type": "code",
   "execution_count": 11,
   "metadata": {},
   "outputs": [],
   "source": [
    "def score_progenitor_size(stats, ref, max_step=None, min_step=None):\n",
    "    stats, ref = shrink_and_align_stats(stats, ref, max_step, min_step)\n",
    "    x, y = preprocess_progenitor_size(stats, ref)\n",
    "    return score_coefficient_variation(x, y)\n",
    "\n",
    "def score_whole_size(stats, ref, max_step=None, min_step=None):\n",
    "    stats, ref = shrink_and_align_stats(stats, ref, max_step, min_step)\n",
    "    x, y = preprocess_whole_size(stats, ref)\n",
    "    return score_coefficient_variation(x, y)\n",
    "\n",
    "def score_both_size(stats, ref, max_step=None, min_step=None):\n",
    "    return score_progenitor_size(stats, ref, max_step, min_step) \\\n",
    "            + score_whole_size(stats, ref, max_step, min_step)\n",
    "\n",
    "def score_bb_size(bb, ref, *args, **kwargs):\n",
    "    return score_both_size(bb.stats, ref.stats, *args, **kwargs)"
   ]
  },
  {
   "cell_type": "code",
   "execution_count": 12,
   "metadata": {},
   "outputs": [],
   "source": [
    "def score_fmetric(population, ref, min_step=50, max_step=60):\n",
    "    pairs = get_fmetric_pairs(population, min_time=min_step, max_time=max_step)\n",
    "    fmetric = fate_corr(pairs)\n",
    "    ref_value = ref[float(min_step)][float(max_step)]\n",
    "    # 0.3 vs 0.4 -> 4\n",
    "    # 0.0 vs 0.4 -> 0.25\n",
    "    return 25 * (fmetric - ref_value)**2\n",
    "\n",
    "def score_bb_fmetric(bb, ref, *args, **kwargs):\n",
    "    return score_fmetric(bb.population, ref.fmetric, *args, **kwargs)"
   ]
  },
  {
   "cell_type": "code",
   "execution_count": 13,
   "metadata": {},
   "outputs": [],
   "source": [
    "def get_bb(prun, grn):\n",
    "    ccls = factories[\"grn3\"](grn=grn)\n",
    "    bb = Brain(time_step=0.5, verbose=False, start_population=5, max_pop_size=1e3,\n",
    "            cell_cls=ccls, end_time=prun.end_time, start_time=50, silent=True)\n",
    "    return bb"
   ]
  },
  {
   "cell_type": "code",
   "execution_count": 14,
   "metadata": {},
   "outputs": [],
   "source": [
    "def run_grn(prun, grn):\n",
    "    get_bb(prun, grn)\n",
    "    bb.run()\n",
    "    return bb"
   ]
  },
  {
   "cell_type": "code",
   "execution_count": 15,
   "metadata": {},
   "outputs": [],
   "source": [
    "def fitness_func(prun, grn, score_func):\n",
    "    bb = run_grn(prun, grn)\n",
    "    output = score_func(bb.stats, REF, max_step=prun.end_time)\n",
    "    fitness = 1.0 / output\n",
    "    return fitness"
   ]
  },
  {
   "cell_type": "code",
   "execution_count": 16,
   "metadata": {},
   "outputs": [],
   "source": [
    "def fitness_multistep(prun, grn, steps):\n",
    "    total_fitness = 0\n",
    "    stop = False\n",
    "    previous_time = None\n",
    "    bb = get_bb(prun, grn)\n",
    "    # first step\n",
    "    for step in steps:\n",
    "        if not bb.run_until(step.end_time):\n",
    "            stop = True\n",
    "        # score_step = score_both_size(bb.stats, prun.ref, max_step=step.end_time, min_step=previous_time)\n",
    "        score_step = step.score_func(bb, prun.ref, max_step=step.end_time, min_step=step.start_time)\n",
    "        fitness_step = 1.0 / score_step\n",
    "        fitness_step = min(fitness_step, step.max_fitness)\n",
    "        total_fitness += fitness_step\n",
    "        if fitness_step < step.min_fitness or stop:\n",
    "            return total_fitness, bb.stats\n",
    "        else:\n",
    "            previous_time = step.end_time\n",
    "            step.passed()\n",
    "        \n",
    "    return total_fitness, bb.stats\n",
    "\n",
    "def score_multistep(prun, stats, steps):\n",
    "    total_fitness = 0\n",
    "    stop = False\n",
    "    previous_time = None\n",
    "    # first step\n",
    "    for i, step in enumerate(steps):\n",
    "        # score_step = score_both_size(bb.stats, prun.ref, max_step=step.end_time, min_step=previous_time)\n",
    "        score_step = step.score_func(bb, prun.ref, max_step=step.end_time, min_step=step.start_time)\n",
    "        print(f\"Score for step {i} is {score_step}\")\n",
    "        fitness_step = 1.0 / score_step\n",
    "        fitness_step = min(fitness_step, step.max_fitness)\n",
    "        total_fitness += fitness_step\n",
    "        if fitness_step < step.min_fitness or stop:\n",
    "            return total_fitness\n",
    "        previous_time = step.end_time\n",
    "        \n",
    "    return total_fitness"
   ]
  },
  {
   "cell_type": "code",
   "execution_count": 17,
   "metadata": {},
   "outputs": [],
   "source": [
    "def mean_sd_fitness(prun, grn, run=3):\n",
    "    fitnesses = [fitness_multistep(prun, grn) for i in range(run)]\n",
    "    return np.mean(fitnesses), np.std(fitnesses)"
   ]
  },
  {
   "cell_type": "code",
   "execution_count": 18,
   "metadata": {},
   "outputs": [],
   "source": [
    "def do_init_pop(prun):\n",
    "    return [individual_generator() for i in range(prun.pop_size)]\n",
    "\n",
    "def do_fitness(prun, pop):\n",
    "    # fitness = [fitness_func(prun, sol.grn, score_func) for sol in pop]\n",
    "    # fitness = [fitness_strategy(prun, sol.grn) for sol in pop]\n",
    "    fitness, stats = zip(*[fitness_multistep(prun, sol.grn, prun.steps) for sol in pop])\n",
    "    return fitness, stats\n",
    "\n",
    "def do_selection(prun, pop_fit, pop):\n",
    "    # print(\"Fit score : \", pop_fit)\n",
    "    acc = list(accumulate(pop_fit))\n",
    "    best = max(pop_fit)\n",
    "    best_id = pop_fit.index(best)\n",
    "    \n",
    "    print(\"Total fitness :\", acc[-1])\n",
    "    \n",
    "    pop_sel, history_sel = weighted_selection(pop, pop_fit, individual_generator, new_fitness=0.3)\n",
    "        \n",
    "    return pop_sel, history_sel, best_id\n",
    "\n",
    "def do_mutation(prun, pop_sel):\n",
    "    [p.mutate() for p in pop_sel]\n",
    "    return pop_sel"
   ]
  },
  {
   "cell_type": "code",
   "execution_count": 19,
   "metadata": {},
   "outputs": [],
   "source": [
    "class ObjectiveStep(O):\n",
    "    start_time = 0\n",
    "    end_time = 0\n",
    "    max_fitness = 4\n",
    "    min_fitness = 1\n",
    "    name = \"\"\n",
    "    _passed = False\n",
    "    \n",
    "    def reset(self):\n",
    "        self._passed = False\n",
    "    \n",
    "    def passed(self):\n",
    "        if self._passed:\n",
    "            return\n",
    "        print(f\"Step {self.name} passed !\")\n",
    "        self._passed = True\n",
    "    \n",
    "example_steps = [\n",
    "    ObjectiveStep(name=\"1\", start_time=50, end_time=53, score_func=score_bb_size),\n",
    "    ObjectiveStep(name=\"2\", start_time=53, end_time=56, score_func=score_bb_size),\n",
    "    ObjectiveStep(name=\"3\", start_time=56, end_time=59, score_func=score_bb_size),\n",
    "    ObjectiveStep(name=\"4\", start_time=59, end_time=62, score_func=score_bb_size),\n",
    "    ObjectiveStep(name=\"5\", start_time=62, end_time=65, score_func=score_bb_size),\n",
    "    ObjectiveStep(name=\"6\", start_time=65, end_time=68, score_func=score_bb_size),\n",
    "    ObjectiveStep(name=\"7\", start_time=68, end_time=71, score_func=score_bb_size),\n",
    "    ObjectiveStep(name=\"8\", start_time=71, end_time=74, score_func=score_bb_size),\n",
    "    ObjectiveStep(name=\"9\", start_time=74, end_time=77, score_func=score_bb_size),\n",
    "]\n",
    "\n",
    "class ParamRun(O):\n",
    "    pop_size = 10\n",
    "    n_gen = 30\n",
    "    current_gen = 0\n",
    "    end_time = 83\n",
    "    ref = REF\n",
    "\n",
    "args = ParamRun()\n",
    "args.steps = example_steps\n",
    "for step in args.steps:\n",
    "    step.reset()"
   ]
  },
  {
   "cell_type": "code",
   "execution_count": 20,
   "metadata": {},
   "outputs": [],
   "source": [
    "def main(prun):\n",
    "    exporter = Exporter()\n",
    "    best = 0\n",
    "    pop = do_init_pop(prun)\n",
    "    for generation in range(prun.n_gen):\n",
    "        # args.generation = generation\n",
    "        # objective.new_trial()\n",
    "        fit, stats = do_fitness(prun, pop)\n",
    "        # objective.best_current(max(fit))\n",
    "        \n",
    "        # TODO get the stats associated with the best scores\n",
    "        sel, history_sel, best_id = do_selection(prun, fit, pop)\n",
    "        if fit[best_id] > best:\n",
    "            print(f\"++ Best {fit[best_id]}\")\n",
    "            best = fit[best_id]\n",
    "            HALL_OF_FAME.append(pop[best_id].copy())\n",
    "        else:\n",
    "            print(f\"-- Best {best}\")\n",
    "        pop = do_mutation(prun, sel)\n",
    "        \n",
    "        # history\n",
    "        monitor = dict(\n",
    "            transition=history_sel,\n",
    "            solution=pop,\n",
    "            fitness=fit,\n",
    "            stats=stats,\n",
    "        )\n",
    "        HISTORY[generation] = monitor\n",
    "        exporter(monitor, f\"generation_g{generation}\")\n",
    "        \n",
    "    return best"
   ]
  },
  {
   "cell_type": "code",
   "execution_count": 26,
   "metadata": {},
   "outputs": [
    {
     "name": "stdout",
     "output_type": "stream",
     "text": [
      "Exporting at output/result_m3_t0.5_n7_o2.0_i2\n"
     ]
    }
   ],
   "source": [
    "exporter = Exporter(name=\"result_m3_t0.5_n7_o2.0_i2\")\n",
    "res = exporter.load(\"generation_g24\")[\"solution\"][10]"
   ]
  },
  {
   "cell_type": "code",
   "execution_count": 28,
   "metadata": {},
   "outputs": [
    {
     "name": "stdout",
     "output_type": "stream",
     "text": [
      "Step 1 passed !\n",
      "2.044739668376468\n"
     ]
    }
   ],
   "source": [
    "score = fitness_multistep(args, res.grn, args.steps)[0]\n",
    "print(score)"
   ]
  },
  {
   "cell_type": "code",
   "execution_count": 31,
   "metadata": {},
   "outputs": [
    {
     "data": {
      "text/plain": [
       ">> G_0: init: 2.62; noise: 1.58; b: 8.26; m: 2.42; expr: 6.69; deg: 3.05; theta: 5.78; tree : 1\n",
       ">> G_1: init: 1.92; noise: 1.39; b: 7.88; m: 7.28; expr: 7.53; deg: 7.81; theta: 9.26; tree : (4 AND 6)\n",
       ">> G_2: init: 2.70; noise: 7.15; b: 3.71; m: 5.35; expr: 7.45; deg: 0.03; theta: 5.58; tree : NOT 2\n",
       ">> G_3: init: 1.19; noise: 4.21; b: 8.76; m: 9.63; expr: 4.24; deg: 0.63; theta: 0.86; tree : ((NOT 6 OR ((4 OR 3) OR 2)) AND (1 OR 0))\n",
       ">> G_4: init: 2.39; noise: 7.72; b: 6.96; m: 3.94; expr: 0.48; deg: 1.72; theta: 9.58; tree : 3\n",
       ">> G_5: init: 0.80; noise: 7.51; b: 3.82; m: 3.37; expr: 0.32; deg: 0.40; theta: 7.61; tree : (3 AND NOT (4 OR 6))\n",
       ">> G_6: init: 2.18; noise: 3.39; b: 6.46; m: 9.45; expr: 8.62; deg: 2.30; theta: 0.86; tree : NOT 4"
      ]
     },
     "execution_count": 31,
     "metadata": {},
     "output_type": "execute_result"
    }
   ],
   "source": [
    "res.grn"
   ]
  },
  {
   "cell_type": "code",
   "execution_count": 30,
   "metadata": {},
   "outputs": [
    {
     "name": "stdout",
     "output_type": "stream",
     "text": [
      "0.06928295447713885\n",
      "0.6934611681455447\n",
      "0.6412896135076359\n",
      "Step 2 passed !\n",
      "4.412262899006458\n",
      "0.06940625045227553\n",
      "Step 3 passed !\n",
      "Step 4 passed !\n",
      "6.624808714461611\n",
      "1.9941938036063613\n",
      "0.06927775479095162\n",
      "0.4415428471789777\n",
      "0.06937888081787842\n"
     ]
    }
   ],
   "source": [
    "print(fitness_multistep(args, res.grn, args.steps)[0])\n",
    "print(fitness_multistep(args, res.grn, args.steps)[0])\n",
    "print(fitness_multistep(args, res.grn, args.steps)[0])\n",
    "print(fitness_multistep(args, res.grn, args.steps)[0])\n",
    "print(fitness_multistep(args, res.grn, args.steps)[0])\n",
    "print(fitness_multistep(args, res.grn, args.steps)[0])\n",
    "print(fitness_multistep(args, res.grn, args.steps)[0])\n",
    "print(fitness_multistep(args, res.grn, args.steps)[0])\n",
    "print(fitness_multistep(args, res.grn, args.steps)[0])\n",
    "print(fitness_multistep(args, res.grn, args.steps)[0])"
   ]
  },
  {
   "cell_type": "code",
   "execution_count": null,
   "metadata": {},
   "outputs": [],
   "source": [
    "raise"
   ]
  },
  {
   "cell_type": "code",
   "execution_count": null,
   "metadata": {},
   "outputs": [],
   "source": [
    "sol = main(args)"
   ]
  },
  {
   "cell_type": "code",
   "execution_count": null,
   "metadata": {},
   "outputs": [],
   "source": [
    "sol2 = main(args)"
   ]
  },
  {
   "cell_type": "code",
   "execution_count": null,
   "metadata": {},
   "outputs": [],
   "source": [
    "sol3 = main(args)"
   ]
  },
  {
   "cell_type": "code",
   "execution_count": null,
   "metadata": {},
   "outputs": [],
   "source": [
    "sol4 = main(args)"
   ]
  },
  {
   "cell_type": "code",
   "execution_count": null,
   "metadata": {},
   "outputs": [],
   "source": [
    "sol5 = main(args)"
   ]
  },
  {
   "cell_type": "code",
   "execution_count": null,
   "metadata": {},
   "outputs": [],
   "source": [
    "# HISTORY\n",
    "# score_multistep(prun, stats, steps)\n",
    "# score_multistep(args, stats, args.steps)"
   ]
  },
  {
   "cell_type": "code",
   "execution_count": null,
   "metadata": {},
   "outputs": [],
   "source": [
    "gen = HISTORY[27]\n",
    "idx = gen[\"fitness\"].index(max(gen[\"fitness\"]))\n",
    "best_stats = gen[\"stats\"][idx]"
   ]
  },
  {
   "cell_type": "code",
   "execution_count": null,
   "metadata": {},
   "outputs": [],
   "source": [
    "score_multistep(args, best_stats, args.steps)"
   ]
  },
  {
   "cell_type": "code",
   "execution_count": null,
   "metadata": {},
   "outputs": [],
   "source": [
    "raise"
   ]
  },
  {
   "cell_type": "code",
   "execution_count": null,
   "metadata": {},
   "outputs": [],
   "source": [
    "# GOOD_POP = HISTORY[2][\"solution\"]"
   ]
  },
  {
   "cell_type": "code",
   "execution_count": null,
   "metadata": {},
   "outputs": [],
   "source": [
    "# GOOD_POP = HISTORY[2]"
   ]
  },
  {
   "cell_type": "code",
   "execution_count": null,
   "metadata": {},
   "outputs": [],
   "source": [
    "# best = HISTORY[25]"
   ]
  },
  {
   "cell_type": "code",
   "execution_count": null,
   "metadata": {},
   "outputs": [],
   "source": [
    "HISTORY.keys()"
   ]
  },
  {
   "cell_type": "code",
   "execution_count": null,
   "metadata": {},
   "outputs": [],
   "source": [
    "last = HISTORY[0]\n",
    "last.keys()"
   ]
  },
  {
   "cell_type": "code",
   "execution_count": null,
   "metadata": {},
   "outputs": [],
   "source": [
    "fit = last['fitness']\n",
    "index = fit.index(max(fit))\n",
    "sol = last[\"solution\"][index]\n",
    "index, max(fit)"
   ]
  },
  {
   "cell_type": "code",
   "execution_count": null,
   "metadata": {},
   "outputs": [],
   "source": [
    "stats = last[\"stats\"][index]"
   ]
  },
  {
   "cell_type": "code",
   "execution_count": null,
   "metadata": {},
   "outputs": [],
   "source": [
    "def show_curve(stats, ref, max_step=None, show=True):\n",
    "    \"\"\"\n",
    "    The evaluation function for progenitor population size.\n",
    "    The lower is the better\n",
    "    :param stats: the stats of the bb after running\n",
    "    \"\"\"\n",
    "    stats, ref = shrink_and_align_stats(stats, ref, max_step=max_step)\n",
    "    \n",
    "    x, y = preprocess_progenitor_size(stats, ref)\n",
    "    \n",
    "    plt.plot(ref.index, x, label=\"Reference Prog\")\n",
    "    plt.plot(ref.index, y, label=\"Simulation Prog\")\n",
    "    \n",
    "    x, y = preprocess_whole_size(stats, ref)\n",
    "    \n",
    "    plt.plot(ref.index, x, label=\"Reference Whole\")\n",
    "    plt.plot(ref.index, y, label=\"Simulation Whole\")\n",
    "    \n",
    "    plt.legend()\n",
    "    \n",
    "    if show:\n",
    "        plt.show()"
   ]
  },
  {
   "cell_type": "code",
   "execution_count": null,
   "metadata": {},
   "outputs": [],
   "source": [
    "def print_fmetrics(population, ref):\n",
    "    pairs = get_fmetric_pairs(population, min_time=50, max_time=60)\n",
    "    fmetric = fate_corr(pairs)\n",
    "    print(f\"Population : {fmetric}, ref : {ref[50][60]}\")"
   ]
  },
  {
   "cell_type": "code",
   "execution_count": null,
   "metadata": {},
   "outputs": [],
   "source": [
    "show_curve(stats, REF, max_step=args.end_time)"
   ]
  },
  {
   "cell_type": "code",
   "execution_count": null,
   "metadata": {},
   "outputs": [],
   "source": [
    "score_multistep(args, stats, args.steps)"
   ]
  },
  {
   "cell_type": "code",
   "execution_count": null,
   "metadata": {},
   "outputs": [],
   "source": [
    "REF.head(10)"
   ]
  },
  {
   "cell_type": "code",
   "execution_count": null,
   "metadata": {},
   "outputs": [],
   "source": [
    "def fill_df(stats, ls_val):\n",
    "    for time, prog_pop, whole_pop in ls_val:\n",
    "        stats.loc[time] = {\"progenitor_pop_size\": prog_pop, \"time\": time, \"whole_pop_size\": whole_pop}"
   ]
  },
  {
   "cell_type": "code",
   "execution_count": null,
   "metadata": {},
   "outputs": [],
   "source": [
    "vals = [\n",
    "    (50.5, 25, 27),\n",
    "    (51., 26, 30),\n",
    "    (51.5, 27, 40),\n",
    "    (52., 30, 50),\n",
    "    (52.5, 35, 60),\n",
    "    (53., 40, 27),\n",
    "    (53.5, 45, 27),\n",
    "    (54., 50, 27),\n",
    "    (54.5, 55, 27),\n",
    "    (55., 60, 27),\n",
    "]"
   ]
  },
  {
   "cell_type": "code",
   "execution_count": null,
   "metadata": {},
   "outputs": [],
   "source": [
    "fill_df(stats, ls_val=vals)\n",
    "stats"
   ]
  },
  {
   "cell_type": "code",
   "execution_count": null,
   "metadata": {},
   "outputs": [],
   "source": [
    "show_curve(stats, REF.stats, max_step=55)\n",
    "print_fmetrics(population, REF.fmetric)\n",
    "score_multistep(args, stats, args.steps)"
   ]
  },
  {
   "cell_type": "code",
   "execution_count": null,
   "metadata": {},
   "outputs": [],
   "source": [
    "# peut être mettre sqrt plutôt que abs en dénominateur\n",
    "# ensuite équilibrer les fit value en normalisant avec la médiane ou la moyenne ou autre (3e quartile ?)"
   ]
  },
  {
   "cell_type": "code",
   "execution_count": null,
   "metadata": {},
   "outputs": [],
   "source": []
  }
 ],
 "metadata": {
  "kernelspec": {
   "display_name": "Python 3",
   "language": "python",
   "name": "python3"
  },
  "language_info": {
   "codemirror_mode": {
    "name": "ipython",
    "version": 3
   },
   "file_extension": ".py",
   "mimetype": "text/x-python",
   "name": "python",
   "nbconvert_exporter": "python",
   "pygments_lexer": "ipython3",
   "version": "3.8.10"
  }
 },
 "nbformat": 4,
 "nbformat_minor": 4
}
