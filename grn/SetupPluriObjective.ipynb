{
 "cells": [
  {
   "cell_type": "code",
   "execution_count": 1,
   "metadata": {},
   "outputs": [],
   "source": [
    "import os\n",
    "os.environ[\"XLA_PYTHON_CLIENT_MEM_FRACTION\"] = \".13\""
   ]
  },
  {
   "cell_type": "code",
   "execution_count": 2,
   "metadata": {},
   "outputs": [],
   "source": [
    "import pandas as pd\n",
    "# from model import Brain\n",
    "from brain import BrainModel\n",
    "from submodels import factories\n",
    "import matplotlib.pyplot as plt\n",
    "import pandas as pd\n",
    "from itertools import accumulate\n",
    "import numpy as np\n",
    "from collections import defaultdict\n",
    "from random import shuffle\n",
    "\n",
    "from lib.score import (\n",
    "    fate_corr, score_both_size_norm, shrink_and_align_stats, score_stats_norm\n",
    ")\n",
    "from lib.preprocess import *\n",
    "from lib.callback import (\n",
    "    cell_number_callback, progenitor_number_callback, neuron_number_callback,\n",
    "    TargetPopulation, TagNumberCallback,\n",
    ")\n",
    "from lib.sde.grn.grn4 import GRNMain4 as GRNMain\n",
    "from lib.sde.mutate import mutate_grn4 as mutate_grn\n",
    "from lib.ga.utils import weighted_selection_one, normalize_fitness_values\n",
    "from jf.utils.export import Exporter\n",
    "from jf.autocompute.jf import O, L\n",
    "from itertools import product\n",
    "import jf.models.stringmodel as sm\n",
    "from lib.analyser import show_curve, show_curve_progenitor"
   ]
  },
  {
   "cell_type": "code",
   "execution_count": null,
   "metadata": {},
   "outputs": [],
   "source": []
  },
  {
   "cell_type": "code",
   "execution_count": 3,
   "metadata": {},
   "outputs": [],
   "source": [
    "HISTORY = defaultdict(dict)\n",
    "HALL_OF_FAME = []"
   ]
  },
  {
   "cell_type": "code",
   "execution_count": 4,
   "metadata": {},
   "outputs": [],
   "source": [
    "_count = -1\n",
    "def provide_id():\n",
    "    global _count\n",
    "    _count += 1\n",
    "    return _count"
   ]
  },
  {
   "cell_type": "code",
   "execution_count": 5,
   "metadata": {},
   "outputs": [],
   "source": [
    "REF = O(\n",
    "    stats=pd.read_csv(\"output/results/setup_basic/export/ref_basic2.csv\"),  # ref is a mean\n",
    "    # fmetric=setup_ref_fmetric(\"output/results/setup_basic/export/ref_fmetric_tristate.csv\"),\n",
    ")"
   ]
  },
  {
   "cell_type": "code",
   "execution_count": 6,
   "metadata": {},
   "outputs": [],
   "source": [
    "def individual_generator(id_=-1):\n",
    "    return Solution(GRNMain(5, 0, 1), id_=id_)"
   ]
  },
  {
   "cell_type": "code",
   "execution_count": 7,
   "metadata": {},
   "outputs": [],
   "source": [
    "class Solution:\n",
    "    def __init__(self, grn, id_=0, parent=-1):\n",
    "        self.id = id_\n",
    "        self.grn = grn\n",
    "        self.parent = parent\n",
    "        self.fit = -1\n",
    "        self.stats = None\n",
    "        \n",
    "    def copy(self, id_=0):\n",
    "        return Solution(self.grn.copy(), id_=id_, parent=self.id)\n",
    "        \n",
    "    def mutate(self):\n",
    "        mutate_grn(self.grn)"
   ]
  },
  {
   "cell_type": "code",
   "execution_count": 8,
   "metadata": {},
   "outputs": [],
   "source": [
    "def score_bb_size(bb, ref, *args, **kwargs):\n",
    "    s_prog = score_stats_norm(bb.stats, ref.stats, col_stats=f\"progenitor_pop_size\",\n",
    "                     col_ref=\"progenitor_pop_size\", norm=2.0, *args, **kwargs)\n",
    "    s_all = score_stats_norm(bb.stats, ref.stats, col_stats=f\"whole_pop_size\",\n",
    "                     col_ref=\"whole_pop_size\", norm=2.0, *args, **kwargs)\n",
    "    s_neuron = score_stats_norm(bb.stats, ref.stats, col_stats=f\"neuron_pop_size\",\n",
    "                     col_ref=\"size_type_PostMitotic\", col_norm_data=\"progenitor_pop_size\",\n",
    "                       col_norm_ref=\"progenitor_pop_size\", norm=2.0, *args, **kwargs)\n",
    "    # print(s_prog, s_all, s_neuron)\n",
    "    return s_prog + s_all + 0.1 * s_neuron"
   ]
  },
  {
   "cell_type": "code",
   "execution_count": 9,
   "metadata": {},
   "outputs": [],
   "source": [
    "def setup_tag(cp):\n",
    "    indexes = list(cp.base_population.keys())\n",
    "    shuffle(indexes)\n",
    "    splits = np.array_split(indexes, 3)\n",
    "    for i, ls in enumerate(splits):\n",
    "        for idx in ls:\n",
    "            cp.base_population[idx].tag[\"subbrain\"] = i"
   ]
  },
  {
   "cell_type": "code",
   "execution_count": 10,
   "metadata": {},
   "outputs": [],
   "source": [
    "def get_bb(prun, grn):\n",
    "    ccls = factories[\"grn4\"](grn=grn)\n",
    "    callbacks = dict(\n",
    "        progenitor_pop_size=progenitor_number_callback,\n",
    "        whole_pop_size=cell_number_callback,\n",
    "        neuron_pop_size=neuron_number_callback,\n",
    "    )\n",
    "    bb = BrainModel(time_step=0.5, verbose=False, start_population=prun.size, max_pop_size=2e3,\n",
    "            cell_cls=ccls, end_time=prun.end_time, start_time=50, silent=True, opti=True,\n",
    "              run_tissue=False, monitor_callbacks=callbacks, tag_func=setup_tag)\n",
    "    return bb"
   ]
  },
  {
   "cell_type": "code",
   "execution_count": 11,
   "metadata": {},
   "outputs": [],
   "source": [
    "def run_grn(prun, grn):\n",
    "    get_bb(prun, grn)\n",
    "    bb.run()\n",
    "    return bb"
   ]
  },
  {
   "cell_type": "code",
   "execution_count": 12,
   "metadata": {},
   "outputs": [],
   "source": [
    "def fitness_multistep(prun, grn, steps):\n",
    "    total_fitness = 0\n",
    "    stop = False\n",
    "    previous_time = None\n",
    "    bb = get_bb(prun, grn)\n",
    "    # first step\n",
    "    for step in steps:\n",
    "        if not bb.run_until(step.end_time):\n",
    "            stop = True\n",
    "        # score_step = score_both_size(bb.stats, prun.ref, max_step=step.end_time, min_step=previous_time)\n",
    "        score_step = step.score_func(bb, prun.ref, max_step=step.end_time, min_step=step.start_time)\n",
    "        fitness_step = 1.0 / score_step\n",
    "        fitness_step = min(fitness_step, step.max_fitness)\n",
    "        total_fitness += fitness_step\n",
    "        if fitness_step < step.min_fitness or stop:\n",
    "            return total_fitness, bb.stats\n",
    "        else:\n",
    "            previous_time = step.end_time\n",
    "            step.passed()\n",
    "        \n",
    "    return total_fitness, bb.stats\n",
    "\n",
    "def score_multistep(prun, stats, steps):\n",
    "    total_fitness = 0\n",
    "    stop = False\n",
    "    previous_time = None\n",
    "    # first step\n",
    "    for i, step in enumerate(steps):\n",
    "        # score_step = score_both_size(bb.stats, prun.ref, max_step=step.end_time, min_step=previous_time)\n",
    "        score_step = step.score_func(bb, prun.ref, max_step=step.end_time, min_step=step.start_time)\n",
    "        print(f\"Score for step {i} is {score_step}\")\n",
    "        fitness_step = 1.0 / score_step\n",
    "        fitness_step = min(fitness_step, step.max_fitness)\n",
    "        total_fitness += fitness_step\n",
    "        if fitness_step < step.min_fitness or stop:\n",
    "            return total_fitness\n",
    "        previous_time = step.end_time\n",
    "        \n",
    "    return total_fitness"
   ]
  },
  {
   "cell_type": "code",
   "execution_count": 13,
   "metadata": {},
   "outputs": [],
   "source": [
    "def mean_sd_fitness(prun, grn, run=3):\n",
    "    fitnesses = [fitness_multistep(prun, grn) for i in range(run)]\n",
    "    return np.mean(fitnesses), np.std(fitnesses)"
   ]
  },
  {
   "cell_type": "code",
   "execution_count": 14,
   "metadata": {},
   "outputs": [],
   "source": [
    "def multi_fitness(*args):\n",
    "    fitnesses = [fitness_multistep(*args) for i in range(3)]\n",
    "    scores = [x[0] for x in fitnesses]\n",
    "    return fitnesses[scores.index(min(scores))]"
   ]
  },
  {
   "cell_type": "code",
   "execution_count": 15,
   "metadata": {},
   "outputs": [],
   "source": [
    "def do_init(prun):\n",
    "    return individual_generator(provide_id())\n",
    "\n",
    "def do_fitness(prun, sol):\n",
    "    fitness, stats = fitness_multistep(prun, sol.grn, prun.steps)\n",
    "    return fitness, stats\n",
    "\n",
    "def do_selection(prun, pop_fit, pop):\n",
    "    if len(pop) < prun.min_pop:\n",
    "        return individual_generator(provide_id())\n",
    "    \n",
    "    pop_fit = [p**prun.exponent for p in pop_fit]\n",
    "    \n",
    "    return weighted_selection_one(pop, pop_fit, individual_generator, new_fitness=0.5, id_=provide_id())[0]\n",
    "\n",
    "def do_mutation(prun, sol):\n",
    "    sol.mutate()\n",
    "    return sol"
   ]
  },
  {
   "cell_type": "code",
   "execution_count": 16,
   "metadata": {},
   "outputs": [],
   "source": [
    "class ObjectiveStep(O):\n",
    "    start_time = 0\n",
    "    end_time = 0\n",
    "    max_fitness = 3\n",
    "    min_fitness = 1\n",
    "    name = \"\"\n",
    "    _passed = False\n",
    "    \n",
    "    def reset(self):\n",
    "        self._passed = False\n",
    "    \n",
    "    def passed(self):\n",
    "        if self._passed:\n",
    "            return\n",
    "        print(f\"Step {self.name} passed !\")\n",
    "        self._passed = True\n",
    "    \n",
    "example_steps = [\n",
    "    ObjectiveStep(name=\"1\", start_time=50, end_time=53, score_func=score_bb_size, min_fitness=0.3),\n",
    "    ObjectiveStep(name=\"2\", start_time=53, end_time=56, score_func=score_bb_size, min_fitness=0.3),\n",
    "    ObjectiveStep(name=\"3\", start_time=56, end_time=59, score_func=score_bb_size, min_fitness=0.3),\n",
    "    ObjectiveStep(name=\"4\", start_time=59, end_time=62, score_func=score_bb_size, min_fitness=0.),\n",
    "    ObjectiveStep(name=\"5\", start_time=62, end_time=65, score_func=score_bb_size, min_fitness=0.),\n",
    "    ObjectiveStep(name=\"6\", start_time=65, end_time=68, score_func=score_bb_size, min_fitness=0.),\n",
    "    ObjectiveStep(name=\"7\", start_time=68, end_time=71, score_func=score_bb_size, min_fitness=0.),\n",
    "    ObjectiveStep(name=\"8\", start_time=71, end_time=74, score_func=score_bb_size, min_fitness=0.),\n",
    "    ObjectiveStep(name=\"9\", start_time=74, end_time=77, score_func=score_bb_size, min_fitness=0.),\n",
    "]\n",
    "\n",
    "class ParamRun(O):\n",
    "    pop_size = 10\n",
    "    n_gen = 10\n",
    "    current_gen = 0\n",
    "    end_time = 83\n",
    "    ref = REF\n",
    "    min_pop = 20\n",
    "    max_pop = 50\n",
    "\n",
    "def get_prun(size=5, exponent=1):\n",
    "    prun = ParamRun()\n",
    "    prun.size = size\n",
    "    prun.exponent = exponent\n",
    "    prun.steps = example_steps\n",
    "    return prun"
   ]
  },
  {
   "cell_type": "code",
   "execution_count": 17,
   "metadata": {},
   "outputs": [],
   "source": [
    "def main(prun):\n",
    "    prun.history = defaultdict(dict)\n",
    "    # exporter = Exporter()\n",
    "    best = 0\n",
    "    sol = do_init(prun)\n",
    "    pop = [sol]\n",
    "    for generation in range(prun.n_gen * prun.pop_size):\n",
    "        # args.generation = generation\n",
    "        # objective.new_trial()\n",
    "        fit, stats = do_fitness(prun, sol)\n",
    "        sol.fit = fit\n",
    "        sol.stats = stats\n",
    "        \n",
    "        # history\n",
    "        # print(f\"Fitness = {fit}\", end=\"\\t\\t\")\n",
    "        if generation % 100 == 0:\n",
    "            print(f\"Step {generation}\")\n",
    "        if fit > best:\n",
    "            print(f\"++ Best {fit} for generation {generation}\")\n",
    "            best = fit\n",
    "            \n",
    "        monitor = sol\n",
    "        prun.history[generation] = monitor\n",
    "        # exporter(monitor, f\"generation_g{generation}\")\n",
    "        \n",
    "        # TODO get the stats associated with the best scores\n",
    "        sub_pop = pop[-prun.max_pop:]\n",
    "        sol = do_selection(prun, [s.fit for s in sub_pop], sub_pop)\n",
    "            \n",
    "        sol = do_mutation(prun, sol)\n",
    "        pop.append(sol)\n",
    "        \n",
    "    print(\"OVER\")\n",
    "    return best"
   ]
  },
  {
   "cell_type": "code",
   "execution_count": 18,
   "metadata": {},
   "outputs": [],
   "source": [
    "prun = get_prun()\n",
    "# res = main(prun)"
   ]
  },
  {
   "cell_type": "code",
   "execution_count": 19,
   "metadata": {},
   "outputs": [],
   "source": [
    "def get_score_parametrized(size=5, exponent=1, name=None):\n",
    "    args = get_prun(size, exponent)\n",
    "    args.name = name\n",
    "    main(args)\n",
    "    p1 = L(args.history.values()).fit\n",
    "    idx = p1.index(max(p1))\n",
    "    sol = args.history[idx]\n",
    "    scores = [fitness_multistep(args, sol.grn, args.steps)[0] for i in range(10)]\n",
    "    return np.mean(scores), np.std(scores), max(p1)"
   ]
  },
  {
   "cell_type": "code",
   "execution_count": 20,
   "metadata": {},
   "outputs": [],
   "source": [
    "model = sm.StringModel(\"expstab_s{size}_exp{exponent}_i{i}\")\n",
    "keys = (\"size\", \"exponent\", \"i\")\n",
    "gen = product([5, 7], [1, 2, 3], range(5))"
   ]
  },
  {
   "cell_type": "code",
   "execution_count": null,
   "metadata": {},
   "outputs": [
    {
     "name": "stdout",
     "output_type": "stream",
     "text": [
      "Exporting at output/exp_exponent_140222\n",
      "expstab_s5_exp1_i0 (5, 1, 0)\n",
      "Step 0\n",
      "++ Best 0.065431901045508 for generation 0\n",
      "Step 1 passed !\n",
      "++ Best 0.5377065991219951 for generation 1\n",
      "++ Best 0.6772321502686567 for generation 4\n",
      "++ Best 0.6853471943521894 for generation 20\n",
      "++ Best 1.426462735670617 for generation 23\n",
      "++ Best 1.7396058024125576 for generation 25\n",
      "Step 2 passed !\n",
      "++ Best 1.924577250456512 for generation 96\n",
      "OVER\n",
      "expstab_s5_exp1_i1 (5, 1, 1)\n",
      "Step 0\n",
      "++ Best 0.0742513661275367 for generation 0\n",
      "++ Best 0.09213673929615102 for generation 5\n",
      "++ Best 0.09893765256651443 for generation 7\n",
      "++ Best 0.16717184109495645 for generation 10\n",
      "++ Best 0.182849824516638 for generation 52\n",
      "++ Best 0.41976973056191125 for generation 96\n",
      "OVER\n",
      "expstab_s5_exp1_i2 (5, 1, 2)\n",
      "Step 0\n",
      "++ Best 0.025033224141972187 for generation 0\n",
      "Step 3 passed !\n",
      "Step 4 passed !\n",
      "Step 5 passed !\n",
      "Step 6 passed !\n",
      "Step 7 passed !\n",
      "Step 8 passed !\n",
      "Step 9 passed !\n",
      "++ Best 3.2344376659472847 for generation 1\n",
      "++ Best 3.7908266003349933 for generation 23\n",
      "++ Best 4.026956909917005 for generation 26\n",
      "++ Best 4.498325226806057 for generation 27\n",
      "++ Best 4.572872752986922 for generation 32\n",
      "++ Best 4.670892738692275 for generation 33\n",
      "++ Best 4.7096848919981875 for generation 34\n",
      "++ Best 4.933368817591478 for generation 35\n",
      "++ Best 5.224627402350612 for generation 40\n"
     ]
    }
   ],
   "source": [
    "# main loop\n",
    "exporter = Exporter(name=\"exp_exponent_140222\")\n",
    "for i, sample in enumerate(gen):\n",
    "    name = model.fill(**dict(zip(keys, sample)))\n",
    "    print(name, sample)\n",
    "    if name in exporter.list():\n",
    "        continue\n",
    "    res = get_score_parametrized(*sample)\n",
    "    exporter(res, name)"
   ]
  },
  {
   "cell_type": "code",
   "execution_count": null,
   "metadata": {},
   "outputs": [],
   "source": [
    "show_curve(sol.stats, REF.stats)"
   ]
  },
  {
   "cell_type": "code",
   "execution_count": null,
   "metadata": {},
   "outputs": [],
   "source": []
  }
 ],
 "metadata": {
  "kernelspec": {
   "display_name": "Python 3",
   "language": "python",
   "name": "python3"
  },
  "language_info": {
   "codemirror_mode": {
    "name": "ipython",
    "version": 3
   },
   "file_extension": ".py",
   "mimetype": "text/x-python",
   "name": "python",
   "nbconvert_exporter": "python",
   "pygments_lexer": "ipython3",
   "version": "3.8.10"
  }
 },
 "nbformat": 4,
 "nbformat_minor": 4
}
