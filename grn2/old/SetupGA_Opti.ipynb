{
 "cells": [
  {
   "cell_type": "code",
   "execution_count": 1,
   "metadata": {},
   "outputs": [],
   "source": [
    "import os\n",
    "os.environ[\"XLA_PYTHON_CLIENT_MEM_FRACTION\"] = \".20\""
   ]
  },
  {
   "cell_type": "code",
   "execution_count": 2,
   "metadata": {},
   "outputs": [],
   "source": [
    "import pandas as pd\n",
    "from model import Brain\n",
    "from submodels import factories\n",
    "import matplotlib.pyplot as plt\n",
    "import pandas as pd\n",
    "from jf.db import DB\n",
    "from lib.plot import plot_2d_positions_colors\n",
    "from lib.sde.grn2 import GRNMain2\n",
    "from lib.sde.mutate import mutate_grn2\n",
    "from jf.profiler import Profiler\n",
    "from tqdm import tqdm"
   ]
  },
  {
   "cell_type": "code",
   "execution_count": 3,
   "metadata": {},
   "outputs": [],
   "source": [
    "from itertools import accumulate\n",
    "import numpy as np\n",
    "from collections import defaultdict"
   ]
  },
  {
   "cell_type": "code",
   "execution_count": 4,
   "metadata": {},
   "outputs": [],
   "source": [
    "HISTORY = defaultdict(dict)"
   ]
  },
  {
   "cell_type": "code",
   "execution_count": 5,
   "metadata": {},
   "outputs": [],
   "source": [
    "END_TIME = 53"
   ]
  },
  {
   "cell_type": "code",
   "execution_count": 6,
   "metadata": {},
   "outputs": [],
   "source": [
    "HALL_OF_FAME = []"
   ]
  },
  {
   "cell_type": "code",
   "execution_count": 7,
   "metadata": {},
   "outputs": [],
   "source": [
    "REF = pd.read_csv(\"output/results/setup_basic/export/ref_basic.csv\")  # ref is a mean"
   ]
  },
  {
   "cell_type": "code",
   "execution_count": 8,
   "metadata": {},
   "outputs": [],
   "source": [
    "def individual_generator():\n",
    "    return Solution(GRNMain2(5, 0, 5))"
   ]
  },
  {
   "cell_type": "code",
   "execution_count": 9,
   "metadata": {},
   "outputs": [],
   "source": [
    "if False:\n",
    "    grn = GRNMain2(5, 0, 5)\n",
    "    ccls = factories[\"grn2\"](grn=grn)\n",
    "\n",
    "    bb = Brain(time_step=0.5, verbose=False, start_population=4, max_pop_size=1e3,\n",
    "            cell_cls=ccls.generate, end_time=60, start_time=50, silent=False)\n",
    "    bb.run()\n",
    "\n",
    "# cell = bb.population[0]\n",
    "# cell.cell_program.print_gene_info(2)\n",
    "\n",
    "# cell.cell_program.grn.print_trees()"
   ]
  },
  {
   "cell_type": "code",
   "execution_count": 10,
   "metadata": {},
   "outputs": [],
   "source": [
    "def r():\n",
    "    return np.random.uniform(0, 1)\n",
    "\n",
    "class Solution:\n",
    "    def __init__(self, grn):\n",
    "        self.grn = grn\n",
    "        \n",
    "    def copy(self):\n",
    "        return Solution(self.grn.copy())\n",
    "        \n",
    "    def mutate(self):\n",
    "        mutate_grn2(self.grn)"
   ]
  },
  {
   "cell_type": "code",
   "execution_count": 11,
   "metadata": {},
   "outputs": [
    {
     "data": {
      "text/plain": [
       ">> G_0: init: 0.50; noise: 0.70; b: 2.07; m: 9.56; expr: 1.62; deg: 7.15; thr: 4.19; theta: 3.11; tree : (NOT NOT 2 AND 1)\n",
       ">> G_1: init: 1.59; noise: 3.89; b: 7.35; m: 1.60; expr: 5.29; deg: 0.85; thr: 4.88; theta: 3.10; tree : NOT ((2 AND 3) OR 1)\n",
       ">> G_2: init: 1.05; noise: 5.51; b: 7.72; m: 5.24; expr: 3.78; deg: 7.10; thr: 2.95; theta: 3.76; tree : (2 AND 4)\n",
       ">> G_3: init: 1.16; noise: 1.79; b: 6.12; m: 1.36; expr: 0.92; deg: 9.04; thr: 8.00; theta: 8.93; tree : 3\n",
       ">> G_4: init: 0.99; noise: 8.65; b: 5.82; m: 7.69; expr: 0.36; deg: 0.20; thr: 5.48; theta: 5.35; tree : 0"
      ]
     },
     "execution_count": 11,
     "metadata": {},
     "output_type": "execute_result"
    }
   ],
   "source": [
    "individual_generator().grn"
   ]
  },
  {
   "cell_type": "code",
   "execution_count": 12,
   "metadata": {},
   "outputs": [],
   "source": [
    "def shrink_and_align_stats(stats, ref, max_step=None):\n",
    "    min_step = max(min(stats.time), min(ref.time))\n",
    "\n",
    "    if max_step is None:\n",
    "        max_step = max(ref.time)\n",
    "    \n",
    "    new_stats = stats[(stats.time >= min_step) & (stats.time <= max_step)].set_index(\"time\")\n",
    "    new_ref = ref[(ref.time >= min_step) & (ref.time <= max_step)].set_index(\"time\")\n",
    "    \n",
    "    return new_stats, new_ref"
   ]
  },
  {
   "cell_type": "code",
   "execution_count": 13,
   "metadata": {},
   "outputs": [],
   "source": [
    "# compare only the progenitor_pop_size\n",
    "def evaluating_function(stats, ref, max_step=None):\n",
    "    \"\"\"\n",
    "    The evaluation function for progenitor population size.\n",
    "    The lower is the better\n",
    "    :param stats: the stats of the bb after running\n",
    "    \"\"\"\n",
    "    colname_ref = \"size_type_Cycling\"\n",
    "    colname_stats = \"progenitor_pop_size\"\n",
    "    # scale\n",
    "    stats, ref = shrink_and_align_stats(stats, ref, max_step=max_step)\n",
    "    \n",
    "    min_step = min(ref.index)  # ref.index is the time\n",
    "    stats[colname_stats] = stats[colname_stats] / stats[colname_stats].get(min_step)\n",
    "    ref[colname_ref] = ref[colname_ref] / ref[colname_ref].get(min_step)\n",
    "    \n",
    "    err = 0\n",
    "    for t in ref.index:\n",
    "        val_ref = ref[colname_ref].get(t, 0)\n",
    "        if val_ref == 0:\n",
    "            raise ValueError(\"Found val_ref to 0, this should not be possible\")\n",
    "        val_stats = stats[colname_stats].get(t, 0)\n",
    "        err += (val_ref - val_stats)**2 / val_ref\n",
    "        \n",
    "    return err"
   ]
  },
  {
   "cell_type": "code",
   "execution_count": 14,
   "metadata": {},
   "outputs": [],
   "source": [
    "def run_grn(grn):\n",
    "    ccls = factories[\"grn2\"](grn=grn)\n",
    "    bb = Brain(time_step=0.5, verbose=False, start_population=4, max_pop_size=1e3,\n",
    "            cell_cls=ccls, end_time=END_TIME, start_time=50, silent=True)\n",
    "    bb.run()\n",
    "    return bb"
   ]
  },
  {
   "cell_type": "code",
   "execution_count": 15,
   "metadata": {},
   "outputs": [],
   "source": [
    "def fitness_func(grn):\n",
    "    bb = run_grn(grn)\n",
    "    output = evaluating_function(bb.stats, REF, max_step=END_TIME)\n",
    "    fitness = 1.0 / output\n",
    "    return fitness"
   ]
  },
  {
   "cell_type": "code",
   "execution_count": 16,
   "metadata": {},
   "outputs": [],
   "source": [
    "def get_sample_index(sample, acc):\n",
    "    val = min(filter(lambda x: x > sample, acc))\n",
    "    return acc.index(val)\n",
    "\n",
    "def weighted_selection(population, fitness_values, create_func, new_fitness=1.):\n",
    "    \"\"\"\n",
    "    :param population: list of individuals\n",
    "    :param fit_values: fitness values for each individual (same length with population)\n",
    "    :param create_func: function to create new individual\n",
    "    \"\"\"\n",
    "    pop_sel = []\n",
    "    history_sel = []\n",
    "    acc = list(accumulate(fitness_values))\n",
    "    total_population_fitness = acc[-1]\n",
    "    total_fitness = total_population_fitness + new_fitness\n",
    "    for i in range(POP_SIZE):\n",
    "        sample = np.random.uniform(0, total_fitness)\n",
    "        if sample >= total_population_fitness:\n",
    "            pop_sel.append(create_func())\n",
    "            history_sel.append(-1)\n",
    "        else:\n",
    "            chosen_id = get_sample_index(sample, acc)\n",
    "            pop_sel.append(population[chosen_id].copy())\n",
    "            history_sel.append(chosen_id)\n",
    "            \n",
    "    HISTORY[args.generation] = history_sel\n",
    "            \n",
    "    return pop_sel"
   ]
  },
  {
   "cell_type": "code",
   "execution_count": 17,
   "metadata": {},
   "outputs": [
    {
     "data": {
      "text/plain": [
       "2"
      ]
     },
     "execution_count": 17,
     "metadata": {},
     "output_type": "execute_result"
    }
   ],
   "source": [
    "get_sample_index(0.5, [0.1, 0.4, 0.6, 1.2])  # to the lib !"
   ]
  },
  {
   "cell_type": "code",
   "execution_count": 18,
   "metadata": {},
   "outputs": [],
   "source": [
    "# generation\n",
    "POP_SIZE = 50\n",
    "N_GEN = 10\n",
    "\n",
    "def do_init_pop():\n",
    "    return [individual_generator() for i in range(POP_SIZE)]\n",
    "\n",
    "def do_fitness(pop):\n",
    "    return [fitness_func(sol.grn) for sol in tqdm(pop)]\n",
    "\n",
    "def do_selection(pop_fit, pop):\n",
    "    # print(\"Fit score : \", pop_fit)\n",
    "    pop_sel = []\n",
    "    acc = list(accumulate(pop_fit))\n",
    "    best = max(pop_fit)\n",
    "    best_sol = pop[pop_fit.index(best)]\n",
    "    \n",
    "    print(\"Total fitness :\", acc[-1])\n",
    "\n",
    "    pop_sel = weighted_selection(pop, pop_fit, individual_generator, new_fitness=1.)\n",
    "        \n",
    "    return pop_sel, best, best_sol\n",
    "\n",
    "def do_mutation(pop_sel):\n",
    "    [p.mutate() for p in pop_sel]\n",
    "    return pop_sel"
   ]
  },
  {
   "cell_type": "code",
   "execution_count": 19,
   "metadata": {},
   "outputs": [],
   "source": [
    "class O:\n",
    "    pass\n",
    "\n",
    "args = O()\n",
    "\n",
    "def main():\n",
    "    print(\"Setup GA\")\n",
    "    bbest = 0\n",
    "    ttbest = None\n",
    "    pop = do_init_pop()\n",
    "    for generation in range(N_GEN):\n",
    "        args.generation = generation\n",
    "        fit = do_fitness(pop)\n",
    "        sel, best, best_sol = do_selection(fit, pop)\n",
    "        if best > bbest:\n",
    "            print(f\"Best {best}\")\n",
    "            if best > 10:\n",
    "                return ttbest\n",
    "            bbest = best\n",
    "            ttbest = best_sol\n",
    "            HALL_OF_FAME.append(best_sol.copy())\n",
    "        else:\n",
    "            print(\"--\")\n",
    "        pop = do_mutation(sel)\n",
    "        \n",
    "    return ttbest"
   ]
  },
  {
   "cell_type": "code",
   "execution_count": 20,
   "metadata": {},
   "outputs": [
    {
     "name": "stderr",
     "output_type": "stream",
     "text": [
      "  0%|          | 0/50 [00:00<?, ?it/s]"
     ]
    },
    {
     "name": "stdout",
     "output_type": "stream",
     "text": [
      "Setup GA\n"
     ]
    },
    {
     "name": "stderr",
     "output_type": "stream",
     "text": [
      "100%|██████████| 50/50 [00:53<00:00,  1.06s/it]\n",
      "  0%|          | 0/50 [00:00<?, ?it/s]"
     ]
    },
    {
     "name": "stdout",
     "output_type": "stream",
     "text": [
      "Total fitness : 26.297208240303924\n",
      "Best 5.731468013891973\n"
     ]
    },
    {
     "name": "stderr",
     "output_type": "stream",
     "text": [
      "100%|██████████| 50/50 [01:07<00:00,  1.35s/it]"
     ]
    },
    {
     "name": "stdout",
     "output_type": "stream",
     "text": [
      "Total fitness : 74.10483463054896\n",
      "Best 10.219603728890295\n"
     ]
    },
    {
     "name": "stderr",
     "output_type": "stream",
     "text": [
      "\n"
     ]
    }
   ],
   "source": [
    "sols = main()"
   ]
  },
  {
   "cell_type": "code",
   "execution_count": 21,
   "metadata": {},
   "outputs": [
    {
     "ename": "TypeError",
     "evalue": "'Solution' object is not iterable",
     "output_type": "error",
     "traceback": [
      "\u001b[0;31m---------------------------------------------------------------------------\u001b[0m",
      "\u001b[0;31mTypeError\u001b[0m                                 Traceback (most recent call last)",
      "\u001b[0;32m<ipython-input-21-9a3b87c99bad>\u001b[0m in \u001b[0;36m<module>\u001b[0;34m\u001b[0m\n\u001b[0;32m----> 1\u001b[0;31m \u001b[0;32mfor\u001b[0m \u001b[0msol\u001b[0m \u001b[0;32min\u001b[0m \u001b[0msols\u001b[0m\u001b[0;34m:\u001b[0m\u001b[0;34m\u001b[0m\u001b[0;34m\u001b[0m\u001b[0m\n\u001b[0m\u001b[1;32m      2\u001b[0m     \u001b[0mprint\u001b[0m\u001b[0;34m(\u001b[0m\u001b[0;34m\"=============\"\u001b[0m\u001b[0;34m)\u001b[0m\u001b[0;34m\u001b[0m\u001b[0;34m\u001b[0m\u001b[0m\n\u001b[1;32m      3\u001b[0m     \u001b[0mprint\u001b[0m\u001b[0;34m(\u001b[0m\u001b[0msol\u001b[0m\u001b[0;34m.\u001b[0m\u001b[0mgrn\u001b[0m\u001b[0;34m)\u001b[0m\u001b[0;34m\u001b[0m\u001b[0;34m\u001b[0m\u001b[0m\n",
      "\u001b[0;31mTypeError\u001b[0m: 'Solution' object is not iterable"
     ]
    }
   ],
   "source": [
    "for sol in sols:\n",
    "    print(\"=============\")\n",
    "    print(sol.grn)"
   ]
  },
  {
   "cell_type": "code",
   "execution_count": null,
   "metadata": {},
   "outputs": [],
   "source": [
    "for one in HALL_OF_FAME:\n",
    "    print(fitness_func(one.grn))"
   ]
  },
  {
   "cell_type": "code",
   "execution_count": null,
   "metadata": {},
   "outputs": [],
   "source": [
    "HALL_OF_FAME[0].grn"
   ]
  },
  {
   "cell_type": "code",
   "execution_count": null,
   "metadata": {},
   "outputs": [],
   "source": [
    "HALL_OF_FAME[-1].grn"
   ]
  },
  {
   "cell_type": "code",
   "execution_count": null,
   "metadata": {},
   "outputs": [],
   "source": [
    "bb = run_grn(sol.grn)"
   ]
  },
  {
   "cell_type": "code",
   "execution_count": null,
   "metadata": {},
   "outputs": [],
   "source": [
    "bb.stats"
   ]
  },
  {
   "cell_type": "code",
   "execution_count": null,
   "metadata": {},
   "outputs": [],
   "source": [
    "def show_population_curve(stats, ref, max_step=None, show=True):\n",
    "    \"\"\"\n",
    "    The evaluation function for progenitor population size.\n",
    "    The lower is the better\n",
    "    :param stats: the stats of the bb after running\n",
    "    \"\"\"\n",
    "    colname_ref = \"size_type_Cycling\"\n",
    "    colname_stats = \"progenitor_pop_size\"\n",
    "    # scale\n",
    "    stats, ref = shrink_and_align_stats(stats, ref, max_step=max_step)\n",
    "    \n",
    "    min_step = min(ref.index)  # ref.index is the time\n",
    "    stats[colname_stats] = stats[colname_stats] / stats[colname_stats].get(min_step)\n",
    "    ref[colname_ref] = ref[colname_ref] / ref[colname_ref].get(min_step)\n",
    "    \n",
    "    plt.plot(ref.index, [ref[colname_ref].get(t, 0) for t in ref.index], label=\"Reference\")\n",
    "    plt.plot(ref.index, [stats[colname_stats].get(t, 0) for t in ref.index], label=\"Simulation\")\n",
    "    if show:\n",
    "        plt.show()"
   ]
  },
  {
   "cell_type": "code",
   "execution_count": null,
   "metadata": {},
   "outputs": [],
   "source": [
    "show_population_curve(bb.stats, REF, max_step=END_TIME)"
   ]
  },
  {
   "cell_type": "code",
   "execution_count": null,
   "metadata": {},
   "outputs": [],
   "source": []
  }
 ],
 "metadata": {
  "kernelspec": {
   "display_name": "Python 3",
   "language": "python",
   "name": "python3"
  },
  "language_info": {
   "codemirror_mode": {
    "name": "ipython",
    "version": 3
   },
   "file_extension": ".py",
   "mimetype": "text/x-python",
   "name": "python",
   "nbconvert_exporter": "python",
   "pygments_lexer": "ipython3",
   "version": "3.8.10"
  }
 },
 "nbformat": 4,
 "nbformat_minor": 4
}
