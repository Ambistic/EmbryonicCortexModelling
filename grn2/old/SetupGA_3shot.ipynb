{
 "cells": [
  {
   "cell_type": "code",
   "execution_count": 1,
   "metadata": {},
   "outputs": [],
   "source": [
    "import os\n",
    "os.environ[\"XLA_PYTHON_CLIENT_MEM_FRACTION\"] = \".13\""
   ]
  },
  {
   "cell_type": "code",
   "execution_count": 2,
   "metadata": {},
   "outputs": [],
   "source": [
    "import pandas as pd\n",
    "from model import Brain\n",
    "from submodels import factories\n",
    "import matplotlib.pyplot as plt\n",
    "import pandas as pd\n",
    "from itertools import accumulate\n",
    "import numpy as np\n",
    "from collections import defaultdict\n",
    "import re\n",
    "\n",
    "from jf.db import DB\n",
    "from lib.score import fate_corr, score_both_size_norm\n",
    "from lib.preprocess import get_fmetric_pairs\n",
    "from lib.sde.grn3 import GRNMain3\n",
    "from lib.sde.mutate import mutate_grn2\n",
    "from lib.ga.utils import weighted_selection\n",
    "from lib.ga.objective import Objective\n",
    "from jf.profiler import Profiler\n",
    "from jf.utils.export import Exporter\n",
    "from jf.autocompute.jf import O"
   ]
  },
  {
   "cell_type": "code",
   "execution_count": 3,
   "metadata": {},
   "outputs": [],
   "source": [
    "HISTORY = defaultdict(dict)\n",
    "HALL_OF_FAME = []"
   ]
  },
  {
   "cell_type": "code",
   "execution_count": 4,
   "metadata": {},
   "outputs": [],
   "source": [
    "REF = O(\n",
    "    stats=pd.read_csv(\"output/results/setup_basic/export/ref_basic2.csv\"),  # ref is a mean\n",
    "    # fmetric=setup_ref_fmetric(\"output/results/setup_basic/export/ref_fmetric_tristate.csv\"),\n",
    ")"
   ]
  },
  {
   "cell_type": "code",
   "execution_count": 5,
   "metadata": {},
   "outputs": [],
   "source": [
    "def individual_generator():\n",
    "    return Solution(GRNMain3(5, 0, 0))"
   ]
  },
  {
   "cell_type": "code",
   "execution_count": 6,
   "metadata": {},
   "outputs": [],
   "source": [
    "class Solution:\n",
    "    def __init__(self, grn):\n",
    "        self.grn = grn\n",
    "        \n",
    "    def copy(self):\n",
    "        return Solution(self.grn.copy())\n",
    "        \n",
    "    def mutate(self):\n",
    "        for i in range(1):\n",
    "            mutate_grn2(self.grn)\n",
    "        # here force values\n",
    "        self.grn.set_mutable()\n",
    "        self.grn._params[4, :] = 1\n",
    "        self.grn._params[5, :] = 0\n",
    "        self.grn.compile()"
   ]
  },
  {
   "cell_type": "code",
   "execution_count": 7,
   "metadata": {},
   "outputs": [],
   "source": [
    "def score_bb_size(bb, ref, *args, **kwargs):\n",
    "    return score_both_size_norm(bb.stats, ref.stats, *args, **kwargs, norm=2.0)"
   ]
  },
  {
   "cell_type": "code",
   "execution_count": 8,
   "metadata": {},
   "outputs": [],
   "source": [
    "def get_bb(prun, grn):\n",
    "    ccls = factories[\"grn3\"](grn=grn)\n",
    "    bb = Brain(time_step=0.5, verbose=False, start_population=3, max_pop_size=1e3,\n",
    "            cell_cls=ccls, end_time=prun.end_time, start_time=50, silent=True,\n",
    "              run_tissue=False)\n",
    "    return bb"
   ]
  },
  {
   "cell_type": "code",
   "execution_count": 9,
   "metadata": {},
   "outputs": [],
   "source": [
    "def run_grn(prun, grn):\n",
    "    get_bb(prun, grn)\n",
    "    bb.run()\n",
    "    return bb"
   ]
  },
  {
   "cell_type": "code",
   "execution_count": 10,
   "metadata": {},
   "outputs": [],
   "source": [
    "def fitness_func(prun, grn, score_func):\n",
    "    bb = run_grn(prun, grn)\n",
    "    output = score_func(bb.stats, REF, max_step=prun.end_time)\n",
    "    fitness = 1.0 / output\n",
    "    return fitness"
   ]
  },
  {
   "cell_type": "code",
   "execution_count": 11,
   "metadata": {},
   "outputs": [],
   "source": [
    "def fitness_multistep(prun, grn, steps):\n",
    "    total_fitness = 0\n",
    "    stop = False\n",
    "    previous_time = None\n",
    "    bb = get_bb(prun, grn)\n",
    "    # first step\n",
    "    for step in steps:\n",
    "        if not bb.run_until(step.end_time):\n",
    "            stop = True\n",
    "        # score_step = score_both_size(bb.stats, prun.ref, max_step=step.end_time, min_step=previous_time)\n",
    "        score_step = step.score_func(bb, prun.ref, max_step=step.end_time, min_step=step.start_time)\n",
    "        fitness_step = 1.0 / score_step\n",
    "        fitness_step = min(fitness_step, step.max_fitness)\n",
    "        total_fitness += fitness_step\n",
    "        if fitness_step < step.min_fitness or stop:\n",
    "            return total_fitness, bb.stats\n",
    "        else:\n",
    "            previous_time = step.end_time\n",
    "            step.passed()\n",
    "        \n",
    "    return total_fitness, bb.stats\n",
    "\n",
    "def score_multistep(prun, stats, steps):\n",
    "    total_fitness = 0\n",
    "    stop = False\n",
    "    previous_time = None\n",
    "    # first step\n",
    "    for i, step in enumerate(steps):\n",
    "        # score_step = score_both_size(bb.stats, prun.ref, max_step=step.end_time, min_step=previous_time)\n",
    "        score_step = step.score_func(bb, prun.ref, max_step=step.end_time, min_step=step.start_time)\n",
    "        print(f\"Score for step {i} is {score_step}\")\n",
    "        fitness_step = 1.0 / score_step\n",
    "        fitness_step = min(fitness_step, step.max_fitness)\n",
    "        total_fitness += fitness_step\n",
    "        if fitness_step < step.min_fitness or stop:\n",
    "            return total_fitness\n",
    "        previous_time = step.end_time\n",
    "        \n",
    "    return total_fitness"
   ]
  },
  {
   "cell_type": "code",
   "execution_count": 12,
   "metadata": {},
   "outputs": [],
   "source": [
    "def mean_sd_fitness(prun, grn, run=3):\n",
    "    fitnesses = [fitness_multistep(prun, grn) for i in range(run)]\n",
    "    return np.mean(fitnesses), np.std(fitnesses)"
   ]
  },
  {
   "cell_type": "code",
   "execution_count": 13,
   "metadata": {},
   "outputs": [],
   "source": [
    "def multi_fitness(*args):\n",
    "    fitnesses = [fitness_multistep(*args) for i in range(3)]\n",
    "    scores = [x[0] for x in fitnesses]\n",
    "    return fitnesses[scores.index(min(scores))]"
   ]
  },
  {
   "cell_type": "code",
   "execution_count": 14,
   "metadata": {},
   "outputs": [],
   "source": [
    "def do_init_pop(prun):\n",
    "    return [individual_generator() for i in range(prun.pop_size)]\n",
    "\n",
    "def do_fitness(prun, pop):\n",
    "    # fitness = [fitness_func(prun, sol.grn, score_func) for sol in pop]\n",
    "    # fitness = [fitness_strategy(prun, sol.grn) for sol in pop]\n",
    "    fitness, stats = zip(*[multi_fitness(prun, sol.grn, prun.steps) for sol in pop])\n",
    "    return fitness, stats\n",
    "\n",
    "def do_selection(prun, pop_fit, pop):\n",
    "    # print(\"Fit score : \", pop_fit)\n",
    "    acc = list(accumulate(pop_fit))\n",
    "    best = max(pop_fit)\n",
    "    best_id = pop_fit.index(best)\n",
    "    \n",
    "    print(\"Total fitness :\", acc[-1])\n",
    "    \n",
    "    pop_sel, history_sel = weighted_selection(pop, pop_fit, individual_generator, new_fitness=0.3)\n",
    "        \n",
    "    return pop_sel, history_sel, best_id\n",
    "\n",
    "def do_mutation(prun, pop_sel):\n",
    "    [p.mutate() for p in pop_sel]\n",
    "    return pop_sel"
   ]
  },
  {
   "cell_type": "code",
   "execution_count": 15,
   "metadata": {},
   "outputs": [],
   "source": [
    "class ObjectiveStep(O):\n",
    "    start_time = 0\n",
    "    end_time = 0\n",
    "    max_fitness = 4\n",
    "    min_fitness = 1\n",
    "    name = \"\"\n",
    "    _passed = False\n",
    "    \n",
    "    def reset(self):\n",
    "        self._passed = False\n",
    "    \n",
    "    def passed(self):\n",
    "        if self._passed:\n",
    "            return\n",
    "        print(f\"Step {self.name} passed !\")\n",
    "        self._passed = True\n",
    "    \n",
    "example_steps = [\n",
    "    ObjectiveStep(name=\"1\", start_time=50, end_time=53, score_func=score_bb_size),\n",
    "    ObjectiveStep(name=\"2\", start_time=53, end_time=56, score_func=score_bb_size),\n",
    "    ObjectiveStep(name=\"3\", start_time=56, end_time=59, score_func=score_bb_size),\n",
    "    ObjectiveStep(name=\"4\", start_time=59, end_time=62, score_func=score_bb_size),\n",
    "    ObjectiveStep(name=\"5\", start_time=62, end_time=65, score_func=score_bb_size),\n",
    "    ObjectiveStep(name=\"6\", start_time=65, end_time=68, score_func=score_bb_size),\n",
    "    ObjectiveStep(name=\"7\", start_time=68, end_time=71, score_func=score_bb_size),\n",
    "    ObjectiveStep(name=\"8\", start_time=71, end_time=74, score_func=score_bb_size),\n",
    "    ObjectiveStep(name=\"9\", start_time=74, end_time=77, score_func=score_bb_size),\n",
    "]\n",
    "\n",
    "class ParamRun(O):\n",
    "    pop_size = 10\n",
    "    n_gen = 30\n",
    "    current_gen = 0\n",
    "    end_time = 83\n",
    "    ref = REF\n",
    "\n",
    "args = ParamRun()\n",
    "args.steps = example_steps\n",
    "for step in args.steps:\n",
    "    step.reset()"
   ]
  },
  {
   "cell_type": "code",
   "execution_count": 16,
   "metadata": {},
   "outputs": [],
   "source": [
    "def main(prun):\n",
    "    exporter = Exporter()\n",
    "    best = 0\n",
    "    pop = do_init_pop(prun)\n",
    "    for generation in range(prun.n_gen):\n",
    "        # args.generation = generation\n",
    "        # objective.new_trial()\n",
    "        fit, stats = do_fitness(prun, pop)\n",
    "        # objective.best_current(max(fit))\n",
    "        \n",
    "        # TODO get the stats associated with the best scores\n",
    "        sel, history_sel, best_id = do_selection(prun, fit, pop)\n",
    "        if fit[best_id] > best:\n",
    "            print(f\"++ Best {fit[best_id]}\")\n",
    "            best = fit[best_id]\n",
    "            HALL_OF_FAME.append(pop[best_id].copy())\n",
    "        else:\n",
    "            print(f\"-- Best {best}\")\n",
    "        pop = do_mutation(prun, sel)\n",
    "        \n",
    "        # history\n",
    "        monitor = dict(\n",
    "            transition=history_sel,\n",
    "            solution=pop,\n",
    "            fitness=fit,\n",
    "            stats=stats,\n",
    "        )\n",
    "        HISTORY[generation] = monitor\n",
    "        exporter(monitor, f\"generation_g{generation}\")\n",
    "        \n",
    "    return best"
   ]
  },
  {
   "cell_type": "code",
   "execution_count": 17,
   "metadata": {},
   "outputs": [
    {
     "name": "stdout",
     "output_type": "stream",
     "text": [
      "1\n"
     ]
    }
   ],
   "source": [
    "print(1)"
   ]
  },
  {
   "cell_type": "code",
   "execution_count": 18,
   "metadata": {},
   "outputs": [
    {
     "name": "stdout",
     "output_type": "stream",
     "text": [
      "Exporting at output/2022-01-27/16:15:32.018554_545533\n",
      "Total fitness : 1.3431384247449774\n",
      "++ Best 0.6568660741681976\n",
      "Step 1 passed !\n",
      "Total fitness : 0.9491868989710649\n",
      "-- Best 0.6568660741681976\n",
      "Total fitness : 2.1914319268646008\n",
      "++ Best 0.9695173503085515\n",
      "Total fitness : 2.911649535113378\n",
      "-- Best 0.9695173503085515\n",
      "Total fitness : 6.300735561959916\n",
      "++ Best 1.404767964601398\n",
      "Total fitness : 6.462010626455761\n",
      "++ Best 1.5333391343172889\n",
      "Total fitness : 8.448035358770564\n",
      "++ Best 1.5513892570588579\n",
      "Total fitness : 7.061514036320228\n",
      "-- Best 1.5513892570588579\n",
      "Step 2 passed !\n",
      "Total fitness : 10.246567219761197\n",
      "++ Best 1.5853769891328842\n",
      "Total fitness : 9.637158114366361\n",
      "++ Best 2.12337845871288\n",
      "Total fitness : 8.55875810534278\n",
      "-- Best 2.12337845871288\n",
      "Total fitness : 9.61341983336285\n",
      "-- Best 2.12337845871288\n",
      "Total fitness : 9.176921442206933\n",
      "-- Best 2.12337845871288\n",
      "Total fitness : 10.516460160778795\n",
      "-- Best 2.12337845871288\n",
      "Total fitness : 8.324066385195136\n",
      "-- Best 2.12337845871288\n",
      "Total fitness : 6.031946211104139\n",
      "-- Best 2.12337845871288\n",
      "Total fitness : 5.601524831765769\n",
      "-- Best 2.12337845871288\n",
      "Total fitness : 9.033072729247271\n",
      "-- Best 2.12337845871288\n",
      "Total fitness : 6.368050327940494\n",
      "-- Best 2.12337845871288\n",
      "Total fitness : 6.726085703302128\n",
      "-- Best 2.12337845871288\n",
      "Total fitness : 4.857329308894162\n",
      "-- Best 2.12337845871288\n",
      "Total fitness : 6.312712370657804\n",
      "-- Best 2.12337845871288\n",
      "Total fitness : 8.704018683668949\n",
      "-- Best 2.12337845871288\n",
      "Total fitness : 4.777209379214677\n",
      "-- Best 2.12337845871288\n",
      "Step 3 passed !\n",
      "Total fitness : 7.890971018334053\n",
      "-- Best 2.12337845871288\n",
      "Total fitness : 5.5757369811202855\n",
      "-- Best 2.12337845871288\n",
      "Total fitness : 6.434118062907519\n",
      "-- Best 2.12337845871288\n",
      "Total fitness : 6.324995095345752\n",
      "-- Best 2.12337845871288\n",
      "Total fitness : 11.438782172623263\n",
      "-- Best 2.12337845871288\n",
      "Total fitness : 8.534615851529928\n",
      "-- Best 2.12337845871288\n"
     ]
    }
   ],
   "source": [
    "sol = main(args)"
   ]
  },
  {
   "cell_type": "code",
   "execution_count": 19,
   "metadata": {},
   "outputs": [],
   "source": [
    "gen = HISTORY[27]\n",
    "idx = gen[\"fitness\"].index(max(gen[\"fitness\"]))\n",
    "best_stats = gen[\"stats\"][idx]"
   ]
  },
  {
   "cell_type": "code",
   "execution_count": 20,
   "metadata": {},
   "outputs": [
    {
     "ename": "NameError",
     "evalue": "name 'bb' is not defined",
     "output_type": "error",
     "traceback": [
      "\u001b[0;31m---------------------------------------------------------------------------\u001b[0m",
      "\u001b[0;31mNameError\u001b[0m                                 Traceback (most recent call last)",
      "\u001b[0;32m<ipython-input-20-0c6189ae0428>\u001b[0m in \u001b[0;36m<module>\u001b[0;34m\u001b[0m\n\u001b[0;32m----> 1\u001b[0;31m \u001b[0mscore_multistep\u001b[0m\u001b[0;34m(\u001b[0m\u001b[0margs\u001b[0m\u001b[0;34m,\u001b[0m \u001b[0mbest_stats\u001b[0m\u001b[0;34m,\u001b[0m \u001b[0margs\u001b[0m\u001b[0;34m.\u001b[0m\u001b[0msteps\u001b[0m\u001b[0;34m)\u001b[0m\u001b[0;34m\u001b[0m\u001b[0;34m\u001b[0m\u001b[0m\n\u001b[0m",
      "\u001b[0;32m<ipython-input-11-f0ea5caa3b92>\u001b[0m in \u001b[0;36mscore_multistep\u001b[0;34m(prun, stats, steps)\u001b[0m\n\u001b[1;32m     28\u001b[0m     \u001b[0;32mfor\u001b[0m \u001b[0mi\u001b[0m\u001b[0;34m,\u001b[0m \u001b[0mstep\u001b[0m \u001b[0;32min\u001b[0m \u001b[0menumerate\u001b[0m\u001b[0;34m(\u001b[0m\u001b[0msteps\u001b[0m\u001b[0;34m)\u001b[0m\u001b[0;34m:\u001b[0m\u001b[0;34m\u001b[0m\u001b[0;34m\u001b[0m\u001b[0m\n\u001b[1;32m     29\u001b[0m         \u001b[0;31m# score_step = score_both_size(bb.stats, prun.ref, max_step=step.end_time, min_step=previous_time)\u001b[0m\u001b[0;34m\u001b[0m\u001b[0;34m\u001b[0m\u001b[0;34m\u001b[0m\u001b[0m\n\u001b[0;32m---> 30\u001b[0;31m         \u001b[0mscore_step\u001b[0m \u001b[0;34m=\u001b[0m \u001b[0mstep\u001b[0m\u001b[0;34m.\u001b[0m\u001b[0mscore_func\u001b[0m\u001b[0;34m(\u001b[0m\u001b[0mbb\u001b[0m\u001b[0;34m,\u001b[0m \u001b[0mprun\u001b[0m\u001b[0;34m.\u001b[0m\u001b[0mref\u001b[0m\u001b[0;34m,\u001b[0m \u001b[0mmax_step\u001b[0m\u001b[0;34m=\u001b[0m\u001b[0mstep\u001b[0m\u001b[0;34m.\u001b[0m\u001b[0mend_time\u001b[0m\u001b[0;34m,\u001b[0m \u001b[0mmin_step\u001b[0m\u001b[0;34m=\u001b[0m\u001b[0mstep\u001b[0m\u001b[0;34m.\u001b[0m\u001b[0mstart_time\u001b[0m\u001b[0;34m)\u001b[0m\u001b[0;34m\u001b[0m\u001b[0;34m\u001b[0m\u001b[0m\n\u001b[0m\u001b[1;32m     31\u001b[0m         \u001b[0mprint\u001b[0m\u001b[0;34m(\u001b[0m\u001b[0;34mf\"Score for step {i} is {score_step}\"\u001b[0m\u001b[0;34m)\u001b[0m\u001b[0;34m\u001b[0m\u001b[0;34m\u001b[0m\u001b[0m\n\u001b[1;32m     32\u001b[0m         \u001b[0mfitness_step\u001b[0m \u001b[0;34m=\u001b[0m \u001b[0;36m1.0\u001b[0m \u001b[0;34m/\u001b[0m \u001b[0mscore_step\u001b[0m\u001b[0;34m\u001b[0m\u001b[0;34m\u001b[0m\u001b[0m\n",
      "\u001b[0;31mNameError\u001b[0m: name 'bb' is not defined"
     ]
    }
   ],
   "source": [
    "score_multistep(args, best_stats, args.steps)"
   ]
  },
  {
   "cell_type": "code",
   "execution_count": null,
   "metadata": {},
   "outputs": [],
   "source": [
    "raise"
   ]
  },
  {
   "cell_type": "code",
   "execution_count": null,
   "metadata": {},
   "outputs": [],
   "source": [
    "# GOOD_POP = HISTORY[2][\"solution\"]"
   ]
  },
  {
   "cell_type": "code",
   "execution_count": null,
   "metadata": {},
   "outputs": [],
   "source": [
    "# GOOD_POP = HISTORY[2]"
   ]
  },
  {
   "cell_type": "code",
   "execution_count": null,
   "metadata": {},
   "outputs": [],
   "source": [
    "# best = HISTORY[25]"
   ]
  },
  {
   "cell_type": "code",
   "execution_count": null,
   "metadata": {},
   "outputs": [],
   "source": [
    "HISTORY.keys()"
   ]
  },
  {
   "cell_type": "code",
   "execution_count": null,
   "metadata": {},
   "outputs": [],
   "source": [
    "last = HISTORY[0]\n",
    "last.keys()"
   ]
  },
  {
   "cell_type": "code",
   "execution_count": null,
   "metadata": {},
   "outputs": [],
   "source": [
    "fit = last['fitness']\n",
    "index = fit.index(max(fit))\n",
    "sol = last[\"solution\"][index]\n",
    "index, max(fit)"
   ]
  },
  {
   "cell_type": "code",
   "execution_count": null,
   "metadata": {},
   "outputs": [],
   "source": [
    "stats = last[\"stats\"][index]"
   ]
  },
  {
   "cell_type": "code",
   "execution_count": null,
   "metadata": {},
   "outputs": [],
   "source": [
    "def show_curve(stats, ref, max_step=None, show=True):\n",
    "    \"\"\"\n",
    "    The evaluation function for progenitor population size.\n",
    "    The lower is the better\n",
    "    :param stats: the stats of the bb after running\n",
    "    \"\"\"\n",
    "    stats, ref = shrink_and_align_stats(stats, ref, max_step=max_step)\n",
    "    \n",
    "    x, y = preprocess_progenitor_size(stats, ref)\n",
    "    \n",
    "    plt.plot(ref.index, x, label=\"Reference Prog\")\n",
    "    plt.plot(ref.index, y, label=\"Simulation Prog\")\n",
    "    \n",
    "    x, y = preprocess_whole_size(stats, ref)\n",
    "    \n",
    "    plt.plot(ref.index, x, label=\"Reference Whole\")\n",
    "    plt.plot(ref.index, y, label=\"Simulation Whole\")\n",
    "    \n",
    "    plt.legend()\n",
    "    \n",
    "    if show:\n",
    "        plt.show()"
   ]
  },
  {
   "cell_type": "code",
   "execution_count": null,
   "metadata": {},
   "outputs": [],
   "source": [
    "def print_fmetrics(population, ref):\n",
    "    pairs = get_fmetric_pairs(population, min_time=50, max_time=60)\n",
    "    fmetric = fate_corr(pairs)\n",
    "    print(f\"Population : {fmetric}, ref : {ref[50][60]}\")"
   ]
  },
  {
   "cell_type": "code",
   "execution_count": null,
   "metadata": {},
   "outputs": [],
   "source": [
    "show_curve(stats, REF, max_step=args.end_time)"
   ]
  },
  {
   "cell_type": "code",
   "execution_count": null,
   "metadata": {},
   "outputs": [],
   "source": [
    "score_multistep(args, stats, args.steps)"
   ]
  },
  {
   "cell_type": "code",
   "execution_count": null,
   "metadata": {},
   "outputs": [],
   "source": [
    "REF.head(10)"
   ]
  },
  {
   "cell_type": "code",
   "execution_count": null,
   "metadata": {},
   "outputs": [],
   "source": [
    "def fill_df(stats, ls_val):\n",
    "    for time, prog_pop, whole_pop in ls_val:\n",
    "        stats.loc[time] = {\"progenitor_pop_size\": prog_pop, \"time\": time, \"whole_pop_size\": whole_pop}"
   ]
  },
  {
   "cell_type": "code",
   "execution_count": null,
   "metadata": {},
   "outputs": [],
   "source": [
    "vals = [\n",
    "    (50.5, 25, 27),\n",
    "    (51., 26, 30),\n",
    "    (51.5, 27, 40),\n",
    "    (52., 30, 50),\n",
    "    (52.5, 35, 60),\n",
    "    (53., 40, 27),\n",
    "    (53.5, 45, 27),\n",
    "    (54., 50, 27),\n",
    "    (54.5, 55, 27),\n",
    "    (55., 60, 27),\n",
    "]"
   ]
  },
  {
   "cell_type": "code",
   "execution_count": null,
   "metadata": {},
   "outputs": [],
   "source": [
    "fill_df(stats, ls_val=vals)\n",
    "stats"
   ]
  },
  {
   "cell_type": "code",
   "execution_count": null,
   "metadata": {},
   "outputs": [],
   "source": [
    "show_curve(stats, REF.stats, max_step=55)\n",
    "print_fmetrics(population, REF.fmetric)\n",
    "score_multistep(args, stats, args.steps)"
   ]
  },
  {
   "cell_type": "code",
   "execution_count": null,
   "metadata": {},
   "outputs": [],
   "source": [
    "# peut être mettre sqrt plutôt que abs en dénominateur\n",
    "# ensuite équilibrer les fit value en normalisant avec la médiane ou la moyenne ou autre (3e quartile ?)"
   ]
  },
  {
   "cell_type": "code",
   "execution_count": null,
   "metadata": {},
   "outputs": [],
   "source": []
  }
 ],
 "metadata": {
  "kernelspec": {
   "display_name": "Python 3",
   "language": "python",
   "name": "python3"
  },
  "language_info": {
   "codemirror_mode": {
    "name": "ipython",
    "version": 3
   },
   "file_extension": ".py",
   "mimetype": "text/x-python",
   "name": "python",
   "nbconvert_exporter": "python",
   "pygments_lexer": "ipython3",
   "version": "3.8.10"
  }
 },
 "nbformat": 4,
 "nbformat_minor": 4
}
