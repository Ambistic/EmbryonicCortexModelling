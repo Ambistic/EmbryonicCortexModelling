{
 "cells": [
  {
   "cell_type": "code",
   "execution_count": 1,
   "metadata": {},
   "outputs": [],
   "source": [
    "import os\n",
    "os.environ[\"XLA_PYTHON_CLIENT_MEM_FRACTION\"] = \".20\""
   ]
  },
  {
   "cell_type": "code",
   "execution_count": 2,
   "metadata": {},
   "outputs": [],
   "source": [
    "import numpy as np\n",
    "import jax.numpy as jnp\n",
    "from jax import jit, random"
   ]
  },
  {
   "cell_type": "code",
   "execution_count": 3,
   "metadata": {},
   "outputs": [],
   "source": [
    "@jit\n",
    "def j_single_deltaW(x, ts):\n",
    "    \"\"\"Generate Wiener increments for m independent Wiener\n",
    "    From the sdeint implementation\n",
    "    The result is multiplied by the ts as low time step\n",
    "    means that noise shall not affect a lot\n",
    "    \"\"\"\n",
    "    seed = np.random.randint(4294967295)\n",
    "    key = random.PRNGKey(seed)\n",
    "    return random.normal(key, x.shape) * ts\n",
    "\n",
    "\n",
    "@jit\n",
    "def j_noise(x, c):\n",
    "    # Controls noise proportional to\n",
    "    # square root of activity\n",
    "    return c * jnp.sqrt(jnp.abs(x))\n",
    "\n",
    "\n",
    "# TODO generate this function by predetermining the shape\n",
    "@jit\n",
    "def j_step_euler_sde(quantities, derivatives, noise_param, ts):\n",
    "    # d = len(quantities)\n",
    "    dW = j_single_deltaW(quantities, ts)\n",
    "    y_ = quantities \\\n",
    "         + derivatives * ts \\\n",
    "         + jnp.multiply(j_noise(quantities, noise_param), dW)\n",
    "    # Ensure positive terms\n",
    "    y_ = jnp.maximum(y_, 0)\n",
    "\n",
    "    return y_"
   ]
  },
  {
   "cell_type": "code",
   "execution_count": 4,
   "metadata": {},
   "outputs": [],
   "source": [
    "q = jnp.zeros(5)\n",
    "d = jnp.zeros(5)\n",
    "n = jnp.zeros(5)\n",
    "ts = 0.1"
   ]
  },
  {
   "cell_type": "code",
   "execution_count": 5,
   "metadata": {},
   "outputs": [
    {
     "data": {
      "text/plain": [
       "DeviceArray([0., 0., 0., 0., 0.], dtype=float32)"
      ]
     },
     "execution_count": 5,
     "metadata": {},
     "output_type": "execute_result"
    }
   ],
   "source": [
    "j_step_euler_sde(q, d, n, ts)"
   ]
  },
  {
   "cell_type": "markdown",
   "metadata": {},
   "source": [
    "# Must RERUN from scratch"
   ]
  },
  {
   "cell_type": "code",
   "execution_count": 6,
   "metadata": {},
   "outputs": [],
   "source": [
    "@jit\n",
    "def test_batch(batch):\n",
    "    return [b * 3 for b in batch]"
   ]
  },
  {
   "cell_type": "code",
   "execution_count": 7,
   "metadata": {},
   "outputs": [],
   "source": [
    "def test_batch_down():\n",
    "    batch = [jnp.zeros(10) for i in range(100)]\n",
    "    for i in range(1000):\n",
    "        test_batch(batch[:i])"
   ]
  },
  {
   "cell_type": "code",
   "execution_count": 8,
   "metadata": {},
   "outputs": [],
   "source": [
    "def test_batch_constant():\n",
    "    batch = [jnp.zeros(10) for i in range(100)]\n",
    "    for i in range(100):\n",
    "        test_batch(batch)"
   ]
  },
  {
   "cell_type": "code",
   "execution_count": 9,
   "metadata": {},
   "outputs": [],
   "source": [
    "import time"
   ]
  },
  {
   "cell_type": "code",
   "execution_count": 10,
   "metadata": {},
   "outputs": [
    {
     "name": "stdout",
     "output_type": "stream",
     "text": [
      "0.2887866497039795\n"
     ]
    }
   ],
   "source": [
    "b = time.time()\n",
    "test_batch_constant()\n",
    "print(time.time() - b)"
   ]
  },
  {
   "cell_type": "code",
   "execution_count": 11,
   "metadata": {},
   "outputs": [
    {
     "name": "stdout",
     "output_type": "stream",
     "text": [
      "13.557604312896729\n"
     ]
    }
   ],
   "source": [
    "b = time.time()\n",
    "test_batch_down()\n",
    "print(time.time() - b)"
   ]
  },
  {
   "cell_type": "code",
   "execution_count": null,
   "metadata": {},
   "outputs": [],
   "source": []
  }
 ],
 "metadata": {
  "kernelspec": {
   "display_name": "Python 3",
   "language": "python",
   "name": "python3"
  },
  "language_info": {
   "codemirror_mode": {
    "name": "ipython",
    "version": 3
   },
   "file_extension": ".py",
   "mimetype": "text/x-python",
   "name": "python",
   "nbconvert_exporter": "python",
   "pygments_lexer": "ipython3",
   "version": "3.8.10"
  }
 },
 "nbformat": 4,
 "nbformat_minor": 4
}
