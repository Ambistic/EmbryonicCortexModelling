{
 "cells": [
  {
   "cell_type": "code",
   "execution_count": 1,
   "metadata": {},
   "outputs": [],
   "source": [
    "import os\n",
    "os.environ[\"XLA_PYTHON_CLIENT_MEM_FRACTION\"] = \".20\""
   ]
  },
  {
   "cell_type": "code",
   "execution_count": 2,
   "metadata": {},
   "outputs": [],
   "source": [
    "import pandas as pd\n",
    "from model import Brain\n",
    "from submodels import factories\n",
    "import matplotlib.pyplot as plt\n",
    "import pandas as pd\n",
    "from jf.db import DB\n",
    "from lib.plot import plot_2d_positions_colors\n",
    "from lib.sde.grn2 import GRNMain2\n",
    "from lib.sde.grn import GRNMain, grn_from_json\n",
    "from lib.sde.cell2 import Cell2, CellBatch\n",
    "from lib.sde.mutate import mutate_grn2\n",
    "from jf.profiler import Profiler"
   ]
  },
  {
   "cell_type": "code",
   "execution_count": 31,
   "metadata": {},
   "outputs": [],
   "source": [
    "from itertools import accumulate\n",
    "import numpy as np\n",
    "from collections import defaultdict, Counter\n",
    "import jax.numpy as jnp\n",
    "import numpy as np"
   ]
  },
  {
   "cell_type": "code",
   "execution_count": 4,
   "metadata": {},
   "outputs": [],
   "source": [
    "HISTORY = defaultdict(dict)"
   ]
  },
  {
   "cell_type": "code",
   "execution_count": 5,
   "metadata": {},
   "outputs": [],
   "source": [
    "END_TIME = 54"
   ]
  },
  {
   "cell_type": "code",
   "execution_count": 6,
   "metadata": {},
   "outputs": [],
   "source": [
    "HALL_OF_FAME = []"
   ]
  },
  {
   "cell_type": "code",
   "execution_count": 7,
   "metadata": {},
   "outputs": [],
   "source": [
    "REF = pd.read_csv(\"output/results/setup_basic/export/ref_basic.csv\")  # ref is a mean"
   ]
  },
  {
   "cell_type": "code",
   "execution_count": 8,
   "metadata": {},
   "outputs": [],
   "source": [
    "def individual_generator():\n",
    "    return Solution(GRNMain2(5, 0, 5))"
   ]
  },
  {
   "cell_type": "code",
   "execution_count": 9,
   "metadata": {},
   "outputs": [],
   "source": [
    "# set a similar grn\n",
    "ref_grn = \"\"\"\n",
    "{\"object_name\": \"GRNMain2\", \"nb_start_gene\": 5, \"nb_off_trees\": 0, \"nb_genes\": 5,\n",
    "\"params\": [[2.007115364074707, 0.3403625786304474, 1.3039988279342651, 2.0225210189819336, 1.5461641550064087],\n",
    "[2.375922203063965, 7.7354350090026855, 5.84783411026001, 6.466616153717041, 8.159892082214355],\n",
    "[7.479958534240723, 5.624154090881348, 8.094839096069336, 1.19766366481781, 8.925475120544434],\n",
    "[9.56630802154541, 3.818467378616333, 9.031471252441406, 7.2058916091918945, 1.283474326133728],\n",
    "[6.358775615692139, 5.765143394470215, 9.488754272460938, 2.5621650218963623, 5.002293586730957],\n",
    "[3.9804110527038574, 4.080349922180176, 9.770094871520996, 9.090896606445312, 4.010365009307861],\n",
    "[5.9285149574279785, 3.148050546646118, 4.948235511779785, 3.5156848430633545, 4.3454718589782715],\n",
    "[8.12299919128418, 2.998713493347168, 5.796504020690918, 9.65429973602295, 0.45337215065956116]],\n",
    "\"trees\": [{\"op\": \"Var\", \"val\": 2}, {\"op\": \"Var\", \"val\": 0},\n",
    "{\"op\": \"And\", \"F1\": {\"op\": \"Or\", \"F1\": {\"op\": \"Var\", \"val\": 1},\n",
    "\"F2\": {\"op\": \"Or\", \"F1\": {\"op\": \"Var\", \"val\": 2}, \"F2\": {\"op\": \"Var\", \"val\": 3}}},\n",
    "\"F2\": {\"op\": \"Not\", \"F\": {\"op\": \"Or\", \"F1\": {\"op\": \"Var\", \"val\": 4}, \"F2\": {\"op\": \"Var\", \"val\": 0}}}},\n",
    "{\"op\": \"And\", \"F1\": {\"op\": \"Var\", \"val\": 4}, \"F2\": {\"op\": \"Var\", \"val\": 2}},\n",
    "{\"op\": \"Or\", \"F1\": {\"op\": \"Var\", \"val\": 2}, \"F2\": {\"op\": \"Not\", \"F\": {\"op\": \"Or\", \"F1\": {\"op\": \"Var\", \"val\": 1},\n",
    "\"F2\": {\"op\": \"Var\", \"val\": 3}}}}]}\n",
    "\"\"\""
   ]
  },
  {
   "cell_type": "code",
   "execution_count": 10,
   "metadata": {},
   "outputs": [],
   "source": [
    "# set a similar grn\n",
    "ref_grn = \"\"\"\n",
    "{\"object_name\": \"GRNMain2\", \"nb_start_gene\": 5, \"nb_off_trees\": 0, \"nb_genes\": 5,\n",
    "\"params\": [[2.007115364074707, 0.3403625786304474, 1.3039988279342651, 2.0225210189819336, 1.5461641550064087],\n",
    "[0.1, 0.1, 0.1, 0.1, 0.1],\n",
    "[7.479958534240723, 5.624154090881348, 8.094839096069336, 1.19766366481781, 8.925475120544434],\n",
    "[9.56630802154541, 3.818467378616333, 9.031471252441406, 7.2058916091918945, 1.283474326133728],\n",
    "[6.358775615692139, 5.765143394470215, 9.488754272460938, 2.5621650218963623, 5.002293586730957],\n",
    "[3.9804110527038574, 4.080349922180176, 9.770094871520996, 9.090896606445312, 4.010365009307861],\n",
    "[5.9285149574279785, 3.148050546646118, 4.948235511779785, 3.5156848430633545, 4.3454718589782715],\n",
    "[8.12299919128418, 2.998713493347168, 5.796504020690918, 9.65429973602295, 0.45337215065956116]],\n",
    "\"trees\": [{\"op\": \"Var\", \"val\": 2}, {\"op\": \"Var\", \"val\": 0},\n",
    "{\"op\": \"And\", \"F1\": {\"op\": \"Or\", \"F1\": {\"op\": \"Var\", \"val\": 1},\n",
    "\"F2\": {\"op\": \"Or\", \"F1\": {\"op\": \"Var\", \"val\": 2}, \"F2\": {\"op\": \"Var\", \"val\": 3}}},\n",
    "\"F2\": {\"op\": \"Not\", \"F\": {\"op\": \"Or\", \"F1\": {\"op\": \"Var\", \"val\": 4}, \"F2\": {\"op\": \"Var\", \"val\": 0}}}},\n",
    "{\"op\": \"And\", \"F1\": {\"op\": \"Var\", \"val\": 4}, \"F2\": {\"op\": \"Var\", \"val\": 2}},\n",
    "{\"op\": \"Or\", \"F1\": {\"op\": \"Var\", \"val\": 2}, \"F2\": {\"op\": \"Not\", \"F\": {\"op\": \"Or\", \"F1\": {\"op\": \"Var\", \"val\": 1},\n",
    "\"F2\": {\"op\": \"Var\", \"val\": 3}}}}]}\n",
    "\"\"\""
   ]
  },
  {
   "cell_type": "code",
   "execution_count": null,
   "metadata": {},
   "outputs": [],
   "source": []
  },
  {
   "cell_type": "code",
   "execution_count": 11,
   "metadata": {},
   "outputs": [],
   "source": [
    "def config_jax2():\n",
    "    grn = grn_from_json(ref_grn)\n",
    "    grn.compile()\n",
    "    ccls = factories[\"grn2_opti\"](grn=grn)\n",
    "\n",
    "    bb = Brain(time_step=0.5, verbose=False, start_population=4, max_pop_size=1e3,\n",
    "            cell_cls=ccls, end_time=60, start_time=50, silent=False)\n",
    "    bb.run()\n",
    "    return bb"
   ]
  },
  {
   "cell_type": "code",
   "execution_count": 12,
   "metadata": {},
   "outputs": [
    {
     "name": "stdout",
     "output_type": "stream",
     "text": [
      "Ticking abs : 50.0, step : 0.5, size : 16\n",
      "Ticking abs : 50.5, step : 0.5, size : 10\n",
      "Ticking abs : 51.0, step : 0.5, size : 10\n",
      "Ticking abs : 51.5, step : 0.5, size : 12\n",
      "Ticking abs : 52.0, step : 0.5, size : 17\n",
      "Ticking abs : 52.5, step : 0.5, size : 20\n",
      "Ticking abs : 53.0, step : 0.5, size : 22\n",
      "Ticking abs : 53.5, step : 0.5, size : 34\n",
      "Ticking abs : 54.0, step : 0.5, size : 39\n",
      "Ticking abs : 54.5, step : 0.5, size : 49\n",
      "Ticking abs : 55.0, step : 0.5, size : 70\n",
      "Ticking abs : 55.5, step : 0.5, size : 83\n",
      "Ticking abs : 56.0, step : 0.5, size : 120\n",
      "Ticking abs : 56.5, step : 0.5, size : 146\n",
      "Ticking abs : 57.0, step : 0.5, size : 192\n",
      "Ticking abs : 57.5, step : 0.5, size : 255\n",
      "Ticking abs : 58.0, step : 0.5, size : 332\n",
      "Ticking abs : 58.5, step : 0.5, size : 430\n",
      "Ticking abs : 59.0, step : 0.5, size : 574\n",
      "Ticking abs : 59.5, step : 0.5, size : 745\n"
     ]
    }
   ],
   "source": [
    "bb = config_jax2()"
   ]
  },
  {
   "cell_type": "code",
   "execution_count": 17,
   "metadata": {},
   "outputs": [
    {
     "name": "stdout",
     "output_type": "stream",
     "text": [
      "2026\n",
      "1005\n",
      "478\n"
     ]
    }
   ],
   "source": [
    "len(bb.population)\n",
    "\n",
    "# for segment begining to E60\n",
    "cells_in_window = [c for c in bb.population.values() if c.appear_time >= 50 and c.appear_time < 60]\n",
    "print(len(cells_in_window))\n",
    "cells_divided = [c for c in cells_in_window if c.type().name == \"Progenitor\"]\n",
    "print(len(cells_divided))\n",
    "\n",
    "# filter cell with defined daughter\n",
    "def all_daughter_defined(cell, population):\n",
    "    \"\"\" Does not check if has daughters ! \"\"\"\n",
    "    if not len(cell.children) == 2:\n",
    "        return False\n",
    "    \n",
    "    for daughter_id in cell.children:\n",
    "        if population[daughter_id].type().name == \"Cell\":\n",
    "            return False\n",
    "    return True\n",
    "\n",
    "final_cells = list(filter(lambda x: all_daughter_defined(x, bb.population), cells_divided))\n",
    "print(len(final_cells))"
   ]
  },
  {
   "cell_type": "code",
   "execution_count": 24,
   "metadata": {},
   "outputs": [
    {
     "data": {
      "text/plain": [
       "(0, 1, 2, 3, 4)"
      ]
     },
     "execution_count": 24,
     "metadata": {},
     "output_type": "execute_result"
    }
   ],
   "source": [
    "tuple(x for x in range(5))"
   ]
  },
  {
   "cell_type": "code",
   "execution_count": 25,
   "metadata": {},
   "outputs": [],
   "source": [
    "def pairs(cells, population):\n",
    "    return [tuple(population[x].type().name for x in cell.children) for cell in cells]"
   ]
  },
  {
   "cell_type": "code",
   "execution_count": 28,
   "metadata": {},
   "outputs": [],
   "source": [
    "def get_fmetric_pairs(population, min_time=50, max_time=60):\n",
    "    \"\"\" This function is only valid for GRNCells\"\"\"\n",
    "    cells_in_window = [c for c in bb.population.values() \n",
    "                       if c.appear_time >= min_time and c.appear_time < max_time]\n",
    "    cells_divided = [c for c in cells_in_window if c.type().name == \"Progenitor\"]\n",
    "    final_cells = list(filter(lambda x: all_daughter_defined(x, bb.population), cells_divided))\n",
    "    \n",
    "    return pairs(final_cells, population)"
   ]
  },
  {
   "cell_type": "code",
   "execution_count": 29,
   "metadata": {},
   "outputs": [],
   "source": [
    "cell_pairs = get_fmetric_pairs(bb.population)"
   ]
  },
  {
   "cell_type": "code",
   "execution_count": 30,
   "metadata": {},
   "outputs": [
    {
     "data": {
      "text/plain": [
       "('Progenitor', 'Progenitor')"
      ]
     },
     "execution_count": 30,
     "metadata": {},
     "output_type": "execute_result"
    }
   ],
   "source": [
    "cell_pairs[0]"
   ]
  },
  {
   "cell_type": "code",
   "execution_count": 34,
   "metadata": {},
   "outputs": [],
   "source": [
    "def fate_corr(cell_pairs, kC=\"Progenitor\", kN=\"PostMitotic\"):\n",
    "    counts = Counter(cell_pairs)\n",
    "    \n",
    "    CC, CN, NN = counts[(kC, kC)], counts[(kN, kC)] + counts[(kC, kN)], counts[(kN, kN)]\n",
    "    T = CC + CN + NN\n",
    "    pCC, pCN, pNN = CC / T, CN / T, NN / T\n",
    "    all_C, all_N = 2 * CC + CN, 2 * NN + CN\n",
    "    pC, pN = all_C / (T * 2), all_N / (T * 2)\n",
    "    eCC, eCN, eNN = pC**2, 2*pC*pN, pN**2\n",
    "    f_metric = 1 - pCN / eCN\n",
    "    return f_metric"
   ]
  },
  {
   "cell_type": "code",
   "execution_count": 35,
   "metadata": {},
   "outputs": [
    {
     "data": {
      "text/plain": [
       "-0.033513513513513615"
      ]
     },
     "execution_count": 35,
     "metadata": {},
     "output_type": "execute_result"
    }
   ],
   "source": [
    "fate_corr(cell_pairs)"
   ]
  }
 ],
 "metadata": {
  "kernelspec": {
   "display_name": "Python 3",
   "language": "python",
   "name": "python3"
  },
  "language_info": {
   "codemirror_mode": {
    "name": "ipython",
    "version": 3
   },
   "file_extension": ".py",
   "mimetype": "text/x-python",
   "name": "python",
   "nbconvert_exporter": "python",
   "pygments_lexer": "ipython3",
   "version": "3.8.10"
  }
 },
 "nbformat": 4,
 "nbformat_minor": 4
}
