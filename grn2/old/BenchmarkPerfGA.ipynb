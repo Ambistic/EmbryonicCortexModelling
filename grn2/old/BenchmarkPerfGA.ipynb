{
 "cells": [
  {
   "cell_type": "code",
   "execution_count": 1,
   "metadata": {},
   "outputs": [],
   "source": [
    "import os\n",
    "os.environ[\"XLA_PYTHON_CLIENT_MEM_FRACTION\"] = \".20\""
   ]
  },
  {
   "cell_type": "code",
   "execution_count": 2,
   "metadata": {},
   "outputs": [],
   "source": [
    "import pandas as pd\n",
    "from model import Brain\n",
    "from submodels import factories\n",
    "import matplotlib.pyplot as plt\n",
    "import pandas as pd\n",
    "from jf.db import DB\n",
    "from lib.plot import plot_2d_positions_colors\n",
    "from lib.sde.grn2 import GRNMain2\n",
    "from lib.sde.grn import GRNMain, grn_from_json\n",
    "from lib.sde.cell2 import Cell2, CellBatch\n",
    "from lib.sde.mutate import mutate_grn2\n",
    "from jf.profiler import Profiler"
   ]
  },
  {
   "cell_type": "code",
   "execution_count": 3,
   "metadata": {},
   "outputs": [],
   "source": [
    "from itertools import accumulate\n",
    "import numpy as np\n",
    "from collections import defaultdict\n",
    "import jax.numpy as jnp\n",
    "import numpy as np"
   ]
  },
  {
   "cell_type": "code",
   "execution_count": 4,
   "metadata": {},
   "outputs": [],
   "source": [
    "HISTORY = defaultdict(dict)"
   ]
  },
  {
   "cell_type": "code",
   "execution_count": 5,
   "metadata": {},
   "outputs": [],
   "source": [
    "END_TIME = 54"
   ]
  },
  {
   "cell_type": "code",
   "execution_count": 6,
   "metadata": {},
   "outputs": [],
   "source": [
    "HALL_OF_FAME = []"
   ]
  },
  {
   "cell_type": "code",
   "execution_count": 7,
   "metadata": {},
   "outputs": [],
   "source": [
    "REF = pd.read_csv(\"output/results/setup_basic/export/ref_basic.csv\")  # ref is a mean"
   ]
  },
  {
   "cell_type": "code",
   "execution_count": 8,
   "metadata": {},
   "outputs": [],
   "source": [
    "def individual_generator():\n",
    "    return Solution(GRNMain2(5, 0, 5))"
   ]
  },
  {
   "cell_type": "code",
   "execution_count": 9,
   "metadata": {},
   "outputs": [],
   "source": [
    "# set a similar grn\n",
    "ref_grn = \"\"\"\n",
    "{\"object_name\": \"GRNMain2\", \"nb_start_gene\": 5, \"nb_off_trees\": 0, \"nb_genes\": 5,\n",
    "\"params\": [[2.007115364074707, 0.3403625786304474, 1.3039988279342651, 2.0225210189819336, 1.5461641550064087],\n",
    "[2.375922203063965, 7.7354350090026855, 5.84783411026001, 6.466616153717041, 8.159892082214355],\n",
    "[7.479958534240723, 5.624154090881348, 8.094839096069336, 1.19766366481781, 8.925475120544434],\n",
    "[9.56630802154541, 3.818467378616333, 9.031471252441406, 7.2058916091918945, 1.283474326133728],\n",
    "[6.358775615692139, 5.765143394470215, 9.488754272460938, 2.5621650218963623, 5.002293586730957],\n",
    "[3.9804110527038574, 4.080349922180176, 9.770094871520996, 9.090896606445312, 4.010365009307861],\n",
    "[5.9285149574279785, 3.148050546646118, 4.948235511779785, 3.5156848430633545, 4.3454718589782715],\n",
    "[8.12299919128418, 2.998713493347168, 5.796504020690918, 9.65429973602295, 0.45337215065956116]],\n",
    "\"trees\": [{\"op\": \"Var\", \"val\": 2}, {\"op\": \"Var\", \"val\": 0},\n",
    "{\"op\": \"And\", \"F1\": {\"op\": \"Or\", \"F1\": {\"op\": \"Var\", \"val\": 1},\n",
    "\"F2\": {\"op\": \"Or\", \"F1\": {\"op\": \"Var\", \"val\": 2}, \"F2\": {\"op\": \"Var\", \"val\": 3}}},\n",
    "\"F2\": {\"op\": \"Not\", \"F\": {\"op\": \"Or\", \"F1\": {\"op\": \"Var\", \"val\": 4}, \"F2\": {\"op\": \"Var\", \"val\": 0}}}},\n",
    "{\"op\": \"And\", \"F1\": {\"op\": \"Var\", \"val\": 4}, \"F2\": {\"op\": \"Var\", \"val\": 2}},\n",
    "{\"op\": \"Or\", \"F1\": {\"op\": \"Var\", \"val\": 2}, \"F2\": {\"op\": \"Not\", \"F\": {\"op\": \"Or\", \"F1\": {\"op\": \"Var\", \"val\": 1},\n",
    "\"F2\": {\"op\": \"Var\", \"val\": 3}}}}]}\n",
    "\"\"\""
   ]
  },
  {
   "cell_type": "code",
   "execution_count": 10,
   "metadata": {},
   "outputs": [],
   "source": [
    "# set a similar grn\n",
    "ref_grn = \"\"\"\n",
    "{\"object_name\": \"GRNMain2\", \"nb_start_gene\": 5, \"nb_off_trees\": 0, \"nb_genes\": 5,\n",
    "\"params\": [[2.007115364074707, 0.3403625786304474, 1.3039988279342651, 2.0225210189819336, 1.5461641550064087],\n",
    "[0.1, 0.1, 0.1, 0.1, 0.1],\n",
    "[7.479958534240723, 5.624154090881348, 8.094839096069336, 1.19766366481781, 8.925475120544434],\n",
    "[9.56630802154541, 3.818467378616333, 9.031471252441406, 7.2058916091918945, 1.283474326133728],\n",
    "[6.358775615692139, 5.765143394470215, 9.488754272460938, 2.5621650218963623, 5.002293586730957],\n",
    "[3.9804110527038574, 4.080349922180176, 9.770094871520996, 9.090896606445312, 4.010365009307861],\n",
    "[5.9285149574279785, 3.148050546646118, 4.948235511779785, 3.5156848430633545, 4.3454718589782715],\n",
    "[8.12299919128418, 2.998713493347168, 5.796504020690918, 9.65429973602295, 0.45337215065956116]],\n",
    "\"trees\": [{\"op\": \"Var\", \"val\": 2}, {\"op\": \"Var\", \"val\": 0},\n",
    "{\"op\": \"And\", \"F1\": {\"op\": \"Or\", \"F1\": {\"op\": \"Var\", \"val\": 1},\n",
    "\"F2\": {\"op\": \"Or\", \"F1\": {\"op\": \"Var\", \"val\": 2}, \"F2\": {\"op\": \"Var\", \"val\": 3}}},\n",
    "\"F2\": {\"op\": \"Not\", \"F\": {\"op\": \"Or\", \"F1\": {\"op\": \"Var\", \"val\": 4}, \"F2\": {\"op\": \"Var\", \"val\": 0}}}},\n",
    "{\"op\": \"And\", \"F1\": {\"op\": \"Var\", \"val\": 4}, \"F2\": {\"op\": \"Var\", \"val\": 2}},\n",
    "{\"op\": \"Or\", \"F1\": {\"op\": \"Var\", \"val\": 2}, \"F2\": {\"op\": \"Not\", \"F\": {\"op\": \"Or\", \"F1\": {\"op\": \"Var\", \"val\": 1},\n",
    "\"F2\": {\"op\": \"Var\", \"val\": 3}}}}]}\n",
    "\"\"\""
   ]
  },
  {
   "cell_type": "code",
   "execution_count": null,
   "metadata": {},
   "outputs": [],
   "source": []
  },
  {
   "cell_type": "code",
   "execution_count": 11,
   "metadata": {},
   "outputs": [],
   "source": [
    "def config_numpy():\n",
    "    grn = GRNMain(5, 0, 5)\n",
    "    ccls = factories[\"grn1\"](grn=grn)\n",
    "\n",
    "    bb = Brain(time_step=0.5, verbose=False, start_population=4, max_pop_size=1e3,\n",
    "            cell_cls=ccls.generate, end_time=60, start_time=50, silent=True)\n",
    "    bb.run()"
   ]
  },
  {
   "cell_type": "code",
   "execution_count": 12,
   "metadata": {},
   "outputs": [],
   "source": [
    "def config_jax1():\n",
    "    grn = grn_from_json(ref_grn)\n",
    "    grn.compile()\n",
    "    ccls = factories[\"grn2\"](grn=grn)\n",
    "\n",
    "    bb = Brain(time_step=0.5, verbose=False, start_population=4, max_pop_size=1e3,\n",
    "            cell_cls=ccls, end_time=60, start_time=50, silent=False)\n",
    "    bb.run()\n",
    "    return grn"
   ]
  },
  {
   "cell_type": "code",
   "execution_count": 13,
   "metadata": {},
   "outputs": [],
   "source": [
    "# grn = config_jax1()"
   ]
  },
  {
   "cell_type": "code",
   "execution_count": 14,
   "metadata": {},
   "outputs": [],
   "source": [
    "# grn.to_json()"
   ]
  },
  {
   "cell_type": "code",
   "execution_count": 15,
   "metadata": {},
   "outputs": [],
   "source": [
    "def config_jax2():\n",
    "    grn = grn_from_json(ref_grn)\n",
    "    grn.compile()\n",
    "    ccls = factories[\"grn2_opti\"](grn=grn)\n",
    "\n",
    "    bb = Brain(time_step=0.5, verbose=False, start_population=4, max_pop_size=1e3,\n",
    "            cell_cls=ccls, end_time=60, start_time=50, silent=False)\n",
    "    bb.run()\n",
    "    return grn"
   ]
  },
  {
   "cell_type": "code",
   "execution_count": 20,
   "metadata": {},
   "outputs": [
    {
     "name": "stdout",
     "output_type": "stream",
     "text": [
      "Ticking abs : 50.0, step : 0.5, size : 16\n",
      "Ticking abs : 50.5, step : 0.5, size : 12\n",
      "Ticking abs : 51.0, step : 0.5, size : 16\n",
      "Ticking abs : 51.5, step : 0.5, size : 19\n",
      "Ticking abs : 52.0, step : 0.5, size : 25\n",
      "Ticking abs : 52.5, step : 0.5, size : 30\n",
      "Ticking abs : 53.0, step : 0.5, size : 42\n",
      "Ticking abs : 53.5, step : 0.5, size : 51\n",
      "Ticking abs : 54.0, step : 0.5, size : 69\n",
      "Ticking abs : 54.5, step : 0.5, size : 89\n",
      "Ticking abs : 55.0, step : 0.5, size : 117\n",
      "Ticking abs : 55.5, step : 0.5, size : 144\n",
      "Ticking abs : 56.0, step : 0.5, size : 192\n",
      "Ticking abs : 56.5, step : 0.5, size : 244\n",
      "Ticking abs : 57.0, step : 0.5, size : 320\n",
      "Ticking abs : 57.5, step : 0.5, size : 419\n",
      "Ticking abs : 58.0, step : 0.5, size : 558\n",
      "Ticking abs : 58.5, step : 0.5, size : 726\n",
      "Ticking abs : 59.0, step : 0.5, size : 957\n",
      "Ticking abs : 59.5, step : 0.5, size : 1251\n",
      "Population explosion\n",
      "Population exploded or extinguished\n",
      "Ticking abs : 50.0, step : 0.5, size : 16\n",
      "Ticking abs : 50.5, step : 0.5, size : 5\n",
      "Population exploded or extinguished\n",
      "Ticking abs : 50.0, step : 0.5, size : 16\n",
      "Ticking abs : 50.5, step : 0.5, size : 7\n",
      "Population exploded or extinguished\n",
      "Ticking abs : 50.0, step : 0.5, size : 16\n",
      "Ticking abs : 50.5, step : 0.5, size : 7\n",
      "Population exploded or extinguished\n",
      "Ticking abs : 50.0, step : 0.5, size : 16\n",
      "Ticking abs : 50.5, step : 0.5, size : 12\n",
      "Ticking abs : 51.0, step : 0.5, size : 15\n",
      "Ticking abs : 51.5, step : 0.5, size : 18\n",
      "Ticking abs : 52.0, step : 0.5, size : 21\n",
      "Ticking abs : 52.5, step : 0.5, size : 28\n",
      "Ticking abs : 53.0, step : 0.5, size : 34\n",
      "Ticking abs : 53.5, step : 0.5, size : 45\n",
      "Ticking abs : 54.0, step : 0.5, size : 57\n",
      "Ticking abs : 54.5, step : 0.5, size : 73\n",
      "Ticking abs : 55.0, step : 0.5, size : 93\n",
      "Ticking abs : 55.5, step : 0.5, size : 120\n",
      "Ticking abs : 56.0, step : 0.5, size : 149\n",
      "Ticking abs : 56.5, step : 0.5, size : 195\n",
      "Ticking abs : 57.0, step : 0.5, size : 257\n",
      "Ticking abs : 57.5, step : 0.5, size : 332\n",
      "Ticking abs : 58.0, step : 0.5, size : 428\n",
      "Ticking abs : 58.5, step : 0.5, size : 579\n",
      "Ticking abs : 59.0, step : 0.5, size : 748\n",
      "Ticking abs : 59.5, step : 0.5, size : 986\n",
      "Ticking abs : 50.0, step : 0.5, size : 16\n",
      "Ticking abs : 50.5, step : 0.5, size : 7\n",
      "Population exploded or extinguished\n",
      "Ticking abs : 50.0, step : 0.5, size : 16\n",
      "Ticking abs : 50.5, step : 0.5, size : 9\n",
      "Ticking abs : 51.0, step : 0.5, size : 9\n",
      "Ticking abs : 51.5, step : 0.5, size : 12\n",
      "Ticking abs : 52.0, step : 0.5, size : 16\n",
      "Ticking abs : 52.5, step : 0.5, size : 18\n",
      "Ticking abs : 53.0, step : 0.5, size : 23\n",
      "Ticking abs : 53.5, step : 0.5, size : 31\n",
      "Ticking abs : 54.0, step : 0.5, size : 36\n",
      "Ticking abs : 54.5, step : 0.5, size : 48\n",
      "Ticking abs : 55.0, step : 0.5, size : 64\n",
      "Ticking abs : 55.5, step : 0.5, size : 71\n",
      "Ticking abs : 56.0, step : 0.5, size : 106\n",
      "Ticking abs : 56.5, step : 0.5, size : 133\n",
      "Ticking abs : 57.0, step : 0.5, size : 165\n",
      "Ticking abs : 57.5, step : 0.5, size : 223\n",
      "Ticking abs : 58.0, step : 0.5, size : 287\n",
      "Ticking abs : 58.5, step : 0.5, size : 372\n",
      "Ticking abs : 59.0, step : 0.5, size : 491\n",
      "Ticking abs : 59.5, step : 0.5, size : 647\n",
      "Ticking abs : 50.0, step : 0.5, size : 16\n",
      "Ticking abs : 50.5, step : 0.5, size : 14\n",
      "Ticking abs : 51.0, step : 0.5, size : 15\n",
      "Ticking abs : 51.5, step : 0.5, size : 23\n",
      "Ticking abs : 52.0, step : 0.5, size : 28\n",
      "Ticking abs : 52.5, step : 0.5, size : 29\n",
      "Ticking abs : 53.0, step : 0.5, size : 41\n",
      "Ticking abs : 53.5, step : 0.5, size : 54\n",
      "Ticking abs : 54.0, step : 0.5, size : 57\n",
      "Ticking abs : 54.5, step : 0.5, size : 86\n",
      "Ticking abs : 55.0, step : 0.5, size : 108\n",
      "Ticking abs : 55.5, step : 0.5, size : 129\n",
      "Ticking abs : 56.0, step : 0.5, size : 188\n",
      "Ticking abs : 56.5, step : 0.5, size : 231\n",
      "Ticking abs : 57.0, step : 0.5, size : 303\n",
      "Ticking abs : 57.5, step : 0.5, size : 417\n",
      "Ticking abs : 58.0, step : 0.5, size : 523\n",
      "Ticking abs : 58.5, step : 0.5, size : 693\n",
      "Ticking abs : 59.0, step : 0.5, size : 900\n",
      "Ticking abs : 59.5, step : 0.5, size : 1185\n",
      "Population explosion\n",
      "Population exploded or extinguished\n",
      "The slowest run took 273.75 times longer than the fastest. This could mean that an intermediate result is being cached.\n",
      "31.2 s ± 36.9 s per loop (mean ± std. dev. of 7 runs, 1 loop each)\n"
     ]
    }
   ],
   "source": [
    "%timeit grn = config_jax2()"
   ]
  },
  {
   "cell_type": "code",
   "execution_count": 17,
   "metadata": {},
   "outputs": [],
   "source": [
    "def config_jax3():\n",
    "    grn = grn_from_json(ref_grn)\n",
    "    grn.compile()\n",
    "    ccls = factories[\"grn2_opti\"](grn=grn)\n",
    "\n",
    "    bb = Brain(time_step=0.5, verbose=False, start_population=4, max_pop_size=1e3,\n",
    "            cell_cls=ccls, end_time=60, start_time=50, silent=False, opti=True)\n",
    "    bb.run()\n",
    "    return grn"
   ]
  },
  {
   "cell_type": "code",
   "execution_count": 21,
   "metadata": {},
   "outputs": [
    {
     "name": "stdout",
     "output_type": "stream",
     "text": [
      "Ticking abs : 50.0, step : 0.5, size : 16\n",
      "Ticking abs : 50.5, step : 0.5, size : 12\n",
      "Ticking abs : 51.0, step : 0.5, size : 13\n",
      "Ticking abs : 51.5, step : 0.5, size : 20\n",
      "Ticking abs : 52.0, step : 0.5, size : 23\n",
      "Ticking abs : 52.5, step : 0.5, size : 25\n",
      "Ticking abs : 53.0, step : 0.5, size : 38\n",
      "Ticking abs : 53.5, step : 0.5, size : 45\n",
      "Ticking abs : 54.0, step : 0.5, size : 55\n",
      "Ticking abs : 54.5, step : 0.5, size : 80\n",
      "Ticking abs : 55.0, step : 0.5, size : 99\n",
      "Ticking abs : 55.5, step : 0.5, size : 128\n",
      "Ticking abs : 56.0, step : 0.5, size : 174\n",
      "Ticking abs : 56.5, step : 0.5, size : 217\n",
      "Ticking abs : 57.0, step : 0.5, size : 292\n",
      "Ticking abs : 57.5, step : 0.5, size : 380\n",
      "Ticking abs : 58.0, step : 0.5, size : 508\n",
      "Ticking abs : 58.5, step : 0.5, size : 669\n",
      "Ticking abs : 59.0, step : 0.5, size : 880\n",
      "Ticking abs : 59.5, step : 0.5, size : 1167\n",
      "Population explosion\n",
      "Population exploded or extinguished\n",
      "Ticking abs : 50.0, step : 0.5, size : 16\n",
      "Ticking abs : 50.5, step : 0.5, size : 10\n",
      "Ticking abs : 51.0, step : 0.5, size : 12\n",
      "Ticking abs : 51.5, step : 0.5, size : 17\n",
      "Ticking abs : 52.0, step : 0.5, size : 19\n",
      "Ticking abs : 52.5, step : 0.5, size : 23\n",
      "Ticking abs : 53.0, step : 0.5, size : 32\n",
      "Ticking abs : 53.5, step : 0.5, size : 36\n",
      "Ticking abs : 54.0, step : 0.5, size : 47\n",
      "Ticking abs : 54.5, step : 0.5, size : 63\n",
      "Ticking abs : 55.0, step : 0.5, size : 78\n",
      "Ticking abs : 55.5, step : 0.5, size : 100\n",
      "Ticking abs : 56.0, step : 0.5, size : 128\n",
      "Ticking abs : 56.5, step : 0.5, size : 165\n",
      "Ticking abs : 57.0, step : 0.5, size : 211\n",
      "Ticking abs : 57.5, step : 0.5, size : 276\n",
      "Ticking abs : 58.0, step : 0.5, size : 359\n",
      "Ticking abs : 58.5, step : 0.5, size : 481\n",
      "Ticking abs : 59.0, step : 0.5, size : 626\n",
      "Ticking abs : 59.5, step : 0.5, size : 823\n",
      "Ticking abs : 50.0, step : 0.5, size : 16\n",
      "Ticking abs : 50.5, step : 0.5, size : 10\n",
      "Ticking abs : 51.0, step : 0.5, size : 13\n",
      "Ticking abs : 51.5, step : 0.5, size : 20\n",
      "Ticking abs : 52.0, step : 0.5, size : 21\n",
      "Ticking abs : 52.5, step : 0.5, size : 26\n",
      "Ticking abs : 53.0, step : 0.5, size : 40\n",
      "Ticking abs : 53.5, step : 0.5, size : 44\n",
      "Ticking abs : 54.0, step : 0.5, size : 60\n",
      "Ticking abs : 54.5, step : 0.5, size : 85\n",
      "Ticking abs : 55.0, step : 0.5, size : 97\n",
      "Ticking abs : 55.5, step : 0.5, size : 139\n",
      "Ticking abs : 56.0, step : 0.5, size : 172\n",
      "Ticking abs : 56.5, step : 0.5, size : 228\n",
      "Ticking abs : 57.0, step : 0.5, size : 304\n",
      "Ticking abs : 57.5, step : 0.5, size : 397\n",
      "Ticking abs : 58.0, step : 0.5, size : 527\n",
      "Ticking abs : 58.5, step : 0.5, size : 692\n",
      "Ticking abs : 59.0, step : 0.5, size : 905\n",
      "Ticking abs : 59.5, step : 0.5, size : 1193\n",
      "Population explosion\n",
      "Population exploded or extinguished\n",
      "Ticking abs : 50.0, step : 0.5, size : 16\n",
      "Ticking abs : 50.5, step : 0.5, size : 10\n",
      "Ticking abs : 51.0, step : 0.5, size : 13\n",
      "Ticking abs : 51.5, step : 0.5, size : 19\n",
      "Ticking abs : 52.0, step : 0.5, size : 20\n",
      "Ticking abs : 52.5, step : 0.5, size : 25\n",
      "Ticking abs : 53.0, step : 0.5, size : 36\n",
      "Ticking abs : 53.5, step : 0.5, size : 40\n",
      "Ticking abs : 54.0, step : 0.5, size : 55\n",
      "Ticking abs : 54.5, step : 0.5, size : 75\n",
      "Ticking abs : 55.0, step : 0.5, size : 88\n",
      "Ticking abs : 55.5, step : 0.5, size : 127\n",
      "Ticking abs : 56.0, step : 0.5, size : 156\n",
      "Ticking abs : 56.5, step : 0.5, size : 210\n",
      "Ticking abs : 57.0, step : 0.5, size : 278\n",
      "Ticking abs : 57.5, step : 0.5, size : 355\n",
      "Ticking abs : 58.0, step : 0.5, size : 479\n",
      "Ticking abs : 58.5, step : 0.5, size : 621\n",
      "Ticking abs : 59.0, step : 0.5, size : 820\n",
      "Ticking abs : 59.5, step : 0.5, size : 1093\n",
      "Population explosion\n",
      "Population exploded or extinguished\n",
      "Ticking abs : 50.0, step : 0.5, size : 16\n",
      "Ticking abs : 50.5, step : 0.5, size : 12\n",
      "Ticking abs : 51.0, step : 0.5, size : 16\n",
      "Ticking abs : 51.5, step : 0.5, size : 22\n",
      "Ticking abs : 52.0, step : 0.5, size : 23\n",
      "Ticking abs : 52.5, step : 0.5, size : 32\n",
      "Ticking abs : 53.0, step : 0.5, size : 40\n",
      "Ticking abs : 53.5, step : 0.5, size : 50\n",
      "Ticking abs : 54.0, step : 0.5, size : 63\n",
      "Ticking abs : 54.5, step : 0.5, size : 82\n",
      "Ticking abs : 55.0, step : 0.5, size : 107\n",
      "Ticking abs : 55.5, step : 0.5, size : 140\n",
      "Ticking abs : 56.0, step : 0.5, size : 173\n",
      "Ticking abs : 56.5, step : 0.5, size : 231\n",
      "Ticking abs : 57.0, step : 0.5, size : 293\n",
      "Ticking abs : 57.5, step : 0.5, size : 391\n",
      "Ticking abs : 58.0, step : 0.5, size : 510\n",
      "Ticking abs : 58.5, step : 0.5, size : 652\n",
      "Ticking abs : 59.0, step : 0.5, size : 856\n",
      "Ticking abs : 59.5, step : 0.5, size : 1126\n",
      "Population explosion\n",
      "Population exploded or extinguished\n",
      "Ticking abs : 50.0, step : 0.5, size : 16\n",
      "Ticking abs : 50.5, step : 0.5, size : 8\n",
      "Ticking abs : 51.0, step : 0.5, size : 9\n",
      "Ticking abs : 51.5, step : 0.5, size : 14\n",
      "Ticking abs : 52.0, step : 0.5, size : 16\n",
      "Ticking abs : 52.5, step : 0.5, size : 18\n",
      "Ticking abs : 53.0, step : 0.5, size : 29\n",
      "Ticking abs : 53.5, step : 0.5, size : 33\n",
      "Ticking abs : 54.0, step : 0.5, size : 38\n",
      "Ticking abs : 54.5, step : 0.5, size : 60\n",
      "Ticking abs : 55.0, step : 0.5, size : 66\n",
      "Ticking abs : 55.5, step : 0.5, size : 87\n",
      "Ticking abs : 56.0, step : 0.5, size : 123\n",
      "Ticking abs : 56.5, step : 0.5, size : 147\n",
      "Ticking abs : 57.0, step : 0.5, size : 200\n",
      "Ticking abs : 57.5, step : 0.5, size : 264\n",
      "Ticking abs : 58.0, step : 0.5, size : 339\n",
      "Ticking abs : 58.5, step : 0.5, size : 462\n",
      "Ticking abs : 59.0, step : 0.5, size : 594\n",
      "Ticking abs : 59.5, step : 0.5, size : 786\n",
      "Ticking abs : 50.0, step : 0.5, size : 16\n",
      "Ticking abs : 50.5, step : 0.5, size : 7\n",
      "Population exploded or extinguished\n",
      "Ticking abs : 50.0, step : 0.5, size : 16\n",
      "Ticking abs : 50.5, step : 0.5, size : 8\n",
      "Ticking abs : 51.0, step : 0.5, size : 12\n",
      "Ticking abs : 51.5, step : 0.5, size : 12\n",
      "Ticking abs : 52.0, step : 0.5, size : 16\n",
      "Ticking abs : 52.5, step : 0.5, size : 21\n",
      "Ticking abs : 53.0, step : 0.5, size : 24\n",
      "Ticking abs : 53.5, step : 0.5, size : 31\n",
      "Ticking abs : 54.0, step : 0.5, size : 43\n",
      "Ticking abs : 54.5, step : 0.5, size : 48\n",
      "Ticking abs : 55.0, step : 0.5, size : 66\n",
      "Ticking abs : 55.5, step : 0.5, size : 86\n",
      "Ticking abs : 56.0, step : 0.5, size : 104\n",
      "Ticking abs : 56.5, step : 0.5, size : 142\n",
      "Ticking abs : 57.0, step : 0.5, size : 180\n",
      "Ticking abs : 57.5, step : 0.5, size : 232\n",
      "Ticking abs : 58.0, step : 0.5, size : 309\n",
      "Ticking abs : 58.5, step : 0.5, size : 402\n",
      "Ticking abs : 59.0, step : 0.5, size : 534\n",
      "Ticking abs : 59.5, step : 0.5, size : 697\n",
      "The slowest run took 73.25 times longer than the fastest. This could mean that an intermediate result is being cached.\n",
      "25.6 s ± 10.7 s per loop (mean ± std. dev. of 7 runs, 1 loop each)\n"
     ]
    }
   ],
   "source": [
    "%timeit grn = config_jax3()"
   ]
  },
  {
   "cell_type": "markdown",
   "metadata": {},
   "source": [
    "It seems that jax jits functions according to the size of the input.  \n",
    "Therefore when the size is changed, it requires to recompute everything"
   ]
  },
  {
   "cell_type": "markdown",
   "metadata": {},
   "source": [
    "# Comparison non opti and opti for computations\n",
    "\n",
    "First we create Cell2 with already defined grn and init val (with set_quant / expr / deriv)\n",
    "Test run"
   ]
  },
  {
   "cell_type": "code",
   "execution_count": 19,
   "metadata": {},
   "outputs": [
    {
     "ename": "RuntimeError",
     "evalue": "No active exception to reraise",
     "output_type": "error",
     "traceback": [
      "\u001b[0;31m---------------------------------------------------------------------------\u001b[0m",
      "\u001b[0;31mRuntimeError\u001b[0m                              Traceback (most recent call last)",
      "\u001b[0;32m<ipython-input-19-9c9a2cba73bf>\u001b[0m in \u001b[0;36m<module>\u001b[0;34m\u001b[0m\n\u001b[0;32m----> 1\u001b[0;31m \u001b[0;32mraise\u001b[0m\u001b[0;34m\u001b[0m\u001b[0;34m\u001b[0m\u001b[0m\n\u001b[0m",
      "\u001b[0;31mRuntimeError\u001b[0m: No active exception to reraise"
     ]
    }
   ],
   "source": [
    "raise"
   ]
  },
  {
   "cell_type": "code",
   "execution_count": null,
   "metadata": {},
   "outputs": [],
   "source": [
    "grn = grn_from_json(ref_grn)\n",
    "grn.compile()"
   ]
  },
  {
   "cell_type": "code",
   "execution_count": null,
   "metadata": {},
   "outputs": [],
   "source": [
    "grn.noise"
   ]
  },
  {
   "cell_type": "code",
   "execution_count": null,
   "metadata": {},
   "outputs": [],
   "source": [
    "vec_quant = grn.get_vector_quantities()"
   ]
  },
  {
   "cell_type": "code",
   "execution_count": null,
   "metadata": {},
   "outputs": [],
   "source": [
    "c = Cell2(grn, vec_quant)"
   ]
  },
  {
   "cell_type": "code",
   "execution_count": null,
   "metadata": {},
   "outputs": [],
   "source": [
    "c.run_step()"
   ]
  },
  {
   "cell_type": "code",
   "execution_count": null,
   "metadata": {},
   "outputs": [],
   "source": [
    "c.quantities"
   ]
  },
  {
   "cell_type": "code",
   "execution_count": null,
   "metadata": {},
   "outputs": [],
   "source": [
    "c.check_action(1, 1), c.check_action(1, 2)"
   ]
  },
  {
   "cell_type": "code",
   "execution_count": null,
   "metadata": {},
   "outputs": [],
   "source": [
    "def compute_mean_raw(vec_quant, grn):\n",
    "    cells = []\n",
    "    for i in range(100):\n",
    "        c = Cell2(grn, vec_quant)\n",
    "        c.run_step()\n",
    "        c.run_step()\n",
    "        cells.append(c)\n",
    "    mean_q = np.var(np.array([c.quantities for c in cells]), axis=0)\n",
    "    mean_e = np.var(np.array([c.expression for c in cells]), axis=0)\n",
    "    mean_d = np.var(np.array([c.derivative for c in cells]), axis=0)\n",
    "    return mean_q, mean_e, mean_d"
   ]
  },
  {
   "cell_type": "code",
   "execution_count": null,
   "metadata": {},
   "outputs": [],
   "source": [
    "def compute_mean_batch(vec_quant, grn):\n",
    "    cells = [Cell2(grn, vec_quant) for i in range(100)]\n",
    "    b = CellBatch(cells)\n",
    "    b.run_step()\n",
    "    b.run_step()\n",
    "    mean_q = np.var(np.array([c.quantities for c in b.cells]), axis=0)\n",
    "    mean_e = np.var(np.array([c.expression for c in b.cells]), axis=0)\n",
    "    mean_d = np.var(np.array([c.derivative for c in b.cells]), axis=0)\n",
    "    return mean_q, mean_e, mean_d"
   ]
  },
  {
   "cell_type": "code",
   "execution_count": null,
   "metadata": {},
   "outputs": [],
   "source": [
    "res1 = compute_mean_raw(vec_quant, grn)\n",
    "print(\"e\")"
   ]
  },
  {
   "cell_type": "code",
   "execution_count": null,
   "metadata": {},
   "outputs": [],
   "source": [
    "res2 = compute_mean_batch(vec_quant, grn)\n",
    "print(\"e\")"
   ]
  },
  {
   "cell_type": "code",
   "execution_count": null,
   "metadata": {},
   "outputs": [],
   "source": [
    "for i, j in zip(res1, res2):\n",
    "    print(\"Compare ->\")\n",
    "    print(i)\n",
    "    print(j)\n",
    "    print()"
   ]
  },
  {
   "cell_type": "code",
   "execution_count": null,
   "metadata": {},
   "outputs": [],
   "source": []
  }
 ],
 "metadata": {
  "kernelspec": {
   "display_name": "Python 3",
   "language": "python",
   "name": "python3"
  },
  "language_info": {
   "codemirror_mode": {
    "name": "ipython",
    "version": 3
   },
   "file_extension": ".py",
   "mimetype": "text/x-python",
   "name": "python",
   "nbconvert_exporter": "python",
   "pygments_lexer": "ipython3",
   "version": "3.8.10"
  }
 },
 "nbformat": 4,
 "nbformat_minor": 4
}
