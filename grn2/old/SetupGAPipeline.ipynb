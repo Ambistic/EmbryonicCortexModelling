{
 "cells": [
  {
   "cell_type": "code",
   "execution_count": 1,
   "metadata": {},
   "outputs": [],
   "source": [
    "import pandas as pd\n",
    "from model import Brain\n",
    "from submodels import factories\n",
    "import matplotlib.pyplot as plt\n",
    "import pandas as pd\n",
    "from jf.db import DB\n",
    "from lib.plot import plot_2d_positions_colors\n",
    "from lib.sde.grn import GRNMain\n",
    "from lib.sde.mutate import mutate_grn"
   ]
  },
  {
   "cell_type": "code",
   "execution_count": 2,
   "metadata": {},
   "outputs": [
    {
     "data": {
      "text/plain": [
       "'\\nJust need to finalize the mutation\\nThen we shall be close to first running\\n'"
      ]
     },
     "execution_count": 2,
     "metadata": {},
     "output_type": "execute_result"
    }
   ],
   "source": [
    "\"\"\"\n",
    "Just need to finalize the mutation\n",
    "Then we shall be close to first running\n",
    "\"\"\""
   ]
  },
  {
   "cell_type": "code",
   "execution_count": 3,
   "metadata": {},
   "outputs": [],
   "source": [
    "from itertools import accumulate\n",
    "import numpy as np"
   ]
  },
  {
   "cell_type": "code",
   "execution_count": 4,
   "metadata": {},
   "outputs": [],
   "source": [
    "END_TIME = 65"
   ]
  },
  {
   "cell_type": "code",
   "execution_count": 5,
   "metadata": {},
   "outputs": [],
   "source": [
    "HALL_OF_FAME = []"
   ]
  },
  {
   "cell_type": "code",
   "execution_count": 6,
   "metadata": {},
   "outputs": [],
   "source": [
    "REF = pd.read_csv(\"output/results/setup_basic/export/ref_basic.csv\")  # ref is a mean"
   ]
  },
  {
   "cell_type": "code",
   "execution_count": 7,
   "metadata": {},
   "outputs": [],
   "source": [
    "def individual_generator():\n",
    "    return Solution(GRNMain(5, 0, 5))"
   ]
  },
  {
   "cell_type": "code",
   "execution_count": 8,
   "metadata": {},
   "outputs": [],
   "source": [
    "if False:\n",
    "    grn = GRNMain(5, 0, 5)\n",
    "    ccls = factories[\"grn1\"](grn=grn)\n",
    "\n",
    "    bb = Brain(time_step=0.5, verbose=False, start_population=4, max_pop_size=1e3,\n",
    "            cell_cls=ccls.generate, end_time=60, start_time=50, silent=True)\n",
    "    bb.run()"
   ]
  },
  {
   "cell_type": "code",
   "execution_count": 9,
   "metadata": {},
   "outputs": [],
   "source": [
    "def r():\n",
    "    return np.random.uniform(0, 1)\n",
    "\n",
    "class Solution:\n",
    "    def __init__(self, grn):\n",
    "        self.grn = grn\n",
    "        \n",
    "    def copy(self):\n",
    "        return Solution(self.grn.copy())\n",
    "        \n",
    "    def mutate(self):\n",
    "        mutate_grn(self.grn)"
   ]
  },
  {
   "cell_type": "code",
   "execution_count": 10,
   "metadata": {},
   "outputs": [
    {
     "data": {
      "text/plain": [
       ">> G_0: b: 6.62; m: 7.26; deg: 5.89; expr: 6.67; thr: 6.99; theta: 5.57; tree : (0 AND (2 OR 3))\n",
       ">> G_1: b: 7.58; m: 8.03; deg: 9.30; expr: 5.67; thr: 5.36; theta: 3.82; tree : NOT 2\n",
       ">> G_2: b: 2.70; m: 1.80; deg: 7.40; expr: 5.24; thr: 3.17; theta: 9.82; tree : 2\n",
       ">> G_3: b: 6.27; m: 6.98; deg: 6.47; expr: 8.36; thr: 5.38; theta: 1.47; tree : 3\n",
       ">> G_4: b: 2.67; m: 8.43; deg: 9.76; expr: 7.41; thr: 3.16; theta: 4.05; tree : (0 AND 3)"
      ]
     },
     "execution_count": 10,
     "metadata": {},
     "output_type": "execute_result"
    }
   ],
   "source": [
    "individual_generator().grn"
   ]
  },
  {
   "cell_type": "code",
   "execution_count": 11,
   "metadata": {},
   "outputs": [],
   "source": [
    "def shrink_and_align_stats(stats, ref, max_step=None):\n",
    "    min_step = max(min(stats.time), min(ref.time))\n",
    "    if max_step is None:\n",
    "        max_step = max(ref.time)\n",
    "    \n",
    "    new_stats = stats[(stats.time >= min_step) & (stats.time <= max_step)].set_index(\"time\")\n",
    "    new_ref = ref[(ref.time >= min_step) & (ref.time <= max_step)].set_index(\"time\")\n",
    "    \n",
    "    return new_stats, new_ref"
   ]
  },
  {
   "cell_type": "code",
   "execution_count": 12,
   "metadata": {},
   "outputs": [],
   "source": [
    "# compare only the progenitor_pop_size\n",
    "def evaluating_function(stats, ref, max_step=None):\n",
    "    \"\"\"\n",
    "    The evaluation function for progenitor population size.\n",
    "    The lower is the better\n",
    "    :param stats: the stats of the bb after running\n",
    "    \"\"\"\n",
    "    colname_ref = \"size_type_Cycling\"\n",
    "    colname_stats = \"progenitor_pop_size\"\n",
    "    # scale\n",
    "    stats, ref = shrink_and_align_stats(stats, ref, max_step=max_step)\n",
    "    \n",
    "    min_step = min(ref.index)  # ref.index is the time\n",
    "    stats[colname_stats] = stats[colname_stats] / stats[colname_stats].get(min_step)\n",
    "    ref[colname_ref] = ref[colname_ref] / ref[colname_ref].get(min_step)\n",
    "    \n",
    "    err = 0\n",
    "    for t in ref.index:\n",
    "        val_ref = ref[colname_ref].get(t, 0)\n",
    "        val_stats = stats[colname_stats].get(t, 0)\n",
    "        err += (val_ref - val_stats)**2 / val_ref\n",
    "        \n",
    "    return err"
   ]
  },
  {
   "cell_type": "code",
   "execution_count": 13,
   "metadata": {},
   "outputs": [],
   "source": [
    "def run_grn(grn):\n",
    "    ccls = factories[\"grn1\"](grn=grn)\n",
    "    bb = Brain(time_step=0.5, verbose=False, start_population=4, max_pop_size=1e3,\n",
    "            cell_cls=ccls.generate, end_time=END_TIME, start_time=50, silent=True)\n",
    "    bb.run()\n",
    "    return bb"
   ]
  },
  {
   "cell_type": "code",
   "execution_count": 14,
   "metadata": {},
   "outputs": [],
   "source": [
    "def fitness_func(grn):\n",
    "    bb = run_grn(grn)\n",
    "    output = evaluating_function(bb.stats, REF, max_step=END_TIME)\n",
    "    fitness = 1.0 / output\n",
    "    return fitness"
   ]
  },
  {
   "cell_type": "code",
   "execution_count": 15,
   "metadata": {},
   "outputs": [],
   "source": [
    "# generation\n",
    "POP_SIZE = 30\n",
    "N_GEN = 30\n",
    "def do_init_pop():\n",
    "    return [individual_generator() for i in range(POP_SIZE)]\n",
    "\n",
    "def do_fitness(pop):\n",
    "    return [fitness_func(sol.grn) for sol in pop]\n",
    "\n",
    "def do_selection(pop_fit, pop):\n",
    "    # print(\"Fit score : \", pop_fit)\n",
    "    pop_sel = []\n",
    "    acc = list(accumulate(pop_fit))\n",
    "    best = max(pop_fit)\n",
    "    best_sol = pop[pop_fit.index(best)]\n",
    "\n",
    "    for i in range(POP_SIZE):\n",
    "        c = np.random.uniform(0, acc[-1])\n",
    "        chosen_fit = list(filter(lambda x: x > c, acc))[0]\n",
    "        chosen_id = acc.index(chosen_fit)\n",
    "        pop_sel.append(pop[chosen_id].copy())\n",
    "        \n",
    "    return pop_sel, best, best_sol\n",
    "\n",
    "def do_mutation(pop_sel):\n",
    "    [p.mutate() for p in pop_sel]\n",
    "    return pop_sel"
   ]
  },
  {
   "cell_type": "code",
   "execution_count": 16,
   "metadata": {},
   "outputs": [],
   "source": [
    "def main():\n",
    "    bbest = 0\n",
    "    ttbest = None\n",
    "    pop = do_init_pop()\n",
    "    for generation in range(N_GEN):\n",
    "        fit = do_fitness(pop)\n",
    "        sel, best, best_sol = do_selection(fit, pop)\n",
    "        if best > bbest:\n",
    "            print(f\"Best {best}\")\n",
    "            bbest = best\n",
    "            ttbest = best_sol\n",
    "            HALL_OF_FAME.append(best_sol)\n",
    "        else:\n",
    "            print(\"--\")\n",
    "        pop = do_mutation(sel)\n",
    "        \n",
    "    return ttbest"
   ]
  },
  {
   "cell_type": "code",
   "execution_count": 17,
   "metadata": {},
   "outputs": [
    {
     "name": "stdout",
     "output_type": "stream",
     "text": [
      "Best 0.0626588934835931\n",
      "Best 0.06673908095941342\n",
      "Best 0.06833043927750959\n",
      "--\n",
      "Best 0.0886900458567157\n",
      "Best 0.090753685668276\n",
      "--\n",
      "--\n",
      "--\n",
      "--\n",
      "--\n",
      "--\n",
      "--\n",
      "--\n",
      "--\n",
      "--\n",
      "--\n",
      "--\n",
      "--\n",
      "Best 0.09363754574199926\n",
      "--\n",
      "Best 0.10184933781636514\n",
      "Best 0.11634677437861031\n",
      "--\n",
      "--\n",
      "--\n",
      "--\n",
      "Best 0.12017775372429572\n",
      "Best 0.12686312012129725\n",
      "Best 0.1273979947088045\n"
     ]
    }
   ],
   "source": [
    "sol = main()"
   ]
  },
  {
   "cell_type": "code",
   "execution_count": 18,
   "metadata": {},
   "outputs": [
    {
     "data": {
      "text/plain": [
       "NOT NOT 3"
      ]
     },
     "execution_count": 18,
     "metadata": {},
     "output_type": "execute_result"
    }
   ],
   "source": [
    "sol.grn.genes[4].tree"
   ]
  },
  {
   "cell_type": "code",
   "execution_count": 19,
   "metadata": {},
   "outputs": [
    {
     "name": "stdout",
     "output_type": "stream",
     "text": [
      "0.06077594662305687\n",
      "0.061572045341208415\n",
      "0.061634086320164844\n",
      "0.08359970246458692\n",
      "0.08575667192482939\n",
      "0.08295905130146962\n",
      "0.08326296869683647\n",
      "0.06289485237644873\n",
      "0.12150281058012825\n",
      "0.11920740317857523\n",
      "0.11313229919093896\n"
     ]
    }
   ],
   "source": [
    "for one in HALL_OF_FAME:\n",
    "    print(fitness_func(one.grn))"
   ]
  },
  {
   "cell_type": "code",
   "execution_count": 20,
   "metadata": {},
   "outputs": [
    {
     "data": {
      "text/plain": [
       ">> G_0: b: 5.87; m: 2.05; deg: 3.86; expr: 7.61; thr: 0.25; theta: 4.44; tree : 1\n",
       ">> G_1: b: 6.49; m: 6.27; deg: 2.98; expr: 4.09; thr: 1.26; theta: 2.67; tree : 2\n",
       ">> G_2: b: 3.54; m: 1.71; deg: 0.68; expr: 4.70; thr: 2.12; theta: 8.31; tree : NOT NOT NOT 1\n",
       ">> G_3: b: 4.86; m: 6.99; deg: 9.07; expr: 8.53; thr: 6.72; theta: 5.20; tree : 1\n",
       ">> G_4: b: 5.94; m: 2.29; deg: 4.24; expr: 7.40; thr: 6.20; theta: 7.24; tree : 3"
      ]
     },
     "execution_count": 20,
     "metadata": {},
     "output_type": "execute_result"
    }
   ],
   "source": [
    "HALL_OF_FAME[0].grn"
   ]
  },
  {
   "cell_type": "code",
   "execution_count": 21,
   "metadata": {},
   "outputs": [
    {
     "data": {
      "text/plain": [
       ">> G_0: b: 5.87; m: 6.10; deg: 3.86; expr: 7.61; thr: 0.25; theta: 4.44; tree : (NOT 1 AND NOT 3)\n",
       ">> G_1: b: 6.49; m: 6.27; deg: 2.98; expr: 4.09; thr: 1.26; theta: 2.42; tree : (2 AND 0)\n",
       ">> G_2: b: 3.54; m: 1.71; deg: 0.68; expr: 4.70; thr: 2.12; theta: 6.19; tree : NOT NOT (NOT 0 AND 4)\n",
       ">> G_3: b: 4.86; m: 6.99; deg: 9.07; expr: 8.53; thr: 6.72; theta: 1.41; tree : ((1 OR 3) OR 2)\n",
       ">> G_4: b: 5.94; m: 2.29; deg: 4.24; expr: 7.40; thr: 6.20; theta: 0.73; tree : NOT NOT 3"
      ]
     },
     "execution_count": 21,
     "metadata": {},
     "output_type": "execute_result"
    }
   ],
   "source": [
    "HALL_OF_FAME[-1].grn"
   ]
  },
  {
   "cell_type": "code",
   "execution_count": 22,
   "metadata": {},
   "outputs": [],
   "source": [
    "bb = run_grn(sol.grn)"
   ]
  },
  {
   "cell_type": "code",
   "execution_count": 23,
   "metadata": {},
   "outputs": [
    {
     "data": {
      "text/html": [
       "<div>\n",
       "<style scoped>\n",
       "    .dataframe tbody tr th:only-of-type {\n",
       "        vertical-align: middle;\n",
       "    }\n",
       "\n",
       "    .dataframe tbody tr th {\n",
       "        vertical-align: top;\n",
       "    }\n",
       "\n",
       "    .dataframe thead th {\n",
       "        text-align: right;\n",
       "    }\n",
       "</style>\n",
       "<table border=\"1\" class=\"dataframe\">\n",
       "  <thead>\n",
       "    <tr style=\"text-align: right;\">\n",
       "      <th></th>\n",
       "      <th>progenitor_pop_size</th>\n",
       "      <th>size_type_Cell</th>\n",
       "      <th>time</th>\n",
       "      <th>whole_pop_size</th>\n",
       "    </tr>\n",
       "  </thead>\n",
       "  <tbody>\n",
       "    <tr>\n",
       "      <th>50.0</th>\n",
       "      <td>16.0</td>\n",
       "      <td>16.0</td>\n",
       "      <td>50.0</td>\n",
       "      <td>16.0</td>\n",
       "    </tr>\n",
       "    <tr>\n",
       "      <th>50.5</th>\n",
       "      <td>16.0</td>\n",
       "      <td>16.0</td>\n",
       "      <td>50.5</td>\n",
       "      <td>16.0</td>\n",
       "    </tr>\n",
       "    <tr>\n",
       "      <th>51.0</th>\n",
       "      <td>16.0</td>\n",
       "      <td>16.0</td>\n",
       "      <td>51.0</td>\n",
       "      <td>16.0</td>\n",
       "    </tr>\n",
       "    <tr>\n",
       "      <th>51.5</th>\n",
       "      <td>16.0</td>\n",
       "      <td>16.0</td>\n",
       "      <td>51.5</td>\n",
       "      <td>16.0</td>\n",
       "    </tr>\n",
       "    <tr>\n",
       "      <th>52.0</th>\n",
       "      <td>16.0</td>\n",
       "      <td>16.0</td>\n",
       "      <td>52.0</td>\n",
       "      <td>16.0</td>\n",
       "    </tr>\n",
       "    <tr>\n",
       "      <th>52.5</th>\n",
       "      <td>17.0</td>\n",
       "      <td>17.0</td>\n",
       "      <td>52.5</td>\n",
       "      <td>17.0</td>\n",
       "    </tr>\n",
       "    <tr>\n",
       "      <th>53.0</th>\n",
       "      <td>20.0</td>\n",
       "      <td>20.0</td>\n",
       "      <td>53.0</td>\n",
       "      <td>20.0</td>\n",
       "    </tr>\n",
       "    <tr>\n",
       "      <th>53.5</th>\n",
       "      <td>30.0</td>\n",
       "      <td>30.0</td>\n",
       "      <td>53.5</td>\n",
       "      <td>30.0</td>\n",
       "    </tr>\n",
       "    <tr>\n",
       "      <th>54.0</th>\n",
       "      <td>32.0</td>\n",
       "      <td>32.0</td>\n",
       "      <td>54.0</td>\n",
       "      <td>32.0</td>\n",
       "    </tr>\n",
       "    <tr>\n",
       "      <th>54.5</th>\n",
       "      <td>32.0</td>\n",
       "      <td>32.0</td>\n",
       "      <td>54.5</td>\n",
       "      <td>32.0</td>\n",
       "    </tr>\n",
       "    <tr>\n",
       "      <th>55.0</th>\n",
       "      <td>32.0</td>\n",
       "      <td>32.0</td>\n",
       "      <td>55.0</td>\n",
       "      <td>32.0</td>\n",
       "    </tr>\n",
       "    <tr>\n",
       "      <th>55.5</th>\n",
       "      <td>32.0</td>\n",
       "      <td>32.0</td>\n",
       "      <td>55.5</td>\n",
       "      <td>32.0</td>\n",
       "    </tr>\n",
       "    <tr>\n",
       "      <th>56.0</th>\n",
       "      <td>33.0</td>\n",
       "      <td>33.0</td>\n",
       "      <td>56.0</td>\n",
       "      <td>33.0</td>\n",
       "    </tr>\n",
       "    <tr>\n",
       "      <th>56.5</th>\n",
       "      <td>40.0</td>\n",
       "      <td>40.0</td>\n",
       "      <td>56.5</td>\n",
       "      <td>40.0</td>\n",
       "    </tr>\n",
       "    <tr>\n",
       "      <th>57.0</th>\n",
       "      <td>51.0</td>\n",
       "      <td>51.0</td>\n",
       "      <td>57.0</td>\n",
       "      <td>51.0</td>\n",
       "    </tr>\n",
       "    <tr>\n",
       "      <th>57.5</th>\n",
       "      <td>63.0</td>\n",
       "      <td>63.0</td>\n",
       "      <td>57.5</td>\n",
       "      <td>63.0</td>\n",
       "    </tr>\n",
       "    <tr>\n",
       "      <th>58.0</th>\n",
       "      <td>61.0</td>\n",
       "      <td>61.0</td>\n",
       "      <td>58.0</td>\n",
       "      <td>63.0</td>\n",
       "    </tr>\n",
       "    <tr>\n",
       "      <th>58.5</th>\n",
       "      <td>59.0</td>\n",
       "      <td>59.0</td>\n",
       "      <td>58.5</td>\n",
       "      <td>64.0</td>\n",
       "    </tr>\n",
       "    <tr>\n",
       "      <th>59.0</th>\n",
       "      <td>58.0</td>\n",
       "      <td>58.0</td>\n",
       "      <td>59.0</td>\n",
       "      <td>64.0</td>\n",
       "    </tr>\n",
       "    <tr>\n",
       "      <th>59.5</th>\n",
       "      <td>62.0</td>\n",
       "      <td>62.0</td>\n",
       "      <td>59.5</td>\n",
       "      <td>69.0</td>\n",
       "    </tr>\n",
       "    <tr>\n",
       "      <th>60.0</th>\n",
       "      <td>69.0</td>\n",
       "      <td>69.0</td>\n",
       "      <td>60.0</td>\n",
       "      <td>77.0</td>\n",
       "    </tr>\n",
       "    <tr>\n",
       "      <th>60.5</th>\n",
       "      <td>85.0</td>\n",
       "      <td>85.0</td>\n",
       "      <td>60.5</td>\n",
       "      <td>96.0</td>\n",
       "    </tr>\n",
       "    <tr>\n",
       "      <th>61.0</th>\n",
       "      <td>94.0</td>\n",
       "      <td>94.0</td>\n",
       "      <td>61.0</td>\n",
       "      <td>109.0</td>\n",
       "    </tr>\n",
       "    <tr>\n",
       "      <th>61.5</th>\n",
       "      <td>94.0</td>\n",
       "      <td>94.0</td>\n",
       "      <td>61.5</td>\n",
       "      <td>117.0</td>\n",
       "    </tr>\n",
       "    <tr>\n",
       "      <th>62.0</th>\n",
       "      <td>89.0</td>\n",
       "      <td>89.0</td>\n",
       "      <td>62.0</td>\n",
       "      <td>117.0</td>\n",
       "    </tr>\n",
       "    <tr>\n",
       "      <th>62.5</th>\n",
       "      <td>91.0</td>\n",
       "      <td>91.0</td>\n",
       "      <td>62.5</td>\n",
       "      <td>120.0</td>\n",
       "    </tr>\n",
       "    <tr>\n",
       "      <th>63.0</th>\n",
       "      <td>90.0</td>\n",
       "      <td>90.0</td>\n",
       "      <td>63.0</td>\n",
       "      <td>124.0</td>\n",
       "    </tr>\n",
       "    <tr>\n",
       "      <th>63.5</th>\n",
       "      <td>98.0</td>\n",
       "      <td>98.0</td>\n",
       "      <td>63.5</td>\n",
       "      <td>138.0</td>\n",
       "    </tr>\n",
       "    <tr>\n",
       "      <th>64.0</th>\n",
       "      <td>112.0</td>\n",
       "      <td>112.0</td>\n",
       "      <td>64.0</td>\n",
       "      <td>163.0</td>\n",
       "    </tr>\n",
       "    <tr>\n",
       "      <th>64.5</th>\n",
       "      <td>116.0</td>\n",
       "      <td>116.0</td>\n",
       "      <td>64.5</td>\n",
       "      <td>181.0</td>\n",
       "    </tr>\n",
       "  </tbody>\n",
       "</table>\n",
       "</div>"
      ],
      "text/plain": [
       "      progenitor_pop_size  size_type_Cell  time  whole_pop_size\n",
       "50.0                 16.0            16.0  50.0            16.0\n",
       "50.5                 16.0            16.0  50.5            16.0\n",
       "51.0                 16.0            16.0  51.0            16.0\n",
       "51.5                 16.0            16.0  51.5            16.0\n",
       "52.0                 16.0            16.0  52.0            16.0\n",
       "52.5                 17.0            17.0  52.5            17.0\n",
       "53.0                 20.0            20.0  53.0            20.0\n",
       "53.5                 30.0            30.0  53.5            30.0\n",
       "54.0                 32.0            32.0  54.0            32.0\n",
       "54.5                 32.0            32.0  54.5            32.0\n",
       "55.0                 32.0            32.0  55.0            32.0\n",
       "55.5                 32.0            32.0  55.5            32.0\n",
       "56.0                 33.0            33.0  56.0            33.0\n",
       "56.5                 40.0            40.0  56.5            40.0\n",
       "57.0                 51.0            51.0  57.0            51.0\n",
       "57.5                 63.0            63.0  57.5            63.0\n",
       "58.0                 61.0            61.0  58.0            63.0\n",
       "58.5                 59.0            59.0  58.5            64.0\n",
       "59.0                 58.0            58.0  59.0            64.0\n",
       "59.5                 62.0            62.0  59.5            69.0\n",
       "60.0                 69.0            69.0  60.0            77.0\n",
       "60.5                 85.0            85.0  60.5            96.0\n",
       "61.0                 94.0            94.0  61.0           109.0\n",
       "61.5                 94.0            94.0  61.5           117.0\n",
       "62.0                 89.0            89.0  62.0           117.0\n",
       "62.5                 91.0            91.0  62.5           120.0\n",
       "63.0                 90.0            90.0  63.0           124.0\n",
       "63.5                 98.0            98.0  63.5           138.0\n",
       "64.0                112.0           112.0  64.0           163.0\n",
       "64.5                116.0           116.0  64.5           181.0"
      ]
     },
     "execution_count": 23,
     "metadata": {},
     "output_type": "execute_result"
    }
   ],
   "source": [
    "bb.stats"
   ]
  },
  {
   "cell_type": "code",
   "execution_count": 24,
   "metadata": {},
   "outputs": [],
   "source": [
    "def show_population_curve(stats, ref, max_step=None, show=True):\n",
    "    \"\"\"\n",
    "    The evaluation function for progenitor population size.\n",
    "    The lower is the better\n",
    "    :param stats: the stats of the bb after running\n",
    "    \"\"\"\n",
    "    colname_ref = \"size_type_Cycling\"\n",
    "    colname_stats = \"progenitor_pop_size\"\n",
    "    # scale\n",
    "    stats, ref = shrink_and_align_stats(stats, ref, max_step=max_step)\n",
    "    \n",
    "    min_step = min(ref.index)  # ref.index is the time\n",
    "    stats[colname_stats] = stats[colname_stats] / stats[colname_stats].get(min_step)\n",
    "    ref[colname_ref] = ref[colname_ref] / ref[colname_ref].get(min_step)\n",
    "    \n",
    "    plt.plot(ref.index, [ref[colname_ref].get(t, 0) for t in ref.index], label=\"Reference\")\n",
    "    plt.plot(ref.index, [stats[colname_stats].get(t, 0) for t in ref.index], label=\"Simulation\")\n",
    "    if show:\n",
    "        plt.show()"
   ]
  },
  {
   "cell_type": "code",
   "execution_count": 25,
   "metadata": {},
   "outputs": [
    {
     "data": {
      "image/png": "[encoded data removed]",
      "text/plain": [
       "<Figure size 576x396 with 1 Axes>"
      ]
     },
     "metadata": {},
     "output_type": "display_data"
    }
   ],
   "source": [
    "show_population_curve(bb.stats, REF, max_step=END_TIME)"
   ]
  },
  {
   "cell_type": "code",
   "execution_count": null,
   "metadata": {},
   "outputs": [],
   "source": []
  }
 ],
 "metadata": {
  "kernelspec": {
   "display_name": "Python 3",
   "language": "python",
   "name": "python3"
  },
  "language_info": {
   "codemirror_mode": {
    "name": "ipython",
    "version": 3
   },
   "file_extension": ".py",
   "mimetype": "text/x-python",
   "name": "python",
   "nbconvert_exporter": "python",
   "pygments_lexer": "ipython3",
   "version": "3.8.10"
  }
 },
 "nbformat": 4,
 "nbformat_minor": 4
}
