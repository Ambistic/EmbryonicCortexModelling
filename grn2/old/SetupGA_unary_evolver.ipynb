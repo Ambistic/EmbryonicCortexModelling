{
 "cells": [
  {
   "cell_type": "code",
   "execution_count": 1,
   "metadata": {},
   "outputs": [],
   "source": [
    "import os\n",
    "os.environ[\"XLA_PYTHON_CLIENT_MEM_FRACTION\"] = \".13\""
   ]
  },
  {
   "cell_type": "code",
   "execution_count": 2,
   "metadata": {},
   "outputs": [],
   "source": [
    "import pandas as pd\n",
    "from model import Brain\n",
    "from submodels import factories\n",
    "import matplotlib.pyplot as plt\n",
    "import pandas as pd\n",
    "from itertools import accumulate\n",
    "import numpy as np\n",
    "from collections import defaultdict\n",
    "import re\n",
    "\n",
    "from jf.db import DB\n",
    "from lib.score import fate_corr, score_both_size_norm, shrink_and_align_stats\n",
    "from lib.preprocess import *\n",
    "from lib.sde.grn3 import GRNMain3\n",
    "from lib.sde.mutate import mutate_grn2\n",
    "from lib.ga.utils import weighted_selection\n",
    "from lib.ga.objective import Objective\n",
    "from jf.profiler import Profiler\n",
    "from jf.utils.export import Exporter\n",
    "from jf.autocompute.jf import O"
   ]
  },
  {
   "cell_type": "code",
   "execution_count": 3,
   "metadata": {},
   "outputs": [],
   "source": [
    "HISTORY = defaultdict(dict)\n",
    "HALL_OF_FAME = []"
   ]
  },
  {
   "cell_type": "code",
   "execution_count": 4,
   "metadata": {},
   "outputs": [],
   "source": [
    "_count = -1\n",
    "def provide_id():\n",
    "    global _count\n",
    "    _count += 1\n",
    "    return _count"
   ]
  },
  {
   "cell_type": "code",
   "execution_count": 5,
   "metadata": {},
   "outputs": [],
   "source": [
    "REF = O(\n",
    "    stats=pd.read_csv(\"output/results/setup_basic/export/ref_basic2.csv\"),  # ref is a mean\n",
    "    # fmetric=setup_ref_fmetric(\"output/results/setup_basic/export/ref_fmetric_tristate.csv\"),\n",
    ")"
   ]
  },
  {
   "cell_type": "code",
   "execution_count": 6,
   "metadata": {},
   "outputs": [],
   "source": [
    "def individual_generator(id_=-1):\n",
    "    return Solution(GRNMain3(5, 0, 0), id_=id_)"
   ]
  },
  {
   "cell_type": "code",
   "execution_count": 7,
   "metadata": {},
   "outputs": [],
   "source": [
    "class Solution:\n",
    "    def __init__(self, grn, id_=0, parent=-1):\n",
    "        self.id = id_\n",
    "        self.grn = grn\n",
    "        self.parent = parent\n",
    "        self.fit = -1\n",
    "        self.stats = None\n",
    "        \n",
    "    def copy(self, id_=0):\n",
    "        return Solution(self.grn.copy(), id_=id_, parent=self.id)\n",
    "        \n",
    "    def mutate(self):\n",
    "        for i in range(1):\n",
    "            mutate_grn2(self.grn)\n",
    "        # here force values\n",
    "        self.grn.set_mutable()\n",
    "        self.grn._params[4, :] = 1\n",
    "        self.grn._params[5, :] = 0\n",
    "        self.grn.compile()"
   ]
  },
  {
   "cell_type": "code",
   "execution_count": 8,
   "metadata": {},
   "outputs": [],
   "source": [
    "def score_bb_size(bb, ref, *args, **kwargs):\n",
    "    return score_both_size_norm(bb.stats, ref.stats, *args, **kwargs, norm=2.0)"
   ]
  },
  {
   "cell_type": "code",
   "execution_count": 9,
   "metadata": {},
   "outputs": [],
   "source": [
    "def get_bb(prun, grn):\n",
    "    ccls = factories[\"grn3\"](grn=grn)\n",
    "    bb = Brain(time_step=0.5, verbose=False, start_population=4, max_pop_size=1e3,\n",
    "            cell_cls=ccls, end_time=prun.end_time, start_time=50, silent=True,\n",
    "              run_tissue=False)\n",
    "    return bb"
   ]
  },
  {
   "cell_type": "code",
   "execution_count": 10,
   "metadata": {},
   "outputs": [],
   "source": [
    "def run_grn(prun, grn):\n",
    "    get_bb(prun, grn)\n",
    "    bb.run()\n",
    "    return bb"
   ]
  },
  {
   "cell_type": "code",
   "execution_count": 11,
   "metadata": {},
   "outputs": [],
   "source": [
    "def fitness_func(prun, grn, score_func):\n",
    "    bb = run_grn(prun, grn)\n",
    "    output = score_func(bb.stats, REF, max_step=prun.end_time)\n",
    "    fitness = 1.0 / output\n",
    "    return fitness"
   ]
  },
  {
   "cell_type": "code",
   "execution_count": 12,
   "metadata": {},
   "outputs": [],
   "source": [
    "def fitness_multistep(prun, grn, steps):\n",
    "    total_fitness = 0\n",
    "    stop = False\n",
    "    previous_time = None\n",
    "    bb = get_bb(prun, grn)\n",
    "    # first step\n",
    "    for step in steps:\n",
    "        if not bb.run_until(step.end_time):\n",
    "            stop = True\n",
    "        # score_step = score_both_size(bb.stats, prun.ref, max_step=step.end_time, min_step=previous_time)\n",
    "        score_step = step.score_func(bb, prun.ref, max_step=step.end_time, min_step=step.start_time)\n",
    "        fitness_step = 1.0 / score_step\n",
    "        fitness_step = min(fitness_step, step.max_fitness)\n",
    "        total_fitness += fitness_step\n",
    "        if fitness_step < step.min_fitness or stop:\n",
    "            return total_fitness, bb.stats\n",
    "        else:\n",
    "            previous_time = step.end_time\n",
    "            step.passed()\n",
    "        \n",
    "    return total_fitness, bb.stats\n",
    "\n",
    "def score_multistep(prun, stats, steps):\n",
    "    total_fitness = 0\n",
    "    stop = False\n",
    "    previous_time = None\n",
    "    # first step\n",
    "    for i, step in enumerate(steps):\n",
    "        # score_step = score_both_size(bb.stats, prun.ref, max_step=step.end_time, min_step=previous_time)\n",
    "        score_step = step.score_func(bb, prun.ref, max_step=step.end_time, min_step=step.start_time)\n",
    "        print(f\"Score for step {i} is {score_step}\")\n",
    "        fitness_step = 1.0 / score_step\n",
    "        fitness_step = min(fitness_step, step.max_fitness)\n",
    "        total_fitness += fitness_step\n",
    "        if fitness_step < step.min_fitness or stop:\n",
    "            return total_fitness\n",
    "        previous_time = step.end_time\n",
    "        \n",
    "    return total_fitness"
   ]
  },
  {
   "cell_type": "code",
   "execution_count": 13,
   "metadata": {},
   "outputs": [],
   "source": [
    "def mean_sd_fitness(prun, grn, run=3):\n",
    "    fitnesses = [fitness_multistep(prun, grn) for i in range(run)]\n",
    "    return np.mean(fitnesses), np.std(fitnesses)"
   ]
  },
  {
   "cell_type": "code",
   "execution_count": 14,
   "metadata": {},
   "outputs": [],
   "source": [
    "def multi_fitness(*args):\n",
    "    fitnesses = [fitness_multistep(*args) for i in range(3)]\n",
    "    scores = [x[0] for x in fitnesses]\n",
    "    return fitnesses[scores.index(min(scores))]"
   ]
  },
  {
   "cell_type": "code",
   "execution_count": 15,
   "metadata": {},
   "outputs": [],
   "source": [
    "def get_sample_index(sample, acc):\n",
    "    val = min(filter(lambda x: x > sample, acc))\n",
    "    return acc.index(val)"
   ]
  },
  {
   "cell_type": "code",
   "execution_count": 16,
   "metadata": {},
   "outputs": [],
   "source": [
    "def weighted_selection_one(population, fitness_values, create_func, new_fitness=1., id_=0):\n",
    "    total_population_fitness = sum(fitness_values)\n",
    "    acc = list(accumulate(fitness_values))\n",
    "    total_fitness = total_population_fitness + new_fitness\n",
    "    \n",
    "    sample = np.random.uniform(0, total_fitness)\n",
    "    if sample >= total_population_fitness:\n",
    "        return create_func(id_), -1\n",
    "    else:\n",
    "        chosen_id = get_sample_index(sample, acc)\n",
    "        return population[chosen_id].copy(id_), chosen_id"
   ]
  },
  {
   "cell_type": "code",
   "execution_count": 17,
   "metadata": {},
   "outputs": [],
   "source": [
    "def do_init(prun):\n",
    "    return individual_generator(provide_id())\n",
    "\n",
    "def do_fitness(prun, sol):\n",
    "    fitness, stats = multi_fitness(prun, sol.grn, prun.steps)\n",
    "    return fitness, stats\n",
    "\n",
    "def do_selection(prun, pop_fit, pop):\n",
    "    if len(pop) < prun.min_pop:\n",
    "        return individual_generator(provide_id())\n",
    "    \n",
    "    return weighted_selection_one(pop, pop_fit, individual_generator, new_fitness=0.5, id_=provide_id())[0]\n",
    "\n",
    "def do_mutation(prun, sol):\n",
    "    sol.mutate()\n",
    "    return sol"
   ]
  },
  {
   "cell_type": "code",
   "execution_count": 18,
   "metadata": {},
   "outputs": [],
   "source": [
    "class ObjectiveStep(O):\n",
    "    start_time = 0\n",
    "    end_time = 0\n",
    "    max_fitness = 4\n",
    "    min_fitness = 1\n",
    "    name = \"\"\n",
    "    _passed = False\n",
    "    \n",
    "    def reset(self):\n",
    "        self._passed = False\n",
    "    \n",
    "    def passed(self):\n",
    "        if self._passed:\n",
    "            return\n",
    "        print(f\"Step {self.name} passed !\")\n",
    "        self._passed = True\n",
    "    \n",
    "example_steps = [\n",
    "    ObjectiveStep(name=\"1\", start_time=50, end_time=53, score_func=score_bb_size),\n",
    "    ObjectiveStep(name=\"2\", start_time=53, end_time=56, score_func=score_bb_size),\n",
    "    ObjectiveStep(name=\"3\", start_time=56, end_time=59, score_func=score_bb_size),\n",
    "    ObjectiveStep(name=\"4\", start_time=59, end_time=62, score_func=score_bb_size),\n",
    "    ObjectiveStep(name=\"5\", start_time=62, end_time=65, score_func=score_bb_size),\n",
    "    ObjectiveStep(name=\"6\", start_time=65, end_time=68, score_func=score_bb_size),\n",
    "    ObjectiveStep(name=\"7\", start_time=68, end_time=71, score_func=score_bb_size),\n",
    "    ObjectiveStep(name=\"8\", start_time=71, end_time=74, score_func=score_bb_size),\n",
    "    ObjectiveStep(name=\"9\", start_time=74, end_time=77, score_func=score_bb_size),\n",
    "]\n",
    "\n",
    "class ParamRun(O):\n",
    "    pop_size = 100\n",
    "    n_gen = 100\n",
    "    current_gen = 0\n",
    "    end_time = 83\n",
    "    ref = REF\n",
    "    min_pop = 20\n",
    "    max_pop = 50\n",
    "\n",
    "args = ParamRun()\n",
    "args.steps = example_steps\n",
    "for step in args.steps:\n",
    "    step.reset()"
   ]
  },
  {
   "cell_type": "code",
   "execution_count": 19,
   "metadata": {},
   "outputs": [],
   "source": [
    "def main(prun):\n",
    "    exporter = Exporter()\n",
    "    best = 0\n",
    "    sol = do_init(prun)\n",
    "    pop = [sol]\n",
    "    for generation in range(prun.n_gen * prun.pop_size):\n",
    "        # args.generation = generation\n",
    "        # objective.new_trial()\n",
    "        fit, stats = do_fitness(prun, sol)\n",
    "        sol.fit = fit\n",
    "        sol.stats = stats\n",
    "        \n",
    "        # history\n",
    "        # print(f\"Fitness = {fit}\", end=\"\\t\\t\")\n",
    "        if generation % 100 == 0:\n",
    "            print(f\"Step {generation}\")\n",
    "        if fit > best:\n",
    "            print(f\"++ Best {fit} for generation {generation}\")\n",
    "            best = fit\n",
    "            \n",
    "        monitor = sol\n",
    "        HISTORY[generation] = monitor\n",
    "        exporter(monitor, f\"generation_g{generation}\")\n",
    "        \n",
    "        # TODO get the stats associated with the best scores\n",
    "        sub_pop = pop[-prun.max_pop:]\n",
    "        sol = do_selection(prun, [s.fit for s in sub_pop], sub_pop)\n",
    "            \n",
    "        sol = do_mutation(prun, sol)\n",
    "        pop.append(sol)\n",
    "        \n",
    "    return best"
   ]
  },
  {
   "cell_type": "code",
   "execution_count": null,
   "metadata": {},
   "outputs": [
    {
     "name": "stdout",
     "output_type": "stream",
     "text": [
      "Exporting at output/2022-01-29/14:11:04.030819_41618\n",
      "Step 0\n",
      "++ Best 0.09446645943899437 for generation 0\n",
      "++ Best 0.09505919615260927 for generation 1\n",
      "++ Best 0.13330481974056496 for generation 3\n",
      "Step 1 passed !\n",
      "Step 2 passed !\n",
      "Step 3 passed !\n",
      "Step 4 passed !\n",
      "++ Best 0.6520484124333811 for generation 10\n",
      "++ Best 1.5747953060483506 for generation 15\n",
      "++ Best 1.8007324187625688 for generation 23\n",
      "++ Best 2.0520752396339144 for generation 35\n",
      "++ Best 2.862270944218904 for generation 38\n",
      "++ Best 2.969895212631636 for generation 48\n",
      "++ Best 3.148916361206117 for generation 92\n",
      "Step 100\n",
      "++ Best 5.7913864560012644 for generation 126\n"
     ]
    }
   ],
   "source": [
    "sol = main(args)"
   ]
  },
  {
   "cell_type": "code",
   "execution_count": null,
   "metadata": {},
   "outputs": [],
   "source": [
    "print(1)"
   ]
  },
  {
   "cell_type": "code",
   "execution_count": null,
   "metadata": {},
   "outputs": [],
   "source": [
    "raise"
   ]
  },
  {
   "cell_type": "code",
   "execution_count": null,
   "metadata": {},
   "outputs": [],
   "source": [
    "sols = list(HISTORY.values())\n",
    "fits = [sol.fit for sol in sols]\n",
    "idx = fits.index(max(fits))\n",
    "sol = sols[idx]"
   ]
  },
  {
   "cell_type": "code",
   "execution_count": null,
   "metadata": {},
   "outputs": [],
   "source": [
    "sol.fit"
   ]
  },
  {
   "cell_type": "code",
   "execution_count": null,
   "metadata": {},
   "outputs": [],
   "source": [
    "def show_curve(stats, ref, max_step=None, show=True):\n",
    "    \"\"\"\n",
    "    The evaluation function for progenitor population size.\n",
    "    The lower is the better\n",
    "    :param stats: the stats of the bb after running\n",
    "    \"\"\"\n",
    "    stats, ref = shrink_and_align_stats(stats, ref, max_step=max_step)\n",
    "    \n",
    "    x, y = preprocess_progenitor_size(stats, ref)\n",
    "    \n",
    "    plt.plot(ref.index, x, label=\"Reference Prog\")\n",
    "    plt.plot(ref.index, y, label=\"Simulation Prog\")\n",
    "    \n",
    "    x, y = preprocess_whole_size(stats, ref)\n",
    "    \n",
    "    plt.plot(ref.index, x, label=\"Reference Whole\")\n",
    "    plt.plot(ref.index, y, label=\"Simulation Whole\")\n",
    "    \n",
    "    plt.legend()\n",
    "    \n",
    "    if show:\n",
    "        plt.show()"
   ]
  },
  {
   "cell_type": "code",
   "execution_count": null,
   "metadata": {},
   "outputs": [],
   "source": [
    "def print_fmetrics(population, ref):\n",
    "    pairs = get_fmetric_pairs(population, min_time=50, max_time=60)\n",
    "    fmetric = fate_corr(pairs)\n",
    "    print(f\"Population : {fmetric}, ref : {ref[50][60]}\")"
   ]
  },
  {
   "cell_type": "code",
   "execution_count": null,
   "metadata": {},
   "outputs": [],
   "source": [
    "show_curve(sol.stats, REF.stats, max_step=args.end_time)"
   ]
  },
  {
   "cell_type": "code",
   "execution_count": null,
   "metadata": {},
   "outputs": [],
   "source": [
    "score_multistep(args, stats, args.steps)"
   ]
  },
  {
   "cell_type": "code",
   "execution_count": null,
   "metadata": {},
   "outputs": [],
   "source": [
    "REF.head(10)"
   ]
  },
  {
   "cell_type": "code",
   "execution_count": null,
   "metadata": {},
   "outputs": [],
   "source": [
    "def fill_df(stats, ls_val):\n",
    "    for time, prog_pop, whole_pop in ls_val:\n",
    "        stats.loc[time] = {\"progenitor_pop_size\": prog_pop, \"time\": time, \"whole_pop_size\": whole_pop}"
   ]
  },
  {
   "cell_type": "code",
   "execution_count": null,
   "metadata": {},
   "outputs": [],
   "source": [
    "vals = [\n",
    "    (50.5, 25, 27),\n",
    "    (51., 26, 30),\n",
    "    (51.5, 27, 40),\n",
    "    (52., 30, 50),\n",
    "    (52.5, 35, 60),\n",
    "    (53., 40, 27),\n",
    "    (53.5, 45, 27),\n",
    "    (54., 50, 27),\n",
    "    (54.5, 55, 27),\n",
    "    (55., 60, 27),\n",
    "]"
   ]
  },
  {
   "cell_type": "code",
   "execution_count": null,
   "metadata": {},
   "outputs": [],
   "source": [
    "fill_df(stats, ls_val=vals)\n",
    "stats"
   ]
  },
  {
   "cell_type": "code",
   "execution_count": null,
   "metadata": {},
   "outputs": [],
   "source": [
    "show_curve(stats, REF.stats, max_step=55)\n",
    "print_fmetrics(population, REF.fmetric)\n",
    "score_multistep(args, stats, args.steps)"
   ]
  },
  {
   "cell_type": "code",
   "execution_count": null,
   "metadata": {},
   "outputs": [],
   "source": [
    "# peut être mettre sqrt plutôt que abs en dénominateur\n",
    "# ensuite équilibrer les fit value en normalisant avec la médiane ou la moyenne ou autre (3e quartile ?)"
   ]
  },
  {
   "cell_type": "code",
   "execution_count": null,
   "metadata": {},
   "outputs": [],
   "source": []
  }
 ],
 "metadata": {
  "kernelspec": {
   "display_name": "Python 3",
   "language": "python",
   "name": "python3"
  },
  "language_info": {
   "codemirror_mode": {
    "name": "ipython",
    "version": 3
   },
   "file_extension": ".py",
   "mimetype": "text/x-python",
   "name": "python",
   "nbconvert_exporter": "python",
   "pygments_lexer": "ipython3",
   "version": "3.8.10"
  }
 },
 "nbformat": 4,
 "nbformat_minor": 4
}
