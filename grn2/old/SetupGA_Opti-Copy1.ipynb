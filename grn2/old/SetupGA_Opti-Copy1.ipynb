{
 "cells": [
  {
   "cell_type": "code",
   "execution_count": 1,
   "metadata": {},
   "outputs": [],
   "source": [
    "import os\n",
    "os.environ[\"XLA_PYTHON_CLIENT_MEM_FRACTION\"] = \".20\""
   ]
  },
  {
   "cell_type": "code",
   "execution_count": 2,
   "metadata": {},
   "outputs": [],
   "source": [
    "import pandas as pd\n",
    "from model import Brain\n",
    "from submodels import factories\n",
    "import matplotlib.pyplot as plt\n",
    "import pandas as pd\n",
    "from jf.db import DB\n",
    "from lib.plot import plot_2d_positions_colors\n",
    "from lib.sde.grn2 import GRNMain2\n",
    "from lib.sde.mutate import mutate_grn2\n",
    "from lib.ga.utils import weighted_selection\n",
    "from lib.ga.objective import Objective\n",
    "from jf.profiler import Profiler\n",
    "from jf.autocompute.jf import O"
   ]
  },
  {
   "cell_type": "code",
   "execution_count": 3,
   "metadata": {},
   "outputs": [],
   "source": [
    "from itertools import accumulate\n",
    "import numpy as np\n",
    "from collections import defaultdict"
   ]
  },
  {
   "cell_type": "code",
   "execution_count": 4,
   "metadata": {},
   "outputs": [
    {
     "data": {
      "text/plain": [
       "'\\nFormat \\ngeneration : dict(\\n    transition\\n    solution\\n    fitness\\n)\\n'"
      ]
     },
     "execution_count": 4,
     "metadata": {},
     "output_type": "execute_result"
    }
   ],
   "source": [
    "HISTORY = defaultdict(dict)\n",
    "\"\"\"\n",
    "Format \n",
    "generation : dict(\n",
    "    transition\n",
    "    solution\n",
    "    fitness\n",
    ")\n",
    "\"\"\""
   ]
  },
  {
   "cell_type": "code",
   "execution_count": 5,
   "metadata": {},
   "outputs": [],
   "source": [
    "HALL_OF_FAME = []"
   ]
  },
  {
   "cell_type": "code",
   "execution_count": 6,
   "metadata": {},
   "outputs": [],
   "source": [
    "REF = pd.read_csv(\"output/results/setup_basic/export/ref_basic2.csv\")  # ref is a mean"
   ]
  },
  {
   "cell_type": "code",
   "execution_count": 7,
   "metadata": {},
   "outputs": [],
   "source": [
    "def individual_generator():\n",
    "    return Solution(GRNMain2(5, 0, 5))"
   ]
  },
  {
   "cell_type": "code",
   "execution_count": 8,
   "metadata": {},
   "outputs": [],
   "source": [
    "if False:\n",
    "    grn = GRNMain2(5, 0, 5)\n",
    "    ccls = factories[\"grn2\"](grn=grn)\n",
    "\n",
    "    bb = Brain(time_step=0.5, verbose=False, start_population=4, max_pop_size=1e3,\n",
    "            cell_cls=ccls.generate, end_time=60, start_time=50, silent=False)\n",
    "    bb.run()\n",
    "\n",
    "# cell = bb.population[0]\n",
    "# cell.cell_program.print_gene_info(2)\n",
    "\n",
    "# cell.cell_program.grn.print_trees()"
   ]
  },
  {
   "cell_type": "code",
   "execution_count": 9,
   "metadata": {},
   "outputs": [],
   "source": [
    "def r():\n",
    "    return np.random.uniform(0, 1)\n",
    "\n",
    "class Solution:\n",
    "    def __init__(self, grn):\n",
    "        self.grn = grn\n",
    "        \n",
    "    def copy(self):\n",
    "        return Solution(self.grn.copy())\n",
    "        \n",
    "    def mutate(self):\n",
    "        mutate_grn2(self.grn)"
   ]
  },
  {
   "cell_type": "code",
   "execution_count": 10,
   "metadata": {},
   "outputs": [
    {
     "data": {
      "text/plain": [
       ">> G_0: init: 1.77; noise: 6.02; b: 3.48; m: 7.60; expr: 9.62; deg: 3.14; thr: 8.43; theta: 5.42; tree : 3\n",
       ">> G_1: init: 2.32; noise: 6.11; b: 5.82; m: 4.50; expr: 7.62; deg: 4.45; thr: 5.98; theta: 5.01; tree : 1\n",
       ">> G_2: init: 1.97; noise: 9.27; b: 4.27; m: 6.48; expr: 7.88; deg: 6.08; thr: 7.81; theta: 0.75; tree : ((2 OR (4 AND 0)) AND 3)\n",
       ">> G_3: init: 0.97; noise: 6.27; b: 3.16; m: 5.74; expr: 7.20; deg: 7.76; thr: 9.64; theta: 6.07; tree : 3\n",
       ">> G_4: init: 0.76; noise: 3.41; b: 6.66; m: 5.09; expr: 0.22; deg: 6.58; thr: 9.33; theta: 4.35; tree : 1"
      ]
     },
     "execution_count": 10,
     "metadata": {},
     "output_type": "execute_result"
    }
   ],
   "source": [
    "individual_generator().grn"
   ]
  },
  {
   "cell_type": "code",
   "execution_count": 11,
   "metadata": {},
   "outputs": [],
   "source": [
    "def shrink_and_align_stats(stats, ref, max_step=None, min_step=None):\n",
    "    min_data_step = max(min(stats.time), min(ref.time))\n",
    "    if min_step is None:\n",
    "        min_step = min_data_step\n",
    "    else:\n",
    "        min_step = max(min_step, min_data_step)\n",
    "\n",
    "    if max_step is None:\n",
    "        max_step = max(ref.time)\n",
    "    else:\n",
    "        max_step = min(max_step, max(ref.time))\n",
    "    \n",
    "    new_stats = stats[(stats.time >= min_step) & (stats.time <= max_step)].set_index(\"time\")\n",
    "    new_ref = ref[(ref.time >= min_step) & (ref.time <= max_step)].set_index(\"time\")\n",
    "    \n",
    "    return new_stats, new_ref"
   ]
  },
  {
   "cell_type": "code",
   "execution_count": 12,
   "metadata": {},
   "outputs": [],
   "source": [
    "def preprocess_progenitor_size(stats, ref):\n",
    "    colname_ref = \"progenitor_pop_size\"\n",
    "    colname_stats = \"progenitor_pop_size\"\n",
    "    \n",
    "    min_step = min(ref.index)  # ref.index is the time\n",
    "    stats[colname_stats] = stats[colname_stats] / stats[colname_stats].get(min_step)\n",
    "    ref[colname_ref] = ref[colname_ref] / ref[colname_ref].get(min_step)\n",
    "    x = [ref[colname_ref].get(t, 0) for t in ref.index]\n",
    "    y = [stats[colname_stats].get(t, 0) for t in ref.index]\n",
    "    return x, y\n",
    "\n",
    "def preprocess_whole_size(stats, ref):\n",
    "    colname_ref = \"whole_pop_size\"\n",
    "    colname_stats = \"whole_pop_size\"\n",
    "    \n",
    "    min_step = min(ref.index)  # ref.index is the time\n",
    "    stats[colname_stats] = stats[colname_stats] / stats[colname_stats].get(min_step)\n",
    "    ref[colname_ref] = ref[colname_ref] / ref[colname_ref].get(min_step)\n",
    "    x = [ref[colname_ref].get(t, 0) for t in ref.index]\n",
    "    y = [stats[colname_stats].get(t, 0) for t in ref.index]\n",
    "    return x, y"
   ]
  },
  {
   "cell_type": "code",
   "execution_count": 13,
   "metadata": {},
   "outputs": [],
   "source": [
    "def score_coefficient_variation(x, y):\n",
    "    return sum([(x_ - y_)**2 / x_ for x_, y_ in zip(x, y)])"
   ]
  },
  {
   "cell_type": "code",
   "execution_count": 14,
   "metadata": {},
   "outputs": [],
   "source": [
    "def score_progenitor_size(stats, ref, max_step=None, min_step=None):\n",
    "    stats, ref = shrink_and_align_stats(stats, ref, max_step, min_step)\n",
    "    x, y = preprocess_progenitor_size(stats, ref)\n",
    "    return score_coefficient_variation(x, y)\n",
    "\n",
    "def score_whole_size(stats, ref, max_step=None, min_step=None):\n",
    "    stats, ref = shrink_and_align_stats(stats, ref, max_step, min_step)\n",
    "    x, y = preprocess_progenitor_size(stats, ref)\n",
    "    return score_coefficient_variation(x, y)\n",
    "\n",
    "def score_both_size(stats, ref, max_step=None, min_step=None):\n",
    "    return score_progenitor_size(stats, ref, max_step, min_step) \\\n",
    "            + score_whole_size(stats, ref, max_step, min_step)"
   ]
  },
  {
   "cell_type": "code",
   "execution_count": 15,
   "metadata": {},
   "outputs": [],
   "source": [
    "def run_grn(prun, grn):\n",
    "    ccls = factories[\"grn2\"](grn=grn)\n",
    "    bb = Brain(time_step=0.5, verbose=False, start_population=4, max_pop_size=5e2,\n",
    "            cell_cls=ccls, end_time=prun.end_time, start_time=50, silent=True)\n",
    "    bb.run()\n",
    "    return bb"
   ]
  },
  {
   "cell_type": "code",
   "execution_count": 16,
   "metadata": {},
   "outputs": [],
   "source": [
    "def get_bb(prun, grn):\n",
    "    ccls = factories[\"grn2\"](grn=grn)\n",
    "    bb = Brain(time_step=0.5, verbose=False, start_population=4, max_pop_size=5e2,\n",
    "            cell_cls=ccls, end_time=prun.end_time, start_time=50, silent=True)\n",
    "    return bb"
   ]
  },
  {
   "cell_type": "code",
   "execution_count": 17,
   "metadata": {},
   "outputs": [],
   "source": [
    "def fitness_func(prun, grn, score_func):\n",
    "    bb = run_grn(prun, grn)\n",
    "    output = score_func(bb.stats, REF, max_step=prun.end_time)\n",
    "    fitness = 1.0 / output\n",
    "    return fitness"
   ]
  },
  {
   "cell_type": "code",
   "execution_count": 18,
   "metadata": {},
   "outputs": [],
   "source": [
    "class ObjectiveStep(O):\n",
    "    end_time = 0\n",
    "    max_fitness = 4\n",
    "    min_fitness = 1\n",
    "    \n",
    "example_steps = [\n",
    "    ObjectiveStep(end_time=53),\n",
    "    ObjectiveStep(end_time=56),\n",
    "    ObjectiveStep(end_time=59),\n",
    "    ObjectiveStep(end_time=62),\n",
    "    ObjectiveStep(end_time=65),\n",
    "    ObjectiveStep(end_time=68),\n",
    "    ObjectiveStep(end_time=71)\n",
    "]"
   ]
  },
  {
   "cell_type": "code",
   "execution_count": 19,
   "metadata": {},
   "outputs": [],
   "source": [
    "def fitness_multistep(prun, grn, steps):\n",
    "    total_fitness = 0\n",
    "    stop = False\n",
    "    previous_time = None\n",
    "    bb = get_bb(prun, grn)\n",
    "    # first step\n",
    "    for step in steps:\n",
    "        if not bb.run_until(step.end_time):\n",
    "            stop = True\n",
    "        score_step = score_both_size(bb.stats, prun.ref, max_step=step.end_time, min_step=previous_time)\n",
    "        fitness_step = 1.0 / score_step\n",
    "        fitness_step = min(fitness_step, step.max_fitness)\n",
    "        total_fitness += fitness_step\n",
    "        if fitness_step < step.min_fitness or stop:\n",
    "            return total_fitness\n",
    "        previous_time = step.end_time\n",
    "        \n",
    "    return total_fitness\n",
    "# TODO make a no run version (i.e. just score)"
   ]
  },
  {
   "cell_type": "code",
   "execution_count": 20,
   "metadata": {},
   "outputs": [],
   "source": [
    "def fitness_strategy(prun, grn):\n",
    "    total_fitness = 0\n",
    "    stop = False\n",
    "    bb = get_bb(prun, grn)\n",
    "    # first step\n",
    "    step1_end_time = 53\n",
    "    step1_max_fitness = 4.\n",
    "    step1_min_fitness = 1.\n",
    "    if not bb.run_until(step1_end_time):\n",
    "        stop = True\n",
    "    score1 = score_both_size(bb.stats, prun.ref, max_step=step1_end_time)\n",
    "    fitness1 = 1.0 / score1\n",
    "    fitness1 = min(fitness1, step1_max_fitness)\n",
    "    total_fitness += fitness1\n",
    "    if fitness1 < step1_min_fitness or stop:\n",
    "        return total_fitness\n",
    "    \n",
    "    # second step\n",
    "    step2_end_time = 56\n",
    "    step2_max_fitness = 4.\n",
    "    step2_min_fitness = 1.\n",
    "    if not bb.run_until(step2_end_time):\n",
    "        stop = True\n",
    "    score2 = score_both_size(bb.stats, prun.ref, max_step=step2_end_time, min_step=step1_end_time)\n",
    "    fitness2 = 1.0 / score2\n",
    "    fitness2 = min(fitness2, step2_max_fitness)\n",
    "    total_fitness += fitness2\n",
    "    if fitness2 < step2_min_fitness or stop:\n",
    "        return total_fitness\n",
    "    \n",
    "    # second step\n",
    "    step3_end_time = 65\n",
    "    step3_max_fitness = 4.\n",
    "    step3_min_fitness = 1.\n",
    "    if not bb.run_until(step3_end_time):\n",
    "        stop = True\n",
    "    score3 = score_both_size(bb.stats, prun.ref, max_step=step3_end_time, min_step=step2_end_time)\n",
    "    fitness3 = 1.0 / score3\n",
    "    fitness3 = min(fitness3, step3_max_fitness)\n",
    "    total_fitness += fitness3\n",
    "    \n",
    "    return total_fitness"
   ]
  },
  {
   "cell_type": "code",
   "execution_count": 21,
   "metadata": {},
   "outputs": [],
   "source": [
    "def mean_sd_fitness(prun, grn, run=3):\n",
    "    fitnesses = [fitness_strategy(prun, grn) for i in range(run)]\n",
    "    return np.mean(fitnesses), np.std(fitnesses)"
   ]
  },
  {
   "cell_type": "code",
   "execution_count": 22,
   "metadata": {},
   "outputs": [],
   "source": [
    "def do_init_pop(prun):\n",
    "    return [individual_generator() for i in range(prun.pop_size)]\n",
    "\n",
    "def do_fitness(prun, pop):\n",
    "    # fitness = [fitness_func(prun, sol.grn, score_func) for sol in pop]\n",
    "    # fitness = [fitness_strategy(prun, sol.grn) for sol in pop]\n",
    "    fitness = [fitness_multistep(prun, sol.grn, prun.steps) for sol in pop]\n",
    "    return fitness\n",
    "\n",
    "def do_selection(prun, pop_fit, pop):\n",
    "    # print(\"Fit score : \", pop_fit)\n",
    "    acc = list(accumulate(pop_fit))\n",
    "    best = max(pop_fit)\n",
    "    best_sol = pop[pop_fit.index(best)]\n",
    "    \n",
    "    print(\"Total fitness :\", acc[-1])\n",
    "    \n",
    "    pop_sel, _ = weighted_selection(pop, pop_fit, individual_generator, new_fitness=0.3)\n",
    "        \n",
    "    return pop_sel, best, best_sol\n",
    "\n",
    "def do_mutation(prun, pop_sel):\n",
    "    [p.mutate() for p in pop_sel]\n",
    "    return pop_sel"
   ]
  },
  {
   "cell_type": "code",
   "execution_count": 23,
   "metadata": {},
   "outputs": [],
   "source": [
    "class ParamRun(O):\n",
    "    pop_size = 30\n",
    "    n_gen = 30\n",
    "    current_gen = 0\n",
    "    end_time = 71\n",
    "    ref = REF\n",
    "\n",
    "args = ParamRun()\n",
    "args.steps = example_steps\n",
    "\n",
    "def main(prun):\n",
    "    bbest = 0\n",
    "    ttbest = None\n",
    "    pop = do_init_pop(prun)\n",
    "    for generation in range(prun.n_gen):\n",
    "        # args.generation = generation\n",
    "        # objective.new_trial()\n",
    "        fit = do_fitness(prun, pop)\n",
    "        # objective.best_current(max(fit))\n",
    "        \n",
    "        # TODO get the stats associated with the best scores\n",
    "        sel, best, best_sol = do_selection(prun, fit, pop)\n",
    "        if best > bbest:\n",
    "            print(f\"++ Best {best}\")\n",
    "            bbest = best\n",
    "            ttbest = best_sol.copy()\n",
    "            HALL_OF_FAME.append(best_sol.copy())\n",
    "        else:\n",
    "            # print(\"--\")\n",
    "            print(f\"-- Best {best}\")\n",
    "        pop = do_mutation(prun, sel)\n",
    "        \n",
    "    return ttbest"
   ]
  },
  {
   "cell_type": "code",
   "execution_count": null,
   "metadata": {},
   "outputs": [
    {
     "name": "stdout",
     "output_type": "stream",
     "text": [
      "Total fitness : 25.469397592816268\n",
      "++ Best 22.390365212619137\n",
      "Total fitness : 530.3256955938671\n",
      "++ Best 24.982241236006878\n",
      "Total fitness : 516.3659547562022\n",
      "++ Best 25.35206063685618\n",
      "Total fitness : 633.3693604191964\n",
      "++ Best 25.834084936830426\n",
      "Total fitness : 514.7827818421033\n",
      "-- Best 24.561441376385513\n",
      "Total fitness : 598.0937821713811\n",
      "-- Best 25.003673455433407\n",
      "Total fitness : 568.0613894691293\n",
      "-- Best 25.197659720174144\n",
      "Total fitness : 478.4875431156803\n",
      "-- Best 25.1323746051846\n",
      "Total fitness : 606.6564241338947\n",
      "-- Best 25.42201327932948\n",
      "Total fitness : 574.4616824603257\n",
      "-- Best 24.757077744203478\n",
      "Total fitness : 587.4048123663545\n",
      "-- Best 25.16697254037605\n",
      "Total fitness : 514.9239344541294\n",
      "-- Best 24.681964855497295\n",
      "Total fitness : 519.8742526173303\n",
      "++ Best 26.842495996669363\n",
      "Total fitness : 447.06259875536523\n",
      "-- Best 25.10500367200521\n",
      "Total fitness : 608.7644136372674\n",
      "-- Best 25.94007491924851\n",
      "Total fitness : 484.87071935177596\n",
      "++ Best 26.874414050662217\n",
      "Total fitness : 513.0858569988161\n",
      "-- Best 25.4504745952338\n",
      "Total fitness : 448.09876924260533\n",
      "-- Best 25.57725322549099\n",
      "Total fitness : 448.4672164565592\n",
      "-- Best 25.53551824950931\n",
      "Total fitness : 381.3297464392657\n",
      "-- Best 25.093675595583953\n",
      "Total fitness : 485.1294026110403\n",
      "-- Best 24.814695749403672\n",
      "Total fitness : 387.75807057874545\n",
      "-- Best 24.64278749434007\n",
      "Total fitness : 575.2412849823486\n",
      "++ Best 27.2353752002991\n",
      "Total fitness : 611.3388808465323\n",
      "-- Best 26.433523239949995\n",
      "Total fitness : 469.9964957587156\n",
      "-- Best 27.13677004380924\n",
      "Total fitness : 538.8721697929499\n",
      "++ Best 27.4704181993687\n"
     ]
    }
   ],
   "source": [
    "\"\"\"\n",
    "objective = Objective([\n",
    "    (score_progenitor_size, 10, 2),\n",
    "    (score_both_size, 10, 4)\n",
    "])\n",
    "\"\"\"\n",
    "sol = main(args)"
   ]
  },
  {
   "cell_type": "code",
   "execution_count": null,
   "metadata": {},
   "outputs": [],
   "source": [
    "sol.grn.genes[4].tree"
   ]
  },
  {
   "cell_type": "code",
   "execution_count": null,
   "metadata": {},
   "outputs": [],
   "source": [
    "for one in HALL_OF_FAME:\n",
    "    print(np.mean([fitness_strategy(args, one.grn) for i in range(5)]))"
   ]
  },
  {
   "cell_type": "code",
   "execution_count": null,
   "metadata": {},
   "outputs": [],
   "source": [
    "HALL_OF_FAME[-1].grn"
   ]
  },
  {
   "cell_type": "code",
   "execution_count": null,
   "metadata": {},
   "outputs": [],
   "source": [
    "bb = run_grn(args, HALL_OF_FAME[-1].grn)"
   ]
  },
  {
   "cell_type": "code",
   "execution_count": null,
   "metadata": {},
   "outputs": [],
   "source": [
    "def show_curve(stats, ref, max_step=None, show=True):\n",
    "    \"\"\"\n",
    "    The evaluation function for progenitor population size.\n",
    "    The lower is the better\n",
    "    :param stats: the stats of the bb after running\n",
    "    \"\"\"\n",
    "    stats, ref = shrink_and_align_stats(stats, ref, max_step=max_step)\n",
    "    \n",
    "    x, y = preprocess_progenitor_size(stats, ref)\n",
    "    \n",
    "    plt.plot(ref.index, x, label=\"Reference Prog\")\n",
    "    plt.plot(ref.index, y, label=\"Simulation Prog\")\n",
    "    \n",
    "    x, y = preprocess_whole_size(stats, ref)\n",
    "    \n",
    "    plt.plot(ref.index, x, label=\"Reference Whole\")\n",
    "    plt.plot(ref.index, y, label=\"Simulation Whole\")\n",
    "    \n",
    "    plt.legend()\n",
    "    \n",
    "    if show:\n",
    "        plt.show()"
   ]
  },
  {
   "cell_type": "code",
   "execution_count": null,
   "metadata": {},
   "outputs": [],
   "source": [
    "show_curve(bb.stats, REF, max_step=args.end_time)"
   ]
  },
  {
   "cell_type": "code",
   "execution_count": null,
   "metadata": {},
   "outputs": [],
   "source": [
    "output = objective.get_objective_func()(bb.stats, REF, max_step=args.end_time)\n",
    "fitness = 1.0 / output\n",
    "fitness"
   ]
  },
  {
   "cell_type": "code",
   "execution_count": null,
   "metadata": {},
   "outputs": [],
   "source": []
  }
 ],
 "metadata": {
  "kernelspec": {
   "display_name": "Python 3",
   "language": "python",
   "name": "python3"
  },
  "language_info": {
   "codemirror_mode": {
    "name": "ipython",
    "version": 3
   },
   "file_extension": ".py",
   "mimetype": "text/x-python",
   "name": "python",
   "nbconvert_exporter": "python",
   "pygments_lexer": "ipython3",
   "version": "3.8.10"
  }
 },
 "nbformat": 4,
 "nbformat_minor": 4
}
