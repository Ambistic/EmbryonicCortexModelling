{
 "cells": [
  {
   "cell_type": "code",
   "execution_count": 1,
   "metadata": {},
   "outputs": [],
   "source": [
    "from lib.sde.cell.cell import Cell, CellBatch\n",
    "from lib.sde.grn.grn import GRNMain\n",
    "from lib.sde.mutate import SparseMutator\n",
    "import numpy as np"
   ]
  },
  {
   "cell_type": "code",
   "execution_count": 2,
   "metadata": {},
   "outputs": [],
   "source": [
    "grn = GRNMain(5, 5, 1)"
   ]
  },
  {
   "cell_type": "code",
   "execution_count": 3,
   "metadata": {},
   "outputs": [],
   "source": [
    "c = Cell(grn)"
   ]
  },
  {
   "cell_type": "code",
   "execution_count": 4,
   "metadata": {},
   "outputs": [
    {
     "data": {
      "text/plain": [
       "DeviceArray([ 4.0253  , 10.231122,  4.056399, 11.651544,  4.124508], dtype=float32)"
      ]
     },
     "execution_count": 4,
     "metadata": {},
     "output_type": "execute_result"
    }
   ],
   "source": [
    "c.quantities"
   ]
  },
  {
   "cell_type": "code",
   "execution_count": 5,
   "metadata": {},
   "outputs": [],
   "source": [
    "c.run_step()"
   ]
  },
  {
   "cell_type": "code",
   "execution_count": 6,
   "metadata": {},
   "outputs": [
    {
     "data": {
      "text/plain": [
       "DeviceArray([2.1624117, 1.2428132, 2.0657005, 1.6082923, 2.8094692], dtype=float32)"
      ]
     },
     "execution_count": 6,
     "metadata": {},
     "output_type": "execute_result"
    }
   ],
   "source": [
    "c.quantities"
   ]
  },
  {
   "cell_type": "code",
   "execution_count": 7,
   "metadata": {},
   "outputs": [],
   "source": [
    "mutator = SparseMutator()"
   ]
  },
  {
   "cell_type": "code",
   "execution_count": 8,
   "metadata": {},
   "outputs": [
    {
     "data": {
      "text/plain": [
       "G> G_0: b=0.86; m=3.50; theta=5.19; init=5.79; noise=2.00; expr=1.53; deg=5.00; asym=1.72; tree=()\n",
       "G> G_1: b=0.05; m=7.12; theta=5.90; init=9.93; noise=2.81; expr=1.46; deg=8.93; asym=4.69; tree=(0.42x4 AND 0.80x0z)\n",
       "G> G_2: b=1.00; m=9.44; theta=8.80; init=4.10; noise=0.30; expr=0.02; deg=4.91; asym=3.67; tree=(0.51x0z)\n",
       "G> G_3: b=2.29; m=6.80; theta=5.72; init=7.73; noise=4.33; expr=1.07; deg=8.76; asym=1.88; tree=()\n",
       "G> G_4: b=0.28; m=3.84; theta=7.44; init=5.18; noise=0.18; expr=2.75; deg=3.28; asym=9.89; tree=(0.52x1 AND -0.08x0 AND -0.69x2)\n",
       "R> tree=(-0.35x4 OR 0.22x1 OR 0.08x5)\n",
       "R> tree=(0.90x3 OR 0.84x2 OR 0.32x4)\n",
       "R> tree=()\n",
       "R> tree=(0.03x0 OR 0.06x4 OR 0.05x2)\n",
       "R> tree=(-0.62x0 OR -0.75x3 OR 0.53x2)"
      ]
     },
     "execution_count": 8,
     "metadata": {},
     "output_type": "execute_result"
    }
   ],
   "source": [
    "grn"
   ]
  },
  {
   "cell_type": "code",
   "execution_count": 9,
   "metadata": {},
   "outputs": [
    {
     "data": {
      "text/plain": [
       "G> G_0: b=0.86; m=3.50; theta=5.19; init=5.79; noise=2.00; expr=1.53; deg=5.00; asym=1.72; tree=()\n",
       "G> G_1: b=0.05; m=7.12; theta=5.90; init=9.93; noise=2.81; expr=1.46; deg=8.93; asym=4.69; tree=(0.42x4 AND 1.00x0z)\n",
       "G> G_2: b=1.00; m=9.44; theta=8.80; init=4.10; noise=0.30; expr=0.02; deg=4.91; asym=3.67; tree=(1.00x0z)\n",
       "G> G_3: b=2.29; m=6.80; theta=5.72; init=7.73; noise=4.33; expr=1.07; deg=8.76; asym=1.88; tree=()\n",
       "G> G_4: b=0.28; m=3.84; theta=7.44; init=5.18; noise=0.18; expr=2.75; deg=3.28; asym=9.89; tree=(0.52x1 AND -0.08x0 AND -0.69x2)\n",
       "R> tree=(-0.35x4 OR 0.22x1 OR 0.08x5)\n",
       "R> tree=(0.90x3 OR 0.84x2 OR 0.32x4)\n",
       "R> tree=()\n",
       "R> tree=(0.03x0 OR 0.06x4 OR 0.05x2)\n",
       "R> tree=(-0.62x0 OR -0.75x3 OR 0.53x2)"
      ]
     },
     "execution_count": 9,
     "metadata": {},
     "output_type": "execute_result"
    }
   ],
   "source": [
    "g = grn.copy()\n",
    "g"
   ]
  },
  {
   "cell_type": "code",
   "execution_count": 10,
   "metadata": {},
   "outputs": [
    {
     "data": {
      "text/plain": [
       "G> G_0: b=0.86; m=3.50; theta=5.19; init=5.28; noise=2.33; expr=1.53; deg=5.00; asym=1.72; tree=(-0.10x3)\n",
       "G> G_1: b=0.05; m=7.12; theta=5.90; init=9.93; noise=2.81; expr=1.46; deg=8.93; asym=4.69; tree=(0.42x4 AND 1.00x0z)\n",
       "G> G_2: b=1.00; m=9.44; theta=8.80; init=4.10; noise=0.30; expr=0.02; deg=4.91; asym=3.67; tree=(1.00x0z)\n",
       "G> G_3: b=2.29; m=6.80; theta=5.72; init=7.73; noise=4.44; expr=1.07; deg=8.76; asym=1.88; tree=()\n",
       "G> G_4: b=0.28; m=3.84; theta=7.44; init=5.18; noise=0.18; expr=2.78; deg=3.28; asym=11.95; tree=(0.52x1 AND -0.08x0 AND -0.69x2)\n",
       "R> tree=(-0.35x4 OR 0.22x1 OR 0.08x5)\n",
       "R> tree=(0.90x3 OR 0.84x2 OR 0.32x4)\n",
       "R> tree=(-0.04x3)\n",
       "R> tree=(0.03x0 OR 0.06x4)\n",
       "R> tree=(-0.62x0 OR -0.75x3 OR 0.53x2 OR 0.06x1z)"
      ]
     },
     "execution_count": 10,
     "metadata": {},
     "output_type": "execute_result"
    }
   ],
   "source": [
    "g = grn.copy()\n",
    "mutator(g)\n",
    "g"
   ]
  },
  {
   "cell_type": "code",
   "execution_count": 11,
   "metadata": {},
   "outputs": [],
   "source": [
    "batch = CellBatch([Cell(grn) for i in range(10)])"
   ]
  },
  {
   "cell_type": "code",
   "execution_count": 17,
   "metadata": {},
   "outputs": [],
   "source": [
    "batch.run_step()"
   ]
  },
  {
   "cell_type": "code",
   "execution_count": 21,
   "metadata": {},
   "outputs": [
    {
     "data": {
      "text/plain": [
       "DeviceArray([0.4311538 , 0.02822777, 0.02425767, 0.12037819, 1.3559458 ],            dtype=float32)"
      ]
     },
     "execution_count": 21,
     "metadata": {},
     "output_type": "execute_result"
    }
   ],
   "source": [
    "batch.cells[0].quantities"
   ]
  },
  {
   "cell_type": "code",
   "execution_count": null,
   "metadata": {},
   "outputs": [],
   "source": []
  }
 ],
 "metadata": {
  "kernelspec": {
   "display_name": "Python 3 (ipykernel)",
   "language": "python",
   "name": "python3"
  },
  "language_info": {
   "codemirror_mode": {
    "name": "ipython",
    "version": 3
   },
   "file_extension": ".py",
   "mimetype": "text/x-python",
   "name": "python",
   "nbconvert_exporter": "python",
   "pygments_lexer": "ipython3",
   "version": "3.8.10"
  }
 },
 "nbformat": 4,
 "nbformat_minor": 4
}
