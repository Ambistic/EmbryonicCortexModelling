{
 "cells": [
  {
   "cell_type": "code",
   "execution_count": null,
   "metadata": {},
   "outputs": [],
   "source": [
    "import os\n",
    "os.environ[\"XLA_PYTHON_CLIENT_MEM_FRACTION\"] = \".13\""
   ]
  },
  {
   "cell_type": "code",
   "execution_count": 2,
   "metadata": {},
   "outputs": [],
   "source": [
    "import pandas as pd\n",
    "from brain import BrainModel\n",
    "from submodels import factories\n",
    "import matplotlib.pyplot as plt\n",
    "import numpy as np\n",
    "from collections import defaultdict\n",
    "from random import shuffle\n",
    "\n",
    "from lib.score import (\n",
    "    fate_corr, score_both_size_norm, shrink_and_align_stats, score_stats_norm\n",
    ")\n",
    "from lib.preprocess import *\n",
    "from lib.callback import (\n",
    "    cell_number_callback, progenitor_number_callback, neuron_number_callback,\n",
    "    TargetPopulation, TagNumberCallback, TypeNumberCallback,\n",
    ")\n",
    "from lib.sde.grn.grn import GRNMain\n",
    "from lib.sde.mutate import SparseMutator\n",
    "\n",
    "from lib.ga.utils import weighted_selection_one, normalize_fitness_values\n",
    "from lib.utils import pick_best, pick_last\n",
    "from jf.utils.export import Exporter\n",
    "from jf.autocompute.jf import O, L\n",
    "from itertools import product\n",
    "import jf.models.stringmodel as sm\n",
    "from lib.analyser import show_curve, show_curve_progenitor\n",
    "from jf.models.stringmodel import read_model\n",
    "from lib.utils import normalize_time, align_time\n",
    "from jf.utils.helper import provide_id"
   ]
  },
  {
   "cell_type": "code",
   "execution_count": 3,
   "metadata": {},
   "outputs": [],
   "source": [
    "REF = O(\n",
    "    stats=pd.read_csv(\"reference/ref_tristate2.csv\"),  # ref is a mean\n",
    ")\n",
    "SM_GEN = read_model(\"generation\")\n",
    "_MUTATE_FUNC = SparseMutator()"
   ]
  },
  {
   "cell_type": "code",
   "execution_count": 4,
   "metadata": {},
   "outputs": [],
   "source": [
    "def individual_generator(id_=-1, cb_init=None):\n",
    "    sol = Solution(GRNMain(7, 5, 1, generate_funcs=cb_init), id_=id_)\n",
    "    sol.grn.set_mutable()\n",
    "    sol.grn.genes[0].init = 1\n",
    "    for gene in sol.grn.genes:\n",
    "        gene.noise = max(1, gene.noise)\n",
    "    sol.grn.compile()\n",
    "    return sol"
   ]
  },
  {
   "cell_type": "code",
   "execution_count": 5,
   "metadata": {},
   "outputs": [],
   "source": [
    "class Solution:\n",
    "    def __init__(self, grn, id_=0, parent=-1):\n",
    "        self.id = id_\n",
    "        self.grn = grn\n",
    "        self.parent = parent\n",
    "        self.fit = -1\n",
    "        self.stats = None\n",
    "        \n",
    "    def copy(self, id_=0):\n",
    "        return Solution(self.grn.copy(), id_=id_, parent=self.id)\n",
    "        \n",
    "    def mutate(self):\n",
    "        _MUTATE_FUNC(self.grn)"
   ]
  },
  {
   "cell_type": "code",
   "execution_count": 6,
   "metadata": {},
   "outputs": [],
   "source": [
    "def score_bb_size(bb, ref, *args, **kwargs):\n",
    "    stats = bb.stats.copy()\n",
    "    stats, ref_stats = align_time(stats, ref.stats)\n",
    "    stats_p, ref_p = normalize_time(stats, ref_stats, \"progenitor_pop_size\", \"progenitor_pop_size\")\n",
    "    stats_infra, ref_n = normalize_time(stats, ref_stats, \"infra_pop_size\", \"neuron_pop_size\",\n",
    "                                    \"progenitor_pop_size\", \"progenitor_pop_size\")\n",
    "    stats_supra, _ = normalize_time(stats, ref_stats, \"supra_pop_size\", \"neuron_pop_size\",\n",
    "                                    \"progenitor_pop_size\", \"progenitor_pop_size\")\n",
    "    last_time_stats, last_time_ref = max(stats.time), max(ref_stats.time)\n",
    "    time_switch = 64.0\n",
    "    \n",
    "    ref_p = ref_p.set_index(\"time\")\n",
    "    ref_n = ref_n.set_index(\"time\")\n",
    "    stats_p = stats_p.set_index(\"time\")\n",
    "    stats_infra = stats_infra.set_index(\"time\")\n",
    "    stats_supra = stats_supra.set_index(\"time\")\n",
    "    \n",
    "    prog_early = stats_p.loc[min(last_time_stats, time_switch)][\"progenitor_pop_size\"]\n",
    "    neuron_infra_early = stats_infra.loc[min(last_time_stats, time_switch)][\"infra_pop_size\"]\n",
    "    neuron_supra_early = stats_supra.loc[min(last_time_stats, time_switch)][\"supra_pop_size\"]\n",
    "    \n",
    "    prog_late = stats_p.loc[last_time_stats][\"progenitor_pop_size\"]\n",
    "    neuron_infra_late = stats_infra.loc[last_time_stats][\"infra_pop_size\"]\n",
    "    neuron_supra_late = stats_supra.loc[last_time_stats][\"supra_pop_size\"]\n",
    "    \n",
    "    ref_prog_early = ref_p.loc[time_switch][\"progenitor_pop_size\"]\n",
    "    ref_neuron_infra_early = ref_n.loc[time_switch][\"neuron_pop_size\"]\n",
    "    ref_neuron_supra_early = 0.0\n",
    "    \n",
    "    ref_prog_late = ref_p.loc[last_time_ref][\"progenitor_pop_size\"]\n",
    "    ref_neuron_infra_late = ref_neuron_infra_early\n",
    "    ref_neuron_supra_late = ref_n.loc[last_time_ref][\"neuron_pop_size\"] - ref_neuron_infra_late\n",
    "    \n",
    "    delta_late = (abs(prog_late - ref_prog_late) + abs(neuron_infra_late - ref_neuron_infra_late)\n",
    "                  + abs(neuron_supra_late - ref_neuron_supra_late))\n",
    "    delta_early = (abs(prog_early - ref_prog_early) + abs(neuron_infra_early - ref_neuron_infra_early)\n",
    "                  + abs(neuron_supra_early - ref_neuron_supra_early))\n",
    "\n",
    "    return 1 / max(1, 10000 - 1 * delta_late - 0.5 * delta_early)"
   ]
  },
  {
   "cell_type": "code",
   "execution_count": 7,
   "metadata": {},
   "outputs": [],
   "source": [
    "def hook_event_handler(cell_program):\n",
    "    # prob **2 and **4\n",
    "    q = np.array(cell_program.quantities)\n",
    "    if random() < (q[0] / 2)**4:  # missing a reset\n",
    "        cell_program.quantities = cell_program.quantities.at[0].set(0)\n",
    "        return Action.Divide, GRNCell.Progenitor\n",
    "    \n",
    "    if random() < (q[1] / 2)**1. * (1 - q[2] / 2)**1.:\n",
    "        return Action.DiffNeuron, GRNCell.PostMitoticInfra\n",
    "    \n",
    "    if random() < (q[2] / 2)**1. * (1 - q[1] / 2)**1.:\n",
    "        return Action.DiffNeuron, GRNCell.PostMitoticSupra\n",
    "    \n",
    "    return Action.NoOp, None"
   ]
  },
  {
   "cell_type": "code",
   "execution_count": 8,
   "metadata": {},
   "outputs": [],
   "source": [
    "def get_bb(prun, grn):\n",
    "    from submodels.grn_auto_v1 import GRNCell\n",
    "    ccls = factories[\"grn_auto1\"](grn=grn, hooks=dict(event_handler=hook_event_handler))\n",
    "    callbacks = dict(\n",
    "        progenitor_pop_size=progenitor_number_callback,\n",
    "        whole_pop_size=cell_number_callback,\n",
    "        neuron_pop_size=neuron_number_callback,\n",
    "        infra_pop_size=TypeNumberCallback(GRNCell.PostMitoticInfra, TargetPopulation.whole),\n",
    "        supra_pop_size=TypeNumberCallback(GRNCell.PostMitoticSupra, TargetPopulation.whole),\n",
    "    )\n",
    "    bb = BrainModel(time_step=0.25, verbose=False, start_population=prun.size, max_pop_size=5e2,\n",
    "            cell_cls=ccls, end_time=prun.end_time, start_time=50, silent=True, opti=True,\n",
    "              run_tissue=True, monitor_callbacks=callbacks)\n",
    "    return bb"
   ]
  },
  {
   "cell_type": "code",
   "execution_count": 9,
   "metadata": {},
   "outputs": [],
   "source": [
    "def fitness_multistep(prun, grn, steps):\n",
    "    total_fitness = 0\n",
    "    stop = False\n",
    "    previous_time = None\n",
    "    bb = get_bb(prun, grn)\n",
    "    # first step\n",
    "    for step in steps:\n",
    "        if not bb.run_until(step.end_time):\n",
    "            stop = True\n",
    "        \n",
    "        score_step = step.score_func(bb, prun.ref, max_step=step.end_time, min_step=step.start_time)\n",
    "        fitness_step = 1.0 / score_step\n",
    "        fitness_step = min(fitness_step, step.max_fitness)\n",
    "        total_fitness += fitness_step\n",
    "        if fitness_step < step.min_fitness or stop:\n",
    "            return total_fitness, bb.stats\n",
    "        else:\n",
    "            previous_time = step.end_time\n",
    "            step.passed()\n",
    "        \n",
    "    return total_fitness, bb.stats"
   ]
  },
  {
   "cell_type": "code",
   "execution_count": 10,
   "metadata": {},
   "outputs": [],
   "source": [
    "def fitness_step(prun, grn, step):\n",
    "    bb = get_bb(prun, grn)\n",
    "    bb.run_until(step.end_time)\n",
    "    score_step = step.score_func(bb, prun.ref, max_step=step.end_time, min_step=step.start_time)\n",
    "    fitness = 1.0 / score_step\n",
    "        \n",
    "    return fitness, bb.stats"
   ]
  },
  {
   "cell_type": "code",
   "execution_count": 11,
   "metadata": {},
   "outputs": [],
   "source": [
    "def do_init(prun):\n",
    "    return individual_generator(provide_id(), prun.cb_init)\n",
    "\n",
    "def do_fitness(prun, sol):\n",
    "    fitness, stats = fitness_step(prun, sol.grn, prun.step)\n",
    "    return fitness, stats\n",
    "\n",
    "def do_selection(prun, pop_fit, pop):\n",
    "    if len(pop) < prun.min_pop:\n",
    "        return individual_generator(provide_id(), prun.cb_init)\n",
    "    \n",
    "    pop_fit = normalize_fitness_values(pop_fit)\n",
    "    \n",
    "    return weighted_selection_one(pop, pop_fit, lambda x: individual_generator(x, prun.cb_init), new_fitness=10., id_=provide_id())[0]\n",
    "\n",
    "def do_mutation(prun, sol):\n",
    "    sol.mutate()\n",
    "    return sol"
   ]
  },
  {
   "cell_type": "code",
   "execution_count": 12,
   "metadata": {},
   "outputs": [],
   "source": [
    "class ObjectiveStep(O):\n",
    "    start_time = 0\n",
    "    end_time = 0\n",
    "    max_fitness = 1e9\n",
    "    min_fitness = 1\n",
    "    name = \"\"\n",
    "    _passed = False\n",
    "    \n",
    "    def reset(self):\n",
    "        self._passed = False\n",
    "    \n",
    "    def passed(self):\n",
    "        if self._passed:\n",
    "            return\n",
    "        print(f\"Step {self.name} passed !\")\n",
    "        self._passed = True\n",
    "    \n",
    "example_step = ObjectiveStep(name=\"3\", start_time=56, end_time=86, score_func=score_bb_size, min_fitness=0.2)\n",
    "\n",
    "class ParamRun(O):\n",
    "    pop_size = 50\n",
    "    batch_size = 50\n",
    "    n_gen = 50\n",
    "    current_gen = 0\n",
    "    end_time = 86\n",
    "    ref = REF\n",
    "    min_pop = 50\n",
    "    max_pop = 50\n",
    "\n",
    "def get_prun(size=7, exponent=1):\n",
    "    prun = ParamRun()\n",
    "    prun.cb_init = dict()\n",
    "    prun.size = size\n",
    "    prun.exponent = exponent\n",
    "    prun.step = example_step\n",
    "    return prun"
   ]
  },
  {
   "cell_type": "code",
   "execution_count": 13,
   "metadata": {},
   "outputs": [],
   "source": [
    "def pick_last_exported(exporter):\n",
    "    generations = list(filter(SM_GEN.match, exporter.list()))\n",
    "    if len(generations) == 0:\n",
    "        return None, 0\n",
    "    \n",
    "    last = max(generations, key=lambda x: int(SM_GEN.extract(x).get(\"generation\")))\n",
    "    b_gen = int(SM_GEN.extract(last).get(\"generation\")) + 1\n",
    "    exporter.print(f\"Found generation {b_gen - 1}\", \"reload\")\n",
    "    pop = exporter.load(last)\n",
    "    return pop, b_gen"
   ]
  },
  {
   "cell_type": "code",
   "execution_count": 14,
   "metadata": {},
   "outputs": [],
   "source": [
    "def main(prun):\n",
    "    prun.history = dict()\n",
    "    exporter = Exporter(name=prun.name, copy_stdout=True)\n",
    "    definition = \"\"\"\n",
    "    \n",
    "    \"\"\"\n",
    "    exporter.print(definition, slot=\"definition\")\n",
    "    best = 0\n",
    "    \n",
    "    # setup\n",
    "    pop, batch_gen = pick_last_exported(exporter)\n",
    "    \n",
    "    if batch_gen == prun.n_gen:\n",
    "        print(\"Already finished\")\n",
    "        return\n",
    "    \n",
    "    if pop is None:\n",
    "        sol = do_init(prun)\n",
    "        pop = [sol]\n",
    "        batch_gen = 0\n",
    "    else:\n",
    "        sol = pop[-1]\n",
    "        \n",
    "    for i in range(batch_gen * prun.batch_size,\n",
    "                   prun.n_gen * prun.batch_size):\n",
    "        fit, stats = do_fitness(prun, sol)\n",
    "        sol.fit, sol.stats = fit, stats\n",
    "        \n",
    "        if i % 100 == 0:\n",
    "            exporter.print(f\"Step {i}\")\n",
    "        if fit > best:\n",
    "            exporter.print(f\"++ Best {fit} for generation {i}\")\n",
    "            best = fit\n",
    "            \n",
    "        monitor = sol\n",
    "        prun.history[i] = monitor\n",
    "        # exporter(monitor, f\"generation_g{generation}\")\n",
    "        \n",
    "        sub_pop = pop[-prun.max_pop:]\n",
    "        sol = do_selection(prun, [s.fit for s in sub_pop], sub_pop)\n",
    "            \n",
    "        sol = do_mutation(prun, sol)\n",
    "        pop.append(sol)\n",
    "        \n",
    "        if (i + 1) % prun.batch_size == 0:\n",
    "            print(\"Saving ...\")\n",
    "            batch_gen = (i + 1) // prun.batch_size\n",
    "            exporter(pop[-prun.batch_size:], SM_GEN.fill(generation=batch_gen))\n",
    "        \n",
    "    return best"
   ]
  },
  {
   "cell_type": "code",
   "execution_count": 15,
   "metadata": {},
   "outputs": [],
   "source": [
    "callback_init = dict(\n",
    "    init=lambda: np.random.beta(1.5, 3) * 3,\n",
    "    b=lambda: np.random.beta(1.5, 3) * 5,\n",
    "    expr=lambda: 1,\n",
    "    deg=lambda: 0.1,\n",
    "    noise=lambda: np.random.beta(1.5, 3) * 1,\n",
    "    asym=lambda: 5,\n",
    ")"
   ]
  },
  {
   "cell_type": "code",
   "execution_count": null,
   "metadata": {},
   "outputs": [
    {
     "name": "stdout",
     "output_type": "stream",
     "text": [
      "Exporting at output/test_refacto6\n",
      "[definition] \n",
      "    \n",
      "    \n",
      "[out] Step 0\n",
      "[out] ++ Best 9870.758261043975 for generation 0\n",
      "[out] ++ Best 9871.08479165622 for generation 1\n",
      "[out] ++ Best 9871.462342676628 for generation 3\n",
      "[out] ++ Best 9872.727648799077 for generation 18\n",
      "[out] ++ Best 9872.880710023566 for generation 46\n",
      "[out] ++ Best 9876.329689615404 for generation 49\n",
      "Saving ...\n",
      "[out] ++ Best 9877.064383492954 for generation 61\n",
      "[out] ++ Best 9879.12560798275 for generation 66\n",
      "[out] ++ Best 9893.8909141052 for generation 89\n",
      "Saving ...\n",
      "[out] Step 100\n",
      "[out] ++ Best 9914.146016146016 for generation 100\n",
      "[out] ++ Best 9917.441608584464 for generation 124\n",
      "[out] ++ Best 9930.105199819485 for generation 141\n",
      "Saving ...\n",
      "[out] ++ Best 9934.391992177707 for generation 152\n",
      "Saving ...\n",
      "[out] Step 200\n",
      "[out] ++ Best 9935.198114626686 for generation 221\n",
      "[out] ++ Best 9938.953216667504 for generation 229\n",
      "Saving ...\n",
      "Saving ...\n",
      "[out] Step 300\n",
      "[out] ++ Best 9940.298751441607 for generation 320\n",
      "Saving ...\n",
      "Saving ...\n",
      "[out] Step 400\n",
      "Saving ...\n",
      "Saving ...\n",
      "[out] Step 500\n",
      "Saving ...\n"
     ]
    }
   ],
   "source": [
    "prun = get_prun()\n",
    "prun.cb_init = callback_init\n",
    "prun.name = \"test_refacto6\"\n",
    "res = main(prun)"
   ]
  },
  {
   "cell_type": "code",
   "execution_count": null,
   "metadata": {},
   "outputs": [],
   "source": [
    "exp = Exporter(name=prun.name)"
   ]
  },
  {
   "cell_type": "code",
   "execution_count": null,
   "metadata": {},
   "outputs": [],
   "source": [
    "sm = read_model(\"generation\")"
   ]
  },
  {
   "cell_type": "code",
   "execution_count": null,
   "metadata": {},
   "outputs": [],
   "source": [
    "res = pick_best(exp.load(\"generation_g10\"))\n",
    "res = pick_best(exp.load(pick_last(exp)))"
   ]
  },
  {
   "cell_type": "code",
   "execution_count": 25,
   "metadata": {},
   "outputs": [
    {
     "data": {
      "text/plain": [
       "9962.078273078272"
      ]
     },
     "execution_count": 25,
     "metadata": {},
     "output_type": "execute_result"
    }
   ],
   "source": [
    "res.fit"
   ]
  },
  {
   "cell_type": "code",
   "execution_count": null,
   "metadata": {},
   "outputs": [],
   "source": [
    "# for i in range(5):\n",
    "#     print(fitness_multistep(prun, res.grn, prun.steps))"
   ]
  },
  {
   "cell_type": "code",
   "execution_count": 26,
   "metadata": {},
   "outputs": [
    {
     "data": {
      "image/png": "[encoded data removed]",
      "text/plain": [
       "<Figure size 576x396 with 1 Axes>"
      ]
     },
     "metadata": {},
     "output_type": "display_data"
    }
   ],
   "source": [
    "def quick_show(stats):\n",
    "    plt.plot(stats.time, stats.progenitor_pop_size, label=\"Progenitor\")\n",
    "    plt.plot(stats.time, stats.whole_pop_size, label=\"Whole\")\n",
    "    plt.plot(stats.time, stats.neuron_pop_size, label=\"Neurons\")\n",
    "    plt.plot(stats.time, stats.infra_pop_size, label=\"Infra\")\n",
    "    plt.plot(stats.time, stats.supra_pop_size, label=\"Supra\")\n",
    "    plt.legend()\n",
    "    \n",
    "quick_show(res.stats)"
   ]
  },
  {
   "cell_type": "code",
   "execution_count": null,
   "metadata": {},
   "outputs": [],
   "source": [
    "show_curve(res.stats, REF.stats)"
   ]
  },
  {
   "cell_type": "code",
   "execution_count": null,
   "metadata": {},
   "outputs": [],
   "source": [
    "for g in sorted(filter(sm.match, exp.list()), key=lambda x: int(sm.extract(x)[\"generation\"])):\n",
    "    gen = exp.load(g)\n",
    "    res = pick_best(gen)\n",
    "    print()\n",
    "    print(f\"======= GENERATION {g} {res.fit} =======\")\n",
    "    print(res.grn)"
   ]
  }
 ],
 "metadata": {
  "kernelspec": {
   "display_name": "Python 3 (ipykernel)",
   "language": "python",
   "name": "python3"
  },
  "language_info": {
   "codemirror_mode": {
    "name": "ipython",
    "version": 3
   },
   "file_extension": ".py",
   "mimetype": "text/x-python",
   "name": "python",
   "nbconvert_exporter": "python",
   "pygments_lexer": "ipython3",
   "version": "3.8.10"
  }
 },
 "nbformat": 4,
 "nbformat_minor": 4
}
