{
 "cells": [
  {
   "cell_type": "code",
   "execution_count": 2,
   "metadata": {},
   "outputs": [],
   "source": [
    "import pandas as pd\n",
    "from brain import BrainModel\n",
    "from submodels import factories\n",
    "import matplotlib.pyplot as plt\n",
    "import numpy as np\n",
    "from collections import defaultdict\n",
    "from random import shuffle\n",
    "\n",
    "from lib.score import (\n",
    "    fate_corr, score_both_size_norm, shrink_and_align_stats, score_stats_norm\n",
    ")\n",
    "from lib.preprocess import *\n",
    "from lib.callback import (\n",
    "    cell_number_callback, progenitor_number_callback, neuron_number_callback,\n",
    "    TargetPopulation, TagNumberCallback, TypeNumberCallback,\n",
    ")\n",
    "from lib.sde.grn.grn import GRNMain\n",
    "from lib.sde.mutate import SparseMutator\n",
    "\n",
    "from lib.ga.utils import weighted_selection_one, normalize_fitness_values\n",
    "from lib.utils import pick_best, pick_last\n",
    "from jf.utils.export import Exporter\n",
    "from jf.autocompute.jf import O, L\n",
    "from itertools import product\n",
    "import jf.models.stringmodel as sm\n",
    "from lib.analyser import show_curve, show_curve_progenitor\n",
    "from jf.models.stringmodel import read_model\n",
    "from lib.utils import normalize_time, align_time\n",
    "from jf.utils.helper import provide_id"
   ]
  },
  {
   "cell_type": "code",
   "execution_count": 5,
   "metadata": {},
   "outputs": [],
   "source": [
    "NAME = \"output/opti_metaparam_1\""
   ]
  },
  {
   "cell_type": "code",
   "execution_count": 9,
   "metadata": {},
   "outputs": [],
   "source": [
    "class Solution:\n",
    "    def __init__(self, grn, id_=0, parent=-1):\n",
    "        self.id = id_\n",
    "        self.grn = grn\n",
    "        self.parent = parent\n",
    "        self.fit = -1\n",
    "        self.stats = None\n",
    "        \n",
    "    def copy(self, id_=0):\n",
    "        return Solution(self.grn.copy(), id_=id_, parent=self.id)\n",
    "        \n",
    "    def mutate(self):\n",
    "        _MUTATE_FUNC(self.grn)"
   ]
  },
  {
   "cell_type": "code",
   "execution_count": 6,
   "metadata": {},
   "outputs": [
    {
     "name": "stdout",
     "output_type": "stream",
     "text": [
      "Exporting at output/opti_metaparam_1\n"
     ]
    }
   ],
   "source": [
    "exp = Exporter(NAME)"
   ]
  },
  {
   "cell_type": "code",
   "execution_count": 11,
   "metadata": {},
   "outputs": [],
   "source": [
    "g = exp.load('decay_temp_param_0.0_4')"
   ]
  },
  {
   "cell_type": "code",
   "execution_count": 18,
   "metadata": {},
   "outputs": [
    {
     "data": {
      "text/plain": [
       "9888.205009276437"
      ]
     },
     "execution_count": 18,
     "metadata": {},
     "output_type": "execute_result"
    }
   ],
   "source": [
    "g[-5].fit"
   ]
  },
  {
   "cell_type": "code",
   "execution_count": 22,
   "metadata": {},
   "outputs": [],
   "source": [
    "def parse_name(x):\n",
    "    return x.rsplit(\"_\", maxsplit=2)\n",
    "\n",
    "def get_score(x):\n",
    "    return max([y.fit for y in x[950:1000]])"
   ]
  },
  {
   "cell_type": "code",
   "execution_count": 23,
   "metadata": {},
   "outputs": [],
   "source": [
    "results = []\n",
    "for sample in exp.list():\n",
    "    sample_name, param_value, id_ = parse_name(sample)\n",
    "    g = exp.load(sample)\n",
    "    if len(g) < 1001:\n",
    "        print(\"Problem with sample\", len(g))\n",
    "    score = get_score(g)\n",
    "    results.append((sample_name, param_value, id_, score))"
   ]
  },
  {
   "cell_type": "code",
   "execution_count": 24,
   "metadata": {},
   "outputs": [],
   "source": [
    "df = pd.DataFrame(results, columns=[\"strategy\", \"value\", \"id\", \"score\"])"
   ]
  },
  {
   "cell_type": "code",
   "execution_count": 25,
   "metadata": {},
   "outputs": [
    {
     "data": {
      "text/html": [
       "<div>\n",
       "<style scoped>\n",
       "    .dataframe tbody tr th:only-of-type {\n",
       "        vertical-align: middle;\n",
       "    }\n",
       "\n",
       "    .dataframe tbody tr th {\n",
       "        vertical-align: top;\n",
       "    }\n",
       "\n",
       "    .dataframe thead th {\n",
       "        text-align: right;\n",
       "    }\n",
       "</style>\n",
       "<table border=\"1\" class=\"dataframe\">\n",
       "  <thead>\n",
       "    <tr style=\"text-align: right;\">\n",
       "      <th></th>\n",
       "      <th>strategy</th>\n",
       "      <th>value</th>\n",
       "      <th>id</th>\n",
       "      <th>score</th>\n",
       "    </tr>\n",
       "  </thead>\n",
       "  <tbody>\n",
       "    <tr>\n",
       "      <th>0</th>\n",
       "      <td>decay_temp_param</td>\n",
       "      <td>0.0</td>\n",
       "      <td>4</td>\n",
       "      <td>9973.186832</td>\n",
       "    </tr>\n",
       "    <tr>\n",
       "      <th>1</th>\n",
       "      <td>ctrl</td>\n",
       "      <td>0.0</td>\n",
       "      <td>2</td>\n",
       "      <td>9950.870180</td>\n",
       "    </tr>\n",
       "    <tr>\n",
       "      <th>2</th>\n",
       "      <td>temp_param</td>\n",
       "      <td>0.05</td>\n",
       "      <td>0</td>\n",
       "      <td>9914.829364</td>\n",
       "    </tr>\n",
       "    <tr>\n",
       "      <th>3</th>\n",
       "      <td>temp_param</td>\n",
       "      <td>0.2</td>\n",
       "      <td>3</td>\n",
       "      <td>9930.206915</td>\n",
       "    </tr>\n",
       "    <tr>\n",
       "      <th>4</th>\n",
       "      <td>sparse_gene</td>\n",
       "      <td>0.1</td>\n",
       "      <td>4</td>\n",
       "      <td>9929.973625</td>\n",
       "    </tr>\n",
       "  </tbody>\n",
       "</table>\n",
       "</div>"
      ],
      "text/plain": [
       "           strategy value id        score\n",
       "0  decay_temp_param   0.0  4  9973.186832\n",
       "1              ctrl   0.0  2  9950.870180\n",
       "2        temp_param  0.05  0  9914.829364\n",
       "3        temp_param   0.2  3  9930.206915\n",
       "4       sparse_gene   0.1  4  9929.973625"
      ]
     },
     "execution_count": 25,
     "metadata": {},
     "output_type": "execute_result"
    }
   ],
   "source": [
    "df.head()"
   ]
  },
  {
   "cell_type": "code",
   "execution_count": 27,
   "metadata": {},
   "outputs": [],
   "source": [
    "new_df = df.groupby([\"strategy\", \"value\"]).agg(\"mean\")"
   ]
  },
  {
   "cell_type": "code",
   "execution_count": 29,
   "metadata": {},
   "outputs": [
    {
     "data": {
      "text/plain": [
       "<matplotlib.collections.PathCollection at 0x7f881307a580>"
      ]
     },
     "execution_count": 29,
     "metadata": {},
     "output_type": "execute_result"
    },
    {
     "data": {
      "image/png": "[encoded data removed]",
      "text/plain": [
       "<Figure size 576x396 with 1 Axes>"
      ]
     },
     "metadata": {},
     "output_type": "display_data"
    }
   ],
   "source": [
    "plt.scatter(new_df[\"score\"], range(len(new_df[\"score\"])))"
   ]
  },
  {
   "cell_type": "code",
   "execution_count": 30,
   "metadata": {},
   "outputs": [
    {
     "data": {
      "text/html": [
       "<div>\n",
       "<style scoped>\n",
       "    .dataframe tbody tr th:only-of-type {\n",
       "        vertical-align: middle;\n",
       "    }\n",
       "\n",
       "    .dataframe tbody tr th {\n",
       "        vertical-align: top;\n",
       "    }\n",
       "\n",
       "    .dataframe thead th {\n",
       "        text-align: right;\n",
       "    }\n",
       "</style>\n",
       "<table border=\"1\" class=\"dataframe\">\n",
       "  <thead>\n",
       "    <tr style=\"text-align: right;\">\n",
       "      <th></th>\n",
       "      <th></th>\n",
       "      <th>score</th>\n",
       "    </tr>\n",
       "    <tr>\n",
       "      <th>strategy</th>\n",
       "      <th>value</th>\n",
       "      <th></th>\n",
       "    </tr>\n",
       "  </thead>\n",
       "  <tbody>\n",
       "    <tr>\n",
       "      <th>ctrl</th>\n",
       "      <th>0.0</th>\n",
       "      <td>9933.546382</td>\n",
       "    </tr>\n",
       "    <tr>\n",
       "      <th>decay_temp_gene</th>\n",
       "      <th>0.0</th>\n",
       "      <td>9949.140109</td>\n",
       "    </tr>\n",
       "    <tr>\n",
       "      <th>decay_temp_param</th>\n",
       "      <th>0.0</th>\n",
       "      <td>9944.862082</td>\n",
       "    </tr>\n",
       "    <tr>\n",
       "      <th>number_gene</th>\n",
       "      <th>0.0</th>\n",
       "      <td>9934.143995</td>\n",
       "    </tr>\n",
       "    <tr>\n",
       "      <th rowspan=\"2\" valign=\"top\">sparse_gene</th>\n",
       "      <th>0.1</th>\n",
       "      <td>9938.295146</td>\n",
       "    </tr>\n",
       "    <tr>\n",
       "      <th>0.3</th>\n",
       "      <td>9933.583117</td>\n",
       "    </tr>\n",
       "    <tr>\n",
       "      <th rowspan=\"2\" valign=\"top\">sparse_param</th>\n",
       "      <th>0.1</th>\n",
       "      <td>9947.441889</td>\n",
       "    </tr>\n",
       "    <tr>\n",
       "      <th>0.3</th>\n",
       "      <td>9947.378689</td>\n",
       "    </tr>\n",
       "    <tr>\n",
       "      <th rowspan=\"2\" valign=\"top\">temp_gene</th>\n",
       "      <th>0.05</th>\n",
       "      <td>9949.144126</td>\n",
       "    </tr>\n",
       "    <tr>\n",
       "      <th>0.2</th>\n",
       "      <td>9938.789595</td>\n",
       "    </tr>\n",
       "    <tr>\n",
       "      <th rowspan=\"2\" valign=\"top\">temp_param</th>\n",
       "      <th>0.05</th>\n",
       "      <td>9945.231881</td>\n",
       "    </tr>\n",
       "    <tr>\n",
       "      <th>0.2</th>\n",
       "      <td>9929.929113</td>\n",
       "    </tr>\n",
       "  </tbody>\n",
       "</table>\n",
       "</div>"
      ],
      "text/plain": [
       "                              score\n",
       "strategy         value             \n",
       "ctrl             0.0    9933.546382\n",
       "decay_temp_gene  0.0    9949.140109\n",
       "decay_temp_param 0.0    9944.862082\n",
       "number_gene      0.0    9934.143995\n",
       "sparse_gene      0.1    9938.295146\n",
       "                 0.3    9933.583117\n",
       "sparse_param     0.1    9947.441889\n",
       "                 0.3    9947.378689\n",
       "temp_gene        0.05   9949.144126\n",
       "                 0.2    9938.789595\n",
       "temp_param       0.05   9945.231881\n",
       "                 0.2    9929.929113"
      ]
     },
     "execution_count": 30,
     "metadata": {},
     "output_type": "execute_result"
    }
   ],
   "source": [
    "new_df"
   ]
  },
  {
   "cell_type": "markdown",
   "metadata": {},
   "source": [
    "Quick conclusion without stats, it seems that decay is really helpful, lower temperature too (for both genes and params). However, sparse param scores seem contradictory because both lower and higher are better"
   ]
  },
  {
   "cell_type": "code",
   "execution_count": 31,
   "metadata": {},
   "outputs": [],
   "source": [
    "dict_list = defaultdict(list)\n",
    "\n",
    "for a, b, _, score in results:\n",
    "    dict_list[(a, b)].append(score)"
   ]
  },
  {
   "cell_type": "code",
   "execution_count": 32,
   "metadata": {},
   "outputs": [],
   "source": [
    "from scipy.stats import ttest_ind"
   ]
  },
  {
   "cell_type": "code",
   "execution_count": 35,
   "metadata": {},
   "outputs": [
    {
     "name": "stdout",
     "output_type": "stream",
     "text": [
      "--------------------------------------------------------------------------------\n",
      "('decay_temp_param', '0.0')\n",
      "Ttest_indResult(statistic=0.9122467767542309, pvalue=0.38830200295157313)\n",
      "\n",
      "--------------------------------------------------------------------------------\n",
      "('ctrl', '0.0')\n",
      "Ttest_indResult(statistic=0.0, pvalue=1.0)\n",
      "\n",
      "--------------------------------------------------------------------------------\n",
      "('temp_param', '0.05')\n",
      "Ttest_indResult(statistic=0.9668840469173245, pvalue=0.36191856888291285)\n",
      "\n",
      "--------------------------------------------------------------------------------\n",
      "('temp_param', '0.2')\n",
      "Ttest_indResult(statistic=-0.34185419887616464, pvalue=0.7412673995454744)\n",
      "\n",
      "--------------------------------------------------------------------------------\n",
      "('sparse_gene', '0.1')\n",
      "Ttest_indResult(statistic=0.49027548693508466, pvalue=0.6371017356288085)\n",
      "\n",
      "--------------------------------------------------------------------------------\n",
      "('temp_gene', '0.2')\n",
      "Ttest_indResult(statistic=0.3645582608983906, pvalue=0.7248895513607143)\n",
      "\n",
      "--------------------------------------------------------------------------------\n",
      "('sparse_gene', '0.3')\n",
      "Ttest_indResult(statistic=0.0029125001238709657, pvalue=0.997747481689724)\n",
      "\n",
      "--------------------------------------------------------------------------------\n",
      "('decay_temp_gene', '0.0')\n",
      "Ttest_indResult(statistic=1.4882134392790163, pvalue=0.17501496642512523)\n",
      "\n",
      "--------------------------------------------------------------------------------\n",
      "('sparse_param', '0.1')\n",
      "Ttest_indResult(statistic=1.621419005147104, pvalue=0.1435857539617109)\n",
      "\n",
      "--------------------------------------------------------------------------------\n",
      "('temp_gene', '0.05')\n",
      "Ttest_indResult(statistic=1.7139365660488546, pvalue=0.1248885394461283)\n",
      "\n",
      "--------------------------------------------------------------------------------\n",
      "('number_gene', '0.0')\n",
      "Ttest_indResult(statistic=0.04603954366145627, pvalue=0.9644072522307978)\n",
      "\n",
      "--------------------------------------------------------------------------------\n",
      "('sparse_param', '0.3')\n",
      "Ttest_indResult(statistic=1.2213048238586797, pvalue=0.25673837016819695)\n",
      "\n"
     ]
    }
   ],
   "source": [
    "all_p = []\n",
    "for k, v in dict_list.items():\n",
    "    print(\"-\" * 80)\n",
    "    print(k)\n",
    "    print(ttest_ind(v, dict_list[('ctrl', '0.0')]))\n",
    "    z = ttest_ind(v, dict_list[('ctrl', '0.0')])\n",
    "    all_p.append(z.pvalue)\n",
    "    print()"
   ]
  },
  {
   "cell_type": "code",
   "execution_count": 38,
   "metadata": {},
   "outputs": [
    {
     "data": {
      "text/plain": [
       "<matplotlib.collections.PathCollection at 0x7f87540f90a0>"
      ]
     },
     "execution_count": 38,
     "metadata": {},
     "output_type": "execute_result"
    },
    {
     "data": {
      "image/png": "[encoded data removed]",
      "text/plain": [
       "<Figure size 576x396 with 1 Axes>"
      ]
     },
     "metadata": {},
     "output_type": "display_data"
    }
   ],
   "source": [
    "plt.scatter(all_p, range(len(all_p)))"
   ]
  },
  {
   "cell_type": "code",
   "execution_count": null,
   "metadata": {},
   "outputs": [],
   "source": []
  }
 ],
 "metadata": {
  "kernelspec": {
   "display_name": "Python 3 (ipykernel)",
   "language": "python",
   "name": "python3"
  },
  "language_info": {
   "codemirror_mode": {
    "name": "ipython",
    "version": 3
   },
   "file_extension": ".py",
   "mimetype": "text/x-python",
   "name": "python",
   "nbconvert_exporter": "python",
   "pygments_lexer": "ipython3",
   "version": "3.8.10"
  }
 },
 "nbformat": 4,
 "nbformat_minor": 4
}
