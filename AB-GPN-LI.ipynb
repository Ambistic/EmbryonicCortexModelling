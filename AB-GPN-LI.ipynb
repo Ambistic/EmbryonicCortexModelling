{
 "cells": [
  {
   "cell_type": "code",
   "execution_count": 1,
   "metadata": {},
   "outputs": [],
   "source": [
    "# imports\n",
    "import numpy as np\n",
    "import seaborn as sns\n",
    "import tqdm\n",
    "import random\n",
    "import matplotlib.pyplot as plt\n",
    "import os\n",
    "import pandas as pd\n",
    "from numpy.random import choice\n",
    "from scipy import stats\n",
    "from collections import Counter\n",
    "from model import AbstractCell, Action, Brain, Submodels\n",
    "from modelrgpn import BrainLI\n",
    "from experiment import Experiment\n",
    "from utils import nop, highest_lower, Profiler, plot_function\n",
    "from submodels.cellbasic1 import CellBasic\n",
    "from submodels.bistate1 import BiStateModelFactory\n",
    "from submodels.bistate_LI import BiStateLIModelFactory\n",
    "from submodels.tristate_LI import TriStateLIModelFactory\n",
    "from submodels import factories\n",
    "from biodata import *\n",
    "from tree import tree_from_cell"
   ]
  },
  {
   "cell_type": "code",
   "execution_count": 2,
   "metadata": {},
   "outputs": [],
   "source": [
    "def var_metric(gpn, cells):\n",
    "    ls_ratio = list()\n",
    "    for cell in cells:\n",
    "        ngbs = gpn.ngb(cell.gpn_id)\n",
    "        # now dependent of the data format\n",
    "        ratio = np.mean([ngb == IP])"
   ]
  },
  {
   "cell_type": "markdown",
   "metadata": {},
   "source": [
    "## Model"
   ]
  },
  {
   "cell_type": "code",
   "execution_count": 3,
   "metadata": {},
   "outputs": [],
   "source": [
    "# Definition of the var of the model\n",
    "# We start with 100 cells for homogeneity\n",
    "START_POPULATION_SQRT = 10\n",
    "START_TIME = 49\n",
    "END_TIME = 94\n",
    "# We arbitrarily set variance of Tc at 12.5^2\n",
    "# 95 % seems to be into 50, so sigma = 50 / 4 = 12.5\n",
    "SIG_TC = 12.5"
   ]
  },
  {
   "cell_type": "code",
   "execution_count": 4,
   "metadata": {},
   "outputs": [],
   "source": [
    "# attempt to show side collapse"
   ]
  },
  {
   "cell_type": "code",
   "execution_count": 5,
   "metadata": {},
   "outputs": [],
   "source": [
    "smooth = 0.2\n",
    "start_val = 0.35\n",
    "bias_ratio = [0.2, 0.2, -0.1, -0.1, -0.1]\n",
    "size = 6\n",
    "NAME = \"none\"\n",
    "DESC = f\"bias {bias_ratio} size {size} startval {start_val} smooth {smooth}\""
   ]
  },
  {
   "cell_type": "code",
   "execution_count": 6,
   "metadata": {},
   "outputs": [],
   "source": [
    "root = \"/home/nathan/Bureau/ENS/Thèse/dev/EmbryonicCortexModelling/output/evonet13/\"\n",
    "count = 0\n",
    "from viz import embedded_viz, quick_export\n",
    "import gc\n",
    "def my_callback(gpn):\n",
    "    global count, root\n",
    "    gc.collect()\n",
    "    count += 1\n",
    "    if count % 100 == 0:\n",
    "        print(count)\n",
    "        \n",
    "    name = os.path.join(root, f\"image_{count}.png\")\n",
    "    \n",
    "    if os.path.exists(name):\n",
    "        return\n",
    "    # here\n",
    "    gpn.update_dist()\n",
    "    pos = embedded_viz(gpn, finetune=False)\n",
    "    quick_export(gpn, pos, name)"
   ]
  },
  {
   "cell_type": "code",
   "execution_count": 7,
   "metadata": {},
   "outputs": [],
   "source": [
    "def go(seed=0):\n",
    "    random.seed(0+seed)\n",
    "    np.random.seed(0+seed)\n",
    "    ccls = TriStateLIModelFactory(tc_coeff_RG=[1., 1., 1., 1., 1.], smooth=smooth, start_val=start_val,\n",
    "                                bias_ratio=bias_ratio)\n",
    "    bb = BrainLI(time_step=0.5, verbose=True, start_population=size, cell_cls=ccls.generate, check=True,\n",
    "                end_time=94, callback_gpn=None)\n",
    "    # bb.gpn.debug = True\n",
    "\n",
    "    # bb.run()\n",
    "    return bb"
   ]
  },
  {
   "cell_type": "code",
   "execution_count": 8,
   "metadata": {},
   "outputs": [
    {
     "name": "stdout",
     "output_type": "stream",
     "text": [
      "Ticking abs : 49.0, step : 0.5\n",
      "Ticking abs : 49.5, step : 0.5\n",
      "Duplicating 12 12\n",
      "Duplicated with ids : 12 and 36\n",
      "Duplicating 16 16\n",
      "Duplicated with ids : 16 and 37\n",
      "Duplicating 17 17\n",
      "Duplicated with ids : 17 and 38\n",
      "Duplicating 18 18\n",
      "Duplicated with ids : 18 and 39\n",
      "Duplicating 19 19\n",
      "Duplicated with ids : 19 and 40\n",
      "Duplicating 20 20\n",
      "Duplicated with ids : 20 and 41\n",
      "Duplicating 21 21\n",
      "Duplicated with ids : 21 and 42\n",
      "Duplicating 23 23\n",
      "Duplicated with ids : 23 and 43\n",
      "Duplicating 24 24\n",
      "Duplicated with ids : 24 and 44\n",
      "Duplicating 27 27\n",
      "Counter at 10 1628152611.562607\n",
      "Duplicated with ids : 27 and 45\n",
      "Duplicating 30 30\n",
      "Duplicated with ids : 30 and 46\n",
      "Duplicating 31 31\n",
      "Duplicated with ids : 31 and 47\n",
      "Ticking abs : 50.0, step : 0.5\n",
      "Duplicating 8 8\n",
      "Duplicated with ids : 8 and 48\n",
      "Duplicating 9 9\n",
      "Duplicated with ids : 9 and 49\n",
      "Duplicating 14 14\n",
      "Duplicated with ids : 14 and 50\n",
      "Duplicating 15 15\n",
      "Duplicated with ids : 15 and 51\n",
      "Removing 39 16\n",
      "Removing 41 17\n",
      "Removing 49 21\n",
      "Removing 51 23\n",
      "Counter at 20 1628152612.3348114\n",
      "Duplicating 25 25\n",
      "Duplicated with ids : 25 and 52\n",
      "Duplicating 26 26\n",
      "Duplicated with ids : 26 and 53\n",
      "Removing 59 31\n",
      "Duplicating 33 33\n",
      "Duplicated with ids : 33 and 54\n",
      "Removing 38 37\n",
      "Removing 40 38\n",
      "Removing 44 40\n",
      "Removing 48 42\n",
      "Removing 50 43\n",
      "Removing 58 47\n",
      "Counter at 30 1628152613.017837\n",
      "Ticking abs : 50.5, step : 0.5\n",
      "Duplicating 0 1\n",
      "Duplicated with ids : 1 and 55\n",
      "Duplicating 2 2\n",
      "Duplicated with ids : 2 and 56\n",
      "Duplicating 3 3\n",
      "Duplicated with ids : 3 and 57\n",
      "Duplicating 6 6\n",
      "Duplicated with ids : 6 and 58\n",
      "Duplicating 13 13\n",
      "Duplicated with ids : 13 and 59\n",
      "Duplicating 22 22\n",
      "Duplicated with ids : 22 and 60\n",
      "Duplicating 28 28\n",
      "Duplicated with ids : 28 and 61\n",
      "Duplicating 29 29\n",
      "Duplicated with ids : 29 and 62\n",
      "Duplicating 57 30\n",
      "Duplicated with ids : 30 and 63\n",
      "Duplicating 34 34\n",
      "Counter at 40 1628152613.7716167\n",
      "Duplicated with ids : 34 and 64\n",
      "Duplicating 46 41\n",
      "Duplicated with ids : 41 and 65\n",
      "Duplicating 54 45\n",
      "Duplicated with ids : 45 and 66\n",
      "Ticking abs : 51.0, step : 0.5\n",
      "Duplicating 1 0\n",
      "Duplicated with ids : 0 and 67\n",
      "Duplicating 4 4\n",
      "Duplicated with ids : 4 and 68\n",
      "Duplicating 5 5\n",
      "Duplicated with ids : 5 and 69\n",
      "Duplicating 7 7\n",
      "Duplicated with ids : 7 and 70\n",
      "Duplicating 10 10\n",
      "Duplicated with ids : 10 and 71\n",
      "Duplicating 11 11\n",
      "Duplicated with ids : 11 and 72\n",
      "Duplicating 37 12\n",
      "Duplicated with ids : 12 and 73\n",
      "Removing 83 13\n",
      "Counter at 50 1628152614.7351415\n",
      "Duplicating 47 20\n",
      "Duplicated with ids : 20 and 74\n",
      "Removing 85 22\n",
      "Duplicating 53 24\n",
      "Duplicated with ids : 24 and 75\n",
      "Duplicating 71 26\n",
      "Duplicated with ids : 26 and 76\n",
      "Duplicating 73 33\n",
      "Duplicated with ids : 33 and 77\n",
      "Duplicating 35 35\n",
      "Duplicated with ids : 35 and 78\n",
      "Duplicating 52 44\n",
      "Duplicated with ids : 44 and 79\n",
      "Removing 97 45\n",
      "Duplicating 66 51\n",
      "Duplicated with ids : 51 and 80\n",
      "Duplicating 68 52\n",
      "Counter at 60 1628152615.61618\n",
      "Duplicated with ids : 52 and 81\n",
      "Removing 82 59\n",
      "Removing 84 60\n",
      "Removing 90 63\n",
      "Duplicating 92 64\n",
      "Duplicated with ids : 64 and 82\n",
      "Removing 96 66\n",
      "Ticking abs : 51.5, step : 0.5\n",
      "Removing 103 5\n",
      "Duplicating 61 8\n",
      "Duplicated with ids : 8 and 83\n",
      "Duplicating 63 9\n",
      "Duplicated with ids : 9 and 84\n",
      "Removing 109 11\n",
      "Removing 111 12\n",
      "Counter at 70 1628152616.5601134\n",
      "Duplicating 65 14\n",
      "Duplicated with ids : 14 and 85\n",
      "Duplicating 43 18\n",
      "Duplicated with ids : 18 and 86\n",
      "Removing 113 20\n",
      "Removing 115 24\n",
      "Duplicating 55 27\n",
      "Duplicated with ids : 27 and 87\n",
      "Duplicating 32 32\n",
      "Duplicated with ids : 32 and 88\n",
      "Removing 119 33\n",
      "Duplicating 93 34\n",
      "Duplicated with ids : 34 and 89\n",
      "Duplicating 36 36\n",
      "Duplicated with ids : 36 and 90\n",
      "Duplicating 42 39\n",
      "Counter at 80 1628152617.3480132\n",
      "Duplicated with ids : 39 and 91\n",
      "Duplicating 56 46\n",
      "Duplicated with ids : 46 and 92\n",
      "Duplicating 72 54\n",
      "Duplicated with ids : 54 and 93\n",
      "Duplicating 80 58\n",
      "Duplicated with ids : 58 and 94\n",
      "Duplicating 86 61\n",
      "Duplicated with ids : 61 and 95\n",
      "Removing 102 69\n",
      "Removing 110 73\n",
      "Removing 112 74\n",
      "Removing 114 75\n",
      "Removing 124 80\n",
      "Removing 126 81\n",
      "Counter at 90 1628152618.2226388\n",
      "Ticking abs : 52.0, step : 0.5\n",
      "Duplicating 75 1\n",
      "Duplicated with ids : 1 and 96\n",
      "Duplicating 99 0\n",
      "Duplicated with ids : 0 and 97\n",
      "Removing 133 9\n",
      "Duplicating 67 15\n",
      "Duplicated with ids : 15 and 98\n",
      "Duplicating 45 19\n",
      "Duplicated with ids : 19 and 99\n",
      "Duplicating 89 29\n",
      "Duplicated with ids : 29 and 100\n",
      "Duplicating 91 30\n",
      "Duplicated with ids : 30 and 101\n",
      "Removing 141 32\n",
      "Removing 143 34\n",
      "Duplicating 147 39\n",
      "Counter at 100 1628152618.9903145\n",
      "Duplicated with ids : 39 and 102\n",
      "Removing 149 46\n",
      "Duplicating 60 48\n",
      "Duplicated with ids : 48 and 103\n",
      "Duplicating 64 50\n",
      "Duplicated with ids : 50 and 104\n",
      "Duplicating 70 53\n",
      "Duplicated with ids : 53 and 105\n",
      "Removing 153 58\n",
      "Duplicating 94 65\n",
      "Duplicated with ids : 65 and 106\n",
      "Removing 132 84\n",
      "Removing 138 87\n",
      "Removing 140 88\n",
      "Removing 142 89\n",
      "Counter at 110 1628152619.9484105\n",
      "Removing 148 92\n",
      "Removing 152 94\n",
      "Duplicating 154 95\n",
      "Duplicated with ids : 95 and 107\n",
      "Ticking abs : 52.5, step : 0.5\n",
      "Removing 157 1\n",
      "Duplicating 77 2\n",
      "Duplicated with ids : 2 and 108\n",
      "Duplicating 137 18\n",
      "Duplicated with ids : 18 and 109\n",
      "Removing 163 19\n",
      "Duplicating 87 28\n",
      "Duplicated with ids : 28 and 110\n",
      "Removing 165 29\n",
      "Removing 167 30\n",
      "Counter at 120 1628152620.8024185\n",
      "Duplicating 95 41\n",
      "Duplicated with ids : 41 and 111\n",
      "Duplicating 123 44\n",
      "Duplicated with ids : 44 and 112\n",
      "Removing 173 50\n",
      "Duplicating 74 55\n",
      "Duplicated with ids : 55 and 113\n",
      "Duplicating 78 57\n",
      "Duplicated with ids : 57 and 114\n",
      "Duplicating 106 71\n",
      "Duplicated with ids : 71 and 115\n",
      "Duplicating 134 85\n",
      "Duplicated with ids : 85 and 116\n",
      "Removing 162 99\n",
      "Removing 166 101\n",
      "Removing 170 103\n",
      "Counter at 130 1628152621.6163015\n",
      "Removing 172 104\n",
      "Ticking abs : 53.0, step : 0.5\n",
      "Duplicating 79 3\n",
      "Duplicated with ids : 3 and 117\n",
      "Duplicating 101 4\n",
      "Duplicated with ids : 4 and 118\n",
      "Duplicating 81 6\n",
      "Duplicated with ids : 6 and 119\n",
      "Duplicating 105 7\n",
      "Duplicated with ids : 7 and 120\n",
      "Duplicating 107 10\n",
      "Duplicated with ids : 10 and 121\n",
      "Duplicating 135 14\n",
      "Duplicated with ids : 14 and 122\n",
      "Duplicating 69 25\n",
      "Duplicated with ids : 25 and 123\n",
      "Duplicating 117 26\n",
      "Duplicated with ids : 26 and 124\n",
      "Duplicating 121 35\n",
      "Counter at 140 1628152622.4626436\n",
      "Duplicated with ids : 35 and 125\n",
      "Duplicating 62 49\n",
      "Duplicated with ids : 49 and 126\n",
      "Duplicating 125 51\n",
      "Duplicated with ids : 51 and 127\n",
      "Duplicating 127 52\n",
      "Duplicated with ids : 52 and 128\n",
      "Removing 191 55\n",
      "Duplicating 76 56\n",
      "Duplicated with ids : 56 and 129\n",
      "Duplicating 88 62\n",
      "Duplicated with ids : 62 and 130\n",
      "Duplicating 98 67\n",
      "Duplicated with ids : 67 and 131\n",
      "Duplicating 100 68\n",
      "Duplicated with ids : 68 and 132\n",
      "Duplicating 104 70\n",
      "Duplicated with ids : 70 and 133\n",
      "Duplicating 108 72\n",
      "Counter at 150 1628152623.5248222\n",
      "Duplicated with ids : 72 and 134\n",
      "Duplicating 116 76\n",
      "Duplicated with ids : 76 and 135\n",
      "Duplicating 120 78\n",
      "Duplicated with ids : 78 and 136\n",
      "Duplicating 122 79\n",
      "Duplicated with ids : 79 and 137\n",
      "Duplicating 128 82\n",
      "Duplicated with ids : 82 and 138\n",
      "Duplicating 130 83\n",
      "Duplicated with ids : 83 and 139\n",
      "Removing 197 85\n",
      "Duplicating 136 86\n",
      "Duplicated with ids : 86 and 140\n",
      "Duplicating 146 91\n",
      "Duplicated with ids : 91 and 141\n",
      "Duplicating 178 107\n",
      "Duplicated with ids : 107 and 142\n",
      "Removing 190 113\n",
      "Counter at 160 1628152624.541401\n",
      "Removing 194 115\n",
      "Removing 196 116\n",
      "Ticking abs : 53.5, step : 0.5\n",
      "Removing 203 6\n",
      "Removing 209 14\n",
      "Duplicating 145 36\n",
      "Duplicated with ids : 36 and 143\n",
      "Duplicating 171 48\n",
      "Duplicated with ids : 48 and 144\n",
      "Removing 217 49\n",
      "Removing 219 51\n",
      "Removing 221 52\n",
      "Duplicating 155 61\n",
      "Counter at 170 1628152625.780723\n",
      "Duplicated with ids : 61 and 145\n",
      "Duplicating 129 64\n",
      "Duplicated with ids : 64 and 146\n",
      "Removing 229 68\n",
      "Removing 231 70\n",
      "Duplicating 118 77\n",
      "Duplicated with ids : 77 and 147\n",
      "Duplicating 150 93\n",
      "Duplicated with ids : 93 and 148\n",
      "Duplicating 179 95\n",
      "Duplicated with ids : 95 and 149\n",
      "Duplicating 156 96\n",
      "Duplicated with ids : 96 and 150\n",
      "Duplicating 160 98\n",
      "Duplicated with ids : 98 and 151\n",
      "Duplicating 168 102\n",
      "Duplicated with ids : 102 and 152\n",
      "Removing 249 107\n",
      "Counter at 180 1628152627.1116185\n",
      "Removing 202 119\n",
      "Removing 208 122\n",
      "Removing 210 123\n",
      "Removing 212 124\n",
      "Removing 216 126\n",
      "Removing 218 127\n",
      "Removing 220 128\n",
      "Removing 228 132\n",
      "Removing 230 133\n",
      "Removing 232 134\n",
      "Counter at 190 1628152628.1457288\n",
      "Removing 238 137\n",
      "Removing 240 138\n",
      "Removing 248 142\n",
      "Ticking abs : 54.0, step : 0.5\n",
      "Duplicating 131 8\n",
      "Duplicated with ids : 8 and 153\n",
      "Duplicating 183 18\n",
      "Duplicated with ids : 18 and 154\n",
      "Duplicating 139 27\n",
      "Duplicated with ids : 27 and 155\n",
      "Duplicating 185 28\n",
      "Duplicated with ids : 28 and 156\n"
     ]
    },
    {
     "name": "stdout",
     "output_type": "stream",
     "text": [
      "Removing 251 36\n",
      "Duplicating 189 44\n",
      "Duplicated with ids : 44 and 157\n",
      "Duplicating 151 54\n",
      "Counter at 200 1628152629.2333646\n",
      "Duplicated with ids : 54 and 158\n",
      "Duplicating 177 65\n",
      "Duplicated with ids : 65 and 159\n",
      "Duplicating 195 71\n",
      "Duplicated with ids : 71 and 160\n",
      "Duplicating 241 82\n",
      "Duplicated with ids : 82 and 161\n"
     ]
    },
    {
     "ename": "KeyboardInterrupt",
     "evalue": "",
     "output_type": "error",
     "traceback": [
      "\u001b[0;31m---------------------------------------------------------------------------\u001b[0m",
      "\u001b[0;31mKeyboardInterrupt\u001b[0m                         Traceback (most recent call last)",
      "\u001b[0;32m<ipython-input-8-b71670140c65>\u001b[0m in \u001b[0;36m<module>\u001b[0;34m\u001b[0m\n\u001b[1;32m      1\u001b[0m \u001b[0mbb\u001b[0m \u001b[0;34m=\u001b[0m \u001b[0mgo\u001b[0m\u001b[0;34m(\u001b[0m\u001b[0;36m0\u001b[0m\u001b[0;34m)\u001b[0m\u001b[0;34m\u001b[0m\u001b[0;34m\u001b[0m\u001b[0m\n\u001b[0;32m----> 2\u001b[0;31m \u001b[0mbb\u001b[0m\u001b[0;34m.\u001b[0m\u001b[0mrun\u001b[0m\u001b[0;34m(\u001b[0m\u001b[0;34m)\u001b[0m\u001b[0;34m\u001b[0m\u001b[0;34m\u001b[0m\u001b[0m\n\u001b[0m",
      "\u001b[0;32m~/Bureau/ENS/Thèse/dev/EmbryonicCortexModelling/model.py\u001b[0m in \u001b[0;36mrun\u001b[0;34m(self)\u001b[0m\n\u001b[1;32m    141\u001b[0m     \u001b[0;32mdef\u001b[0m \u001b[0mrun\u001b[0m\u001b[0;34m(\u001b[0m\u001b[0mself\u001b[0m\u001b[0;34m)\u001b[0m\u001b[0;34m:\u001b[0m\u001b[0;34m\u001b[0m\u001b[0;34m\u001b[0m\u001b[0m\n\u001b[1;32m    142\u001b[0m         \u001b[0;32mfor\u001b[0m \u001b[0mT\u001b[0m \u001b[0;32min\u001b[0m \u001b[0mnp\u001b[0m\u001b[0;34m.\u001b[0m\u001b[0marange\u001b[0m\u001b[0;34m(\u001b[0m\u001b[0mself\u001b[0m\u001b[0;34m.\u001b[0m\u001b[0mstart_time\u001b[0m\u001b[0;34m,\u001b[0m \u001b[0mself\u001b[0m\u001b[0;34m.\u001b[0m\u001b[0mend_time\u001b[0m\u001b[0;34m,\u001b[0m \u001b[0mself\u001b[0m\u001b[0;34m.\u001b[0m\u001b[0mtime_step\u001b[0m\u001b[0;34m)\u001b[0m\u001b[0;34m:\u001b[0m\u001b[0;34m\u001b[0m\u001b[0;34m\u001b[0m\u001b[0m\n\u001b[0;32m--> 143\u001b[0;31m             \u001b[0;32mif\u001b[0m \u001b[0;32mnot\u001b[0m \u001b[0mself\u001b[0m\u001b[0;34m.\u001b[0m\u001b[0m_tick\u001b[0m\u001b[0;34m(\u001b[0m\u001b[0mT\u001b[0m\u001b[0;34m,\u001b[0m \u001b[0mself\u001b[0m\u001b[0;34m.\u001b[0m\u001b[0mtime_step\u001b[0m\u001b[0;34m)\u001b[0m\u001b[0;34m:\u001b[0m\u001b[0;34m\u001b[0m\u001b[0;34m\u001b[0m\u001b[0m\n\u001b[0m\u001b[1;32m    144\u001b[0m                 \u001b[0mprint\u001b[0m\u001b[0;34m(\u001b[0m\u001b[0;34m\"Not enough cells anymore\"\u001b[0m\u001b[0;34m)\u001b[0m\u001b[0;34m\u001b[0m\u001b[0;34m\u001b[0m\u001b[0m\n\u001b[1;32m    145\u001b[0m                 \u001b[0;32mreturn\u001b[0m\u001b[0;34m\u001b[0m\u001b[0;34m\u001b[0m\u001b[0m\n",
      "\u001b[0;32m~/Bureau/ENS/Thèse/dev/EmbryonicCortexModelling/model.py\u001b[0m in \u001b[0;36m_tick\u001b[0;34m(self, absolute_time, relative_time)\u001b[0m\n\u001b[1;32m    166\u001b[0m             \u001b[0mneighbours\u001b[0m \u001b[0;34m=\u001b[0m \u001b[0mself\u001b[0m\u001b[0;34m.\u001b[0m\u001b[0mget_neighbours\u001b[0m\u001b[0;34m(\u001b[0m\u001b[0mC\u001b[0m\u001b[0;34m)\u001b[0m\u001b[0;34m\u001b[0m\u001b[0;34m\u001b[0m\u001b[0m\n\u001b[1;32m    167\u001b[0m             \u001b[0maction\u001b[0m \u001b[0;34m=\u001b[0m \u001b[0mC\u001b[0m\u001b[0;34m.\u001b[0m\u001b[0mtick\u001b[0m\u001b[0;34m(\u001b[0m\u001b[0mabsolute_time\u001b[0m\u001b[0;34m,\u001b[0m \u001b[0mrelative_time\u001b[0m\u001b[0;34m,\u001b[0m \u001b[0mneighbours\u001b[0m\u001b[0;34m)\u001b[0m\u001b[0;34m\u001b[0m\u001b[0;34m\u001b[0m\u001b[0m\n\u001b[0;32m--> 168\u001b[0;31m             \u001b[0mself\u001b[0m\u001b[0;34m.\u001b[0m\u001b[0mrun_action\u001b[0m\u001b[0;34m(\u001b[0m\u001b[0maction\u001b[0m\u001b[0;34m,\u001b[0m \u001b[0mC\u001b[0m\u001b[0;34m,\u001b[0m \u001b[0mabsolute_time\u001b[0m\u001b[0;34m)\u001b[0m\u001b[0;34m\u001b[0m\u001b[0;34m\u001b[0m\u001b[0m\n\u001b[0m\u001b[1;32m    169\u001b[0m \u001b[0;34m\u001b[0m\u001b[0m\n\u001b[1;32m    170\u001b[0m         \u001b[0;31m# monitor\u001b[0m\u001b[0;34m\u001b[0m\u001b[0;34m\u001b[0m\u001b[0;34m\u001b[0m\u001b[0m\n",
      "\u001b[0;32m~/Bureau/ENS/Thèse/dev/EmbryonicCortexModelling/model.py\u001b[0m in \u001b[0;36mrun_action\u001b[0;34m(self, action, cell, T)\u001b[0m\n\u001b[1;32m    188\u001b[0m \u001b[0;34m\u001b[0m\u001b[0m\n\u001b[1;32m    189\u001b[0m     \u001b[0;32mdef\u001b[0m \u001b[0mrun_action\u001b[0m\u001b[0;34m(\u001b[0m\u001b[0mself\u001b[0m\u001b[0;34m,\u001b[0m \u001b[0maction\u001b[0m\u001b[0;34m,\u001b[0m \u001b[0mcell\u001b[0m\u001b[0;34m,\u001b[0m \u001b[0mT\u001b[0m\u001b[0;34m)\u001b[0m\u001b[0;34m:\u001b[0m\u001b[0;34m\u001b[0m\u001b[0;34m\u001b[0m\u001b[0m\n\u001b[0;32m--> 190\u001b[0;31m         \u001b[0mself\u001b[0m\u001b[0;34m.\u001b[0m\u001b[0mmapping\u001b[0m\u001b[0;34m[\u001b[0m\u001b[0maction\u001b[0m\u001b[0;34m]\u001b[0m\u001b[0;34m(\u001b[0m\u001b[0mcell\u001b[0m\u001b[0;34m,\u001b[0m \u001b[0mT\u001b[0m\u001b[0;34m)\u001b[0m\u001b[0;34m\u001b[0m\u001b[0;34m\u001b[0m\u001b[0m\n\u001b[0m\u001b[1;32m    191\u001b[0m \u001b[0;34m\u001b[0m\u001b[0m\n\u001b[1;32m    192\u001b[0m     \u001b[0;32mdef\u001b[0m \u001b[0mdivide\u001b[0m\u001b[0;34m(\u001b[0m\u001b[0mself\u001b[0m\u001b[0;34m,\u001b[0m \u001b[0mcell\u001b[0m\u001b[0;34m,\u001b[0m \u001b[0mT\u001b[0m\u001b[0;34m)\u001b[0m\u001b[0;34m:\u001b[0m\u001b[0;34m\u001b[0m\u001b[0;34m\u001b[0m\u001b[0m\n",
      "\u001b[0;32m~/Bureau/ENS/Thèse/dev/EmbryonicCortexModelling/modelrgpn.py\u001b[0m in \u001b[0;36mdivide\u001b[0;34m(self, cell, T)\u001b[0m\n\u001b[1;32m     67\u001b[0m \u001b[0;34m\u001b[0m\u001b[0m\n\u001b[1;32m     68\u001b[0m         \u001b[0;32mfor\u001b[0m \u001b[0mi\u001b[0m \u001b[0;32min\u001b[0m \u001b[0mrange\u001b[0m\u001b[0;34m(\u001b[0m\u001b[0;36m2\u001b[0m\u001b[0;34m)\u001b[0m\u001b[0;34m:\u001b[0m\u001b[0;34m\u001b[0m\u001b[0;34m\u001b[0m\u001b[0m\n\u001b[0;32m---> 69\u001b[0;31m             \u001b[0mself\u001b[0m\u001b[0;34m.\u001b[0m\u001b[0mgpn\u001b[0m\u001b[0;34m.\u001b[0m\u001b[0mrelax\u001b[0m\u001b[0;34m(\u001b[0m\u001b[0;34m)\u001b[0m\u001b[0;34m\u001b[0m\u001b[0;34m\u001b[0m\u001b[0m\n\u001b[0m\u001b[1;32m     70\u001b[0m \u001b[0;34m\u001b[0m\u001b[0m\n\u001b[1;32m     71\u001b[0m         \u001b[0;32mif\u001b[0m \u001b[0mself\u001b[0m\u001b[0;34m.\u001b[0m\u001b[0mgpn\u001b[0m\u001b[0;34m.\u001b[0m\u001b[0mget_main_metric\u001b[0m\u001b[0;34m(\u001b[0m\u001b[0;34m)\u001b[0m \u001b[0;34m>\u001b[0m \u001b[0;36m1e5\u001b[0m\u001b[0;34m:\u001b[0m\u001b[0;34m\u001b[0m\u001b[0;34m\u001b[0m\u001b[0m\n",
      "\u001b[0;32m~/Bureau/ENS/Thèse/dev/EmbryonicCortexModelling/relaxablegpn2.py\u001b[0m in \u001b[0;36mrelax\u001b[0;34m(self)\u001b[0m\n\u001b[1;32m    492\u001b[0m             \u001b[0mself\u001b[0m\u001b[0;34m.\u001b[0m\u001b[0mtry_action\u001b[0m\u001b[0;34m(\u001b[0m\u001b[0maction\u001b[0m\u001b[0;34m)\u001b[0m\u001b[0;34m\u001b[0m\u001b[0;34m\u001b[0m\u001b[0m\n\u001b[1;32m    493\u001b[0m \u001b[0;34m\u001b[0m\u001b[0m\n\u001b[0;32m--> 494\u001b[0;31m         \u001b[0mself\u001b[0m\u001b[0;34m.\u001b[0m\u001b[0mkeep_best_trial\u001b[0m\u001b[0;34m(\u001b[0m\u001b[0;34m)\u001b[0m\u001b[0;34m\u001b[0m\u001b[0;34m\u001b[0m\u001b[0m\n\u001b[0m\u001b[1;32m    495\u001b[0m \u001b[0;34m\u001b[0m\u001b[0m\n\u001b[1;32m    496\u001b[0m     \u001b[0;32mdef\u001b[0m \u001b[0menumerate_actions\u001b[0m\u001b[0;34m(\u001b[0m\u001b[0mself\u001b[0m\u001b[0;34m,\u001b[0m \u001b[0mpt\u001b[0m\u001b[0;34m)\u001b[0m\u001b[0;34m:\u001b[0m\u001b[0;34m\u001b[0m\u001b[0;34m\u001b[0m\u001b[0m\n",
      "\u001b[0;32m~/Bureau/ENS/Thèse/dev/EmbryonicCortexModelling/relaxablegpn2.py\u001b[0m in \u001b[0;36mkeep_best_trial\u001b[0;34m(self)\u001b[0m\n\u001b[1;32m    619\u001b[0m     \u001b[0;32mdef\u001b[0m \u001b[0mkeep_best_trial\u001b[0m\u001b[0;34m(\u001b[0m\u001b[0mself\u001b[0m\u001b[0;34m)\u001b[0m\u001b[0;34m:\u001b[0m\u001b[0;34m\u001b[0m\u001b[0;34m\u001b[0m\u001b[0m\n\u001b[1;32m    620\u001b[0m         \u001b[0;31m# a bit ugly but should work\u001b[0m\u001b[0;34m\u001b[0m\u001b[0;34m\u001b[0m\u001b[0;34m\u001b[0m\u001b[0m\n\u001b[0;32m--> 621\u001b[0;31m         \u001b[0mbest\u001b[0m \u001b[0;34m=\u001b[0m \u001b[0mmin\u001b[0m\u001b[0;34m(\u001b[0m\u001b[0mself\u001b[0m\u001b[0;34m.\u001b[0m\u001b[0mtrials\u001b[0m \u001b[0;34m+\u001b[0m \u001b[0;34m[\u001b[0m\u001b[0mself\u001b[0m\u001b[0;34m]\u001b[0m\u001b[0;34m,\u001b[0m \u001b[0mkey\u001b[0m\u001b[0;34m=\u001b[0m\u001b[0;32mlambda\u001b[0m \u001b[0mx\u001b[0m\u001b[0;34m:\u001b[0m \u001b[0mx\u001b[0m\u001b[0;34m.\u001b[0m\u001b[0mget_main_metric\u001b[0m\u001b[0;34m(\u001b[0m\u001b[0mupdate\u001b[0m\u001b[0;34m=\u001b[0m\u001b[0;32mTrue\u001b[0m\u001b[0;34m)\u001b[0m\u001b[0;34m)\u001b[0m\u001b[0;34m\u001b[0m\u001b[0;34m\u001b[0m\u001b[0m\n\u001b[0m\u001b[1;32m    622\u001b[0m         \u001b[0mself\u001b[0m\u001b[0;34m.\u001b[0m\u001b[0mtrials\u001b[0m\u001b[0;34m.\u001b[0m\u001b[0mclear\u001b[0m\u001b[0;34m(\u001b[0m\u001b[0;34m)\u001b[0m\u001b[0;34m\u001b[0m\u001b[0;34m\u001b[0m\u001b[0m\n\u001b[1;32m    623\u001b[0m         \u001b[0;31m# print(f\"Action ran : {best.last_action}\")\u001b[0m\u001b[0;34m\u001b[0m\u001b[0;34m\u001b[0m\u001b[0;34m\u001b[0m\u001b[0m\n",
      "\u001b[0;32m~/Bureau/ENS/Thèse/dev/EmbryonicCortexModelling/relaxablegpn2.py\u001b[0m in \u001b[0;36m<lambda>\u001b[0;34m(x)\u001b[0m\n\u001b[1;32m    619\u001b[0m     \u001b[0;32mdef\u001b[0m \u001b[0mkeep_best_trial\u001b[0m\u001b[0;34m(\u001b[0m\u001b[0mself\u001b[0m\u001b[0;34m)\u001b[0m\u001b[0;34m:\u001b[0m\u001b[0;34m\u001b[0m\u001b[0;34m\u001b[0m\u001b[0m\n\u001b[1;32m    620\u001b[0m         \u001b[0;31m# a bit ugly but should work\u001b[0m\u001b[0;34m\u001b[0m\u001b[0;34m\u001b[0m\u001b[0;34m\u001b[0m\u001b[0m\n\u001b[0;32m--> 621\u001b[0;31m         \u001b[0mbest\u001b[0m \u001b[0;34m=\u001b[0m \u001b[0mmin\u001b[0m\u001b[0;34m(\u001b[0m\u001b[0mself\u001b[0m\u001b[0;34m.\u001b[0m\u001b[0mtrials\u001b[0m \u001b[0;34m+\u001b[0m \u001b[0;34m[\u001b[0m\u001b[0mself\u001b[0m\u001b[0;34m]\u001b[0m\u001b[0;34m,\u001b[0m \u001b[0mkey\u001b[0m\u001b[0;34m=\u001b[0m\u001b[0;32mlambda\u001b[0m \u001b[0mx\u001b[0m\u001b[0;34m:\u001b[0m \u001b[0mx\u001b[0m\u001b[0;34m.\u001b[0m\u001b[0mget_main_metric\u001b[0m\u001b[0;34m(\u001b[0m\u001b[0mupdate\u001b[0m\u001b[0;34m=\u001b[0m\u001b[0;32mTrue\u001b[0m\u001b[0;34m)\u001b[0m\u001b[0;34m)\u001b[0m\u001b[0;34m\u001b[0m\u001b[0;34m\u001b[0m\u001b[0m\n\u001b[0m\u001b[1;32m    622\u001b[0m         \u001b[0mself\u001b[0m\u001b[0;34m.\u001b[0m\u001b[0mtrials\u001b[0m\u001b[0;34m.\u001b[0m\u001b[0mclear\u001b[0m\u001b[0;34m(\u001b[0m\u001b[0;34m)\u001b[0m\u001b[0;34m\u001b[0m\u001b[0;34m\u001b[0m\u001b[0m\n\u001b[1;32m    623\u001b[0m         \u001b[0;31m# print(f\"Action ran : {best.last_action}\")\u001b[0m\u001b[0;34m\u001b[0m\u001b[0;34m\u001b[0m\u001b[0;34m\u001b[0m\u001b[0m\n",
      "\u001b[0;32m~/Bureau/ENS/Thèse/dev/EmbryonicCortexModelling/relaxablegpn2.py\u001b[0m in \u001b[0;36mget_main_metric\u001b[0;34m(self, update)\u001b[0m\n\u001b[1;32m    653\u001b[0m     \u001b[0;32mdef\u001b[0m \u001b[0mget_main_metric\u001b[0m\u001b[0;34m(\u001b[0m\u001b[0mself\u001b[0m\u001b[0;34m,\u001b[0m \u001b[0mupdate\u001b[0m\u001b[0;34m=\u001b[0m\u001b[0;32mFalse\u001b[0m\u001b[0;34m)\u001b[0m\u001b[0;34m:\u001b[0m\u001b[0;34m\u001b[0m\u001b[0;34m\u001b[0m\u001b[0m\n\u001b[1;32m    654\u001b[0m         \u001b[0;32mif\u001b[0m \u001b[0mupdate\u001b[0m\u001b[0;34m:\u001b[0m\u001b[0;34m\u001b[0m\u001b[0;34m\u001b[0m\u001b[0m\n\u001b[0;32m--> 655\u001b[0;31m             \u001b[0mself\u001b[0m\u001b[0;34m.\u001b[0m\u001b[0mquick_update_all_dist\u001b[0m\u001b[0;34m(\u001b[0m\u001b[0;34m)\u001b[0m\u001b[0;34m\u001b[0m\u001b[0;34m\u001b[0m\u001b[0m\n\u001b[0m\u001b[1;32m    656\u001b[0m         \u001b[0mlA\u001b[0m\u001b[0;34m,\u001b[0m \u001b[0mlB\u001b[0m\u001b[0;34m,\u001b[0m \u001b[0mlC\u001b[0m \u001b[0;34m=\u001b[0m \u001b[0mself\u001b[0m\u001b[0;34m.\u001b[0m\u001b[0mget_all_dists\u001b[0m\u001b[0;34m(\u001b[0m\u001b[0;34m)\u001b[0m\u001b[0;34m\u001b[0m\u001b[0;34m\u001b[0m\u001b[0m\n\u001b[1;32m    657\u001b[0m         \u001b[0;31m# xA, xB, xC = np.std(lA) / np.mean(lA), np.std(lB) / np.mean(lB), np.std(lC) / np.mean(lC)\u001b[0m\u001b[0;34m\u001b[0m\u001b[0;34m\u001b[0m\u001b[0;34m\u001b[0m\u001b[0m\n",
      "\u001b[0;32m~/Bureau/ENS/Thèse/dev/EmbryonicCortexModelling/relaxablegpn2.py\u001b[0m in \u001b[0;36mquick_update_all_dist\u001b[0;34m(self)\u001b[0m\n\u001b[1;32m    212\u001b[0m     \u001b[0;32mdef\u001b[0m \u001b[0mquick_update_all_dist\u001b[0m\u001b[0;34m(\u001b[0m\u001b[0mself\u001b[0m\u001b[0;34m)\u001b[0m\u001b[0;34m:\u001b[0m\u001b[0;34m\u001b[0m\u001b[0;34m\u001b[0m\u001b[0m\n\u001b[1;32m    213\u001b[0m         \u001b[0;32mfor\u001b[0m \u001b[0mdirection\u001b[0m \u001b[0;32min\u001b[0m \u001b[0;34m\"NESW\"\u001b[0m\u001b[0;34m:\u001b[0m\u001b[0;34m\u001b[0m\u001b[0;34m\u001b[0m\u001b[0m\n\u001b[0;32m--> 214\u001b[0;31m             \u001b[0mself\u001b[0m\u001b[0;34m.\u001b[0m\u001b[0mupdate_dist\u001b[0m\u001b[0;34m(\u001b[0m\u001b[0mdirection\u001b[0m\u001b[0;34m=\u001b[0m\u001b[0mdirection\u001b[0m\u001b[0;34m)\u001b[0m\u001b[0;34m\u001b[0m\u001b[0;34m\u001b[0m\u001b[0m\n\u001b[0m\u001b[1;32m    215\u001b[0m         \u001b[0mself\u001b[0m\u001b[0;34m.\u001b[0m\u001b[0mreset_cache_changed\u001b[0m\u001b[0;34m(\u001b[0m\u001b[0;34m)\u001b[0m\u001b[0;34m\u001b[0m\u001b[0;34m\u001b[0m\u001b[0m\n\u001b[1;32m    216\u001b[0m \u001b[0;34m\u001b[0m\u001b[0m\n",
      "\u001b[0;32m~/Bureau/ENS/Thèse/dev/EmbryonicCortexModelling/relaxablegpn2.py\u001b[0m in \u001b[0;36mupdate_dist\u001b[0;34m(self, direction)\u001b[0m\n\u001b[1;32m    256\u001b[0m             \u001b[0mvalue\u001b[0m \u001b[0;34m=\u001b[0m \u001b[0mnode\u001b[0m\u001b[0;34m[\u001b[0m\u001b[0mkey\u001b[0m\u001b[0;34m]\u001b[0m \u001b[0;34m+\u001b[0m \u001b[0;36m1\u001b[0m\u001b[0;34m\u001b[0m\u001b[0;34m\u001b[0m\u001b[0m\n\u001b[1;32m    257\u001b[0m             \u001b[0;32mfor\u001b[0m \u001b[0mngb\u001b[0m \u001b[0;32min\u001b[0m \u001b[0mnode\u001b[0m\u001b[0;34m[\u001b[0m\u001b[0;34m\"ngb\"\u001b[0m\u001b[0;34m]\u001b[0m\u001b[0;34m:\u001b[0m\u001b[0;34m\u001b[0m\u001b[0;34m\u001b[0m\u001b[0m\n\u001b[0;32m--> 258\u001b[0;31m                 \u001b[0;32mif\u001b[0m \u001b[0mvalue\u001b[0m \u001b[0;34m<\u001b[0m \u001b[0mself\u001b[0m\u001b[0;34m.\u001b[0m\u001b[0mG\u001b[0m\u001b[0;34m.\u001b[0m\u001b[0mnodes\u001b[0m\u001b[0;34m[\u001b[0m\u001b[0mngb\u001b[0m\u001b[0;34m]\u001b[0m\u001b[0;34m[\u001b[0m\u001b[0mkey\u001b[0m\u001b[0;34m]\u001b[0m\u001b[0;34m:\u001b[0m\u001b[0;34m\u001b[0m\u001b[0;34m\u001b[0m\u001b[0m\n\u001b[0m\u001b[1;32m    259\u001b[0m                     \u001b[0mself\u001b[0m\u001b[0;34m.\u001b[0m\u001b[0mG\u001b[0m\u001b[0;34m.\u001b[0m\u001b[0mnodes\u001b[0m\u001b[0;34m[\u001b[0m\u001b[0mngb\u001b[0m\u001b[0;34m]\u001b[0m\u001b[0;34m[\u001b[0m\u001b[0mkey\u001b[0m\u001b[0;34m]\u001b[0m \u001b[0;34m=\u001b[0m \u001b[0mvalue\u001b[0m\u001b[0;34m\u001b[0m\u001b[0;34m\u001b[0m\u001b[0m\n\u001b[1;32m    260\u001b[0m                     \u001b[0mheappush\u001b[0m\u001b[0;34m(\u001b[0m\u001b[0mqueue\u001b[0m\u001b[0;34m,\u001b[0m \u001b[0;34m(\u001b[0m\u001b[0mvalue\u001b[0m\u001b[0;34m,\u001b[0m \u001b[0mngb\u001b[0m\u001b[0;34m)\u001b[0m\u001b[0;34m)\u001b[0m\u001b[0;34m\u001b[0m\u001b[0;34m\u001b[0m\u001b[0m\n",
      "\u001b[0;32m/usr/local/lib/python3.6/dist-packages/networkx/classes/graph.py\u001b[0m in \u001b[0;36mnodes\u001b[0;34m(self)\u001b[0m\n\u001b[1;32m    745\u001b[0m \u001b[0;34m\u001b[0m\u001b[0m\n\u001b[1;32m    746\u001b[0m         \"\"\"\n\u001b[0;32m--> 747\u001b[0;31m         \u001b[0mnodes\u001b[0m \u001b[0;34m=\u001b[0m \u001b[0mNodeView\u001b[0m\u001b[0;34m(\u001b[0m\u001b[0mself\u001b[0m\u001b[0;34m)\u001b[0m\u001b[0;34m\u001b[0m\u001b[0;34m\u001b[0m\u001b[0m\n\u001b[0m\u001b[1;32m    748\u001b[0m         \u001b[0;31m# Lazy View creation: overload the (class) property on the instance\u001b[0m\u001b[0;34m\u001b[0m\u001b[0;34m\u001b[0m\u001b[0;34m\u001b[0m\u001b[0m\n\u001b[1;32m    749\u001b[0m         \u001b[0;31m# Then future G.nodes use the existing View\u001b[0m\u001b[0;34m\u001b[0m\u001b[0;34m\u001b[0m\u001b[0;34m\u001b[0m\u001b[0m\n",
      "\u001b[0;32m/usr/local/lib/python3.6/dist-packages/networkx/classes/reportviews.py\u001b[0m in \u001b[0;36m__init__\u001b[0;34m(self, graph)\u001b[0m\n\u001b[1;32m    174\u001b[0m         \u001b[0mself\u001b[0m\u001b[0;34m.\u001b[0m\u001b[0m_nodes\u001b[0m \u001b[0;34m=\u001b[0m \u001b[0mstate\u001b[0m\u001b[0;34m[\u001b[0m\u001b[0;34m\"_nodes\"\u001b[0m\u001b[0;34m]\u001b[0m\u001b[0;34m\u001b[0m\u001b[0;34m\u001b[0m\u001b[0m\n\u001b[1;32m    175\u001b[0m \u001b[0;34m\u001b[0m\u001b[0m\n\u001b[0;32m--> 176\u001b[0;31m     \u001b[0;32mdef\u001b[0m \u001b[0m__init__\u001b[0m\u001b[0;34m(\u001b[0m\u001b[0mself\u001b[0m\u001b[0;34m,\u001b[0m \u001b[0mgraph\u001b[0m\u001b[0;34m)\u001b[0m\u001b[0;34m:\u001b[0m\u001b[0;34m\u001b[0m\u001b[0;34m\u001b[0m\u001b[0m\n\u001b[0m\u001b[1;32m    177\u001b[0m         \u001b[0mself\u001b[0m\u001b[0;34m.\u001b[0m\u001b[0m_nodes\u001b[0m \u001b[0;34m=\u001b[0m \u001b[0mgraph\u001b[0m\u001b[0;34m.\u001b[0m\u001b[0m_node\u001b[0m\u001b[0;34m\u001b[0m\u001b[0;34m\u001b[0m\u001b[0m\n\u001b[1;32m    178\u001b[0m \u001b[0;34m\u001b[0m\u001b[0m\n",
      "\u001b[0;31mKeyboardInterrupt\u001b[0m: "
     ]
    }
   ],
   "source": [
    "bb = go(0)\n",
    "bb.run()"
   ]
  },
  {
   "cell_type": "code",
   "execution_count": null,
   "metadata": {},
   "outputs": [],
   "source": [
    "raise"
   ]
  },
  {
   "cell_type": "code",
   "execution_count": null,
   "metadata": {},
   "outputs": [],
   "source": [
    "bb.gpn.check_not_double_border()"
   ]
  },
  {
   "cell_type": "code",
   "execution_count": null,
   "metadata": {},
   "outputs": [],
   "source": [
    "for x in [1846] + list(bb.gpn.ngb(1846)):\n",
    "    print(x)\n",
    "    bb.gpn.summary(x)"
   ]
  },
  {
   "cell_type": "code",
   "execution_count": null,
   "metadata": {},
   "outputs": [],
   "source": [
    "bb.gpn.summary(1831)"
   ]
  },
  {
   "cell_type": "code",
   "execution_count": null,
   "metadata": {},
   "outputs": [],
   "source": [
    "# faulty node is 1846, now 615"
   ]
  },
  {
   "cell_type": "code",
   "execution_count": null,
   "metadata": {},
   "outputs": [],
   "source": [
    "bb.gpn.summary(1039)"
   ]
  },
  {
   "cell_type": "code",
   "execution_count": null,
   "metadata": {},
   "outputs": [],
   "source": [
    "bb.gpn.summary(1914)"
   ]
  },
  {
   "cell_type": "code",
   "execution_count": null,
   "metadata": {},
   "outputs": [],
   "source": [
    "for n in bb.gpn.G:\n",
    "    if len(bb.gpn.G.nodes[n][\"ngb\"]) <= 2:\n",
    "        print(n, bb.gpn.is_border_node(n))"
   ]
  },
  {
   "cell_type": "code",
   "execution_count": null,
   "metadata": {},
   "outputs": [],
   "source": [
    "for n in bb.gpn.ngb(1914):\n",
    "    print(n, bb.gpn.is_border_node(n))"
   ]
  },
  {
   "cell_type": "code",
   "execution_count": null,
   "metadata": {},
   "outputs": [],
   "source": [
    "bb.gpn.get_cycle_pairs(1914)"
   ]
  },
  {
   "cell_type": "code",
   "execution_count": null,
   "metadata": {},
   "outputs": [],
   "source": [
    "bb.gpn.dual((7302, -1, 1)), bb.gpn.dual((7302, -1, 0))"
   ]
  },
  {
   "cell_type": "code",
   "execution_count": null,
   "metadata": {},
   "outputs": [],
   "source": [
    "bb.gpn.ngb(1844), bb.gpn.ngb(1896)"
   ]
  },
  {
   "cell_type": "code",
   "execution_count": null,
   "metadata": {},
   "outputs": [],
   "source": [
    "bb.gpn.is_border_node(1708)"
   ]
  },
  {
   "cell_type": "code",
   "execution_count": null,
   "metadata": {},
   "outputs": [],
   "source": [
    "bb.gpn.show_all()"
   ]
  },
  {
   "cell_type": "code",
   "execution_count": null,
   "metadata": {},
   "outputs": [],
   "source": [
    "len(bb.gpn.G)"
   ]
  },
  {
   "cell_type": "code",
   "execution_count": null,
   "metadata": {},
   "outputs": [],
   "source": [
    "raise"
   ]
  },
  {
   "cell_type": "code",
   "execution_count": null,
   "metadata": {},
   "outputs": [],
   "source": [
    "bb.gpn.update_all_dist()"
   ]
  },
  {
   "cell_type": "code",
   "execution_count": null,
   "metadata": {},
   "outputs": [],
   "source": [
    "for n in bb.gpn.G.nodes:\n",
    "    node = bb.gpn.G.nodes[n]\n",
    "    if node[\"dist_E\"] + node[\"dist_W\"] == 0:\n",
    "        print(n)"
   ]
  },
  {
   "cell_type": "code",
   "execution_count": null,
   "metadata": {},
   "outputs": [],
   "source": [
    "mg = bb.gpn.copy()"
   ]
  },
  {
   "cell_type": "code",
   "execution_count": null,
   "metadata": {},
   "outputs": [],
   "source": [
    "sel = 629"
   ]
  },
  {
   "cell_type": "code",
   "execution_count": null,
   "metadata": {},
   "outputs": [],
   "source": [
    "mg.G.nodes[341]"
   ]
  },
  {
   "cell_type": "code",
   "execution_count": null,
   "metadata": {},
   "outputs": [],
   "source": [
    "mg.ngb(341)"
   ]
  },
  {
   "cell_type": "code",
   "execution_count": null,
   "metadata": {},
   "outputs": [],
   "source": [
    "mg.G.nodes[341][\"side\"] = {'W', 'S'}"
   ]
  },
  {
   "cell_type": "code",
   "execution_count": null,
   "metadata": {},
   "outputs": [],
   "source": [
    "import viz\n",
    "mg.update_all_dist()\n",
    "pos = viz.embedded_viz(mg, finetune=False)\n",
    "fig = mg.show_dist(pos=pos, hl_nodes=[1914, 1896, 1844, 1708])"
   ]
  },
  {
   "cell_type": "code",
   "execution_count": null,
   "metadata": {},
   "outputs": [],
   "source": [
    "from relaxablegpn2 import EnergyPoint\n",
    "def relax(self):\n",
    "    # prepare\n",
    "    self.last_action = None\n",
    "    self.quick_update_all_dist()\n",
    "    mean_NS = self.mean_NS()\n",
    "    mean_EW = self.mean_EW()\n",
    "\n",
    "    nodes = list(self.G.nodes)\n",
    "    random.shuffle(nodes)\n",
    "\n",
    "    # list all pain points\n",
    "    candidates = list()\n",
    "    for n in nodes:\n",
    "        node = self.G.nodes[n]\n",
    "        dist_NS = node[\"dist_N\"] + node[\"dist_S\"]\n",
    "        dist_EW = node[\"dist_E\"] + node[\"dist_W\"]\n",
    "        val_NS = dist_NS / mean_NS\n",
    "        val_EW = dist_EW / mean_EW\n",
    "        if dist_NS < 4:\n",
    "            candidates.append(EnergyPoint(n, \"NS\", self.low_width_penalty(dist_NS)))\n",
    "        elif val_NS >= 1.1 or val_NS <= 0.9:\n",
    "            candidates.append(EnergyPoint(n, \"NS\", val_NS))\n",
    "\n",
    "        if dist_EW < 4:\n",
    "            candidates.append(EnergyPoint(n, \"EW\", self.low_width_penalty(dist_EW)))\n",
    "        elif val_EW >= 1.1 or val_EW <= 0.9:\n",
    "            candidates.append(EnergyPoint(n, \"EW\", val_EW))\n",
    "\n",
    "    # lower is worse, so to be tested\n",
    "\n",
    "    candidates.sort(reverse=False)\n",
    "\n",
    "    # list all possible actions\n",
    "    action_candidates = list()\n",
    "    for pt in candidates[:5]:\n",
    "        for action in self.enumerate_actions(pt):\n",
    "            self.estimate_action(action, mean_NS, mean_EW)\n",
    "            action_candidates.append(action)\n",
    "\n",
    "    # higher score is better to do !!\n",
    "\n",
    "    action_candidates.sort(reverse=True)\n",
    "    return candidates, action_candidates"
   ]
  },
  {
   "cell_type": "code",
   "execution_count": null,
   "metadata": {},
   "outputs": [],
   "source": [
    "cand, act = relax(mg)"
   ]
  },
  {
   "cell_type": "code",
   "execution_count": null,
   "metadata": {},
   "outputs": [],
   "source": [
    "mg.low_width_penalty(2)"
   ]
  },
  {
   "cell_type": "code",
   "execution_count": null,
   "metadata": {},
   "outputs": [],
   "source": [
    "cand[:10]"
   ]
  },
  {
   "cell_type": "code",
   "execution_count": null,
   "metadata": {},
   "outputs": [],
   "source": [
    "mg.G.nodes[805]"
   ]
  },
  {
   "cell_type": "code",
   "execution_count": null,
   "metadata": {},
   "outputs": [],
   "source": [
    "cand[0].to_shorten()"
   ]
  },
  {
   "cell_type": "code",
   "execution_count": null,
   "metadata": {},
   "outputs": [],
   "source": [
    "list(mg.enumerate_actions(cand[1]))"
   ]
  },
  {
   "cell_type": "code",
   "execution_count": null,
   "metadata": {},
   "outputs": [],
   "source": [
    "act"
   ]
  },
  {
   "cell_type": "code",
   "execution_count": null,
   "metadata": {},
   "outputs": [],
   "source": [
    "mg.ngb(2382), mg.ngb(2506)"
   ]
  },
  {
   "cell_type": "code",
   "execution_count": null,
   "metadata": {},
   "outputs": [],
   "source": [
    "def act_from_one_c(self, pt):\n",
    "    action_candidates = []\n",
    "    for action in self.enumerate_actions(pt):\n",
    "        self.estimate_action(action, 5, 5)\n",
    "        action_candidates.append(action)\n",
    "    action_candidates.sort(reverse=True)\n",
    "    return action_candidates"
   ]
  },
  {
   "cell_type": "code",
   "execution_count": null,
   "metadata": {},
   "outputs": [],
   "source": [
    "act_from_one_c(mg, cand[0])"
   ]
  },
  {
   "cell_type": "code",
   "execution_count": null,
   "metadata": {},
   "outputs": [],
   "source": [
    "raise"
   ]
  },
  {
   "cell_type": "code",
   "execution_count": null,
   "metadata": {},
   "outputs": [],
   "source": [
    "name = os.path.join(root, f\"image_{count}.png\")seed = 0\n",
    "while True:\n",
    "    print(\"Doing\", seed)\n",
    "    try:\n",
    "        bb = go(seed)\n",
    "    except:\n",
    "        seed += 1\n",
    "        if seed > 15:\n",
    "            raise\n",
    "    else:\n",
    "        break"
   ]
  },
  {
   "cell_type": "code",
   "execution_count": null,
   "metadata": {},
   "outputs": [],
   "source": [
    "def plot_size(stats, name=None):\n",
    "    ref = stats.whole_pop_size.iloc[0]\n",
    "    plot_number_cells()\n",
    "    p1 = plt.plot(stats.time, stats.progenitor_pop_size / ref, label=\"Progenitor population\")\n",
    "    # p2 = plt.plot(stats.time, stats.whole_pop_size / ref, label=\"Whole Population\")\n",
    "    plt.legend()\n",
    "    if name:\n",
    "        plt.savefig(f\"output/results/prog_size_{name}.png\")\n",
    "    \n",
    "def plot_ratio(stats, name=None):\n",
    "    non_IP = (stats.size_type_RG + stats.size_type_GP) if \"size_type_GP\" in stats.columns else \\\n",
    "                stats.size_type_RG\n",
    "    \n",
    "    plt.plot(stats.time, stats.size_type_IP / (non_IP + stats.size_type_IP),\n",
    "             label=\"IP ratio\")\n",
    "    plt.plot(ratio_eomes.index, ratio_eomes.val / 100, label=\"Reference IP ratio\")\n",
    "    plt.legend()\n",
    "    if name:\n",
    "        plt.savefig(f\"output/results/IP_ratio_{name}.png\")\n",
    "        \n",
    "def plot_size_ratio(stats, name=None):\n",
    "    plt.figure(figsize=(12, 12))\n",
    "    plt.subplot(2, 1, 1)\n",
    "    plot_size(stats)\n",
    "    plt.subplot(2, 1, 2)\n",
    "    plot_ratio(stats)\n",
    "    if name:\n",
    "        plt.savefig(f\"output/results/prog_size_ratio_{name}.png\")\n",
    "        \n",
    "def save_stats(stats, name):\n",
    "    stats.to_csv(f\"output/results/stats_{name}.csv\")\n",
    "    \n",
    "def save_txt(txt, name):\n",
    "    fn = f\"output/results/txt_{name}.txt\"\n",
    "    with open(fn, \"w\") as f:\n",
    "        f.write(txt)"
   ]
  },
  {
   "cell_type": "code",
   "execution_count": null,
   "metadata": {},
   "outputs": [],
   "source": [
    "plot_size_ratio(bb.stats, NAME)"
   ]
  },
  {
   "cell_type": "code",
   "execution_count": null,
   "metadata": {},
   "outputs": [],
   "source": [
    "save_stats(bb.stats, NAME)\n",
    "save_txt(DESC, NAME)"
   ]
  },
  {
   "cell_type": "code",
   "execution_count": null,
   "metadata": {},
   "outputs": [],
   "source": []
  }
 ],
 "metadata": {
  "kernelspec": {
   "display_name": "Python 3",
   "language": "python",
   "name": "python3"
  },
  "language_info": {
   "codemirror_mode": {
    "name": "ipython",
    "version": 3
   },
   "file_extension": ".py",
   "mimetype": "text/x-python",
   "name": "python",
   "nbconvert_exporter": "python",
   "pygments_lexer": "ipython3",
   "version": "3.6.9"
  }
 },
 "nbformat": 4,
 "nbformat_minor": 4
}
