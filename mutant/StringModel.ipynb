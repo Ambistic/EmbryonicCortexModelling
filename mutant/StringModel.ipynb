{
 "cells": [
  {
   "cell_type": "code",
   "execution_count": null,
   "metadata": {},
   "outputs": [],
   "source": [
    "import re\n",
    "\n",
    "def nonestr(string):\n",
    "    if string is None:\n",
    "        return \"\"\n",
    "    return string\n",
    "\n",
    "class StringModel:\n",
    "    def __init__(self, model, default=dict(), global_default=\"\", sep=\"_.\", escape=\"$\"):\n",
    "        \"\"\"\n",
    "        The escape parameter shall never be used in the values\n",
    "        This class is not made for proper handling of escape mechanism\n",
    "        \"\"\"\n",
    "        assert len(escape) == 1\n",
    "        self.model = model\n",
    "        self.default = default\n",
    "        self.global_default = global_default\n",
    "        self.sep = sep\n",
    "        self.escape = escape\n",
    "        \n",
    "    def _split(self, string):\n",
    "        pat = f\"(?:^|([^{self.escape}]))[{self.sep}]\"\n",
    "        res = re.split(pat, string)\n",
    "        size = int((len(res) + 1) / 2)\n",
    "        res += ['']\n",
    "        return [res[i * 2] + nonestr(res[i * 2 + 1]) for i in range(size)]\n",
    "    \n",
    "    def _parse_substring(self, substring):\n",
    "        pat ='([\\w\\d]+)(?:{([\\w\\d]+)})?'\n",
    "        return re.findall(pat, substring)[0]\n",
    "    \n",
    "    def _get_slots(self):\n",
    "        substrings = self._split(self.model)\n",
    "        return [self._parse_substring(substring) for substring in substrings]\n",
    "    \n",
    "    def fill(self, **params):\n",
    "        values = {slotname: self.global_default for _, slotname in self._get_slots()}\n",
    "        values.update(self.default)\n",
    "        values.update(params)\n",
    "        return self.model.format(**values)\n",
    "    \n",
    "    def _extract_slot(self, string, prefix):\n",
    "        pat = f\"(?:^|[{self.sep}])({prefix}[^{self.sep}]*)(?:$|[{self.sep}])\"\n",
    "        return re.findall(pat, string)[0]\n",
    "    \n",
    "    def extract(self, string):\n",
    "        slots = filter(lambda x: x[1] != \"\", self._get_slots())\n",
    "        substrings = self._split(string)\n",
    "        dict_res = dict()\n",
    "        for prefix, slotname in slots:\n",
    "            for substring in substrings:\n",
    "                if re.match(f\"{prefix}.*\", substring):\n",
    "                    dict_res[slotname] = re.findall(f\"{prefix}(.*)\", substring)[0]\n",
    "                    break\n",
    "        \n",
    "        return dict_res"
   ]
  },
  {
   "cell_type": "code",
   "execution_count": 15,
   "metadata": {},
   "outputs": [],
   "source": [
    "sm = StringModel(\"vac{ho}_messy{ok}.txt\")"
   ]
  },
  {
   "cell_type": "code",
   "execution_count": 16,
   "metadata": {},
   "outputs": [
    {
     "data": {
      "text/plain": [
       "'vacsalut_messy.txt'"
      ]
     },
     "execution_count": 16,
     "metadata": {},
     "output_type": "execute_result"
    }
   ],
   "source": [
    "sm.fill(ho=\"salut\")"
   ]
  },
  {
   "cell_type": "code",
   "execution_count": 17,
   "metadata": {},
   "outputs": [
    {
     "data": {
      "text/plain": [
       "{'ho': 'salut', 'ok': ''}"
      ]
     },
     "execution_count": 17,
     "metadata": {},
     "output_type": "execute_result"
    }
   ],
   "source": [
    "sm.extract('vacsalut_messy.txt')"
   ]
  },
  {
   "cell_type": "code",
   "execution_count": null,
   "metadata": {},
   "outputs": [],
   "source": []
  }
 ],
 "metadata": {
  "kernelspec": {
   "display_name": "Python 3",
   "language": "python",
   "name": "python3"
  },
  "language_info": {
   "codemirror_mode": {
    "name": "ipython",
    "version": 3
   },
   "file_extension": ".py",
   "mimetype": "text/x-python",
   "name": "python",
   "nbconvert_exporter": "python",
   "pygments_lexer": "ipython3",
   "version": "3.8.10"
  }
 },
 "nbformat": 4,
 "nbformat_minor": 4
}
