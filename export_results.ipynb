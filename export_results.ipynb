{
 "cells": [
  {
   "cell_type": "code",
   "execution_count": 49,
   "metadata": {},
   "outputs": [],
   "source": [
    "import os\n",
    "import re\n",
    "import pandas as pd\n",
    "import numpy as np\n",
    "import pathlib\n",
    "import matplotlib.pyplot as plt\n",
    "from pathlib import Path as P\n",
    "from biodata import ratio_eomes, sorted_number_cells"
   ]
  },
  {
   "cell_type": "code",
   "execution_count": 103,
   "metadata": {},
   "outputs": [],
   "source": [
    "def ModelStats(f):\n",
    "    df = pd.read_csv(f)\n",
    "    df = df.fillna(0)\n",
    "    return df"
   ]
  },
  {
   "cell_type": "code",
   "execution_count": 92,
   "metadata": {},
   "outputs": [],
   "source": [
    "class RefMetric:\n",
    "    def ip_ratio(self):\n",
    "        # in percentage, no x\n",
    "        return list(ratio_eomes.index), ratio_eomes[\"val\"] / 100\n",
    "    \n",
    "    def number_progenitor(self):\n",
    "        # returns both x and y (normalized)\n",
    "        return sorted_number_cells\n",
    "    \n",
    "    def number_neuron(self):\n",
    "        # nothing to show\n",
    "        return [], []\n",
    "    \n",
    "    def get(self, cat):\n",
    "        return {\"neuron\": self.number_neuron,\n",
    "                \"progenitor\": self.number_progenitor,\n",
    "                \"ip_ratio\": self.ip_ratio\n",
    "               }[cat]()\n",
    "    \n",
    "    def corr_progeny(self):\n",
    "        # still nothing yet\n",
    "        pass\n",
    "    "
   ]
  },
  {
   "cell_type": "code",
   "execution_count": 21,
   "metadata": {},
   "outputs": [],
   "source": [
    "class ModelMetric:\n",
    "    def __init__(self, x):\n",
    "        if isinstance(x, (str, pathlib.Path)):\n",
    "            self.stats = ModelStats(x)\n",
    "        else:\n",
    "            self.stats = x\n",
    "            \n",
    "    def ip_ratio(self):\n",
    "        non_IP = (self.stats.size_type_RG + self.stats.size_type_GP) \\\n",
    "                    if \"size_type_GP\" in self.stats.columns else \\\n",
    "                    self.stats.size_type_RG\n",
    "\n",
    "        return self.stats.size_type_IP / (non_IP + self.stats.size_type_IP)\n",
    "    \n",
    "    def number_progenitor(self):\n",
    "        ref = self.stats.whole_pop_size.iloc[0]\n",
    "        return self.stats.progenitor_pop_size / ref\n",
    "    \n",
    "    def number_neuron(self):\n",
    "        ref = self.stats.whole_pop_size.iloc[0]\n",
    "        return self.stats.whole_pop_size / ref\n",
    "    \n",
    "    def get(self, cat):\n",
    "        return {\"neuron\": self.number_neuron,\n",
    "                \"progenitor\": self.number_progenitor,\n",
    "                \"ip_ratio\": self.ip_ratio\n",
    "               }[cat]()\n",
    "    \n",
    "    def get_time(self):\n",
    "        return self.stats.time"
   ]
  },
  {
   "cell_type": "code",
   "execution_count": 55,
   "metadata": {},
   "outputs": [],
   "source": [
    "class MultiModel:\n",
    "    def __init__(self, ls):\n",
    "        self.model_metrics = [ModelMetric(x) for x in ls]\n",
    "        \n",
    "    def get(self, cat):\n",
    "        return self.gather_samples([x.get(cat) for x in self.model_metrics])\n",
    "    \n",
    "    def get_time(self):\n",
    "        return self.model_metrics[0].get_time()\n",
    "\n",
    "    def gather_samples(self, samples):\n",
    "        # returns mean, sd\n",
    "        return np.mean(samples, axis=0), np.std(samples, axis=0)"
   ]
  },
  {
   "cell_type": "code",
   "execution_count": 67,
   "metadata": {},
   "outputs": [],
   "source": [
    "def pick_files(var, ctrl=None):\n",
    "    root = P(\"output/results\")\n",
    "    mod = []\n",
    "    for f in filter(lambda x: \".csv\" in x,\n",
    "            os.listdir(root)):\n",
    "        if var in f or (ctrl is not None and ctrl in f):\n",
    "            mod.append(str(root / f))\n",
    "\n",
    "    return mod\n",
    "\n",
    "def make_viz(curve, legend=None):\n",
    "    time, y1 = curve\n",
    "    if isinstance(y1, tuple):\n",
    "        mean, sd = y1\n",
    "        plt.plot(time, mean, label=legend)\n",
    "        plt.fill_between(time, mean - sd, mean + sd, alpha=0.3)\n",
    "    else:\n",
    "        plt.plot(time, y1, label=legend)"
   ]
  },
  {
   "cell_type": "code",
   "execution_count": 85,
   "metadata": {},
   "outputs": [],
   "source": [
    "# draw image with multiple params\n",
    "\n",
    "def extract_param(filels, param_name):\n",
    "    er = param_name + r\"_([^_]+)_\"\n",
    "    try:\n",
    "        return sorted(list(set([re.findall(er, x)[0] for x in filels])))\n",
    "    except:\n",
    "        print(\"Exception occured\")\n",
    "        return [\"default\"]\n",
    "        \n",
    "\n",
    "def filter_by_param(filels, param):\n",
    "    return [f for f in filels if param in f]"
   ]
  },
  {
   "cell_type": "code",
   "execution_count": 117,
   "metadata": {},
   "outputs": [],
   "source": [
    "def line_viz(filels, cat, legend=None):\n",
    "    if len(filels) > 1:\n",
    "        mod = MultiModel(filels)\n",
    "    else:\n",
    "        mod = ModelMetric(filels[0])\n",
    "    curve = mod.get(cat)\n",
    "    time = mod.get_time()\n",
    "    make_viz((time, curve), legend=legend)\n",
    "        \n",
    "def full_viz(var, cat, fname=None):\n",
    "    if fname is None:\n",
    "        fname = var\n",
    "    root = P(\"output/\")\n",
    "    plt.figure(figsize=(12, 8))\n",
    "    plt.title(f\"{cat}_{fname}\")\n",
    "    # load files for modality\n",
    "    filels = pick_files(var)\n",
    "\n",
    "    # split params\n",
    "    params = extract_param(filels, var)\n",
    "\n",
    "    # plot for * params\n",
    "    if len(params) <= 1:\n",
    "        line_viz(filels, cat, legend=cat)\n",
    "    else:\n",
    "        for p in params:\n",
    "            ls = filter_by_param(filels, p)\n",
    "            line_viz(ls, cat, legend=f\"{cat}_{p}\")\n",
    "            \n",
    "    ctrl_ls = pick_files(\"ctrl\")\n",
    "    line_viz(ctrl_ls, cat, legend=f\"ctrl\")\n",
    "\n",
    "    # plot ref\n",
    "    plt.plot(*RefMetric().get(cat))\n",
    "\n",
    "    # export\n",
    "    plt.legend()\n",
    "    plt.savefig(str(root / f\"{cat}_{fname}.png\"))\n",
    "    plt.close()"
   ]
  },
  {
   "cell_type": "code",
   "execution_count": 118,
   "metadata": {},
   "outputs": [],
   "source": [
    "def build_viz():\n",
    "    variates = [\n",
    "        \"gpasip\",\n",
    "        \"smooth\",\n",
    "        \"startval\",\n",
    "        \"b1\",\n",
    "        \"b2\",\n",
    "        \"b3\",\n",
    "        \"b4\",\n",
    "        \"b5\",\n",
    "    ]\n",
    "    \n",
    "    cats = [\"neuron\", \"progenitor\", \"ip_ratio\"]\n",
    "\n",
    "    for var in variates:\n",
    "        for cat in cats:\n",
    "            full_viz(var, cat)"
   ]
  },
  {
   "cell_type": "code",
   "execution_count": 119,
   "metadata": {},
   "outputs": [
    {
     "name": "stdout",
     "output_type": "stream",
     "text": [
      "Exception occured\n",
      "Exception occured\n",
      "Exception occured\n"
     ]
    }
   ],
   "source": [
    "build_viz()"
   ]
  },
  {
   "cell_type": "code",
   "execution_count": null,
   "metadata": {},
   "outputs": [],
   "source": []
  }
 ],
 "metadata": {
  "kernelspec": {
   "display_name": "Python 3",
   "language": "python",
   "name": "python3"
  },
  "language_info": {
   "codemirror_mode": {
    "name": "ipython",
    "version": 3
   },
   "file_extension": ".py",
   "mimetype": "text/x-python",
   "name": "python",
   "nbconvert_exporter": "python",
   "pygments_lexer": "ipython3",
   "version": "3.6.9"
  }
 },
 "nbformat": 4,
 "nbformat_minor": 2
}
