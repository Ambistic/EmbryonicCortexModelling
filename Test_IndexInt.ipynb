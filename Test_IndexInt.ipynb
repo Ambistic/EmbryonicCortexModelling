{
 "cells": [
  {
   "cell_type": "code",
   "execution_count": 1,
   "metadata": {},
   "outputs": [],
   "source": [
    "from helper import *"
   ]
  },
  {
   "cell_type": "code",
   "execution_count": 21,
   "metadata": {},
   "outputs": [],
   "source": [
    "class CircularList(list):\n",
    "    def __init__(self, x=[]):\n",
    "        for i in x:\n",
    "            self.append(i)\n",
    "\n",
    "    def __getitem__(self, x):\n",
    "        if isinstance(x, slice):\n",
    "            return CircularList([self[x] for x in self._rangeify(x)])\n",
    "\n",
    "        index = operator.index(x)\n",
    "        try:\n",
    "            return super().__getitem__(index % len(self))\n",
    "        except ZeroDivisionError:\n",
    "            raise IndexError(\"list index out of range\")\n",
    "\n",
    "    def _rangeify(self, slice):\n",
    "        start, stop, step = slice.start, slice.stop, slice.step\n",
    "        if start is None:\n",
    "            start = 0\n",
    "        if stop is None:\n",
    "            stop = len(self)\n",
    "        if step is None:\n",
    "            step = 1\n",
    "        return range(start, stop, step)\n",
    "    \n",
    "    def copy(self):\n",
    "        return CircularList(self)\n",
    "\n",
    "    def next(self, value):\n",
    "        return self[self.index(value) + 1]\n",
    "    \n",
    "    def prev(self, value):\n",
    "        return self[self.index(value) - 1]\n",
    "    \n",
    "    def next_id(self, idx):\n",
    "        return (idx + 1) % len(self)\n",
    "\n",
    "    def match_pattern(self, pattern: list):\n",
    "        \"\"\"\n",
    "        Return True if pattern matches in the same order\n",
    "        e.g. [1, 2, 3] for [3, 4, 6, 1, 2] returns True\n",
    "        [1, 4, 2] for [1, 2, 4] returns False\n",
    "        \"\"\"\n",
    "        if len(pattern) == 0:\n",
    "            return True\n",
    "\n",
    "        current = pattern[0]\n",
    "        idx = self.index(current)\n",
    "\n",
    "        if type(current) is int:\n",
    "            test = lambda x, y: x == y\n",
    "        else:\n",
    "            test = comp\n",
    "\n",
    "        for i in range(len(pattern)):\n",
    "            if not test(pattern[i], current):\n",
    "                return False\n",
    "            current = self.next(current)\n",
    "\n",
    "        return True\n",
    "\n",
    "    def replace(self, old, new):\n",
    "        for i in range(len(self)):\n",
    "            if super().__getitem__(i) == old:\n",
    "                self[i] = new\n",
    "                # super().__setitem__(i, new)\n",
    "                break\n",
    "\n",
    "    def __setitem__(self, index, element):\n",
    "        if isinstance(element, tuple):\n",
    "            element = Ltuple(element)\n",
    "        super().__setitem__(index, element)\n",
    "\n",
    "    def append(self, element):\n",
    "        if isinstance(element, tuple):\n",
    "            element = Ltuple(element)\n",
    "        super().append(element)\n",
    "\n",
    "    def insert(self, index, element):\n",
    "        if isinstance(element, tuple):\n",
    "            element = Ltuple(element)\n",
    "        super().insert(index, element)\n"
   ]
  },
  {
   "cell_type": "code",
   "execution_count": 22,
   "metadata": {},
   "outputs": [],
   "source": [
    "a = CircularList([3, 4, 5, 9, 3])"
   ]
  },
  {
   "cell_type": "code",
   "execution_count": 24,
   "metadata": {},
   "outputs": [
    {
     "data": {
      "text/plain": [
       "0"
      ]
     },
     "execution_count": 24,
     "metadata": {},
     "output_type": "execute_result"
    }
   ],
   "source": [
    "a.next_id(4)"
   ]
  },
  {
   "cell_type": "code",
   "execution_count": null,
   "metadata": {},
   "outputs": [],
   "source": []
  }
 ],
 "metadata": {
  "kernelspec": {
   "display_name": "Python 3",
   "language": "python",
   "name": "python3"
  },
  "language_info": {
   "codemirror_mode": {
    "name": "ipython",
    "version": 3
   },
   "file_extension": ".py",
   "mimetype": "text/x-python",
   "name": "python",
   "nbconvert_exporter": "python",
   "pygments_lexer": "ipython3",
   "version": "3.6.9"
  }
 },
 "nbformat": 4,
 "nbformat_minor": 2
}
