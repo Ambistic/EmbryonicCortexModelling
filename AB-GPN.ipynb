{
 "cells": [
  {
   "cell_type": "markdown",
   "metadata": {},
   "source": [
    "# Agent-based model\n",
    "\n",
    "This is a model of embryonic neocortex population, using an agent-based framework.\n",
    "This means that we create cells, on we sample a Tc from the age-related distribution.\n",
    "At the end of cell cycle, the fate decision for the daughters are.\n",
    "\n",
    "The model starts at E48, where we have the first data.\n",
    "\n",
    "Data will be of different types :\n",
    "\n",
    "Tc:\n",
    "- Population level estimation\n",
    "- Cell level estimation\n",
    "\n",
    "Differentiation:\n",
    "- Cell level estimation\n",
    "\n",
    "Number of progenitors:\n",
    "- Ki67 ratio in GZ\n",
    "- Ratio of Tbr2+ and Sox2+\n",
    "\n",
    "Number of cells:\n",
    "- Relative volume from Histo + MRI\n",
    "- Density of cells\n",
    "\n",
    "We will have to discuss quality of the data"
   ]
  },
  {
   "cell_type": "code",
   "execution_count": 1,
   "metadata": {},
   "outputs": [],
   "source": [
    "# imports\n",
    "import numpy as np\n",
    "import seaborn as sns\n",
    "import tqdm\n",
    "import random\n",
    "import matplotlib.pyplot as plt\n",
    "import os\n",
    "import pandas as pd\n",
    "from numpy.random import choice\n",
    "from scipy.interpolate import splev, splrep, interp1d\n",
    "from scipy import stats\n",
    "from gpn2 import GrowingPlanarNetwork\n",
    "from collections import Counter\n",
    "from model import AbstractCell, Action, Brain, Submodels\n",
    "from experiment import Experiment\n",
    "from utils import nop, highest_lower, Profiler, plot_function\n",
    "from submodels.cellbasic1 import CellBasic\n",
    "from submodels.bistate1 import BiStateModelFactory\n",
    "from submodels import factories\n",
    "from tree import tree_from_cell"
   ]
  },
  {
   "cell_type": "markdown",
   "metadata": {},
   "source": [
    "## Loading data"
   ]
  },
  {
   "cell_type": "code",
   "execution_count": 2,
   "metadata": {},
   "outputs": [],
   "source": [
    "# Volume MRI + Histo\n",
    "volumes = pd.read_csv('data/VolumeArea17.csv')"
   ]
  },
  {
   "cell_type": "markdown",
   "metadata": {},
   "source": [
    "## Preprocessing data"
   ]
  },
  {
   "cell_type": "code",
   "execution_count": 3,
   "metadata": {
    "scrolled": true
   },
   "outputs": [
    {
     "name": "stdout",
     "output_type": "stream",
     "text": [
      "Polynom Reg 41.8919627067869 64.8715873071742 55.96794765296363\n"
     ]
    }
   ],
   "source": [
    "# from PolynomRegression\n",
    "Tc_ = lambda time: 277.36424309532794 - 0.023973977538587 * time - 0.761568634472077 * time**2 + \\\n",
    "    0.025594287611410 * time**3 - 0.000307496975562 * time**4 + 0.000001264230759 * time**5\n",
    "print(\"Polynom Reg\", Tc_(48), Tc_(65), Tc_(78))"
   ]
  },
  {
   "cell_type": "code",
   "execution_count": 4,
   "metadata": {},
   "outputs": [],
   "source": [
    "# what we do is to average some ages\n",
    "volumes = volumes.append(volumes.loc[volumes.Age.isin([70, 72])].mean(), ignore_index=True)\n",
    "volumes = volumes.append(volumes.loc[volumes.Age.isin([78, 79])].mean(), ignore_index=True)\n",
    "volumes = volumes.append(volumes.loc[volumes.Age.isin([84, 86])].mean(), ignore_index=True)\n",
    "volumes = volumes.loc[~volumes.Age.isin([70, 72, 78, 79, 84, 86])]"
   ]
  },
  {
   "cell_type": "code",
   "execution_count": 5,
   "metadata": {},
   "outputs": [],
   "source": [
    "col = volumes.loc[:, [\"Ratio_Histo_VZ\", \"Ratio_MRI_VZ\"]]\n",
    "volumes['Ratio_VZ'] = col.mean(axis=1)\n",
    "col = volumes.loc[:, [\"Ratio_Histo_ISVZ\", \"Ratio_MRI_ISVZ\"]]\n",
    "volumes['Ratio_ISVZ'] = col.mean(axis=1) * volumes.loc[0, \"Histo_ISVZ\"] / volumes.loc[0, \"Histo_VZ\"]\n",
    "col = volumes.loc[:, [\"Ratio_Histo_OSVZ\", \"Ratio_MRI_OSVZ\"]]\n",
    "volumes['Ratio_OSVZ'] = col.mean(axis=1) * volumes.loc[0, \"Histo_OSVZ\"] / volumes.loc[0, \"Histo_VZ\"]"
   ]
  },
  {
   "cell_type": "code",
   "execution_count": 6,
   "metadata": {},
   "outputs": [
    {
     "data": {
      "text/html": [
       "<div>\n",
       "<style scoped>\n",
       "    .dataframe tbody tr th:only-of-type {\n",
       "        vertical-align: middle;\n",
       "    }\n",
       "\n",
       "    .dataframe tbody tr th {\n",
       "        vertical-align: top;\n",
       "    }\n",
       "\n",
       "    .dataframe thead th {\n",
       "        text-align: right;\n",
       "    }\n",
       "</style>\n",
       "<table border=\"1\" class=\"dataframe\">\n",
       "  <thead>\n",
       "    <tr style=\"text-align: right;\">\n",
       "      <th></th>\n",
       "      <th>Age</th>\n",
       "      <th>Histo_VZ</th>\n",
       "      <th>Histo_ISVZ</th>\n",
       "      <th>Histo_OSVZ</th>\n",
       "      <th>Histo_SP</th>\n",
       "      <th>Histo_CP</th>\n",
       "      <th>MRI_VZ</th>\n",
       "      <th>MRI_ISVZ</th>\n",
       "      <th>MRI_OSVZ</th>\n",
       "      <th>MRI_SP</th>\n",
       "      <th>...</th>\n",
       "      <th>RelativeDensityVZ</th>\n",
       "      <th>RelativeDensityISVZ</th>\n",
       "      <th>RelativeDensityOSVZ</th>\n",
       "      <th>AverageDensityVZ</th>\n",
       "      <th>AverageDensityISVZ</th>\n",
       "      <th>AverageDensityOSVZ</th>\n",
       "      <th>Ratio_VZ</th>\n",
       "      <th>Ratio_ISVZ</th>\n",
       "      <th>Ratio_OSVZ</th>\n",
       "      <th>total_cell_number</th>\n",
       "    </tr>\n",
       "  </thead>\n",
       "  <tbody>\n",
       "    <tr>\n",
       "      <th>0</th>\n",
       "      <td>49.0</td>\n",
       "      <td>0.264</td>\n",
       "      <td>0.118</td>\n",
       "      <td>0.012</td>\n",
       "      <td>NaN</td>\n",
       "      <td>0.056</td>\n",
       "      <td>0.527</td>\n",
       "      <td>0.236</td>\n",
       "      <td>0.024</td>\n",
       "      <td>NaN</td>\n",
       "      <td>...</td>\n",
       "      <td>1.000</td>\n",
       "      <td>1.00</td>\n",
       "      <td>1.000</td>\n",
       "      <td>1.000000</td>\n",
       "      <td>0.441331</td>\n",
       "      <td>0.044134</td>\n",
       "      <td>1.0000</td>\n",
       "      <td>0.446970</td>\n",
       "      <td>0.045455</td>\n",
       "      <td>1.199268</td>\n",
       "    </tr>\n",
       "    <tr>\n",
       "      <th>1</th>\n",
       "      <td>63.0</td>\n",
       "      <td>0.716</td>\n",
       "      <td>0.428</td>\n",
       "      <td>3.666</td>\n",
       "      <td>NaN</td>\n",
       "      <td>2.284</td>\n",
       "      <td>1.161</td>\n",
       "      <td>0.698</td>\n",
       "      <td>5.871</td>\n",
       "      <td>4.807</td>\n",
       "      <td>...</td>\n",
       "      <td>0.820</td>\n",
       "      <td>1.34</td>\n",
       "      <td>10.540</td>\n",
       "      <td>0.821235</td>\n",
       "      <td>0.592874</td>\n",
       "      <td>0.465094</td>\n",
       "      <td>2.4590</td>\n",
       "      <td>1.474330</td>\n",
       "      <td>12.733250</td>\n",
       "      <td>8.815673</td>\n",
       "    </tr>\n",
       "    <tr>\n",
       "      <th>8</th>\n",
       "      <td>94.0</td>\n",
       "      <td>0.910</td>\n",
       "      <td>0.767</td>\n",
       "      <td>6.152</td>\n",
       "      <td>NaN</td>\n",
       "      <td>15.344</td>\n",
       "      <td>NaN</td>\n",
       "      <td>NaN</td>\n",
       "      <td>NaN</td>\n",
       "      <td>NaN</td>\n",
       "      <td>...</td>\n",
       "      <td>0.230</td>\n",
       "      <td>0.28</td>\n",
       "      <td>2.800</td>\n",
       "      <td>0.234263</td>\n",
       "      <td>0.121405</td>\n",
       "      <td>0.123754</td>\n",
       "      <td>3.4520</td>\n",
       "      <td>2.909773</td>\n",
       "      <td>23.732864</td>\n",
       "      <td>4.098968</td>\n",
       "    </tr>\n",
       "    <tr>\n",
       "      <th>9</th>\n",
       "      <td>71.0</td>\n",
       "      <td>0.615</td>\n",
       "      <td>0.498</td>\n",
       "      <td>5.095</td>\n",
       "      <td>NaN</td>\n",
       "      <td>3.962</td>\n",
       "      <td>1.880</td>\n",
       "      <td>1.486</td>\n",
       "      <td>15.337</td>\n",
       "      <td>17.782</td>\n",
       "      <td>...</td>\n",
       "      <td>0.545</td>\n",
       "      <td>0.93</td>\n",
       "      <td>7.330</td>\n",
       "      <td>0.542118</td>\n",
       "      <td>0.409147</td>\n",
       "      <td>0.323570</td>\n",
       "      <td>2.9495</td>\n",
       "      <td>2.352625</td>\n",
       "      <td>24.617727</td>\n",
       "      <td>10.527115</td>\n",
       "    </tr>\n",
       "    <tr>\n",
       "      <th>10</th>\n",
       "      <td>78.5</td>\n",
       "      <td>0.374</td>\n",
       "      <td>0.342</td>\n",
       "      <td>4.686</td>\n",
       "      <td>NaN</td>\n",
       "      <td>5.366</td>\n",
       "      <td>1.030</td>\n",
       "      <td>0.957</td>\n",
       "      <td>12.835</td>\n",
       "      <td>17.322</td>\n",
       "      <td>...</td>\n",
       "      <td>0.480</td>\n",
       "      <td>0.88</td>\n",
       "      <td>5.495</td>\n",
       "      <td>0.477197</td>\n",
       "      <td>0.387065</td>\n",
       "      <td>0.242614</td>\n",
       "      <td>1.6895</td>\n",
       "      <td>1.556795</td>\n",
       "      <td>21.415750</td>\n",
       "      <td>6.604573</td>\n",
       "    </tr>\n",
       "  </tbody>\n",
       "</table>\n",
       "<p>5 rows × 31 columns</p>\n",
       "</div>"
      ],
      "text/plain": [
       "     Age  Histo_VZ  Histo_ISVZ  Histo_OSVZ  Histo_SP  Histo_CP  MRI_VZ  \\\n",
       "0   49.0     0.264       0.118       0.012       NaN     0.056   0.527   \n",
       "1   63.0     0.716       0.428       3.666       NaN     2.284   1.161   \n",
       "8   94.0     0.910       0.767       6.152       NaN    15.344     NaN   \n",
       "9   71.0     0.615       0.498       5.095       NaN     3.962   1.880   \n",
       "10  78.5     0.374       0.342       4.686       NaN     5.366   1.030   \n",
       "\n",
       "    MRI_ISVZ  MRI_OSVZ  MRI_SP  ...  RelativeDensityVZ  RelativeDensityISVZ  \\\n",
       "0      0.236     0.024     NaN  ...              1.000                 1.00   \n",
       "1      0.698     5.871   4.807  ...              0.820                 1.34   \n",
       "8        NaN       NaN     NaN  ...              0.230                 0.28   \n",
       "9      1.486    15.337  17.782  ...              0.545                 0.93   \n",
       "10     0.957    12.835  17.322  ...              0.480                 0.88   \n",
       "\n",
       "    RelativeDensityOSVZ  AverageDensityVZ  AverageDensityISVZ  \\\n",
       "0                 1.000          1.000000            0.441331   \n",
       "1                10.540          0.821235            0.592874   \n",
       "8                 2.800          0.234263            0.121405   \n",
       "9                 7.330          0.542118            0.409147   \n",
       "10                5.495          0.477197            0.387065   \n",
       "\n",
       "    AverageDensityOSVZ  Ratio_VZ  Ratio_ISVZ  Ratio_OSVZ  total_cell_number  \n",
       "0             0.044134    1.0000    0.446970    0.045455           1.199268  \n",
       "1             0.465094    2.4590    1.474330   12.733250           8.815673  \n",
       "8             0.123754    3.4520    2.909773   23.732864           4.098968  \n",
       "9             0.323570    2.9495    2.352625   24.617727          10.527115  \n",
       "10            0.242614    1.6895    1.556795   21.415750           6.604573  \n",
       "\n",
       "[5 rows x 31 columns]"
      ]
     },
     "execution_count": 6,
     "metadata": {},
     "output_type": "execute_result"
    }
   ],
   "source": [
    "volumes.loc[:, [\"AverageDensityVZ\", \"AverageDensityISVZ\", \"AverageDensityOSVZ\"]] /= \\\n",
    "    volumes.loc[0, \"AverageDensityVZ\"]\n",
    "volumes[\"total_cell_number\"] = volumes[\"AverageDensityVZ\"] * volumes[\"Ratio_VZ\"] + \\\n",
    "                               volumes[\"AverageDensityISVZ\"] * volumes[\"Ratio_ISVZ\"] + \\\n",
    "                               volumes[\"AverageDensityOSVZ\"] * volumes[\"Ratio_OSVZ\"]\n",
    "volumes.head()"
   ]
  },
  {
   "cell_type": "code",
   "execution_count": 7,
   "metadata": {},
   "outputs": [
    {
     "data": {
      "image/png": "[encoded data removed]",
      "text/plain": [
       "<Figure size 432x288 with 1 Axes>"
      ]
     },
     "metadata": {
      "needs_background": "light"
     },
     "output_type": "display_data"
    }
   ],
   "source": [
    "# complicated stuff to sort the list\n",
    "sorted_number_cells = tuple(zip(*tuple(sorted(list(zip(volumes[\"Age\"],\n",
    "                                                       volumes[\"total_cell_number\"] /\n",
    "                                                       volumes.loc[0, \"total_cell_number\"])),\n",
    "                                              key=lambda x: x[0]))))\n",
    "spl = splrep(*sorted_number_cells)\n",
    "x2 = np.linspace(49, 94, 200)\n",
    "y2 = splev(x2, spl)\n",
    "plt.plot(*sorted_number_cells, 'o', x2, y2)\n",
    "plt.show()"
   ]
  },
  {
   "cell_type": "code",
   "execution_count": 8,
   "metadata": {},
   "outputs": [],
   "source": [
    "def callback():\n",
    "    plt.plot(*sorted_number_cells, 'o', x2, y2)"
   ]
  },
  {
   "cell_type": "code",
   "execution_count": 9,
   "metadata": {},
   "outputs": [],
   "source": [
    "# Cell fate will be the first parameter to tune"
   ]
  },
  {
   "cell_type": "markdown",
   "metadata": {},
   "source": [
    "### Ratio Tbr2"
   ]
  },
  {
   "cell_type": "code",
   "execution_count": 10,
   "metadata": {},
   "outputs": [
    {
     "data": {
      "text/html": [
       "<div>\n",
       "<style scoped>\n",
       "    .dataframe tbody tr th:only-of-type {\n",
       "        vertical-align: middle;\n",
       "    }\n",
       "\n",
       "    .dataframe tbody tr th {\n",
       "        vertical-align: top;\n",
       "    }\n",
       "\n",
       "    .dataframe thead th {\n",
       "        text-align: right;\n",
       "    }\n",
       "</style>\n",
       "<table border=\"1\" class=\"dataframe\">\n",
       "  <thead>\n",
       "    <tr style=\"text-align: right;\">\n",
       "      <th></th>\n",
       "      <th>VZ</th>\n",
       "      <th>ISVZ</th>\n",
       "      <th>OSVZ</th>\n",
       "      <th>ratio_VZ</th>\n",
       "      <th>ratio_ISVZ</th>\n",
       "      <th>ratio_OSVZ</th>\n",
       "    </tr>\n",
       "  </thead>\n",
       "  <tbody>\n",
       "    <tr>\n",
       "      <th>58</th>\n",
       "      <td>16.6</td>\n",
       "      <td>88.3</td>\n",
       "      <td>63.3</td>\n",
       "      <td>43.2</td>\n",
       "      <td>13.6</td>\n",
       "      <td>42.0</td>\n",
       "    </tr>\n",
       "    <tr>\n",
       "      <th>63</th>\n",
       "      <td>13.3</td>\n",
       "      <td>81.6</td>\n",
       "      <td>43.3</td>\n",
       "      <td>25.0</td>\n",
       "      <td>12.5</td>\n",
       "      <td>61.4</td>\n",
       "    </tr>\n",
       "    <tr>\n",
       "      <th>70</th>\n",
       "      <td>20.0</td>\n",
       "      <td>81.6</td>\n",
       "      <td>56.6</td>\n",
       "      <td>12.5</td>\n",
       "      <td>12.5</td>\n",
       "      <td>75.0</td>\n",
       "    </tr>\n",
       "    <tr>\n",
       "      <th>79</th>\n",
       "      <td>43.3</td>\n",
       "      <td>83.3</td>\n",
       "      <td>63.3</td>\n",
       "      <td>11.3</td>\n",
       "      <td>4.5</td>\n",
       "      <td>83.0</td>\n",
       "    </tr>\n",
       "    <tr>\n",
       "      <th>94</th>\n",
       "      <td>58.3</td>\n",
       "      <td>75.0</td>\n",
       "      <td>10.0</td>\n",
       "      <td>10.2</td>\n",
       "      <td>6.8</td>\n",
       "      <td>81.8</td>\n",
       "    </tr>\n",
       "  </tbody>\n",
       "</table>\n",
       "</div>"
      ],
      "text/plain": [
       "      VZ  ISVZ  OSVZ  ratio_VZ  ratio_ISVZ  ratio_OSVZ\n",
       "58  16.6  88.3  63.3      43.2        13.6        42.0\n",
       "63  13.3  81.6  43.3      25.0        12.5        61.4\n",
       "70  20.0  81.6  56.6      12.5        12.5        75.0\n",
       "79  43.3  83.3  63.3      11.3         4.5        83.0\n",
       "94  58.3  75.0  10.0      10.2         6.8        81.8"
      ]
     },
     "execution_count": 10,
     "metadata": {},
     "output_type": "execute_result"
    }
   ],
   "source": [
    "# From Betizeau et al.\n",
    "\n",
    "ratio_eomes = pd.DataFrame({\"VZ\": [16.6, 13.3, 20, 43.3, 58.3],\n",
    "                            \"ISVZ\": [88.3, 81.6, 81.6, 83.3, 75.0],\n",
    "                            \"OSVZ\": [63.3, 43.3, 56.6, 63.3, 10.0],\n",
    "                            \"ratio_VZ\": [43.2, 25, 12.5, 11.3, 10.2],\n",
    "                            \"ratio_ISVZ\": [13.6, 12.5, 12.5, 4.5, 6.8],\n",
    "                            \"ratio_OSVZ\": [42.0, 61.4, 75.0, 83.0, 81.8],\n",
    "                           },\n",
    "                           index=[58, 63, 70, 79, 94]\n",
    "                          )\n",
    "\n",
    "ratio_eomes"
   ]
  },
  {
   "cell_type": "code",
   "execution_count": 11,
   "metadata": {},
   "outputs": [
    {
     "data": {
      "text/plain": [
       "58    46.321862\n",
       "63    40.557331\n",
       "70    55.150000\n",
       "79    61.923482\n",
       "94    19.460121\n",
       "Name: val, dtype: float64"
      ]
     },
     "execution_count": 11,
     "metadata": {},
     "output_type": "execute_result"
    }
   ],
   "source": [
    "ratio_eomes[\"val\"] = (ratio_eomes.VZ * ratio_eomes.ratio_VZ\n",
    "                   + ratio_eomes.ISVZ * ratio_eomes.ratio_ISVZ\n",
    "                   + ratio_eomes.OSVZ * ratio_eomes.ratio_OSVZ) \\\n",
    "                  / (ratio_eomes.ratio_VZ + ratio_eomes.ratio_ISVZ + ratio_eomes.ratio_OSVZ)\n",
    "\n",
    "ratio_eomes.val"
   ]
  },
  {
   "cell_type": "markdown",
   "metadata": {},
   "source": [
    "## Model"
   ]
  },
  {
   "cell_type": "code",
   "execution_count": 12,
   "metadata": {},
   "outputs": [],
   "source": [
    "# Definition of the var of the model\n",
    "# We start with 100 cells for homogeneity\n",
    "START_POPULATION_SQRT = 10\n",
    "START_TIME = 49\n",
    "END_TIME = 94\n",
    "# We arbitrarily set variance of Tc at 12.5^2\n",
    "# 95 % seems to be into 50, so sigma = 50 / 4 = 12.5\n",
    "SIG_TC = 12.5"
   ]
  },
  {
   "cell_type": "code",
   "execution_count": 13,
   "metadata": {},
   "outputs": [
    {
     "data": {
      "image/png": "[encoded data removed]",
      "text/plain": [
       "<Figure size 576x576 with 1 Axes>"
      ]
     },
     "metadata": {},
     "output_type": "display_data"
    }
   ],
   "source": [
    "gpn = GrowingPlanarNetwork()\n",
    "gpn.init_square(8)\n",
    "gpn.show_all(figsize=(8, 8))"
   ]
  },
  {
   "cell_type": "code",
   "execution_count": 14,
   "metadata": {},
   "outputs": [],
   "source": [
    "\"\"\"\n",
    "k_n = k_ref / (0.9 + p / 10)  # so as effective k stay the same even though p changes\n",
    "k_p = 0.9 * k_n\n",
    "\"\"\"\n",
    "pass\n",
    "# This is the formula to adapt k (1/Tc) according to progenitor"
   ]
  },
  {
   "cell_type": "code",
   "execution_count": 15,
   "metadata": {},
   "outputs": [],
   "source": [
    "from enum import Enum\n",
    "    \n",
    "class CellTypeGP(Enum):\n",
    "    RG = 0\n",
    "    IP = 1\n",
    "    PostMitotic = 2\n",
    "    Dead = 3\n",
    "    GP = 4"
   ]
  },
  {
   "cell_type": "code",
   "execution_count": 16,
   "metadata": {},
   "outputs": [
    {
     "data": {
      "text/plain": [
       "9"
      ]
     },
     "execution_count": 16,
     "metadata": {},
     "output_type": "execute_result"
    }
   ],
   "source": [
    "type(1)(9)"
   ]
  },
  {
   "cell_type": "code",
   "execution_count": 17,
   "metadata": {},
   "outputs": [],
   "source": [
    "class CellTriStateBasic(AbstractCell):\n",
    "    \"\"\"\n",
    "    Tc will require 2 functions, one for RG and one for IP\n",
    "    diff function will output p_RG, p_IP for RG\n",
    "    and p_IP, p_N for IP.\n",
    "    \n",
    "    Tuning this model will require to have the proportion of Tbr2+ and Tbr2-\n",
    "    in the progenitor population.\n",
    "    \"\"\"\n",
    "    def __init__(self, T, start=False, brain=None, index=None, parent_type=None, submodel=None):\n",
    "        # references\n",
    "        self.brain = brain\n",
    "        self.submodel = submodel\n",
    "        \n",
    "        # cell data\n",
    "        self.appear_time = T\n",
    "        self.division_time = np.Inf\n",
    "        self.index = index\n",
    "        \n",
    "        if start:\n",
    "            self._type = CellTypeGP.RG\n",
    "        else:\n",
    "            self._type = self.submodel.diff(T, parent_type)\n",
    "        \n",
    "        if self._type in [CellTypeGP.RG, CellTypeGP.IP, CellTypeGP.GP]:\n",
    "            self.cycle(T, start)\n",
    "            \n",
    "    def tick(self, abs_time, rel_time, neighbours=None):\n",
    "        if self._type == CellTypeGP.PostMitotic:\n",
    "            return Action.DiffNeuron\n",
    "        \n",
    "        elif abs_time > self.division_time:\n",
    "            return Action.Divide\n",
    "        \n",
    "        else:\n",
    "            return Action.NoOp\n",
    "            \n",
    "    def cycle(self, T, start=False):\n",
    "        self.Tc = self.submodel.Tc(T, self.type())\n",
    "        if start:\n",
    "            self.eff_Tc = np.random.uniform(0, self.Tc)\n",
    "        else:\n",
    "            self.eff_Tc = self.Tc\n",
    "        self.division_time = T + self.eff_Tc\n",
    "    \n",
    "    def __gt__(self, C):\n",
    "        return self.division_time > C.division_time\n",
    "    \n",
    "    def generate_daughter_cell(self, T):\n",
    "        return CellTriStateBasic(T, start=False, brain=self.brain, parent_type=self.type(),\n",
    "                                submodel=self.submodel)"
   ]
  },
  {
   "cell_type": "code",
   "execution_count": 18,
   "metadata": {},
   "outputs": [],
   "source": [
    "class TriStateModelFactory:\n",
    "    def __init__(self,\n",
    "                 timesteps=[49, 61, 72, 83, 95],\n",
    "                 tc_coeff_RG=[1., 1., 1., 1., 1.],\n",
    "                 tc_coeff_IP=[1., 1., 1., 1., 1.],\n",
    "                 diff_coeff_RG=[1., 1., 1., 1., 1.],\n",
    "                 diff_coeff_IP=[1., 1., 1., 1., 1.],\n",
    "                 diff_values_RG_IP=[0.73, 0.63, 0.53, 0.43, 0.43], # rather RG_low\n",
    "                 diff_values_RG_GP=[1., 1., 1., 0.8, 0.6], # rather RG_high\n",
    "                 diff_values_IP=[0.23, 0.23, 0.23, 0.23, 0.23],\n",
    "                ):\n",
    "        # DIFF\n",
    "        # values are value to self renew, over value to differentiate\n",
    "        # lin_diff_RG = interp1d(timesteps, [x*y for x, y in zip(diff_values_RG, diff_coeff_RG)])\n",
    "        # lin_diff_IP = interp1d(timesteps, [x*y for x, y in zip(diff_values_IP, diff_coeff_IP)])\n",
    "        lin_diff_RG_IP = interp1d(timesteps, diff_values_RG_IP)\n",
    "        lin_diff_RG_GP = interp1d(timesteps, diff_values_RG_GP)\n",
    "        lin_diff_IP_ = interp1d(timesteps, diff_values_IP)\n",
    "        # lin_diff_RG = lambda x: lin_diff_RG_(x) * diff_coeff_RG[highest_lower(timesteps, x)]\n",
    "        lin_diff_IP = lambda x: lin_diff_IP_(x) * diff_coeff_IP[highest_lower(timesteps, x)]\n",
    "        \n",
    "        # TC\n",
    "        Tc_IP = lambda x: Tc_(x) * tc_coeff_IP[highest_lower(timesteps, x)]\n",
    "        Tc_RG = lambda x: Tc_(x) * tc_coeff_RG[highest_lower(timesteps, x)]\n",
    "        \n",
    "        def repr_():\n",
    "            timesteps = np.arange(49, 95, 0.1)\n",
    "            fig = plt.figure(figsize=(12, 8))\n",
    "            fig.suptitle(\"Parameters of submodel 2\", fontsize=14)\n",
    "\n",
    "            plt.subplot(2, 2, 1)\n",
    "            plt.title(\"Diff RG\")\n",
    "            plt.ylim(-0.05, 1.05)\n",
    "            plt.plot(timesteps, list(map(lin_diff_RG_IP, timesteps)))\n",
    "            plt.plot(timesteps, list(map(lin_diff_RG_GP, timesteps)))\n",
    "\n",
    "            plt.subplot(2, 2, 2)\n",
    "            plt.title(\"Diff IP\")\n",
    "            plt.ylim(-0.05, 1.05)\n",
    "            plt.plot(timesteps, list(map(lin_diff_IP, timesteps)))\n",
    "\n",
    "            plt.subplot(2, 2, 3)\n",
    "            plt.ylim(-5, 105)\n",
    "            plt.title(f\"Tc (h) RG, sigma={SIG_TC}, min=10\")\n",
    "            plt.plot(timesteps, list(map(Tc_RG, timesteps)))\n",
    "\n",
    "            plt.subplot(2, 2, 4)\n",
    "            plt.ylim(-5, 105)\n",
    "            plt.title(f\"Tc (h) IP, sigma={SIG_TC}, min=10\")\n",
    "            plt.plot(timesteps, list(map(Tc_IP, timesteps)))\n",
    "            \n",
    "        def tc_func_bistate(time_, type_):\n",
    "            if type_ == CellTypeGP.RG:\n",
    "                return max(np.random.normal(Tc_RG(time_), SIG_TC), 10) / 24. # because we are in Days\n",
    "            \n",
    "            elif type_ == CellTypeGP.IP:\n",
    "                return max(np.random.normal(Tc_IP(time_), SIG_TC), 10) / 24. # because we are in Days\n",
    "            \n",
    "            elif type_ == CellTypeGP.GP:\n",
    "                return max(np.random.normal(Tc_RG(time_), SIG_TC), 10) / 24. * 100 # because we are in Days\n",
    "\n",
    "        def diff_func_bistate(time_, type_):\n",
    "            if type_ == CellTypeGP.RG:\n",
    "                val1 = lin_diff_RG_IP(time_)\n",
    "                val2 = lin_diff_RG_GP(time_)\n",
    "                return choice([CellTypeGP.RG, CellTypeGP.IP, CellTypeGP.GP], 1,\n",
    "                              p=[val1, val2 - val1, 1 - val2])[0]\n",
    "\n",
    "            elif type_ == CellTypeGP.IP:\n",
    "                val = lin_diff_IP(time_)\n",
    "                return choice([CellTypeGP.IP, CellTypeGP.PostMitotic], 1, p=[val, 1-val])[0]\n",
    "            \n",
    "            elif type_ == CellTypeGP.GP:\n",
    "                return CellTypeGP.GP\n",
    "\n",
    "\n",
    "        self.model = Submodels(tc_func_bistate, diff_func_bistate, repr_=repr_)\n",
    "        \n",
    "    def generate(self, *args, **kwargs):\n",
    "        return CellTriStateBasic(*args, **kwargs, submodel=self.model)"
   ]
  },
  {
   "cell_type": "code",
   "execution_count": 19,
   "metadata": {},
   "outputs": [],
   "source": [
    "# random.seed(0+0)\n",
    "# np.random.seed(0+0)\n",
    "# ccls = TriStateModelFactory(diff_values_RG_GP=[1., 1., 1., 0.85, 0.6])\n",
    "# exp = Experiment(time_step=0.5, verbose=False, start_population=3, cell_cls=ccls.generate,\n",
    "#                  check=False, cls_=Brain, safe_mode=False)\n",
    "# exp.run()"
   ]
  },
  {
   "cell_type": "code",
   "execution_count": 20,
   "metadata": {
    "scrolled": true
   },
   "outputs": [],
   "source": [
    "# with Profiler():\n",
    "#     random.seed(0+0)\n",
    "#     np.random.seed(0+0)\n",
    "#     ccls = BiStateModelFactory(tc_coeff_RG=[1., 1., 1., 1., 1.])\n",
    "#     exp = Experiment(time_step=0.5, verbose=False, start_population=3, cell_cls=ccls.generate,\n",
    "#                      check=False, cls_=Brain)\n",
    "#     exp.run()"
   ]
  },
  {
   "cell_type": "code",
   "execution_count": 21,
   "metadata": {},
   "outputs": [],
   "source": [
    "random.seed(0+0)\n",
    "np.random.seed(0+0)\n",
    "ccls = BiStateModelFactory(tc_coeff_RG=[1., 1., 1., 1., 1.])\n",
    "bb = Brain(time_step=0.5, verbose=False, start_population=3, cell_cls=ccls.generate, check=False)\n",
    "bb.run()"
   ]
  },
  {
   "cell_type": "code",
   "execution_count": 22,
   "metadata": {},
   "outputs": [
    {
     "data": {
      "text/html": [
       "<div>\n",
       "<style scoped>\n",
       "    .dataframe tbody tr th:only-of-type {\n",
       "        vertical-align: middle;\n",
       "    }\n",
       "\n",
       "    .dataframe tbody tr th {\n",
       "        vertical-align: top;\n",
       "    }\n",
       "\n",
       "    .dataframe thead th {\n",
       "        text-align: right;\n",
       "    }\n",
       "</style>\n",
       "<table border=\"1\" class=\"dataframe\">\n",
       "  <thead>\n",
       "    <tr style=\"text-align: right;\">\n",
       "      <th></th>\n",
       "      <th>progenitor_pop_size</th>\n",
       "      <th>whole_pop_size</th>\n",
       "      <th>time</th>\n",
       "      <th>size_type_RG</th>\n",
       "      <th>size_type_IP</th>\n",
       "      <th>size_type_PostMitotic</th>\n",
       "    </tr>\n",
       "  </thead>\n",
       "  <tbody>\n",
       "    <tr>\n",
       "      <th>49.0</th>\n",
       "      <td>3.0</td>\n",
       "      <td>3.0</td>\n",
       "      <td>49.0</td>\n",
       "      <td>9.0</td>\n",
       "      <td>NaN</td>\n",
       "      <td>NaN</td>\n",
       "    </tr>\n",
       "    <tr>\n",
       "      <th>49.0</th>\n",
       "      <td>9.0</td>\n",
       "      <td>9.0</td>\n",
       "      <td>49.0</td>\n",
       "      <td>9.0</td>\n",
       "      <td>NaN</td>\n",
       "      <td>NaN</td>\n",
       "    </tr>\n",
       "    <tr>\n",
       "      <th>49.5</th>\n",
       "      <td>11.0</td>\n",
       "      <td>11.0</td>\n",
       "      <td>49.5</td>\n",
       "      <td>10.0</td>\n",
       "      <td>1.0</td>\n",
       "      <td>NaN</td>\n",
       "    </tr>\n",
       "    <tr>\n",
       "      <th>50.0</th>\n",
       "      <td>11.0</td>\n",
       "      <td>11.0</td>\n",
       "      <td>50.0</td>\n",
       "      <td>10.0</td>\n",
       "      <td>1.0</td>\n",
       "      <td>NaN</td>\n",
       "    </tr>\n",
       "    <tr>\n",
       "      <th>50.5</th>\n",
       "      <td>16.0</td>\n",
       "      <td>16.0</td>\n",
       "      <td>50.5</td>\n",
       "      <td>14.0</td>\n",
       "      <td>2.0</td>\n",
       "      <td>NaN</td>\n",
       "    </tr>\n",
       "    <tr>\n",
       "      <th>...</th>\n",
       "      <td>...</td>\n",
       "      <td>...</td>\n",
       "      <td>...</td>\n",
       "      <td>...</td>\n",
       "      <td>...</td>\n",
       "      <td>...</td>\n",
       "    </tr>\n",
       "    <tr>\n",
       "      <th>91.5</th>\n",
       "      <td>193.0</td>\n",
       "      <td>2722.0</td>\n",
       "      <td>91.5</td>\n",
       "      <td>34.0</td>\n",
       "      <td>116.0</td>\n",
       "      <td>43.0</td>\n",
       "    </tr>\n",
       "    <tr>\n",
       "      <th>92.0</th>\n",
       "      <td>171.0</td>\n",
       "      <td>2743.0</td>\n",
       "      <td>92.0</td>\n",
       "      <td>35.0</td>\n",
       "      <td>118.0</td>\n",
       "      <td>18.0</td>\n",
       "    </tr>\n",
       "    <tr>\n",
       "      <th>92.5</th>\n",
       "      <td>181.0</td>\n",
       "      <td>2771.0</td>\n",
       "      <td>92.5</td>\n",
       "      <td>31.0</td>\n",
       "      <td>115.0</td>\n",
       "      <td>35.0</td>\n",
       "    </tr>\n",
       "    <tr>\n",
       "      <th>93.0</th>\n",
       "      <td>183.0</td>\n",
       "      <td>2808.0</td>\n",
       "      <td>93.0</td>\n",
       "      <td>29.0</td>\n",
       "      <td>108.0</td>\n",
       "      <td>46.0</td>\n",
       "    </tr>\n",
       "    <tr>\n",
       "      <th>93.5</th>\n",
       "      <td>160.0</td>\n",
       "      <td>2831.0</td>\n",
       "      <td>93.5</td>\n",
       "      <td>27.0</td>\n",
       "      <td>103.0</td>\n",
       "      <td>30.0</td>\n",
       "    </tr>\n",
       "  </tbody>\n",
       "</table>\n",
       "<p>91 rows × 6 columns</p>\n",
       "</div>"
      ],
      "text/plain": [
       "      progenitor_pop_size  whole_pop_size  time  size_type_RG  size_type_IP  \\\n",
       "49.0                  3.0             3.0  49.0           9.0           NaN   \n",
       "49.0                  9.0             9.0  49.0           9.0           NaN   \n",
       "49.5                 11.0            11.0  49.5          10.0           1.0   \n",
       "50.0                 11.0            11.0  50.0          10.0           1.0   \n",
       "50.5                 16.0            16.0  50.5          14.0           2.0   \n",
       "...                   ...             ...   ...           ...           ...   \n",
       "91.5                193.0          2722.0  91.5          34.0         116.0   \n",
       "92.0                171.0          2743.0  92.0          35.0         118.0   \n",
       "92.5                181.0          2771.0  92.5          31.0         115.0   \n",
       "93.0                183.0          2808.0  93.0          29.0         108.0   \n",
       "93.5                160.0          2831.0  93.5          27.0         103.0   \n",
       "\n",
       "      size_type_PostMitotic  \n",
       "49.0                    NaN  \n",
       "49.0                    NaN  \n",
       "49.5                    NaN  \n",
       "50.0                    NaN  \n",
       "50.5                    NaN  \n",
       "...                     ...  \n",
       "91.5                   43.0  \n",
       "92.0                   18.0  \n",
       "92.5                   35.0  \n",
       "93.0                   46.0  \n",
       "93.5                   30.0  \n",
       "\n",
       "[91 rows x 6 columns]"
      ]
     },
     "execution_count": 22,
     "metadata": {},
     "output_type": "execute_result"
    }
   ],
   "source": [
    "bb.stats"
   ]
  },
  {
   "cell_type": "code",
   "execution_count": 42,
   "metadata": {},
   "outputs": [
    {
     "data": {
      "text/plain": [
       "<submodels.bistate1.CellBiStateBasic at 0x7ff63ab51d30>"
      ]
     },
     "execution_count": 42,
     "metadata": {},
     "output_type": "execute_result"
    }
   ],
   "source": [
    "A = bb.root_population[0]\n",
    "A"
   ]
  },
  {
   "cell_type": "code",
   "execution_count": 24,
   "metadata": {},
   "outputs": [],
   "source": [
    "tree = tree_from_cell(A)"
   ]
  },
  {
   "cell_type": "code",
   "execution_count": 30,
   "metadata": {},
   "outputs": [
    {
     "name": "stdout",
     "output_type": "stream",
     "text": [
      "1981\n"
     ]
    }
   ],
   "source": [
    "for node in tree.get_leaves():\n",
    "    print(node.name)\n",
    "    break"
   ]
  },
  {
   "cell_type": "code",
   "execution_count": 50,
   "metadata": {
    "scrolled": true
   },
   "outputs": [
    {
     "data": {
      "text/plain": [
       "74.5"
      ]
     },
     "execution_count": 50,
     "metadata": {},
     "output_type": "execute_result"
    }
   ],
   "source": [
    "bb.population[1981].appear_time"
   ]
  },
  {
   "cell_type": "code",
   "execution_count": 43,
   "metadata": {},
   "outputs": [
    {
     "data": {
      "text/plain": [
       "(Tree node '0' (0x7ff63cfdd24),\n",
       " Tree node '23' (-0x7ffff800977cc169),\n",
       " Tree node '47' (-0x7ffff800977cb7e0),\n",
       " Tree node '89' (0x7ff6883599b))"
      ]
     },
     "execution_count": 43,
     "metadata": {},
     "output_type": "execute_result"
    }
   ],
   "source": [
    "a = tree.get_children()[0]\n",
    "b = a.get_children()[0]\n",
    "c = b.get_children()[0]\n",
    "d = c.get_children()[0]\n",
    "a, b, c, d"
   ]
  },
  {
   "cell_type": "code",
   "execution_count": 49,
   "metadata": {},
   "outputs": [
    {
     "name": "stdout",
     "output_type": "stream",
     "text": [
      "Counter({<CellTypeClassic.PostMitotic: 2>: 360, <CellTypeClassic.IP: 1>: 257, <CellTypeClassic.RG: 0>: 138})\n",
      "Counter({<CellTypeClassic.PostMitotic: 2>: 360, <CellTypeClassic.IP: 1>: 15, <CellTypeClassic.RG: 0>: 3})\n",
      "Counter({<CellTypeClassic.PostMitotic: 2>: 287, <CellTypeClassic.IP: 1>: 208, <CellTypeClassic.RG: 0>: 114})\n",
      "Counter({<CellTypeClassic.PostMitotic: 2>: 287, <CellTypeClassic.IP: 1>: 15, <CellTypeClassic.RG: 0>: 3})\n",
      "Counter({<CellTypeClassic.PostMitotic: 2>: 283, <CellTypeClassic.IP: 1>: 205, <CellTypeClassic.RG: 0>: 113})\n",
      "Counter({<CellTypeClassic.PostMitotic: 2>: 283, <CellTypeClassic.IP: 1>: 15, <CellTypeClassic.RG: 0>: 3})\n",
      "Counter({<CellTypeClassic.PostMitotic: 2>: 109, <CellTypeClassic.IP: 1>: 83, <CellTypeClassic.RG: 0>: 51})\n",
      "Counter({<CellTypeClassic.PostMitotic: 2>: 109, <CellTypeClassic.IP: 1>: 11, <CellTypeClassic.RG: 0>: 2})\n"
     ]
    }
   ],
   "source": [
    "from collections import Counter\n",
    "\n",
    "def count_total_progeny(cell, brain, only_leaves=True):\n",
    "    if isinstance(cell, int):\n",
    "        cell = brain.population[cell]\n",
    "        \n",
    "    tree = tree_from_cell(cell)\n",
    "    if only_leaves:\n",
    "        nodes = tree.get_leaves()\n",
    "    else:\n",
    "        nodes = list(tree.traverse())\n",
    "        nodes = [n for n in nodes if isinstance(n.name, int)]\n",
    "        \n",
    "    res = Counter(list(map(lambda x: brain.population[x.name].type(), nodes)))\n",
    "    return res\n",
    "\n",
    "print(count_total_progeny(A, bb, only_leaves=False))\n",
    "print(count_total_progeny(A, bb, only_leaves=True))\n",
    "\n",
    "print(count_total_progeny(b.name, bb, only_leaves=False))\n",
    "print(count_total_progeny(b.name, bb, only_leaves=True))\n",
    "\n",
    "print(count_total_progeny(c.name, bb, only_leaves=False))\n",
    "print(count_total_progeny(c.name, bb, only_leaves=True))\n",
    "\n",
    "print(count_total_progeny(d.name, bb, only_leaves=False))\n",
    "print(count_total_progeny(d.name, bb, only_leaves=True))"
   ]
  },
  {
   "cell_type": "code",
   "execution_count": 57,
   "metadata": {},
   "outputs": [
    {
     "data": {
      "text/html": [
       "<div>\n",
       "<style scoped>\n",
       "    .dataframe tbody tr th:only-of-type {\n",
       "        vertical-align: middle;\n",
       "    }\n",
       "\n",
       "    .dataframe tbody tr th {\n",
       "        vertical-align: top;\n",
       "    }\n",
       "\n",
       "    .dataframe thead th {\n",
       "        text-align: right;\n",
       "    }\n",
       "</style>\n",
       "<table border=\"1\" class=\"dataframe\">\n",
       "  <thead>\n",
       "    <tr style=\"text-align: right;\">\n",
       "      <th></th>\n",
       "      <th>cell</th>\n",
       "      <th>appear_time</th>\n",
       "      <th>type</th>\n",
       "    </tr>\n",
       "  </thead>\n",
       "  <tbody>\n",
       "    <tr>\n",
       "      <th>0</th>\n",
       "      <td>0</td>\n",
       "      <td>49.0</td>\n",
       "      <td>RG</td>\n",
       "    </tr>\n",
       "    <tr>\n",
       "      <th>1</th>\n",
       "      <td>1</td>\n",
       "      <td>49.0</td>\n",
       "      <td>RG</td>\n",
       "    </tr>\n",
       "    <tr>\n",
       "      <th>2</th>\n",
       "      <td>2</td>\n",
       "      <td>49.0</td>\n",
       "      <td>RG</td>\n",
       "    </tr>\n",
       "    <tr>\n",
       "      <th>3</th>\n",
       "      <td>3</td>\n",
       "      <td>49.0</td>\n",
       "      <td>RG</td>\n",
       "    </tr>\n",
       "    <tr>\n",
       "      <th>4</th>\n",
       "      <td>4</td>\n",
       "      <td>49.0</td>\n",
       "      <td>RG</td>\n",
       "    </tr>\n",
       "    <tr>\n",
       "      <th>...</th>\n",
       "      <td>...</td>\n",
       "      <td>...</td>\n",
       "      <td>...</td>\n",
       "    </tr>\n",
       "    <tr>\n",
       "      <th>5648</th>\n",
       "      <td>5648</td>\n",
       "      <td>93.5</td>\n",
       "      <td>PostMitotic</td>\n",
       "    </tr>\n",
       "    <tr>\n",
       "      <th>5649</th>\n",
       "      <td>5649</td>\n",
       "      <td>93.5</td>\n",
       "      <td>PostMitotic</td>\n",
       "    </tr>\n",
       "    <tr>\n",
       "      <th>5650</th>\n",
       "      <td>5650</td>\n",
       "      <td>93.5</td>\n",
       "      <td>PostMitotic</td>\n",
       "    </tr>\n",
       "    <tr>\n",
       "      <th>5651</th>\n",
       "      <td>5651</td>\n",
       "      <td>93.5</td>\n",
       "      <td>IP</td>\n",
       "    </tr>\n",
       "    <tr>\n",
       "      <th>5652</th>\n",
       "      <td>5652</td>\n",
       "      <td>93.5</td>\n",
       "      <td>IP</td>\n",
       "    </tr>\n",
       "  </tbody>\n",
       "</table>\n",
       "<p>5653 rows × 3 columns</p>\n",
       "</div>"
      ],
      "text/plain": [
       "      cell  appear_time         type\n",
       "0        0         49.0           RG\n",
       "1        1         49.0           RG\n",
       "2        2         49.0           RG\n",
       "3        3         49.0           RG\n",
       "4        4         49.0           RG\n",
       "...    ...          ...          ...\n",
       "5648  5648         93.5  PostMitotic\n",
       "5649  5649         93.5  PostMitotic\n",
       "5650  5650         93.5  PostMitotic\n",
       "5651  5651         93.5           IP\n",
       "5652  5652         93.5           IP\n",
       "\n",
       "[5653 rows x 3 columns]"
      ]
     },
     "execution_count": 57,
     "metadata": {},
     "output_type": "execute_result"
    }
   ],
   "source": [
    "def df_cells(pop):\n",
    "    times = list(map(lambda x: x.appear_time, pop.values()))\n",
    "    types = list(map(lambda x: x.type().name, pop.values()))\n",
    "    index = list(map(lambda x: x.index, pop.values()))\n",
    "    return pd.DataFrame({\"cell\": index, \"appear_time\": times, \"type\": types})\n",
    "\n",
    "df_cells(bb.population)"
   ]
  },
  {
   "cell_type": "code",
   "execution_count": 83,
   "metadata": {},
   "outputs": [],
   "source": [
    "def progeny_along_time(brain, _type=\"RG\", only_leaves=True, window=2.):\n",
    "    df = df_cells(brain.population)\n",
    "    \n",
    "    ret_df = pd.DataFrame()\n",
    "    \n",
    "    times = sorted(df[\"appear_time\"].unique())\n",
    "    min_time = min(df[\"appear_time\"])\n",
    "    max_time = max(df[\"appear_time\"])\n",
    "    for T in np.arange(min_time, max_time, window):\n",
    "        count_T = Counter()\n",
    "        df_T = df[(df[\"appear_time\"] >= T) & (df[\"appear_time\"] < T + window) & (df[\"type\"] == _type)]\n",
    "        N = len(df_T)\n",
    "        if not N:\n",
    "            continue\n",
    "            \n",
    "        for i, cell in df_T.iterrows():\n",
    "            progeny = count_total_progeny(cell[\"cell\"], brain, only_leaves=only_leaves)\n",
    "            count_T.update(progeny)\n",
    "            \n",
    "        new_row = dict(count_T)\n",
    "        new_row = {k.name: v / N for k, v in new_row.items()}\n",
    "        new_row[\"time\"] = T\n",
    "        ret_df = ret_df.append(new_row, ignore_index=True)\n",
    "        \n",
    "    ret_df = ret_df.fillna(0.0)\n",
    "        \n",
    "    return ret_df\n",
    "        \n",
    "progeny = progeny_along_time(bb)"
   ]
  },
  {
   "cell_type": "code",
   "execution_count": null,
   "metadata": {},
   "outputs": [],
   "source": [
    "plt.plot(progeny[\"time\"], progeny[\"RG\"])\n",
    "plt.plot(progeny[\"time\"], progeny[\"RG\"] + progeny[\"IP\"])"
   ]
  },
  {
   "cell_type": "code",
   "execution_count": 92,
   "metadata": {},
   "outputs": [
    {
     "data": {
      "image/png": "[encoded data removed]",
      "text/plain": [
       "<Figure size 864x576 with 1 Axes>"
      ]
     },
     "metadata": {
      "needs_background": "light"
     },
     "output_type": "display_data"
    }
   ],
   "source": [
    "# plotting\n",
    "def plot_progeny(progeny):\n",
    "    plt.figure(figsize=(12, 8))\n",
    "    types = set(progeny.columns) - {\"time\"}\n",
    "    \n",
    "    cum = 0\n",
    "    for t_ in types:\n",
    "        plt.plot(progeny[\"time\"], cum + progeny[t_])\n",
    "        plt.fill_between(progeny[\"time\"], cum, cum + progeny[t_], label=t_)\n",
    "        cum += progeny[t_]\n",
    "        \n",
    "    plt.legend()\n",
    "\n",
    "plot_progeny(progeny)"
   ]
  },
  {
   "cell_type": "code",
   "execution_count": 93,
   "metadata": {},
   "outputs": [
    {
     "data": {
      "image/png": "[encoded data removed]",
      "text/plain": [
       "<Figure size 864x576 with 1 Axes>"
      ]
     },
     "metadata": {
      "needs_background": "light"
     },
     "output_type": "display_data"
    }
   ],
   "source": [
    "progeny_all = progeny_along_time(bb, only_leaves=False)\n",
    "plot_progeny(progeny_all)"
   ]
  },
  {
   "cell_type": "code",
   "execution_count": 25,
   "metadata": {},
   "outputs": [
    {
     "ename": "RuntimeError",
     "evalue": "No active exception to reraise",
     "output_type": "error",
     "traceback": [
      "\u001b[0;31m---------------------------------------------------------------------------\u001b[0m",
      "\u001b[0;31mRuntimeError\u001b[0m                              Traceback (most recent call last)",
      "\u001b[0;32m<ipython-input-25-9c9a2cba73bf>\u001b[0m in \u001b[0;36m<module>\u001b[0;34m\u001b[0m\n\u001b[0;32m----> 1\u001b[0;31m \u001b[0;32mraise\u001b[0m\u001b[0;34m\u001b[0m\u001b[0;34m\u001b[0m\u001b[0m\n\u001b[0m",
      "\u001b[0;31mRuntimeError\u001b[0m: No active exception to reraise"
     ]
    }
   ],
   "source": [
    "raise"
   ]
  },
  {
   "cell_type": "markdown",
   "metadata": {},
   "source": [
    "## Experimenting"
   ]
  },
  {
   "cell_type": "code",
   "execution_count": null,
   "metadata": {},
   "outputs": [],
   "source": [
    "def condition_number(obj):\n",
    "    dist = obj.get_final_dist(\"whole_pop_size\")\n",
    "    mu, sigma, N = np.mean(dist), np.std(dist), len(dist)\n",
    "    if N < 3:\n",
    "        return False\n",
    "    CI = stats.norm.interval(0.90, loc=mu, scale=sigma/np.sqrt(N))\n",
    "    _range = CI[1] - CI[0]\n",
    "    \n",
    "    cond = _range < 0.01 * mu  # relative\n",
    "    if cond:\n",
    "        print(_range, 0.01 * mu, np.min(dist), np.max(dist), np.percentile(dist, 10), np.percentile(dist, 90))\n",
    "        \n",
    "    return cond\n",
    "\n",
    "# robustness = 1 / unstability\n",
    "def run_robustness_analysis(coeff=1.1, number=30, seed=0, start_population=5, max_number=200):\n",
    "    results = pd.DataFrame(dict(param=[],\n",
    "                               coeff=[],\n",
    "                               variation_neuron=[],\n",
    "                               neurons_std=[],\n",
    "                               baseline_neuron=[],\n",
    "                               baseline_neuron_std=[],\n",
    "                               unstability_neuron=[],\n",
    "                               robustness_neuron=[],\n",
    "                               variation_ratio=[],\n",
    "                               ratio_std=[],\n",
    "                               baseline_ratio=[],\n",
    "                               baseline_ratio_std=[],\n",
    "                               unstability_ratio=[],\n",
    "                               robustness_ratio=[]))\n",
    "    \n",
    "    # get baselines\n",
    "    print(\"Computing baselines\")\n",
    "    random.seed(seed)\n",
    "    np.random.seed(seed)\n",
    "    # ccls = BiStateModelFactory()\n",
    "    t_ = (\"bistate1\", (), {})\n",
    "    exp = Experiment(time_step=0.5, verbose=False, start_population=start_population,\n",
    "                     cell_cls=t_, max_number=max_number,\n",
    "                     check=False, cls_=Brain)\n",
    "    exp.run_parallel(condition_number)\n",
    "    baseline_neuron = exp.get_final(\"whole_pop_size\")\n",
    "    baseline_neuron_std = exp.get_final_std(\"whole_pop_size\", mean=True)\n",
    "    baseline_ratio = exp.get_final_ratio()\n",
    "    baseline_ratio_std = exp.get_final_ratio_std()\n",
    "    \n",
    "    plt.ioff()\n",
    "    print(\"Starting Robustness experiment\")\n",
    "    for param in [\"tc_coeff_RG\", \"tc_coeff_IP\", \"diff_coeff_RG\", \"diff_coeff_IP\"]:\n",
    "        for t in range(4):\n",
    "            kw = {param: [1. if i != t else coeff for i in range(5)]}\n",
    "            print(f\"{param}_{t} with {kw}\")\n",
    "            ccls = BiStateModelFactory(**kw)\n",
    "            t_ = (\"bistate1\", (), kw)\n",
    "            random.seed(seed)\n",
    "            np.random.seed(seed)\n",
    "            exp = Experiment(time_step=0.5, verbose=False, start_population=start_population,\n",
    "                             cell_cls=t_, number=number, max_number=max_number,\n",
    "                             check=False, cls_=Brain)\n",
    "            exp.run_parallel(condition_number)\n",
    "            \n",
    "            neurons = exp.get_final(\"whole_pop_size\")\n",
    "            print(exp.get_final_dist(\"whole_pop_size\"))\n",
    "            neurons_std = exp.get_final_std(\"whole_pop_size\", mean=True)\n",
    "            print(neurons_std)\n",
    "            ratio = exp.get_final_ratio()\n",
    "            ratio_std = exp.get_final_ratio_std()\n",
    "            \n",
    "            unstability_neuron = (neurons - baseline_neuron) / baseline_neuron\n",
    "            unstability_ratio = (ratio - baseline_ratio) / baseline_ratio\n",
    "            \n",
    "            dd = dict(\n",
    "                param=param + \"_\" + str(t),\n",
    "                coeff=coeff,\n",
    "                variation_neuron=neurons - baseline_neuron,\n",
    "                baseline_neuron=baseline_neuron,\n",
    "                baseline_neuron_std=baseline_neuron_std,\n",
    "                neurons_std=neurons_std,\n",
    "                unstability_neuron=unstability_neuron,\n",
    "                robustness_neuron=abs(1 / (1e-6 + unstability_neuron)),\n",
    "                variation_ratio=ratio - baseline_ratio,\n",
    "                ratio_std=ratio_std,\n",
    "                baseline_ratio=baseline_ratio,\n",
    "                baseline_ratio_std=baseline_ratio_std,\n",
    "                unstability_ratio=unstability_ratio,\n",
    "                robustness_ratio=abs(1 / (1e-6 + unstability_ratio)),\n",
    "            )\n",
    "            results = results.append(dd, ignore_index=True)\n",
    "            \n",
    "            # saving figures\n",
    "            exp.show_pop()\n",
    "            plt.savefig(f\"output/stack/population_{param}_{t}.png\")\n",
    "            plt.close()\n",
    "            exp.show_progenitor_pop()\n",
    "            plt.savefig(f\"output/stack/progenitor_{param}_{t}.png\")\n",
    "            plt.close()\n",
    "            exp.show_ratio_IP(ratio_eomes)\n",
    "            plt.savefig(f\"output/stack/ratio_IP_{param}_{t}.png\")\n",
    "            plt.close()\n",
    "\n",
    "    plt.close()\n",
    "    plt.ion()\n",
    "    return results"
   ]
  },
  {
   "cell_type": "code",
   "execution_count": null,
   "metadata": {},
   "outputs": [],
   "source": [
    "# random.seed(0+0)\n",
    "# np.random.seed(0+0)\n",
    "# ccls = BiStateModelFactory(tc_coeff_RG=[1., 1., 1., 1., 1.])\n",
    "# bb = Brain(time_step=0.5, verbose=False, start_population=3, cell_cls=CellBasic, check=False)\n",
    "# bb.run()\n",
    "# raise"
   ]
  },
  {
   "cell_type": "code",
   "execution_count": null,
   "metadata": {
    "scrolled": true
   },
   "outputs": [],
   "source": [
    "results = run_robustness_analysis(number=30, seed=0, start_population=5, max_number=200)\n",
    "results.to_csv(\"output/robustness_rect4.csv\")\n",
    "results.head()"
   ]
  },
  {
   "cell_type": "code",
   "execution_count": null,
   "metadata": {},
   "outputs": [],
   "source": [
    "results"
   ]
  },
  {
   "cell_type": "code",
   "execution_count": null,
   "metadata": {},
   "outputs": [],
   "source": [
    "raise"
   ]
  },
  {
   "cell_type": "code",
   "execution_count": null,
   "metadata": {},
   "outputs": [],
   "source": [
    "results.append(dict(param=0,\n",
    "                   coeff=0,\n",
    "                   variation=0,\n",
    "                   baseline=0,\n",
    "                   unstability=0,\n",
    "                   robustness=0), ignore_index=True)"
   ]
  },
  {
   "cell_type": "code",
   "execution_count": null,
   "metadata": {},
   "outputs": [],
   "source": [
    "plt.figure(figsize=(20, 20))\n",
    "Counter(dict(bb.gpn.G.degree()).values())"
   ]
  },
  {
   "cell_type": "code",
   "execution_count": null,
   "metadata": {},
   "outputs": [],
   "source": [
    "bb.stats"
   ]
  },
  {
   "cell_type": "code",
   "execution_count": null,
   "metadata": {},
   "outputs": [],
   "source": [
    "plt.figure(figsize=(10, 10))\n",
    "p1 = plt.plot(bb.stats.time, bb.stats.progenitor_pop_size, label=\"Progenitor population\")\n",
    "p2 = plt.plot(bb.stats.time, bb.stats.whole_pop_size, label=\"Whole Population\")\n",
    "plt.legend()\n",
    "# plt.legend((p1, p2), (\"Progenitor population\", \"Whole Population\"))"
   ]
  },
  {
   "cell_type": "code",
   "execution_count": null,
   "metadata": {},
   "outputs": [],
   "source": [
    "plt.figure(figsize=(10, 10))\n",
    "plt.plot(bb.stats.time, bb.stats.size_type_RG, label=\"RG number\")\n",
    "plt.plot(bb.stats.time, bb.stats.size_type_IP, label=\"IP number\")\n",
    "plt.legend()"
   ]
  },
  {
   "cell_type": "code",
   "execution_count": null,
   "metadata": {},
   "outputs": [],
   "source": [
    "plt.figure(figsize=(10, 10))\n",
    "plt.plot(bb.stats.time, bb.stats.size_type_IP / (bb.stats.size_type_RG + bb.stats.size_type_IP),\n",
    "         label=\"IP ratio\")\n",
    "plt.plot(ratio_eomes.index, ratio_eomes.val / 100, label=\"Reference IP ratio\")\n",
    "plt.legend()"
   ]
  },
  {
   "cell_type": "code",
   "execution_count": null,
   "metadata": {},
   "outputs": [],
   "source": [
    "raise"
   ]
  }
 ],
 "metadata": {
  "kernelspec": {
   "display_name": "Python 3",
   "language": "python",
   "name": "python3"
  },
  "language_info": {
   "codemirror_mode": {
    "name": "ipython",
    "version": 3
   },
   "file_extension": ".py",
   "mimetype": "text/x-python",
   "name": "python",
   "nbconvert_exporter": "python",
   "pygments_lexer": "ipython3",
   "version": "3.6.9"
  }
 },
 "nbformat": 4,
 "nbformat_minor": 4
}
