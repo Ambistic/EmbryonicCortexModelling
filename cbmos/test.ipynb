{
 "cells": [
  {
   "cell_type": "markdown",
   "metadata": {},
   "source": [
    "# Agent-based model\n",
    "\n",
    "This is a model of embryonic neocortex population, using an agent-based framework.\n",
    "This means that we create cells, on we sample a Tc from the age-related distribution.\n",
    "At the end of cell cycle, the fate decision for the daughters are.\n",
    "\n",
    "The model starts at E48, where we have the first data.\n",
    "\n",
    "Data will be of different types :\n",
    "\n",
    "Tc:\n",
    "- Population level estimation\n",
    "- Cell level estimation\n",
    "\n",
    "Differentiation:\n",
    "- Cell level estimation\n",
    "\n",
    "Number of progenitors:\n",
    "- Ki67 ratio in GZ\n",
    "- Ratio of Tbr2+ and Sox2+\n",
    "\n",
    "Number of cells:\n",
    "- Relative volume from Histo + MRI\n",
    "- Density of cells\n",
    "\n",
    "We will have to discuss quality of the data"
   ]
  },
  {
   "cell_type": "code",
   "execution_count": 1,
   "metadata": {},
   "outputs": [],
   "source": [
    "# imports\n",
    "import numpy as np\n",
    "import seaborn as sns\n",
    "import tqdm\n",
    "import random\n",
    "import matplotlib.pyplot as plt\n",
    "import os\n",
    "import pandas as pd\n",
    "from numpy.random import choice\n",
    "from scipy.interpolate import splev, splrep, interp1d\n",
    "from scipy import stats\n",
    "from collections import Counter\n",
    "from model import AbstractCell, Action, Brain, Submodels\n",
    "from submodels.cellbasic1 import CellBasic\n",
    "from submodels.bistate1 import BiStateModelFactory\n",
    "from submodels.tristate1 import TriStateModelFactory\n",
    "from submodels import factories"
   ]
  },
  {
   "cell_type": "code",
   "execution_count": 2,
   "metadata": {
    "scrolled": true
   },
   "outputs": [
    {
     "name": "stdout",
     "output_type": "stream",
     "text": [
      "Ticking abs : 49.0, step : 0.5\n",
      "Ticking abs : 49.5, step : 0.5\n",
      "Ticking abs : 50.0, step : 0.5\n",
      "Ticking abs : 50.5, step : 0.5\n",
      "Ticking abs : 51.0, step : 0.5\n",
      "Ticking abs : 51.5, step : 0.5\n",
      "Ticking abs : 52.0, step : 0.5\n",
      "Ticking abs : 52.5, step : 0.5\n",
      "Ticking abs : 53.0, step : 0.5\n",
      "Ticking abs : 53.5, step : 0.5\n",
      "Ticking abs : 54.0, step : 0.5\n",
      "Ticking abs : 54.5, step : 0.5\n",
      "Ticking abs : 55.0, step : 0.5\n",
      "Ticking abs : 55.5, step : 0.5\n",
      "Ticking abs : 56.0, step : 0.5\n",
      "Ticking abs : 56.5, step : 0.5\n",
      "Ticking abs : 57.0, step : 0.5\n",
      "Ticking abs : 57.5, step : 0.5\n",
      "Ticking abs : 58.0, step : 0.5\n",
      "Ticking abs : 58.5, step : 0.5\n",
      "Ticking abs : 59.0, step : 0.5\n",
      "Ticking abs : 59.5, step : 0.5\n",
      "Ticking abs : 60.0, step : 0.5\n",
      "Ticking abs : 60.5, step : 0.5\n",
      "Ticking abs : 61.0, step : 0.5\n",
      "Ticking abs : 61.5, step : 0.5\n",
      "Ticking abs : 62.0, step : 0.5\n",
      "Ticking abs : 62.5, step : 0.5\n",
      "Ticking abs : 63.0, step : 0.5\n",
      "Ticking abs : 63.5, step : 0.5\n",
      "Ticking abs : 64.0, step : 0.5\n",
      "Ticking abs : 64.5, step : 0.5\n",
      "Ticking abs : 65.0, step : 0.5\n",
      "Ticking abs : 65.5, step : 0.5\n",
      "Ticking abs : 66.0, step : 0.5\n",
      "Ticking abs : 66.5, step : 0.5\n",
      "Ticking abs : 67.0, step : 0.5\n",
      "Ticking abs : 67.5, step : 0.5\n",
      "Ticking abs : 68.0, step : 0.5\n",
      "Ticking abs : 68.5, step : 0.5\n",
      "Ticking abs : 69.0, step : 0.5\n",
      "Ticking abs : 69.5, step : 0.5\n",
      "Ticking abs : 70.0, step : 0.5\n",
      "Ticking abs : 70.5, step : 0.5\n",
      "Ticking abs : 71.0, step : 0.5\n",
      "Ticking abs : 71.5, step : 0.5\n",
      "Ticking abs : 72.0, step : 0.5\n",
      "Ticking abs : 72.5, step : 0.5\n",
      "Ticking abs : 73.0, step : 0.5\n",
      "Ticking abs : 73.5, step : 0.5\n",
      "Ticking abs : 74.0, step : 0.5\n",
      "Ticking abs : 74.5, step : 0.5\n",
      "Ticking abs : 75.0, step : 0.5\n",
      "Ticking abs : 75.5, step : 0.5\n",
      "Ticking abs : 76.0, step : 0.5\n",
      "Ticking abs : 76.5, step : 0.5\n",
      "Ticking abs : 77.0, step : 0.5\n",
      "Ticking abs : 77.5, step : 0.5\n",
      "Ticking abs : 78.0, step : 0.5\n",
      "Ticking abs : 78.5, step : 0.5\n",
      "Ticking abs : 79.0, step : 0.5\n",
      "Ticking abs : 79.5, step : 0.5\n",
      "Ticking abs : 80.0, step : 0.5\n",
      "Ticking abs : 80.5, step : 0.5\n",
      "Ticking abs : 81.0, step : 0.5\n",
      "Ticking abs : 81.5, step : 0.5\n",
      "Ticking abs : 82.0, step : 0.5\n",
      "Ticking abs : 82.5, step : 0.5\n",
      "Ticking abs : 83.0, step : 0.5\n",
      "Ticking abs : 83.5, step : 0.5\n",
      "Ticking abs : 84.0, step : 0.5\n",
      "Ticking abs : 84.5, step : 0.5\n",
      "Ticking abs : 85.0, step : 0.5\n",
      "Ticking abs : 85.5, step : 0.5\n",
      "Ticking abs : 86.0, step : 0.5\n",
      "Ticking abs : 86.5, step : 0.5\n",
      "Ticking abs : 87.0, step : 0.5\n",
      "Ticking abs : 87.5, step : 0.5\n",
      "Ticking abs : 88.0, step : 0.5\n",
      "Ticking abs : 88.5, step : 0.5\n",
      "Ticking abs : 89.0, step : 0.5\n",
      "Ticking abs : 89.5, step : 0.5\n",
      "Ticking abs : 90.0, step : 0.5\n",
      "Ticking abs : 90.5, step : 0.5\n",
      "Ticking abs : 91.0, step : 0.5\n",
      "Ticking abs : 91.5, step : 0.5\n",
      "Ticking abs : 92.0, step : 0.5\n",
      "Ticking abs : 92.5, step : 0.5\n",
      "Ticking abs : 93.0, step : 0.5\n",
      "Ticking abs : 93.5, step : 0.5\n"
     ]
    }
   ],
   "source": [
    "random.seed(0+0)\n",
    "np.random.seed(0+0)\n",
    "\n",
    "ccls = BiStateModelFactory(\n",
    "    diff_values_RG=[0.63, 0.53, 0.43, 0.38, 0.33], # rather RG_low\n",
    "    diff_values_RG_GP=[1., 1., 1., 0.8, 0.6], # rather RG_high\n",
    "    diff_values_IP=[0.23, 0.23, 0.23, 0.23, 0.23],\n",
    ")\n",
    "bb = Brain(time_step=0.5, verbose=False, start_population=6,\n",
    "           cell_cls=ccls.generate, rA=2.5, a=4.6)\n",
    "bb.run()"
   ]
  },
  {
   "cell_type": "code",
   "execution_count": 3,
   "metadata": {
    "scrolled": true
   },
   "outputs": [
    {
     "data": {
      "text/html": [
       "<div>\n",
       "<style scoped>\n",
       "    .dataframe tbody tr th:only-of-type {\n",
       "        vertical-align: middle;\n",
       "    }\n",
       "\n",
       "    .dataframe tbody tr th {\n",
       "        vertical-align: top;\n",
       "    }\n",
       "\n",
       "    .dataframe thead th {\n",
       "        text-align: right;\n",
       "    }\n",
       "</style>\n",
       "<table border=\"1\" class=\"dataframe\">\n",
       "  <thead>\n",
       "    <tr style=\"text-align: right;\">\n",
       "      <th></th>\n",
       "      <th>progenitor_pop_size</th>\n",
       "      <th>size_type_RG</th>\n",
       "      <th>time</th>\n",
       "      <th>whole_pop_size</th>\n",
       "      <th>size_type_IP</th>\n",
       "      <th>size_type_PostMitotic</th>\n",
       "    </tr>\n",
       "  </thead>\n",
       "  <tbody>\n",
       "    <tr>\n",
       "      <th>91.5</th>\n",
       "      <td>81.0</td>\n",
       "      <td>6.0</td>\n",
       "      <td>91.5</td>\n",
       "      <td>3893.0</td>\n",
       "      <td>50.0</td>\n",
       "      <td>25.0</td>\n",
       "    </tr>\n",
       "    <tr>\n",
       "      <th>92.0</th>\n",
       "      <td>66.0</td>\n",
       "      <td>5.0</td>\n",
       "      <td>92.0</td>\n",
       "      <td>3903.0</td>\n",
       "      <td>46.0</td>\n",
       "      <td>15.0</td>\n",
       "    </tr>\n",
       "    <tr>\n",
       "      <th>92.5</th>\n",
       "      <td>63.0</td>\n",
       "      <td>4.0</td>\n",
       "      <td>92.5</td>\n",
       "      <td>3915.0</td>\n",
       "      <td>46.0</td>\n",
       "      <td>13.0</td>\n",
       "    </tr>\n",
       "    <tr>\n",
       "      <th>93.0</th>\n",
       "      <td>62.0</td>\n",
       "      <td>3.0</td>\n",
       "      <td>93.0</td>\n",
       "      <td>3927.0</td>\n",
       "      <td>47.0</td>\n",
       "      <td>12.0</td>\n",
       "    </tr>\n",
       "    <tr>\n",
       "      <th>93.5</th>\n",
       "      <td>58.0</td>\n",
       "      <td>3.0</td>\n",
       "      <td>93.5</td>\n",
       "      <td>3935.0</td>\n",
       "      <td>45.0</td>\n",
       "      <td>10.0</td>\n",
       "    </tr>\n",
       "  </tbody>\n",
       "</table>\n",
       "</div>"
      ],
      "text/plain": [
       "      progenitor_pop_size  size_type_RG  time  whole_pop_size  size_type_IP  \\\n",
       "91.5                 81.0           6.0  91.5          3893.0          50.0   \n",
       "92.0                 66.0           5.0  92.0          3903.0          46.0   \n",
       "92.5                 63.0           4.0  92.5          3915.0          46.0   \n",
       "93.0                 62.0           3.0  93.0          3927.0          47.0   \n",
       "93.5                 58.0           3.0  93.5          3935.0          45.0   \n",
       "\n",
       "      size_type_PostMitotic  \n",
       "91.5                   25.0  \n",
       "92.0                   15.0  \n",
       "92.5                   13.0  \n",
       "93.0                   12.0  \n",
       "93.5                   10.0  "
      ]
     },
     "execution_count": 3,
     "metadata": {},
     "output_type": "execute_result"
    }
   ],
   "source": [
    "bb.stats.tail()"
   ]
  },
  {
   "cell_type": "code",
   "execution_count": 4,
   "metadata": {},
   "outputs": [
    {
     "data": {
      "text/plain": [
       "90"
      ]
     },
     "execution_count": 4,
     "metadata": {},
     "output_type": "execute_result"
    }
   ],
   "source": [
    "len(bb.tissue.history)"
   ]
  },
  {
   "cell_type": "code",
   "execution_count": 13,
   "metadata": {},
   "outputs": [],
   "source": [
    "h = [c.position for c in bb.tissue.history[-1]]"
   ]
  },
  {
   "cell_type": "code",
   "execution_count": 14,
   "metadata": {},
   "outputs": [
    {
     "data": {
      "text/plain": [
       "[array([ 2.28543304, -0.47917035]),\n",
       " array([ 1.36303075, -1.37744146]),\n",
       " array([ 3.41729416, -3.6873874 ]),\n",
       " array([ 3.12611805, -1.0959815 ]),\n",
       " array([2.18579947, 0.30991925]),\n",
       " array([ 3.0665687 , -2.74773272]),\n",
       " array([0.82447754, 2.65965742]),\n",
       " array([-1.45457209,  4.44289563]),\n",
       " array([-0.72655202,  0.28593265]),\n",
       " array([ 5.36018109, -1.18862171]),\n",
       " array([0.79863407, 0.94892974]),\n",
       " array([ 3.03577934, -4.48119733]),\n",
       " array([ 1.5102808 , -0.50403587]),\n",
       " array([ 5.57336936, -2.14315873]),\n",
       " array([-0.74348072, -1.49651861]),\n",
       " array([-6.10930327e-04,  4.26955226e+00]),\n",
       " array([ 4.61890635, -1.39517692]),\n",
       " array([ 2.59405208, -3.58090326]),\n",
       " array([ 5.86522458, -0.22180626]),\n",
       " array([ 3.06835068, -0.16437038]),\n",
       " array([-2.11357701,  1.89778507]),\n",
       " array([-0.72960565,  1.89682335]),\n",
       " array([-0.56455039,  2.83381321]),\n",
       " array([ 3.5743194 , -2.04215749]),\n",
       " array([ 2.33721818, -2.69114218]),\n",
       " array([1.88169124, 1.21350754]),\n",
       " array([4.97485236, 0.11612032]),\n",
       " array([1.09826835, 1.79100254]),\n",
       " array([ 4.08900979, -2.5171396 ]),\n",
       " array([ 4.37459582, -3.58805261]),\n",
       " array([ 1.37306689, -2.34442092]),\n",
       " array([ 2.31884922, -1.18594841]),\n",
       " array([0.12031898, 3.30249722]),\n",
       " array([ 6.20654703, -1.21849267]),\n",
       " array([1.61595497, 3.08698365]),\n",
       " array([ 0.21307947, -1.99132312]),\n",
       " array([-0.77606206,  3.7128973 ]),\n",
       " array([3.97207065, 0.1377346 ]),\n",
       " array([0.09028633, 2.30097706]),\n",
       " array([-1.67383506,  3.46040606]),\n",
       " array([ 0.73269915, -0.36497573]),\n",
       " array([0.27026719, 1.57106   ]),\n",
       " array([ 1.68832514, -3.27975308]),\n",
       " array([ 3.8357813 , -0.74820611]),\n",
       " array([-1.34924597,  1.21430506]),\n",
       " array([ 0.13387417, -1.00861809]),\n",
       " array([ 2.9347413 , -1.89462556]),\n",
       " array([ 4.01635843, -4.41015372]),\n",
       " array([1.88521198, 2.19417631]),\n",
       " array([-1.3856506,  2.556961 ]),\n",
       " array([ 3.72533453, -3.05669616]),\n",
       " array([-0.3325833 ,  1.08824192]),\n",
       " array([0.22915053, 0.31582525]),\n",
       " array([ 3.94409957, -1.52046579]),\n",
       " array([5.556827  , 0.84425635]),\n",
       " array([2.90289857, 0.84334008]),\n",
       " array([ 4.67049713, -0.60662668]),\n",
       " array([1.34871341, 0.39439768]),\n",
       " array([ 4.70046988, -2.1020883 ]),\n",
       " array([ 4.89306663, -2.92531224]),\n",
       " array([ 2.16899194, -1.930431  ]),\n",
       " array([0.88979679, 3.70309455])]"
      ]
     },
     "execution_count": 14,
     "metadata": {},
     "output_type": "execute_result"
    }
   ],
   "source": [
    "h"
   ]
  },
  {
   "cell_type": "code",
   "execution_count": 5,
   "metadata": {},
   "outputs": [],
   "source": [
    "def plot_2d_population(cell_list, color='blue'):\n",
    "    \"\"\"Plot a two dimensional population provided as a list of Cell objects.\"\"\"\n",
    "\n",
    "    fig = plt.figure()\n",
    "    ax = fig.add_subplot(1, 1, 1)\n",
    "    for cell in cell_list:\n",
    "        ax.add_patch(plt.Circle(cell.position, 0.5, color=color, alpha=0.4))\n",
    "        plt.plot(cell.position[0], cell.position[1], '.', color=color)\n",
    "    ax.set_aspect('equal')\n",
    "    plt.show()\n"
   ]
  },
  {
   "cell_type": "code",
   "execution_count": 9,
   "metadata": {},
   "outputs": [
    {
     "data": {
      "image/png": "[encoded data removed]",
      "text/plain": [
       "<Figure size 576x396 with 1 Axes>"
      ]
     },
     "metadata": {},
     "output_type": "display_data"
    }
   ],
   "source": [
    "plot_2d_population(bb.tissue.history[49])"
   ]
  },
  {
   "cell_type": "code",
   "execution_count": 7,
   "metadata": {},
   "outputs": [
    {
     "ename": "RuntimeError",
     "evalue": "No active exception to reraise",
     "output_type": "error",
     "traceback": [
      "\u001b[0;31m---------------------------------------------------------------------------\u001b[0m",
      "\u001b[0;31mRuntimeError\u001b[0m                              Traceback (most recent call last)",
      "\u001b[0;32m<ipython-input-7-9c9a2cba73bf>\u001b[0m in \u001b[0;36m<module>\u001b[0;34m\u001b[0m\n\u001b[0;32m----> 1\u001b[0;31m \u001b[0;32mraise\u001b[0m\u001b[0;34m\u001b[0m\u001b[0;34m\u001b[0m\u001b[0m\n\u001b[0m",
      "\u001b[0;31mRuntimeError\u001b[0m: No active exception to reraise"
     ]
    }
   ],
   "source": [
    "raise"
   ]
  },
  {
   "cell_type": "code",
   "execution_count": null,
   "metadata": {
    "scrolled": true
   },
   "outputs": [],
   "source": [
    "random.seed(0+0)\n",
    "np.random.seed(0+0)\n",
    "ccls = TriStateModelFactory(\n",
    "    diff_values_RG_IP=[0.63, 0.53, 0.43, 0.38, 0.33], # rather RG_low\n",
    "    diff_values_RG_GP=[1., 1., 1., 0.8, 0.6], # rather RG_high\n",
    "    diff_values_IP=[0.23, 0.23, 0.23, 0.23, 0.23],\n",
    ")\n",
    "bb = Brain(time_step=0.5, verbose=False, start_population=8, cell_cls=ccls.generate, check=False)\n",
    "bb.run()"
   ]
  },
  {
   "cell_type": "code",
   "execution_count": null,
   "metadata": {
    "scrolled": true
   },
   "outputs": [],
   "source": [
    "bb.stats.tail()"
   ]
  },
  {
   "cell_type": "code",
   "execution_count": null,
   "metadata": {},
   "outputs": [],
   "source": [
    "from viz import plot_size, plot_ratio\n",
    "plot_size(bb.stats)"
   ]
  },
  {
   "cell_type": "code",
   "execution_count": null,
   "metadata": {},
   "outputs": [],
   "source": [
    "plot_ratio(bb.stats)"
   ]
  },
  {
   "cell_type": "code",
   "execution_count": null,
   "metadata": {},
   "outputs": [],
   "source": [
    "prog = progeny_along_time(bb, only_leaves=True)\n",
    "plot_progeny(prog)"
   ]
  },
  {
   "cell_type": "code",
   "execution_count": null,
   "metadata": {},
   "outputs": [],
   "source": [
    "prog = progeny_along_time(bb, only_leaves=False)\n",
    "plot_progeny(prog)"
   ]
  },
  {
   "cell_type": "code",
   "execution_count": null,
   "metadata": {},
   "outputs": [],
   "source": [
    "A = bb.root_population[0]\n",
    "A"
   ]
  },
  {
   "cell_type": "code",
   "execution_count": null,
   "metadata": {},
   "outputs": [],
   "source": [
    "tree = tree_from_cell(A)"
   ]
  },
  {
   "cell_type": "code",
   "execution_count": null,
   "metadata": {},
   "outputs": [],
   "source": [
    "for node in tree.get_leaves():\n",
    "    print(node.name)\n",
    "    break"
   ]
  },
  {
   "cell_type": "code",
   "execution_count": null,
   "metadata": {
    "scrolled": true
   },
   "outputs": [],
   "source": [
    "bb.population[1981].appear_time"
   ]
  },
  {
   "cell_type": "code",
   "execution_count": null,
   "metadata": {},
   "outputs": [],
   "source": [
    "a = tree.get_children()[0]\n",
    "b = a.get_children()[0]\n",
    "c = b.get_children()[0]\n",
    "d = c.get_children()[0]\n",
    "a, b, c, d"
   ]
  },
  {
   "cell_type": "code",
   "execution_count": null,
   "metadata": {},
   "outputs": [],
   "source": [
    "def df_cells(pop):\n",
    "    times = list(map(lambda x: x.appear_time, pop.values()))\n",
    "    div_times = list(map(lambda x: x.division_time, pop.values()))\n",
    "    types = list(map(lambda x: x.type().name, pop.values()))\n",
    "    index = list(map(lambda x: x.index, pop.values()))\n",
    "    parent = list(map(lambda x: x.parent, pop.values()))\n",
    "    child1 = list(map(lambda x: (x.children + [None]*2)[0], pop.values()))\n",
    "    child2 = list(map(lambda x: (x.children + [None]*2)[1], pop.values()))\n",
    "    Tc = list(map(lambda x: np.float64(x.Tc) * 24, pop.values()))\n",
    "    df = pd.DataFrame({\"cell\": index, \"appear_time\": times, \"division_time\": div_times,\n",
    "                       \"type\": types, \"parent\": parent,\n",
    "                       \"D1\": child1, \"D2\": child2, \"Tc\": Tc}\n",
    "                     )\n",
    "    return df\n",
    "\n",
    "df = df_cells(bb.population)\n",
    "df.head(20)"
   ]
  },
  {
   "cell_type": "code",
   "execution_count": null,
   "metadata": {},
   "outputs": [],
   "source": [
    "df[df[\"Tc\"] > 1000].head(20)"
   ]
  },
  {
   "cell_type": "code",
   "execution_count": null,
   "metadata": {},
   "outputs": [],
   "source": [
    "df[\"Tc\"].hist()"
   ]
  },
  {
   "cell_type": "code",
   "execution_count": null,
   "metadata": {},
   "outputs": [],
   "source": [
    "tmp_df = pd.merge(df, df, how='inner', left_on=\"D1\", right_on=\"cell\", suffixes=('_M', '_D1'))\n",
    "full_df = pd.merge(tmp_df, df.rename(columns=lambda x: x + \"_D2\"), how='inner', left_on=\"D2_M\",\n",
    "                   right_on=\"cell_D2\", suffixes=('_M', '_D2'))\n",
    "full_df[\"group\"] = 2 + 1 * (full_df[\"appear_time_M\"] > 75)\n",
    "full_df"
   ]
  },
  {
   "cell_type": "code",
   "execution_count": null,
   "metadata": {},
   "outputs": [],
   "source": [
    "full_df[\"Tc_D2\"].hist()"
   ]
  },
  {
   "cell_type": "code",
   "execution_count": null,
   "metadata": {},
   "outputs": [],
   "source": [
    "full_df[[\"Tc_M\", \"Tc_D1\", \"Tc_D2\"]].head(5)"
   ]
  },
  {
   "cell_type": "code",
   "execution_count": null,
   "metadata": {},
   "outputs": [],
   "source": [
    "df_no_gp = full_df[full_df_df[\"\"]]"
   ]
  },
  {
   "cell_type": "code",
   "execution_count": null,
   "metadata": {},
   "outputs": [],
   "source": [
    "key1 = \"Tc_M\"\n",
    "key2 = \"Tc_D1\"\n",
    "filt = full_df[\"group\"] == 3\n",
    "cur_df = full_df.loc[full_df[key1].notnull() & full_df[key2].notnull() & filt, :]\n",
    "stats.pearsonr(cur_df[key1], cur_df[key2])"
   ]
  },
  {
   "cell_type": "code",
   "execution_count": null,
   "metadata": {},
   "outputs": [],
   "source": [
    "key1 = \"Tc_D1\"\n",
    "key2 = \"Tc_D2\"\n",
    "filt = full_df[\"group\"] == 3\n",
    "cur_df = full_df.loc[full_df[key1].notnull() & full_df[key2].notnull() & filt, :]\n",
    "(cur_df[key1] / cur_df[key2]).describe()"
   ]
  },
  {
   "cell_type": "code",
   "execution_count": null,
   "metadata": {},
   "outputs": [],
   "source": [
    "plt.figure(figsize=(12, 8))\n",
    "plt.scatter(full_df[\"appear_time_M\"], full_df[\"Tc_M\"], alpha=0.5, linewidths=1)\n",
    "plt.figure(figsize=(12, 8))\n",
    "no_gp = (full_df[\"type_D1\"] != \"GP\") & (full_df[\"type_D2\"] != \"GP\")\n",
    "plt.scatter(full_df[\"Tc_D1\"][no_gp], full_df[\"Tc_M\"][no_gp], alpha=0.5, linewidths=1)\n",
    "plt.scatter(full_df[\"Tc_D1\"][no_gp], full_df[\"Tc_D2\"][no_gp], alpha=0.5, linewidths=1)"
   ]
  },
  {
   "cell_type": "markdown",
   "metadata": {},
   "source": [
    "## Fate_cor"
   ]
  },
  {
   "cell_type": "code",
   "execution_count": null,
   "metadata": {},
   "outputs": [],
   "source": [
    "prog_df = full_df.copy()\n",
    "no_gp = (full_df[\"type_D1\"] != \"GP\") & (full_df[\"type_D2\"] != \"GP\")\n",
    "filt = prog_df[\"group\"].isin([2, 3]) & no_gp\n",
    "prog_df = prog_df[filt]\n",
    "prog_df[\"prog_D1\"] = prog_df[\"type_D1\"].apply(lambda x: \"Cycling\" if x in [\"IP\", \"RG\"] else \"PM\")\n",
    "prog_df[\"prog_D2\"] = prog_df[\"type_D2\"].apply(lambda x: \"Cycling\" if x in [\"IP\", \"RG\"] else \"PM\")\n",
    "res_fate_cor = prog_df.groupby([\"prog_D1\", \"prog_D2\"]).size()\n",
    "res_fate_cor"
   ]
  },
  {
   "cell_type": "code",
   "execution_count": null,
   "metadata": {},
   "outputs": [],
   "source": [
    "CC, CN, NN = res_fate_cor[0], res_fate_cor[1] + res_fate_cor[2], res_fate_cor[3]\n",
    "T = CC + CN + NN\n",
    "pCC, pCN, pNN = CC / T, CN / T, NN / T\n",
    "print(f\"Values CC:{CC}, CN:{CN}, NN:{NN}\")\n",
    "print(f\"Obs Prop CC:{pCC}, CN:{pCN}, NN:{pNN}\")\n",
    "all_C, all_N = 2 * CC + CN, 2 * NN + CN\n",
    "pC, pN = all_C / (all_C + all_N), all_N / (all_C + all_N)\n",
    "eCC, eCN, eNN = pC**2, 2*pC*pN, pN**2\n",
    "sum_to_one = eCC + eCN + eNN\n",
    "print(f\"Control : {sum_to_one}\")\n",
    "print(f\"Exp Prop CC:{eCC}, CN:{eCN}, NN:{eNN}\")\n",
    "F_metric = 1 - pCN / eCN\n",
    "print(\"F_metric :\", F_metric)"
   ]
  },
  {
   "cell_type": "markdown",
   "metadata": {},
   "source": [
    "## Relationship of Tc between mother cell and daughter cell"
   ]
  },
  {
   "cell_type": "code",
   "execution_count": null,
   "metadata": {},
   "outputs": [],
   "source": [
    "no_gp = (full_df[\"type_D1\"] != \"GP\") & (full_df[\"type_D2\"] != \"GP\")\n",
    "filt = full_df[\"group\"].isin([2, 3]) & no_gp\n",
    "key1 = \"Tc_M\"\n",
    "key2 = \"Tc_D1\"\n",
    "cur_df = full_df.loc[full_df[key1].notnull() & full_df[key2].notnull() & filt, :]\n",
    "var1 = cur_df[key1] / cur_df[key2]\n",
    "var2 = cur_df[key1] - cur_df[key2]\n",
    "np.mean(var1), np.std(var1), np.mean(var2), np.std(var2)"
   ]
  },
  {
   "cell_type": "markdown",
   "metadata": {},
   "source": [
    "## Cor TC daughter cells"
   ]
  },
  {
   "cell_type": "code",
   "execution_count": null,
   "metadata": {},
   "outputs": [],
   "source": [
    "# group 2\n",
    "no_gp = (full_df[\"type_D1\"] != \"GP\") & (full_df[\"type_D2\"] != \"GP\")\n",
    "filt = full_df[\"group\"].isin([2]) & no_gp\n",
    "key1 = \"Tc_D2\"\n",
    "key2 = \"Tc_D1\"\n",
    "cur_df = full_df.loc[full_df[key1].notnull() & full_df[key2].notnull() & filt, :]\n",
    "stats.pearsonr(cur_df[key1], cur_df[key2])"
   ]
  },
  {
   "cell_type": "code",
   "execution_count": null,
   "metadata": {},
   "outputs": [],
   "source": [
    "# group 3\n",
    "no_gp = (full_df[\"type_D1\"] != \"GP\") & (full_df[\"type_D2\"] != \"GP\")\n",
    "filt = full_df[\"group\"].isin([3]) & no_gp\n",
    "key1 = \"Tc_D2\"\n",
    "key2 = \"Tc_D1\"\n",
    "cur_df = full_df.loc[full_df[key1].notnull() & full_df[key2].notnull() & filt, :]\n",
    "stats.pearsonr(cur_df[key1], cur_df[key2])"
   ]
  },
  {
   "cell_type": "code",
   "execution_count": null,
   "metadata": {},
   "outputs": [],
   "source": [
    "# group 2+3\n",
    "no_gp = (full_df[\"type_D1\"] != \"GP\") & (full_df[\"type_D2\"] != \"GP\")\n",
    "filt = full_df[\"group\"].isin([2, 3]) & no_gp\n",
    "key1 = \"Tc_D2\"\n",
    "key2 = \"Tc_D1\"\n",
    "cur_df = full_df.loc[full_df[key1].notnull() & full_df[key2].notnull() & filt, :]\n",
    "stats.pearsonr(cur_df[key1], cur_df[key2])"
   ]
  },
  {
   "cell_type": "markdown",
   "metadata": {},
   "source": [
    "## Cor TC / output"
   ]
  },
  {
   "cell_type": "code",
   "execution_count": null,
   "metadata": {},
   "outputs": [],
   "source": [
    "# we must calc nb_child_pm"
   ]
  },
  {
   "cell_type": "code",
   "execution_count": null,
   "metadata": {},
   "outputs": [],
   "source": [
    "# group 2\n",
    "prog_df = full_df.copy()\n",
    "no_gp = (full_df[\"type_D1\"] != \"GP\") & (full_df[\"type_D2\"] != \"GP\")\n",
    "filt = prog_df[\"group\"].isin([2]) & no_gp\n",
    "prog_df = prog_df[filt]\n",
    "prog_df[\"prog_D1\"] = prog_df[\"type_D1\"].apply(lambda x: \"Cycling\" if x in [\"IP\", \"RG\"] else \"PM\")\n",
    "prog_df[\"prog_D2\"] = prog_df[\"type_D2\"].apply(lambda x: \"Cycling\" if x in [\"IP\", \"RG\"] else \"PM\")\n",
    "prog_df[\"nb_child_pm\"] = (prog_df[\"prog_D1\"] == \"PM\").astype(int) + (prog_df[\"prog_D2\"] == \"PM\").astype(int)\n",
    "stats.pearsonr(prog_df[\"nb_child_pm\"], prog_df[\"Tc_M\"])"
   ]
  },
  {
   "cell_type": "code",
   "execution_count": null,
   "metadata": {},
   "outputs": [],
   "source": [
    "# group 3\n",
    "prog_df = full_df.copy()\n",
    "no_gp = (full_df[\"type_D1\"] != \"GP\") & (full_df[\"type_D2\"] != \"GP\")\n",
    "filt = prog_df[\"group\"].isin([3]) & no_gp\n",
    "prog_df = prog_df[filt]\n",
    "prog_df[\"prog_D1\"] = prog_df[\"type_D1\"].apply(lambda x: \"Cycling\" if x in [\"IP\", \"RG\"] else \"PM\")\n",
    "prog_df[\"prog_D2\"] = prog_df[\"type_D2\"].apply(lambda x: \"Cycling\" if x in [\"IP\", \"RG\"] else \"PM\")\n",
    "prog_df[\"nb_child_pm\"] = (prog_df[\"prog_D1\"] == \"PM\").astype(int) + (prog_df[\"prog_D2\"] == \"PM\").astype(int)\n",
    "stats.pearsonr(prog_df[\"nb_child_pm\"], prog_df[\"Tc_M\"])"
   ]
  },
  {
   "cell_type": "code",
   "execution_count": null,
   "metadata": {},
   "outputs": [],
   "source": [
    "# group 2+3\n",
    "prog_df = full_df.copy()\n",
    "no_gp = (full_df[\"type_D1\"] != \"GP\") & (full_df[\"type_D2\"] != \"GP\")\n",
    "filt = prog_df[\"group\"].isin([2, 3]) & no_gp\n",
    "prog_df = prog_df[filt]\n",
    "prog_df[\"prog_D1\"] = prog_df[\"type_D1\"].apply(lambda x: \"Cycling\" if x in [\"IP\", \"RG\"] else \"PM\")\n",
    "prog_df[\"prog_D2\"] = prog_df[\"type_D2\"].apply(lambda x: \"Cycling\" if x in [\"IP\", \"RG\"] else \"PM\")\n",
    "prog_df[\"nb_child_pm\"] = (prog_df[\"prog_D1\"] == \"PM\").astype(int) + (prog_df[\"prog_D2\"] == \"PM\").astype(int)\n",
    "stats.pearsonr(prog_df[\"nb_child_pm\"], prog_df[\"Tc_M\"])"
   ]
  },
  {
   "cell_type": "markdown",
   "metadata": {},
   "source": [
    "## Old stuff"
   ]
  },
  {
   "cell_type": "code",
   "execution_count": null,
   "metadata": {},
   "outputs": [],
   "source": [
    "bb.population[134].__dict__"
   ]
  },
  {
   "cell_type": "code",
   "execution_count": null,
   "metadata": {},
   "outputs": [],
   "source": [
    "raise"
   ]
  },
  {
   "cell_type": "markdown",
   "metadata": {},
   "source": [
    "## Experimenting"
   ]
  },
  {
   "cell_type": "code",
   "execution_count": null,
   "metadata": {},
   "outputs": [],
   "source": [
    "def condition_number(obj):\n",
    "    dist = obj.get_final_dist(\"whole_pop_size\")\n",
    "    mu, sigma, N = np.mean(dist), np.std(dist), len(dist)\n",
    "    if N < 3:\n",
    "        return False\n",
    "    CI = stats.norm.interval(0.90, loc=mu, scale=sigma/np.sqrt(N))\n",
    "    _range = CI[1] - CI[0]\n",
    "    \n",
    "    cond = _range < 0.01 * mu  # relative\n",
    "    if cond:\n",
    "        print(_range, 0.01 * mu, np.min(dist), np.max(dist), np.percentile(dist, 10), np.percentile(dist, 90))\n",
    "        \n",
    "    return cond\n",
    "\n",
    "# robustness = 1 / unstability\n",
    "def run_robustness_analysis(coeff=1.1, number=30, seed=0, start_population=5, max_number=200):\n",
    "    results = pd.DataFrame(dict(param=[],\n",
    "                               coeff=[],\n",
    "                               variation_neuron=[],\n",
    "                               neurons_std=[],\n",
    "                               baseline_neuron=[],\n",
    "                               baseline_neuron_std=[],\n",
    "                               unstability_neuron=[],\n",
    "                               robustness_neuron=[],\n",
    "                               variation_ratio=[],\n",
    "                               ratio_std=[],\n",
    "                               baseline_ratio=[],\n",
    "                               baseline_ratio_std=[],\n",
    "                               unstability_ratio=[],\n",
    "                               robustness_ratio=[]))\n",
    "    \n",
    "    # get baselines\n",
    "    print(\"Computing baselines\")\n",
    "    random.seed(seed)\n",
    "    np.random.seed(seed)\n",
    "    # ccls = BiStateModelFactory()\n",
    "    t_ = (\"bistate1\", (), {})\n",
    "    exp = Experiment(time_step=0.5, verbose=False, start_population=start_population,\n",
    "                     cell_cls=t_, max_number=max_number,\n",
    "                     check=False, cls_=Brain)\n",
    "    exp.run_parallel(condition_number)\n",
    "    baseline_neuron = exp.get_final(\"whole_pop_size\")\n",
    "    baseline_neuron_std = exp.get_final_std(\"whole_pop_size\", mean=True)\n",
    "    baseline_ratio = exp.get_final_ratio()\n",
    "    baseline_ratio_std = exp.get_final_ratio_std()\n",
    "    \n",
    "    plt.ioff()\n",
    "    print(\"Starting Robustness experiment\")\n",
    "    for param in [\"tc_coeff_RG\", \"tc_coeff_IP\", \"diff_coeff_RG\", \"diff_coeff_IP\"]:\n",
    "        for t in range(4):\n",
    "            kw = {param: [1. if i != t else coeff for i in range(5)]}\n",
    "            print(f\"{param}_{t} with {kw}\")\n",
    "            ccls = BiStateModelFactory(**kw)\n",
    "            t_ = (\"bistate1\", (), kw)\n",
    "            random.seed(seed)\n",
    "            np.random.seed(seed)\n",
    "            exp = Experiment(time_step=0.5, verbose=False, start_population=start_population,\n",
    "                             cell_cls=t_, number=number, max_number=max_number,\n",
    "                             check=False, cls_=Brain)\n",
    "            exp.run_parallel(condition_number)\n",
    "            \n",
    "            neurons = exp.get_final(\"whole_pop_size\")\n",
    "            print(exp.get_final_dist(\"whole_pop_size\"))\n",
    "            neurons_std = exp.get_final_std(\"whole_pop_size\", mean=True)\n",
    "            print(neurons_std)\n",
    "            ratio = exp.get_final_ratio()\n",
    "            ratio_std = exp.get_final_ratio_std()\n",
    "            \n",
    "            unstability_neuron = (neurons - baseline_neuron) / baseline_neuron\n",
    "            unstability_ratio = (ratio - baseline_ratio) / baseline_ratio\n",
    "            \n",
    "            dd = dict(\n",
    "                param=param + \"_\" + str(t),\n",
    "                coeff=coeff,\n",
    "                variation_neuron=neurons - baseline_neuron,\n",
    "                baseline_neuron=baseline_neuron,\n",
    "                baseline_neuron_std=baseline_neuron_std,\n",
    "                neurons_std=neurons_std,\n",
    "                unstability_neuron=unstability_neuron,\n",
    "                robustness_neuron=abs(1 / (1e-6 + unstability_neuron)),\n",
    "                variation_ratio=ratio - baseline_ratio,\n",
    "                ratio_std=ratio_std,\n",
    "                baseline_ratio=baseline_ratio,\n",
    "                baseline_ratio_std=baseline_ratio_std,\n",
    "                unstability_ratio=unstability_ratio,\n",
    "                robustness_ratio=abs(1 / (1e-6 + unstability_ratio)),\n",
    "            )\n",
    "            results = results.append(dd, ignore_index=True)\n",
    "            \n",
    "            # saving figures\n",
    "            exp.show_pop()\n",
    "            plt.savefig(f\"output/stack/population_{param}_{t}.png\")\n",
    "            plt.close()\n",
    "            exp.show_progenitor_pop()\n",
    "            plt.savefig(f\"output/stack/progenitor_{param}_{t}.png\")\n",
    "            plt.close()\n",
    "            exp.show_ratio_IP(ratio_eomes)\n",
    "            plt.savefig(f\"output/stack/ratio_IP_{param}_{t}.png\")\n",
    "            plt.close()\n",
    "\n",
    "    plt.close()\n",
    "    plt.ion()\n",
    "    return results"
   ]
  },
  {
   "cell_type": "code",
   "execution_count": null,
   "metadata": {},
   "outputs": [],
   "source": [
    "# random.seed(0+0)\n",
    "# np.random.seed(0+0)\n",
    "# ccls = BiStateModelFactory(tc_coeff_RG=[1., 1., 1., 1., 1.])\n",
    "# bb = Brain(time_step=0.5, verbose=False, start_population=3, cell_cls=CellBasic, check=False)\n",
    "# bb.run()\n",
    "# raise"
   ]
  },
  {
   "cell_type": "code",
   "execution_count": null,
   "metadata": {
    "scrolled": true
   },
   "outputs": [],
   "source": [
    "results = run_robustness_analysis(number=30, seed=0, start_population=5, max_number=200)\n",
    "results.to_csv(\"output/robustness_rect4.csv\")\n",
    "results.head()"
   ]
  },
  {
   "cell_type": "code",
   "execution_count": null,
   "metadata": {},
   "outputs": [],
   "source": [
    "results"
   ]
  },
  {
   "cell_type": "code",
   "execution_count": null,
   "metadata": {},
   "outputs": [],
   "source": [
    "raise"
   ]
  },
  {
   "cell_type": "code",
   "execution_count": null,
   "metadata": {},
   "outputs": [],
   "source": [
    "results.append(dict(param=0,\n",
    "                   coeff=0,\n",
    "                   variation=0,\n",
    "                   baseline=0,\n",
    "                   unstability=0,\n",
    "                   robustness=0), ignore_index=True)"
   ]
  },
  {
   "cell_type": "code",
   "execution_count": null,
   "metadata": {},
   "outputs": [],
   "source": [
    "plt.figure(figsize=(20, 20))\n",
    "Counter(dict(bb.gpn.G.degree()).values())"
   ]
  },
  {
   "cell_type": "code",
   "execution_count": null,
   "metadata": {},
   "outputs": [],
   "source": [
    "bb.stats"
   ]
  },
  {
   "cell_type": "code",
   "execution_count": null,
   "metadata": {},
   "outputs": [],
   "source": [
    "plt.figure(figsize=(10, 10))\n",
    "p1 = plt.plot(bb.stats.time, bb.stats.progenitor_pop_size, label=\"Progenitor population\")\n",
    "p2 = plt.plot(bb.stats.time, bb.stats.whole_pop_size, label=\"Whole Population\")\n",
    "plt.legend()\n",
    "# plt.legend((p1, p2), (\"Progenitor population\", \"Whole Population\"))"
   ]
  },
  {
   "cell_type": "code",
   "execution_count": null,
   "metadata": {},
   "outputs": [],
   "source": [
    "plt.figure(figsize=(10, 10))\n",
    "plt.plot(bb.stats.time, bb.stats.size_type_RG, label=\"RG number\")\n",
    "plt.plot(bb.stats.time, bb.stats.size_type_IP, label=\"IP number\")\n",
    "plt.legend()"
   ]
  },
  {
   "cell_type": "code",
   "execution_count": null,
   "metadata": {},
   "outputs": [],
   "source": [
    "plt.figure(figsize=(10, 10))\n",
    "plt.plot(bb.stats.time, bb.stats.size_type_IP / (bb.stats.size_type_RG + bb.stats.size_type_IP),\n",
    "         label=\"IP ratio\")\n",
    "plt.plot(ratio_eomes.index, ratio_eomes.val / 100, label=\"Reference IP ratio\")\n",
    "plt.legend()"
   ]
  },
  {
   "cell_type": "code",
   "execution_count": null,
   "metadata": {},
   "outputs": [],
   "source": [
    "raise"
   ]
  }
 ],
 "metadata": {
  "kernelspec": {
   "display_name": "Python 3",
   "language": "python",
   "name": "python3"
  },
  "language_info": {
   "codemirror_mode": {
    "name": "ipython",
    "version": 3
   },
   "file_extension": ".py",
   "mimetype": "text/x-python",
   "name": "python",
   "nbconvert_exporter": "python",
   "pygments_lexer": "ipython3",
   "version": "3.8.10"
  }
 },
 "nbformat": 4,
 "nbformat_minor": 4
}
